{
  "nbformat": 4,
  "nbformat_minor": 0,
  "metadata": {
    "colab": {
      "name": "Elmo contextual embeddings.ipynb",
      "provenance": [],
      "collapsed_sections": [],
      "include_colab_link": true
    },
    "kernelspec": {
      "name": "python3",
      "display_name": "Python 3"
    }
  },
  "cells": [
    {
      "cell_type": "markdown",
      "metadata": {
        "id": "view-in-github",
        "colab_type": "text"
      },
      "source": [
        "<a href=\"https://colab.research.google.com/github/sahandv/science_science/blob/master/Elmo_contextual_embeddings.ipynb\" target=\"_parent\"><img src=\"https://colab.research.google.com/assets/colab-badge.svg\" alt=\"Open In Colab\"/></a>"
      ]
    },
    {
      "cell_type": "markdown",
      "metadata": {
        "id": "ZU3MR71VpovV"
      },
      "source": [
        "# ELMo\n",
        "\n",
        "Note that you will need to use the non-GPU accelerated run-time on this notebook due to the large memory useage of the ELMo model."
      ]
    },
    {
      "cell_type": "markdown",
      "metadata": {
        "id": "-q8JYD36CdYr"
      },
      "source": [
        "## Imports:"
      ]
    },
    {
      "cell_type": "code",
      "metadata": {
        "id": "_Qgy7Jmr5wSx",
        "colab": {
          "base_uri": "https://localhost:8080/"
        },
        "outputId": "3d7a9a0f-5afa-41ca-e813-bb105801c5f7"
      },
      "source": [
        "import os\n",
        "import numpy as np\n",
        "import pandas as pd\n",
        "import tensorflow as tf\n",
        "import tensorflow_hub as hub\n",
        "from sklearn import preprocessing\n",
        "\n",
        "!python -m spacy download en_core_web_md #you will need to install this on first load, then restart the kernel!? \\(oO)/\n",
        "import spacy\n",
        "from spacy.lang.en import English\n",
        "from spacy import displacy\n",
        "nlp = spacy.load('en_core_web_md')\n",
        "from IPython.display import HTML\n",
        "import logging\n",
        "logging.getLogger('tensorflow').disabled = True #OPTIONAL - to disable outputs from Tensorflow"
      ],
      "execution_count": 1,
      "outputs": [
        {
          "output_type": "stream",
          "text": [
            "Requirement already satisfied: en_core_web_md==2.2.5 from https://github.com/explosion/spacy-models/releases/download/en_core_web_md-2.2.5/en_core_web_md-2.2.5.tar.gz#egg=en_core_web_md==2.2.5 in /usr/local/lib/python3.7/dist-packages (2.2.5)\n",
            "Requirement already satisfied: spacy>=2.2.2 in /usr/local/lib/python3.7/dist-packages (from en_core_web_md==2.2.5) (2.2.4)\n",
            "Requirement already satisfied: murmurhash<1.1.0,>=0.28.0 in /usr/local/lib/python3.7/dist-packages (from spacy>=2.2.2->en_core_web_md==2.2.5) (1.0.5)\n",
            "Requirement already satisfied: preshed<3.1.0,>=3.0.2 in /usr/local/lib/python3.7/dist-packages (from spacy>=2.2.2->en_core_web_md==2.2.5) (3.0.5)\n",
            "Requirement already satisfied: blis<0.5.0,>=0.4.0 in /usr/local/lib/python3.7/dist-packages (from spacy>=2.2.2->en_core_web_md==2.2.5) (0.4.1)\n",
            "Requirement already satisfied: setuptools in /usr/local/lib/python3.7/dist-packages (from spacy>=2.2.2->en_core_web_md==2.2.5) (54.2.0)\n",
            "Requirement already satisfied: numpy>=1.15.0 in /usr/local/lib/python3.7/dist-packages (from spacy>=2.2.2->en_core_web_md==2.2.5) (1.19.5)\n",
            "Requirement already satisfied: cymem<2.1.0,>=2.0.2 in /usr/local/lib/python3.7/dist-packages (from spacy>=2.2.2->en_core_web_md==2.2.5) (2.0.5)\n",
            "Requirement already satisfied: srsly<1.1.0,>=1.0.2 in /usr/local/lib/python3.7/dist-packages (from spacy>=2.2.2->en_core_web_md==2.2.5) (1.0.5)\n",
            "Requirement already satisfied: thinc==7.4.0 in /usr/local/lib/python3.7/dist-packages (from spacy>=2.2.2->en_core_web_md==2.2.5) (7.4.0)\n",
            "Requirement already satisfied: plac<1.2.0,>=0.9.6 in /usr/local/lib/python3.7/dist-packages (from spacy>=2.2.2->en_core_web_md==2.2.5) (1.1.3)\n",
            "Requirement already satisfied: wasabi<1.1.0,>=0.4.0 in /usr/local/lib/python3.7/dist-packages (from spacy>=2.2.2->en_core_web_md==2.2.5) (0.8.2)\n",
            "Requirement already satisfied: catalogue<1.1.0,>=0.0.7 in /usr/local/lib/python3.7/dist-packages (from spacy>=2.2.2->en_core_web_md==2.2.5) (1.0.0)\n",
            "Requirement already satisfied: tqdm<5.0.0,>=4.38.0 in /usr/local/lib/python3.7/dist-packages (from spacy>=2.2.2->en_core_web_md==2.2.5) (4.41.1)\n",
            "Requirement already satisfied: requests<3.0.0,>=2.13.0 in /usr/local/lib/python3.7/dist-packages (from spacy>=2.2.2->en_core_web_md==2.2.5) (2.23.0)\n",
            "Requirement already satisfied: importlib-metadata>=0.20; python_version < \"3.8\" in /usr/local/lib/python3.7/dist-packages (from catalogue<1.1.0,>=0.0.7->spacy>=2.2.2->en_core_web_md==2.2.5) (3.10.0)\n",
            "Requirement already satisfied: certifi>=2017.4.17 in /usr/local/lib/python3.7/dist-packages (from requests<3.0.0,>=2.13.0->spacy>=2.2.2->en_core_web_md==2.2.5) (2020.12.5)\n",
            "Requirement already satisfied: urllib3!=1.25.0,!=1.25.1,<1.26,>=1.21.1 in /usr/local/lib/python3.7/dist-packages (from requests<3.0.0,>=2.13.0->spacy>=2.2.2->en_core_web_md==2.2.5) (1.24.3)\n",
            "Requirement already satisfied: chardet<4,>=3.0.2 in /usr/local/lib/python3.7/dist-packages (from requests<3.0.0,>=2.13.0->spacy>=2.2.2->en_core_web_md==2.2.5) (3.0.4)\n",
            "Requirement already satisfied: idna<3,>=2.5 in /usr/local/lib/python3.7/dist-packages (from requests<3.0.0,>=2.13.0->spacy>=2.2.2->en_core_web_md==2.2.5) (2.10)\n",
            "Requirement already satisfied: typing-extensions>=3.6.4; python_version < \"3.8\" in /usr/local/lib/python3.7/dist-packages (from importlib-metadata>=0.20; python_version < \"3.8\"->catalogue<1.1.0,>=0.0.7->spacy>=2.2.2->en_core_web_md==2.2.5) (3.7.4.3)\n",
            "Requirement already satisfied: zipp>=0.5 in /usr/local/lib/python3.7/dist-packages (from importlib-metadata>=0.20; python_version < \"3.8\"->catalogue<1.1.0,>=0.0.7->spacy>=2.2.2->en_core_web_md==2.2.5) (3.4.1)\n",
            "\u001b[38;5;2m✔ Download and installation successful\u001b[0m\n",
            "You can now load the model via spacy.load('en_core_web_md')\n"
          ],
          "name": "stdout"
        }
      ]
    },
    {
      "cell_type": "markdown",
      "metadata": {
        "id": "WMknjdZpCgR0"
      },
      "source": [
        "## Get the data \n",
        "\n",
        "The below downloads a Pandas Dataframe which is publically hosted on Google Drive (this should therefore work for anyone)"
      ]
    },
    {
      "cell_type": "code",
      "metadata": {
        "id": "7_Oy1nXa6dLi"
      },
      "source": [
        "import requests\n",
        "\n",
        "def download_file_from_google_drive(id, destination):\n",
        "    URL = \"https://docs.google.com/uc?export=download\"\n",
        "\n",
        "    session = requests.Session()\n",
        "\n",
        "    response = session.get(URL, params = { 'id' : id }, stream = True)\n",
        "    token = get_confirm_token(response)\n",
        "\n",
        "    if token:\n",
        "        params = { 'id' : id, 'confirm' : token }\n",
        "        response = session.get(URL, params = params, stream = True)\n",
        "\n",
        "    save_response_content(response, destination)    \n",
        "\n",
        "def get_confirm_token(response):\n",
        "    for key, value in response.cookies.items():\n",
        "        if key.startswith('download_warning'):\n",
        "            return value\n",
        "\n",
        "    return None\n",
        "\n",
        "def save_response_content(response, destination):\n",
        "    CHUNK_SIZE = 32768\n",
        "\n",
        "    with open(destination, \"wb\") as f:\n",
        "        for chunk in response.iter_content(CHUNK_SIZE):\n",
        "            if chunk: # filter out keep-alive new chunks\n",
        "                f.write(chunk)\n",
        "\n",
        "\n",
        "file_id = '1M_XljfV5t_nGjvhyfTPO9n2nfOweMwYx'\n",
        "destination = 'temp'\n",
        "download_file_from_google_drive(file_id, destination)\n",
        "\n",
        "combined = pd.read_pickle('temp')\n",
        "\n",
        "combined.head()"
      ],
      "execution_count": null,
      "outputs": []
    },
    {
      "cell_type": "code",
      "metadata": {
        "id": "psEkulG3t7I_",
        "outputId": "fb49b358-500d-4cbc-e583-a7bb03405574",
        "colab": {
          "base_uri": "https://localhost:8080/"
        }
      },
      "source": [
        "f = open(\"temp\", \"r\")\n",
        "print(f.read())"
      ],
      "execution_count": 13,
      "outputs": [
        {
          "output_type": "stream",
          "text": [
            "<HTML>\n",
            "<HEAD>\n",
            "<TITLE>Not Found</TITLE>\n",
            "</HEAD>\n",
            "<BODY BGCOLOR=\"#FFFFFF\" TEXT=\"#000000\">\n",
            "<H1>Not Found</H1>\n",
            "<H2>Error 404</H2>\n",
            "</BODY>\n",
            "</HTML>\n",
            "\n"
          ],
          "name": "stdout"
        }
      ]
    },
    {
      "cell_type": "markdown",
      "metadata": {
        "id": "FxkL4RXwVToa"
      },
      "source": [
        "## Create sentence embeddings"
      ]
    },
    {
      "cell_type": "code",
      "metadata": {
        "id": "UIhHrFsmOC6C",
        "colab": {
          "base_uri": "https://localhost:8080/",
          "height": 85
        },
        "outputId": "def18b3d-32b7-4ee0-8a46-1679c178cde2"
      },
      "source": [
        "url = \"https://tfhub.dev/google/elmo/3\"\n",
        "embed = hub.Module(url)"
      ],
      "execution_count": null,
      "outputs": [
        {
          "output_type": "stream",
          "text": [
            "INFO:tensorflow:Using /tmp/tfhub_modules to cache modules.\n",
            "INFO:tensorflow:Downloading TF-Hub Module 'https://tfhub.dev/google/elmo/2'.\n",
            "INFO:tensorflow:Downloaded https://tfhub.dev/google/elmo/2, Total size: 357.40MB\n",
            "INFO:tensorflow:Downloaded TF-Hub Module 'https://tfhub.dev/google/elmo/2'.\n"
          ],
          "name": "stdout"
        }
      ]
    },
    {
      "cell_type": "code",
      "metadata": {
        "id": "Df76NYQcnQ3W",
        "colab": {
          "base_uri": "https://localhost:8080/",
          "height": 196
        },
        "outputId": "c466b847-75c3-4c90-d07b-ae22fa7e1fc8"
      },
      "source": [
        "combined.loc[combined.Company.str.contains(\"Asos\")]"
      ],
      "execution_count": null,
      "outputs": [
        {
          "output_type": "execute_result",
          "data": {
            "text/html": [
              "<div>\n",
              "<style scoped>\n",
              "    .dataframe tbody tr th:only-of-type {\n",
              "        vertical-align: middle;\n",
              "    }\n",
              "\n",
              "    .dataframe tbody tr th {\n",
              "        vertical-align: top;\n",
              "    }\n",
              "\n",
              "    .dataframe thead th {\n",
              "        text-align: right;\n",
              "    }\n",
              "</style>\n",
              "<table border=\"1\" class=\"dataframe\">\n",
              "  <thead>\n",
              "    <tr style=\"text-align: right;\">\n",
              "      <th></th>\n",
              "      <th>Company</th>\n",
              "      <th>URL</th>\n",
              "      <th>Industry</th>\n",
              "      <th>HQ</th>\n",
              "      <th>Also Covers Companies</th>\n",
              "      <th>UK Modern Slavery Act</th>\n",
              "      <th>California Transparency in Supply Chains Act</th>\n",
              "      <th>Period Covered</th>\n",
              "      <th>text</th>\n",
              "      <th>pdf</th>\n",
              "      <th>error</th>\n",
              "      <th>FT_tfidf</th>\n",
              "    </tr>\n",
              "  </thead>\n",
              "  <tbody>\n",
              "    <tr>\n",
              "      <th>494</th>\n",
              "      <td>Asos plc</td>\n",
              "      <td>https://www.asosplc.com/~/media/Files/A/Asos-V...</td>\n",
              "      <td>Internet &amp; Direct Marketing Retail</td>\n",
              "      <td>United Kingdom</td>\n",
              "      <td>NaN</td>\n",
              "      <td>True</td>\n",
              "      <td>False</td>\n",
              "      <td>2016-2018</td>\n",
              "      <td>\\n\\n\\n\\n\\n\\n\\n\\n\\n\\n\\n\\n\\n\\n\\n\\n\\n\\n\\n\\n\\n\\n\\n...</td>\n",
              "      <td>1</td>\n",
              "      <td>0</td>\n",
              "      <td>[-0.8573993510860287, 0.11926992131730585, -0....</td>\n",
              "    </tr>\n",
              "    <tr>\n",
              "      <th>495</th>\n",
              "      <td>Asos plc</td>\n",
              "      <td>https://www.asosplc.com/~/media/Files/A/ASOS/r...</td>\n",
              "      <td>Internet &amp; Direct Marketing Retail</td>\n",
              "      <td>United Kingdom</td>\n",
              "      <td>NaN</td>\n",
              "      <td>True</td>\n",
              "      <td>False</td>\n",
              "      <td>2015-2016</td>\n",
              "      <td>\\n\\n\\n\\n\\n\\n\\n\\n\\n\\n\\n\\n\\n\\n\\n\\n\\n\\n\\n\\n\\n\\n\\n...</td>\n",
              "      <td>1</td>\n",
              "      <td>0</td>\n",
              "      <td>[-0.6513810935113411, 0.04600498146602333, 0.0...</td>\n",
              "    </tr>\n",
              "  </tbody>\n",
              "</table>\n",
              "</div>"
            ],
            "text/plain": [
              "      Company                                                URL  \\\n",
              "494  Asos plc  https://www.asosplc.com/~/media/Files/A/Asos-V...   \n",
              "495  Asos plc  https://www.asosplc.com/~/media/Files/A/ASOS/r...   \n",
              "\n",
              "                               Industry              HQ Also Covers Companies  \\\n",
              "494  Internet & Direct Marketing Retail  United Kingdom                   NaN   \n",
              "495  Internet & Direct Marketing Retail  United Kingdom                   NaN   \n",
              "\n",
              "     UK Modern Slavery Act  California Transparency in Supply Chains Act  \\\n",
              "494                   True                                         False   \n",
              "495                   True                                         False   \n",
              "\n",
              "    Period Covered                                               text  pdf  \\\n",
              "494      2016-2018  \\n\\n\\n\\n\\n\\n\\n\\n\\n\\n\\n\\n\\n\\n\\n\\n\\n\\n\\n\\n\\n\\n\\n...    1   \n",
              "495      2015-2016  \\n\\n\\n\\n\\n\\n\\n\\n\\n\\n\\n\\n\\n\\n\\n\\n\\n\\n\\n\\n\\n\\n\\n...    1   \n",
              "\n",
              "     error                                           FT_tfidf  \n",
              "494      0  [-0.8573993510860287, 0.11926992131730585, -0....  \n",
              "495      0  [-0.6513810935113411, 0.04600498146602333, 0.0...  "
            ]
          },
          "metadata": {
            "tags": []
          },
          "execution_count": 5
        }
      ]
    },
    {
      "cell_type": "code",
      "metadata": {
        "id": "AU_MS6MXVe_L",
        "colab": {
          "base_uri": "https://localhost:8080/",
          "height": 34
        },
        "outputId": "6f2d156d-67a8-4f76-e6c6-b967d4381c0a"
      },
      "source": [
        "text = combined.iloc[494].text\n",
        "import re\n",
        "\n",
        "text = text.lower().replace('\\n', ' ').replace('\\t', ' ').replace('\\xa0',' ')\n",
        "text = ' '.join(text.split())\n",
        "doc = nlp(text)\n",
        "\n",
        "sentences = []\n",
        "for i in doc.sents:\n",
        "  if len(i)>1:\n",
        "    sentences.append(i.string.strip())\n",
        "    \n",
        "len(sentences)"
      ],
      "execution_count": null,
      "outputs": [
        {
          "output_type": "execute_result",
          "data": {
            "text/plain": [
              "389"
            ]
          },
          "metadata": {
            "tags": []
          },
          "execution_count": 6
        }
      ]
    },
    {
      "cell_type": "code",
      "metadata": {
        "id": "SjGbrUhapvXE",
        "colab": {
          "base_uri": "https://localhost:8080/",
          "height": 207
        },
        "outputId": "5d39d798-cc39-402a-b836-c87a764d4e1a"
      },
      "source": [
        "sentences[0:10]"
      ],
      "execution_count": null,
      "outputs": [
        {
          "output_type": "execute_result",
          "data": {
            "text/plain": [
              "['modern slavery statement september 2016 - march 2018',\n",
              " 'facts & figures - 31 august 2017 slavery, servitude, forced labour, bonded labour, and human trafficking are issues of increasing global concern, affecting all sectors, regions and economies.',\n",
              " 'modern slavery is fundamentally unacceptable within our business and supply chain, and combatting it is an important element of our overall approach to business and human rights.',\n",
              " 'asos is committed to respecting, protecting and championing the human rights of all those who come into contact with our operations, including employees, supply chain workers, customers and local communities.',\n",
              " 'we accept our responsibility to support transparency; to find and resolve problems, to regularly review our business practices, and to collaborate with others to protect the rights of workers, particularly those who are most vulnerable to abuses such as modern slavery.',\n",
              " 'this statement has been published in accordance with the modern slavery act (2015).',\n",
              " 'it provides an update on our activities and commitments detailed in our modern slavery statement 2015/16 to prevent modern slavery in our business operations and supply chains, and sets out the steps taken by asos plc during financial year ending 31 august 2017 and the intervening time to publication.',\n",
              " 'it also outlines our commitments towards mitigating the risk of modern slavery in our supply chains for the next year and to 2020.',\n",
              " 'asos is a multi-platform online shopping destination selling womenswear, menswear, footwear, accessories, gifts and beauty products via our website to millions of young, fashion-loving ’20-somethings’ in 240 countries and territories.',\n",
              " 'about asos business structure asos is based in the uk, with a head office in london, a smaller technology office in birmingham and a customer care centre in leavesden.']"
            ]
          },
          "metadata": {
            "tags": []
          },
          "execution_count": 7
        }
      ]
    },
    {
      "cell_type": "code",
      "metadata": {
        "id": "HsGkzCltOMOl",
        "colab": {
          "base_uri": "https://localhost:8080/",
          "height": 51
        },
        "outputId": "8c4dfea2-0b4d-4ad2-cc73-b7c6aab18030"
      },
      "source": [
        "embeddings = embed(\n",
        "    sentences,\n",
        "    signature=\"default\",\n",
        "    as_dict=True)[\"default\"]"
      ],
      "execution_count": null,
      "outputs": [
        {
          "output_type": "stream",
          "text": [
            "INFO:tensorflow:Saver not created because there are no variables in the graph to restore\n",
            "INFO:tensorflow:Saver not created because there are no variables in the graph to restore\n"
          ],
          "name": "stdout"
        }
      ]
    },
    {
      "cell_type": "code",
      "metadata": {
        "id": "oA6BO4a_Oswf",
        "colab": {
          "base_uri": "https://localhost:8080/",
          "height": 51
        },
        "outputId": "13433258-113e-433e-94a2-b61cb44caf13"
      },
      "source": [
        "%%time\n",
        "with tf.Session() as sess:\n",
        "  sess.run(tf.global_variables_initializer())\n",
        "  sess.run(tf.tables_initializer())\n",
        "  x = sess.run(embeddings)"
      ],
      "execution_count": null,
      "outputs": [
        {
          "output_type": "stream",
          "text": [
            "CPU times: user 3min 22s, sys: 16.7 s, total: 3min 39s\n",
            "Wall time: 1min 53s\n"
          ],
          "name": "stdout"
        }
      ]
    },
    {
      "cell_type": "markdown",
      "metadata": {
        "id": "Qwlt2Husrtzo"
      },
      "source": [
        "## Visualize the sentences using PCA and TSNE"
      ]
    },
    {
      "cell_type": "code",
      "metadata": {
        "id": "xAGj0yJyUD3W"
      },
      "source": [
        "from sklearn.decomposition import PCA\n",
        "\n",
        "pca = PCA(n_components=50)\n",
        "y = pca.fit_transform(x)\n",
        "\n",
        "from sklearn.manifold import TSNE\n",
        "\n",
        "y = TSNE(n_components=2).fit_transform(y)"
      ],
      "execution_count": null,
      "outputs": []
    },
    {
      "cell_type": "code",
      "metadata": {
        "id": "KGUyrjcMfdJp",
        "colab": {
          "base_uri": "https://localhost:8080/",
          "height": 17
        },
        "outputId": "d71380cd-1775-47fb-95af-ac5d0711a505"
      },
      "source": [
        "import plotly.plotly as py\n",
        "import plotly.graph_objs as go\n",
        "from plotly.offline import download_plotlyjs, init_notebook_mode, plot, iplot\n",
        "\n",
        "init_notebook_mode(connected=True)\n",
        "\n",
        "\n",
        "data = [\n",
        "    go.Scatter(\n",
        "        x=[i[0] for i in y],\n",
        "        y=[i[1] for i in y],\n",
        "        mode='markers',\n",
        "        text=[i for i in sentences],\n",
        "    marker=dict(\n",
        "        size=16,\n",
        "        color = [len(i) for i in sentences], #set color equal to a variable\n",
        "        opacity= 0.8,\n",
        "        colorscale='Viridis',\n",
        "        showscale=False\n",
        "    )\n",
        "    )\n",
        "]\n",
        "layout = go.Layout()\n",
        "layout = dict(\n",
        "              yaxis = dict(zeroline = False),\n",
        "              xaxis = dict(zeroline = False)\n",
        "             )\n",
        "fig = go.Figure(data=data, layout=layout)\n",
        "file = plot(fig, filename='Sentence encode.html')\n",
        "\n",
        "from google.colab import files\n",
        "files.download('Sentence encode.html') "
      ],
      "execution_count": null,
      "outputs": [
        {
          "output_type": "display_data",
          "data": {
            "text/html": [
              "<script>requirejs.config({paths: { 'plotly': ['https://cdn.plot.ly/plotly-latest.min']},});if(!window.Plotly) {{require(['plotly'],function(plotly) {window.Plotly=plotly;});}}</script>"
            ],
            "text/plain": [
              "<IPython.core.display.HTML object>"
            ]
          },
          "metadata": {
            "tags": []
          }
        }
      ]
    },
    {
      "cell_type": "markdown",
      "metadata": {
        "id": "eAu1zHOjrzzj"
      },
      "source": [
        "## Create a semantic search engine:"
      ]
    },
    {
      "cell_type": "code",
      "metadata": {
        "id": "HfgIfOxXQ8ba",
        "cellView": "form",
        "colab": {
          "base_uri": "https://localhost:8080/",
          "height": 183
        },
        "outputId": "0fb88e52-c62a-4b4e-9b63-ad3a276e492f"
      },
      "source": [
        "#@title Sementic search\n",
        "#@markdown Enter a set of words to find matching sentences. 'results_returned' can beused to modify the number of matching sentences retured. To view the code behind this cell, use the menu in the top right to unhide...\n",
        "search_string = \"code of ethics\" #@param {type:\"string\"}\n",
        "results_returned = \"3\" #@param [1, 2, 3]\n",
        "\n",
        "from sklearn.metrics.pairwise import cosine_similarity\n",
        "\n",
        "\n",
        "embeddings2 = embed(\n",
        "    [search_string],\n",
        "    signature=\"default\",\n",
        "    as_dict=True)[\"default\"]\n",
        "\n",
        "with tf.Session() as sess:\n",
        "  sess.run(tf.global_variables_initializer())\n",
        "  sess.run(tf.tables_initializer())\n",
        "  search_vect = sess.run(embeddings2)\n",
        "  \n",
        "\n",
        "cosine_similarities = pd.Series(cosine_similarity(search_vect, x).flatten())\n",
        "output =\"\"\n",
        "for i,j in cosine_similarities.nlargest(int(results_returned)).iteritems():\n",
        "  output +='<p style=\"font-family:verdana; font-size:110%;\"> '\n",
        "  for i in sentences[i].split():\n",
        "    if i.lower() in search_string:\n",
        "      output += \" <b>\"+str(i)+\"</b>\"\n",
        "    else:\n",
        "      output += \" \"+str(i)\n",
        "  output += \"</p><hr>\"\n",
        "    \n",
        "output = '<h3>Results:</h3>'+output\n",
        "display(HTML(output))\n",
        "#   print(sentences[i])\n",
        "#   print('\\n')\n"
      ],
      "execution_count": null,
      "outputs": [
        {
          "output_type": "display_data",
          "data": {
            "text/html": [
              "<h3>Results:</h3><p style=\"font-family:verdana; font-size:110%;\">  other documents relevant to preventing modern slavery in asos’ operations include: do the right thing - asos <b>code</b> <b>of</b> integrity, people handbook, diversity and inclusion statement, whistle-blowing policy, grievance procedure, appeals policy, anti-bribery statement and unapproved subcontracting policy.</p><hr><p style=\"font-family:verdana; font-size:110%;\">  our ethical trade standards supporting action on modern slavery are set out in these policies: • asos supplier ethical code: based on the ethical trading initiative base <b>code</b> and international labour organisation</p><hr><p style=\"font-family:verdana; font-size:110%;\">  an ethical trade policy or an ethical <b>code</b> <b>of</b> conduct for suppliers 2. evidence <b>of</b> supply chain transparency to tier one 3.</p><hr>"
            ],
            "text/plain": [
              "<IPython.core.display.HTML object>"
            ]
          },
          "metadata": {
            "tags": []
          }
        }
      ]
    }
  ]
}