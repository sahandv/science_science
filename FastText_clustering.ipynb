{
 "cells": [
  {
   "cell_type": "markdown",
   "metadata": {
    "colab_type": "text",
    "id": "view-in-github"
   },
   "source": [
    "<a href=\"https://colab.research.google.com/github/sahandv/science_science/blob/master/FastText_clustering.ipynb\" target=\"_parent\"><img src=\"https://colab.research.google.com/assets/colab-badge.svg\" alt=\"Open In Colab\"/></a>"
   ]
  },
  {
   "cell_type": "markdown",
   "metadata": {
    "colab_type": "text",
    "id": "7DsGlPjcug5a"
   },
   "source": [
    "# FASTTEXT CLUSTERING\n",
    "\n"
   ]
  },
  {
   "cell_type": "markdown",
   "metadata": {
    "colab_type": "text",
    "id": "32w9QFw8UNgx"
   },
   "source": [
    "## Initialize"
   ]
  },
  {
   "cell_type": "code",
   "execution_count": 1,
   "metadata": {},
   "outputs": [
    {
     "name": "stdout",
     "output_type": "stream",
     "text": [
      "tf-n\n"
     ]
    }
   ],
   "source": [
    "import os\n",
    "print(os.environ['CONDA_DEFAULT_ENV'])"
   ]
  },
  {
   "cell_type": "markdown",
   "metadata": {
    "colab_type": "text",
    "id": "jf2eUIOPOBzn"
   },
   "source": [
    "Local OR Colab ?"
   ]
  },
  {
   "cell_type": "code",
   "execution_count": 2,
   "metadata": {
    "colab": {},
    "colab_type": "code",
    "id": "M8N-lszvOBzo"
   },
   "outputs": [],
   "source": [
    "# datapath = '/mnt/6016589416586D52/Users/z5204044/GoogleDrive/GoogleDrive/Data/' # Local\n",
    "datapath = '/mnt/16A4A9BCA4A99EAD/GoogleDrive/Data/' # Local\n",
    "# datapath = 'drive/My Drive/Data/' # Remote"
   ]
  },
  {
   "cell_type": "markdown",
   "metadata": {
    "colab_type": "text",
    "id": "ljzjoEyD3bYD"
   },
   "source": [
    "### Clone Project Git Repo"
   ]
  },
  {
   "cell_type": "code",
   "execution_count": null,
   "metadata": {
    "colab": {
     "base_uri": "https://localhost:8080/",
     "height": 153
    },
    "colab_type": "code",
    "id": "r8SdxRGf3a0x",
    "outputId": "aca1300d-6bbb-4a24-fb76-0052be7c7852"
   },
   "outputs": [],
   "source": [
    "!rm -rf 'science_science'\n",
    "username = \"sahandv\"#@param {type:\"string\"}\n",
    "# password = \"\"#@param {type:\"string\"} \n",
    "\n",
    "!git clone https://github.com/$username/science_science.git\n",
    "!ls"
   ]
  },
  {
   "cell_type": "markdown",
   "metadata": {
    "colab_type": "text",
    "id": "HD8c6Or13dtv"
   },
   "source": [
    "### Mount Google Drive\n"
   ]
  },
  {
   "cell_type": "code",
   "execution_count": null,
   "metadata": {
    "colab": {
     "base_uri": "https://localhost:8080/",
     "height": 34
    },
    "colab_type": "code",
    "id": "nULtHthH3gD_",
    "outputId": "19d3530e-37fa-444a-f790-d727d4aba61e"
   },
   "outputs": [],
   "source": [
    "from google.colab import drive\n",
    "drive.mount('/content/drive/')"
   ]
  },
  {
   "cell_type": "markdown",
   "metadata": {
    "colab_type": "text",
    "id": "CNNt3ipo3jcj"
   },
   "source": [
    "### Install requirements"
   ]
  },
  {
   "cell_type": "code",
   "execution_count": null,
   "metadata": {
    "colab": {
     "base_uri": "https://localhost:8080/",
     "height": 1000
    },
    "colab_type": "code",
    "id": "bfJbt-ZY3lPU",
    "outputId": "ed87cd6e-52af-4191-f136-bad1bb25972e"
   },
   "outputs": [],
   "source": [
    "!pip install -r 'science_science/requirements.txt'"
   ]
  },
  {
   "cell_type": "code",
   "execution_count": null,
   "metadata": {
    "colab": {
     "base_uri": "https://localhost:8080/",
     "height": 326
    },
    "colab_type": "code",
    "id": "OceD23EmDRed",
    "outputId": "331b55ef-9c4b-4f9c-ec21-f0f75ab47a36"
   },
   "outputs": [],
   "source": [
    "! pip install gensim==3.8.1"
   ]
  },
  {
   "cell_type": "markdown",
   "metadata": {
    "colab_type": "text",
    "id": "TI9uR66quitf"
   },
   "source": [
    "### Import Libs"
   ]
  },
  {
   "cell_type": "code",
   "execution_count": 3,
   "metadata": {
    "colab": {
     "base_uri": "https://localhost:8080/",
     "height": 173
    },
    "colab_type": "code",
    "id": "NAvF8UcHui1K",
    "outputId": "b9bf6256-5bb1-4426-a66d-4506f2b593e4"
   },
   "outputs": [
    {
     "name": "stderr",
     "output_type": "stream",
     "text": [
      "[nltk_data] Downloading package stopwords to /home/sahand/nltk_data...\n",
      "[nltk_data]   Package stopwords is already up-to-date!\n",
      "[nltk_data] Downloading package punkt to /home/sahand/nltk_data...\n",
      "[nltk_data]   Package punkt is already up-to-date!\n",
      "[nltk_data] Downloading package wordnet to /home/sahand/nltk_data...\n",
      "[nltk_data]   Package wordnet is already up-to-date!\n",
      "/home/sahand/anaconda3/envs/tf-n/lib/python3.8/site-packages/tqdm/std.py:670: FutureWarning: The Panel class is removed from pandas. Accessing it from the top-level namespace will also be removed in the next version\n",
      "  from pandas import Panel\n"
     ]
    }
   ],
   "source": [
    "import sys\n",
    "import time\n",
    "import gc\n",
    "import collections\n",
    "import json\n",
    "import re\n",
    "import os\n",
    "import pprint\n",
    "from random import random\n",
    "import numpy as np\n",
    "import pandas as pd\n",
    "from tqdm import tqdm\n",
    "import matplotlib.pyplot as plt\n",
    "from sklearn.decomposition import PCA\n",
    "from sklearn.cluster import AgglomerativeClustering, KMeans, SpectralClustering, AffinityPropagation\n",
    "from sklearn.metrics import silhouette_samples, silhouette_score\n",
    "from sklearn.feature_extraction.text import TfidfVectorizer\n",
    "from sklearn.manifold import TSNE\n",
    "from wordcloud import WordCloud, STOPWORDS, ImageColorGenerator\n",
    "from yellowbrick.cluster import KElbowVisualizer\n",
    "import scipy.cluster.hierarchy as sch\n",
    "from scipy import spatial,sparse,sign\n",
    "from sklearn.feature_extraction.text import TfidfTransformer , TfidfVectorizer\n",
    "from sklearn.feature_extraction.text import CountVectorizer\n",
    "from sklearn import preprocessing\n",
    "from bokeh.io import push_notebook, show, output_notebook, output_file\n",
    "from bokeh.plotting import figure\n",
    "from bokeh.models import ColumnDataSource, LabelSet\n",
    "from gensim.models import FastText as fasttext_gensim\n",
    "from gensim.test.utils import get_tmpfile\n",
    "\n",
    "import nltk\n",
    "from nltk.corpus import stopwords\n",
    "from sklearn.feature_extraction.text import CountVectorizer\n",
    "nltk.download('stopwords')\n",
    "nltk.download('punkt')\n",
    "nltk.download('wordnet')\n",
    "stop_words = set(stopwords.words(\"english\"))\n",
    "tqdm.pandas()\n",
    "\n",
    "# from science_science.sciosci.assets import text_assets as kw\n",
    "# from science_science.sciosci.assets import generic_assets as sci\n",
    "# from science_science.sciosci.assets import advanced_assets as aa\n",
    "\n",
    "from sciosci.assets import text_assets as kw\n",
    "from sciosci.assets import generic_assets as sci\n",
    "from sciosci.assets import advanced_assets as aa"
   ]
  },
  {
   "cell_type": "markdown",
   "metadata": {
    "colab_type": "text",
    "id": "XsARoc-hTPfP"
   },
   "source": [
    "## Load and Prepare Embeddings"
   ]
  },
  {
   "cell_type": "markdown",
   "metadata": {
    "colab_type": "text",
    "id": "y9bqFgBOuwdl"
   },
   "source": [
    "#### Option A -  Load Corpus Vector Data"
   ]
  },
  {
   "cell_type": "code",
   "execution_count": null,
   "metadata": {
    "colab": {},
    "colab_type": "code",
    "id": "UHBSgYtTuwky"
   },
   "outputs": [],
   "source": [
    "file_address = datapath+'Corpus/improved_copyr_lemmatized_stopword_removed_thesaurus/FastText vector 1990-2018.json'\n",
    "with open(file_address) as f:\n",
    "    vectors = json.loads(f.read())"
   ]
  },
  {
   "cell_type": "markdown",
   "metadata": {
    "colab_type": "text",
    "id": "eOdBBG5f8Ljg"
   },
   "source": [
    "#### Option B - Load Document Vectors and Main Data"
   ]
  },
  {
   "cell_type": "code",
   "execution_count": null,
   "metadata": {
    "colab": {
     "base_uri": "https://localhost:8080/",
     "height": 71
    },
    "colab_type": "code",
    "id": "mS_hX39m921E",
    "outputId": "72ead27d-d380-45a6-fe69-56b8f833e759"
   },
   "outputs": [],
   "source": [
    "#@markdown Usually it is not required to alter these years.\n",
    "year_from = 1990#@param {type:\"number\"}\n",
    "year_to = 2019#@param {type:\"number\"}\n",
    "#@markdown File address for main WoS file:\n",
    "file_address = datapath+'/Relevant Results _ DOI duplication - scopus keywords - document types - 31 july.csv'#@param {type:\"string\"} \n",
    "data_full = pd.read_csv(file_address)\n",
    "data_full = data_full[data_full['PY'].astype('int')>year_from-1]\n",
    "data_full = data_full[data_full['PY'].astype('int')<year_to]\n",
    "data_full = data_full[pd.notnull(data_full['AB'])]\n",
    "doc_titles = data_full['TI'].str.lower().values\n",
    "doc_sources = data_full['SO'].str.lower().values\n",
    "doc_research_topic = data_full['SC'].str.lower().values\n",
    "doc_wos_topic = data_full['WC'].str.lower().values\n",
    "doc_keywords = data_full['DE'].str.lower().values\n",
    "# doc_keywords = data_full['ID'].str.lower().values\n",
    "doc_year = data_full['PY'].astype('int').values\n",
    "doc_index = data_full.index\n",
    "doc_meta = data_full[['TI','AB','PY','Z9','U1','SO','JI','DE','ID','WC','SC']]\n",
    "\n",
    "#@markdown Z9: Total Times Cited Count * U1: Usage Count (Last 180 Days) * \n",
    "#@markdown SO: Publication Name * JI: Source Abbreviation * \n",
    "#@markdown DE: Author Keywords * ID: Keywords Plus * \n",
    "#@markdown WC: Web of Science Categories * SC: Research Areas"
   ]
  },
  {
   "cell_type": "code",
   "execution_count": null,
   "metadata": {
    "colab": {},
    "colab_type": "code",
    "id": "412_NOu78LR1"
   },
   "outputs": [],
   "source": [
    "#@markdown File address for doc vectors:\n",
    "file_address =  datapath+\"/corpus/improved_copyr_lemmatized_stopwords_removed_thesaurus_n-grams/1990-2018 FastText doc vectors - SIF - full.csv\"#@param {type:\"string\"} \n",
    "doc_vectors = pd.read_csv(file_address)\n",
    "doc_vectors = doc_vectors.values\n",
    "doc_vectors"
   ]
  },
  {
   "cell_type": "code",
   "execution_count": null,
   "metadata": {
    "colab": {
     "base_uri": "https://localhost:8080/",
     "height": 34
    },
    "colab_type": "code",
    "id": "8aJF01zk9HlE",
    "outputId": "bf86e792-aabd-400e-8e91-172885d30fe8"
   },
   "outputs": [],
   "source": [
    "#@markdown Make sure all dimensions match:\n",
    "print(doc_sources.shape,doc_year.shape,doc_titles.shape,data_full.shape,doc_vectors.shape)"
   ]
  },
  {
   "cell_type": "markdown",
   "metadata": {
    "colab_type": "text",
    "id": "RzBQmJ0-Vdyw"
   },
   "source": [
    "#### Option C - Load (author/LDA) Term Vector Data"
   ]
  },
  {
   "cell_type": "code",
   "execution_count": null,
   "metadata": {
    "colab": {},
    "colab_type": "code",
    "id": "2UWS-yNzVeOC"
   },
   "outputs": [],
   "source": [
    "dim = '15'\n",
    "dim_comment = ''\n",
    "period = '1990-2018'\n",
    "subfolder = ''\n",
    "file_address = datapath+'Author keywords - 29 Oct 2019/vectors/'+dim+'D'+dim_comment+'/'+subfolder+'FastText vector '+period+'.json'\n",
    "with open(file_address) as f:\n",
    "    vectors = json.loads(f.read())"
   ]
  },
  {
   "cell_type": "markdown",
   "metadata": {
    "colab_type": "text",
    "id": "aDH7j8jl7xMw"
   },
   "source": [
    "#### Option D - Load Abstract with n-grams"
   ]
  },
  {
   "cell_type": "code",
   "execution_count": 5,
   "metadata": {
    "cellView": "both",
    "colab": {
     "base_uri": "https://localhost:8080/",
     "height": 272
    },
    "colab_type": "code",
    "id": "Uu6gtse-8GRj",
    "outputId": "45dcf275-3372-48c6-91bb-363594136ddf"
   },
   "outputs": [
    {
     "name": "stdout",
     "output_type": "stream",
     "text": [
      "period:  \n",
      "                                                abstract\n",
      "0     generalised ARC_CONSISTENCY alldifferent const...\n",
      "1     performing WORD_SENSE_DISAMBIGUATION border un...\n",
      "2     nearest prototype classification NOISY_DATA ne...\n",
      "3     generalized KNOWLEDGE_REPRESENTATION system co...\n",
      "4     real time identification control DYNAMIC_SYSTE...\n",
      "...                                                 ...\n",
      "3954  asynchronous forward bounding distributed cop ...\n",
      "3955  wikipedia based SEMANTIC_INTERPRETATION NATURA...\n",
      "3956  exploiting single cycle symmetry continuous co...\n",
      "3957  behavior bounding efficient method high level ...\n",
      "3958  policy iteration decentralized control MARKOV_...\n",
      "\n",
      "[3959 rows x 1 columns]\n"
     ]
    }
   ],
   "source": [
    "#@markdown Don't forget to set the \"year_to\" to a year higher than intended!\n",
    "# year_from = 2017#@param {type:\"number\"}\n",
    "# year_to = 2020#@param {type:\"number\"}\n",
    "period = ''#str(year_from)+'-'+str(year_to-1)\n",
    "#@markdown File address for main WoS file:\n",
    "# file_address = datapath+'Corpus/AI 4k/copyr_deflem_stopword_removed_thesaurus May 28/by period/n-gram by 6 repetition keywords/'+period+' abstract_title'\n",
    "file_address = datapath+'Corpus/AI 4k/copyr_deflem_stopword_removed_thesaurus May 28/1990-2019/1990-2019 n-gram by 6 repetition keywords'\n",
    "abstracts = pd.read_csv(file_address,names=['abstract'])\n",
    "print('period:',period,'\\n',abstracts)"
   ]
  },
  {
   "cell_type": "markdown",
   "metadata": {
    "colab_type": "text",
    "id": "Wqn_o9W54g4K"
   },
   "source": [
    "Load abstract vectors (for doc clustering)"
   ]
  },
  {
   "cell_type": "code",
   "execution_count": 7,
   "metadata": {
    "colab": {
     "base_uri": "https://localhost:8080/",
     "height": 34
    },
    "colab_type": "code",
    "id": "N08JNKaO4ngS",
    "outputId": "77d1d630-9fa4-41fa-bd68-2227d6029fe3"
   },
   "outputs": [
    {
     "name": "stdout",
     "output_type": "stream",
     "text": [
      "(3959, 100)\n"
     ]
    }
   ],
   "source": [
    "#@markdown File path for doc vectors:\n",
    "file_address =  datapath+\"Corpus/AI 4k/embeddings/\"#@param {type:\"string\"} \n",
    "doc_vectors = pd.read_csv(file_address+period+'Doc2Vec patent_wos_ai corpus')\n",
    "year_vectors = doc_vectors.values\n",
    "print(year_vectors.shape)"
   ]
  },
  {
   "cell_type": "markdown",
   "metadata": {
    "colab_type": "text",
    "id": "11phkaSxk7F-"
   },
   "source": [
    "#### Option E - Load Keywords"
   ]
  },
  {
   "cell_type": "code",
   "execution_count": null,
   "metadata": {
    "colab": {
     "base_uri": "https://localhost:8080/",
     "height": 272
    },
    "colab_type": "code",
    "id": "MMn8CFQlk9Pt",
    "outputId": "153b36ca-3bd9-4263-ada0-bbc233d2de21"
   },
   "outputs": [],
   "source": [
    "#@markdown Don't forget to set the \"year_to\" to a year higher than intended!\n",
    "year_from = 2017#@param {type:\"number\"}\n",
    "year_to = 2019#@param {type:\"number\"}\n",
    "period = str(year_from)+'-'+str(year_to-1)\n",
    "file_address = datapath+'Corpus/copyr_lemmatized_stopword_removed_thesaurus/1900-2019 keywords'\n",
    "keywords = pd.read_csv(file_address,names=['keywords'])\n",
    "file_address = datapath+'Corpus/copyr_lemmatized_stopword_removed_thesaurus/1900-2019 years'\n",
    "years = pd.read_csv(file_address)\n",
    "keywords['year'] = years['year']\n",
    "keywords = keywords[(keywords['year']>=year_from) & (keywords['year']<year_to)]\n",
    "print('period:',period,'\\n',keywords)"
   ]
  },
  {
   "cell_type": "markdown",
   "metadata": {
    "colab_type": "text",
    "id": "EpKGlh5gAftZ"
   },
   "source": [
    "Extract Keywords and Flatten"
   ]
  },
  {
   "cell_type": "code",
   "execution_count": null,
   "metadata": {
    "colab": {
     "base_uri": "https://localhost:8080/",
     "height": 51
    },
    "colab_type": "code",
    "id": "JS8Wf2O4AtfE",
    "outputId": "fa511352-b31e-4e3c-a43d-a93e04e27c80"
   },
   "outputs": [],
   "source": [
    "keywords['keywords_sep'],keywords_flat = kw.tokenize_series_fast(keywords['keywords'],delimiter=';',flatten=True)"
   ]
  },
  {
   "cell_type": "markdown",
   "metadata": {
    "colab_type": "text",
    "id": "WTCIeLRqrQQU"
   },
   "source": [
    "#### Option F - Benchmark Data"
   ]
  },
  {
   "cell_type": "code",
   "execution_count": null,
   "metadata": {
    "colab": {},
    "colab_type": "code",
    "id": "wDJEzjSUrUaN"
   },
   "outputs": [],
   "source": [
    "file_address =  datapath+\"embedding_benchmark/kpris_data.csv\"\n",
    "data = pd.read_csv(file_address)\n",
    "abstracts = data[['abstract']]\n",
    "file_address = datapath+'embedding_benchmark/clean/Document Embedding/finetuned_embeddings_50D.csv'\n",
    "doc_vectors = pd.read_csv(file_address)\n",
    "\n",
    "task_1 = data[(data['target']=='car') | (data['target']=='camera')]\n",
    "task_2 = data[(data['target']=='memory') | (data['target']=='cpu')]\n",
    "\n",
    "period = 'all'\n",
    "# columns = [1,3,4,5,7,9,10,11,13,14]\n",
    "year_vectors = doc_vectors.values\n",
    "# vector_low_dim = doc_vectors.values.T[columns]\n",
    "# year_vectors = vector_low_dim.T\n",
    "year_vectors = year_vectors[task_1.index]\n",
    "print(year_vectors.shape)"
   ]
  },
  {
   "cell_type": "code",
   "execution_count": null,
   "metadata": {
    "colab": {},
    "colab_type": "code",
    "id": "7M7bxq4Orewm"
   },
   "outputs": [],
   "source": [
    "year_vectors = TSNE(n_components=2, n_iter=500, verbose=2).fit_transform(year_vectors)\n",
    "print(\"\\nComputed t-SNE\", vector_low_dim.shape)"
   ]
  },
  {
   "cell_type": "markdown",
   "metadata": {
    "colab_type": "text",
    "id": "ks2O9Q_v8Grb"
   },
   "source": [
    "#### Word Embedding\n",
    "Load embedding model"
   ]
  },
  {
   "cell_type": "code",
   "execution_count": null,
   "metadata": {
    "colab": {
     "base_uri": "https://localhost:8080/",
     "height": 34
    },
    "colab_type": "code",
    "id": "aYf08c-F8QvN",
    "outputId": "db3e7d19-92db-4a43-95d4-54af6068fc8c"
   },
   "outputs": [],
   "source": [
    "!ls 'drive/My Drive/Data/FastText Models/50D May 16/fasttext-scopus-300k_docs-gensim 50D.model'\n",
    "gensim_model_address = datapath+'FastText Models/50D May 16/fasttext-scopus-300k_docs-gensim 50D.model'\n",
    "FT_model = fasttext_gensim.load(gensim_model_address)"
   ]
  },
  {
   "cell_type": "markdown",
   "metadata": {
    "colab_type": "text",
    "id": "DJIzcK-r8NPD"
   },
   "source": [
    "##### Get Embeddings"
   ]
  },
  {
   "cell_type": "markdown",
   "metadata": {
    "colab_type": "text",
    "id": "80XezW2rC1TM"
   },
   "source": [
    "###### Use duplicated words to take into the account the weight of words"
   ]
  },
  {
   "cell_type": "code",
   "execution_count": null,
   "metadata": {
    "colab": {
     "base_uri": "https://localhost:8080/",
     "height": 68
    },
    "colab_type": "code",
    "id": "rpKBEaeb8QOL",
    "outputId": "86bea8f3-fb08-44dd-c1e3-de18869c0e61"
   },
   "outputs": [],
   "source": [
    "# Iterate docs and flatten words to a list\n",
    "word_freq = pd.DataFrame(pd.DataFrame([word for doc in abstracts['abstract'].values.tolist() for word in doc.split()],columns=['terms']).terms.value_counts()).reset_index()\n",
    "word_freq.columns=['term','freq']\n",
    "word_filter = word_freq[word_freq['freq']>8]\n",
    "words = [word for doc in tqdm(abstracts['abstract'].values.tolist(),total=len(abstracts['abstract'].values.tolist())) for word in doc.split() if word in word_filter['term'].values.tolist()]\n",
    "print('\\n',len(words))"
   ]
  },
  {
   "cell_type": "code",
   "execution_count": null,
   "metadata": {
    "colab": {
     "base_uri": "https://localhost:8080/",
     "height": 68
    },
    "colab_type": "code",
    "id": "Cj3i4zeUbTQQ",
    "outputId": "d126b23c-23fa-42b7-e2d7-4f42a6a53b2c"
   },
   "outputs": [],
   "source": [
    "# make an embedding list\n",
    "word_vectors = []\n",
    "for item in tqdm(words):\n",
    "    phrase = item.replace(\"_\", \" \")\n",
    "    phrase = phrase.lower().strip()\n",
    "    phrase = phrase.split()\n",
    "    gram_vecs = []\n",
    "    for gram in phrase:\n",
    "        gram_vecs.append(FT_model.wv[gram])\n",
    "    phrase_vec = np.array(gram_vecs).mean(axis=0)\n",
    "    word_vectors.append(phrase_vec)\n",
    "vector_low_dim = word_vectors\n",
    "print('\\n',len(word_vectors))"
   ]
  },
  {
   "cell_type": "markdown",
   "metadata": {
    "colab_type": "text",
    "id": "u-Ww32XyDW1R"
   },
   "source": [
    "###### Use unique words to ignore duplicated keywords and ignore the weights of words"
   ]
  },
  {
   "cell_type": "code",
   "execution_count": null,
   "metadata": {
    "colab": {
     "base_uri": "https://localhost:8080/",
     "height": 34
    },
    "colab_type": "code",
    "id": "ZPKaAeCiDgOX",
    "outputId": "fd2a8fd3-a1b0-4adb-b132-73b1bbba8a73"
   },
   "outputs": [],
   "source": [
    "# Iterate docs and flatten words to a list\n",
    "word_freq = pd.DataFrame(pd.DataFrame([word for doc in abstracts['abstract'].values.tolist() for word in doc.split()],columns=['terms']).terms.value_counts()).reset_index()\n",
    "word_freq.columns=['term','freq']\n",
    "word_freq['term'] = word_freq['term'].str.lower()\n",
    "word_freq['term'] = word_freq['term'].progress_apply(lambda x: x if len(x)>1 else np.nan)\n",
    "word_freq = word_freq[pd.notnull(word_freq['term'])]\n",
    "word_filter = word_freq[word_freq['freq']>8]\n",
    "words = word_filter.term.values.tolist()"
   ]
  },
  {
   "cell_type": "code",
   "execution_count": null,
   "metadata": {
    "colab": {
     "base_uri": "https://localhost:8080/",
     "height": 68
    },
    "colab_type": "code",
    "id": "xbn6WmWCCqD5",
    "outputId": "255ae8b8-f830-49b2-d801-c8178a4fe9a5"
   },
   "outputs": [],
   "source": [
    "# make an embedding list\n",
    "word_vectors = []\n",
    "for item in tqdm(words):\n",
    "    phrase = item.replace(\"_\", \" \")\n",
    "    phrase = phrase.lower().strip()\n",
    "    phrase = phrase.split()\n",
    "    gram_vecs = []\n",
    "    for gram in phrase:\n",
    "        gram_vecs.append(FT_model.wv[gram])\n",
    "    phrase_vec = np.array(gram_vecs).mean(axis=0)\n",
    "    word_vectors.append(phrase_vec)\n",
    "vector_low_dim = word_vectors\n",
    "print('\\n',len(word_vectors))"
   ]
  },
  {
   "cell_type": "code",
   "execution_count": null,
   "metadata": {
    "colab": {},
    "colab_type": "code",
    "id": "chLDsbwn412G"
   },
   "outputs": [],
   "source": [
    "terms_flat = words"
   ]
  },
  {
   "cell_type": "markdown",
   "metadata": {
    "colab_type": "text",
    "id": "WfhkWMBkKLlk"
   },
   "source": [
    "###### For keyword embedding (Option E)"
   ]
  },
  {
   "cell_type": "code",
   "execution_count": null,
   "metadata": {
    "colab": {},
    "colab_type": "code",
    "id": "lkvLk9KsK_Sm"
   },
   "outputs": [],
   "source": [
    "# Iterate docs and flatten words to a list\n",
    "word_freq = pd.DataFrame(keywords_flat.tokens.value_counts()).reset_index()\n",
    "word_freq.columns=['term','freq']\n",
    "word_filter = word_freq[word_freq['freq']>5]\n",
    "words = word_filter.term.values.tolist()"
   ]
  },
  {
   "cell_type": "code",
   "execution_count": null,
   "metadata": {
    "colab": {
     "base_uri": "https://localhost:8080/",
     "height": 68
    },
    "colab_type": "code",
    "id": "9p9jFV4fKWqN",
    "outputId": "9ce324fb-4148-4f4b-99cb-f23abff66fcc"
   },
   "outputs": [],
   "source": [
    "# make an embedding list\n",
    "word_vectors = []\n",
    "for item in tqdm(words):\n",
    "    phrase = item.replace(\"_\", \" \")\n",
    "    phrase = phrase.lower().strip()\n",
    "    phrase = phrase.split()\n",
    "    gram_vecs = []\n",
    "    for gram in phrase:\n",
    "        gram_vecs.append(FT_model.wv[gram])\n",
    "    phrase_vec = np.array(gram_vecs).mean(axis=0)\n",
    "    word_vectors.append(phrase_vec)\n",
    "vector_low_dim = word_vectors\n",
    "print('\\n',len(word_vectors))"
   ]
  },
  {
   "cell_type": "code",
   "execution_count": null,
   "metadata": {
    "colab": {},
    "colab_type": "code",
    "id": "CYZg_HOBKb7O"
   },
   "outputs": [],
   "source": [
    "terms_flat = words"
   ]
  },
  {
   "cell_type": "markdown",
   "metadata": {
    "colab_type": "text",
    "id": "UzTzgazCB5h9"
   },
   "source": [
    "### Pre processing (For word clustering)"
   ]
  },
  {
   "cell_type": "markdown",
   "metadata": {
    "colab_type": "text",
    "id": "FjZFZ5AsA4Z8"
   },
   "source": [
    "#### (If Option C - and A?) Flatten vectors and make a generic dictionary for all years-words"
   ]
  },
  {
   "cell_type": "code",
   "execution_count": null,
   "metadata": {
    "colab": {
     "base_uri": "https://localhost:8080/",
     "height": 68
    },
    "colab_type": "code",
    "id": "d-qDB58_A4gw",
    "outputId": "dacb8dea-223b-4f98-c710-a0529bac62d6"
   },
   "outputs": [],
   "source": [
    "vectors_flat = []\n",
    "terms_flat = []\n",
    "\n",
    "for term in tqdm(vectors.keys(),total=len(vectors.keys())):\n",
    "      terms_flat.append(term)\n",
    "      vectors_flat.append(np.array([float(i) for i in vectors[term].replace('[','').replace(']','').replace(', ',' ').split()]))\n",
    "\n",
    "\n",
    "print('\\nYou have ',len(vectors_flat),'unique vectors and terms')\n",
    "if len(vectors_flat)!=len(terms_flat):\n",
    "    sys.exit('Term/Vector length mismatch. Please the terms_flat and vectors_flat variables.')\n",
    "\n",
    "vectors_flat = np.array(vectors_flat)"
   ]
  },
  {
   "cell_type": "markdown",
   "metadata": {
    "colab_type": "text",
    "id": "-VSpVfr-K7FC"
   },
   "source": [
    "#### Normalize - Optional.  \n",
    "Define row_sums first"
   ]
  },
  {
   "cell_type": "code",
   "execution_count": null,
   "metadata": {
    "colab": {},
    "colab_type": "code",
    "id": "itFZqugXCGJL"
   },
   "outputs": [],
   "source": [
    "vectors_flat_sums = vector_low_dim.sum(axis=1)\n",
    "vectors_flat_norm = vector_low_dim / row_sums[:, np.newaxis]\n",
    "vectors_flat_norm.shape"
   ]
  },
  {
   "cell_type": "markdown",
   "metadata": {
    "colab_type": "text",
    "id": "L226zEeziCEI"
   },
   "source": [
    "OR use this "
   ]
  },
  {
   "cell_type": "code",
   "execution_count": null,
   "metadata": {
    "colab": {
     "base_uri": "https://localhost:8080/",
     "height": 34
    },
    "colab_type": "code",
    "id": "4ur7V-lbiFar",
    "outputId": "8efcc3dd-df88-4081-e347-f38c21a6adac"
   },
   "outputs": [],
   "source": [
    "x = np.array(vector_low_dim)\n",
    "min_max_scaler = preprocessing.MinMaxScaler()\n",
    "x_scaled = min_max_scaler.fit_transform(x)\n",
    "vectors_flat_norm = list(x_scaled)\n",
    "x_scaled.shape"
   ]
  },
  {
   "cell_type": "markdown",
   "metadata": {
    "colab_type": "text",
    "id": "tGf__2O_IqOy"
   },
   "source": [
    "#### Reduce Dimensionality for 15D"
   ]
  },
  {
   "cell_type": "code",
   "execution_count": null,
   "metadata": {
    "colab": {},
    "colab_type": "code",
    "id": "tE1rGFPG41J8"
   },
   "outputs": [],
   "source": [
    "sub_dim = ''\n",
    "vector_low_dim = vectors_flat.copy()"
   ]
  },
  {
   "cell_type": "code",
   "execution_count": null,
   "metadata": {
    "colab": {
     "base_uri": "https://localhost:8080/",
     "height": 34
    },
    "colab_type": "code",
    "id": "2eSkVs3OIqnu",
    "outputId": "f4a136a9-bbc5-45c4-df31-118e92339e52"
   },
   "outputs": [],
   "source": [
    "sub_dim = '10 dim/'\n",
    "tmp_df = pd.DataFrame(vectors_flat)\n",
    "columns = [1,3,4,5,7,9,10,11,13,14]\n",
    "vector_low_dim = tmp_df[columns].values\n",
    "vector_low_dim.shape"
   ]
  },
  {
   "cell_type": "markdown",
   "metadata": {
    "colab_type": "text",
    "id": "mz7QtvB9eo7Z"
   },
   "source": [
    "#### (If Option A) Load year period corpora and make year based vectors"
   ]
  },
  {
   "cell_type": "code",
   "execution_count": null,
   "metadata": {
    "colab": {
     "base_uri": "https://localhost:8080/",
     "height": 111
    },
    "colab_type": "code",
    "id": "Uh76v3sLepDi",
    "outputId": "a1ef4bb8-7354-4907-8fdd-b7f4030dfc9b"
   },
   "outputs": [],
   "source": [
    "period = '1990-2018'\n",
    "file_address = datapath+'corpus/improved_copyr_lemmatized_stopword_removed_thesaurus/'+period+' corpus abstract-title'\n",
    "corpus = pd.read_csv(file_address,names=['abstracts'])\n",
    "corpus.head(2)"
   ]
  },
  {
   "cell_type": "code",
   "execution_count": null,
   "metadata": {
    "colab": {
     "base_uri": "https://localhost:8080/",
     "height": 34
    },
    "colab_type": "code",
    "id": "WYIYTj9IfUqp",
    "outputId": "47112e4a-2af0-479f-d8d9-29d3455970c6"
   },
   "outputs": [],
   "source": [
    "period_vectors = []\n",
    "period_terms = []\n",
    "\n",
    "period_article_vectors = []\n",
    "period_article_terms = []\n",
    "period_article_indices = []\n",
    "\n",
    "for idx,row in tqdm(corpus.iterrows(),total = corpus.shape[0]):\n",
    "    article_terms = []\n",
    "    article_vectors = []\n",
    "    for term in row['abstracts'].split():\n",
    "        period_vectors.append(vectors_flat[terms_flat.index(term)])\n",
    "        article_vectors.append(vectors_flat[terms_flat.index(term)])\n",
    "        period_terms.append(term)\n",
    "        article_terms.append(term)\n",
    "    period_article_vectors.append(article_vectors)\n",
    "    period_article_terms.append(article_terms)\n",
    "    period_article_indices.append(idx)\n",
    "period_vectors = np.array(period_vectors)"
   ]
  },
  {
   "cell_type": "code",
   "execution_count": null,
   "metadata": {
    "colab": {
     "base_uri": "https://localhost:8080/",
     "height": 34
    },
    "colab_type": "code",
    "id": "DAR9Dg-YmBi5",
    "outputId": "68028f91-0e93-4104-e7bb-5ee41fd77959"
   },
   "outputs": [],
   "source": [
    "len(period_article_vectors)"
   ]
  },
  {
   "cell_type": "markdown",
   "metadata": {
    "colab_type": "text",
    "id": "ak9kKkXtyU9_"
   },
   "source": [
    "## Visualize Embeddings (vectors)"
   ]
  },
  {
   "cell_type": "markdown",
   "metadata": {
    "colab_type": "text",
    "id": "uwVYbZ5-z0MF"
   },
   "source": [
    "#### Get a list of terms to embed"
   ]
  },
  {
   "cell_type": "code",
   "execution_count": null,
   "metadata": {
    "colab": {},
    "colab_type": "code",
    "id": "birx-yrlz0mF"
   },
   "outputs": [],
   "source": [
    "demo_terms = pd.read_csv(datapath+'LDA/selected_demo_words',names=['terms']).T.values.tolist()[0] # this is 2016 words probably\n",
    "demo_vectors = np.array([np.array([float(i) for i in vectors[term].replace('[','').replace(']','').replace(', ',' ').split()]) for term in demo_terms])"
   ]
  },
  {
   "cell_type": "code",
   "execution_count": null,
   "metadata": {
    "colab": {
     "base_uri": "https://localhost:8080/"
    },
    "colab_type": "code",
    "id": "7ae1HtF7E1Qz",
    "outputId": "d69f2a7a-f4ce-49a6-9ed4-d85946668580"
   },
   "outputs": [],
   "source": [
    "demo_vectors.shape"
   ]
  },
  {
   "cell_type": "markdown",
   "metadata": {
    "colab_type": "text",
    "id": "ark2zBd_CDIw"
   },
   "source": [
    "#### Manually reduce dims"
   ]
  },
  {
   "cell_type": "code",
   "execution_count": null,
   "metadata": {
    "colab": {},
    "colab_type": "code",
    "id": "Tkcdh_SzCDtq"
   },
   "outputs": [],
   "source": [
    "vector_low_dim = []\n",
    "dim_1 = 0\n",
    "dim_2 = 1\n",
    "for row in tqdm(vectors_flat,total=vectors_flat.shape[0]):\n",
    "    vector_low_dim.append([row[dim_1],row[dim_2]])\n",
    "vector_low_dim = np.array(vector_low_dim)\n",
    "vector_low_dim.shape"
   ]
  },
  {
   "cell_type": "markdown",
   "metadata": {
    "colab_type": "text",
    "id": "6hotYTrIAxNe"
   },
   "source": [
    "#### PCA reduce dims"
   ]
  },
  {
   "cell_type": "markdown",
   "metadata": {
    "colab_type": "text",
    "id": "l2xogx5bCqg8"
   },
   "source": [
    "Explore component variances"
   ]
  },
  {
   "cell_type": "code",
   "execution_count": null,
   "metadata": {
    "colab": {
     "base_uri": "https://localhost:8080/"
    },
    "colab_type": "code",
    "id": "dqdTVhdDCoM6",
    "outputId": "e6fb8024-4648-4609-b825-22b572900dba"
   },
   "outputs": [],
   "source": [
    "pca = PCA()\n",
    "pca.fit(vectors_flat)\n",
    "pca.explained_variance_ratio_"
   ]
  },
  {
   "cell_type": "markdown",
   "metadata": {
    "colab_type": "text",
    "id": "chIbHQi5Coyp"
   },
   "source": [
    "Reduce"
   ]
  },
  {
   "cell_type": "code",
   "execution_count": null,
   "metadata": {
    "colab": {
     "base_uri": "https://localhost:8080/",
     "height": 231
    },
    "colab_type": "code",
    "id": "tH8Ukm82-1Mt",
    "outputId": "3fa9b3cd-5a47-4ba8-90f1-5ca33a7c92d5"
   },
   "outputs": [],
   "source": [
    "pca = PCA(2)\n",
    "pca.fit(vectors_flat)\n",
    "#pca.n_components_\n",
    "vector_low_dim_pca = pca.transform(vectors_flat)\n",
    "vector_low_dim_pca.shape"
   ]
  },
  {
   "cell_type": "markdown",
   "metadata": {
    "colab_type": "text",
    "id": "H0k2Mt_JybTF"
   },
   "source": [
    "#### Use TSNE for reduce dims"
   ]
  },
  {
   "cell_type": "code",
   "execution_count": null,
   "metadata": {
    "colab": {},
    "colab_type": "code",
    "id": "4LumQJU7yaN8"
   },
   "outputs": [],
   "source": [
    "vector_low_dim = TSNE(n_components=2, n_iter=250, verbose=2).fit_transform(vectors_flat)\n",
    "print(\"\\nComputed t-SNE\", vector_low_dim.shape)"
   ]
  },
  {
   "cell_type": "markdown",
   "metadata": {
    "colab_type": "text",
    "id": "iOMc9gS0Apq4"
   },
   "source": [
    "#### Visualize dims"
   ]
  },
  {
   "cell_type": "code",
   "execution_count": null,
   "metadata": {
    "colab": {
     "base_uri": "https://localhost:8080/"
    },
    "colab_type": "code",
    "id": "sUKEml4w8M_g",
    "outputId": "438b0ef4-9043-4eb3-a68c-f50aee79b943"
   },
   "outputs": [],
   "source": [
    "vector_low_dim_df = pd.DataFrame(columns=['x', 'y', 'word'])\n",
    "vector_low_dim_df['x'], vector_low_dim_df['y'], vector_low_dim_df['word'] = vector_low_dim[:,0], vector_low_dim[:,1], terms_flat\n",
    "vector_low_dim_df.head(2)"
   ]
  },
  {
   "cell_type": "markdown",
   "metadata": {
    "colab_type": "text",
    "id": "KwrYd-6V8Mzz"
   },
   "source": [
    "#### Plot"
   ]
  },
  {
   "cell_type": "markdown",
   "metadata": {
    "colab_type": "text",
    "id": "__6Bl7uODxkD"
   },
   "source": [
    "##### Selective demo terms"
   ]
  },
  {
   "cell_type": "code",
   "execution_count": null,
   "metadata": {
    "colab": {
     "base_uri": "https://localhost:8080/"
    },
    "colab_type": "code",
    "id": "54M9Jq3fDtSk",
    "outputId": "8e5f5381-c0af-42a5-fd25-f65ad607b7ba"
   },
   "outputs": [],
   "source": [
    "vector_low_dim_df = vector_low_dim_df[vector_low_dim_df['word'].isin(demo_terms)]\n",
    "vector_low_dim_df.shape"
   ]
  },
  {
   "cell_type": "markdown",
   "metadata": {
    "colab_type": "text",
    "id": "M5OG26N9Lotq"
   },
   "source": [
    "##### Selective by top 1 percent keywords"
   ]
  },
  {
   "cell_type": "code",
   "execution_count": null,
   "metadata": {
    "colab": {
     "base_uri": "https://localhost:8080/"
    },
    "colab_type": "code",
    "id": "ybMBdWw-LtBx",
    "outputId": "7e906379-0e57-4dbd-ff50-4e012bd597e8"
   },
   "outputs": [],
   "source": [
    "word_filter = []\n",
    "top_one_percent_keywords = pd.read_csv(datapath+'LDA/'+period+' top_99-percentile_keywords_terms.csv')\n",
    "for indx,row in tqdm(top_one_percent_keywords.iterrows(),total=top_one_percent_keywords.shape[0]):\n",
    "    for word in row:\n",
    "        if word not in word_filter:\n",
    "            word_filter.append(word)\n",
    "\n",
    "vector_low_dim_df = vector_low_dim_df[vector_low_dim_df['word'].isin(word_filter)]\n",
    "vector_low_dim_df.shape"
   ]
  },
  {
   "cell_type": "markdown",
   "metadata": {
    "colab_type": "text",
    "id": "eRn97zWBDtz0"
   },
   "source": [
    "##### Continue plotting"
   ]
  },
  {
   "cell_type": "code",
   "execution_count": null,
   "metadata": {
    "colab": {},
    "colab_type": "code",
    "id": "42CTjzoQ8lLv"
   },
   "outputs": [],
   "source": [
    "source = ColumnDataSource(ColumnDataSource.from_df(vector_low_dim_df))\n",
    "labels = LabelSet(x=\"x\", y=\"y\", text=\"word\", y_offset=8,\n",
    "                  text_font_size=\"8pt\", text_color=\"#555555\",\n",
    "                  source=source, text_align='center')\n",
    "plot = figure(plot_width=1900, plot_height=1000)\n",
    "plot.circle(\"x\", \"y\", size=12, source=source, line_color=\"black\", fill_alpha=0.8)\n",
    "output_file(\"drive/My Drive/Data/FastText term clusters/bokeh cluster visualization/15D manual top 1 percent/bokeh \"+dim+\"D selective - Manual 0 \"+str(dim_2)+\".html\")\n",
    "plot.add_layout(labels)\n",
    "show(plot, notebook_handle=True)"
   ]
  },
  {
   "cell_type": "markdown",
   "metadata": {
    "colab_type": "text",
    "id": "7RXeAJ4IuwrT"
   },
   "source": [
    "# Word Clustering "
   ]
  },
  {
   "cell_type": "markdown",
   "metadata": {
    "colab_type": "text",
    "id": "moyWLo1cAgYJ"
   },
   "source": [
    "### Simple Clustering"
   ]
  },
  {
   "cell_type": "markdown",
   "metadata": {
    "colab_type": "text",
    "id": "-9pUO3hlHIdp"
   },
   "source": [
    "#### Find optimal cluster size: Elbow / Dendrogram method\n",
    "\n",
    "The data shows that it is impossible to perform clustering on the vectors using k means."
   ]
  },
  {
   "cell_type": "code",
   "execution_count": null,
   "metadata": {
    "cellView": "both",
    "colab": {},
    "colab_type": "code",
    "id": "rEHwL2TFAnAd"
   },
   "outputs": [],
   "source": [
    "#@title Distortion should go down.\n",
    "model = KMeans()\n",
    "visualizer = KElbowVisualizer(model, k=(2,30))\n",
    "visualizer.fit(vectors_flat)                                                    # Fit the data to the visualizer\n",
    "visualizer.poof()"
   ]
  },
  {
   "cell_type": "code",
   "execution_count": null,
   "metadata": {
    "colab": {
     "base_uri": "https://localhost:8080/",
     "height": 567
    },
    "colab_type": "code",
    "id": "Kkb7LBXOWjNa",
    "outputId": "7a13cb66-2a9b-4026-d75e-461af6589b39"
   },
   "outputs": [],
   "source": [
    "#@title Dendrogram\n",
    "dendrogram = aa.fancy_dendrogram(sch.linkage(vector_low_dim, method='ward'),\n",
    "                                 truncate_mode='lastp',p=800,show_contracted=True,figsize=(15,9)) #single #average #ward"
   ]
  },
  {
   "cell_type": "markdown",
   "metadata": {
    "colab_type": "text",
    "id": "-hwKuQl6oI2t"
   },
   "source": [
    "#### Init clustering"
   ]
  },
  {
   "cell_type": "code",
   "execution_count": null,
   "metadata": {
    "colab": {},
    "colab_type": "code",
    "id": "x5_0aa1HDowR"
   },
   "outputs": [],
   "source": [
    "pca = PCA(2)\n",
    "pca.fit(vector_low_dim)\n",
    "#pca.n_components_\n",
    "vector_low_dim = pca.transform(vector_low_dim)\n",
    "vector_low_dim[:,1].shape\n",
    "reduce_dim = True"
   ]
  },
  {
   "cell_type": "code",
   "execution_count": null,
   "metadata": {
    "colab": {},
    "colab_type": "code",
    "id": "AsnWr6b8Dw-1"
   },
   "outputs": [],
   "source": [
    "reduce_dim = False"
   ]
  },
  {
   "cell_type": "code",
   "execution_count": null,
   "metadata": {
    "colab": {},
    "colab_type": "code",
    "id": "QsGwgG3FoGJF"
   },
   "outputs": [],
   "source": [
    "n_clusters = 12\n",
    "comment = ''\n",
    "dim = '50'\n",
    "dim_comment = ' May 28'\n",
    "sub_dim = '' #'no repetition/'"
   ]
  },
  {
   "cell_type": "markdown",
   "metadata": {
    "colab_type": "text",
    "id": "UiZ00jO5LKBv"
   },
   "source": [
    "#### Hierarchical Clustering"
   ]
  },
  {
   "cell_type": "code",
   "execution_count": null,
   "metadata": {
    "colab": {},
    "colab_type": "code",
    "id": "gJwueiz-ju8J"
   },
   "outputs": [],
   "source": [
    "model = AgglomerativeClustering(n_clusters=n_clusters,linkage='ward').fit(vector_low_dim)\n",
    "labels = model.labels_\n",
    "\n",
    "clusters_df = pd.DataFrame({'terms':terms_flat,'clusters':labels})\n",
    "clusters_df.to_csv(datapath+'Word Clustering/'+dim+'D'+dim_comment+'/'+sub_dim+'agglomerative ward '+period+' '+str(n_clusters)+comment+'.csv',index=False)\n",
    "\n",
    "# model = AgglomerativeClustering(n_clusters=n_clusters,affinity='cosine',linkage='average').fit(vectors_flat)\n",
    "# labels = model.labels_\n",
    "\n",
    "# clusters_df = pd.DataFrame({'terms':terms_flat,'clusters':labels})\n",
    "# clusters_df.to_csv('drive/My Drive/Data/FastText term clusters - 29 Oct 2019/'+dim+'D'+dim_comment+'/'+sub_dim+'agglomarative cosine average '+period+' '+str(n_clusters)+comment+'.csv',index=False)"
   ]
  },
  {
   "cell_type": "markdown",
   "metadata": {
    "colab_type": "text",
    "id": "T9rF-s3RLd_w"
   },
   "source": [
    "#### K-means Clustering"
   ]
  },
  {
   "cell_type": "code",
   "execution_count": null,
   "metadata": {
    "colab": {},
    "colab_type": "code",
    "id": "Gx7DBL4Xn6F5"
   },
   "outputs": [],
   "source": [
    "model = KMeans(n_clusters=n_clusters, random_state=10).fit(vector_low_dim)\n",
    "labels = model.labels_\n",
    "\n",
    "clusters_df = pd.DataFrame({'terms':terms_flat,'clusters':labels})\n",
    "clusters_df.to_csv(datapath+'FastText authkeyword clusters - 29 Oct 2019/'+dim+'D'+dim_comment+'/'+sub_dim+'kmeans '+period+' '+str(n_clusters)+comment+'.csv',index=False)"
   ]
  },
  {
   "cell_type": "markdown",
   "metadata": {
    "colab_type": "text",
    "id": "lgHoizmL6HMl"
   },
   "source": [
    "#### Visualize cluster"
   ]
  },
  {
   "cell_type": "markdown",
   "metadata": {
    "colab_type": "text",
    "id": "CGCK4o9P6Z_s"
   },
   "source": [
    "Read saved clusters"
   ]
  },
  {
   "cell_type": "code",
   "execution_count": null,
   "metadata": {
    "colab": {
     "base_uri": "https://localhost:8080/",
     "height": 34
    },
    "colab_type": "code",
    "id": "thku3zqodb4H",
    "outputId": "07e575d4-c0a0-419f-cd46-ab97c9834ccd"
   },
   "outputs": [],
   "source": [
    "cluster_file_name = datapath+'Word Clustering/'+dim+'D'+dim_comment+'/'+sub_dim+'agglomerative ward '+period+' '+str(n_clusters)+comment\n",
    "cluster_file_name"
   ]
  },
  {
   "cell_type": "code",
   "execution_count": null,
   "metadata": {
    "colab": {},
    "colab_type": "code",
    "id": "wn5NDRTC6dUN"
   },
   "outputs": [],
   "source": [
    "clusters_df = pd.read_csv(cluster_file_name+'.csv')\n",
    "clusters_df = clusters_df[clusters_df['terms'].isin(terms_flat)]\n",
    "color_palette = aa.color_palette_maker(n_clusters)\n",
    "colors = aa.cluster_color_mapper(clusters_df['clusters'].values.tolist(),color_palette)\n",
    "clusters_df['colors'] = colors"
   ]
  },
  {
   "cell_type": "markdown",
   "metadata": {
    "colab_type": "text",
    "id": "NhqtPeux6PyM"
   },
   "source": [
    "##### Visualize"
   ]
  },
  {
   "cell_type": "code",
   "execution_count": null,
   "metadata": {
    "colab": {},
    "colab_type": "code",
    "id": "OYFxQ7HX6PiU"
   },
   "outputs": [],
   "source": [
    "fig, ax = plt.subplots(figsize=(25, 18), dpi=150)\n",
    "ax.scatter(vector_low_dim[:,0], vector_low_dim[:,1],color = colors)\n",
    "for i, label in enumerate(terms_flat):\n",
    "    ax.annotate(label, (vector_low_dim[i,0], vector_low_dim[i,1]), fontsize=8, fontweight='ultralight')\n",
    "\n",
    "fig.savefig(cluster_file_name+'.jpg')"
   ]
  },
  {
   "cell_type": "markdown",
   "metadata": {
    "colab_type": "text",
    "id": "U30HD7CSHZzQ"
   },
   "source": [
    "##### Visualize - reduced samples"
   ]
  },
  {
   "cell_type": "markdown",
   "metadata": {
    "colab_type": "text",
    "id": "dDEQItUBnCjo"
   },
   "source": [
    "Get important words"
   ]
  },
  {
   "cell_type": "code",
   "execution_count": null,
   "metadata": {
    "colab": {
     "base_uri": "https://localhost:8080/",
     "height": 1000
    },
    "colab_type": "code",
    "id": "WGaOi21QHZZd",
    "outputId": "490becc7-d80c-48b6-e250-117d576b011a"
   },
   "outputs": [],
   "source": [
    "whitelist = []\n",
    "for idx in range(len(clusters_df.groupby('clusters').groups)):\n",
    "    whitelist = whitelist + clusters_df['terms'][list(clusters_df.groupby('clusters').groups[idx])].head(30).values.tolist()\n",
    "\n",
    "fig, ax = plt.subplots(figsize=(25, 18), dpi=150)\n",
    "ax.scatter(vector_low_dim_pca[:,0], vector_low_dim_pca[:,1],color = colors)\n",
    "for i, label in enumerate(terms_flat):\n",
    "    if label in whitelist:\n",
    "        ax.annotate(label, (vector_low_dim_pca[i,0], vector_low_dim_pca[i,1]), fontsize=8, fontweight='ultralight')\n",
    "\n",
    "fig.savefig(cluster_file_name+' - reduced labels.jpg')"
   ]
  },
  {
   "cell_type": "markdown",
   "metadata": {
    "colab_type": "text",
    "id": "3SyIazJAF7m5"
   },
   "source": [
    "### Word Cluster Cloud"
   ]
  },
  {
   "cell_type": "code",
   "execution_count": null,
   "metadata": {
    "colab": {},
    "colab_type": "code",
    "id": "k8iyAz7BKrpJ"
   },
   "outputs": [],
   "source": [
    "# dim = '15'\n",
    "# period = '2017-2019'\n",
    "n_clusters = 4\n",
    "# method = 'kmeans '\n",
    "method = 'agglomerative ward '\n",
    "comment = ''\n",
    "# comment = ' visually_assessed'"
   ]
  },
  {
   "cell_type": "markdown",
   "metadata": {
    "colab_type": "text",
    "id": "WtKRIXEwGB8V"
   },
   "source": [
    "Load corpus for the period"
   ]
  },
  {
   "cell_type": "code",
   "execution_count": null,
   "metadata": {
    "colab": {
     "base_uri": "https://localhost:8080/"
    },
    "colab_type": "code",
    "id": "x6v37qXSGKMA",
    "outputId": "193a215c-4235-4998-a75f-f9e342d87011"
   },
   "outputs": [],
   "source": [
    "path = datapath+'corpus/improved_copyr_lemmatized_stopwords_removed_thesaurus_n-grams/'+period+' corpus abstract-title - with n-grams'\n",
    "corpus = pd.read_csv(path,names=['abstract'])\n",
    "path"
   ]
  },
  {
   "cell_type": "markdown",
   "metadata": {
    "colab_type": "text",
    "id": "nyVTCIFiHHz0"
   },
   "source": [
    "Load cluster for the period"
   ]
  },
  {
   "cell_type": "code",
   "execution_count": null,
   "metadata": {
    "colab": {
     "base_uri": "https://localhost:8080/"
    },
    "colab_type": "code",
    "id": "SYYclGfwHLOr",
    "outputId": "dafd9583-d99e-4016-a09f-c05351519139"
   },
   "outputs": [],
   "source": [
    "path = datapath+'FastText term clusters/'+dim+'D/'+method+period+' '+str(n_clusters)+comment+'.csv'\n",
    "clusters = pd.read_csv(path)\n",
    "path"
   ]
  },
  {
   "cell_type": "markdown",
   "metadata": {
    "colab_type": "text",
    "id": "fUxh-VK-HMZF"
   },
   "source": [
    "Mask the corpus terms by cluster terms"
   ]
  },
  {
   "cell_type": "code",
   "execution_count": null,
   "metadata": {
    "colab": {
     "base_uri": "https://localhost:8080/"
    },
    "colab_type": "code",
    "id": "_-U6W9jEHRGW",
    "outputId": "42809b4e-00fd-4c00-ec2b-94d33894bd6a"
   },
   "outputs": [],
   "source": [
    "cluster_corpora = []\n",
    "for cluster_label in range(n_clusters):\n",
    "    white_list = clusters[clusters['clusters']==cluster_label].terms.values.tolist()\n",
    "    cluster_corpus = []\n",
    "    for abstract in tqdm(corpus.abstract,total=corpus.abstract.shape[0]):\n",
    "        tokenized_abstract = abstract.split()\n",
    "        cluster_corpus.append(' '.join([token for token in tokenized_abstract if token in white_list]))\n",
    "    cluster_corpora.append(cluster_corpus)"
   ]
  },
  {
   "cell_type": "markdown",
   "metadata": {
    "colab_type": "text",
    "id": "OL7ovRtBKzGR"
   },
   "source": [
    "OR - Make cluster corpora based on the doc term corpus (Option D)"
   ]
  },
  {
   "cell_type": "code",
   "execution_count": null,
   "metadata": {
    "colab": {
     "base_uri": "https://localhost:8080/",
     "height": 272
    },
    "colab_type": "code",
    "id": "bASabrLHLLQm",
    "outputId": "f5748267-119b-4a6e-9d4f-a26deaf5db97"
   },
   "outputs": [],
   "source": [
    "cluster_corpora = []\n",
    "for cluster_label in range(n_clusters):\n",
    "    white_list = clusters_df[clusters_df['clusters']==cluster_label].terms.values.tolist()\n",
    "    cluster_corpus = []\n",
    "    for abstract in tqdm(abstracts.abstract.values.tolist(),total=abstracts.abstract.values.shape[0]):\n",
    "        tokenized_abstract = abstract.split()\n",
    "        cluster_corpus.append(' '.join([token for token in tokenized_abstract if token in white_list]))\n",
    "    cluster_corpora.append(cluster_corpus)"
   ]
  },
  {
   "cell_type": "markdown",
   "metadata": {
    "colab_type": "text",
    "id": "hcPSB1cWGOhH"
   },
   "source": [
    "Generate word cloud for each cluster"
   ]
  },
  {
   "cell_type": "code",
   "execution_count": null,
   "metadata": {
    "colab": {
     "base_uri": "https://localhost:8080/",
     "height": 1000
    },
    "colab_type": "code",
    "id": "LfCTMFcSGAXe",
    "outputId": "28b5447b-5d2b-4dab-a65d-5ce58298bead"
   },
   "outputs": [],
   "source": [
    "for cluster_label in range(n_clusters):\n",
    "    wordcloud = WordCloud(background_color='white',\n",
    "                        stopwords=stop_words,\n",
    "                        max_words=100,\n",
    "                        max_font_size=50, \n",
    "                        width=800, height=400,\n",
    "                        random_state=42).generate(str(cluster_corpora[cluster_label]))\n",
    "    fig = plt.figure(1)\n",
    "    plt.imshow(wordcloud,interpolation=\"bilinear\")\n",
    "    plt.axis('off')\n",
    "    plt.title('Cluster '+str(cluster_label))\n",
    "    plt.tight_layout(pad=0)\n",
    "    plt.show()\n",
    "    # fig.savefig('drive/My Drive/Data/FastText term clusters/'+dim+'D/wordcloud/'+period+' '+method+' cluster_'+str(cluster_label+1)+'.png', dpi=500)\n",
    "    fig.savefig(datapath+'FastText doc word clusters 2020/'+dim+'D'+dim_comment+'/'+sub_dim+'wordcloud/'+period+' cluster_'+str(cluster_label+1)+'.png', dpi=500)"
   ]
  },
  {
   "cell_type": "markdown",
   "metadata": {
    "colab_type": "text",
    "id": "lZhMDZ9m6OVv"
   },
   "source": [
    "## Word Cluster Center Calculator"
   ]
  },
  {
   "cell_type": "markdown",
   "metadata": {
    "colab_type": "text",
    "id": "D3KyCgoR7dwJ"
   },
   "source": [
    "### Read clusters"
   ]
  },
  {
   "cell_type": "code",
   "execution_count": null,
   "metadata": {
    "colab": {},
    "colab_type": "code",
    "id": "tEDMf0i97eMA"
   },
   "outputs": [],
   "source": [
    "# dim = '50'\n",
    "# dim_comment = ' w1'\n",
    "# n_clusters = 17\n",
    "# sub_dim = 'no repetition/'\n",
    "# comment = ''\n",
    "# method = 'kmeans '\n",
    "method = 'agglomerative ward '\n",
    "cluster_file_name = datapath+'Word Clustering/'+dim+'D'+dim_comment+'/'+sub_dim+method+period+' '+str(n_clusters)+comment\n",
    "\n",
    "clusters_df = pd.read_csv(cluster_file_name+'.csv')\n",
    "clusters_df = clusters_df[clusters_df['terms'].isin(terms_flat)]\n",
    "# color_palette = aa.color_palette_maker(n_clusters)\n",
    "# colors = aa.cluster_color_mapper(clusters_df['clusters'].values.tolist(),color_palette)\n",
    "# clusters_df['colors'] = colors"
   ]
  },
  {
   "cell_type": "code",
   "execution_count": null,
   "metadata": {
    "colab": {
     "base_uri": "https://localhost:8080/",
     "height": 34
    },
    "colab_type": "code",
    "id": "x-BB_kCLqa7t",
    "outputId": "90cdebda-1c16-44df-c629-953b9e2132eb"
   },
   "outputs": [],
   "source": [
    "# Get cluster term frequencies\n",
    "top_words = []\n",
    "for cluster in tqdm(range(n_clusters)):\n",
    "    top_words.append(', '.join(clusters_df[clusters_df['clusters']==cluster].groupby('terms').count()['clusters'].reset_index().sort_values(by='clusters', ascending=False).head(10)['terms'].values.tolist()))\n",
    "\n",
    "top_words = pd.DataFrame(top_words)\n",
    "top_words.to_csv(datapath+'Word Clustering/'+dim+'D'+dim_comment+'/'+sub_dim+'labels/'+method+period+' '+str(n_clusters),header=False)"
   ]
  },
  {
   "cell_type": "markdown",
   "metadata": {
    "colab_type": "text",
    "id": "kZTICNAUC0Hf"
   },
   "source": [
    "### Find cluster centre"
   ]
  },
  {
   "cell_type": "code",
   "execution_count": null,
   "metadata": {
    "colab": {
     "base_uri": "https://localhost:8080/",
     "height": 34
    },
    "colab_type": "code",
    "id": "1omSwj8XC0dn",
    "outputId": "9a80d7f3-0ed1-4f30-f472-f79e9dc32b1c"
   },
   "outputs": [],
   "source": [
    "cluster_centers = []\n",
    "for cluster in tqdm(range(n_clusters),total=n_clusters):\n",
    "    cluster_centers.append(np.array(vector_low_dim)[clusters_df[clusters_df['clusters']==cluster].index].mean(axis=0))\n",
    "pd.DataFrame(cluster_centers).to_csv(datapath+'Word Clustering/'+dim+'D'+dim_comment+'/'+sub_dim+'centers/cluster_centers - agglomerative ward '+period+' '+str(n_clusters)+comment)\n"
   ]
  },
  {
   "cell_type": "code",
   "execution_count": null,
   "metadata": {
    "colab": {
     "base_uri": "https://localhost:8080/",
     "height": 51
    },
    "colab_type": "code",
    "id": "dBRukgiRq-4t",
    "outputId": "78c8026e-fdc6-4788-f9b4-d6953aee6c3d"
   },
   "outputs": [],
   "source": [
    "!ls 'drive/My Drive/Data/Word Clustering/50D May 28/centers/'"
   ]
  },
  {
   "cell_type": "markdown",
   "metadata": {
    "colab_type": "text",
    "id": "Flky19JIq2VS"
   },
   "source": [
    "## Cluster Center Similarity Calculator"
   ]
  },
  {
   "cell_type": "markdown",
   "metadata": {
    "colab_type": "text",
    "id": "XdtCWyzdru8n"
   },
   "source": [
    "Load clusters"
   ]
  },
  {
   "cell_type": "code",
   "execution_count": null,
   "metadata": {
    "colab": {},
    "colab_type": "code",
    "id": "mulK4sSZq1-2"
   },
   "outputs": [],
   "source": [
    "sub_dim = ''#@param {type:\"string\"} \n",
    "dim = '50'#@param {type:\"string\"} \n",
    "comment = ''#@param {type:\"string\"} \n",
    "dim_comment = ' w1'\n",
    "\n",
    "period_A = '2008-2010'#@param {type:\"string\"} \n",
    "n_clusters_A = 9#@param {type:\"number\"} \n",
    "\n",
    "period_B = '2017-2018'#@param {type:\"string\"} \n",
    "n_clusters_B = 17#@param {type:\"number\"} \n",
    "\n",
    "clusters_A = pd.read_csv(datapath+'Word Clustering/'+dim+'D'+dim_comment+'/'+sub_dim+'centers/cluster_centers - agglomerative ward '+period_A+' '+str(n_clusters_A)+comment,index_col=0)\n",
    "clusters_B = pd.read_csv(datapath+'Word Clustering/'+dim+'D'+dim_comment+'/'+sub_dim+'centers/cluster_centers - agglomerative ward '+period_B+' '+str(n_clusters_B)+comment,index_col=0)\n"
   ]
  },
  {
   "cell_type": "markdown",
   "metadata": {
    "colab_type": "text",
    "id": "mYnioIxltVGP"
   },
   "source": [
    "### Cosine similarity calculation from period A to period B with following format:\n",
    "\n",
    "\n",
    "```\n",
    "cluster_1,cluster_2_0,similarity_0,cluster_2_1,similarity_1,cluster_2_2,similarity_2,cluster_2_3,similarity_3,cluster_2_4,similarity_4\n",
    "0,0,0.8512495748329945,1,0.9026553867095742,2,0.9891524888487816,3,0.8417661013507162,4,0.9009857248135538\n",
    "1,0,0.945069537373128,1,0.9293686285273433,2,0.9089606504506658,3,0.9068286759630998,4,0.8822693454546485\n",
    "2,0,0.8889985179190727,1,0.6474221422202824,2,0.717458586171551,3,0.7027810005644912,4,0.5373087435431511\n",
    "\n",
    "\n",
    "\n",
    "```\n",
    "\n"
   ]
  },
  {
   "cell_type": "code",
   "execution_count": null,
   "metadata": {
    "colab": {},
    "colab_type": "code",
    "id": "09M0gk1HtV0K"
   },
   "outputs": [],
   "source": [
    "names = []\n",
    "names.append('cluster_1')\n",
    "sim_A_to_B = []\n",
    "for idx_A,vector_A in clusters_A.iterrows():\n",
    "    inner_similarity_scores = []\n",
    "    inner_similarity_scores.append(idx_A)\n",
    "    for idx_B,vector_B in clusters_B.iterrows():\n",
    "        distance_tmp = spatial.distance.cosine(vector_A.values, vector_B.values)\n",
    "        similarity_tmp = 1 - distance_tmp\n",
    "\n",
    "        inner_similarity_scores.append(idx_B)\n",
    "        inner_similarity_scores.append(similarity_tmp)\n",
    "\n",
    "        if idx_A == 0:\n",
    "            names.append('cluster_2_'+str(idx_B))\n",
    "            names.append('similarity_'+str(idx_B))\n",
    "\n",
    "    sim_A_to_B.append(inner_similarity_scores)\n",
    "        # print('cluster of A:',idx_A,'to cluster of B:',idx_B,'similarity',similarity_tmp)\n",
    "\n",
    "sim_A_to_B = pd.DataFrame(sim_A_to_B,columns=names)\n",
    "sim_A_to_B.to_csv(datapath+'Word Clustering/'+dim+'D'+dim_comment+'/'+sub_dim+'similarity/agglomerative ward '+period_A+'_'+str(n_clusters_A)+'-'+period_B+'_'+str(n_clusters_B)+'.csv',index=False)"
   ]
  },
  {
   "cell_type": "markdown",
   "metadata": {
    "colab_type": "text",
    "id": "f9guYcqLB_Kg"
   },
   "source": [
    "### Euclidean similarity calculation"
   ]
  },
  {
   "cell_type": "code",
   "execution_count": null,
   "metadata": {
    "colab": {},
    "colab_type": "code",
    "id": "kE5G99c-B-aW"
   },
   "outputs": [],
   "source": [
    "names = []\n",
    "names.append('cluster_1')\n",
    "sim_A_to_B = []\n",
    "for idx_A,vector_A in clusters_A.iterrows():\n",
    "    inner_similarity_scores = []\n",
    "    inner_similarity_scores.append(idx_A)\n",
    "    for idx_B,vector_B in clusters_B.iterrows():\n",
    "        # distance_tmp = spatial.distance.euclidean(vector_A.values, vector_B.values) # automatic calculation\n",
    "        distance_tmp = np.linalg.norm(vector_A.values-vector_B.values) # manual calculation\n",
    "        similarity_tmp = distance_tmp\n",
    "        # similarity_tmp = 1 - distance_tmp\n",
    "\n",
    "\n",
    "        inner_similarity_scores.append(idx_B)\n",
    "        inner_similarity_scores.append(similarity_tmp)\n",
    "\n",
    "        if idx_A == 0:\n",
    "            names.append('cluster_2_'+str(idx_B))\n",
    "            names.append('similarity_'+str(idx_B))\n",
    "\n",
    "    sim_A_to_B.append(inner_similarity_scores)\n",
    "        # print('cluster of A:',idx_A,'to cluster of B:',idx_B,'similarity',similarity_tmp)\n",
    "\n",
    "sim_A_to_B = pd.DataFrame(sim_A_to_B,columns=names)\n",
    "sim_A_to_B.to_csv(datapath+'FastText authkeyword clusters - 29 Oct 2019/'+dim+'D'+dim_comment+'/'+sub_dim+'similarity/agglomerative ward '+period_A+'_'+str(n_clusters_A)+'-'+period_B+'_'+str(n_clusters_B)+' - euclidean.csv',index=False)"
   ]
  },
  {
   "cell_type": "markdown",
   "metadata": {
    "colab_type": "text",
    "id": "E_joOYcT8zGy"
   },
   "source": [
    "## Term Cluster and Term Score Cluster Table Maker"
   ]
  },
  {
   "cell_type": "markdown",
   "metadata": {
    "colab_type": "text",
    "id": "vVmM_ZcPbxLq"
   },
   "source": [
    "Label maker based on centrality"
   ]
  },
  {
   "cell_type": "code",
   "execution_count": null,
   "metadata": {
    "colab": {},
    "colab_type": "code",
    "id": "LWOrBtEvbw1K"
   },
   "outputs": [],
   "source": [
    "# dim = '50'\n",
    "# period = '2017-2018'\n",
    "# dim_comment = ' w1'\n",
    "# n_clusters = 17\n",
    "sub_dim = ''\n",
    "comment = ''\n",
    "# method = 'kmeans '\n",
    "method = 'agglomerative ward '\n",
    "cluster_file_name = datapath+'Word Clustering/'+dim+'D'+dim_comment+'/'+sub_dim+method+period+' '+str(n_clusters)+comment\n",
    "\n",
    "clusters_df = pd.read_csv(cluster_file_name+'.csv')\n",
    "clusters_df = clusters_df[clusters_df['terms'].isin(terms_flat)]\n",
    "\n",
    "# Read cluster center\n",
    "centers_file_name = datapath+'Word Clustering/'+dim+'D'+dim_comment+'/'+sub_dim+'centers/cluster_centers - '+method+period+' '+str(n_clusters)+comment\n",
    "cluster_centers = pd.read_csv(centers_file_name,index_col=0)\n",
    "\n",
    "# Calculate centroid words for n-gram handling\n",
    "def embed(word,model):\n",
    "    phrase=word.split()\n",
    "    gram_vecs = []\n",
    "    for gram in phrase:\n",
    "        gram_vecs.append(model.wv[gram])\n",
    "    return np.array(gram_vecs).mean(axis=0)\n",
    "\n",
    "top_words = []\n",
    "top_scores = []\n",
    "for cluster_n in range(n_clusters-1):\n",
    "    cluster_center = cluster_centers.iloc[cluster_n].values\n",
    "    cluster_terms = clusters_df[clusters_df['clusters']==cluster_n].copy()\n",
    "    \n",
    "    x = [embed(word,FT_model) for word in cluster_terms['terms'].values.tolist()]\n",
    "    if(reduce_dim==True):\n",
    "        pca.fit(x)\n",
    "        cluster_terms['vectors'] = pca.transform(x).tolist()\n",
    "    else:\n",
    "        cluster_terms['vectors'] = x\n",
    "\n",
    "    cluster_terms['similarity'] = [1-spatial.distance.cosine(vector, cluster_center) for vector in np.array(cluster_terms['vectors'])]\n",
    "    cluster_terms = cluster_terms.sort_values(by=['similarity'],ascending=False)\n",
    "    top_words.append(cluster_terms.head(100)['terms'].values.tolist())\n",
    "    top_scores.append(cluster_terms.head(100)['similarity'].values.tolist())\n",
    "pd.DataFrame(top_words).to_csv(datapath+'Word Clustering/'+dim+'D'+dim_comment+'/'+sub_dim+'labels/terms '+period+' '+str(n_clusters)+comment,index=False,header=False)\n",
    "pd.DataFrame(top_scores).to_csv(datapath+'Word Clustering/'+dim+'D'+dim_comment+'/'+sub_dim+'labels/similarity '+period+' '+str(n_clusters)+comment,index=False,header=False)"
   ]
  },
  {
   "cell_type": "markdown",
   "metadata": {
    "colab_type": "text",
    "id": "CgEg-XlKWUWT"
   },
   "source": [
    "From file"
   ]
  },
  {
   "cell_type": "code",
   "execution_count": null,
   "metadata": {
    "colab": {},
    "colab_type": "code",
    "id": "JTykaaTo8zw_"
   },
   "outputs": [],
   "source": [
    "# sub_dim = '10 dim/'\n",
    "# dim_comment = ' 3pcnt'\n",
    "# dim = '15'\n",
    "# period = '1990-2018'\n",
    "# n_clusters = 8\n",
    "comment = ''\n",
    "corpus = pd.read_csv(datapath+'Author keywords - 29 Oct 2019/'+period+' keyword frequency',names=['keyword','frequency'])\n",
    "\n",
    "cluster_file_name = datapath+'FastText authkeyword clusters - 29 Oct 2019/'+dim+'D'+dim_comment+'/'+sub_dim+'agglomerative ward '+period+' '+str(n_clusters)+comment\n",
    "clusters = pd.read_csv(cluster_file_name+'.csv')\n",
    "term_table = clusters.groupby('clusters').groups\n",
    "# term_table_df = pd.DataFrame([list(clusters['terms'][term_table[x]]) for x in term_table]).T.fillna('')\n",
    "# score_table_df = [list(corpus[corpus['keyword']==clusters['terms'][term_table[x]]]['frequency']) for x in term_table]\n",
    "\n",
    "# groups.to_csv('drive/My Drive/Data/FastText authkeyword clusters - 29 Oct 2019/'+dim+'D/'+sub_dim+'term_cluster-tables/agglomerative ward '+period+' '+str(n_clusters)+comment,index=False)\n",
    "\n",
    "term_table_df = []\n",
    "score_table_df = []\n",
    "for cluster_items in term_table:\n",
    "    cluster_terms = list(clusters['terms'][term_table[cluster_items]])\n",
    "    cluster_scores = [corpus[corpus['keyword']==x]['frequency'].values[0] for x in cluster_terms]\n",
    "    score_table_df.append(cluster_scores)\n",
    "    term_table_df.append(cluster_terms)\n",
    "comment = ' - term_cluster'\n",
    "term_table_df = pd.DataFrame(term_table_df).T.to_csv(datapath+'FastText authkeyword clusters - 29 Oct 2019/'+dim+'D'+dim_comment+'/'+sub_dim+'term_cluster-tables/agglomerative ward '+period+' '+str(n_clusters)+comment+'.csv',index=False)\n",
    "comment = ' - term_score'\n",
    "score_table_df = pd.DataFrame(score_table_df).T.to_csv(datapath+'FastText authkeyword clusters - 29 Oct 2019/'+dim+'D'+dim_comment+'/'+sub_dim+'term_cluster-tables/agglomerative ward '+period+' '+str(n_clusters)+comment+'.csv',index=False)\n"
   ]
  },
  {
   "cell_type": "markdown",
   "metadata": {
    "colab_type": "text",
    "id": "3oru7Na3WWEK"
   },
   "source": [
    "From doc words (Option D )"
   ]
  },
  {
   "cell_type": "code",
   "execution_count": null,
   "metadata": {
    "colab": {},
    "colab_type": "code",
    "id": "oSjnSOKWWSnc"
   },
   "outputs": [],
   "source": [
    "comment = ''\n",
    "corpus = word_freq.copy()\n",
    "term_table = clusters_df.groupby('clusters').groups\n",
    "# term_table_df = pd.DataFrame([list(clusters['terms'][term_table[x]]) for x in term_table]).T.fillna('')\n",
    "# score_table_df = [list(corpus[corpus['keyword']==clusters['terms'][term_table[x]]]['frequency']) for x in term_table]\n",
    "\n",
    "# groups.to_csv('drive/My Drive/Data/FastText authkeyword clusters - 29 Oct 2019/'+dim+'D/'+sub_dim+'term_cluster-tables/agglomerative ward '+period+' '+str(n_clusters)+comment,index=False)\n",
    "\n",
    "term_table_df = []\n",
    "score_table_df = []\n",
    "for cluster_items in term_table:\n",
    "    cluster_terms = list(clusters_df['terms'][term_table[cluster_items]])\n",
    "    cluster_scores = [corpus[corpus['term']==x]['freq'].values[0] for x in cluster_terms]\n",
    "    score_table_df.append(cluster_scores)\n",
    "    term_table_df.append(cluster_terms)\n",
    "\n",
    "comment = ' - term_cluster'\n",
    "term_table_df = pd.DataFrame(term_table_df).T.to_csv(datapath+'Word Clustering/'+dim+'D'+dim_comment+'/'+sub_dim+'term_cluster-tables/'+period+' '+str(n_clusters)+comment+'.csv',index=False)\n",
    "comment = ' - term_score'\n",
    "score_table_df = pd.DataFrame(score_table_df).T.to_csv(datapath+'Word Clustering/'+dim+'D'+dim_comment+'/'+sub_dim+'term_cluster-tables/'+period+' '+str(n_clusters)+comment+'.csv',index=False)\n"
   ]
  },
  {
   "cell_type": "markdown",
   "metadata": {
    "colab_type": "text",
    "id": "T5WmGKe7vCOk"
   },
   "source": [
    "# Document Clustering"
   ]
  },
  {
   "cell_type": "markdown",
   "metadata": {
    "colab_type": "text",
    "id": "WTNx8Pr6yf_A"
   },
   "source": [
    "## Simple averaging"
   ]
  },
  {
   "cell_type": "markdown",
   "metadata": {
    "colab_type": "text",
    "id": "uYYeCoJHv-Ge"
   },
   "source": [
    "#### Calculate document vectors"
   ]
  },
  {
   "cell_type": "code",
   "execution_count": null,
   "metadata": {
    "colab": {
     "base_uri": "https://localhost:8080/",
     "height": 34
    },
    "colab_type": "code",
    "id": "W6zjDa-uvCU7",
    "outputId": "2d60686e-3380-4418-c4d1-03e5015a70cd"
   },
   "outputs": [],
   "source": [
    "article_vectors = []\n",
    "for idx,article in tqdm(enumerate(period_article_vectors),total=len(period_article_vectors)):\n",
    "    article_vectors.append(np.array(pd.DataFrame(article).mean().values.tolist()))"
   ]
  },
  {
   "cell_type": "code",
   "execution_count": null,
   "metadata": {
    "colab": {
     "base_uri": "https://localhost:8080/",
     "height": 34
    },
    "colab_type": "code",
    "id": "xg7-fUsan8Ch",
    "outputId": "84411679-2567-4da1-f674-7c11c9602fa8"
   },
   "outputs": [],
   "source": [
    "article_vectors_np = np.array(article_vectors)\n",
    "article_vectors_np.shape"
   ]
  },
  {
   "cell_type": "markdown",
   "metadata": {
    "colab_type": "text",
    "id": "7BHhKYjA_LiL"
   },
   "source": [
    "#### Save doc vectors to disk"
   ]
  },
  {
   "cell_type": "code",
   "execution_count": null,
   "metadata": {
    "colab": {},
    "colab_type": "code",
    "id": "5BXZ0PCU_J7H"
   },
   "outputs": [],
   "source": [
    "article_vectors_df = pd.DataFrame(article_vectors_np)\n",
    "article_vectors_df['article'] = period_article_indices\n",
    "article_vectors_df.to_csv(datapath+'FastText doc vectors/'+'FastText doc vectors '+period+'.csv')"
   ]
  },
  {
   "cell_type": "markdown",
   "metadata": {
    "colab_type": "text",
    "id": "5CDndjuDwCw4"
   },
   "source": [
    "#### Find out the N-clusters"
   ]
  },
  {
   "cell_type": "code",
   "execution_count": 21,
   "metadata": {
    "colab": {
     "base_uri": "https://localhost:8080/",
     "height": 376
    },
    "colab_type": "code",
    "id": "h2exOgrBwC2E",
    "outputId": "82accf24-5b83-4e6b-8060-b26b75664486"
   },
   "outputs": [],
   "source": [
    "#@title K-Means elbow (Distortion should go down.)\n",
    "model = KMeans()\n",
    "visualizer = KElbowVisualizer(model, k=(3,100))\n",
    "visualizer.fit(year_vectors)                                                    # Fit the data to the visualizer\n",
    "visualizer.poof()  "
   ]
  },
  {
   "cell_type": "code",
   "execution_count": 20,
   "metadata": {
    "colab": {
     "base_uri": "https://localhost:8080/",
     "height": 381
    },
    "colab_type": "code",
    "id": "bnyg7c4YoXb1",
    "outputId": "de9106bc-66ca-4563-b66d-bb883db7fbaf"
   },
   "outputs": [],
   "source": [
    "#@title K-Means silhouette score \n",
    "\n",
    "silhouette_avg_all = []\n",
    "cluster_range =list(range(2,50,2))\n",
    "\n",
    "print(\"Gridsearching the cluster ranges . . . \")\n",
    "for n_clusters in tqdm(cluster_range,total=len(cluster_range)):\n",
    "    # clustering = AgglomerativeClustering(n_clusters=n_clusters,affinity='cosine',linkage='complete').fit(articles_vectors_filtered_np)\n",
    "    clustering = KMeans(n_clusters=n_clusters, random_state=10).fit(year_vectors)\n",
    "    # clustering = AffinityPropagation().fit(article_vectors_np)\n",
    "    \n",
    "    cluster_labels = clustering.labels_\n",
    "    silhouette_avg = silhouette_score(year_vectors, cluster_labels)\n",
    "    silhouette_avg_all.append(silhouette_avg)\n",
    "\n",
    "fig = plt.figure()\n",
    "plt.plot(silhouette_avg_all)\n",
    "plt.show()"
   ]
  },
  {
   "cell_type": "code",
   "execution_count": 16,
   "metadata": {
    "colab": {},
    "colab_type": "code",
    "id": "1A3DAsf0oXHt"
   },
   "outputs": [
    {
     "data": {
      "image/png": "[encoded data removed]",
      "text/plain": [
       "<Figure size 1080x576 with 1 Axes>"
      ]
     },
     "metadata": {},
     "output_type": "display_data"
    }
   ],
   "source": [
    "#@title Dendrogram \n",
    "dendrogram = aa.fancy_dendrogram(sch.linkage(year_vectors, method='ward'),\n",
    "                                 truncate_mode='lastp',p=500,show_contracted=True,figsize=(15,8)) #single #average #ward"
   ]
  },
  {
   "cell_type": "markdown",
   "metadata": {
    "colab_type": "text",
    "id": "Nwa9hHoCuBrG"
   },
   "source": [
    "#### Cluster - simple kmeans"
   ]
  },
  {
   "cell_type": "code",
   "execution_count": null,
   "metadata": {
    "colab": {},
    "colab_type": "code",
    "id": "swNysf_juB1n"
   },
   "outputs": [],
   "source": [
    "n_clusters = 9\n",
    "\n",
    "model = KMeans(n_clusters=n_clusters, random_state=10).fit(article_vectors_np)\n",
    "labels = model.labels_\n",
    "\n",
    "clusters_df = pd.DataFrame({'articles':period_article_indices,'clusters':labels})\n",
    "\n",
    "clusters_df.to_csv(datapath+'FastText doc clusters/'+'FastText doc clusters kmeans '+period+' '+str(n_clusters)+'.csv',index=False)"
   ]
  },
  {
   "cell_type": "markdown",
   "metadata": {
    "colab_type": "text",
    "id": "Q3E8fTxAyrQA"
   },
   "source": [
    "## Weighted averaging / SIF"
   ]
  },
  {
   "cell_type": "markdown",
   "metadata": {
    "colab_type": "text",
    "id": "wC87uXUlywoA"
   },
   "source": [
    "#### Prepare vectors - skip if D"
   ]
  },
  {
   "cell_type": "code",
   "execution_count": null,
   "metadata": {
    "cellView": "both",
    "colab": {
     "base_uri": "https://localhost:8080/",
     "height": 68
    },
    "colab_type": "code",
    "id": "VoD4xUbDyxuT",
    "outputId": "bf2b9bbc-c2a7-4765-a59b-cc7f1e3b7b42"
   },
   "outputs": [],
   "source": [
    "year_from = 1990#@param {type:\"number\"} \n",
    "year_to =  2005#@param {type:\"number\"} \n",
    "#@markdown Don't forget to set year_to to a year higher than intended\n",
    "year_index = []\n",
    "year_sources = []\n",
    "year_titles = []\n",
    "year_vectors = []\n",
    "year_topics = []\n",
    "year_topics_sep = []\n",
    "year_keywords = []\n",
    "year_keywords_sep = []\n",
    "year_meta = []\n",
    "period = str(year_from)+'-'+str(year_to-1)\n",
    "\n",
    "for i,tmp_year in tqdm(enumerate(doc_year),total=doc_year.shape[0]):\n",
    "    if tmp_year > year_from-1 and tmp_year < year_to:\n",
    "        tmp_index = doc_index[i]\n",
    "        tmp_source = doc_sources[i]\n",
    "        tmp_vector = doc_vectors[i,:]\n",
    "        tmp_title = doc_titles[i]\n",
    "        tmp_topics = doc_research_topic[i]\n",
    "        tmp_keywords = doc_keywords[i]\n",
    "        tmp_meta = doc_meta.iloc[i]\n",
    "        year_sources.append(tmp_source)\n",
    "        year_topics.append(tmp_topics)\n",
    "        year_index.append(tmp_index)\n",
    "        # print(tmp_topics)\n",
    "        if pd.isnull(tmp_topics):\n",
    "            year_topics_sep.append('')\n",
    "        else:\n",
    "            year_topics_sep.append([x.strip() for x in tmp_topics.split(';')])\n",
    "        if pd.isnull(tmp_keywords):\n",
    "            year_keywords_sep.append('')\n",
    "        else:\n",
    "            year_keywords_sep.append([x.strip() for x in tmp_keywords.split(';')])\n",
    "        year_titles.append(tmp_title)\n",
    "        year_vectors.append(tmp_vector)\n",
    "        year_meta.append(tmp_meta)\n",
    "\n",
    "year_vectors = np.array(year_vectors)\n",
    "print('\\n',period,year_vectors.shape)"
   ]
  },
  {
   "cell_type": "markdown",
   "metadata": {
    "colab_type": "text",
    "id": "DN-JfG0FQzVz"
   },
   "source": [
    "#### Topic preparation - WC (Web of science Categories)\n",
    "Prepare label names (topics) - Doing this, is faster than using a function to this operation in every loop whenever we need it. However, this and similar things are not memory friendly."
   ]
  },
  {
   "cell_type": "code",
   "execution_count": null,
   "metadata": {
    "colab": {
     "base_uri": "https://localhost:8080/",
     "height": 34
    },
    "colab_type": "code",
    "id": "YOe2cx4TQzE0",
    "outputId": "82aa18a8-a4ee-454b-f59b-b7284c10f26d"
   },
   "outputs": [],
   "source": [
    "year_topics_sep_joined = []\n",
    "for pub_topics in tqdm(year_topics_sep):\n",
    "    if pub_topics == '':\n",
    "        year_topics_sep_joined.append('*')\n",
    "    else:\n",
    "        year_topics_sep_joined.append(';'.join(pub_topics))"
   ]
  },
  {
   "cell_type": "markdown",
   "metadata": {
    "colab_type": "text",
    "id": "XIxvz5gyOrK5"
   },
   "source": [
    "#### Keyword preparation\n",
    "Prepare label names (keywords) - Doing this, is faster than using a function to this operation in every loop whenever we need it. However, this and similar things are not memory friendly."
   ]
  },
  {
   "cell_type": "code",
   "execution_count": null,
   "metadata": {
    "colab": {
     "base_uri": "https://localhost:8080/",
     "height": 153
    },
    "colab_type": "code",
    "id": "nbpHf5M1VNUz",
    "outputId": "17522762-75fa-4c31-c347-c7bbbe29bf41"
   },
   "outputs": [],
   "source": [
    "# Clean keywords\n",
    "year_keywords_sep = [list(map(str.strip, x)) for x in year_keywords_sep]\n",
    "year_keywords_sep = [list(map(str.lower, x)) for x in year_keywords_sep]\n",
    "\n",
    "regex = re.compile(\"\\((.*?)\\)\")\n",
    "tmp_data = []\n",
    "for row in year_keywords_sep:\n",
    "    tmp_data.append([regex.sub('',x).strip() for x in row])\n",
    "    \n",
    "year_keywords_sep = tmp_data.copy()\n",
    "tmp_data = []\n",
    "for string_list in tqdm(year_keywords_sep, total=len(year_keywords_sep)):\n",
    "    tmp_data.append([x for x in string_list if x!=''])\n",
    "year_keywords_sep = tmp_data.copy()\n",
    "del tmp_data\n",
    "\n",
    "# Thesaurus\n",
    "year_keywords_sep = kw.thesaurus_matching(year_keywords_sep,'science_science/data/thesaurus/thesaurus_for_ai_keyword_with_().csv',have_n_grams=True,verbose=0\n",
    "                                          )\n",
    "tmp_data = []\n",
    "for string_list in tqdm(year_keywords_sep, total=len(year_keywords_sep)):\n",
    "    tmp_data.append([x for x in string_list if x!=''])\n",
    "year_keywords_sep = tmp_data.copy()\n",
    "del tmp_data\n",
    "# Lemmatize\n",
    "\n",
    "keywords_orig = year_keywords_sep.copy()\n",
    "tmp_data = []\n",
    "print(\"\\nString pre processing for keywords\")\n",
    "for string_list in tqdm(year_keywords_sep, total=len(year_keywords_sep)):\n",
    "    tmp_list = [kw.string_pre_processing(x,stemming_method='False',lemmatization=True,stop_words_extra=stop_words,verbose=False,download_nltk=False) for x in string_list]\n",
    "    tmp_data.append(tmp_list)\n",
    "year_keywords_sep = tmp_data\n",
    "del tmp_data\n",
    "\n",
    "# Thesaurus\n",
    "year_keywords_sep = kw.thesaurus_matching(year_keywords_sep,'science_science/data/thesaurus/thesaurus_for_ai_keyword_with_().csv',have_n_grams=False)\n",
    "\n",
    "tmp_data = []\n",
    "for string_list in tqdm(year_keywords_sep, total=len(year_keywords_sep)):\n",
    "    tmp_data.append([x for x in string_list if x!=''])\n",
    "year_keywords_sep = tmp_data.copy()\n",
    "del tmp_data\n",
    "\n"
   ]
  },
  {
   "cell_type": "code",
   "execution_count": null,
   "metadata": {
    "colab": {
     "base_uri": "https://localhost:8080/",
     "height": 34
    },
    "colab_type": "code",
    "id": "SRHR4LYBOoYO",
    "outputId": "fed7cece-c559-4f34-d5ed-d9b8416a8406"
   },
   "outputs": [],
   "source": [
    "year_keywords_sep_joined = []\n",
    "for pub_keywords in tqdm(year_keywords_sep):\n",
    "    if pub_keywords == '':\n",
    "        year_keywords_sep_joined.append('*')\n",
    "    else:\n",
    "        year_keywords_sep_joined.append(';'.join(pub_keywords))"
   ]
  },
  {
   "cell_type": "markdown",
   "metadata": {
    "colab_type": "text",
    "id": "pQaJn5WWXoqr"
   },
   "source": [
    "### Clustering"
   ]
  },
  {
   "cell_type": "markdown",
   "metadata": {
    "colab_type": "text",
    "id": "9ocJ1fJlGdPq"
   },
   "source": [
    "#### Find optimal cluster size: Dendrogram method"
   ]
  },
  {
   "cell_type": "code",
   "execution_count": 13,
   "metadata": {
    "colab": {
     "base_uri": "https://localhost:8080/",
     "height": 376
    },
    "colab_type": "code",
    "id": "xBG6WrFE73gU",
    "outputId": "e4fd62f0-dc41-4ad0-8fc9-adaf396e854d"
   },
   "outputs": [
    {
     "data": {
      "image/png": "[encoded data removed]",
      "text/plain": [
       "<Figure size 576x396 with 2 Axes>"
      ]
     },
     "metadata": {},
     "output_type": "display_data"
    },
    {
     "data": {
      "text/plain": [
       "<AxesSubplot:title={'center':'Distortion Score Elbow for KMeans Clustering'}, xlabel='k', ylabel='distortion score'>"
      ]
     },
     "execution_count": 13,
     "metadata": {},
     "output_type": "execute_result"
    }
   ],
   "source": [
    "#@title Distortion should go down.\n",
    "model = KMeans()\n",
    "visualizer = KElbowVisualizer(model, k=(4,500))\n",
    "visualizer.fit(year_vectors)                                                    # Fit the data to the visualizer\n",
    "visualizer.poof()"
   ]
  },
  {
   "cell_type": "code",
   "execution_count": 9,
   "metadata": {
    "colab": {
     "base_uri": "https://localhost:8080/",
     "height": 639
    },
    "colab_type": "code",
    "id": "0QtZEXdHzXKt",
    "outputId": "daa9a16f-25a8-4263-8a7d-8e0a90d1056d"
   },
   "outputs": [
    {
     "name": "stdout",
     "output_type": "stream",
     "text": [
      "\n"
     ]
    },
    {
     "data": {
      "image/png": "[encoded data removed]",
      "text/plain": [
       "<Figure size 1080x720 with 1 Axes>"
      ]
     },
     "metadata": {},
     "output_type": "display_data"
    }
   ],
   "source": [
    "#@title Dendrogram choose either single OR average OR ward\n",
    "print(period)\n",
    "dendrogram = aa.fancy_dendrogram(sch.linkage(year_vectors, method='ward'),\n",
    "            truncate_mode='lastp',p=800,show_contracted=True,figsize=(15,10)) "
   ]
  },
  {
   "cell_type": "markdown",
   "metadata": {
    "colab_type": "text",
    "id": "JxiGCH1cG2hq"
   },
   "source": [
    "#### Init clustering"
   ]
  },
  {
   "cell_type": "code",
   "execution_count": null,
   "metadata": {
    "colab": {},
    "colab_type": "code",
    "id": "cy9SFizgG23i"
   },
   "outputs": [],
   "source": [
    "n_clusters = 13\n",
    "top_labeles_to_draw = 5\n",
    "chance_of_printing_label = 0.3\n",
    "comment = ''\n",
    "dim = '100D 4k'"
   ]
  },
  {
   "cell_type": "markdown",
   "metadata": {
    "colab_type": "text",
    "id": "tHHu9tcvG_FJ"
   },
   "source": [
    "#### Cluster"
   ]
  },
  {
   "cell_type": "code",
   "execution_count": null,
   "metadata": {
    "colab": {},
    "colab_type": "code",
    "id": "t_irHzyOHBGe"
   },
   "outputs": [],
   "source": [
    "model = AgglomerativeClustering(n_clusters=n_clusters,linkage='ward').fit(year_vectors)\n",
    "labels = model.labels_"
   ]
  },
  {
   "cell_type": "code",
   "execution_count": null,
   "metadata": {
    "colab": {},
    "colab_type": "code",
    "id": "x2444QJ1GPQu"
   },
   "outputs": [],
   "source": [
    "clusters_df = pd.DataFrame({'sources':year_sources,'clusters':labels})\n",
    "clusters_df.to_csv(datapath+'Document Clustering/'+dim+'/agglomerative ward '+period+' '+str(n_clusters)+'.csv',index=False)"
   ]
  },
  {
   "cell_type": "code",
   "execution_count": null,
   "metadata": {
    "colab": {},
    "colab_type": "code",
    "id": "7GAB85vBGPH6"
   },
   "outputs": [],
   "source": [
    "clusters_df = pd.DataFrame({'topic':year_topics_sep_joined,'clusters':labels})\n",
    "clusters_df.to_csv(datapath+'Document Clustering/'+dim+'/agglomerative ward '+period+' '+str(n_clusters)+' - topic_labels.csv',index=False)"
   ]
  },
  {
   "cell_type": "code",
   "execution_count": null,
   "metadata": {
    "colab": {},
    "colab_type": "code",
    "id": "W32314G1GO8d"
   },
   "outputs": [],
   "source": [
    "plus = ''\n",
    "# plus = ' -plus'\n",
    "clusters_df = pd.DataFrame({'topic':year_keywords_sep_joined,'clusters':labels})\n",
    "clusters_df.to_csv(datapath+'Document Clustering/'+dim+'/agglomerative ward '+period+' '+str(n_clusters)+plus+' - keyword_labels.csv',index=False)"
   ]
  },
  {
   "cell_type": "code",
   "execution_count": null,
   "metadata": {
    "colab": {},
    "colab_type": "code",
    "id": "3vQkYFPTf91c"
   },
   "outputs": [],
   "source": [
    "# Abstracts\n",
    "# file_address = datapath+'Corpus/AI 4k/copyr_deflem_stopword_removed_thesaurus May 28/by period/n-gram by 6 repetition keywords/'+period+' abstract_title'\n",
    "\n",
    "year_abstracts = pd.read_csv(file_address,names=['abstract'])['abstract'].values\n",
    "clusters_df = pd.DataFrame({'topic':year_abstracts,'clusters':labels})\n",
    "clusters_df.to_csv(datapath+'Document Clustering/'+dim+'/agglomerative ward '+period+' '+str(n_clusters)+' - abstract_labels.csv',index=False)"
   ]
  },
  {
   "cell_type": "code",
   "execution_count": 8,
   "metadata": {
    "colab": {},
    "colab_type": "code",
    "id": "4TiHFJ11_wAC"
   },
   "outputs": [],
   "source": [
    "# read abstract clusters instead of doing a fresh clustering\n",
    "cluster_file_name = datapath+\"Corpus/AI 4k/embeddings/clustering/k10/Doc2Vec patent_wos_ai corpus DEC 200,500,10 k10 labels\"\n",
    "clusters_df = pd.read_csv(cluster_file_name)"
   ]
  },
  {
   "cell_type": "markdown",
   "metadata": {
    "colab_type": "text",
    "id": "tasSqpziLffd"
   },
   "source": [
    "##### TF-IDF labels"
   ]
  },
  {
   "cell_type": "code",
   "execution_count": 6,
   "metadata": {
    "colab": {},
    "colab_type": "code",
    "id": "sFL-zkmDA1B9"
   },
   "outputs": [],
   "source": [
    "def get_abstract_keywords(corpus,keywords_wanted,max_df=0.9,max_features=None):\n",
    "    cv=CountVectorizer(max_df=max_df,stop_words=stop_words, max_features=max_features, ngram_range=(1,1))\n",
    "    X=cv.fit_transform(corpus)\n",
    "    # get feature names\n",
    "    feature_names=cv.get_feature_names()\n",
    "    tfidf_transformer=TfidfTransformer(smooth_idf=True,use_idf=True)\n",
    "    tfidf_transformer.fit(X)\n",
    "    keywords_tfidf = []\n",
    "    keywords_sorted = []\n",
    "    for doc in tqdm(corpus,total=len(corpus)):\n",
    "        tf_idf_vector=tfidf_transformer.transform(cv.transform([doc]))\n",
    "        sorted_items=kw.sort_coo(tf_idf_vector.tocoo())\n",
    "        keywords_sorted.append(sorted_items)\n",
    "        keywords_tfidf.append(kw.extract_topn_from_vector(feature_names,sorted_items,keywords_wanted))\n",
    "    return keywords_tfidf\n",
    "\n",
    "def get_corpus_top_keywords(abstract_keywords_dict=None):\n",
    "    if abstract_keywords_dict == None:\n",
    "        print(\"keywords should be provided\")\n",
    "        return False\n",
    "    terms = []\n",
    "    values = []\n",
    "    for doc in abstract_keywords_dict:\n",
    "        if doc != None:\n",
    "            terms = terms+list(doc.keys())\n",
    "            values = values+list(doc.values())\n",
    "    terms_df = pd.DataFrame({'terms':terms,'value':values}).groupby('terms').sum().sort_values('value',ascending=False)\n",
    "    return terms_df\n",
    "\n",
    "def find_max_item_value_in_all_cluster(haystack,needle,cluster_exception=None):\n",
    "    max_val = 0\n",
    "    max_index = None\n",
    "    counter = 0\n",
    "    for item in haystack:\n",
    "        try:\n",
    "            if item[needle]>max_val:\n",
    "                if cluster_exception==None:\n",
    "                    max_val = item[needle]\n",
    "                    max_index = counter\n",
    "                else:\n",
    "                    if cluster_exception != counter:\n",
    "                        max_val = item[needle] \n",
    "                        max_index = counter\n",
    "        except:\n",
    "            pass\n",
    "        counter+=1\n",
    "\n",
    "        if max_index!=None:\n",
    "            row_max = haystack[max_index][list(haystack[max_index].keys())[0]] # Will give the maximum value (first item) of the row with max value of the needle. This gives us a perspective to see how this score compares to the max in the same row.\n",
    "        else:\n",
    "            row_max = 0\n",
    "    # except:\n",
    "        # row_max = None\n",
    "    \n",
    "\n",
    "    return max_val,row_max"
   ]
  },
  {
   "cell_type": "markdown",
   "metadata": {
    "colab_type": "text",
    "id": "6wqRZ3f95aSS"
   },
   "source": [
    "##### Regular TF-IDF labels"
   ]
  },
  {
   "cell_type": "code",
   "execution_count": null,
   "metadata": {
    "colab": {},
    "colab_type": "code",
    "id": "rIo_K5Hug1tI"
   },
   "outputs": [],
   "source": [
    "# TF-IDF (normal)\n",
    "year_tfidf_keywords_sep_joined = []\n",
    "year_tfidf_labels = []\n",
    "year_abstracts = pd.read_csv(datapath+\"Corpus/copyr_lemmatized_stopword_removed_thesaurus/by period/n-gram by 2 repetition keywords/\"+period+\" abstract_title\",names=['abstract'])['abstract']\n",
    "cluster_groups = clusters_df.groupby('label').groups\n",
    "for cluster in cluster_groups.keys():\n",
    "    cluster_abst_ids = list(cluster_groups[cluster])\n",
    "    cluster_abstracts = year_abstracts[cluster_abst_ids].values\n",
    "    cluster_keywords_tfidf = get_abstract_keywords(cluster_abstracts,10,max_df=0.5)\n",
    "    cluster_top_words = list(get_corpus_top_keywords(cluster_keywords_tfidf).index[:6])\n",
    "    year_tfidf_labels.append(get_corpus_top_keywords(cluster_keywords_tfidf).head(6).reset_index().values.tolist())\n",
    "    year_tfidf_keywords_sep_joined.append(';'.join(cluster_top_words))\n",
    "    # print('\\n',cluster_top_words_joined)\n",
    "year_tfidf_keywords_sep_joined\n",
    "pd.DataFrame(year_tfidf_labels).to_csv(datapath+\"Document Clustering/\"+dim+\"/labels/agglomerative ward \"+period+\" \"+str(n_clusters)+\" - TF-IDF_labels.csv\",index=False,header=False)"
   ]
  },
  {
   "cell_type": "markdown",
   "metadata": {
    "colab_type": "text",
    "id": "Va6Zee0g5WMY"
   },
   "source": [
    "##### CTF-ICF labels"
   ]
  },
  {
   "cell_type": "code",
   "execution_count": 11,
   "metadata": {
    "colab": {},
    "colab_type": "code",
    "id": "tTXFxYla7cxJ"
   },
   "outputs": [
    {
     "name": "stderr",
     "output_type": "stream",
     "text": [
      "100%|██████████| 10/10 [00:00<00:00, 44.14it/s]\n"
     ]
    }
   ],
   "source": [
    "# TF-IDF (CTF-ICF)\n",
    "cluster_as_string = []\n",
    "year_abstracts = pd.read_csv(file_address,names=['abstract'])['abstract']\n",
    "clusters = clusters_df.groupby('label').groups\n",
    "for key in clusters.keys():\n",
    "    cluster_as_string.append(' '.join(year_abstracts[list(clusters[key])]))\n",
    "cluster_keywords_tfidf = get_abstract_keywords(cluster_as_string,100,max_df=0.8)\n",
    "\n",
    "cluster_keywords = []\n",
    "cluster_index = 0\n",
    "for items in cluster_keywords_tfidf:\n",
    "    items_tmp = []\n",
    "    for item in items:\n",
    "        max_data = find_max_item_value_in_all_cluster(cluster_keywords_tfidf,item,cluster_index)\n",
    "        items_tmp.append(item+' ('+str(items[item])+' | '+str(max_data[0])+'/'+str(max_data[1])+')') # (item+' :'+str(items[item])+' / '+str( max of item in all other rows))\n",
    "    cluster_keywords.append(items_tmp)\n",
    "    cluster_index+=1\n",
    "pd.DataFrame(cluster_keywords).to_csv(cluster_file_name+\" keywords\",index=False,header=False)"
   ]
  },
  {
   "cell_type": "code",
   "execution_count": 12,
   "metadata": {
    "colab": {},
    "colab_type": "code",
    "id": "wjPFdnSDG-bF"
   },
   "outputs": [],
   "source": [
    "# Get term cluster labels (just terms and not scores)\n",
    "cluster_keywords_terms = []\n",
    "cluster_keywords_scores = []\n",
    "for item in cluster_keywords_tfidf:\n",
    "    cluster_keywords_terms.append(list(item.keys()))\n",
    "    cluster_keywords_scores.append(list(item.values()))\n",
    "\n",
    "pd.DataFrame(cluster_keywords_terms).T.to_csv(cluster_file_name+\" keywords - term_cluster.csv\",index=False)\n",
    "pd.DataFrame(cluster_keywords_scores).T.to_csv(cluster_file_name+\" keywords - term_score.csv\",index=False)"
   ]
  },
  {
   "cell_type": "code",
   "execution_count": null,
   "metadata": {
    "colab": {},
    "colab_type": "code",
    "id": "yJrZhBBuDFpg"
   },
   "outputs": [],
   "source": [
    "# Get term frequencies for each period\n",
    "terms = ' '.join(cluster_as_string).split()\n",
    "terms = [x for x in terms if x not in list(stop_words)]\n",
    "pd.DataFrame(terms,columns=['terms'])['terms'].value_counts().to_csv(datapath+'Corpus/AI 4k/copyr_deflem_stopword_removed_thesaurus May 28/by period/n-gram by 6 repetition keywords/'+period,header=False)"
   ]
  },
  {
   "cell_type": "markdown",
   "metadata": {
    "colab_type": "text",
    "id": "CTCy_IP77Jw7"
   },
   "source": [
    "##### Word centrality labels"
   ]
  },
  {
   "cell_type": "code",
   "execution_count": null,
   "metadata": {
    "colab": {},
    "colab_type": "code",
    "id": "QqQBSUtIbPV5"
   },
   "outputs": [],
   "source": [
    "sub_dim = ''\n",
    "# dim = '50'\n",
    "dim_comment = ''\n",
    "period = '2014-2016' \n",
    "n_clusters = 11\n",
    "\n",
    "# read abstract clusters instead of doing a fresh clustering\n",
    "cluster_file_name = datapath+'Document Clustering/'+dim+'/agglomerative ward '+period+' '+str(n_clusters)+' - abstract_labels.csv' \n",
    "clusters_df = pd.read_csv(cluster_file_name)"
   ]
  },
  {
   "cell_type": "code",
   "execution_count": null,
   "metadata": {
    "colab": {},
    "colab_type": "code",
    "id": "qK0QsTeA7cL0"
   },
   "outputs": [],
   "source": [
    "def embed(word,model,sep):\n",
    "    phrase=word.split(sep)\n",
    "    gram_vecs = []\n",
    "    for gram in phrase:\n",
    "        gram_vecs.append(model.wv[gram])\n",
    "    return np.array(gram_vecs).mean(axis=0)\n",
    "\n",
    "gensim_model_address = datapath+'FastText Models/50D May 16/fasttext-scopus-300k_docs-gensim 50D.model'\n",
    "FT_model = fasttext_gensim.load(gensim_model_address)"
   ]
  },
  {
   "cell_type": "code",
   "execution_count": null,
   "metadata": {
    "colab": {},
    "colab_type": "code",
    "id": "sEmO6d3F7KxG"
   },
   "outputs": [],
   "source": [
    "# Read cluster center\n",
    "center_address = datapath+'Document Clustering/'+dim+'/'+sub_dim+'centers/agglomerative ward '+period+' '+str(n_clusters)+comment\n",
    "cluster_centers = pd.read_csv(center_address,index_col=0)"
   ]
  },
  {
   "cell_type": "code",
   "execution_count": null,
   "metadata": {
    "colab": {},
    "colab_type": "code",
    "id": "09LGEQtrCYTp"
   },
   "outputs": [],
   "source": [
    "term_scores = []\n",
    "for cluster_n in range(n_clusters-1):\n",
    "    cluster_center = cluster_centers.iloc[cluster_n].values\n",
    "    cluster_abstrcts = clusters_df[clusters_df['clusters']==cluster_n].copy()\n",
    "    cluster_abstrcts = cluster_abstrcts['topic'].str.lower().values.tolist()\n",
    "    cluster_abstrcts = ' '.join(cluster_abstrcts)\n",
    "    cluster_terms = cluster_abstrcts.split()\n",
    "    cluster_terms = pd.DataFrame(cluster_terms)\n",
    "    cluster_terms.columns = ['terms']\n",
    "    cluster_terms_tmp = list(cluster_terms.groupby('terms').groups.keys())\n",
    "    cluster_terms = pd.DataFrame([])\n",
    "    cluster_terms['terms'] = cluster_terms_tmp\n",
    "\n",
    "    x = [embed(word,FT_model,'_') for word in cluster_terms.terms.values.tolist()]\n",
    "    \n",
    "    cluster_terms['vectors'] = x\n",
    "    cluster_terms['similarity'] = [1-spatial.distance.cosine(vector, cluster_center) for vector in np.array(cluster_terms['vectors'])]\n",
    "    cluster_terms = cluster_terms.sort_values(by=['similarity'],ascending=False)\n",
    "\n",
    "    cluster_terms = cluster_terms[['terms','similarity']]\n",
    "    term_scores.append(cluster_terms.set_index('terms').T.to_dict('records'))\n",
    "\n",
    "    # top_words = cluster_terms.head(1000)['terms'].values.tolist()\n",
    "    # top_scores = cluster_terms.head(1000)['similarity'].values.tolist()"
   ]
  },
  {
   "cell_type": "markdown",
   "metadata": {
    "colab_type": "text",
    "id": "EwapCbDdX56A"
   },
   "source": [
    "###### Combine CTF-ICF and Cluster centrality"
   ]
  },
  {
   "cell_type": "code",
   "execution_count": null,
   "metadata": {
    "colab": {
     "base_uri": "https://localhost:8080/",
     "height": 34
    },
    "colab_type": "code",
    "id": "BHkZPEVtX-75",
    "outputId": "c6bbb8ee-146c-495e-9ad2-3d5c4de3d4ad"
   },
   "outputs": [],
   "source": [
    "cluster_as_string = []\n",
    "year_abstracts = clusters_df['topic'].values\n",
    "clusters = clusters_df.groupby('clusters').groups\n",
    "for key in clusters.keys():\n",
    "    cluster_as_string.append(' '.join(year_abstracts[list(clusters[key])]))\n",
    "cluster_keywords_tfidf = get_abstract_keywords(cluster_as_string,1000,max_df=0.8)\n",
    "\n",
    "new_scores = []\n",
    "for cluster_n in range(n_clusters-1):\n",
    "    terms = list(cluster_keywords_tfidf[cluster_n].keys())\n",
    "    scores = [cluster_keywords_tfidf[cluster_n][term]*term_scores[cluster_n][0][term] for term in terms]\n",
    "    new_data = dict(zip(terms, scores))\n",
    "    new_scores.append(new_data)"
   ]
  },
  {
   "cell_type": "code",
   "execution_count": null,
   "metadata": {
    "colab": {},
    "colab_type": "code",
    "id": "rLdNoIWRsefl"
   },
   "outputs": [],
   "source": [
    "saving_path = datapath+\"Document Clustering/\"+dim+\"/labels/agglomerative ward \"+period+\" \"+str(n_clusters)+\" - central_tficf labels_withmax.csv\"\n",
    "\n",
    "\n",
    "cluster_keywords = []\n",
    "cluster_index = 0\n",
    "for items in cluster_keywords_tfidf:\n",
    "    items_tmp = []\n",
    "    for item in items:\n",
    "        max_data = find_max_item_value_in_all_cluster(cluster_keywords_tfidf,item,cluster_index)\n",
    "        items_tmp.append(item+' ('+str(items[item])+' | '+str(max_data[0])+'/'+str(max_data[1])+')') # (item+' :'+str(items[item])+' / '+str( max of item in all other rows))\n",
    "    cluster_keywords.append(items_tmp)\n",
    "    cluster_index+=1\n",
    "print('saving to ',saving_path)\n",
    "pd.DataFrame(cluster_keywords).to_csv(saving_path,index=False,header=False)"
   ]
  },
  {
   "cell_type": "markdown",
   "metadata": {
    "colab_type": "text",
    "id": "8JQ4GpYSS7Hr"
   },
   "source": [
    "#### Visualize clusters - with source labels"
   ]
  },
  {
   "cell_type": "code",
   "execution_count": null,
   "metadata": {
    "colab": {
     "base_uri": "https://localhost:8080/",
     "height": 34
    },
    "colab_type": "code",
    "id": "XkibDZbtS7gl",
    "outputId": "452bfa55-7d62-42eb-8672-ddaca52e28ab"
   },
   "outputs": [],
   "source": [
    "cluster_file_name = datapath+'FastText doc clusters - SIP/'+dim+'D/agglomerative ward '+period+' '+str(n_clusters)+'.csv'\n",
    "cluster_file_name"
   ]
  },
  {
   "cell_type": "code",
   "execution_count": null,
   "metadata": {
    "colab": {},
    "colab_type": "code",
    "id": "sko527Y5S_zp"
   },
   "outputs": [],
   "source": [
    "clusters_df = pd.read_csv(cluster_file_name)\n",
    "clusters_df = clusters_df[clusters_df['sources'].isin(year_sources)]\n",
    "color_palette = aa.color_palette_maker(n_clusters)\n",
    "colors = aa.cluster_color_mapper(clusters_df['clusters'].values.tolist(),color_palette)\n",
    "clusters_df['colors'] = colors"
   ]
  },
  {
   "cell_type": "code",
   "execution_count": null,
   "metadata": {
    "colab": {
     "base_uri": "https://localhost:8080/",
     "height": 34
    },
    "colab_type": "code",
    "id": "-PniuZMmTCpF",
    "outputId": "a0d88963-75b0-4874-f71d-9090e3a4e073"
   },
   "outputs": [],
   "source": [
    "pca = PCA(2)\n",
    "pca.fit(year_vectors)\n",
    "#pca.n_components_\n",
    "vector_low_dim = pca.transform(year_vectors)\n",
    "vector_low_dim[:,1].shape"
   ]
  },
  {
   "cell_type": "markdown",
   "metadata": {
    "colab_type": "text",
    "id": "0LDoAxJjPAGx"
   },
   "source": [
    "##### Visualize clusters - with sources as labels"
   ]
  },
  {
   "cell_type": "code",
   "execution_count": null,
   "metadata": {
    "colab": {
     "base_uri": "https://localhost:8080/",
     "height": 1000
    },
    "colab_type": "code",
    "id": "On8FXjeSTFDo",
    "outputId": "b1101721-d483-4723-8623-96e2c7017e85"
   },
   "outputs": [],
   "source": [
    "whitelist = []\n",
    "for idx in range(len(clusters_df.groupby('clusters').groups)):\n",
    "    # Get sources for this cluster\n",
    "    this_cluster_df = clusters_df.iloc[list(clusters_df.groupby('clusters').groups[idx])]\n",
    "    # Group sources to get unique source names and sort them by frequency\n",
    "    source_counts = this_cluster_df.groupby('sources').count()['clusters'].reset_index().sort_values(by=['clusters'], ascending=False)\n",
    "    source_counts.columns = ['sources','frequency']\n",
    "    # Get top N sources by frequency\n",
    "    whitelist = whitelist + source_counts['sources'].head(top_labeles_to_draw).values.tolist()\n",
    "\n",
    "fig, ax = plt.subplots(figsize=(25, 18), dpi=150)\n",
    "ax.scatter(vector_low_dim[:,0], vector_low_dim[:,1],color = colors)\n",
    "year_sources_abbr = []\n",
    "year_sources_orig = []\n",
    "for i, label in enumerate(year_sources):\n",
    "    if label in whitelist:\n",
    "        if len(label)>20:\n",
    "            year_sources_orig.append(label)\n",
    "            label = aa.abbreviator(label)\n",
    "            year_sources_abbr.append(label)\n",
    "\n",
    "        ax.annotate(label, (vector_low_dim[i,0], vector_low_dim[i,1]), fontsize=8, fontweight='ultralight')\n",
    "\n",
    "fig.savefig(cluster_file_name[:-4]+' - reduced labels.jpg')"
   ]
  },
  {
   "cell_type": "code",
   "execution_count": null,
   "metadata": {
    "colab": {
     "base_uri": "https://localhost:8080/",
     "height": 419
    },
    "colab_type": "code",
    "id": "BQppnTUV2vtT",
    "outputId": "46320053-e0cd-440a-ce34-83282ae9250d"
   },
   "outputs": [],
   "source": [
    "year_sources_abbr = pd.DataFrame(year_sources_abbr)\n",
    "year_sources_abbr['original'] = year_sources_orig\n",
    "year_sources_abbr.columns = ['abbreviation','original']\n",
    "year_sources_abbr.to_csv(cluster_file_name[:-4]+' - labels guide.csv')\n",
    "year_sources_abbr"
   ]
  },
  {
   "cell_type": "markdown",
   "metadata": {
    "colab_type": "text",
    "id": "ndv0eQjqSOr6"
   },
   "source": [
    "#### Visualize clusters - with topic labels"
   ]
  },
  {
   "cell_type": "code",
   "execution_count": null,
   "metadata": {
    "colab": {
     "base_uri": "https://localhost:8080/",
     "height": 34
    },
    "colab_type": "code",
    "id": "UIMu-7HVSSvx",
    "outputId": "7e8d5a05-5b36-481f-e442-940ce6253a5d"
   },
   "outputs": [],
   "source": [
    "cluster_file_name = datapath+'FastText doc clusters - SIP/'+dim+'D/agglomerative ward '+period+' '+str(n_clusters)+' - topic_labels.csv'\n",
    "cluster_file_name"
   ]
  },
  {
   "cell_type": "code",
   "execution_count": null,
   "metadata": {
    "colab": {},
    "colab_type": "code",
    "id": "SndGj30uSS-3"
   },
   "outputs": [],
   "source": [
    "clusters_df = pd.read_csv(cluster_file_name)\n",
    "# clusters_df = clusters_df[clusters_df['topic']!='*']\n",
    "color_palette = aa.color_palette_maker(n_clusters)\n",
    "colors = aa.cluster_color_mapper(clusters_df['clusters'].values.tolist(),color_palette)\n",
    "clusters_df['colors'] = colors\n"
   ]
  },
  {
   "cell_type": "code",
   "execution_count": null,
   "metadata": {
    "colab": {
     "base_uri": "https://localhost:8080/",
     "height": 34
    },
    "colab_type": "code",
    "id": "wcjmuIMBSTO4",
    "outputId": "027571bd-65cd-4fcf-b7ba-0f70b5992368"
   },
   "outputs": [],
   "source": [
    "pca = PCA(2)\n",
    "pca.fit(year_vectors)\n",
    "#pca.n_components_\n",
    "vector_low_dim = pca.transform(year_vectors)\n",
    "vector_low_dim[:,1].shape"
   ]
  },
  {
   "cell_type": "code",
   "execution_count": null,
   "metadata": {
    "colab": {},
    "colab_type": "code",
    "id": "dTSUUd_5QD8Q"
   },
   "outputs": [],
   "source": [
    "whitelist = []\n",
    "topic_terms = []\n",
    "topic_frequencies = []\n",
    "for idx in range(len(clusters_df.groupby('clusters').groups)):\n",
    "    # Get indices for this cluster\n",
    "    this_cluster_df = clusters_df.iloc[list(clusters_df.groupby('clusters').groups[idx])]\n",
    "    # Flatten topics of cluster\n",
    "    cluster_topics = [x.split(';') for x in this_cluster_df['topic'].to_list()]\n",
    "    topics = pd.DataFrame([j for sub in cluster_topics for j in sub])\n",
    "    topics.columns = ['topic']\n",
    "    # Group topics to get unique source names and sort them by frequency\n",
    "    g_tmp = pd.DataFrame(topics['topic'].value_counts()).reset_index()\n",
    "    g_tmp.columns = ['topic','count']\n",
    "    g_tmp = g_tmp.sort_values(by=['count'], ascending=False)\n",
    "    # Get top N sources by frequency\n",
    "    whitelist = whitelist + g_tmp['topic'].head(top_labeles_to_draw).values.tolist()\n",
    "    tmp_terms = []\n",
    "    tmp_freqs = []\n",
    "    for i,x in enumerate(g_tmp['topic'].tolist()):\n",
    "        if x!='':\n",
    "            tmp_terms.append(x)\n",
    "            tmp_freqs.append(g_tmp['count'].tolist()[i])\n",
    "    if idx == 0:\n",
    "        top_topic = g_tmp.head(15).copy()\n",
    "    else:\n",
    "        top_topic = pd.concat([top_topic, g_tmp.head(15)], axis=1)\n",
    "    topic_terms.append(tmp_terms)\n",
    "    topic_frequencies.append(tmp_freqs)\n",
    "\n",
    "whitelist = [element for element in whitelist if element!='computer science']\n",
    "# top_topic"
   ]
  },
  {
   "cell_type": "code",
   "execution_count": null,
   "metadata": {
    "colab": {},
    "colab_type": "code",
    "id": "OoO1jWqhklzS"
   },
   "outputs": [],
   "source": [
    "top_topic.to_csv(cluster_file_name[:-4]+' - topic cluster frequency.csv')"
   ]
  },
  {
   "cell_type": "code",
   "execution_count": null,
   "metadata": {
    "colab": {
     "base_uri": "https://localhost:8080/",
     "height": 1000
    },
    "colab_type": "code",
    "id": "pnn8WuhYPVXh",
    "outputId": "a63a9231-f474-4490-fa91-b02d592da778"
   },
   "outputs": [],
   "source": [
    "fig, ax = plt.subplots(figsize=(30, 20), dpi=200)\n",
    "ax.scatter(vector_low_dim[:,0], vector_low_dim[:,1],color = colors)\n",
    "year_sources_abbr = []\n",
    "year_sources_orig = []\n",
    "for i, topics_joined in enumerate(year_topics_sep_joined):\n",
    "    if any(element in whitelist for element in topics_joined.split(';')):\n",
    "        if random()<=chance_of_printing_label:\n",
    "            ax.annotate(topics_joined, (vector_low_dim[i,0], vector_low_dim[i,1]), fontsize=8, fontweight='ultralight')\n",
    "\n",
    "fig.savefig(cluster_file_name[:-4]+' - reduced labels - topic labels.jpg')"
   ]
  },
  {
   "cell_type": "markdown",
   "metadata": {
    "colab_type": "text",
    "id": "w3aopT5U0COH"
   },
   "source": [
    "#### Visualize clusters - with keyword labels"
   ]
  },
  {
   "cell_type": "code",
   "execution_count": null,
   "metadata": {
    "colab": {
     "base_uri": "https://localhost:8080/",
     "height": 34
    },
    "colab_type": "code",
    "id": "UBUso96R0A1N",
    "outputId": "dccf1403-9836-4a2f-c8ba-9ea39f986709"
   },
   "outputs": [],
   "source": [
    "plus = ''\n",
    "# plus = ' -plus'\n",
    "cluster_file_name = datapath+'FastText doc clusters - SIP/'+dim+'D/agglomerative ward '+period+' '+str(n_clusters)+plus+' - keyword_labels.csv'\n",
    "cluster_file_name"
   ]
  },
  {
   "cell_type": "code",
   "execution_count": null,
   "metadata": {
    "colab": {},
    "colab_type": "code",
    "id": "dlT0Pf2K0OKI"
   },
   "outputs": [],
   "source": [
    "clusters_df = pd.read_csv(cluster_file_name)\n",
    "# clusters_df = clusters_df[clusters_df['topic']!='*']\n",
    "color_palette = aa.color_palette_maker(n_clusters)\n",
    "colors = aa.cluster_color_mapper(clusters_df['clusters'].values.tolist(),color_palette)\n",
    "clusters_df['colors'] = colors"
   ]
  },
  {
   "cell_type": "code",
   "execution_count": null,
   "metadata": {
    "colab": {
     "base_uri": "https://localhost:8080/",
     "height": 34
    },
    "colab_type": "code",
    "id": "xUer6kag0TiR",
    "outputId": "a681e557-79a6-4f35-ba44-37375a5a8d8d"
   },
   "outputs": [],
   "source": [
    "pca = PCA(2)\n",
    "pca.fit(year_vectors)\n",
    "#pca.n_components_\n",
    "vector_low_dim = pca.transform(year_vectors)\n",
    "vector_low_dim[:,1].shape"
   ]
  },
  {
   "cell_type": "code",
   "execution_count": null,
   "metadata": {
    "colab": {},
    "colab_type": "code",
    "id": "-nFl0iPi0Vyl"
   },
   "outputs": [],
   "source": [
    "whitelist = []\n",
    "keywords_terms = []\n",
    "keywords_frequencies = []\n",
    "\n",
    "clusters_df['topic'] = clusters_df['topic'].fillna('')\n",
    "\n",
    "for idx in range(len(clusters_df.groupby('clusters').groups)):\n",
    "    # Get indices for this cluster\n",
    "    this_cluster_df = clusters_df.iloc[list(clusters_df.groupby('clusters').groups[idx])]\n",
    "    # Flatten topics of cluster\n",
    "    cluster_topics = [x.split(';') for x in this_cluster_df['topic'].to_list()]\n",
    "    topics = pd.DataFrame([j for sub in cluster_topics for j in sub])\n",
    "    topics.columns = ['topic']\n",
    "    # Group topics to get unique source names and sort them by frequency\n",
    "    g_tmp = pd.DataFrame(topics['topic'].value_counts()).reset_index()\n",
    "    g_tmp.columns = ['topic','count']\n",
    "    g_tmp = g_tmp.sort_values(by=['count'], ascending=False)\n",
    "    # Get top N sources by frequency\n",
    "    whitelist = whitelist + g_tmp['topic'].head(top_labeles_to_draw).values.tolist()\n",
    "    tmp_terms = []\n",
    "    tmp_freqs = []\n",
    "    for i,x in enumerate(g_tmp['topic'].tolist()):\n",
    "        if x!='':\n",
    "            tmp_terms.append(x)\n",
    "            tmp_freqs.append(g_tmp['count'].tolist()[i])\n",
    "    if idx == 0:\n",
    "        top_topic = g_tmp.head(15).copy()\n",
    "    else:\n",
    "        top_topic = pd.concat([top_topic, g_tmp.head(15)], axis=1)\n",
    "    keywords_terms.append(tmp_terms)\n",
    "    keywords_frequencies.append(tmp_freqs)\n",
    "    \n",
    "whitelist = [element for element in whitelist if element!='']\n",
    "# top_topic"
   ]
  },
  {
   "cell_type": "code",
   "execution_count": null,
   "metadata": {
    "colab": {},
    "colab_type": "code",
    "id": "wiagicC40ZR1"
   },
   "outputs": [],
   "source": [
    "top_topic.to_csv(cluster_file_name[:-4]+' - keyword cluster frequency.csv')"
   ]
  },
  {
   "cell_type": "code",
   "execution_count": null,
   "metadata": {
    "colab": {},
    "colab_type": "code",
    "id": "ojpuFqkW0bL6"
   },
   "outputs": [],
   "source": [
    "fig, ax = plt.subplots(figsize=(30, 20), dpi=200)\n",
    "ax.scatter(vector_low_dim[:,0], vector_low_dim[:,1],color = colors)\n",
    "year_sources_abbr = []\n",
    "year_sources_orig = []\n",
    "for i, topics_joined in enumerate(year_keywords_sep_joined):\n",
    "    if any(element in whitelist for element in topics_joined.split(';')):\n",
    "        if random()<=chance_of_printing_label:\n",
    "            ax.annotate(topics_joined, (vector_low_dim[i,0], vector_low_dim[i,1]), fontsize=8, fontweight='ultralight')\n",
    "\n",
    "fig.savefig(cluster_file_name[:-4]+' - reduced labels - keyword labels.jpg')"
   ]
  },
  {
   "cell_type": "markdown",
   "metadata": {
    "colab_type": "text",
    "id": "6gxzs7lXTHar"
   },
   "source": [
    "### Cluster Center Calc"
   ]
  },
  {
   "cell_type": "code",
   "execution_count": null,
   "metadata": {
    "cellView": "both",
    "colab": {
     "base_uri": "https://localhost:8080/",
     "height": 34
    },
    "colab_type": "code",
    "id": "USgFv_IQTH9J",
    "outputId": "bfa3626f-b510-4e57-8914-46bc22dc0fe0"
   },
   "outputs": [],
   "source": [
    "sub_dim = ''\n",
    "# dim = '50'\n",
    "dim_comment = ''\n",
    "\n",
    "# period = '1990-2004' \n",
    "#@markdown Period should be set at vector year preparation section!!\n",
    "comment = ''\n",
    "use_current_cluster_file_name = True #@param {type:\"boolean\"}\n",
    "use_current_cluster_numbers = True #@param {type:\"boolean\"}\n",
    "\n",
    "if use_current_cluster_file_name is False:\n",
    "    print('Using custom cluster file name...')\n",
    "    cluster_file_name = ''#@param {type:\"string\"}\n",
    "    if use_current_cluster_numbers is False: \n",
    "        n_clusters_new = 6#@param {type:\"number\"} \n",
    "    else:\n",
    "        n_clusters_new == n_clusters\n",
    "    if cluster_file_name == '':\n",
    "        print('Custom cluster file name not provided! Trying to get the default location...')\n",
    "        cluster_file_name = datapath+'FastText doc clusters - SIP/'+dim+'/'+dim_comment+'/'+sub_dim+'agglomerative ward '+period+' '+str(n_clusters_new)+comment\n",
    "\n",
    "clusters_df = pd.read_csv(cluster_file_name)\n",
    "vectors_df = pd.DataFrame(year_vectors)\n",
    "    \n",
    "# color_palette = aa.color_palette_maker(n_clusters_new)\n",
    "# colors = aa.cluster_color_mapper(clusters_df['clusters'].values.tolist(),color_palette)\n",
    "# clusters_df['colors'] = colors\n",
    "if(clusters_df.shape[0] != vectors_df.shape[0]):\n",
    "    print('Fix year vector section. periods here should be set from that section.')\n",
    "else:\n",
    "    print('Shapes:',clusters_df.shape[0],'matche. Good to go!')\n"
   ]
  },
  {
   "cell_type": "code",
   "execution_count": null,
   "metadata": {
    "colab": {
     "base_uri": "https://localhost:8080/",
     "height": 34
    },
    "colab_type": "code",
    "id": "TdB49ZJiFFpC",
    "outputId": "16f464c7-7573-42f5-84f9-bdae7459d199"
   },
   "outputs": [],
   "source": [
    "print(cluster_file_name)"
   ]
  },
  {
   "cell_type": "code",
   "execution_count": null,
   "metadata": {
    "colab": {
     "base_uri": "https://localhost:8080/",
     "height": 34
    },
    "colab_type": "code",
    "id": "1VkCEkkfVuC8",
    "outputId": "c7614750-4cd7-4b6e-d03f-b88787df496f"
   },
   "outputs": [],
   "source": [
    "# n_clusters = n_clusters_new\n",
    "cluster_centers = []\n",
    "for cluster in tqdm(range(n_clusters),total=n_clusters):\n",
    "    cluster_centers.append(vectors_df.iloc[clusters_df[clusters_df['clusters']==cluster].index].mean(axis=0))"
   ]
  },
  {
   "cell_type": "code",
   "execution_count": null,
   "metadata": {
    "colab": {},
    "colab_type": "code",
    "id": "imOp3W6JVT6m"
   },
   "outputs": [],
   "source": [
    "pd.DataFrame(cluster_centers).to_csv(datapath+'Document Clustering/'+dim+'/'+sub_dim+'centers/agglomerative ward '+period+' '+str(n_clusters)+comment)"
   ]
  },
  {
   "cell_type": "code",
   "execution_count": null,
   "metadata": {
    "colab": {
     "base_uri": "https://localhost:8080/",
     "height": 85
    },
    "colab_type": "code",
    "id": "YOprcaik-T55",
    "outputId": "0b1ab3f6-0b10-485b-b28f-57f55a02f3f0"
   },
   "outputs": [],
   "source": [
    "!ls 'drive/My Drive/Data/Document Clustering/50D 4k/centers/' "
   ]
  },
  {
   "cell_type": "markdown",
   "metadata": {
    "colab_type": "text",
    "id": "MNTIUfstP7-m"
   },
   "source": [
    "### Cluster Similarity Calc"
   ]
  },
  {
   "cell_type": "code",
   "execution_count": null,
   "metadata": {
    "colab": {},
    "colab_type": "code",
    "id": "IBIg2kv2Pq-s"
   },
   "outputs": [],
   "source": [
    "sub_dim = ''#@param {type:\"string\"} \n",
    "dim = '50'#@param {type:\"string\"} \n",
    "dim_comment = ' 4k'#@param {type:\"string\"} \n",
    "comment = ''#@param {type:\"string\"} \n",
    "\n",
    "period_A = '1990-2004'#@param {type:\"string\"} \n",
    "n_clusters_A = 10#@param {type:\"number\"} \n",
    "\n",
    "period_B = '2005-2007'#@param {type:\"string\"} \n",
    "n_clusters_B = 8#@param {type:\"number\"} \n",
    "\n",
    "clusters_A = pd.read_csv(datapath+'Document Clustering/'+dim+'D'+dim_comment+'/'+sub_dim+'centers/agglomerative ward '+period_A+' '+str(n_clusters_A)+comment,index_col=0)\n",
    "clusters_B = pd.read_csv(datapath+'Document Clustering/'+dim+'D'+dim_comment+'/'+sub_dim+'centers/agglomerative ward '+period_B+' '+str(n_clusters_B)+comment,index_col=0)\n"
   ]
  },
  {
   "cell_type": "code",
   "execution_count": null,
   "metadata": {
    "colab": {
     "base_uri": "https://localhost:8080/",
     "height": 187
    },
    "colab_type": "code",
    "id": "svjgK7h-QzDo",
    "outputId": "a4af7a68-713d-4f38-bc5d-2f99223c4f5f"
   },
   "outputs": [],
   "source": [
    "names = []\n",
    "names.append('cluster_1')\n",
    "sim_A_to_B = []\n",
    "for idx_A,vector_A in clusters_A.iterrows():\n",
    "    inner_similarity_scores = []\n",
    "    inner_similarity_scores.append(idx_A)\n",
    "    for idx_B,vector_B in clusters_B.iterrows():\n",
    "        distance_tmp = spatial.distance.cosine(vector_A.values, vector_B.values)\n",
    "        similarity_tmp = 1 - distance_tmp\n",
    "\n",
    "        inner_similarity_scores.append(idx_B)\n",
    "        inner_similarity_scores.append(similarity_tmp)\n",
    "\n",
    "        if idx_A == 0:\n",
    "            names.append('cluster_2_'+str(idx_B))\n",
    "            names.append('similarity_'+str(idx_B))\n",
    "\n",
    "    sim_A_to_B.append(inner_similarity_scores)\n",
    "    print('cluster of A:',idx_A,'to cluster of B:',idx_B,'similarity',similarity_tmp)\n",
    "\n",
    "sim_A_to_B = pd.DataFrame(sim_A_to_B,columns=names)\n",
    "sim_A_to_B.to_csv(datapath+'Document Clustering/'+dim+'D'+dim_comment+'/'+sub_dim+'similarity/agglomerative ward '+period_A+'_'+str(n_clusters_A)+'-'+period_B+'_'+str(n_clusters_B)+'.csv',index=False)"
   ]
  },
  {
   "cell_type": "markdown",
   "metadata": {
    "colab_type": "text",
    "id": "656Tbsv-g6_P"
   },
   "source": [
    "### Cluster Classification similarity calc"
   ]
  },
  {
   "cell_type": "code",
   "execution_count": null,
   "metadata": {
    "cellView": "both",
    "colab": {},
    "colab_type": "code",
    "id": "Rk9-AOebhBst"
   },
   "outputs": [],
   "source": [
    "classification_type = \"applications\" #@param {type:\"string\"}\n",
    "classification_type_dir =  \"application\" #@param {type:\"string\"}\n",
    "sub_dim = ''\n",
    "dim = '50D 4k'#@param {type:\"string\"}\n",
    "dim_comment = ''\n",
    "comment = ''#@param {type:\"string\"}\n",
    "\n",
    "period_A = '2017-2019'#@param {type:\"string\"} \n",
    "n_clusters_A = 11#@param {type:\"number\"} \n",
    "\n",
    "clusters_A = pd.read_csv(datapath+'Document Clustering/'+dim+'/'+sub_dim+'centers/agglomerative ward '+period_A+' '+str(n_clusters_A)+comment,index_col=0)\n",
    "clusters_B = pd.read_csv(datapath+'Corpus/AI Wiki Classifications/'+classification_type+'/clean/vectors/all')\n",
    "clusters_B_labels = pd.DataFrame(clusters_B.clusters.values.tolist(),columns=['label'])\n",
    "clusters_B = clusters_B.drop(['clusters'],axis=1)"
   ]
  },
  {
   "cell_type": "code",
   "execution_count": null,
   "metadata": {
    "colab": {},
    "colab_type": "code",
    "id": "NfwgyHRWwoMI"
   },
   "outputs": [],
   "source": [
    "names = []\n",
    "names.append('clusters')\n",
    "sim_A_to_B = []\n",
    "for idx_A,vector_A in clusters_A.iterrows():\n",
    "    inner_similarity_scores = []\n",
    "    inner_similarity_scores.append(idx_A)\n",
    "    for idx_B,vector_B in clusters_B.iterrows():\n",
    "        distance_tmp = spatial.distance.cosine(vector_A.values, vector_B.values)\n",
    "        similarity_tmp = 1 - distance_tmp\n",
    "\n",
    "        # inner_similarity_scores.append(idx_B)\n",
    "        inner_similarity_scores.append(similarity_tmp)\n",
    "\n",
    "        if idx_A == 0:\n",
    "            # names.append('classification_'+str(idx_B))\n",
    "            # names.append('similarity_'+str(idx_B))\n",
    "            names.append(clusters_B_labels['label'][idx_B])\n",
    "\n",
    "    sim_A_to_B.append(inner_similarity_scores)\n",
    "        # print('cluster of A:',idx_A,'to cluster of B:',idx_B,'similarity',similarity_tmp)\n",
    "\n",
    "sim_A_to_B = pd.DataFrame(sim_A_to_B,columns=names)\n",
    "sim_A_to_B.to_csv(datapath+'Document Clustering/'+dim+'/'+sub_dim+classification_type_dir+' estimation/'+period_A+'_'+str(n_clusters_A)+' - AI Wiki Classifications.csv',index=False)"
   ]
  },
  {
   "cell_type": "markdown",
   "metadata": {
    "colab_type": "text",
    "id": "EEq8EGiieDb9"
   },
   "source": [
    "##### Classification similarity labeling"
   ]
  },
  {
   "cell_type": "code",
   "execution_count": null,
   "metadata": {
    "colab": {},
    "colab_type": "code",
    "id": "T4J82EWxeDwB"
   },
   "outputs": [],
   "source": [
    "# classification_type = \"application\" #@param {type:\"string\"}\n",
    "# dim = '50D May 23'#@param {type:\"string\"}\n",
    "# sub_dim = ''\n",
    "# period_A = '1990-2018'#@param {type:\"string\"}\n",
    "# n_clusters_A = '12'#@param {type:\"string\"}\n",
    "similarity = pd.read_csv(datapath+'Document Clustering/'+dim+'/'+sub_dim+classification_type_dir+' estimation/'+period_A+'_'+str(n_clusters_A)+' - AI Wiki Classifications.csv')\n",
    "similarity = similarity.drop(['clusters'],axis=1)\n"
   ]
  },
  {
   "cell_type": "code",
   "execution_count": null,
   "metadata": {
    "colab": {},
    "colab_type": "code",
    "id": "9TzDwmq9t-iY"
   },
   "outputs": [],
   "source": [
    "top_2 = pd.DataFrame(similarity.apply(lambda s: s.abs().nlargest(2).index.tolist(), axis=1))\n",
    "top_2.columns = ['label']\n",
    "top_2['label'] = top_2['label'].apply(lambda x: x[0]+' & '+x[1])\n",
    "top_2.to_csv(datapath+'Document Clustering/'+dim+'/'+sub_dim+classification_type_dir+' estimation/top2 '+period_A+'_'+str(n_clusters_A)+'- AI Wiki Classifications.csv')"
   ]
  },
  {
   "cell_type": "markdown",
   "metadata": {
    "colab_type": "text",
    "id": "2h4_MdSKcj-U"
   },
   "source": [
    "### Term-cluster tables"
   ]
  },
  {
   "cell_type": "markdown",
   "metadata": {
    "colab_type": "text",
    "id": "fy_AAUIV9iKz"
   },
   "source": [
    "#### Term-cluster tables: TFIDF words"
   ]
  },
  {
   "cell_type": "markdown",
   "metadata": {
    "colab_type": "text",
    "id": "_ouB8m_ZHMOv"
   },
   "source": [
    "* For word tables by TFIDF go up to the corresponding section."
   ]
  },
  {
   "cell_type": "markdown",
   "metadata": {
    "colab_type": "text",
    "id": "0WCO8MPophfa"
   },
   "source": [
    "#### Term-cluster tables: sources"
   ]
  },
  {
   "cell_type": "code",
   "execution_count": null,
   "metadata": {
    "colab": {},
    "colab_type": "code",
    "id": "-P3Rr-yFckTn"
   },
   "outputs": [],
   "source": [
    "sub_dim = ''#@param {type:\"string\"} \n",
    "dim_comment = ' w2'#@param {type:\"string\"} \n",
    "dim = '50'#@param {type:\"string\"} \n",
    "n_clusters = 7#@param {type:\"number\"} \n",
    "comment = ''#@param {type:\"string\"} \n",
    "save_frequency_to_disk = False #@param {type:\"boolean\"}\n",
    "\n",
    "cluster_file_name = datapath+'FastText doc clusters - SIP/'+dim+'D'+dim_comment+'/'+sub_dim+'agglomerative ward '+period+' '+str(n_clusters)+comment\n",
    "clusters = pd.read_csv(cluster_file_name+'.csv')\n",
    "term_table = clusters.groupby('clusters').groups\n",
    "\n",
    "year_sources_df = pd.DataFrame(year_sources)\n",
    "year_sources_df['clusters'] = clusters['clusters']\n",
    "year_sources_df.columns = ['sources','clusters']\n",
    "year_sources_df = year_sources_df.groupby('sources').count()['clusters'].reset_index().sort_values(by=['clusters'], ascending=False)\n",
    "year_abbreviations = []\n",
    "\n",
    "for item in tqdm(year_sources_df['sources'],total=year_sources_df.shape[0]):\n",
    "    year_abbreviations.append(aa.abbreviator(item))\n",
    "\n",
    "year_sources_df.columns = ['sources','frequency']\n",
    "year_sources_df['sources_abbr'] = year_abbreviations\n",
    "\n",
    "if save_frequency_to_disk is True:\n",
    "    save_dest_address = datapath+'corpus/improved_copyr_lemmatized_stopwords_removed_thesaurus_n-grams/source_frequency_abbr.csv'#@param {type:\"string\"}\n",
    "    year_sources_df.to_csv(save_dest_address,index=False)"
   ]
  },
  {
   "cell_type": "code",
   "execution_count": null,
   "metadata": {
    "colab": {
     "base_uri": "https://localhost:8080/",
     "height": 34
    },
    "colab_type": "code",
    "id": "VGVp-nfM1TJs",
    "outputId": "c6a95597-8383-42ac-cfc4-bc32e954ce84"
   },
   "outputs": [],
   "source": [
    "# term_table_df = pd.DataFrame([list(clusters['terms'][term_table[x]]) for x in term_table]).T.fillna('')\n",
    "# score_table_df = [list(corpus[corpus['keyword']==clusters['terms'][term_table[x]]]['frequency']) for x in term_table]\n",
    "\n",
    "# groups.to_csv('drive/My Drive/Data/FastText authkeyword clusters - 29 Oct 2019/'+dim+'D/'+sub_dim+'term_cluster-tables/agglomerative ward '+period+' '+str(n_clusters)+comment,index=False)\n",
    "\n",
    "term_table_df = []\n",
    "score_table_df = []\n",
    "for cluster_items in tqdm(term_table,total=len(term_table)):\n",
    "    cluster_terms = list(clusters['sources'][term_table[cluster_items]])\n",
    "    cluster_scores = [year_sources_df[year_sources_df['sources']==x]['frequency'].values[0] for x in cluster_terms]\n",
    "    score_table_df.append(cluster_scores)\n",
    "    term_table_df.append(cluster_terms)\n",
    "comment = ' - term_cluster'\n",
    "term_table_df = pd.DataFrame(term_table_df).T.to_csv(datapath+'FastText doc clusters - SIP/'+dim+'D'+dim_comment+'/'+sub_dim+'term_cluster-tables/agglomerative ward '+period+' '+str(n_clusters)+comment+'.csv',index=False)\n",
    "comment = ' - term_score'\n",
    "score_table_df = pd.DataFrame(score_table_df).T.to_csv(datapath+'FastText doc clusters - SIP/'+dim+'D'+dim_comment+'/'+sub_dim+'term_cluster-tables/agglomerative ward '+period+' '+str(n_clusters)+comment+'.csv',index=False)\n"
   ]
  },
  {
   "cell_type": "markdown",
   "metadata": {
    "colab_type": "text",
    "id": "4dbxNqB0KLC4"
   },
   "source": [
    "#### Term-cluster tables: keywords"
   ]
  },
  {
   "cell_type": "code",
   "execution_count": null,
   "metadata": {
    "colab": {},
    "colab_type": "code",
    "id": "3qQeSz_eKJjP"
   },
   "outputs": [],
   "source": [
    "sub_dir = 'authkeyword/'\n",
    "# sub_dir = 'keywordplus'\n",
    "comment = ' - term_cluster'\n",
    "dim_comment = ''\n",
    "sub_dim = ''\n",
    "pd.DataFrame(keywords_terms).T.to_csv(datapath+'FastText doc clusters - SIP/'+dim+'D'+dim_comment+'/'+sub_dim+'term_cluster-tables/'+sub_dir+'agglomerative ward '+period+' '+str(n_clusters)+comment+'.csv',index=False)\n",
    "comment = ' - term_score'\n",
    "pd.DataFrame(keywords_frequencies).T.to_csv(datapath+'FastText doc clusters - SIP/'+dim+'D'+dim_comment+'/'+sub_dim+'term_cluster-tables/'+sub_dir+'agglomerative ward '+period+' '+str(n_clusters)+comment+'.csv',index=False)"
   ]
  },
  {
   "cell_type": "markdown",
   "metadata": {
    "colab_type": "text",
    "id": "KEN_4fkHBzgQ"
   },
   "source": [
    "#### Term-cluster tables: topics"
   ]
  },
  {
   "cell_type": "code",
   "execution_count": null,
   "metadata": {
    "colab": {},
    "colab_type": "code",
    "id": "3NMhi1HjBz9d"
   },
   "outputs": [],
   "source": [
    "sub_dir = 'topics/'\n",
    "comment = ' - term_cluster'\n",
    "dim_comment = ''\n",
    "sub_dim = ''\n",
    "pd.DataFrame(topic_terms).T.to_csv(datapath+'FastText doc clusters - SIP/'+dim+'D'+dim_comment+'/'+sub_dim+'term_cluster-tables/'+sub_dir+'agglomerative ward '+period+' '+str(n_clusters)+comment+'.csv',index=False)\n",
    "comment = ' - term_score'\n",
    "pd.DataFrame(topic_frequencies).T.to_csv(datapath+'FastText doc clusters - SIP/'+dim+'D'+dim_comment+'/'+sub_dim+'term_cluster-tables/'+sub_dir+'_agglomerative ward '+period+' '+str(n_clusters)+comment+'.csv',index=False)"
   ]
  },
  {
   "cell_type": "markdown",
   "metadata": {
    "colab_type": "text",
    "id": "9nk2SWqbD4NJ"
   },
   "source": [
    "### Write document meta, cluster and vector to disk\n",
    "\n",
    "\n",
    "\n",
    "\n",
    "> Must run:\n",
    "> \n",
    "> \n",
    "> 1.   Load vectors (option B)\n",
    "> 2.   Vector preparation and year selection\n",
    "> 3.   Clustering initialization\n",
    "> 4.   Clustering (only the first one to get labels)\n",
    "> 5.   Visualization first block to get the correct cluster_file_name\n",
    "> 6.   Cluster center calc (except the last block. no need to wirte to disk again)\n",
    "> 7.   All blocks below\n",
    "\n",
    "\n",
    "\n",
    "\n",
    "\n"
   ]
  },
  {
   "cell_type": "code",
   "execution_count": null,
   "metadata": {
    "colab": {
     "base_uri": "https://localhost:8080/",
     "height": 34
    },
    "colab_type": "code",
    "id": "qXZXjyt6Msd3",
    "outputId": "bec956e5-17c9-45a9-d1cd-b01a02b28da9"
   },
   "outputs": [],
   "source": [
    "year_meta_df = pd.DataFrame(year_meta).reset_index(drop=True)\n",
    "year_meta_df.columns = ['title','abstract','year','citations','usages','publication_name','iso_name','author_keywords','keywords_plus','wos_categories','research_area']\n",
    "year_meta_df.shape"
   ]
  },
  {
   "cell_type": "code",
   "execution_count": null,
   "metadata": {
    "colab": {
     "base_uri": "https://localhost:8080/",
     "height": 34
    },
    "colab_type": "code",
    "id": "60q28-8wOp9L",
    "outputId": "ffde0f09-55b0-44f4-82d5-c8c9b78de75c"
   },
   "outputs": [],
   "source": [
    "year_vectors_np = np.array(year_vectors)\n",
    "year_vectors_df = pd.DataFrame(year_vectors_np)\n",
    "year_vectors_df.shape"
   ]
  },
  {
   "cell_type": "code",
   "execution_count": null,
   "metadata": {
    "colab": {
     "base_uri": "https://localhost:8080/",
     "height": 34
    },
    "colab_type": "code",
    "id": "ycH3CneTQdCc",
    "outputId": "48e5457b-139e-4c65-8492-36a5b08cd4ea"
   },
   "outputs": [],
   "source": [
    "# Distance from center\n",
    "similarities = []\n",
    "for idx,doc_vec in tqdm(enumerate(year_vectors_np),total=year_vectors_np.shape[0]):\n",
    "    distance_tmp = spatial.distance.cosine(doc_vec, cluster_centers[labels[idx]].values)\n",
    "    similarity_tmp = 1 - distance_tmp\n",
    "    similarities.append(similarity_tmp)"
   ]
  },
  {
   "cell_type": "code",
   "execution_count": null,
   "metadata": {
    "colab": {},
    "colab_type": "code",
    "id": "KPbGLCmcD4iJ"
   },
   "outputs": [],
   "source": [
    "year_vectors_df['origingal_doc_index'] = year_index\n",
    "year_vectors_df = pd.concat([year_vectors_df, year_meta_df], axis = 1)\n",
    "year_vectors_df['cluster_label'] = labels\n",
    "year_vectors_df['similarity_to_center'] = similarities"
   ]
  },
  {
   "cell_type": "code",
   "execution_count": null,
   "metadata": {
    "colab": {
     "base_uri": "https://localhost:8080/",
     "height": 34
    },
    "colab_type": "code",
    "id": "kfgGzNqmWlzE",
    "outputId": "7a8fdac5-b4f7-4ac7-8b28-0f3f4ffe9186"
   },
   "outputs": [],
   "source": [
    "# Write\n",
    "year_vectors_df.to_csv(datapath+'FastText doc clusters - SIP/50D/vectors and metadata/'+period+' year_doc_vector.csv',index=False)\n",
    "period"
   ]
  },
  {
   "cell_type": "code",
   "execution_count": null,
   "metadata": {
    "colab": {
     "base_uri": "https://localhost:8080/",
     "height": 419
    },
    "colab_type": "code",
    "id": "ozJf1PbV4II8",
    "outputId": "9e39f018-c75e-4e5d-ab14-e74cab89e374"
   },
   "outputs": [],
   "source": [
    "year_vectors_df[['origingal_doc_index','abstract']]"
   ]
  },
  {
   "cell_type": "markdown",
   "metadata": {
    "colab_type": "text",
    "id": "LY68GcfNztbz"
   },
   "source": [
    "### Term Frequency Calc"
   ]
  },
  {
   "cell_type": "code",
   "execution_count": null,
   "metadata": {
    "colab": {
     "base_uri": "https://localhost:8080/",
     "height": 122
    },
    "colab_type": "code",
    "id": "4HVdbNt5zt6e",
    "outputId": "d731944c-844d-4806-b6e0-99d5f619baee"
   },
   "outputs": [],
   "source": [
    "# Load dataset with processed abstracts\n",
    "abstracts = []\n",
    "abstract_corpus = pd.read_csv(datapath+'corpus/improved_copyr_abstract-sentences_cumulative/1990-2018  meta and data.csv')\n",
    "abstract_corpus = abstract_corpus['processed_abstracts'].reset_index()\n",
    "abstract_corpus.loc[25506]\n",
    "# merged_left = pd.merge(left=year_vectors_df,right=abstract_corpus, how='left', left_on='origingal_doc_index', right_on='index')\n",
    "# merged_left"
   ]
  }
 ],
 "metadata": {
  "colab": {
   "collapsed_sections": [
    "32w9QFw8UNgx",
    "y9bqFgBOuwdl",
    "-VSpVfr-K7FC",
    "mz7QtvB9eo7Z",
    "ak9kKkXtyU9_",
    "uwVYbZ5-z0MF",
    "6hotYTrIAxNe",
    "H0k2Mt_JybTF",
    "__6Bl7uODxkD",
    "-9pUO3hlHIdp",
    "3SyIazJAF7m5",
    "T5WmGKe7vCOk"
   ],
   "include_colab_link": true,
   "machine_shape": "hm",
   "name": "FastText_clustering.ipynb",
   "provenance": [],
   "toc_visible": true
  },
  "kernelspec": {
   "display_name": "Python 3",
   "language": "python",
   "name": "python3"
  },
  "language_info": {
   "codemirror_mode": {
    "name": "ipython",
    "version": 3
   },
   "file_extension": ".py",
   "mimetype": "text/x-python",
   "name": "python",
   "nbconvert_exporter": "python",
   "pygments_lexer": "ipython3",
   "version": "3.8.5"
  }
 },
 "nbformat": 4,
 "nbformat_minor": 1
}
