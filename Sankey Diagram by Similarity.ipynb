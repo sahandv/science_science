{
 "cells": [
  {
   "cell_type": "markdown",
   "metadata": {},
   "source": [
    "# Sankey Diagram by Similarity Scores\n"
   ]
  },
  {
   "cell_type": "markdown",
   "metadata": {},
   "source": [
    "### Import Libs"
   ]
  },
  {
   "cell_type": "code",
   "execution_count": 1,
   "metadata": {},
   "outputs": [
    {
     "name": "stdout",
     "output_type": "stream",
     "text": [
      "env name: sciosci\n"
     ]
    }
   ],
   "source": [
    "import os\n",
    "print('env name:',os.environ['CONDA_DEFAULT_ENV'])\n",
    "\n",
    "import plotly.graph_objects as go\n",
    "from skimage import io\n",
    "import urllib, json\n",
    "import pandas as pd\n",
    "import numpy as np\n",
    "from sciosci.assets import advanced_assets as aa\n",
    "from tqdm import tqdm\n",
    "import re"
   ]
  },
  {
   "cell_type": "markdown",
   "metadata": {},
   "source": [
    "### Initialize"
   ]
  },
  {
   "cell_type": "code",
   "execution_count": 2,
   "metadata": {},
   "outputs": [],
   "source": [
    "random_link_colors = False\n",
    "multi_year_similarity = True\n",
    "\n",
    "comment = ''\n",
    "clustering_method = 'agglomerative ward '\n",
    "link_strength_threshold = 0.985\n",
    "link_strength_threshold_2 = 0.995\n",
    "power = 1 # value power for increasing the differences "
   ]
  },
  {
   "cell_type": "markdown",
   "metadata": {},
   "source": [
    "#### Separated years"
   ]
  },
  {
   "cell_type": "code",
   "execution_count": 17,
   "metadata": {},
   "outputs": [],
   "source": [
    "last_period_start = \"2017\"\n",
    "data_type = \"Author Keywords - Abstract Words \"\n",
    "label_source = ''\n",
    "year_periods_topics = [\"8\",\"8\",\"12\",\"12\",\"16\",\"16\"]  #[\"7\",\"7\",\"9\",\"13\",\"13\",\"17\"]  \n",
    "# Sorted periods' topic numbers from new to old from left to right\n",
    "year_periods = [\"1990-2004\",\"2005-2007\",\"2008-2010\",\"2011-2013\",\"2014-2016\",\"2017-2018\"] \n",
    "# Sorted year periods from new to old from left to right\n",
    "data_directory = '/home/sahand/GoogleDrive/Data/Word Clustering/50D/'"
   ]
  },
  {
   "cell_type": "markdown",
   "metadata": {},
   "source": [
    "#### cumulative years"
   ]
  },
  {
   "cell_type": "code",
   "execution_count": null,
   "metadata": {},
   "outputs": [],
   "source": [
    "last_period_start = \"1990\"\n",
    "data_type = \"Author Keywords - Cumulative\"\n",
    "year_periods_topics = [\"7\",\"8\",\"10\",\"10\",\"10\",\"11\"]  \n",
    "# Sorted periods' topic numbers from new to old from left to right\n",
    "year_periods = [\"1990-2004\",\"1990-2007\",\"1990-2010\",\"1990-2013\",\"1990-2016\",\"1990-2018\"] \n",
    "# Sorted year periods from new to old from left to right\n",
    "data_directory = 'data/clusters/FastText/15D/10 dim/'"
   ]
  },
  {
   "cell_type": "markdown",
   "metadata": {},
   "source": [
    "#### cumulative documents"
   ]
  },
  {
   "cell_type": "code",
   "execution_count": null,
   "metadata": {},
   "outputs": [],
   "source": [
    "last_period_start = \"1990\"\n",
    "label_source = 'topics/'#authkeyword/'\n",
    "data_type = \"Abstracts+Titles - Cumulative\"\n",
    "year_periods_topics = [\"9\",\"10\",\"11\",\"14\",\"15\",\"15\"]\n",
    "# Sorted periods' topic numbers from new to old from left to right\n",
    "year_periods = [\"1990-2004\",\"1990-2007\",\"1990-2010\",\"1990-2013\",\"1990-2016\",\"1990-2018\"] \n",
    "# Sorted year periods from new to old from left to right\n",
    "data_directory = '/home/sahand/GoogleDrive/Data/FastText doc clusters - SIP/50D/'\n",
    "#'data/clusters/FastText/50D/'"
   ]
  },
  {
   "cell_type": "markdown",
   "metadata": {},
   "source": [
    "#### Separated documents"
   ]
  },
  {
   "cell_type": "code",
   "execution_count": 3,
   "metadata": {},
   "outputs": [],
   "source": [
    "last_period_start = \"2017\"\n",
    "label_source = ''#authkeyword/'\n",
    "data_type = \"Abstracts+Titles - Separated\"\n",
    "year_periods_topics = [\"7\",\"9\",\"10\",\"9\",\"9\",\"11\"]\n",
    "# Sorted periods' topic numbers from new to old from left to right\n",
    "year_periods = [\"1990-2004\",\"2005-2007\",\"2008-2010\",\"2011-2013\",\"2014-2016\",\"2017-2018\"] \n",
    "# Sorted year periods from new to old from left to right\n",
    "data_directory = '/home/sahand/GoogleDrive/Data/Document Clustering/50D May 16/'\n",
    "#'data/clusters/FastText/50D/'"
   ]
  },
  {
   "cell_type": "markdown",
   "metadata": {},
   "source": [
    "### Read & Prepare Data"
   ]
  },
  {
   "cell_type": "markdown",
   "metadata": {},
   "source": [
    "Generate nodes and links"
   ]
  },
  {
   "cell_type": "code",
   "execution_count": 15,
   "metadata": {},
   "outputs": [
    {
     "name": "stdout",
     "output_type": "stream",
     "text": [
      "Node colors are:\n"
     ]
    },
    {
     "data": {
      "image/png": "[encoded data removed]",
      "text/plain": [
       "<Figure size 432x288 with 1 Axes>"
      ]
     },
     "metadata": {
      "needs_background": "light"
     },
     "output_type": "display_data"
    }
   ],
   "source": [
    "node_colors_palette = aa.color_palette_maker(len(year_periods_topics),alpha=0.8)\n",
    "node_colors = ['rgba('+str(x).replace('[','').replace(']','')+')' for x in node_colors_palette]\n",
    "link_colors = [x[:-4]+'0.4)' for x in node_colors]\n",
    "node_colors_palette = np.array([node_colors_palette])\n",
    "print(\"Node colors are:\")\n",
    "io.imshow(node_colors_palette)\n",
    "labels_numeric_dict = {per:[] for per in year_periods}\n"
   ]
  },
  {
   "cell_type": "code",
   "execution_count": 16,
   "metadata": {},
   "outputs": [],
   "source": [
    "def color_alternator(rgba_colors,up_thresh = 0.8, down_thresh = 0.2, color_part = 2):\n",
    "    new_colors = []\n",
    "    color_s = rgba_colors[0].split(', ')\n",
    "    cell = float(rgba_colors[0].split(', ')[color_part])\n",
    "    if cell > 0.5:\n",
    "        portion = (cell-down_thresh)/len(rgba_colors)\n",
    "    else:\n",
    "        portion = (up_thresh-cell)/len(rgba_colors)\n",
    "\n",
    "    for idx,color in enumerate(topic_colors):\n",
    "        if cell > 0.5:\n",
    "            new_cell = cell-(idx+1)*portion\n",
    "        else:\n",
    "            new_cell = cell+(idx+1)*portion\n",
    "\n",
    "        color_s[color_part] = str(new_cell)\n",
    "        new_colors.append(', '.join(color_s))\n",
    "    return new_colors"
   ]
  },
  {
   "cell_type": "markdown",
   "metadata": {},
   "source": [
    "### Process"
   ]
  },
  {
   "cell_type": "markdown",
   "metadata": {},
   "source": [
    "#### Multi year similarity"
   ]
  },
  {
   "cell_type": "code",
   "execution_count": 17,
   "metadata": {},
   "outputs": [
    {
     "data": {
      "text/plain": [
       "[[0, 1, 2, 3, 4, 5, 6, 7, 8],\n",
       " [9, 10, 11, 12, 13, 14, 15, 16, 17],\n",
       " [18, 19, 20, 21, 22, 23, 24, 25, 26, 27],\n",
       " [28, 29, 30, 31, 32, 33, 34, 35, 36, 37],\n",
       " [38, 39, 40, 41, 42, 43, 44, 45, 46, 47],\n",
       " [48, 49, 50, 51, 52, 53, 54, 55, 56, 57, 58]]"
      ]
     },
     "execution_count": 17,
     "metadata": {},
     "output_type": "execute_result"
    }
   ],
   "source": [
    "# Give unique ID to all clusters\n",
    "total = 0\n",
    "cluster_ids = []\n",
    "for period_index, period in enumerate(year_periods):\n",
    "    cluster_ids.append(list(range(total,int(year_periods_topics[period_index])+total)))\n",
    "    total = total + int(year_periods_topics[period_index])\n",
    "cluster_ids"
   ]
  },
  {
   "cell_type": "code",
   "execution_count": 24,
   "metadata": {},
   "outputs": [
    {
     "name": "stderr",
     "output_type": "stream",
     "text": [
      "100%|██████████| 9/9 [00:00<00:00, 2720.04it/s]\n",
      "100%|██████████| 9/9 [00:00<00:00, 1366.82it/s]\n",
      "100%|██████████| 10/10 [00:00<00:00, 2273.46it/s]\n",
      "100%|██████████| 10/10 [00:00<00:00, 3024.23it/s]\n",
      "100%|██████████| 10/10 [00:00<00:00, 2852.49it/s]\n",
      "100%|██████████| 11/11 [00:00<00:00, 3055.25it/s]"
     ]
    },
    {
     "name": "stdout",
     "output_type": "stream",
     "text": [
      "1990-2004 9 0\n",
      "2005-2007 9 9\n",
      "2008-2010 10 18\n",
      "2011-2013 10 28\n",
      "2014-2016 10 38\n",
      "2017-2018 11 48\n"
     ]
    },
    {
     "name": "stderr",
     "output_type": "stream",
     "text": [
      "\n"
     ]
    }
   ],
   "source": [
    "labels_all = []\n",
    "labels_all_numeric = []\n",
    "labels_all_numeric_sequential = []\n",
    "colors_all = []\n",
    "colors_all_links = []\n",
    "\n",
    "similarity_source = []\n",
    "similarity_target = []\n",
    "similarity_value = []\n",
    "\n",
    "if multi_year_similarity is True:\n",
    "    for period_index, period in enumerate(year_periods):\n",
    "        print(period,year_periods_topics[period_index],cluster_ids[period_index][0])\n",
    "\n",
    "        terms = pd.read_csv(data_directory+'term_cluster-tables/'+label_source+period+\" \"+year_periods_topics[period_index]+\" - term_cluster.csv\").fillna('')\n",
    "        scores = pd.read_csv(data_directory+'term_cluster-tables/'+label_source+period+\" \"+year_periods_topics[period_index]+\" - term_score.csv\").fillna(0)\n",
    "    \n",
    "        \n",
    "        labels_this_period = aa.topic_label_maker(terms,scores,ratio=10,\n",
    "                                                  prefix=period.split('-')[1][-2:]+' - ',limit=5)\n",
    "        \n",
    "        labels_all = labels_all + labels_this_period\n",
    "        labels_all_numeric = labels_all_numeric + [str(x) for x in list(range(0,len(labels_this_period)))]\n",
    "        \n",
    "        topic_colors = [node_colors[period_index]] * len(labels_this_period)\n",
    "        topic_colors = color_alternator(topic_colors,up_thresh = 0.99, down_thresh = 0.01, color_part = 2)\n",
    "        colors_all = colors_all + topic_colors\n",
    "        \n",
    "        topic_link_colors = [link_colors[period_index]] * len(labels_this_period)\n",
    "        topic_link_colors = color_alternator(topic_link_colors,up_thresh = 0.99, down_thresh = 0.01, color_part = 2)\n",
    "        colors_all_links = colors_all_links + topic_link_colors\n",
    "        \n",
    "    #    similarity_scores = None\n",
    "        if period_index < len(year_periods) - 1:\n",
    "            similarity_scores = pd.read_csv(data_directory+'similarity/'+clustering_method+year_periods[period_index]+\"_\"+year_periods_topics[period_index]+\"-\"+year_periods[period_index+1]+\"_\"+year_periods_topics[period_index+1]+\".csv\")\n",
    "    #        terms_previous_period = pd.read_csv(data_directory+\"cumulative/\"+year_periods[period_index+1]+\"_\"+year_periods_topics[period_index+1]+\"/top_99-percentile_keywords_terms-spaced.csv\")\n",
    "\n",
    "            # flatten the similarity scores\n",
    "            for period_cluster_no,row in similarity_scores.iterrows(): # repeat to n_clusters of A\n",
    "\n",
    "                elem_num = len(row.values.tolist()) # number of columns in similarity file\n",
    "                for idx in range(1,elem_num,2):     # repeat to n_clusters of B\n",
    "                    if row.values.tolist()[idx+1]**power > link_strength_threshold:\n",
    "                        similarity_source.append(int(row.values.tolist()[0]) + cluster_ids[period_index][0])\n",
    "                        similarity_target.append(int(row.values.tolist()[idx]) + cluster_ids[period_index+1][0])\n",
    "                        similarity_value.append(row.values.tolist()[idx+1]**power)\n",
    "                \n",
    "        if period_index < len(year_periods) - 2:\n",
    "            try:\n",
    "                similarity_scores = pd.read_csv(data_directory+'similarity/'+clustering_method+year_periods[period_index]+\"_\"+year_periods_topics[period_index]+\"-\"+year_periods[period_index+2]+\"_\"+year_periods_topics[period_index+2]+\".csv\")\n",
    "    #        terms_previous_period = pd.read_csv(data_directory+\"cumulative/\"+year_periods[period_index+1]+\"_\"+year_periods_topics[period_index+1]+\"/top_99-percentile_keywords_terms-spaced.csv\")\n",
    "            except:\n",
    "                print(\"\\nThere is no similarity record at \",data_directory+'similarity/'+clustering_method+year_periods[period_index]+\"_\"+year_periods_topics[period_index]+\"-\"+year_periods[period_index+2]+\"_\"+year_periods_topics[period_index+2]+\".csv\")\n",
    "                similarity_scores = None\n",
    "                continue\n",
    "                \n",
    "            for period_cluster_no,row in similarity_scores.iterrows(): # repeat to n_clusters of A\n",
    "\n",
    "                elem_num = len(row.values.tolist()) # number of columns in similarity file\n",
    "                for idx in range(1,elem_num,2):     # repeat to n_clusters of B\n",
    "                    if row.values.tolist()[idx+1]**power > link_strength_threshold_2:\n",
    "                        similarity_source.append(int(row.values.tolist()[0]) + cluster_ids[period_index][0])\n",
    "                        similarity_target.append(int(row.values.tolist()[idx]) + cluster_ids[period_index+2][0])\n",
    "                        similarity_value.append(row.values.tolist()[idx+1]**power)\n",
    "                \n",
    "                \n",
    "    labels_all_numeric_sequential = [str(x) for x in list(range(0,len(labels_all_numeric)))]"
   ]
  },
  {
   "cell_type": "markdown",
   "metadata": {},
   "source": [
    "### Draw"
   ]
  },
  {
   "cell_type": "markdown",
   "metadata": {},
   "source": [
    "#### Prepare links"
   ]
  },
  {
   "cell_type": "markdown",
   "metadata": {},
   "source": [
    "* For clustered colors:"
   ]
  },
  {
   "cell_type": "code",
   "execution_count": 25,
   "metadata": {},
   "outputs": [
    {
     "name": "stderr",
     "output_type": "stream",
     "text": [
      "100%|██████████| 119/119 [00:00<00:00, 156366.60it/s]\n"
     ]
    }
   ],
   "source": [
    "if random_link_colors is False:\n",
    "    final_colors_links = [colors_all_links[x] for x in similarity_source] # in similarity_source]\n",
    "    final_color_links_varied = []\n",
    "    for i,value in tqdm(enumerate(similarity_value),total=len(similarity_value)):\n",
    "        final_color_links_varied.append(final_colors_links[i].replace(', 0.4',', '+str(value/2)))\n",
    "#         print(final_color_links_varied[i])\n",
    "    final_colors_links = final_color_links_varied"
   ]
  },
  {
   "cell_type": "markdown",
   "metadata": {},
   "source": [
    "* For random colors:"
   ]
  },
  {
   "cell_type": "code",
   "execution_count": 26,
   "metadata": {},
   "outputs": [],
   "source": [
    "if random_link_colors is True:\n",
    "    final_colors_links = ['rgba('+str(x).replace('[','').replace(']','')+')' for x in aa.color_palette_maker(len(similarity_target),alpha=0.3)]"
   ]
  },
  {
   "cell_type": "markdown",
   "metadata": {},
   "source": [
    "#### Prepare labels"
   ]
  },
  {
   "cell_type": "code",
   "execution_count": 27,
   "metadata": {},
   "outputs": [
    {
     "name": "stderr",
     "output_type": "stream",
     "text": [
      "100%|██████████| 59/59 [00:00<00:00, 26703.78it/s]\n"
     ]
    }
   ],
   "source": [
    "labels_all_new = []\n",
    "for label in tqdm(labels_all):\n",
    "    label_to_split = label.split('- ')\n",
    "    label_split = label_to_split[1].split(', ')\n",
    "    label_split_new = []\n",
    "    for split in label_split:\n",
    "        if len(split)>20:\n",
    "            label_split_new.append(aa.abbreviator(split))\n",
    "        else:\n",
    "            label_split_new.append(split)\n",
    "    labels_all_new.append(label_to_split[0]+'- '+', '.join(label_split_new))\n",
    "labels_all_new = [label.replace('computer science','cs').replace('engineering','en') for label in labels_all_new]"
   ]
  },
  {
   "cell_type": "markdown",
   "metadata": {},
   "source": [
    "#### Draw"
   ]
  },
  {
   "cell_type": "code",
   "execution_count": 29,
   "metadata": {},
   "outputs": [
    {
     "data": {
      "application/vnd.plotly.v1+json": {
       "config": {
        "plotlyServerURL": "https://plot.ly"
       },
       "data": [
        {
         "link": {
          "color": [
           "rgba(0.5078125, 0.4992008988782716140625, 0.6643055555555556, 0.4992008988782716)",
           "rgba(0.5078125, 0.4932393107653706140625, 0.5825173611111111, 0.4932393107653706)",
           "rgba(0.5078125, 0.4994848319095634140625, 0.5825173611111111, 0.4994848319095634)",
           "rgba(0.5078125, 0.4984108219955882140625, 0.5007291666666667, 0.4984108219955882)",
           "rgba(0.5078125, 0.4957729234960735140625, 0.5007291666666667, 0.4957729234960735)",
           "rgba(0.5078125, 0.4936074051915634140625, 0.5007291666666667, 0.4936074051915634)",
           "rgba(0.5078125, 0.498205017066651140625, 0.498205017066651189409722222222, 0.498205017066651)",
           "rgba(0.5078125, 0.4962190134911716140625, 0.4962190134911716189409722222222, 0.4962190134911716)",
           "rgba(0.5078125, 0.498607767693759140625, 0.33715277777777775, 0.498607767693759)",
           "rgba(0.5078125, 0.4982407027645314140625, 0.25536458333333334, 0.4982407027645314)",
           "rgba(0.5078125, 0.4973754762450678140625, 0.25536458333333334, 0.4973754762450678)",
           "rgba(0.5078125, 0.4985806170412428140625, 0.17357638888888882, 0.4985806170412428)",
           "rgba(0.5078125, 0.4947374050976138140625, 0.09178819444444442, 0.4947374050976138)",
           "rgba(0.5078125, 0.4980208907987684140625, 0.010000000000000009, 0.4980208907987684)",
           "rgba(0.5078125, 0.4931753196046499140625, 0.010000000000000009, 0.4931753196046499)",
           "rgba(0.5078125, 0.4995241897511721140625, 0.6643055555555556, 0.4995241897511721)",
           "rgba(0.5078125, 0.4984367948128567140625, 0.5825173611111111, 0.4984367948128567)",
           "rgba(0.5078125, 0.497616425202471140625, 0.5007291666666667, 0.497616425202471)",
           "rgba(0.5078125, 0.4980969790370976140625, 0.5007291666666667, 0.4980969790370976)",
           "rgba(0.5078125, 0.4977819070183571140625, 0.4977819070183571189409722222222, 0.4977819070183571)",
           "rgba(0.5078125, 0.4987030053652407140625, 0.25536458333333334, 0.4987030053652407)",
           "rgba(0.85546875, 0.68359375, 0.28708333333333336, 0.4996449361421048)",
           "rgba(0.85546875, 0.68359375, 0.28708333333333336, 0.4954730139933485)",
           "rgba(0.85546875, 0.68359375, 0.28708333333333336, 0.4956202041605472)",
           "rgba(0.85546875, 0.68359375, 0.37494791666666666, 0.4928640722742348)",
           "rgba(0.85546875, 0.68359375, 0.37494791666666666, 0.4975534279035952)",
           "rgba(0.85546875, 0.68359375, 0.37494791666666666, 0.4972217890889832)",
           "rgba(0.85546875, 0.68359375, 0.49748538664912886281249999999996, 0.4974853866491288)",
           "rgba(0.85546875, 0.68359375, 0.5506770833333333, 0.495511901645887)",
           "rgba(0.85546875, 0.68359375, 0.5506770833333333, 0.4990128165247524)",
           "rgba(0.85546875, 0.68359375, 0.6385416666666667, 0.4978728557003398)",
           "rgba(0.85546875, 0.68359375, 0.6385416666666667, 0.4942679919096253)",
           "rgba(0.85546875, 0.68359375, 0.6385416666666667, 0.4928527143861834)",
           "rgba(0.85546875, 0.68359375, 0.8142708333333333, 0.4950973205030424)",
           "rgba(0.85546875, 0.68359375, 0.99, 0.4927209710893998)",
           "rgba(0.85546875, 0.68359375, 0.99, 0.4976913511060561)",
           "rgba(0.85546875, 0.68359375, 0.99, 0.493561529638172)",
           "rgba(0.85546875, 0.68359375, 0.99, 0.4937496075801836)",
           "rgba(0.85546875, 0.68359375, 0.28708333333333336, 0.4981707462755211)",
           "rgba(0.85546875, 0.68359375, 0.28708333333333336, 0.49926903585398397)",
           "rgba(0.85546875, 0.68359375, 0.37494791666666666, 0.49973882714663)",
           "rgba(0.85546875, 0.68359375, 0.5506770833333333, 0.4980331415815664)",
           "rgba(0.85546875, 0.68359375, 0.5506770833333333, 0.4988613008032586)",
           "rgba(0.85546875, 0.68359375, 0.9021354166666666, 0.4996013289400862)",
           "rgba(0.48828125, 0.29296875, 0.376734375, 0.4984702513115562)",
           "rgba(0.48828125, 0.29296875, 0.376734375, 0.4944924864239832)",
           "rgba(0.48828125, 0.29296875, 0.376734375, 0.4992279650984461)",
           "rgba(0.48828125, 0.29296875, 0.49602177389897244875, 0.496021773898972)",
           "rgba(0.48828125, 0.29296875, 0.496136795618585844875, 0.4961367956185858)",
           "rgba(0.48828125, 0.29296875, 0.49385234653365344875, 0.493852346533653)",
           "rgba(0.48828125, 0.29296875, 0.494912825299022844875, 0.4949128252990228)",
           "rgba(0.48828125, 0.29296875, 0.58115625, 0.4957891270434918)",
           "rgba(0.48828125, 0.29296875, 0.58115625, 0.4926338912652714)",
           "rgba(0.48828125, 0.29296875, 0.649296875, 0.4979605640407902)",
           "rgba(0.48828125, 0.29296875, 0.7174375, 0.4949747067544763)",
           "rgba(0.48828125, 0.29296875, 0.7174375, 0.4939726358009177)",
           "rgba(0.48828125, 0.29296875, 0.7174375, 0.4944197952872781)",
           "rgba(0.48828125, 0.29296875, 0.7174375, 0.4942325463404326)",
           "rgba(0.48828125, 0.29296875, 0.785578125, 0.4962198618224191)",
           "rgba(0.48828125, 0.29296875, 0.785578125, 0.4994139312739076)",
           "rgba(0.48828125, 0.29296875, 0.9218593749999999, 0.4949876066659171)",
           "rgba(0.48828125, 0.29296875, 0.9218593749999999, 0.498518118135669)",
           "rgba(0.48828125, 0.29296875, 0.9218593749999999, 0.4931675147016494)",
           "rgba(0.48828125, 0.29296875, 0.99, 0.4965458386501219)",
           "rgba(0.48828125, 0.29296875, 0.376734375, 0.4989696961355306)",
           "rgba(0.48828125, 0.29296875, 0.4975733384981329644875, 0.49757333849813296)",
           "rgba(0.48828125, 0.29296875, 0.785578125, 0.4993232313516582)",
           "rgba(0.48828125, 0.29296875, 0.9218593749999999, 0.4985813594351758)",
           "rgba(0.13671875, 0.39453125, 0.229078125, 0.4977276146163132)",
           "rgba(0.13671875, 0.39453125, 0.229078125, 0.4969991924112584)",
           "rgba(0.13671875, 0.39453125, 0.229078125, 0.4943813707552446)",
           "rgba(0.13671875, 0.39453125, 0.313625, 0.4977893662545171)",
           "rgba(0.13671875, 0.39453125, 0.313625, 0.4940220422454071)",
           "rgba(0.13671875, 0.39453125, 0.313625, 0.4952618025930512)",
           "rgba(0.13671875, 0.39453125, 0.313625, 0.492675398659099)",
           "rgba(0.13671875, 0.39453125, 0.39817187499999995, 0.4935825875528712)",
           "rgba(0.13671875, 0.39453125, 0.39817187499999995, 0.4949183798511963)",
           "rgba(0.13671875, 0.39453125, 0.49320770805206068271875, 0.4932077080520606)",
           "rgba(0.13671875, 0.39453125, 0.4956890000621288271875, 0.495689000062128)",
           "rgba(0.13671875, 0.39453125, 0.49711426855311428271875, 0.4971142685531142)",
           "rgba(0.13671875, 0.39453125, 0.567265625, 0.4926857389581271)",
           "rgba(0.13671875, 0.39453125, 0.567265625, 0.4978546338960661)",
           "rgba(0.13671875, 0.39453125, 0.6518124999999999, 0.4970775386450888)",
           "rgba(0.13671875, 0.39453125, 0.6518124999999999, 0.4995637740815844)",
           "rgba(0.13671875, 0.39453125, 0.7363593749999999, 0.4985470854518566)",
           "rgba(0.13671875, 0.39453125, 0.82090625, 0.4996012766599542)",
           "rgba(0.13671875, 0.39453125, 0.905453125, 0.49845074408461854)",
           "rgba(0.13671875, 0.39453125, 0.99, 0.4985123082550128)",
           "rgba(0.13671875, 0.39453125, 0.99, 0.4932542123356287)",
           "rgba(0.13671875, 0.39453125, 0.49789212611866748271875, 0.4978921261186674)",
           "rgba(0.13671875, 0.39453125, 0.567265625, 0.4985924139893558)",
           "rgba(0.13671875, 0.39453125, 0.6518124999999999, 0.4983515843023018)",
           "rgba(0.13671875, 0.39453125, 0.6518124999999999, 0.4981285658009009)",
           "rgba(0.13671875, 0.39453125, 0.7363593749999999, 0.4980492054496428)",
           "rgba(0.13671875, 0.39453125, 0.82090625, 0.4983052959867786)",
           "rgba(0.13671875, 0.39453125, 0.905453125, 0.4978436163618018)",
           "rgba(0.65234375, 0.68359375, 0.8588125, 0.4957233842870672)",
           "rgba(0.65234375, 0.68359375, 0.7645, 0.4955922721198586)",
           "rgba(0.65234375, 0.68359375, 0.7645, 0.49441080758619504)",
           "rgba(0.65234375, 0.68359375, 0.7645, 0.4971775827505476)",
           "rgba(0.65234375, 0.68359375, 0.7645, 0.4943369319721432)",
           "rgba(0.65234375, 0.68359375, 0.7645, 0.4939855014395152)",
           "rgba(0.65234375, 0.68359375, 0.6701875, 0.4939819405698546)",
           "rgba(0.65234375, 0.68359375, 0.6701875, 0.4979146171647896)",
           "rgba(0.65234375, 0.68359375, 0.6701875, 0.4975689770325448)",
           "rgba(0.65234375, 0.68359375, 0.6701875, 0.4987024232296518)",
           "rgba(0.65234375, 0.68359375, 0.575875, 0.495249895668558)",
           "rgba(0.65234375, 0.68359375, 0.575875, 0.4945435936735664)",
           "rgba(0.65234375, 0.68359375, 0.49419908425187815625, 0.49419908425187)",
           "rgba(0.65234375, 0.68359375, 0.49597546350214644815625, 0.49597546350214644)",
           "rgba(0.65234375, 0.68359375, 0.4943571732229241815625, 0.4943571732229241)",
           "rgba(0.65234375, 0.68359375, 0.4976529905272266815625, 0.4976529905272266)",
           "rgba(0.65234375, 0.68359375, 0.3872500000000001, 0.4948767828777546)",
           "rgba(0.65234375, 0.68359375, 0.3872500000000001, 0.4968213350288644)",
           "rgba(0.65234375, 0.68359375, 0.3872500000000001, 0.4939461969886893)",
           "rgba(0.65234375, 0.68359375, 0.2929375000000001, 0.4983901316208542)",
           "rgba(0.65234375, 0.68359375, 0.19862500000000005, 0.4997395413471956)",
           "rgba(0.65234375, 0.68359375, 0.10431250000000003, 0.4991126481412644)",
           "rgba(0.65234375, 0.68359375, 0.010000000000000009, 0.493930498177595)"
          ],
          "source": [
           0,
           1,
           1,
           2,
           2,
           2,
           3,
           3,
           4,
           5,
           5,
           6,
           7,
           8,
           8,
           0,
           1,
           2,
           2,
           3,
           5,
           9,
           9,
           9,
           10,
           10,
           10,
           11,
           12,
           12,
           13,
           13,
           13,
           15,
           17,
           17,
           17,
           17,
           9,
           9,
           10,
           12,
           12,
           16,
           18,
           18,
           18,
           19,
           19,
           19,
           19,
           21,
           21,
           22,
           23,
           23,
           23,
           23,
           24,
           24,
           26,
           26,
           26,
           27,
           18,
           19,
           24,
           26,
           28,
           28,
           28,
           29,
           29,
           29,
           29,
           30,
           30,
           31,
           31,
           31,
           32,
           32,
           33,
           33,
           34,
           35,
           36,
           37,
           37,
           31,
           32,
           33,
           33,
           34,
           35,
           36,
           38,
           39,
           39,
           39,
           39,
           39,
           40,
           40,
           40,
           40,
           41,
           41,
           42,
           42,
           42,
           42,
           43,
           43,
           43,
           44,
           45,
           46,
           47
          ],
          "target": [
           9,
           9,
           10,
           9,
           10,
           15,
           11,
           17,
           14,
           12,
           17,
           16,
           13,
           13,
           17,
           18,
           27,
           18,
           26,
           22,
           19,
           18,
           23,
           26,
           18,
           26,
           27,
           22,
           19,
           24,
           21,
           23,
           24,
           26,
           18,
           19,
           22,
           23,
           29,
           37,
           33,
           31,
           36,
           32,
           29,
           33,
           37,
           28,
           29,
           30,
           31,
           30,
           35,
           28,
           29,
           31,
           35,
           37,
           31,
           36,
           29,
           33,
           37,
           33,
           39,
           41,
           45,
           40,
           38,
           42,
           45,
           39,
           40,
           41,
           42,
           41,
           43,
           41,
           42,
           45,
           43,
           47,
           39,
           40,
           46,
           44,
           45,
           39,
           40,
           50,
           49,
           54,
           58,
           56,
           55,
           50,
           48,
           52,
           53,
           54,
           57,
           58,
           52,
           53,
           54,
           58,
           48,
           52,
           48,
           50,
           51,
           57,
           49,
           51,
           57,
           55,
           50,
           56,
           49
          ],
          "value": [
           0.9984017977565433,
           0.9864786215307412,
           0.9989696638191268,
           0.9968216439911765,
           0.991545846992147,
           0.9872148103831268,
           0.996410034133302,
           0.9924380269823432,
           0.997215535387518,
           0.9964814055290628,
           0.9947509524901356,
           0.9971612340824856,
           0.9894748101952276,
           0.9960417815975368,
           0.9863506392092998,
           0.9990483795023442,
           0.9968735896257134,
           0.995232850404942,
           0.9961939580741952,
           0.9955638140367142,
           0.9974060107304814,
           0.9992898722842096,
           0.990946027986697,
           0.9912404083210944,
           0.9857281445484696,
           0.9951068558071904,
           0.9944435781779664,
           0.9949707732982576,
           0.991023803291774,
           0.9980256330495048,
           0.9957457114006796,
           0.9885359838192506,
           0.9857054287723668,
           0.9901946410060848,
           0.9854419421787995,
           0.9953827022121122,
           0.987123059276344,
           0.9874992151603672,
           0.9963414925510422,
           0.9985380717079679,
           0.99947765429326,
           0.9960662831631328,
           0.9977226016065172,
           0.9992026578801724,
           0.9969405026231124,
           0.9889849728479664,
           0.9984559301968922,
           0.992043547797944,
           0.9922735912371716,
           0.987704693067306,
           0.9898256505980456,
           0.9915782540869836,
           0.9852677825305428,
           0.9959211280815804,
           0.9899494135089526,
           0.9879452716018354,
           0.9888395905745562,
           0.9884650926808652,
           0.9924397236448382,
           0.9988278625478152,
           0.9899752133318342,
           0.997036236271338,
           0.9863350294032988,
           0.9930916773002438,
           0.9979393922710612,
           0.9951466769962659,
           0.9986464627033164,
           0.9971627188703516,
           0.9954552292326264,
           0.9939983848225168,
           0.9887627415104892,
           0.9955787325090342,
           0.9880440844908142,
           0.9905236051861024,
           0.985350797318198,
           0.9871651751057424,
           0.9898367597023926,
           0.9864154161041212,
           0.991378000124256,
           0.9942285371062284,
           0.9853714779162542,
           0.9957092677921322,
           0.9941550772901776,
           0.9991275481631688,
           0.9970941709037132,
           0.9992025533199084,
           0.9969014881692371,
           0.9970246165100256,
           0.9865084246712574,
           0.9957842522373348,
           0.9971848279787116,
           0.9967031686046036,
           0.9962571316018018,
           0.9960984108992856,
           0.9966105919735572,
           0.9956872327236036,
           0.9914467685741344,
           0.9911845442397172,
           0.9888216151723901,
           0.9943551655010952,
           0.9886738639442864,
           0.9879710028790304,
           0.9879638811397092,
           0.9958292343295791,
           0.9951379540650896,
           0.9974048464593036,
           0.990499791337116,
           0.9890871873471327,
           0.98839816850374,
           0.9919509270042929,
           0.9887143464458482,
           0.9953059810544532,
           0.9897535657555092,
           0.9936426700577288,
           0.9878923939773786,
           0.9967802632417084,
           0.9994790826943912,
           0.9982252962825288,
           0.98786099635519
          ]
         },
         "node": {
          "color": [
           "rgba(0.5078125, 0.4140625, 0.6643055555555556, 0.8)",
           "rgba(0.5078125, 0.4140625, 0.5825173611111111, 0.8)",
           "rgba(0.5078125, 0.4140625, 0.5007291666666667, 0.8)",
           "rgba(0.5078125, 0.4140625, 0.4189409722222222, 0.8)",
           "rgba(0.5078125, 0.4140625, 0.33715277777777775, 0.8)",
           "rgba(0.5078125, 0.4140625, 0.25536458333333334, 0.8)",
           "rgba(0.5078125, 0.4140625, 0.17357638888888882, 0.8)",
           "rgba(0.5078125, 0.4140625, 0.09178819444444442, 0.8)",
           "rgba(0.5078125, 0.4140625, 0.010000000000000009, 0.8)",
           "rgba(0.85546875, 0.68359375, 0.28708333333333336, 0.8)",
           "rgba(0.85546875, 0.68359375, 0.37494791666666666, 0.8)",
           "rgba(0.85546875, 0.68359375, 0.46281249999999996, 0.8)",
           "rgba(0.85546875, 0.68359375, 0.5506770833333333, 0.8)",
           "rgba(0.85546875, 0.68359375, 0.6385416666666667, 0.8)",
           "rgba(0.85546875, 0.68359375, 0.7264062499999999, 0.8)",
           "rgba(0.85546875, 0.68359375, 0.8142708333333333, 0.8)",
           "rgba(0.85546875, 0.68359375, 0.9021354166666666, 0.8)",
           "rgba(0.85546875, 0.68359375, 0.99, 0.8)",
           "rgba(0.48828125, 0.29296875, 0.376734375, 0.8)",
           "rgba(0.48828125, 0.29296875, 0.444875, 0.8)",
           "rgba(0.48828125, 0.29296875, 0.513015625, 0.8)",
           "rgba(0.48828125, 0.29296875, 0.58115625, 0.8)",
           "rgba(0.48828125, 0.29296875, 0.649296875, 0.8)",
           "rgba(0.48828125, 0.29296875, 0.7174375, 0.8)",
           "rgba(0.48828125, 0.29296875, 0.785578125, 0.8)",
           "rgba(0.48828125, 0.29296875, 0.85371875, 0.8)",
           "rgba(0.48828125, 0.29296875, 0.9218593749999999, 0.8)",
           "rgba(0.48828125, 0.29296875, 0.99, 0.8)",
           "rgba(0.13671875, 0.39453125, 0.229078125, 0.8)",
           "rgba(0.13671875, 0.39453125, 0.313625, 0.8)",
           "rgba(0.13671875, 0.39453125, 0.39817187499999995, 0.8)",
           "rgba(0.13671875, 0.39453125, 0.48271875, 0.8)",
           "rgba(0.13671875, 0.39453125, 0.567265625, 0.8)",
           "rgba(0.13671875, 0.39453125, 0.6518124999999999, 0.8)",
           "rgba(0.13671875, 0.39453125, 0.7363593749999999, 0.8)",
           "rgba(0.13671875, 0.39453125, 0.82090625, 0.8)",
           "rgba(0.13671875, 0.39453125, 0.905453125, 0.8)",
           "rgba(0.13671875, 0.39453125, 0.99, 0.8)",
           "rgba(0.65234375, 0.68359375, 0.8588125, 0.8)",
           "rgba(0.65234375, 0.68359375, 0.7645, 0.8)",
           "rgba(0.65234375, 0.68359375, 0.6701875, 0.8)",
           "rgba(0.65234375, 0.68359375, 0.575875, 0.8)",
           "rgba(0.65234375, 0.68359375, 0.4815625, 0.8)",
           "rgba(0.65234375, 0.68359375, 0.3872500000000001, 0.8)",
           "rgba(0.65234375, 0.68359375, 0.2929375000000001, 0.8)",
           "rgba(0.65234375, 0.68359375, 0.19862500000000005, 0.8)",
           "rgba(0.65234375, 0.68359375, 0.10431250000000003, 0.8)",
           "rgba(0.65234375, 0.68359375, 0.010000000000000009, 0.8)",
           "rgba(0.64453125, 0.48828125, 0.4909659090909091, 0.8)",
           "rgba(0.64453125, 0.48828125, 0.4428693181818182, 0.8)",
           "rgba(0.64453125, 0.48828125, 0.3947727272727273, 0.8)",
           "rgba(0.64453125, 0.48828125, 0.34667613636363637, 0.8)",
           "rgba(0.64453125, 0.48828125, 0.29857954545454546, 0.8)",
           "rgba(0.64453125, 0.48828125, 0.25048295454545455, 0.8)",
           "rgba(0.64453125, 0.48828125, 0.20238636363636364, 0.8)",
           "rgba(0.64453125, 0.48828125, 0.15428977272727273, 0.8)",
           "rgba(0.64453125, 0.48828125, 0.10619318181818183, 0.8)",
           "rgba(0.64453125, 0.48828125, 0.05809659090909092, 0.8)",
           "rgba(0.64453125, 0.48828125, 0.010000000000000009, 0.8)"
          ],
          "label": [
           "04 - cbr, intelligent_agent, fault_diagnosis, multi_agent_system, engineer",
           "04 - mind, cognitive_science, cognition, emotion, consciousness",
           "04 - web, ds, game, intelligent_agent, negotiation",
           "04 - fault_diagnosis, tabu_search, sat, csp, petri_net",
           "04 - polynomial, horn, disjunction, lattice, truth",
           "04 - temperature, soil, controller, steel, power_system",
           "04 - semantics, unification, verb, linguistic, conceptual_graph",
           "04 - lesion, benign, malignant, pulmonary, sensitivity",
           "04 - N, electron, pulse, seam_pucker, image_analysis",
           "07 - product, game, agent_based, cbr, multi_agent_system",
           "07 - web, social, embodied, mind, philosophy",
           "07 - S, sat, solver, ant, graphplan",
           "07 - load, water, plant, flow, air",
           "07 - protein, lesion, N, fracture, S",
           "07 - tilde, lattice, valued, logic_program, dictionary",
           "07 - game, player, car, movement, opponent",
           "07 - tcm, temporal, ontology, predicate, semantic",
           "07 - gps, A, I, routing, sensor",
           "10 - multi_agent_system, ontology, cbr, e_learning, scheduling",
           "10 - team, controller, scheduling, fault, P",
           "10 - formula, propositional, quantifier, preference, submodular",
           "10 - patient, diagnosis, emotion, paf, S",
           "10 - S, A, error, svr, forecasting",
           "10 - patient, diagnosis, urban, credit, protein",
           "10 - temperature, water, surface, pressure, coal",
           "10 - ontology, web_service, qa, web_directory, document",
           "10 - player, team, poker, internet, captcha",
           "10 - cognition, argument, philosophical, C, turing_test",
           "13 - P, fault, gps, fault_diagnosis, power_system",
           "13 - player, R, control_system, poker, scheduling",
           "13 - vehicle, gps, orientation, camera, captcha",
           "13 - water, solar, soil, reservoir, rock",
           "13 - ontology, semantics, word, semantic_similarity, argument",
           "13 - educational, intelligence, emotion, creativity, teaching",
           "13 - concentration, sic, granule, ph, clutter",
           "13 - cancer, care, breast_cancer, biopsy, mr",
           "13 - steel, corrosion, gas, water, red",
           "13 - cbr, e_learning, ontology, teaching, intelligence",
           "16 - controller, voltage, pi_controller, torque, mppt",
           "16 - ontology, education, mcts, educational, cloud",
           "16 - emotion, education, creative, digital, story",
           "16 - vehicle, traffic, cognitive_radio, channel, routing",
           "16 - forecast, credit, wavelet, electricity_market, fault_diagnosis",
           "16 - deep_learning, sentence, recognition, captcha, N",
           "16 - patient, clinical, medical, disease, care",
           "16 - temperature, soil, forecast, reservoir, oil",
           "16 - temperature, coating, hardness, pile, gep",
           "16 - argument, sat, semantics, ontology, argumentation",
           "18 - P, mppt, memristor, neuromorphic, voltage",
           "18 - sentence, chinese, arabic, I, sentiment_analysis",
           "18 - A, temperature, river, voltage, soil",
           "18 - segmentation, facial, auc, feature_selection, dna",
           "18 - U, mission, autonomous_vehicle, mobile_robot, path_planning",
           "18 - economy, job, bot, social_medium, chatbots",
           "18 - e_learning, radiology, diabetes, radiologist, precision_medicine",
           "18 - ct, auc, tumor, lesion, diabetic_retinopathy",
           "18 - pb, adsorption, mg, ph, temperature",
           "18 - fault_diagnosis, A, bp_neural_network, D, A",
           "18 - consciousness, moral, argument, governance, narrative"
          ],
          "line": {
           "color": "black",
           "width": 0
          },
          "pad": 15,
          "thickness": 10
         },
         "type": "sankey"
        }
       ],
       "layout": {
        "autosize": false,
        "font": {
         "size": 11
        },
        "height": 900,
        "template": {
         "data": {
          "bar": [
           {
            "error_x": {
             "color": "#2a3f5f"
            },
            "error_y": {
             "color": "#2a3f5f"
            },
            "marker": {
             "line": {
              "color": "#E5ECF6",
              "width": 0.5
             }
            },
            "type": "bar"
           }
          ],
          "barpolar": [
           {
            "marker": {
             "line": {
              "color": "#E5ECF6",
              "width": 0.5
             }
            },
            "type": "barpolar"
           }
          ],
          "carpet": [
           {
            "aaxis": {
             "endlinecolor": "#2a3f5f",
             "gridcolor": "white",
             "linecolor": "white",
             "minorgridcolor": "white",
             "startlinecolor": "#2a3f5f"
            },
            "baxis": {
             "endlinecolor": "#2a3f5f",
             "gridcolor": "white",
             "linecolor": "white",
             "minorgridcolor": "white",
             "startlinecolor": "#2a3f5f"
            },
            "type": "carpet"
           }
          ],
          "choropleth": [
           {
            "colorbar": {
             "outlinewidth": 0,
             "ticks": ""
            },
            "type": "choropleth"
           }
          ],
          "contour": [
           {
            "colorbar": {
             "outlinewidth": 0,
             "ticks": ""
            },
            "colorscale": [
             [
              0,
              "#0d0887"
             ],
             [
              0.1111111111111111,
              "#46039f"
             ],
             [
              0.2222222222222222,
              "#7201a8"
             ],
             [
              0.3333333333333333,
              "#9c179e"
             ],
             [
              0.4444444444444444,
              "#bd3786"
             ],
             [
              0.5555555555555556,
              "#d8576b"
             ],
             [
              0.6666666666666666,
              "#ed7953"
             ],
             [
              0.7777777777777778,
              "#fb9f3a"
             ],
             [
              0.8888888888888888,
              "#fdca26"
             ],
             [
              1,
              "#f0f921"
             ]
            ],
            "type": "contour"
           }
          ],
          "contourcarpet": [
           {
            "colorbar": {
             "outlinewidth": 0,
             "ticks": ""
            },
            "type": "contourcarpet"
           }
          ],
          "heatmap": [
           {
            "colorbar": {
             "outlinewidth": 0,
             "ticks": ""
            },
            "colorscale": [
             [
              0,
              "#0d0887"
             ],
             [
              0.1111111111111111,
              "#46039f"
             ],
             [
              0.2222222222222222,
              "#7201a8"
             ],
             [
              0.3333333333333333,
              "#9c179e"
             ],
             [
              0.4444444444444444,
              "#bd3786"
             ],
             [
              0.5555555555555556,
              "#d8576b"
             ],
             [
              0.6666666666666666,
              "#ed7953"
             ],
             [
              0.7777777777777778,
              "#fb9f3a"
             ],
             [
              0.8888888888888888,
              "#fdca26"
             ],
             [
              1,
              "#f0f921"
             ]
            ],
            "type": "heatmap"
           }
          ],
          "heatmapgl": [
           {
            "colorbar": {
             "outlinewidth": 0,
             "ticks": ""
            },
            "colorscale": [
             [
              0,
              "#0d0887"
             ],
             [
              0.1111111111111111,
              "#46039f"
             ],
             [
              0.2222222222222222,
              "#7201a8"
             ],
             [
              0.3333333333333333,
              "#9c179e"
             ],
             [
              0.4444444444444444,
              "#bd3786"
             ],
             [
              0.5555555555555556,
              "#d8576b"
             ],
             [
              0.6666666666666666,
              "#ed7953"
             ],
             [
              0.7777777777777778,
              "#fb9f3a"
             ],
             [
              0.8888888888888888,
              "#fdca26"
             ],
             [
              1,
              "#f0f921"
             ]
            ],
            "type": "heatmapgl"
           }
          ],
          "histogram": [
           {
            "marker": {
             "colorbar": {
              "outlinewidth": 0,
              "ticks": ""
             }
            },
            "type": "histogram"
           }
          ],
          "histogram2d": [
           {
            "colorbar": {
             "outlinewidth": 0,
             "ticks": ""
            },
            "colorscale": [
             [
              0,
              "#0d0887"
             ],
             [
              0.1111111111111111,
              "#46039f"
             ],
             [
              0.2222222222222222,
              "#7201a8"
             ],
             [
              0.3333333333333333,
              "#9c179e"
             ],
             [
              0.4444444444444444,
              "#bd3786"
             ],
             [
              0.5555555555555556,
              "#d8576b"
             ],
             [
              0.6666666666666666,
              "#ed7953"
             ],
             [
              0.7777777777777778,
              "#fb9f3a"
             ],
             [
              0.8888888888888888,
              "#fdca26"
             ],
             [
              1,
              "#f0f921"
             ]
            ],
            "type": "histogram2d"
           }
          ],
          "histogram2dcontour": [
           {
            "colorbar": {
             "outlinewidth": 0,
             "ticks": ""
            },
            "colorscale": [
             [
              0,
              "#0d0887"
             ],
             [
              0.1111111111111111,
              "#46039f"
             ],
             [
              0.2222222222222222,
              "#7201a8"
             ],
             [
              0.3333333333333333,
              "#9c179e"
             ],
             [
              0.4444444444444444,
              "#bd3786"
             ],
             [
              0.5555555555555556,
              "#d8576b"
             ],
             [
              0.6666666666666666,
              "#ed7953"
             ],
             [
              0.7777777777777778,
              "#fb9f3a"
             ],
             [
              0.8888888888888888,
              "#fdca26"
             ],
             [
              1,
              "#f0f921"
             ]
            ],
            "type": "histogram2dcontour"
           }
          ],
          "mesh3d": [
           {
            "colorbar": {
             "outlinewidth": 0,
             "ticks": ""
            },
            "type": "mesh3d"
           }
          ],
          "parcoords": [
           {
            "line": {
             "colorbar": {
              "outlinewidth": 0,
              "ticks": ""
             }
            },
            "type": "parcoords"
           }
          ],
          "pie": [
           {
            "automargin": true,
            "type": "pie"
           }
          ],
          "scatter": [
           {
            "marker": {
             "colorbar": {
              "outlinewidth": 0,
              "ticks": ""
             }
            },
            "type": "scatter"
           }
          ],
          "scatter3d": [
           {
            "line": {
             "colorbar": {
              "outlinewidth": 0,
              "ticks": ""
             }
            },
            "marker": {
             "colorbar": {
              "outlinewidth": 0,
              "ticks": ""
             }
            },
            "type": "scatter3d"
           }
          ],
          "scattercarpet": [
           {
            "marker": {
             "colorbar": {
              "outlinewidth": 0,
              "ticks": ""
             }
            },
            "type": "scattercarpet"
           }
          ],
          "scattergeo": [
           {
            "marker": {
             "colorbar": {
              "outlinewidth": 0,
              "ticks": ""
             }
            },
            "type": "scattergeo"
           }
          ],
          "scattergl": [
           {
            "marker": {
             "colorbar": {
              "outlinewidth": 0,
              "ticks": ""
             }
            },
            "type": "scattergl"
           }
          ],
          "scattermapbox": [
           {
            "marker": {
             "colorbar": {
              "outlinewidth": 0,
              "ticks": ""
             }
            },
            "type": "scattermapbox"
           }
          ],
          "scatterpolar": [
           {
            "marker": {
             "colorbar": {
              "outlinewidth": 0,
              "ticks": ""
             }
            },
            "type": "scatterpolar"
           }
          ],
          "scatterpolargl": [
           {
            "marker": {
             "colorbar": {
              "outlinewidth": 0,
              "ticks": ""
             }
            },
            "type": "scatterpolargl"
           }
          ],
          "scatterternary": [
           {
            "marker": {
             "colorbar": {
              "outlinewidth": 0,
              "ticks": ""
             }
            },
            "type": "scatterternary"
           }
          ],
          "surface": [
           {
            "colorbar": {
             "outlinewidth": 0,
             "ticks": ""
            },
            "colorscale": [
             [
              0,
              "#0d0887"
             ],
             [
              0.1111111111111111,
              "#46039f"
             ],
             [
              0.2222222222222222,
              "#7201a8"
             ],
             [
              0.3333333333333333,
              "#9c179e"
             ],
             [
              0.4444444444444444,
              "#bd3786"
             ],
             [
              0.5555555555555556,
              "#d8576b"
             ],
             [
              0.6666666666666666,
              "#ed7953"
             ],
             [
              0.7777777777777778,
              "#fb9f3a"
             ],
             [
              0.8888888888888888,
              "#fdca26"
             ],
             [
              1,
              "#f0f921"
             ]
            ],
            "type": "surface"
           }
          ],
          "table": [
           {
            "cells": {
             "fill": {
              "color": "#EBF0F8"
             },
             "line": {
              "color": "white"
             }
            },
            "header": {
             "fill": {
              "color": "#C8D4E3"
             },
             "line": {
              "color": "white"
             }
            },
            "type": "table"
           }
          ]
         },
         "layout": {
          "annotationdefaults": {
           "arrowcolor": "#2a3f5f",
           "arrowhead": 0,
           "arrowwidth": 1
          },
          "coloraxis": {
           "colorbar": {
            "outlinewidth": 0,
            "ticks": ""
           }
          },
          "colorscale": {
           "diverging": [
            [
             0,
             "#8e0152"
            ],
            [
             0.1,
             "#c51b7d"
            ],
            [
             0.2,
             "#de77ae"
            ],
            [
             0.3,
             "#f1b6da"
            ],
            [
             0.4,
             "#fde0ef"
            ],
            [
             0.5,
             "#f7f7f7"
            ],
            [
             0.6,
             "#e6f5d0"
            ],
            [
             0.7,
             "#b8e186"
            ],
            [
             0.8,
             "#7fbc41"
            ],
            [
             0.9,
             "#4d9221"
            ],
            [
             1,
             "#276419"
            ]
           ],
           "sequential": [
            [
             0,
             "#0d0887"
            ],
            [
             0.1111111111111111,
             "#46039f"
            ],
            [
             0.2222222222222222,
             "#7201a8"
            ],
            [
             0.3333333333333333,
             "#9c179e"
            ],
            [
             0.4444444444444444,
             "#bd3786"
            ],
            [
             0.5555555555555556,
             "#d8576b"
            ],
            [
             0.6666666666666666,
             "#ed7953"
            ],
            [
             0.7777777777777778,
             "#fb9f3a"
            ],
            [
             0.8888888888888888,
             "#fdca26"
            ],
            [
             1,
             "#f0f921"
            ]
           ],
           "sequentialminus": [
            [
             0,
             "#0d0887"
            ],
            [
             0.1111111111111111,
             "#46039f"
            ],
            [
             0.2222222222222222,
             "#7201a8"
            ],
            [
             0.3333333333333333,
             "#9c179e"
            ],
            [
             0.4444444444444444,
             "#bd3786"
            ],
            [
             0.5555555555555556,
             "#d8576b"
            ],
            [
             0.6666666666666666,
             "#ed7953"
            ],
            [
             0.7777777777777778,
             "#fb9f3a"
            ],
            [
             0.8888888888888888,
             "#fdca26"
            ],
            [
             1,
             "#f0f921"
            ]
           ]
          },
          "colorway": [
           "#636efa",
           "#EF553B",
           "#00cc96",
           "#ab63fa",
           "#FFA15A",
           "#19d3f3",
           "#FF6692",
           "#B6E880",
           "#FF97FF",
           "#FECB52"
          ],
          "font": {
           "color": "#2a3f5f"
          },
          "geo": {
           "bgcolor": "white",
           "lakecolor": "white",
           "landcolor": "#E5ECF6",
           "showlakes": true,
           "showland": true,
           "subunitcolor": "white"
          },
          "hoverlabel": {
           "align": "left"
          },
          "hovermode": "closest",
          "mapbox": {
           "style": "light"
          },
          "paper_bgcolor": "white",
          "plot_bgcolor": "#E5ECF6",
          "polar": {
           "angularaxis": {
            "gridcolor": "white",
            "linecolor": "white",
            "ticks": ""
           },
           "bgcolor": "#E5ECF6",
           "radialaxis": {
            "gridcolor": "white",
            "linecolor": "white",
            "ticks": ""
           }
          },
          "scene": {
           "xaxis": {
            "backgroundcolor": "#E5ECF6",
            "gridcolor": "white",
            "gridwidth": 2,
            "linecolor": "white",
            "showbackground": true,
            "ticks": "",
            "zerolinecolor": "white"
           },
           "yaxis": {
            "backgroundcolor": "#E5ECF6",
            "gridcolor": "white",
            "gridwidth": 2,
            "linecolor": "white",
            "showbackground": true,
            "ticks": "",
            "zerolinecolor": "white"
           },
           "zaxis": {
            "backgroundcolor": "#E5ECF6",
            "gridcolor": "white",
            "gridwidth": 2,
            "linecolor": "white",
            "showbackground": true,
            "ticks": "",
            "zerolinecolor": "white"
           }
          },
          "shapedefaults": {
           "line": {
            "color": "#2a3f5f"
           }
          },
          "ternary": {
           "aaxis": {
            "gridcolor": "white",
            "linecolor": "white",
            "ticks": ""
           },
           "baxis": {
            "gridcolor": "white",
            "linecolor": "white",
            "ticks": ""
           },
           "bgcolor": "#E5ECF6",
           "caxis": {
            "gridcolor": "white",
            "linecolor": "white",
            "ticks": ""
           }
          },
          "title": {
           "x": 0.05
          },
          "xaxis": {
           "automargin": true,
           "gridcolor": "white",
           "linecolor": "white",
           "ticks": "",
           "title": {
            "standoff": 15
           },
           "zerolinecolor": "white",
           "zerolinewidth": 2
          },
          "yaxis": {
           "automargin": true,
           "gridcolor": "white",
           "linecolor": "white",
           "ticks": "",
           "title": {
            "standoff": 15
           },
           "zerolinecolor": "white",
           "zerolinewidth": 2
          }
         }
        },
        "title": {
         "text": "H-Clustering -Abstracts+Titles - Separated Development of fields: Docs 1990-2004 to 2017-2018 : Enhanced number of clusters  - pow 1 - thresh 0.985"
        },
        "width": 1500
       }
      },
      "text/html": [
       "<div>\n",
       "        \n",
       "        \n",
       "            <div id=\"5a4f9260-7cd2-4021-bf6f-70136a12c92e\" class=\"plotly-graph-div\" style=\"height:900px; width:1500px;\"></div>\n",
       "            <script type=\"text/javascript\">\n",
       "                require([\"plotly\"], function(Plotly) {\n",
       "                    window.PLOTLYENV=window.PLOTLYENV || {};\n",
       "                    \n",
       "                if (document.getElementById(\"5a4f9260-7cd2-4021-bf6f-70136a12c92e\")) {\n",
       "                    Plotly.newPlot(\n",
       "                        '5a4f9260-7cd2-4021-bf6f-70136a12c92e',\n",
       "                        [{\"link\": {\"color\": [\"rgba(0.5078125, 0.4992008988782716140625, 0.6643055555555556, 0.4992008988782716)\", \"rgba(0.5078125, 0.4932393107653706140625, 0.5825173611111111, 0.4932393107653706)\", \"rgba(0.5078125, 0.4994848319095634140625, 0.5825173611111111, 0.4994848319095634)\", \"rgba(0.5078125, 0.4984108219955882140625, 0.5007291666666667, 0.4984108219955882)\", \"rgba(0.5078125, 0.4957729234960735140625, 0.5007291666666667, 0.4957729234960735)\", \"rgba(0.5078125, 0.4936074051915634140625, 0.5007291666666667, 0.4936074051915634)\", \"rgba(0.5078125, 0.498205017066651140625, 0.498205017066651189409722222222, 0.498205017066651)\", \"rgba(0.5078125, 0.4962190134911716140625, 0.4962190134911716189409722222222, 0.4962190134911716)\", \"rgba(0.5078125, 0.498607767693759140625, 0.33715277777777775, 0.498607767693759)\", \"rgba(0.5078125, 0.4982407027645314140625, 0.25536458333333334, 0.4982407027645314)\", \"rgba(0.5078125, 0.4973754762450678140625, 0.25536458333333334, 0.4973754762450678)\", \"rgba(0.5078125, 0.4985806170412428140625, 0.17357638888888882, 0.4985806170412428)\", \"rgba(0.5078125, 0.4947374050976138140625, 0.09178819444444442, 0.4947374050976138)\", \"rgba(0.5078125, 0.4980208907987684140625, 0.010000000000000009, 0.4980208907987684)\", \"rgba(0.5078125, 0.4931753196046499140625, 0.010000000000000009, 0.4931753196046499)\", \"rgba(0.5078125, 0.4995241897511721140625, 0.6643055555555556, 0.4995241897511721)\", \"rgba(0.5078125, 0.4984367948128567140625, 0.5825173611111111, 0.4984367948128567)\", \"rgba(0.5078125, 0.497616425202471140625, 0.5007291666666667, 0.497616425202471)\", \"rgba(0.5078125, 0.4980969790370976140625, 0.5007291666666667, 0.4980969790370976)\", \"rgba(0.5078125, 0.4977819070183571140625, 0.4977819070183571189409722222222, 0.4977819070183571)\", \"rgba(0.5078125, 0.4987030053652407140625, 0.25536458333333334, 0.4987030053652407)\", \"rgba(0.85546875, 0.68359375, 0.28708333333333336, 0.4996449361421048)\", \"rgba(0.85546875, 0.68359375, 0.28708333333333336, 0.4954730139933485)\", \"rgba(0.85546875, 0.68359375, 0.28708333333333336, 0.4956202041605472)\", \"rgba(0.85546875, 0.68359375, 0.37494791666666666, 0.4928640722742348)\", \"rgba(0.85546875, 0.68359375, 0.37494791666666666, 0.4975534279035952)\", \"rgba(0.85546875, 0.68359375, 0.37494791666666666, 0.4972217890889832)\", \"rgba(0.85546875, 0.68359375, 0.49748538664912886281249999999996, 0.4974853866491288)\", \"rgba(0.85546875, 0.68359375, 0.5506770833333333, 0.495511901645887)\", \"rgba(0.85546875, 0.68359375, 0.5506770833333333, 0.4990128165247524)\", \"rgba(0.85546875, 0.68359375, 0.6385416666666667, 0.4978728557003398)\", \"rgba(0.85546875, 0.68359375, 0.6385416666666667, 0.4942679919096253)\", \"rgba(0.85546875, 0.68359375, 0.6385416666666667, 0.4928527143861834)\", \"rgba(0.85546875, 0.68359375, 0.8142708333333333, 0.4950973205030424)\", \"rgba(0.85546875, 0.68359375, 0.99, 0.4927209710893998)\", \"rgba(0.85546875, 0.68359375, 0.99, 0.4976913511060561)\", \"rgba(0.85546875, 0.68359375, 0.99, 0.493561529638172)\", \"rgba(0.85546875, 0.68359375, 0.99, 0.4937496075801836)\", \"rgba(0.85546875, 0.68359375, 0.28708333333333336, 0.4981707462755211)\", \"rgba(0.85546875, 0.68359375, 0.28708333333333336, 0.49926903585398397)\", \"rgba(0.85546875, 0.68359375, 0.37494791666666666, 0.49973882714663)\", \"rgba(0.85546875, 0.68359375, 0.5506770833333333, 0.4980331415815664)\", \"rgba(0.85546875, 0.68359375, 0.5506770833333333, 0.4988613008032586)\", \"rgba(0.85546875, 0.68359375, 0.9021354166666666, 0.4996013289400862)\", \"rgba(0.48828125, 0.29296875, 0.376734375, 0.4984702513115562)\", \"rgba(0.48828125, 0.29296875, 0.376734375, 0.4944924864239832)\", \"rgba(0.48828125, 0.29296875, 0.376734375, 0.4992279650984461)\", \"rgba(0.48828125, 0.29296875, 0.49602177389897244875, 0.496021773898972)\", \"rgba(0.48828125, 0.29296875, 0.496136795618585844875, 0.4961367956185858)\", \"rgba(0.48828125, 0.29296875, 0.49385234653365344875, 0.493852346533653)\", \"rgba(0.48828125, 0.29296875, 0.494912825299022844875, 0.4949128252990228)\", \"rgba(0.48828125, 0.29296875, 0.58115625, 0.4957891270434918)\", \"rgba(0.48828125, 0.29296875, 0.58115625, 0.4926338912652714)\", \"rgba(0.48828125, 0.29296875, 0.649296875, 0.4979605640407902)\", \"rgba(0.48828125, 0.29296875, 0.7174375, 0.4949747067544763)\", \"rgba(0.48828125, 0.29296875, 0.7174375, 0.4939726358009177)\", \"rgba(0.48828125, 0.29296875, 0.7174375, 0.4944197952872781)\", \"rgba(0.48828125, 0.29296875, 0.7174375, 0.4942325463404326)\", \"rgba(0.48828125, 0.29296875, 0.785578125, 0.4962198618224191)\", \"rgba(0.48828125, 0.29296875, 0.785578125, 0.4994139312739076)\", \"rgba(0.48828125, 0.29296875, 0.9218593749999999, 0.4949876066659171)\", \"rgba(0.48828125, 0.29296875, 0.9218593749999999, 0.498518118135669)\", \"rgba(0.48828125, 0.29296875, 0.9218593749999999, 0.4931675147016494)\", \"rgba(0.48828125, 0.29296875, 0.99, 0.4965458386501219)\", \"rgba(0.48828125, 0.29296875, 0.376734375, 0.4989696961355306)\", \"rgba(0.48828125, 0.29296875, 0.4975733384981329644875, 0.49757333849813296)\", \"rgba(0.48828125, 0.29296875, 0.785578125, 0.4993232313516582)\", \"rgba(0.48828125, 0.29296875, 0.9218593749999999, 0.4985813594351758)\", \"rgba(0.13671875, 0.39453125, 0.229078125, 0.4977276146163132)\", \"rgba(0.13671875, 0.39453125, 0.229078125, 0.4969991924112584)\", \"rgba(0.13671875, 0.39453125, 0.229078125, 0.4943813707552446)\", \"rgba(0.13671875, 0.39453125, 0.313625, 0.4977893662545171)\", \"rgba(0.13671875, 0.39453125, 0.313625, 0.4940220422454071)\", \"rgba(0.13671875, 0.39453125, 0.313625, 0.4952618025930512)\", \"rgba(0.13671875, 0.39453125, 0.313625, 0.492675398659099)\", \"rgba(0.13671875, 0.39453125, 0.39817187499999995, 0.4935825875528712)\", \"rgba(0.13671875, 0.39453125, 0.39817187499999995, 0.4949183798511963)\", \"rgba(0.13671875, 0.39453125, 0.49320770805206068271875, 0.4932077080520606)\", \"rgba(0.13671875, 0.39453125, 0.4956890000621288271875, 0.495689000062128)\", \"rgba(0.13671875, 0.39453125, 0.49711426855311428271875, 0.4971142685531142)\", \"rgba(0.13671875, 0.39453125, 0.567265625, 0.4926857389581271)\", \"rgba(0.13671875, 0.39453125, 0.567265625, 0.4978546338960661)\", \"rgba(0.13671875, 0.39453125, 0.6518124999999999, 0.4970775386450888)\", \"rgba(0.13671875, 0.39453125, 0.6518124999999999, 0.4995637740815844)\", \"rgba(0.13671875, 0.39453125, 0.7363593749999999, 0.4985470854518566)\", \"rgba(0.13671875, 0.39453125, 0.82090625, 0.4996012766599542)\", \"rgba(0.13671875, 0.39453125, 0.905453125, 0.49845074408461854)\", \"rgba(0.13671875, 0.39453125, 0.99, 0.4985123082550128)\", \"rgba(0.13671875, 0.39453125, 0.99, 0.4932542123356287)\", \"rgba(0.13671875, 0.39453125, 0.49789212611866748271875, 0.4978921261186674)\", \"rgba(0.13671875, 0.39453125, 0.567265625, 0.4985924139893558)\", \"rgba(0.13671875, 0.39453125, 0.6518124999999999, 0.4983515843023018)\", \"rgba(0.13671875, 0.39453125, 0.6518124999999999, 0.4981285658009009)\", \"rgba(0.13671875, 0.39453125, 0.7363593749999999, 0.4980492054496428)\", \"rgba(0.13671875, 0.39453125, 0.82090625, 0.4983052959867786)\", \"rgba(0.13671875, 0.39453125, 0.905453125, 0.4978436163618018)\", \"rgba(0.65234375, 0.68359375, 0.8588125, 0.4957233842870672)\", \"rgba(0.65234375, 0.68359375, 0.7645, 0.4955922721198586)\", \"rgba(0.65234375, 0.68359375, 0.7645, 0.49441080758619504)\", \"rgba(0.65234375, 0.68359375, 0.7645, 0.4971775827505476)\", \"rgba(0.65234375, 0.68359375, 0.7645, 0.4943369319721432)\", \"rgba(0.65234375, 0.68359375, 0.7645, 0.4939855014395152)\", \"rgba(0.65234375, 0.68359375, 0.6701875, 0.4939819405698546)\", \"rgba(0.65234375, 0.68359375, 0.6701875, 0.4979146171647896)\", \"rgba(0.65234375, 0.68359375, 0.6701875, 0.4975689770325448)\", \"rgba(0.65234375, 0.68359375, 0.6701875, 0.4987024232296518)\", \"rgba(0.65234375, 0.68359375, 0.575875, 0.495249895668558)\", \"rgba(0.65234375, 0.68359375, 0.575875, 0.4945435936735664)\", \"rgba(0.65234375, 0.68359375, 0.49419908425187815625, 0.49419908425187)\", \"rgba(0.65234375, 0.68359375, 0.49597546350214644815625, 0.49597546350214644)\", \"rgba(0.65234375, 0.68359375, 0.4943571732229241815625, 0.4943571732229241)\", \"rgba(0.65234375, 0.68359375, 0.4976529905272266815625, 0.4976529905272266)\", \"rgba(0.65234375, 0.68359375, 0.3872500000000001, 0.4948767828777546)\", \"rgba(0.65234375, 0.68359375, 0.3872500000000001, 0.4968213350288644)\", \"rgba(0.65234375, 0.68359375, 0.3872500000000001, 0.4939461969886893)\", \"rgba(0.65234375, 0.68359375, 0.2929375000000001, 0.4983901316208542)\", \"rgba(0.65234375, 0.68359375, 0.19862500000000005, 0.4997395413471956)\", \"rgba(0.65234375, 0.68359375, 0.10431250000000003, 0.4991126481412644)\", \"rgba(0.65234375, 0.68359375, 0.010000000000000009, 0.493930498177595)\"], \"source\": [0, 1, 1, 2, 2, 2, 3, 3, 4, 5, 5, 6, 7, 8, 8, 0, 1, 2, 2, 3, 5, 9, 9, 9, 10, 10, 10, 11, 12, 12, 13, 13, 13, 15, 17, 17, 17, 17, 9, 9, 10, 12, 12, 16, 18, 18, 18, 19, 19, 19, 19, 21, 21, 22, 23, 23, 23, 23, 24, 24, 26, 26, 26, 27, 18, 19, 24, 26, 28, 28, 28, 29, 29, 29, 29, 30, 30, 31, 31, 31, 32, 32, 33, 33, 34, 35, 36, 37, 37, 31, 32, 33, 33, 34, 35, 36, 38, 39, 39, 39, 39, 39, 40, 40, 40, 40, 41, 41, 42, 42, 42, 42, 43, 43, 43, 44, 45, 46, 47], \"target\": [9, 9, 10, 9, 10, 15, 11, 17, 14, 12, 17, 16, 13, 13, 17, 18, 27, 18, 26, 22, 19, 18, 23, 26, 18, 26, 27, 22, 19, 24, 21, 23, 24, 26, 18, 19, 22, 23, 29, 37, 33, 31, 36, 32, 29, 33, 37, 28, 29, 30, 31, 30, 35, 28, 29, 31, 35, 37, 31, 36, 29, 33, 37, 33, 39, 41, 45, 40, 38, 42, 45, 39, 40, 41, 42, 41, 43, 41, 42, 45, 43, 47, 39, 40, 46, 44, 45, 39, 40, 50, 49, 54, 58, 56, 55, 50, 48, 52, 53, 54, 57, 58, 52, 53, 54, 58, 48, 52, 48, 50, 51, 57, 49, 51, 57, 55, 50, 56, 49], \"value\": [0.9984017977565433, 0.9864786215307412, 0.9989696638191268, 0.9968216439911765, 0.991545846992147, 0.9872148103831268, 0.996410034133302, 0.9924380269823432, 0.997215535387518, 0.9964814055290628, 0.9947509524901356, 0.9971612340824856, 0.9894748101952276, 0.9960417815975368, 0.9863506392092998, 0.9990483795023442, 0.9968735896257134, 0.995232850404942, 0.9961939580741952, 0.9955638140367142, 0.9974060107304814, 0.9992898722842096, 0.990946027986697, 0.9912404083210944, 0.9857281445484696, 0.9951068558071904, 0.9944435781779664, 0.9949707732982576, 0.991023803291774, 0.9980256330495048, 0.9957457114006796, 0.9885359838192506, 0.9857054287723668, 0.9901946410060848, 0.9854419421787995, 0.9953827022121122, 0.987123059276344, 0.9874992151603672, 0.9963414925510422, 0.9985380717079679, 0.99947765429326, 0.9960662831631328, 0.9977226016065172, 0.9992026578801724, 0.9969405026231124, 0.9889849728479664, 0.9984559301968922, 0.992043547797944, 0.9922735912371716, 0.987704693067306, 0.9898256505980456, 0.9915782540869836, 0.9852677825305428, 0.9959211280815804, 0.9899494135089526, 0.9879452716018354, 0.9888395905745562, 0.9884650926808652, 0.9924397236448382, 0.9988278625478152, 0.9899752133318342, 0.997036236271338, 0.9863350294032988, 0.9930916773002438, 0.9979393922710612, 0.9951466769962659, 0.9986464627033164, 0.9971627188703516, 0.9954552292326264, 0.9939983848225168, 0.9887627415104892, 0.9955787325090342, 0.9880440844908142, 0.9905236051861024, 0.985350797318198, 0.9871651751057424, 0.9898367597023926, 0.9864154161041212, 0.991378000124256, 0.9942285371062284, 0.9853714779162542, 0.9957092677921322, 0.9941550772901776, 0.9991275481631688, 0.9970941709037132, 0.9992025533199084, 0.9969014881692371, 0.9970246165100256, 0.9865084246712574, 0.9957842522373348, 0.9971848279787116, 0.9967031686046036, 0.9962571316018018, 0.9960984108992856, 0.9966105919735572, 0.9956872327236036, 0.9914467685741344, 0.9911845442397172, 0.9888216151723901, 0.9943551655010952, 0.9886738639442864, 0.9879710028790304, 0.9879638811397092, 0.9958292343295791, 0.9951379540650896, 0.9974048464593036, 0.990499791337116, 0.9890871873471327, 0.98839816850374, 0.9919509270042929, 0.9887143464458482, 0.9953059810544532, 0.9897535657555092, 0.9936426700577288, 0.9878923939773786, 0.9967802632417084, 0.9994790826943912, 0.9982252962825288, 0.98786099635519]}, \"node\": {\"color\": [\"rgba(0.5078125, 0.4140625, 0.6643055555555556, 0.8)\", \"rgba(0.5078125, 0.4140625, 0.5825173611111111, 0.8)\", \"rgba(0.5078125, 0.4140625, 0.5007291666666667, 0.8)\", \"rgba(0.5078125, 0.4140625, 0.4189409722222222, 0.8)\", \"rgba(0.5078125, 0.4140625, 0.33715277777777775, 0.8)\", \"rgba(0.5078125, 0.4140625, 0.25536458333333334, 0.8)\", \"rgba(0.5078125, 0.4140625, 0.17357638888888882, 0.8)\", \"rgba(0.5078125, 0.4140625, 0.09178819444444442, 0.8)\", \"rgba(0.5078125, 0.4140625, 0.010000000000000009, 0.8)\", \"rgba(0.85546875, 0.68359375, 0.28708333333333336, 0.8)\", \"rgba(0.85546875, 0.68359375, 0.37494791666666666, 0.8)\", \"rgba(0.85546875, 0.68359375, 0.46281249999999996, 0.8)\", \"rgba(0.85546875, 0.68359375, 0.5506770833333333, 0.8)\", \"rgba(0.85546875, 0.68359375, 0.6385416666666667, 0.8)\", \"rgba(0.85546875, 0.68359375, 0.7264062499999999, 0.8)\", \"rgba(0.85546875, 0.68359375, 0.8142708333333333, 0.8)\", \"rgba(0.85546875, 0.68359375, 0.9021354166666666, 0.8)\", \"rgba(0.85546875, 0.68359375, 0.99, 0.8)\", \"rgba(0.48828125, 0.29296875, 0.376734375, 0.8)\", \"rgba(0.48828125, 0.29296875, 0.444875, 0.8)\", \"rgba(0.48828125, 0.29296875, 0.513015625, 0.8)\", \"rgba(0.48828125, 0.29296875, 0.58115625, 0.8)\", \"rgba(0.48828125, 0.29296875, 0.649296875, 0.8)\", \"rgba(0.48828125, 0.29296875, 0.7174375, 0.8)\", \"rgba(0.48828125, 0.29296875, 0.785578125, 0.8)\", \"rgba(0.48828125, 0.29296875, 0.85371875, 0.8)\", \"rgba(0.48828125, 0.29296875, 0.9218593749999999, 0.8)\", \"rgba(0.48828125, 0.29296875, 0.99, 0.8)\", \"rgba(0.13671875, 0.39453125, 0.229078125, 0.8)\", \"rgba(0.13671875, 0.39453125, 0.313625, 0.8)\", \"rgba(0.13671875, 0.39453125, 0.39817187499999995, 0.8)\", \"rgba(0.13671875, 0.39453125, 0.48271875, 0.8)\", \"rgba(0.13671875, 0.39453125, 0.567265625, 0.8)\", \"rgba(0.13671875, 0.39453125, 0.6518124999999999, 0.8)\", \"rgba(0.13671875, 0.39453125, 0.7363593749999999, 0.8)\", \"rgba(0.13671875, 0.39453125, 0.82090625, 0.8)\", \"rgba(0.13671875, 0.39453125, 0.905453125, 0.8)\", \"rgba(0.13671875, 0.39453125, 0.99, 0.8)\", \"rgba(0.65234375, 0.68359375, 0.8588125, 0.8)\", \"rgba(0.65234375, 0.68359375, 0.7645, 0.8)\", \"rgba(0.65234375, 0.68359375, 0.6701875, 0.8)\", \"rgba(0.65234375, 0.68359375, 0.575875, 0.8)\", \"rgba(0.65234375, 0.68359375, 0.4815625, 0.8)\", \"rgba(0.65234375, 0.68359375, 0.3872500000000001, 0.8)\", \"rgba(0.65234375, 0.68359375, 0.2929375000000001, 0.8)\", \"rgba(0.65234375, 0.68359375, 0.19862500000000005, 0.8)\", \"rgba(0.65234375, 0.68359375, 0.10431250000000003, 0.8)\", \"rgba(0.65234375, 0.68359375, 0.010000000000000009, 0.8)\", \"rgba(0.64453125, 0.48828125, 0.4909659090909091, 0.8)\", \"rgba(0.64453125, 0.48828125, 0.4428693181818182, 0.8)\", \"rgba(0.64453125, 0.48828125, 0.3947727272727273, 0.8)\", \"rgba(0.64453125, 0.48828125, 0.34667613636363637, 0.8)\", \"rgba(0.64453125, 0.48828125, 0.29857954545454546, 0.8)\", \"rgba(0.64453125, 0.48828125, 0.25048295454545455, 0.8)\", \"rgba(0.64453125, 0.48828125, 0.20238636363636364, 0.8)\", \"rgba(0.64453125, 0.48828125, 0.15428977272727273, 0.8)\", \"rgba(0.64453125, 0.48828125, 0.10619318181818183, 0.8)\", \"rgba(0.64453125, 0.48828125, 0.05809659090909092, 0.8)\", \"rgba(0.64453125, 0.48828125, 0.010000000000000009, 0.8)\"], \"label\": [\"04 - cbr, intelligent_agent, fault_diagnosis, multi_agent_system, engineer\", \"04 - mind, cognitive_science, cognition, emotion, consciousness\", \"04 - web, ds, game, intelligent_agent, negotiation\", \"04 - fault_diagnosis, tabu_search, sat, csp, petri_net\", \"04 - polynomial, horn, disjunction, lattice, truth\", \"04 - temperature, soil, controller, steel, power_system\", \"04 - semantics, unification, verb, linguistic, conceptual_graph\", \"04 - lesion, benign, malignant, pulmonary, sensitivity\", \"04 - N, electron, pulse, seam_pucker, image_analysis\", \"07 - product, game, agent_based, cbr, multi_agent_system\", \"07 - web, social, embodied, mind, philosophy\", \"07 - S, sat, solver, ant, graphplan\", \"07 - load, water, plant, flow, air\", \"07 - protein, lesion, N, fracture, S\", \"07 - tilde, lattice, valued, logic_program, dictionary\", \"07 - game, player, car, movement, opponent\", \"07 - tcm, temporal, ontology, predicate, semantic\", \"07 - gps, A, I, routing, sensor\", \"10 - multi_agent_system, ontology, cbr, e_learning, scheduling\", \"10 - team, controller, scheduling, fault, P\", \"10 - formula, propositional, quantifier, preference, submodular\", \"10 - patient, diagnosis, emotion, paf, S\", \"10 - S, A, error, svr, forecasting\", \"10 - patient, diagnosis, urban, credit, protein\", \"10 - temperature, water, surface, pressure, coal\", \"10 - ontology, web_service, qa, web_directory, document\", \"10 - player, team, poker, internet, captcha\", \"10 - cognition, argument, philosophical, C, turing_test\", \"13 - P, fault, gps, fault_diagnosis, power_system\", \"13 - player, R, control_system, poker, scheduling\", \"13 - vehicle, gps, orientation, camera, captcha\", \"13 - water, solar, soil, reservoir, rock\", \"13 - ontology, semantics, word, semantic_similarity, argument\", \"13 - educational, intelligence, emotion, creativity, teaching\", \"13 - concentration, sic, granule, ph, clutter\", \"13 - cancer, care, breast_cancer, biopsy, mr\", \"13 - steel, corrosion, gas, water, red\", \"13 - cbr, e_learning, ontology, teaching, intelligence\", \"16 - controller, voltage, pi_controller, torque, mppt\", \"16 - ontology, education, mcts, educational, cloud\", \"16 - emotion, education, creative, digital, story\", \"16 - vehicle, traffic, cognitive_radio, channel, routing\", \"16 - forecast, credit, wavelet, electricity_market, fault_diagnosis\", \"16 - deep_learning, sentence, recognition, captcha, N\", \"16 - patient, clinical, medical, disease, care\", \"16 - temperature, soil, forecast, reservoir, oil\", \"16 - temperature, coating, hardness, pile, gep\", \"16 - argument, sat, semantics, ontology, argumentation\", \"18 - P, mppt, memristor, neuromorphic, voltage\", \"18 - sentence, chinese, arabic, I, sentiment_analysis\", \"18 - A, temperature, river, voltage, soil\", \"18 - segmentation, facial, auc, feature_selection, dna\", \"18 - U, mission, autonomous_vehicle, mobile_robot, path_planning\", \"18 - economy, job, bot, social_medium, chatbots\", \"18 - e_learning, radiology, diabetes, radiologist, precision_medicine\", \"18 - ct, auc, tumor, lesion, diabetic_retinopathy\", \"18 - pb, adsorption, mg, ph, temperature\", \"18 - fault_diagnosis, A, bp_neural_network, D, A\", \"18 - consciousness, moral, argument, governance, narrative\"], \"line\": {\"color\": \"black\", \"width\": 0}, \"pad\": 15, \"thickness\": 10}, \"type\": \"sankey\"}],\n",
       "                        {\"autosize\": false, \"font\": {\"size\": 11}, \"height\": 900, \"template\": {\"data\": {\"bar\": [{\"error_x\": {\"color\": \"#2a3f5f\"}, \"error_y\": {\"color\": \"#2a3f5f\"}, \"marker\": {\"line\": {\"color\": \"#E5ECF6\", \"width\": 0.5}}, \"type\": \"bar\"}], \"barpolar\": [{\"marker\": {\"line\": {\"color\": \"#E5ECF6\", \"width\": 0.5}}, \"type\": \"barpolar\"}], \"carpet\": [{\"aaxis\": {\"endlinecolor\": \"#2a3f5f\", \"gridcolor\": \"white\", \"linecolor\": \"white\", \"minorgridcolor\": \"white\", \"startlinecolor\": \"#2a3f5f\"}, \"baxis\": {\"endlinecolor\": \"#2a3f5f\", \"gridcolor\": \"white\", \"linecolor\": \"white\", \"minorgridcolor\": \"white\", \"startlinecolor\": \"#2a3f5f\"}, \"type\": \"carpet\"}], \"choropleth\": [{\"colorbar\": {\"outlinewidth\": 0, \"ticks\": \"\"}, \"type\": \"choropleth\"}], \"contour\": [{\"colorbar\": {\"outlinewidth\": 0, \"ticks\": \"\"}, \"colorscale\": [[0.0, \"#0d0887\"], [0.1111111111111111, \"#46039f\"], [0.2222222222222222, \"#7201a8\"], [0.3333333333333333, \"#9c179e\"], [0.4444444444444444, \"#bd3786\"], [0.5555555555555556, \"#d8576b\"], [0.6666666666666666, \"#ed7953\"], [0.7777777777777778, \"#fb9f3a\"], [0.8888888888888888, \"#fdca26\"], [1.0, \"#f0f921\"]], \"type\": \"contour\"}], \"contourcarpet\": [{\"colorbar\": {\"outlinewidth\": 0, \"ticks\": \"\"}, \"type\": \"contourcarpet\"}], \"heatmap\": [{\"colorbar\": {\"outlinewidth\": 0, \"ticks\": \"\"}, \"colorscale\": [[0.0, \"#0d0887\"], [0.1111111111111111, \"#46039f\"], [0.2222222222222222, \"#7201a8\"], [0.3333333333333333, \"#9c179e\"], [0.4444444444444444, \"#bd3786\"], [0.5555555555555556, \"#d8576b\"], [0.6666666666666666, \"#ed7953\"], [0.7777777777777778, \"#fb9f3a\"], [0.8888888888888888, \"#fdca26\"], [1.0, \"#f0f921\"]], \"type\": \"heatmap\"}], \"heatmapgl\": [{\"colorbar\": {\"outlinewidth\": 0, \"ticks\": \"\"}, \"colorscale\": [[0.0, \"#0d0887\"], [0.1111111111111111, \"#46039f\"], [0.2222222222222222, \"#7201a8\"], [0.3333333333333333, \"#9c179e\"], [0.4444444444444444, \"#bd3786\"], [0.5555555555555556, \"#d8576b\"], [0.6666666666666666, \"#ed7953\"], [0.7777777777777778, \"#fb9f3a\"], [0.8888888888888888, \"#fdca26\"], [1.0, \"#f0f921\"]], \"type\": \"heatmapgl\"}], \"histogram\": [{\"marker\": {\"colorbar\": {\"outlinewidth\": 0, \"ticks\": \"\"}}, \"type\": \"histogram\"}], \"histogram2d\": [{\"colorbar\": {\"outlinewidth\": 0, \"ticks\": \"\"}, \"colorscale\": [[0.0, \"#0d0887\"], [0.1111111111111111, \"#46039f\"], [0.2222222222222222, \"#7201a8\"], [0.3333333333333333, \"#9c179e\"], [0.4444444444444444, \"#bd3786\"], [0.5555555555555556, \"#d8576b\"], [0.6666666666666666, \"#ed7953\"], [0.7777777777777778, \"#fb9f3a\"], [0.8888888888888888, \"#fdca26\"], [1.0, \"#f0f921\"]], \"type\": \"histogram2d\"}], \"histogram2dcontour\": [{\"colorbar\": {\"outlinewidth\": 0, \"ticks\": \"\"}, \"colorscale\": [[0.0, \"#0d0887\"], [0.1111111111111111, \"#46039f\"], [0.2222222222222222, \"#7201a8\"], [0.3333333333333333, \"#9c179e\"], [0.4444444444444444, \"#bd3786\"], [0.5555555555555556, \"#d8576b\"], [0.6666666666666666, \"#ed7953\"], [0.7777777777777778, \"#fb9f3a\"], [0.8888888888888888, \"#fdca26\"], [1.0, \"#f0f921\"]], \"type\": \"histogram2dcontour\"}], \"mesh3d\": [{\"colorbar\": {\"outlinewidth\": 0, \"ticks\": \"\"}, \"type\": \"mesh3d\"}], \"parcoords\": [{\"line\": {\"colorbar\": {\"outlinewidth\": 0, \"ticks\": \"\"}}, \"type\": \"parcoords\"}], \"pie\": [{\"automargin\": true, \"type\": \"pie\"}], \"scatter\": [{\"marker\": {\"colorbar\": {\"outlinewidth\": 0, \"ticks\": \"\"}}, \"type\": \"scatter\"}], \"scatter3d\": [{\"line\": {\"colorbar\": {\"outlinewidth\": 0, \"ticks\": \"\"}}, \"marker\": {\"colorbar\": {\"outlinewidth\": 0, \"ticks\": \"\"}}, \"type\": \"scatter3d\"}], \"scattercarpet\": [{\"marker\": {\"colorbar\": {\"outlinewidth\": 0, \"ticks\": \"\"}}, \"type\": \"scattercarpet\"}], \"scattergeo\": [{\"marker\": {\"colorbar\": {\"outlinewidth\": 0, \"ticks\": \"\"}}, \"type\": \"scattergeo\"}], \"scattergl\": [{\"marker\": {\"colorbar\": {\"outlinewidth\": 0, \"ticks\": \"\"}}, \"type\": \"scattergl\"}], \"scattermapbox\": [{\"marker\": {\"colorbar\": {\"outlinewidth\": 0, \"ticks\": \"\"}}, \"type\": \"scattermapbox\"}], \"scatterpolar\": [{\"marker\": {\"colorbar\": {\"outlinewidth\": 0, \"ticks\": \"\"}}, \"type\": \"scatterpolar\"}], \"scatterpolargl\": [{\"marker\": {\"colorbar\": {\"outlinewidth\": 0, \"ticks\": \"\"}}, \"type\": \"scatterpolargl\"}], \"scatterternary\": [{\"marker\": {\"colorbar\": {\"outlinewidth\": 0, \"ticks\": \"\"}}, \"type\": \"scatterternary\"}], \"surface\": [{\"colorbar\": {\"outlinewidth\": 0, \"ticks\": \"\"}, \"colorscale\": [[0.0, \"#0d0887\"], [0.1111111111111111, \"#46039f\"], [0.2222222222222222, \"#7201a8\"], [0.3333333333333333, \"#9c179e\"], [0.4444444444444444, \"#bd3786\"], [0.5555555555555556, \"#d8576b\"], [0.6666666666666666, \"#ed7953\"], [0.7777777777777778, \"#fb9f3a\"], [0.8888888888888888, \"#fdca26\"], [1.0, \"#f0f921\"]], \"type\": \"surface\"}], \"table\": [{\"cells\": {\"fill\": {\"color\": \"#EBF0F8\"}, \"line\": {\"color\": \"white\"}}, \"header\": {\"fill\": {\"color\": \"#C8D4E3\"}, \"line\": {\"color\": \"white\"}}, \"type\": \"table\"}]}, \"layout\": {\"annotationdefaults\": {\"arrowcolor\": \"#2a3f5f\", \"arrowhead\": 0, \"arrowwidth\": 1}, \"coloraxis\": {\"colorbar\": {\"outlinewidth\": 0, \"ticks\": \"\"}}, \"colorscale\": {\"diverging\": [[0, \"#8e0152\"], [0.1, \"#c51b7d\"], [0.2, \"#de77ae\"], [0.3, \"#f1b6da\"], [0.4, \"#fde0ef\"], [0.5, \"#f7f7f7\"], [0.6, \"#e6f5d0\"], [0.7, \"#b8e186\"], [0.8, \"#7fbc41\"], [0.9, \"#4d9221\"], [1, \"#276419\"]], \"sequential\": [[0.0, \"#0d0887\"], [0.1111111111111111, \"#46039f\"], [0.2222222222222222, \"#7201a8\"], [0.3333333333333333, \"#9c179e\"], [0.4444444444444444, \"#bd3786\"], [0.5555555555555556, \"#d8576b\"], [0.6666666666666666, \"#ed7953\"], [0.7777777777777778, \"#fb9f3a\"], [0.8888888888888888, \"#fdca26\"], [1.0, \"#f0f921\"]], \"sequentialminus\": [[0.0, \"#0d0887\"], [0.1111111111111111, \"#46039f\"], [0.2222222222222222, \"#7201a8\"], [0.3333333333333333, \"#9c179e\"], [0.4444444444444444, \"#bd3786\"], [0.5555555555555556, \"#d8576b\"], [0.6666666666666666, \"#ed7953\"], [0.7777777777777778, \"#fb9f3a\"], [0.8888888888888888, \"#fdca26\"], [1.0, \"#f0f921\"]]}, \"colorway\": [\"#636efa\", \"#EF553B\", \"#00cc96\", \"#ab63fa\", \"#FFA15A\", \"#19d3f3\", \"#FF6692\", \"#B6E880\", \"#FF97FF\", \"#FECB52\"], \"font\": {\"color\": \"#2a3f5f\"}, \"geo\": {\"bgcolor\": \"white\", \"lakecolor\": \"white\", \"landcolor\": \"#E5ECF6\", \"showlakes\": true, \"showland\": true, \"subunitcolor\": \"white\"}, \"hoverlabel\": {\"align\": \"left\"}, \"hovermode\": \"closest\", \"mapbox\": {\"style\": \"light\"}, \"paper_bgcolor\": \"white\", \"plot_bgcolor\": \"#E5ECF6\", \"polar\": {\"angularaxis\": {\"gridcolor\": \"white\", \"linecolor\": \"white\", \"ticks\": \"\"}, \"bgcolor\": \"#E5ECF6\", \"radialaxis\": {\"gridcolor\": \"white\", \"linecolor\": \"white\", \"ticks\": \"\"}}, \"scene\": {\"xaxis\": {\"backgroundcolor\": \"#E5ECF6\", \"gridcolor\": \"white\", \"gridwidth\": 2, \"linecolor\": \"white\", \"showbackground\": true, \"ticks\": \"\", \"zerolinecolor\": \"white\"}, \"yaxis\": {\"backgroundcolor\": \"#E5ECF6\", \"gridcolor\": \"white\", \"gridwidth\": 2, \"linecolor\": \"white\", \"showbackground\": true, \"ticks\": \"\", \"zerolinecolor\": \"white\"}, \"zaxis\": {\"backgroundcolor\": \"#E5ECF6\", \"gridcolor\": \"white\", \"gridwidth\": 2, \"linecolor\": \"white\", \"showbackground\": true, \"ticks\": \"\", \"zerolinecolor\": \"white\"}}, \"shapedefaults\": {\"line\": {\"color\": \"#2a3f5f\"}}, \"ternary\": {\"aaxis\": {\"gridcolor\": \"white\", \"linecolor\": \"white\", \"ticks\": \"\"}, \"baxis\": {\"gridcolor\": \"white\", \"linecolor\": \"white\", \"ticks\": \"\"}, \"bgcolor\": \"#E5ECF6\", \"caxis\": {\"gridcolor\": \"white\", \"linecolor\": \"white\", \"ticks\": \"\"}}, \"title\": {\"x\": 0.05}, \"xaxis\": {\"automargin\": true, \"gridcolor\": \"white\", \"linecolor\": \"white\", \"ticks\": \"\", \"title\": {\"standoff\": 15}, \"zerolinecolor\": \"white\", \"zerolinewidth\": 2}, \"yaxis\": {\"automargin\": true, \"gridcolor\": \"white\", \"linecolor\": \"white\", \"ticks\": \"\", \"title\": {\"standoff\": 15}, \"zerolinecolor\": \"white\", \"zerolinewidth\": 2}}}, \"title\": {\"text\": \"H-Clustering -Abstracts+Titles - Separated Development of fields: Docs 1990-2004 to 2017-2018 : Enhanced number of clusters  - pow 1 - thresh 0.985\"}, \"width\": 1500},\n",
       "                        {\"responsive\": true}\n",
       "                    ).then(function(){\n",
       "                            \n",
       "var gd = document.getElementById('5a4f9260-7cd2-4021-bf6f-70136a12c92e');\n",
       "var x = new MutationObserver(function (mutations, observer) {{\n",
       "        var display = window.getComputedStyle(gd).display;\n",
       "        if (!display || display === 'none') {{\n",
       "            console.log([gd, 'removed!']);\n",
       "            Plotly.purge(gd);\n",
       "            observer.disconnect();\n",
       "        }}\n",
       "}});\n",
       "\n",
       "// Listen for the removal of the full notebook cells\n",
       "var notebookContainer = gd.closest('#notebook-container');\n",
       "if (notebookContainer) {{\n",
       "    x.observe(notebookContainer, {childList: true});\n",
       "}}\n",
       "\n",
       "// Listen for the clearing of the current output cell\n",
       "var outputEl = gd.closest('.output');\n",
       "if (outputEl) {{\n",
       "    x.observe(outputEl, {childList: true});\n",
       "}}\n",
       "\n",
       "                        })\n",
       "                };\n",
       "                });\n",
       "            </script>\n",
       "        </div>"
      ]
     },
     "metadata": {},
     "output_type": "display_data"
    }
   ],
   "source": [
    "fig = go.Figure(data=[go.Sankey(\n",
    "    node = dict(\n",
    "      pad = 15,\n",
    "      thickness = 10,\n",
    "      line = dict(color = \"black\", width = 0),\n",
    "      label = labels_all_new,\n",
    "      color = colors_all #\"blue\"\n",
    "    ),\n",
    "    link = dict(\n",
    "      source = similarity_source,# 1, 0, 2, 3, 3], # indices correspond to labels, eg A1, A2, A2, B1, ...\n",
    "      target = similarity_target,# 3, 3, 4, 4, 5],\n",
    "      value = similarity_value,# 4, 2, 8, 4, 2],\n",
    "      color = final_colors_links #\"grey\"\n",
    "  ))])\n",
    "\n",
    "fig.update_layout(title_text=\"H-Clustering -\"+data_type+\" Development of fields: Docs 1990-2004 to \"+last_period_start+\"-2018 : Enhanced number of clusters  - pow \"+str(power)+\" - thresh \"+str(link_strength_threshold), font_size=11)\n",
    "fig.update_layout(\n",
    "    autosize=False,\n",
    "    width=1500,\n",
    "    height=900)\n",
    "fig.show()"
   ]
  },
  {
   "cell_type": "code",
   "execution_count": null,
   "metadata": {},
   "outputs": [],
   "source": []
  },
  {
   "cell_type": "code",
   "execution_count": null,
   "metadata": {},
   "outputs": [],
   "source": []
  }
 ],
 "metadata": {
  "kernelspec": {
   "display_name": "Python 3",
   "language": "python",
   "name": "python3"
  },
  "language_info": {
   "codemirror_mode": {
    "name": "ipython",
    "version": 3
   },
   "file_extension": ".py",
   "mimetype": "text/x-python",
   "name": "python",
   "nbconvert_exporter": "python",
   "pygments_lexer": "ipython3",
   "version": "3.7.7"
  }
 },
 "nbformat": 4,
 "nbformat_minor": 2
}
