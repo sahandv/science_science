{
 "cells": [
  {
   "cell_type": "markdown",
   "metadata": {},
   "source": [
    "# Sankey Diagram by Similarity Scores\n"
   ]
  },
  {
   "cell_type": "markdown",
   "metadata": {},
   "source": [
    "### Import Libs"
   ]
  },
  {
   "cell_type": "code",
   "execution_count": 1,
   "metadata": {},
   "outputs": [],
   "source": [
    "import plotly.graph_objects as go\n",
    "from skimage import io\n",
    "import urllib, json\n",
    "import pandas as pd\n",
    "import numpy as np\n",
    "from sciosci.assets import advanced_assets as aa\n",
    "from tqdm import tqdm\n",
    "import re"
   ]
  },
  {
   "cell_type": "markdown",
   "metadata": {},
   "source": [
    "### Initialize"
   ]
  },
  {
   "cell_type": "code",
   "execution_count": 38,
   "metadata": {},
   "outputs": [],
   "source": [
    "random_link_colors = False\n",
    "multi_year_similarity = True\n",
    "\n",
    "comment = ''\n",
    "clustering_method = 'agglomerative ward '\n",
    "link_strength_threshold = 0.50\n",
    "link_strength_threshold_2 = 0.50\n",
    "power = 1 # value power for increasing the differences "
   ]
  },
  {
   "cell_type": "markdown",
   "metadata": {},
   "source": [
    "#### Separated years\n",
    "\n",
    "Data N/A"
   ]
  },
  {
   "cell_type": "code",
   "execution_count": null,
   "metadata": {},
   "outputs": [],
   "source": [
    "last_period_start = \"2017\"\n",
    "data_type = \"Author Keywords - Separated\"\n",
    "year_periods_topics = [\"7\",\"9\",\"9\",\"9\",\"9\",\"9\"]  \n",
    "# Sorted periods' topic numbers from new to old from left to right\n",
    "year_periods = [\"1990-2004\",\"2005-2007\",\"2008-2010\",\"2011-2013\",\"2014-2016\",\"2017-2018\"] \n",
    "# Sorted year periods from new to old from left to right\n",
    "data_directory = 'data/clusters/FastText/15D/10 dim/'"
   ]
  },
  {
   "cell_type": "markdown",
   "metadata": {},
   "source": [
    "#### cumulative years"
   ]
  },
  {
   "cell_type": "code",
   "execution_count": 3,
   "metadata": {},
   "outputs": [],
   "source": [
    "last_period_start = \"1990\"\n",
    "data_type = \"Author Keywords - Cumulative\"\n",
    "year_periods_topics = [\"7\",\"8\",\"10\",\"10\",\"10\",\"11\"]  \n",
    "# Sorted periods' topic numbers from new to old from left to right\n",
    "year_periods = [\"1990-2004\",\"1990-2007\",\"1990-2010\",\"1990-2013\",\"1990-2016\",\"1990-2018\"] \n",
    "# Sorted year periods from new to old from left to right\n",
    "data_directory = 'data/clusters/FastText/15D/10 dim/'"
   ]
  },
  {
   "cell_type": "markdown",
   "metadata": {},
   "source": [
    "#### cumulative documents"
   ]
  },
  {
   "cell_type": "code",
   "execution_count": 56,
   "metadata": {},
   "outputs": [],
   "source": [
    "last_period_start = \"1990\"\n",
    "label_source = 'topics/'#authkeyword/'\n",
    "data_type = \"Abstracts+Titles - Cumulative\"\n",
    "year_periods_topics = [\"9\",\"10\",\"11\",\"14\",\"15\",\"15\"]  \n",
    "# Sorted periods' topic numbers from new to old from left to right\n",
    "year_periods = [\"1990-2004\",\"1990-2007\",\"1990-2010\",\"1990-2013\",\"1990-2016\",\"1990-2018\"] \n",
    "# Sorted year periods from new to old from left to right\n",
    "data_directory = '/home/sahand/GoogleDrive/Data/FastText doc clusters - SIP/50D/'\n",
    "#'data/clusters/FastText/50D/'"
   ]
  },
  {
   "cell_type": "markdown",
   "metadata": {},
   "source": [
    "### Read & Prepare Data"
   ]
  },
  {
   "cell_type": "markdown",
   "metadata": {},
   "source": [
    "Generate nodes and links"
   ]
  },
  {
   "cell_type": "code",
   "execution_count": 18,
   "metadata": {},
   "outputs": [
    {
     "name": "stdout",
     "output_type": "stream",
     "text": [
      "Node colors are:\n"
     ]
    },
    {
     "data": {
      "image/png": "[encoded data removed]",
      "text/plain": [
       "<Figure size 432x288 with 1 Axes>"
      ]
     },
     "metadata": {
      "needs_background": "light"
     },
     "output_type": "display_data"
    }
   ],
   "source": [
    "node_colors_palette = aa.color_palette_maker(len(year_periods_topics),alpha=0.8)\n",
    "node_colors = ['rgba('+str(x).replace('[','').replace(']','')+')' for x in node_colors_palette]\n",
    "link_colors = [x[:-4]+'0.4)' for x in node_colors]\n",
    "node_colors_palette = np.array([node_colors_palette])\n",
    "print(\"Node colors are:\")\n",
    "io.imshow(np.delete(node_colors_palette,3,1))\n",
    "labels_numeric_dict = {per:[] for per in year_periods}\n"
   ]
  },
  {
   "cell_type": "code",
   "execution_count": 19,
   "metadata": {},
   "outputs": [],
   "source": [
    "def color_alternator(rgba_colors,up_thresh = 0.8, down_thresh = 0.2, color_part = 2):\n",
    "    new_colors = []\n",
    "    color_s = rgba_colors[0].split(', ')\n",
    "    cell = float(rgba_colors[0].split(', ')[color_part])\n",
    "    if cell > 0.5:\n",
    "        portion = (cell-down_thresh)/len(rgba_colors)\n",
    "    else:\n",
    "        portion = (up_thresh-cell)/len(rgba_colors)\n",
    "\n",
    "    for idx,color in enumerate(topic_colors):\n",
    "        if cell > 0.5:\n",
    "            new_cell = cell-(idx+1)*portion\n",
    "        else:\n",
    "            new_cell = cell+(idx+1)*portion\n",
    "\n",
    "        color_s[color_part] = str(new_cell)\n",
    "        new_colors.append(', '.join(color_s))\n",
    "    return new_colors"
   ]
  },
  {
   "cell_type": "markdown",
   "metadata": {},
   "source": [
    "### Process"
   ]
  },
  {
   "cell_type": "markdown",
   "metadata": {},
   "source": [
    "#### Multi year similarity"
   ]
  },
  {
   "cell_type": "code",
   "execution_count": 20,
   "metadata": {},
   "outputs": [
    {
     "data": {
      "text/plain": [
       "[[0, 1, 2, 3, 4, 5, 6, 7, 8],\n",
       " [9, 10, 11, 12, 13, 14, 15, 16, 17, 18],\n",
       " [19, 20, 21, 22, 23, 24, 25, 26, 27, 28, 29],\n",
       " [30, 31, 32, 33, 34, 35, 36, 37, 38, 39, 40, 41, 42, 43],\n",
       " [44, 45, 46, 47, 48, 49, 50, 51, 52, 53, 54, 55, 56, 57, 58],\n",
       " [59, 60, 61, 62, 63, 64, 65, 66, 67, 68, 69, 70, 71, 72, 73]]"
      ]
     },
     "execution_count": 20,
     "metadata": {},
     "output_type": "execute_result"
    }
   ],
   "source": [
    "# Give unique ID to all clusters\n",
    "total = 0\n",
    "cluster_ids = []\n",
    "for period_index, period in enumerate(year_periods):\n",
    "    cluster_ids.append(list(range(total,int(year_periods_topics[period_index])+total)))\n",
    "    total = total + int(year_periods_topics[period_index])\n",
    "cluster_ids"
   ]
  },
  {
   "cell_type": "code",
   "execution_count": 58,
   "metadata": {},
   "outputs": [
    {
     "name": "stderr",
     "output_type": "stream",
     "text": [
      "100%|██████████| 9/9 [00:00<00:00, 3040.82it/s]\n",
      "100%|██████████| 10/10 [00:00<00:00, 2403.75it/s]\n",
      "100%|██████████| 11/11 [00:00<00:00, 2811.20it/s]\n",
      "100%|██████████| 14/14 [00:00<00:00, 2520.83it/s]\n",
      "100%|██████████| 15/15 [00:00<00:00, 2612.41it/s]\n",
      "100%|██████████| 15/15 [00:00<00:00, 2973.00it/s]"
     ]
    },
    {
     "name": "stdout",
     "output_type": "stream",
     "text": [
      "1990-2004 9 0\n",
      "1990-2007 10 9\n",
      "1990-2010 11 19\n",
      "1990-2013 14 30\n",
      "1990-2016 15 44\n",
      "1990-2018 15 59\n"
     ]
    },
    {
     "name": "stderr",
     "output_type": "stream",
     "text": [
      "\n"
     ]
    }
   ],
   "source": [
    "labels_all = []\n",
    "labels_all_numeric = []\n",
    "labels_all_numeric_sequential = []\n",
    "colors_all = []\n",
    "colors_all_links = []\n",
    "\n",
    "similarity_source = []\n",
    "similarity_target = []\n",
    "similarity_value = []\n",
    "\n",
    "if multi_year_similarity is True:\n",
    "    for period_index, period in enumerate(year_periods):\n",
    "        print(period,year_periods_topics[period_index],cluster_ids[period_index][0])\n",
    "\n",
    "        terms = pd.read_csv(data_directory+'term_cluster-tables/'+label_source+clustering_method+period+\" \"+year_periods_topics[period_index]+\" - term_cluster.csv\").fillna('')\n",
    "        scores = pd.read_csv(data_directory+'term_cluster-tables/'+label_source+clustering_method+period+\" \"+year_periods_topics[period_index]+\" - term_score.csv\").fillna(0)\n",
    "    \n",
    "        \n",
    "        labels_this_period = aa.topic_label_maker(terms,scores,ratio=2.5,\n",
    "                                                  prefix=period.split('-')[1][-2:]+' - ',limit=5)\n",
    "        labels_all = labels_all + labels_this_period\n",
    "        labels_all_numeric = labels_all_numeric + [str(x) for x in list(range(0,len(labels_this_period)))]\n",
    "        \n",
    "        topic_colors = [node_colors[period_index]] * len(labels_this_period)\n",
    "        topic_colors = color_alternator(topic_colors,up_thresh = 0.99, down_thresh = 0.01, color_part = 2)\n",
    "        colors_all = colors_all + topic_colors\n",
    "        \n",
    "        topic_link_colors = [link_colors[period_index]] * len(labels_this_period)\n",
    "        topic_link_colors = color_alternator(topic_link_colors,up_thresh = 0.99, down_thresh = 0.01, color_part = 2)\n",
    "        colors_all_links = colors_all_links + topic_link_colors\n",
    "        \n",
    "    #    similarity_scores = None\n",
    "        if period_index < len(year_periods) - 1:\n",
    "            similarity_scores = pd.read_csv(data_directory+'similarity/'+clustering_method+year_periods[period_index]+\"_\"+year_periods_topics[period_index]+\"-\"+year_periods[period_index+1]+\"_\"+year_periods_topics[period_index+1]+\".csv\")\n",
    "    #        terms_previous_period = pd.read_csv(data_directory+\"cumulative/\"+year_periods[period_index+1]+\"_\"+year_periods_topics[period_index+1]+\"/top_99-percentile_keywords_terms-spaced.csv\")\n",
    "\n",
    "            # flatten the similarity scores\n",
    "            for period_cluster_no,row in similarity_scores.iterrows(): # repeat to n_clusters of A\n",
    "\n",
    "                elem_num = len(row.values.tolist()) # number of columns in similarity file\n",
    "                for idx in range(1,elem_num,2):     # repeat to n_clusters of B\n",
    "                    if row.values.tolist()[idx+1]**power > link_strength_threshold:\n",
    "                        similarity_source.append(int(row.values.tolist()[0]) + cluster_ids[period_index][0])\n",
    "                        similarity_target.append(int(row.values.tolist()[idx]) + cluster_ids[period_index+1][0])\n",
    "                        similarity_value.append(row.values.tolist()[idx+1]**power)\n",
    "                \n",
    "        if period_index < len(year_periods) - 2:\n",
    "            try:\n",
    "                similarity_scores = pd.read_csv(data_directory+'similarity/'+clustering_method+year_periods[period_index]+\"_\"+year_periods_topics[period_index]+\"-\"+year_periods[period_index+2]+\"_\"+year_periods_topics[period_index+2]+\".csv\")\n",
    "    #        terms_previous_period = pd.read_csv(data_directory+\"cumulative/\"+year_periods[period_index+1]+\"_\"+year_periods_topics[period_index+1]+\"/top_99-percentile_keywords_terms-spaced.csv\")\n",
    "            except:\n",
    "                print(\"\\nThere is no similarity record at \",data_directory+'similarity/'+clustering_method+year_periods[period_index]+\"_\"+year_periods_topics[period_index]+\"-\"+year_periods[period_index+2]+\"_\"+year_periods_topics[period_index+2]+\".csv\")\n",
    "                similarity_scores = None\n",
    "                continue\n",
    "                \n",
    "            for period_cluster_no,row in similarity_scores.iterrows(): # repeat to n_clusters of A\n",
    "\n",
    "                elem_num = len(row.values.tolist()) # number of columns in similarity file\n",
    "                for idx in range(1,elem_num,2):     # repeat to n_clusters of B\n",
    "                    if row.values.tolist()[idx+1]**power > link_strength_threshold_2:\n",
    "                        similarity_source.append(int(row.values.tolist()[0]) + cluster_ids[period_index][0])\n",
    "                        similarity_target.append(int(row.values.tolist()[idx]) + cluster_ids[period_index+2][0])\n",
    "                        similarity_value.append(row.values.tolist()[idx+1]**power)\n",
    "                \n",
    "                \n",
    "    labels_all_numeric_sequential = [str(x) for x in list(range(0,len(labels_all_numeric)))]"
   ]
  },
  {
   "cell_type": "markdown",
   "metadata": {},
   "source": [
    "### Draw"
   ]
  },
  {
   "cell_type": "markdown",
   "metadata": {},
   "source": [
    "#### Prepare links"
   ]
  },
  {
   "cell_type": "markdown",
   "metadata": {},
   "source": [
    "* For clustered colors:"
   ]
  },
  {
   "cell_type": "code",
   "execution_count": 59,
   "metadata": {},
   "outputs": [
    {
     "name": "stderr",
     "output_type": "stream",
     "text": [
      "100%|██████████| 228/228 [00:00<00:00, 312925.82it/s]\n"
     ]
    }
   ],
   "source": [
    "if random_link_colors is False:\n",
    "    final_colors_links = [colors_all_links[x] for x in similarity_source] # in similarity_source]\n",
    "    final_color_links_varied = []\n",
    "    for i,value in tqdm(enumerate(similarity_value),total=len(similarity_value)):\n",
    "        final_color_links_varied.append(final_colors_links[i].replace(', 0.4',', '+str(value/2)))\n",
    "#         print(final_color_links_varied[i])\n",
    "    final_colors_links = final_color_links_varied"
   ]
  },
  {
   "cell_type": "markdown",
   "metadata": {},
   "source": [
    "* For random colors:"
   ]
  },
  {
   "cell_type": "code",
   "execution_count": 60,
   "metadata": {},
   "outputs": [],
   "source": [
    "if random_link_colors is True:\n",
    "    final_colors_links = ['rgba('+str(x).replace('[','').replace(']','')+')' for x in aa.color_palette_maker(len(similarity_target),alpha=0.3)]"
   ]
  },
  {
   "cell_type": "markdown",
   "metadata": {},
   "source": [
    "#### Prepare labels"
   ]
  },
  {
   "cell_type": "code",
   "execution_count": 61,
   "metadata": {},
   "outputs": [
    {
     "name": "stderr",
     "output_type": "stream",
     "text": [
      "100%|██████████| 74/74 [00:00<00:00, 114362.01it/s]\n"
     ]
    }
   ],
   "source": [
    "labels_all_new = []\n",
    "for label in tqdm(labels_all):\n",
    "    label_to_split = label.split('- ')\n",
    "    label_split = label_to_split[1].split(', ')\n",
    "    label_split_new = []\n",
    "    for split in label_split:\n",
    "        if len(split)>20:\n",
    "            label_split_new.append(aa.abbreviator(split))\n",
    "        else:\n",
    "            label_split_new.append(split)\n",
    "    labels_all_new.append(label_to_split[0]+'- '+', '.join(label_split_new))"
   ]
  },
  {
   "cell_type": "markdown",
   "metadata": {},
   "source": [
    "#### Draw"
   ]
  },
  {
   "cell_type": "code",
   "execution_count": 62,
   "metadata": {},
   "outputs": [
    {
     "data": {
      "application/vnd.plotly.v1+json": {
       "config": {
        "plotlyServerURL": "https://plot.ly"
       },
       "data": [
        {
         "link": {
          "color": [
           "rgba(0.34765625, 0.73828125, 0.5809722222222222, 0.3159219188507102)",
           "rgba(0.34765625, 0.73828125, 0.5809722222222222, 0.37238962944606574)",
           "rgba(0.34765625, 0.73828125, 0.5096006944444444, 0.4461729254303226)",
           "rgba(0.34765625, 0.73828125, 0.5096006944444444, 0.2519208796751899)",
           "rgba(0.34765625, 0.73828125, 0.35828861213477523822916666666667, 0.3582886121347752)",
           "rgba(0.34765625, 0.73828125, 0.31460054003658843822916666666667, 0.3146005400365884)",
           "rgba(0.34765625, 0.73828125, 0.3668576388888889, 0.28580769982759757)",
           "rgba(0.34765625, 0.73828125, 0.3668576388888889, 0.35919550576156456)",
           "rgba(0.34765625, 0.73828125, 0.3668576388888889, 0.2711935619226229)",
           "rgba(0.34765625, 0.73828125, 0.3668576388888889, 0.2566689062731969)",
           "rgba(0.34765625, 0.73828125, 0.2954861111111111, 0.2522509740542041)",
           "rgba(0.34765625, 0.73828125, 0.2954861111111111, 0.34968889942418824)",
           "rgba(0.34765625, 0.73828125, 0.22411458333333334, 0.26469803970811223)",
           "rgba(0.34765625, 0.73828125, 0.22411458333333334, 0.3799723715990725)",
           "rgba(0.34765625, 0.73828125, 0.15274305555555556, 0.268671596376648)",
           "rgba(0.34765625, 0.73828125, 0.15274305555555556, 0.4240713236007512)",
           "rgba(0.34765625, 0.73828125, 0.08137152777777779, 0.4215283147758498)",
           "rgba(0.34765625, 0.73828125, 0.08137152777777779, 0.26701316065389435)",
           "rgba(0.34765625, 0.73828125, 0.010000000000000009, 0.2748077200319416)",
           "rgba(0.34765625, 0.73828125, 0.5809722222222222, 0.39971266874066314)",
           "rgba(0.34765625, 0.73828125, 0.5809722222222222, 0.336730560537353)",
           "rgba(0.34765625, 0.73828125, 0.5096006944444444, 0.28276671584870633)",
           "rgba(0.34765625, 0.73828125, 0.5096006944444444, 0.34580865458313204)",
           "rgba(0.34765625, 0.73828125, 0.368851850442668053822916666666667, 0.36885185044266805)",
           "rgba(0.34765625, 0.73828125, 0.273536191411253822916666666667, 0.27353619141125)",
           "rgba(0.34765625, 0.73828125, 0.3668576388888889, 0.3184824841158309)",
           "rgba(0.34765625, 0.73828125, 0.3668576388888889, 0.2504475978021806)",
           "rgba(0.34765625, 0.73828125, 0.3668576388888889, 0.3138878084212989)",
           "rgba(0.34765625, 0.73828125, 0.3668576388888889, 0.30216230716775405)",
           "rgba(0.34765625, 0.73828125, 0.2954861111111111, 0.28917402247378604)",
           "rgba(0.34765625, 0.73828125, 0.2954861111111111, 0.3218114920264144)",
           "rgba(0.34765625, 0.73828125, 0.22411458333333334, 0.34494690099202774)",
           "rgba(0.34765625, 0.73828125, 0.22411458333333334, 0.3660453219486723)",
           "rgba(0.34765625, 0.73828125, 0.15274305555555556, 0.39906602569372474)",
           "rgba(0.34765625, 0.73828125, 0.15274305555555556, 0.4065144549597727)",
           "rgba(0.34765625, 0.73828125, 0.08137152777777779, 0.26506788269260567)",
           "rgba(0.34765625, 0.73828125, 0.08137152777777779, 0.3815229128038473)",
           "rgba(0.34765625, 0.73828125, 0.08137152777777779, 0.2528755792663014)",
           "rgba(0.34765625, 0.73828125, 0.010000000000000009, 0.27906092659206544)",
           "rgba(0.796875, 0.29296875, 0.3931004652695946650625, 0.3931004652695946)",
           "rgba(0.796875, 0.29296875, 0.3054669904826988650625, 0.3054669904826988)",
           "rgba(0.796875, 0.29296875, 0.4345167450929618145, 0.4345167450929618)",
           "rgba(0.796875, 0.29296875, 0.3355927865968257145, 0.3355927865968257)",
           "rgba(0.796875, 0.29296875, 0.3639375, 0.3452654151884608)",
           "rgba(0.796875, 0.29296875, 0.3639375, 0.32427896822492275)",
           "rgba(0.796875, 0.29296875, 0.313375, 0.4785479709586537)",
           "rgba(0.796875, 0.29296875, 0.313375, 0.3319111498302331)",
           "rgba(0.796875, 0.29296875, 0.2628125, 0.3681425936794474)",
           "rgba(0.796875, 0.29296875, 0.2628125, 0.4311882431504408)",
           "rgba(0.796875, 0.29296875, 0.21225000000000005, 0.29644590092993117)",
           "rgba(0.796875, 0.29296875, 0.21225000000000005, 0.4987471431054552)",
           "rgba(0.796875, 0.29296875, 0.21225000000000005, 0.3317419109201367)",
           "rgba(0.796875, 0.29296875, 0.16168750000000004, 0.38732096071680966)",
           "rgba(0.796875, 0.29296875, 0.16168750000000004, 0.3164215936077345)",
           "rgba(0.796875, 0.29296875, 0.16168750000000004, 0.3023354665491078)",
           "rgba(0.796875, 0.29296875, 0.11112500000000003, 0.38097319656949297)",
           "rgba(0.796875, 0.29296875, 0.11112500000000003, 0.2844237676574781)",
           "rgba(0.796875, 0.29296875, 0.11112500000000003, 0.4821151717232761)",
           "rgba(0.796875, 0.29296875, 0.06056250000000002, 0.4574557498511144)",
           "rgba(0.796875, 0.29296875, 0.010000000000000009, 0.4955671006350443)",
           "rgba(0.796875, 0.29296875, 0.010000000000000009, 0.2803164258108683)",
           "rgba(0.796875, 0.29296875, 0.3375570479890031650625, 0.3375570479890031)",
           "rgba(0.796875, 0.29296875, 0.4754829989836286650625, 0.4754829989836286)",
           "rgba(0.796875, 0.29296875, 0.4902049224592312145, 0.4902049224592312)",
           "rgba(0.796875, 0.29296875, 0.28808667703038326145, 0.28808667703038326)",
           "rgba(0.796875, 0.29296875, 0.3639375, 0.28132423798459705)",
           "rgba(0.796875, 0.29296875, 0.3639375, 0.2856578797772531)",
           "rgba(0.796875, 0.29296875, 0.3639375, 0.41441736399909296)",
           "rgba(0.796875, 0.29296875, 0.3639375, 0.4209424488665884)",
           "rgba(0.796875, 0.29296875, 0.313375, 0.4720592497011508)",
           "rgba(0.796875, 0.29296875, 0.313375, 0.30860941072762665)",
           "rgba(0.796875, 0.29296875, 0.313375, 0.30254865612547355)",
           "rgba(0.796875, 0.29296875, 0.2628125, 0.4503647261913729)",
           "rgba(0.796875, 0.29296875, 0.21225000000000005, 0.30055279735264195)",
           "rgba(0.796875, 0.29296875, 0.21225000000000005, 0.4917849968054276)",
           "rgba(0.796875, 0.29296875, 0.16168750000000004, 0.30797315152573596)",
           "rgba(0.796875, 0.29296875, 0.16168750000000004, 0.25382388453825205)",
           "rgba(0.796875, 0.29296875, 0.16168750000000004, 0.45658346915277453)",
           "rgba(0.796875, 0.29296875, 0.16168750000000004, 0.2826662646213349)",
           "rgba(0.796875, 0.29296875, 0.11112500000000003, 0.4857795773686406)",
           "rgba(0.796875, 0.29296875, 0.11112500000000003, 0.27237608240518274)",
           "rgba(0.796875, 0.29296875, 0.06056250000000002, 0.4605329102764392)",
           "rgba(0.796875, 0.29296875, 0.06056250000000002, 0.29066611586100355)",
           "rgba(0.796875, 0.29296875, 0.010000000000000009, 0.4909459287574751)",
           "rgba(0.3828125, 0.50390625, 0.7715056818181818, 0.4771567983527849)",
           "rgba(0.3828125, 0.50390625, 0.7715056818181818, 0.2701540507461014)",
           "rgba(0.3828125, 0.50390625, 0.7715056818181818, 0.3823190992920849)",
           "rgba(0.3828125, 0.50390625, 0.6953551136363636, 0.4532212645629527)",
           "rgba(0.3828125, 0.50390625, 0.6953551136363636, 0.4079465305657548)",
           "rgba(0.3828125, 0.50390625, 0.6192045454545454, 0.3233905716046039)",
           "rgba(0.3828125, 0.50390625, 0.6192045454545454, 0.39731445266295595)",
           "rgba(0.3828125, 0.50390625, 0.6192045454545454, 0.29003527409719176)",
           "rgba(0.3828125, 0.50390625, 0.6192045454545454, 0.4312335553993496)",
           "rgba(0.3828125, 0.50390625, 0.5430539772727272, 0.4968373267397944)",
           "rgba(0.3828125, 0.50390625, 0.48680394774668186690340909090905, 0.4868039477466818)",
           "rgba(0.3828125, 0.50390625, 0.3907528409090909, 0.34753689111857416)",
           "rgba(0.3828125, 0.50390625, 0.3907528409090909, 0.2693910191904469)",
           "rgba(0.3828125, 0.50390625, 0.3907528409090909, 0.26300440137322917)",
           "rgba(0.3828125, 0.50390625, 0.3146022727272727, 0.2594275046401869)",
           "rgba(0.3828125, 0.50390625, 0.2384517045454545, 0.2909150577721464)",
           "rgba(0.3828125, 0.50390625, 0.2384517045454545, 0.49362026827198)",
           "rgba(0.3828125, 0.50390625, 0.1623011363636363, 0.4938331196772784)",
           "rgba(0.3828125, 0.50390625, 0.1623011363636363, 0.27381459670269054)",
           "rgba(0.3828125, 0.50390625, 0.0861505681818181, 0.44405037581556683)",
           "rgba(0.3828125, 0.50390625, 0.0861505681818181, 0.2639414066516248)",
           "rgba(0.3828125, 0.50390625, 0.0861505681818181, 0.3498633956561241)",
           "rgba(0.3828125, 0.50390625, 0.009999999999999898, 0.38343821352443624)",
           "rgba(0.3828125, 0.50390625, 0.009999999999999898, 0.2603372790356198)",
           "rgba(0.3828125, 0.50390625, 0.7715056818181818, 0.40255452922772283)",
           "rgba(0.3828125, 0.50390625, 0.7715056818181818, 0.470731446014676)",
           "rgba(0.3828125, 0.50390625, 0.7715056818181818, 0.2959980267235043)",
           "rgba(0.3828125, 0.50390625, 0.6953551136363636, 0.4716846848049604)",
           "rgba(0.3828125, 0.50390625, 0.6953551136363636, 0.39760895756742837)",
           "rgba(0.3828125, 0.50390625, 0.6192045454545454, 0.29838347550391625)",
           "rgba(0.3828125, 0.50390625, 0.6192045454545454, 0.38046591792418677)",
           "rgba(0.3828125, 0.50390625, 0.6192045454545454, 0.4468519875431591)",
           "rgba(0.3828125, 0.50390625, 0.5430539772727272, 0.3597777405223282)",
           "rgba(0.3828125, 0.50390625, 0.5430539772727272, 0.42499472328255306)",
           "rgba(0.3828125, 0.50390625, 0.47537211545303246690340909090905, 0.4753721154530324)",
           "rgba(0.3828125, 0.50390625, 0.3907528409090909, 0.40347364570245897)",
           "rgba(0.3828125, 0.50390625, 0.3146022727272727, 0.28295642634591783)",
           "rgba(0.3828125, 0.50390625, 0.3146022727272727, 0.3198949257629537)",
           "rgba(0.3828125, 0.50390625, 0.2384517045454545, 0.292787331944255)",
           "rgba(0.3828125, 0.50390625, 0.2384517045454545, 0.49516663442760994)",
           "rgba(0.3828125, 0.50390625, 0.1623011363636363, 0.4753477447922924)",
           "rgba(0.3828125, 0.50390625, 0.1623011363636363, 0.29389282992448784)",
           "rgba(0.3828125, 0.50390625, 0.0861505681818181, 0.25411031175841603)",
           "rgba(0.3828125, 0.50390625, 0.0861505681818181, 0.4613751250578716)",
           "rgba(0.3828125, 0.50390625, 0.0861505681818181, 0.3496347589388289)",
           "rgba(0.3828125, 0.50390625, 0.0861505681818181, 0.32042174946365953)",
           "rgba(0.3828125, 0.50390625, 0.009999999999999898, 0.28495021697922285)",
           "rgba(0.3828125, 0.50390625, 0.009999999999999898, 0.4544918143431895)",
           "rgba(0.09375, 0.98828125, 0.36814732142857143, 0.4930267929543124)",
           "rgba(0.09375, 0.98828125, 0.36814732142857143, 0.2643234746560707)",
           "rgba(0.09375, 0.98828125, 0.36814732142857143, 0.2789309601748442)",
           "rgba(0.09375, 0.98828125, 0.306291273577163461598214285714286, 0.30629127357716346)",
           "rgba(0.09375, 0.98828125, 0.367664112767047361598214285714286, 0.36766411276704736)",
           "rgba(0.09375, 0.98828125, 0.46238180559735161598214285714286, 0.4623818055973516)",
           "rgba(0.09375, 0.98828125, 0.3414791686965831598214285714286, 0.341479168696583)",
           "rgba(0.09375, 0.98828125, 0.35016194990605937638169642857143, 0.35016194990605937)",
           "rgba(0.09375, 0.98828125, 0.4431975950590405638169642857143, 0.4431975950590405)",
           "rgba(0.09375, 0.98828125, 0.5116517857142857, 0.4836010694275314)",
           "rgba(0.09375, 0.98828125, 0.5116517857142857, 0.2599737894187611)",
           "rgba(0.09375, 0.98828125, 0.5594866071428571, 0.33791469243057815)",
           "rgba(0.09375, 0.98828125, 0.6073214285714286, 0.26381456498336764)",
           "rgba(0.09375, 0.98828125, 0.6073214285714286, 0.4760824781563928)",
           "rgba(0.09375, 0.98828125, 0.65515625, 0.35874161828870305)",
           "rgba(0.09375, 0.98828125, 0.65515625, 0.477364804071693)",
           "rgba(0.09375, 0.98828125, 0.7029910714285714, 0.26066197921583606)",
           "rgba(0.09375, 0.98828125, 0.7029910714285714, 0.4971663842125788)",
           "rgba(0.09375, 0.98828125, 0.7508258928571429, 0.4903951914028804)",
           "rgba(0.09375, 0.98828125, 0.7986607142857143, 0.25252844289677556)",
           "rgba(0.09375, 0.98828125, 0.7986607142857143, 0.25759109133417407)",
           "rgba(0.09375, 0.98828125, 0.8464955357142857, 0.33139366969333706)",
           "rgba(0.09375, 0.98828125, 0.8464955357142857, 0.4886568665703197)",
           "rgba(0.09375, 0.98828125, 0.8943303571428571, 0.45533644732215)",
           "rgba(0.09375, 0.98828125, 0.8943303571428571, 0.28098390914777094)",
           "rgba(0.09375, 0.98828125, 0.8943303571428571, 0.2996485502370574)",
           "rgba(0.09375, 0.98828125, 0.9421651785714286, 0.4639384975959024)",
           "rgba(0.09375, 0.98828125, 0.9421651785714286, 0.32143710616859617)",
           "rgba(0.09375, 0.98828125, 0.99, 0.35307256445268165)",
           "rgba(0.09375, 0.98828125, 0.99, 0.4434468959364736)",
           "rgba(0.09375, 0.98828125, 0.36814732142857143, 0.2629141049509607)",
           "rgba(0.09375, 0.98828125, 0.36814732142857143, 0.3078881277487668)",
           "rgba(0.09375, 0.98828125, 0.36814732142857143, 0.37599975288110804)",
           "rgba(0.09375, 0.98828125, 0.36814732142857143, 0.4827212208640879)",
           "rgba(0.09375, 0.98828125, 0.33204625441371981598214285714286, 0.3320462544137198)",
           "rgba(0.09375, 0.98828125, 0.37938262338081341598214285714286, 0.3793826233808134)",
           "rgba(0.09375, 0.98828125, 0.46252056314495361598214285714286, 0.4625205631449536)",
           "rgba(0.09375, 0.98828125, 0.4963359639469503638169642857143, 0.4963359639469503)",
           "rgba(0.09375, 0.98828125, 0.5116517857142857, 0.4527951545557274)",
           "rgba(0.09375, 0.98828125, 0.5116517857142857, 0.29992911506854175)",
           "rgba(0.09375, 0.98828125, 0.5594866071428571, 0.266536101425245)",
           "rgba(0.09375, 0.98828125, 0.6073214285714286, 0.452275888878632)",
           "rgba(0.09375, 0.98828125, 0.6073214285714286, 0.2928322003897989)",
           "rgba(0.09375, 0.98828125, 0.65515625, 0.35353554674801857)",
           "rgba(0.09375, 0.98828125, 0.65515625, 0.2693173318772223)",
           "rgba(0.09375, 0.98828125, 0.65515625, 0.463924748714618)",
           "rgba(0.09375, 0.98828125, 0.7029910714285714, 0.3448494831315409)",
           "rgba(0.09375, 0.98828125, 0.7029910714285714, 0.4862262232458745)",
           "rgba(0.09375, 0.98828125, 0.7508258928571429, 0.27670044802541605)",
           "rgba(0.09375, 0.98828125, 0.7508258928571429, 0.486959240470149)",
           "rgba(0.09375, 0.98828125, 0.8464955357142857, 0.26517086868587586)",
           "rgba(0.09375, 0.98828125, 0.8464955357142857, 0.4739881728591584)",
           "rgba(0.09375, 0.98828125, 0.8464955357142857, 0.3156368347330601)",
           "rgba(0.09375, 0.98828125, 0.8943303571428571, 0.39612120983211757)",
           "rgba(0.09375, 0.98828125, 0.8943303571428571, 0.27750971964386184)",
           "rgba(0.09375, 0.98828125, 0.8943303571428571, 0.3764839884754784)",
           "rgba(0.09375, 0.98828125, 0.9421651785714286, 0.4839747088863)",
           "rgba(0.09375, 0.98828125, 0.9421651785714286, 0.26775320835908306)",
           "rgba(0.09375, 0.98828125, 0.99, 0.2767242451066413)",
           "rgba(0.09375, 0.98828125, 0.99, 0.28634899620265825)",
           "rgba(0.09375, 0.98828125, 0.99, 0.39016493400879243)",
           "rgba(0.9453125, 0.47751693541467465703125, 0.7845208333333333, 0.4775169354146746)",
           "rgba(0.9453125, 0.30873405061625495703125, 0.7845208333333333, 0.3087340506162549)",
           "rgba(0.9453125, 0.30777576909555495703125, 0.7845208333333333, 0.3077757690955549)",
           "rgba(0.9453125, 0.328678141505901975703125, 0.7291979166666667, 0.32867814150590197)",
           "rgba(0.9453125, 0.36438430956131835703125, 0.7291979166666667, 0.3643843095613183)",
           "rgba(0.9453125, 0.49451208361346985703125, 0.7291979166666667, 0.4945120836134698)",
           "rgba(0.9453125, 0.27246799249127745703125, 0.673875, 0.2724679924912774)",
           "rgba(0.9453125, 0.35229081847151365703125, 0.673875, 0.3522908184715136)",
           "rgba(0.9453125, 0.255803629165303475703125, 0.673875, 0.25580362916530347)",
           "rgba(0.9453125, 0.445014961469150545703125, 0.673875, 0.44501496146915054)",
           "rgba(0.9453125, 0.44930599384544045703125, 0.6185520833333333, 0.4493059938454404)",
           "rgba(0.9453125, 0.334441719971443955703125, 0.5632291666666667, 0.33444171997144395)",
           "rgba(0.9453125, 0.281316903687804435703125, 0.5632291666666667, 0.28131690368780443)",
           "rgba(0.9453125, 0.436920211842214975703125, 0.5632291666666667, 0.43692021184221497)",
           "rgba(0.9453125, 0.27969811959805715703125, 0.50790625, 0.2796981195980571)",
           "rgba(0.9453125, 0.306766948253298035703125, 0.50790625, 0.30676694825329803)",
           "rgba(0.9453125, 0.428039836080223675703125, 0.50790625, 0.42803983608022367)",
           "rgba(0.9453125, 0.27398047164137195703125, 0.50790625, 0.2739804716413719)",
           "rgba(0.9453125, 0.26449249367033695703125, 0.50790625, 0.2644924936703369)",
           "rgba(0.9453125, 0.258839557680965565703125, 0.258839557680965565258333333333334, 0.25883955768096556)",
           "rgba(0.9453125, 0.48835357116567285703125, 0.48835357116567285258333333333334, 0.4883535711656728)",
           "rgba(0.9453125, 0.412063037127165975703125, 0.39726041666666667, 0.41206303712716597)",
           "rgba(0.9453125, 0.40529780389189815703125, 0.3419375, 0.4052978038918981)",
           "rgba(0.9453125, 0.33765913158684315703125, 0.3419375, 0.3376591315868431)",
           "rgba(0.9453125, 0.4785438554355325703125, 0.28661458333333334, 0.478543855435532)",
           "rgba(0.9453125, 0.29395207455303375703125, 0.28661458333333334, 0.2939520745530337)",
           "rgba(0.9453125, 0.419617514918964045703125, 0.23129166666666667, 0.41961751491896404)",
           "rgba(0.9453125, 0.326175414235537035703125, 0.23129166666666667, 0.32617541423553703)",
           "rgba(0.9453125, 0.377151208668119245703125, 0.23129166666666667, 0.37715120866811924)",
           "rgba(0.9453125, 0.367327809501305175703125, 0.17596875, 0.36732780950130517)",
           "rgba(0.9453125, 0.48659175366160445703125, 0.17596875, 0.4865917536616044)",
           "rgba(0.9453125, 0.45238137029676015703125, 0.12064583333333334, 0.4523813702967601)",
           "rgba(0.9453125, 0.366887349080458675703125, 0.12064583333333334, 0.36688734908045867)",
           "rgba(0.9453125, 0.37661706842069195703125, 0.06532291666666667, 0.3766170684206919)",
           "rgba(0.9453125, 0.47200403014550565703125, 0.010000000000000009, 0.4720040301455056)"
          ],
          "source": [
           0,
           0,
           1,
           1,
           2,
           2,
           3,
           3,
           3,
           3,
           4,
           4,
           5,
           5,
           6,
           6,
           7,
           7,
           8,
           0,
           0,
           1,
           1,
           2,
           2,
           3,
           3,
           3,
           3,
           4,
           4,
           5,
           5,
           6,
           6,
           7,
           7,
           7,
           8,
           9,
           9,
           10,
           10,
           11,
           11,
           12,
           12,
           13,
           13,
           14,
           14,
           14,
           15,
           15,
           15,
           16,
           16,
           16,
           17,
           18,
           18,
           9,
           9,
           10,
           10,
           11,
           11,
           11,
           11,
           12,
           12,
           12,
           13,
           14,
           14,
           15,
           15,
           15,
           15,
           16,
           16,
           17,
           17,
           18,
           19,
           19,
           19,
           20,
           20,
           21,
           21,
           21,
           21,
           22,
           23,
           24,
           24,
           24,
           25,
           26,
           26,
           27,
           27,
           28,
           28,
           28,
           29,
           29,
           19,
           19,
           19,
           20,
           20,
           21,
           21,
           21,
           22,
           22,
           23,
           24,
           25,
           25,
           26,
           26,
           27,
           27,
           28,
           28,
           28,
           28,
           29,
           29,
           30,
           30,
           30,
           31,
           31,
           31,
           31,
           32,
           32,
           33,
           33,
           34,
           35,
           35,
           36,
           36,
           37,
           37,
           38,
           39,
           39,
           40,
           40,
           41,
           41,
           41,
           42,
           42,
           43,
           43,
           30,
           30,
           30,
           30,
           31,
           31,
           31,
           32,
           33,
           33,
           34,
           35,
           35,
           36,
           36,
           36,
           37,
           37,
           38,
           38,
           40,
           40,
           40,
           41,
           41,
           41,
           42,
           42,
           43,
           43,
           43,
           44,
           44,
           44,
           45,
           45,
           45,
           46,
           46,
           46,
           46,
           47,
           48,
           48,
           48,
           49,
           49,
           49,
           49,
           49,
           50,
           50,
           51,
           52,
           52,
           53,
           53,
           54,
           54,
           54,
           55,
           55,
           56,
           56,
           57,
           58
          ],
          "target": [
           9,
           16,
           9,
           17,
           9,
           16,
           9,
           10,
           16,
           17,
           14,
           16,
           12,
           16,
           9,
           16,
           9,
           16,
           16,
           24,
           27,
           21,
           24,
           24,
           27,
           20,
           21,
           24,
           27,
           24,
           27,
           24,
           27,
           24,
           27,
           21,
           24,
           27,
           24,
           21,
           24,
           20,
           21,
           19,
           28,
           19,
           26,
           28,
           29,
           19,
           26,
           27,
           20,
           21,
           25,
           24,
           26,
           27,
           23,
           22,
           28,
           34,
           42,
           30,
           40,
           31,
           36,
           41,
           43,
           36,
           37,
           41,
           31,
           33,
           37,
           30,
           39,
           40,
           42,
           33,
           41,
           38,
           42,
           32,
           36,
           37,
           41,
           30,
           40,
           30,
           35,
           40,
           42,
           32,
           38,
           33,
           34,
           42,
           39,
           33,
           37,
           33,
           37,
           31,
           32,
           43,
           31,
           34,
           44,
           46,
           55,
           45,
           53,
           45,
           47,
           49,
           48,
           56,
           50,
           52,
           47,
           51,
           46,
           55,
           52,
           55,
           44,
           48,
           54,
           57,
           51,
           54,
           45,
           49,
           53,
           44,
           48,
           54,
           57,
           48,
           56,
           52,
           55,
           47,
           47,
           49,
           44,
           46,
           46,
           55,
           50,
           51,
           53,
           45,
           53,
           44,
           46,
           58,
           47,
           49,
           48,
           58,
           59,
           60,
           65,
           68,
           61,
           63,
           66,
           62,
           64,
           65,
           59,
           67,
           72,
           63,
           64,
           73,
           64,
           71,
           65,
           70,
           59,
           60,
           68,
           63,
           64,
           69,
           59,
           60,
           63,
           66,
           69,
           63,
           69,
           73,
           60,
           65,
           68,
           63,
           64,
           71,
           73,
           59,
           62,
           63,
           66,
           59,
           60,
           67,
           68,
           72,
           65,
           70,
           61,
           64,
           65,
           60,
           68,
           61,
           63,
           66,
           64,
           71,
           62,
           72,
           66,
           69
          ],
          "value": [
           0.6318438377014204,
           0.7447792588921315,
           0.8923458508606452,
           0.5038417593503798,
           0.7165772242695504,
           0.6292010800731768,
           0.5716153996551951,
           0.7183910115231291,
           0.5423871238452458,
           0.5133378125463938,
           0.5045019481084082,
           0.6993777988483765,
           0.5293960794162245,
           0.759944743198145,
           0.537343192753296,
           0.8481426472015025,
           0.8430566295516996,
           0.5340263213077887,
           0.5496154400638832,
           0.7994253374813263,
           0.673461121074706,
           0.5655334316974127,
           0.6916173091662641,
           0.7377037008853361,
           0.5470723828225,
           0.6369649682316618,
           0.5008951956043612,
           0.6277756168425978,
           0.6043246143355081,
           0.5783480449475721,
           0.6436229840528288,
           0.6898938019840555,
           0.7320906438973446,
           0.7981320513874495,
           0.8130289099195454,
           0.5301357653852113,
           0.7630458256076946,
           0.5057511585326028,
           0.5581218531841309,
           0.7862009305391892,
           0.6109339809653976,
           0.8690334901859236,
           0.6711855731936514,
           0.6905308303769216,
           0.6485579364498455,
           0.9570959419173074,
           0.6638222996604662,
           0.7362851873588948,
           0.8623764863008816,
           0.5928918018598623,
           0.9974942862109104,
           0.6634838218402734,
           0.7746419214336193,
           0.632843187215469,
           0.6046709330982156,
           0.7619463931389859,
           0.5688475353149562,
           0.9642303434465522,
           0.9149114997022288,
           0.9911342012700886,
           0.5606328516217366,
           0.6751140959780062,
           0.9509659979672572,
           0.9804098449184624,
           0.5761733540607665,
           0.5626484759691941,
           0.5713157595545062,
           0.8288347279981859,
           0.8418848977331768,
           0.9441184994023016,
           0.6172188214552533,
           0.6050973122509471,
           0.9007294523827458,
           0.6011055947052839,
           0.9835699936108552,
           0.6159463030514719,
           0.5076477690765041,
           0.9131669383055491,
           0.5653325292426697,
           0.9715591547372812,
           0.5447521648103655,
           0.9210658205528784,
           0.5813322317220071,
           0.9818918575149502,
           0.9543135967055698,
           0.5403081014922028,
           0.7646381985841698,
           0.9064425291259054,
           0.8158930611315096,
           0.6467811432092078,
           0.7946289053259119,
           0.5800705481943835,
           0.8624671107986992,
           0.9936746534795888,
           0.9736078954933636,
           0.6950737822371483,
           0.5387820383808938,
           0.5260088027464583,
           0.5188550092803738,
           0.5818301155442928,
           0.98724053654396,
           0.9876662393545568,
           0.5476291934053811,
           0.8881007516311337,
           0.5278828133032496,
           0.6997267913122482,
           0.7668764270488725,
           0.5206745580712396,
           0.8051090584554457,
           0.941462892029352,
           0.5919960534470086,
           0.9433693696099208,
           0.7952179151348567,
           0.5967669510078325,
           0.7609318358483735,
           0.8937039750863182,
           0.7195554810446564,
           0.8499894465651061,
           0.9507442309060647,
           0.8069472914049179,
           0.5659128526918357,
           0.6397898515259074,
           0.58557466388851,
           0.9903332688552199,
           0.9506954895845848,
           0.5877856598489757,
           0.5082206235168321,
           0.9227502501157432,
           0.6992695178776578,
           0.6408434989273191,
           0.5699004339584457,
           0.908983628686379,
           0.9860535859086248,
           0.5286469493121414,
           0.5578619203496884,
           0.6125825471543269,
           0.7353282255340947,
           0.9247636111947032,
           0.682958337393166,
           0.7003238998121187,
           0.886395190118081,
           0.9672021388550628,
           0.5199475788375222,
           0.6758293848611563,
           0.5276291299667353,
           0.9521649563127856,
           0.7174832365774061,
           0.954729608143386,
           0.5213239584316721,
           0.9943327684251576,
           0.9807903828057608,
           0.5050568857935511,
           0.5151821826683481,
           0.6627873393866741,
           0.9773137331406394,
           0.9106728946443,
           0.5619678182955419,
           0.5992971004741148,
           0.9278769951918048,
           0.6428742123371923,
           0.7061451289053633,
           0.8868937918729471,
           0.5258282099019214,
           0.6157762554975336,
           0.7519995057622161,
           0.9654424417281758,
           0.6640925088274396,
           0.7587652467616268,
           0.9250411262899072,
           0.9926719278939006,
           0.9055903091114548,
           0.5998582301370835,
           0.53307220285049,
           0.904551777757264,
           0.5856644007795978,
           0.7070710934960371,
           0.5386346637544446,
           0.927849497429236,
           0.6896989662630818,
           0.972452446491749,
           0.5534008960508321,
           0.973918480940298,
           0.5303417373717517,
           0.9479763457183168,
           0.6312736694661202,
           0.7922424196642351,
           0.5550194392877237,
           0.7529679769509569,
           0.9679494177726,
           0.5355064167181661,
           0.5534484902132826,
           0.5726979924053165,
           0.7803298680175849,
           0.9550338708293492,
           0.6174681012325098,
           0.6155515381911097,
           0.6573562830118039,
           0.7287686191226366,
           0.9890241672269396,
           0.5449359849825548,
           0.7045816369430272,
           0.5116072583306069,
           0.8900299229383011,
           0.8986119876908808,
           0.6688834399428879,
           0.5626338073756089,
           0.8738404236844299,
           0.5593962391961143,
           0.6135338965065961,
           0.8560796721604473,
           0.5479609432827438,
           0.5289849873406738,
           0.5176791153619311,
           0.9767071423313456,
           0.8241260742543319,
           0.8105956077837962,
           0.6753182631736862,
           0.957087710871064,
           0.5879041491060674,
           0.8392350298379281,
           0.6523508284710741,
           0.7543024173362385,
           0.7346556190026103,
           0.9731835073232088,
           0.9047627405935202,
           0.7337746981609173,
           0.7532341368413839,
           0.9440080602910113
          ]
         },
         "node": {
          "color": [
           "rgba(0.34765625, 0.73828125, 0.5809722222222222, 0.8)",
           "rgba(0.34765625, 0.73828125, 0.5096006944444444, 0.8)",
           "rgba(0.34765625, 0.73828125, 0.43822916666666667, 0.8)",
           "rgba(0.34765625, 0.73828125, 0.3668576388888889, 0.8)",
           "rgba(0.34765625, 0.73828125, 0.2954861111111111, 0.8)",
           "rgba(0.34765625, 0.73828125, 0.22411458333333334, 0.8)",
           "rgba(0.34765625, 0.73828125, 0.15274305555555556, 0.8)",
           "rgba(0.34765625, 0.73828125, 0.08137152777777779, 0.8)",
           "rgba(0.34765625, 0.73828125, 0.010000000000000009, 0.8)",
           "rgba(0.796875, 0.29296875, 0.4650625, 0.8)",
           "rgba(0.796875, 0.29296875, 0.4145, 0.8)",
           "rgba(0.796875, 0.29296875, 0.3639375, 0.8)",
           "rgba(0.796875, 0.29296875, 0.313375, 0.8)",
           "rgba(0.796875, 0.29296875, 0.2628125, 0.8)",
           "rgba(0.796875, 0.29296875, 0.21225000000000005, 0.8)",
           "rgba(0.796875, 0.29296875, 0.16168750000000004, 0.8)",
           "rgba(0.796875, 0.29296875, 0.11112500000000003, 0.8)",
           "rgba(0.796875, 0.29296875, 0.06056250000000002, 0.8)",
           "rgba(0.796875, 0.29296875, 0.010000000000000009, 0.8)",
           "rgba(0.3828125, 0.50390625, 0.7715056818181818, 0.8)",
           "rgba(0.3828125, 0.50390625, 0.6953551136363636, 0.8)",
           "rgba(0.3828125, 0.50390625, 0.6192045454545454, 0.8)",
           "rgba(0.3828125, 0.50390625, 0.5430539772727272, 0.8)",
           "rgba(0.3828125, 0.50390625, 0.46690340909090905, 0.8)",
           "rgba(0.3828125, 0.50390625, 0.3907528409090909, 0.8)",
           "rgba(0.3828125, 0.50390625, 0.3146022727272727, 0.8)",
           "rgba(0.3828125, 0.50390625, 0.2384517045454545, 0.8)",
           "rgba(0.3828125, 0.50390625, 0.1623011363636363, 0.8)",
           "rgba(0.3828125, 0.50390625, 0.0861505681818181, 0.8)",
           "rgba(0.3828125, 0.50390625, 0.009999999999999898, 0.8)",
           "rgba(0.09375, 0.98828125, 0.36814732142857143, 0.8)",
           "rgba(0.09375, 0.98828125, 0.41598214285714286, 0.8)",
           "rgba(0.09375, 0.98828125, 0.4638169642857143, 0.8)",
           "rgba(0.09375, 0.98828125, 0.5116517857142857, 0.8)",
           "rgba(0.09375, 0.98828125, 0.5594866071428571, 0.8)",
           "rgba(0.09375, 0.98828125, 0.6073214285714286, 0.8)",
           "rgba(0.09375, 0.98828125, 0.65515625, 0.8)",
           "rgba(0.09375, 0.98828125, 0.7029910714285714, 0.8)",
           "rgba(0.09375, 0.98828125, 0.7508258928571429, 0.8)",
           "rgba(0.09375, 0.98828125, 0.7986607142857143, 0.8)",
           "rgba(0.09375, 0.98828125, 0.8464955357142857, 0.8)",
           "rgba(0.09375, 0.98828125, 0.8943303571428571, 0.8)",
           "rgba(0.09375, 0.98828125, 0.9421651785714286, 0.8)",
           "rgba(0.09375, 0.98828125, 0.99, 0.8)",
           "rgba(0.9453125, 0.45703125, 0.7845208333333333, 0.8)",
           "rgba(0.9453125, 0.45703125, 0.7291979166666667, 0.8)",
           "rgba(0.9453125, 0.45703125, 0.673875, 0.8)",
           "rgba(0.9453125, 0.45703125, 0.6185520833333333, 0.8)",
           "rgba(0.9453125, 0.45703125, 0.5632291666666667, 0.8)",
           "rgba(0.9453125, 0.45703125, 0.50790625, 0.8)",
           "rgba(0.9453125, 0.45703125, 0.45258333333333334, 0.8)",
           "rgba(0.9453125, 0.45703125, 0.39726041666666667, 0.8)",
           "rgba(0.9453125, 0.45703125, 0.3419375, 0.8)",
           "rgba(0.9453125, 0.45703125, 0.28661458333333334, 0.8)",
           "rgba(0.9453125, 0.45703125, 0.23129166666666667, 0.8)",
           "rgba(0.9453125, 0.45703125, 0.17596875, 0.8)",
           "rgba(0.9453125, 0.45703125, 0.12064583333333334, 0.8)",
           "rgba(0.9453125, 0.45703125, 0.06532291666666667, 0.8)",
           "rgba(0.9453125, 0.45703125, 0.010000000000000009, 0.8)",
           "rgba(0.32421875, 0.625, 0.7735833333333333, 0.8)",
           "rgba(0.32421875, 0.625, 0.7190416666666667, 0.8)",
           "rgba(0.32421875, 0.625, 0.6645, 0.8)",
           "rgba(0.32421875, 0.625, 0.6099583333333334, 0.8)",
           "rgba(0.32421875, 0.625, 0.5554166666666667, 0.8)",
           "rgba(0.32421875, 0.625, 0.500875, 0.8)",
           "rgba(0.32421875, 0.625, 0.4463333333333333, 0.8)",
           "rgba(0.32421875, 0.625, 0.39179166666666665, 0.8)",
           "rgba(0.32421875, 0.625, 0.33725, 0.8)",
           "rgba(0.32421875, 0.625, 0.28270833333333334, 0.8)",
           "rgba(0.32421875, 0.625, 0.22816666666666663, 0.8)",
           "rgba(0.32421875, 0.625, 0.17362499999999992, 0.8)",
           "rgba(0.32421875, 0.625, 0.11908333333333332, 0.8)",
           "rgba(0.32421875, 0.625, 0.06454166666666661, 0.8)",
           "rgba(0.32421875, 0.625, 0.010000000000000009, 0.8)"
          ],
          "label": [
           "04 - computer science",
           "04 - engineering, computer science",
           "04 - engineering, computer science",
           "04 - computer science, chemistry, engineering, B&MB",
           "04 - computer science, engineering",
           "04 - computer science",
           "04 - computer science, engineering",
           "04 - computer science, engineering",
           "04 - computer science",
           "07 - computer science, engineering",
           "07 - computer science",
           "07 - computer science, engineering",
           "07 - computer science, engineering",
           "07 - engineering, computer science",
           "07 - computer science",
           "07 - computer science",
           "07 - computer science",
           "07 - computer science",
           "07 - computer science, engineering, chemistry, B&MB",
           "10 - computer science, engineering",
           "10 - computer science",
           "10 - computer science, engineering",
           "10 - computer science, engineering",
           "10 - computer science",
           "10 - computer science, engineering",
           "10 - computer science, engineering",
           "10 - computer science",
           "10 - computer science",
           "10 - engineering, computer science",
           "10 - engineering, computer science",
           "13 - computer science",
           "13 - engineering, computer science",
           "13 - computer science, engineering",
           "13 - computer science",
           "13 - computer science, engineering",
           "13 - computer science, engineering",
           "13 - computer science, engineering",
           "13 - computer science, engineering",
           "13 - computer science",
           "13 - computer science, engineering",
           "13 - computer science",
           "13 - computer science, engineering",
           "13 - computer science, engineering",
           "13 - engineering, computer science",
           "16 - computer science, engineering",
           "16 - computer science",
           "16 - computer science, engineering",
           "16 - computer science, engineering",
           "16 - engineering, computer science",
           "16 - computer science, engineering",
           "16 - computer science",
           "16 - computer science, engineering",
           "16 - computer science",
           "16 - computer science",
           "16 - engineering, computer science",
           "16 - computer science, engineering",
           "16 - computer science, engineering",
           "16 - engineering, computer science",
           "16 - computer science, engineering",
           "18 - computer science, engineering",
           "18 - computer science, engineering",
           "18 - engineering, computer science",
           "18 - computer science, engineering",
           "18 - engineering, computer science",
           "18 - computer science",
           "18 - computer science",
           "18 - engineering",
           "18 - computer science, engineering",
           "18 - computer science",
           "18 - computer science, engineering",
           "18 - computer science",
           "18 - computer science, engineering",
           "18 - computer science, engineering",
           "18 - computer science, engineering"
          ],
          "line": {
           "color": "black",
           "width": 0
          },
          "pad": 15,
          "thickness": 10
         },
         "type": "sankey"
        }
       ],
       "layout": {
        "autosize": false,
        "font": {
         "size": 11
        },
        "height": 900,
        "template": {
         "data": {
          "bar": [
           {
            "error_x": {
             "color": "#2a3f5f"
            },
            "error_y": {
             "color": "#2a3f5f"
            },
            "marker": {
             "line": {
              "color": "#E5ECF6",
              "width": 0.5
             }
            },
            "type": "bar"
           }
          ],
          "barpolar": [
           {
            "marker": {
             "line": {
              "color": "#E5ECF6",
              "width": 0.5
             }
            },
            "type": "barpolar"
           }
          ],
          "carpet": [
           {
            "aaxis": {
             "endlinecolor": "#2a3f5f",
             "gridcolor": "white",
             "linecolor": "white",
             "minorgridcolor": "white",
             "startlinecolor": "#2a3f5f"
            },
            "baxis": {
             "endlinecolor": "#2a3f5f",
             "gridcolor": "white",
             "linecolor": "white",
             "minorgridcolor": "white",
             "startlinecolor": "#2a3f5f"
            },
            "type": "carpet"
           }
          ],
          "choropleth": [
           {
            "colorbar": {
             "outlinewidth": 0,
             "ticks": ""
            },
            "type": "choropleth"
           }
          ],
          "contour": [
           {
            "colorbar": {
             "outlinewidth": 0,
             "ticks": ""
            },
            "colorscale": [
             [
              0,
              "#0d0887"
             ],
             [
              0.1111111111111111,
              "#46039f"
             ],
             [
              0.2222222222222222,
              "#7201a8"
             ],
             [
              0.3333333333333333,
              "#9c179e"
             ],
             [
              0.4444444444444444,
              "#bd3786"
             ],
             [
              0.5555555555555556,
              "#d8576b"
             ],
             [
              0.6666666666666666,
              "#ed7953"
             ],
             [
              0.7777777777777778,
              "#fb9f3a"
             ],
             [
              0.8888888888888888,
              "#fdca26"
             ],
             [
              1,
              "#f0f921"
             ]
            ],
            "type": "contour"
           }
          ],
          "contourcarpet": [
           {
            "colorbar": {
             "outlinewidth": 0,
             "ticks": ""
            },
            "type": "contourcarpet"
           }
          ],
          "heatmap": [
           {
            "colorbar": {
             "outlinewidth": 0,
             "ticks": ""
            },
            "colorscale": [
             [
              0,
              "#0d0887"
             ],
             [
              0.1111111111111111,
              "#46039f"
             ],
             [
              0.2222222222222222,
              "#7201a8"
             ],
             [
              0.3333333333333333,
              "#9c179e"
             ],
             [
              0.4444444444444444,
              "#bd3786"
             ],
             [
              0.5555555555555556,
              "#d8576b"
             ],
             [
              0.6666666666666666,
              "#ed7953"
             ],
             [
              0.7777777777777778,
              "#fb9f3a"
             ],
             [
              0.8888888888888888,
              "#fdca26"
             ],
             [
              1,
              "#f0f921"
             ]
            ],
            "type": "heatmap"
           }
          ],
          "heatmapgl": [
           {
            "colorbar": {
             "outlinewidth": 0,
             "ticks": ""
            },
            "colorscale": [
             [
              0,
              "#0d0887"
             ],
             [
              0.1111111111111111,
              "#46039f"
             ],
             [
              0.2222222222222222,
              "#7201a8"
             ],
             [
              0.3333333333333333,
              "#9c179e"
             ],
             [
              0.4444444444444444,
              "#bd3786"
             ],
             [
              0.5555555555555556,
              "#d8576b"
             ],
             [
              0.6666666666666666,
              "#ed7953"
             ],
             [
              0.7777777777777778,
              "#fb9f3a"
             ],
             [
              0.8888888888888888,
              "#fdca26"
             ],
             [
              1,
              "#f0f921"
             ]
            ],
            "type": "heatmapgl"
           }
          ],
          "histogram": [
           {
            "marker": {
             "colorbar": {
              "outlinewidth": 0,
              "ticks": ""
             }
            },
            "type": "histogram"
           }
          ],
          "histogram2d": [
           {
            "colorbar": {
             "outlinewidth": 0,
             "ticks": ""
            },
            "colorscale": [
             [
              0,
              "#0d0887"
             ],
             [
              0.1111111111111111,
              "#46039f"
             ],
             [
              0.2222222222222222,
              "#7201a8"
             ],
             [
              0.3333333333333333,
              "#9c179e"
             ],
             [
              0.4444444444444444,
              "#bd3786"
             ],
             [
              0.5555555555555556,
              "#d8576b"
             ],
             [
              0.6666666666666666,
              "#ed7953"
             ],
             [
              0.7777777777777778,
              "#fb9f3a"
             ],
             [
              0.8888888888888888,
              "#fdca26"
             ],
             [
              1,
              "#f0f921"
             ]
            ],
            "type": "histogram2d"
           }
          ],
          "histogram2dcontour": [
           {
            "colorbar": {
             "outlinewidth": 0,
             "ticks": ""
            },
            "colorscale": [
             [
              0,
              "#0d0887"
             ],
             [
              0.1111111111111111,
              "#46039f"
             ],
             [
              0.2222222222222222,
              "#7201a8"
             ],
             [
              0.3333333333333333,
              "#9c179e"
             ],
             [
              0.4444444444444444,
              "#bd3786"
             ],
             [
              0.5555555555555556,
              "#d8576b"
             ],
             [
              0.6666666666666666,
              "#ed7953"
             ],
             [
              0.7777777777777778,
              "#fb9f3a"
             ],
             [
              0.8888888888888888,
              "#fdca26"
             ],
             [
              1,
              "#f0f921"
             ]
            ],
            "type": "histogram2dcontour"
           }
          ],
          "mesh3d": [
           {
            "colorbar": {
             "outlinewidth": 0,
             "ticks": ""
            },
            "type": "mesh3d"
           }
          ],
          "parcoords": [
           {
            "line": {
             "colorbar": {
              "outlinewidth": 0,
              "ticks": ""
             }
            },
            "type": "parcoords"
           }
          ],
          "scatter": [
           {
            "marker": {
             "colorbar": {
              "outlinewidth": 0,
              "ticks": ""
             }
            },
            "type": "scatter"
           }
          ],
          "scatter3d": [
           {
            "line": {
             "colorbar": {
              "outlinewidth": 0,
              "ticks": ""
             }
            },
            "marker": {
             "colorbar": {
              "outlinewidth": 0,
              "ticks": ""
             }
            },
            "type": "scatter3d"
           }
          ],
          "scattercarpet": [
           {
            "marker": {
             "colorbar": {
              "outlinewidth": 0,
              "ticks": ""
             }
            },
            "type": "scattercarpet"
           }
          ],
          "scattergeo": [
           {
            "marker": {
             "colorbar": {
              "outlinewidth": 0,
              "ticks": ""
             }
            },
            "type": "scattergeo"
           }
          ],
          "scattergl": [
           {
            "marker": {
             "colorbar": {
              "outlinewidth": 0,
              "ticks": ""
             }
            },
            "type": "scattergl"
           }
          ],
          "scattermapbox": [
           {
            "marker": {
             "colorbar": {
              "outlinewidth": 0,
              "ticks": ""
             }
            },
            "type": "scattermapbox"
           }
          ],
          "scatterpolar": [
           {
            "marker": {
             "colorbar": {
              "outlinewidth": 0,
              "ticks": ""
             }
            },
            "type": "scatterpolar"
           }
          ],
          "scatterpolargl": [
           {
            "marker": {
             "colorbar": {
              "outlinewidth": 0,
              "ticks": ""
             }
            },
            "type": "scatterpolargl"
           }
          ],
          "scatterternary": [
           {
            "marker": {
             "colorbar": {
              "outlinewidth": 0,
              "ticks": ""
             }
            },
            "type": "scatterternary"
           }
          ],
          "surface": [
           {
            "colorbar": {
             "outlinewidth": 0,
             "ticks": ""
            },
            "colorscale": [
             [
              0,
              "#0d0887"
             ],
             [
              0.1111111111111111,
              "#46039f"
             ],
             [
              0.2222222222222222,
              "#7201a8"
             ],
             [
              0.3333333333333333,
              "#9c179e"
             ],
             [
              0.4444444444444444,
              "#bd3786"
             ],
             [
              0.5555555555555556,
              "#d8576b"
             ],
             [
              0.6666666666666666,
              "#ed7953"
             ],
             [
              0.7777777777777778,
              "#fb9f3a"
             ],
             [
              0.8888888888888888,
              "#fdca26"
             ],
             [
              1,
              "#f0f921"
             ]
            ],
            "type": "surface"
           }
          ],
          "table": [
           {
            "cells": {
             "fill": {
              "color": "#EBF0F8"
             },
             "line": {
              "color": "white"
             }
            },
            "header": {
             "fill": {
              "color": "#C8D4E3"
             },
             "line": {
              "color": "white"
             }
            },
            "type": "table"
           }
          ]
         },
         "layout": {
          "annotationdefaults": {
           "arrowcolor": "#2a3f5f",
           "arrowhead": 0,
           "arrowwidth": 1
          },
          "colorscale": {
           "diverging": [
            [
             0,
             "#8e0152"
            ],
            [
             0.1,
             "#c51b7d"
            ],
            [
             0.2,
             "#de77ae"
            ],
            [
             0.3,
             "#f1b6da"
            ],
            [
             0.4,
             "#fde0ef"
            ],
            [
             0.5,
             "#f7f7f7"
            ],
            [
             0.6,
             "#e6f5d0"
            ],
            [
             0.7,
             "#b8e186"
            ],
            [
             0.8,
             "#7fbc41"
            ],
            [
             0.9,
             "#4d9221"
            ],
            [
             1,
             "#276419"
            ]
           ],
           "sequential": [
            [
             0,
             "#0d0887"
            ],
            [
             0.1111111111111111,
             "#46039f"
            ],
            [
             0.2222222222222222,
             "#7201a8"
            ],
            [
             0.3333333333333333,
             "#9c179e"
            ],
            [
             0.4444444444444444,
             "#bd3786"
            ],
            [
             0.5555555555555556,
             "#d8576b"
            ],
            [
             0.6666666666666666,
             "#ed7953"
            ],
            [
             0.7777777777777778,
             "#fb9f3a"
            ],
            [
             0.8888888888888888,
             "#fdca26"
            ],
            [
             1,
             "#f0f921"
            ]
           ],
           "sequentialminus": [
            [
             0,
             "#0d0887"
            ],
            [
             0.1111111111111111,
             "#46039f"
            ],
            [
             0.2222222222222222,
             "#7201a8"
            ],
            [
             0.3333333333333333,
             "#9c179e"
            ],
            [
             0.4444444444444444,
             "#bd3786"
            ],
            [
             0.5555555555555556,
             "#d8576b"
            ],
            [
             0.6666666666666666,
             "#ed7953"
            ],
            [
             0.7777777777777778,
             "#fb9f3a"
            ],
            [
             0.8888888888888888,
             "#fdca26"
            ],
            [
             1,
             "#f0f921"
            ]
           ]
          },
          "colorway": [
           "#636efa",
           "#EF553B",
           "#00cc96",
           "#ab63fa",
           "#FFA15A",
           "#19d3f3",
           "#FF6692",
           "#B6E880",
           "#FF97FF",
           "#FECB52"
          ],
          "font": {
           "color": "#2a3f5f"
          },
          "geo": {
           "bgcolor": "white",
           "lakecolor": "white",
           "landcolor": "#E5ECF6",
           "showlakes": true,
           "showland": true,
           "subunitcolor": "white"
          },
          "hoverlabel": {
           "align": "left"
          },
          "hovermode": "closest",
          "mapbox": {
           "style": "light"
          },
          "paper_bgcolor": "white",
          "plot_bgcolor": "#E5ECF6",
          "polar": {
           "angularaxis": {
            "gridcolor": "white",
            "linecolor": "white",
            "ticks": ""
           },
           "bgcolor": "#E5ECF6",
           "radialaxis": {
            "gridcolor": "white",
            "linecolor": "white",
            "ticks": ""
           }
          },
          "scene": {
           "xaxis": {
            "backgroundcolor": "#E5ECF6",
            "gridcolor": "white",
            "gridwidth": 2,
            "linecolor": "white",
            "showbackground": true,
            "ticks": "",
            "zerolinecolor": "white"
           },
           "yaxis": {
            "backgroundcolor": "#E5ECF6",
            "gridcolor": "white",
            "gridwidth": 2,
            "linecolor": "white",
            "showbackground": true,
            "ticks": "",
            "zerolinecolor": "white"
           },
           "zaxis": {
            "backgroundcolor": "#E5ECF6",
            "gridcolor": "white",
            "gridwidth": 2,
            "linecolor": "white",
            "showbackground": true,
            "ticks": "",
            "zerolinecolor": "white"
           }
          },
          "shapedefaults": {
           "line": {
            "color": "#2a3f5f"
           }
          },
          "ternary": {
           "aaxis": {
            "gridcolor": "white",
            "linecolor": "white",
            "ticks": ""
           },
           "baxis": {
            "gridcolor": "white",
            "linecolor": "white",
            "ticks": ""
           },
           "bgcolor": "#E5ECF6",
           "caxis": {
            "gridcolor": "white",
            "linecolor": "white",
            "ticks": ""
           }
          },
          "title": {
           "x": 0.05
          },
          "xaxis": {
           "automargin": true,
           "gridcolor": "white",
           "linecolor": "white",
           "ticks": "",
           "zerolinecolor": "white",
           "zerolinewidth": 2
          },
          "yaxis": {
           "automargin": true,
           "gridcolor": "white",
           "linecolor": "white",
           "ticks": "",
           "zerolinecolor": "white",
           "zerolinewidth": 2
          }
         }
        },
        "title": {
         "text": "H-Clustering -Abstracts+Titles - Cumulative Development of fields: Docs 1990-2004 to 1990-2018 : Enhanced number of clusters  - pow 1 - thresh 0.5"
        },
        "width": 1500
       }
      },
      "text/html": [
       "<div>\n",
       "        \n",
       "        \n",
       "            <div id=\"dac82ca6-d44b-4717-a147-68d2c6b95be8\" class=\"plotly-graph-div\" style=\"height:900px; width:1500px;\"></div>\n",
       "            <script type=\"text/javascript\">\n",
       "                require([\"plotly\"], function(Plotly) {\n",
       "                    window.PLOTLYENV=window.PLOTLYENV || {};\n",
       "                    \n",
       "                if (document.getElementById(\"dac82ca6-d44b-4717-a147-68d2c6b95be8\")) {\n",
       "                    Plotly.newPlot(\n",
       "                        'dac82ca6-d44b-4717-a147-68d2c6b95be8',\n",
       "                        [{\"link\": {\"color\": [\"rgba(0.34765625, 0.73828125, 0.5809722222222222, 0.3159219188507102)\", \"rgba(0.34765625, 0.73828125, 0.5809722222222222, 0.37238962944606574)\", \"rgba(0.34765625, 0.73828125, 0.5096006944444444, 0.4461729254303226)\", \"rgba(0.34765625, 0.73828125, 0.5096006944444444, 0.2519208796751899)\", \"rgba(0.34765625, 0.73828125, 0.35828861213477523822916666666667, 0.3582886121347752)\", \"rgba(0.34765625, 0.73828125, 0.31460054003658843822916666666667, 0.3146005400365884)\", \"rgba(0.34765625, 0.73828125, 0.3668576388888889, 0.28580769982759757)\", \"rgba(0.34765625, 0.73828125, 0.3668576388888889, 0.35919550576156456)\", \"rgba(0.34765625, 0.73828125, 0.3668576388888889, 0.2711935619226229)\", \"rgba(0.34765625, 0.73828125, 0.3668576388888889, 0.2566689062731969)\", \"rgba(0.34765625, 0.73828125, 0.2954861111111111, 0.2522509740542041)\", \"rgba(0.34765625, 0.73828125, 0.2954861111111111, 0.34968889942418824)\", \"rgba(0.34765625, 0.73828125, 0.22411458333333334, 0.26469803970811223)\", \"rgba(0.34765625, 0.73828125, 0.22411458333333334, 0.3799723715990725)\", \"rgba(0.34765625, 0.73828125, 0.15274305555555556, 0.268671596376648)\", \"rgba(0.34765625, 0.73828125, 0.15274305555555556, 0.4240713236007512)\", \"rgba(0.34765625, 0.73828125, 0.08137152777777779, 0.4215283147758498)\", \"rgba(0.34765625, 0.73828125, 0.08137152777777779, 0.26701316065389435)\", \"rgba(0.34765625, 0.73828125, 0.010000000000000009, 0.2748077200319416)\", \"rgba(0.34765625, 0.73828125, 0.5809722222222222, 0.39971266874066314)\", \"rgba(0.34765625, 0.73828125, 0.5809722222222222, 0.336730560537353)\", \"rgba(0.34765625, 0.73828125, 0.5096006944444444, 0.28276671584870633)\", \"rgba(0.34765625, 0.73828125, 0.5096006944444444, 0.34580865458313204)\", \"rgba(0.34765625, 0.73828125, 0.368851850442668053822916666666667, 0.36885185044266805)\", \"rgba(0.34765625, 0.73828125, 0.273536191411253822916666666667, 0.27353619141125)\", \"rgba(0.34765625, 0.73828125, 0.3668576388888889, 0.3184824841158309)\", \"rgba(0.34765625, 0.73828125, 0.3668576388888889, 0.2504475978021806)\", \"rgba(0.34765625, 0.73828125, 0.3668576388888889, 0.3138878084212989)\", \"rgba(0.34765625, 0.73828125, 0.3668576388888889, 0.30216230716775405)\", \"rgba(0.34765625, 0.73828125, 0.2954861111111111, 0.28917402247378604)\", \"rgba(0.34765625, 0.73828125, 0.2954861111111111, 0.3218114920264144)\", \"rgba(0.34765625, 0.73828125, 0.22411458333333334, 0.34494690099202774)\", \"rgba(0.34765625, 0.73828125, 0.22411458333333334, 0.3660453219486723)\", \"rgba(0.34765625, 0.73828125, 0.15274305555555556, 0.39906602569372474)\", \"rgba(0.34765625, 0.73828125, 0.15274305555555556, 0.4065144549597727)\", \"rgba(0.34765625, 0.73828125, 0.08137152777777779, 0.26506788269260567)\", \"rgba(0.34765625, 0.73828125, 0.08137152777777779, 0.3815229128038473)\", \"rgba(0.34765625, 0.73828125, 0.08137152777777779, 0.2528755792663014)\", \"rgba(0.34765625, 0.73828125, 0.010000000000000009, 0.27906092659206544)\", \"rgba(0.796875, 0.29296875, 0.3931004652695946650625, 0.3931004652695946)\", \"rgba(0.796875, 0.29296875, 0.3054669904826988650625, 0.3054669904826988)\", \"rgba(0.796875, 0.29296875, 0.4345167450929618145, 0.4345167450929618)\", \"rgba(0.796875, 0.29296875, 0.3355927865968257145, 0.3355927865968257)\", \"rgba(0.796875, 0.29296875, 0.3639375, 0.3452654151884608)\", \"rgba(0.796875, 0.29296875, 0.3639375, 0.32427896822492275)\", \"rgba(0.796875, 0.29296875, 0.313375, 0.4785479709586537)\", \"rgba(0.796875, 0.29296875, 0.313375, 0.3319111498302331)\", \"rgba(0.796875, 0.29296875, 0.2628125, 0.3681425936794474)\", \"rgba(0.796875, 0.29296875, 0.2628125, 0.4311882431504408)\", \"rgba(0.796875, 0.29296875, 0.21225000000000005, 0.29644590092993117)\", \"rgba(0.796875, 0.29296875, 0.21225000000000005, 0.4987471431054552)\", \"rgba(0.796875, 0.29296875, 0.21225000000000005, 0.3317419109201367)\", \"rgba(0.796875, 0.29296875, 0.16168750000000004, 0.38732096071680966)\", \"rgba(0.796875, 0.29296875, 0.16168750000000004, 0.3164215936077345)\", \"rgba(0.796875, 0.29296875, 0.16168750000000004, 0.3023354665491078)\", \"rgba(0.796875, 0.29296875, 0.11112500000000003, 0.38097319656949297)\", \"rgba(0.796875, 0.29296875, 0.11112500000000003, 0.2844237676574781)\", \"rgba(0.796875, 0.29296875, 0.11112500000000003, 0.4821151717232761)\", \"rgba(0.796875, 0.29296875, 0.06056250000000002, 0.4574557498511144)\", \"rgba(0.796875, 0.29296875, 0.010000000000000009, 0.4955671006350443)\", \"rgba(0.796875, 0.29296875, 0.010000000000000009, 0.2803164258108683)\", \"rgba(0.796875, 0.29296875, 0.3375570479890031650625, 0.3375570479890031)\", \"rgba(0.796875, 0.29296875, 0.4754829989836286650625, 0.4754829989836286)\", \"rgba(0.796875, 0.29296875, 0.4902049224592312145, 0.4902049224592312)\", \"rgba(0.796875, 0.29296875, 0.28808667703038326145, 0.28808667703038326)\", \"rgba(0.796875, 0.29296875, 0.3639375, 0.28132423798459705)\", \"rgba(0.796875, 0.29296875, 0.3639375, 0.2856578797772531)\", \"rgba(0.796875, 0.29296875, 0.3639375, 0.41441736399909296)\", \"rgba(0.796875, 0.29296875, 0.3639375, 0.4209424488665884)\", \"rgba(0.796875, 0.29296875, 0.313375, 0.4720592497011508)\", \"rgba(0.796875, 0.29296875, 0.313375, 0.30860941072762665)\", \"rgba(0.796875, 0.29296875, 0.313375, 0.30254865612547355)\", \"rgba(0.796875, 0.29296875, 0.2628125, 0.4503647261913729)\", \"rgba(0.796875, 0.29296875, 0.21225000000000005, 0.30055279735264195)\", \"rgba(0.796875, 0.29296875, 0.21225000000000005, 0.4917849968054276)\", \"rgba(0.796875, 0.29296875, 0.16168750000000004, 0.30797315152573596)\", \"rgba(0.796875, 0.29296875, 0.16168750000000004, 0.25382388453825205)\", \"rgba(0.796875, 0.29296875, 0.16168750000000004, 0.45658346915277453)\", \"rgba(0.796875, 0.29296875, 0.16168750000000004, 0.2826662646213349)\", \"rgba(0.796875, 0.29296875, 0.11112500000000003, 0.4857795773686406)\", \"rgba(0.796875, 0.29296875, 0.11112500000000003, 0.27237608240518274)\", \"rgba(0.796875, 0.29296875, 0.06056250000000002, 0.4605329102764392)\", \"rgba(0.796875, 0.29296875, 0.06056250000000002, 0.29066611586100355)\", \"rgba(0.796875, 0.29296875, 0.010000000000000009, 0.4909459287574751)\", \"rgba(0.3828125, 0.50390625, 0.7715056818181818, 0.4771567983527849)\", \"rgba(0.3828125, 0.50390625, 0.7715056818181818, 0.2701540507461014)\", \"rgba(0.3828125, 0.50390625, 0.7715056818181818, 0.3823190992920849)\", \"rgba(0.3828125, 0.50390625, 0.6953551136363636, 0.4532212645629527)\", \"rgba(0.3828125, 0.50390625, 0.6953551136363636, 0.4079465305657548)\", \"rgba(0.3828125, 0.50390625, 0.6192045454545454, 0.3233905716046039)\", \"rgba(0.3828125, 0.50390625, 0.6192045454545454, 0.39731445266295595)\", \"rgba(0.3828125, 0.50390625, 0.6192045454545454, 0.29003527409719176)\", \"rgba(0.3828125, 0.50390625, 0.6192045454545454, 0.4312335553993496)\", \"rgba(0.3828125, 0.50390625, 0.5430539772727272, 0.4968373267397944)\", \"rgba(0.3828125, 0.50390625, 0.48680394774668186690340909090905, 0.4868039477466818)\", \"rgba(0.3828125, 0.50390625, 0.3907528409090909, 0.34753689111857416)\", \"rgba(0.3828125, 0.50390625, 0.3907528409090909, 0.2693910191904469)\", \"rgba(0.3828125, 0.50390625, 0.3907528409090909, 0.26300440137322917)\", \"rgba(0.3828125, 0.50390625, 0.3146022727272727, 0.2594275046401869)\", \"rgba(0.3828125, 0.50390625, 0.2384517045454545, 0.2909150577721464)\", \"rgba(0.3828125, 0.50390625, 0.2384517045454545, 0.49362026827198)\", \"rgba(0.3828125, 0.50390625, 0.1623011363636363, 0.4938331196772784)\", \"rgba(0.3828125, 0.50390625, 0.1623011363636363, 0.27381459670269054)\", \"rgba(0.3828125, 0.50390625, 0.0861505681818181, 0.44405037581556683)\", \"rgba(0.3828125, 0.50390625, 0.0861505681818181, 0.2639414066516248)\", \"rgba(0.3828125, 0.50390625, 0.0861505681818181, 0.3498633956561241)\", \"rgba(0.3828125, 0.50390625, 0.009999999999999898, 0.38343821352443624)\", \"rgba(0.3828125, 0.50390625, 0.009999999999999898, 0.2603372790356198)\", \"rgba(0.3828125, 0.50390625, 0.7715056818181818, 0.40255452922772283)\", \"rgba(0.3828125, 0.50390625, 0.7715056818181818, 0.470731446014676)\", \"rgba(0.3828125, 0.50390625, 0.7715056818181818, 0.2959980267235043)\", \"rgba(0.3828125, 0.50390625, 0.6953551136363636, 0.4716846848049604)\", \"rgba(0.3828125, 0.50390625, 0.6953551136363636, 0.39760895756742837)\", \"rgba(0.3828125, 0.50390625, 0.6192045454545454, 0.29838347550391625)\", \"rgba(0.3828125, 0.50390625, 0.6192045454545454, 0.38046591792418677)\", \"rgba(0.3828125, 0.50390625, 0.6192045454545454, 0.4468519875431591)\", \"rgba(0.3828125, 0.50390625, 0.5430539772727272, 0.3597777405223282)\", \"rgba(0.3828125, 0.50390625, 0.5430539772727272, 0.42499472328255306)\", \"rgba(0.3828125, 0.50390625, 0.47537211545303246690340909090905, 0.4753721154530324)\", \"rgba(0.3828125, 0.50390625, 0.3907528409090909, 0.40347364570245897)\", \"rgba(0.3828125, 0.50390625, 0.3146022727272727, 0.28295642634591783)\", \"rgba(0.3828125, 0.50390625, 0.3146022727272727, 0.3198949257629537)\", \"rgba(0.3828125, 0.50390625, 0.2384517045454545, 0.292787331944255)\", \"rgba(0.3828125, 0.50390625, 0.2384517045454545, 0.49516663442760994)\", \"rgba(0.3828125, 0.50390625, 0.1623011363636363, 0.4753477447922924)\", \"rgba(0.3828125, 0.50390625, 0.1623011363636363, 0.29389282992448784)\", \"rgba(0.3828125, 0.50390625, 0.0861505681818181, 0.25411031175841603)\", \"rgba(0.3828125, 0.50390625, 0.0861505681818181, 0.4613751250578716)\", \"rgba(0.3828125, 0.50390625, 0.0861505681818181, 0.3496347589388289)\", \"rgba(0.3828125, 0.50390625, 0.0861505681818181, 0.32042174946365953)\", \"rgba(0.3828125, 0.50390625, 0.009999999999999898, 0.28495021697922285)\", \"rgba(0.3828125, 0.50390625, 0.009999999999999898, 0.4544918143431895)\", \"rgba(0.09375, 0.98828125, 0.36814732142857143, 0.4930267929543124)\", \"rgba(0.09375, 0.98828125, 0.36814732142857143, 0.2643234746560707)\", \"rgba(0.09375, 0.98828125, 0.36814732142857143, 0.2789309601748442)\", \"rgba(0.09375, 0.98828125, 0.306291273577163461598214285714286, 0.30629127357716346)\", \"rgba(0.09375, 0.98828125, 0.367664112767047361598214285714286, 0.36766411276704736)\", \"rgba(0.09375, 0.98828125, 0.46238180559735161598214285714286, 0.4623818055973516)\", \"rgba(0.09375, 0.98828125, 0.3414791686965831598214285714286, 0.341479168696583)\", \"rgba(0.09375, 0.98828125, 0.35016194990605937638169642857143, 0.35016194990605937)\", \"rgba(0.09375, 0.98828125, 0.4431975950590405638169642857143, 0.4431975950590405)\", \"rgba(0.09375, 0.98828125, 0.5116517857142857, 0.4836010694275314)\", \"rgba(0.09375, 0.98828125, 0.5116517857142857, 0.2599737894187611)\", \"rgba(0.09375, 0.98828125, 0.5594866071428571, 0.33791469243057815)\", \"rgba(0.09375, 0.98828125, 0.6073214285714286, 0.26381456498336764)\", \"rgba(0.09375, 0.98828125, 0.6073214285714286, 0.4760824781563928)\", \"rgba(0.09375, 0.98828125, 0.65515625, 0.35874161828870305)\", \"rgba(0.09375, 0.98828125, 0.65515625, 0.477364804071693)\", \"rgba(0.09375, 0.98828125, 0.7029910714285714, 0.26066197921583606)\", \"rgba(0.09375, 0.98828125, 0.7029910714285714, 0.4971663842125788)\", \"rgba(0.09375, 0.98828125, 0.7508258928571429, 0.4903951914028804)\", \"rgba(0.09375, 0.98828125, 0.7986607142857143, 0.25252844289677556)\", \"rgba(0.09375, 0.98828125, 0.7986607142857143, 0.25759109133417407)\", \"rgba(0.09375, 0.98828125, 0.8464955357142857, 0.33139366969333706)\", \"rgba(0.09375, 0.98828125, 0.8464955357142857, 0.4886568665703197)\", \"rgba(0.09375, 0.98828125, 0.8943303571428571, 0.45533644732215)\", \"rgba(0.09375, 0.98828125, 0.8943303571428571, 0.28098390914777094)\", \"rgba(0.09375, 0.98828125, 0.8943303571428571, 0.2996485502370574)\", \"rgba(0.09375, 0.98828125, 0.9421651785714286, 0.4639384975959024)\", \"rgba(0.09375, 0.98828125, 0.9421651785714286, 0.32143710616859617)\", \"rgba(0.09375, 0.98828125, 0.99, 0.35307256445268165)\", \"rgba(0.09375, 0.98828125, 0.99, 0.4434468959364736)\", \"rgba(0.09375, 0.98828125, 0.36814732142857143, 0.2629141049509607)\", \"rgba(0.09375, 0.98828125, 0.36814732142857143, 0.3078881277487668)\", \"rgba(0.09375, 0.98828125, 0.36814732142857143, 0.37599975288110804)\", \"rgba(0.09375, 0.98828125, 0.36814732142857143, 0.4827212208640879)\", \"rgba(0.09375, 0.98828125, 0.33204625441371981598214285714286, 0.3320462544137198)\", \"rgba(0.09375, 0.98828125, 0.37938262338081341598214285714286, 0.3793826233808134)\", \"rgba(0.09375, 0.98828125, 0.46252056314495361598214285714286, 0.4625205631449536)\", \"rgba(0.09375, 0.98828125, 0.4963359639469503638169642857143, 0.4963359639469503)\", \"rgba(0.09375, 0.98828125, 0.5116517857142857, 0.4527951545557274)\", \"rgba(0.09375, 0.98828125, 0.5116517857142857, 0.29992911506854175)\", \"rgba(0.09375, 0.98828125, 0.5594866071428571, 0.266536101425245)\", \"rgba(0.09375, 0.98828125, 0.6073214285714286, 0.452275888878632)\", \"rgba(0.09375, 0.98828125, 0.6073214285714286, 0.2928322003897989)\", \"rgba(0.09375, 0.98828125, 0.65515625, 0.35353554674801857)\", \"rgba(0.09375, 0.98828125, 0.65515625, 0.2693173318772223)\", \"rgba(0.09375, 0.98828125, 0.65515625, 0.463924748714618)\", \"rgba(0.09375, 0.98828125, 0.7029910714285714, 0.3448494831315409)\", \"rgba(0.09375, 0.98828125, 0.7029910714285714, 0.4862262232458745)\", \"rgba(0.09375, 0.98828125, 0.7508258928571429, 0.27670044802541605)\", \"rgba(0.09375, 0.98828125, 0.7508258928571429, 0.486959240470149)\", \"rgba(0.09375, 0.98828125, 0.8464955357142857, 0.26517086868587586)\", \"rgba(0.09375, 0.98828125, 0.8464955357142857, 0.4739881728591584)\", \"rgba(0.09375, 0.98828125, 0.8464955357142857, 0.3156368347330601)\", \"rgba(0.09375, 0.98828125, 0.8943303571428571, 0.39612120983211757)\", \"rgba(0.09375, 0.98828125, 0.8943303571428571, 0.27750971964386184)\", \"rgba(0.09375, 0.98828125, 0.8943303571428571, 0.3764839884754784)\", \"rgba(0.09375, 0.98828125, 0.9421651785714286, 0.4839747088863)\", \"rgba(0.09375, 0.98828125, 0.9421651785714286, 0.26775320835908306)\", \"rgba(0.09375, 0.98828125, 0.99, 0.2767242451066413)\", \"rgba(0.09375, 0.98828125, 0.99, 0.28634899620265825)\", \"rgba(0.09375, 0.98828125, 0.99, 0.39016493400879243)\", \"rgba(0.9453125, 0.47751693541467465703125, 0.7845208333333333, 0.4775169354146746)\", \"rgba(0.9453125, 0.30873405061625495703125, 0.7845208333333333, 0.3087340506162549)\", \"rgba(0.9453125, 0.30777576909555495703125, 0.7845208333333333, 0.3077757690955549)\", \"rgba(0.9453125, 0.328678141505901975703125, 0.7291979166666667, 0.32867814150590197)\", \"rgba(0.9453125, 0.36438430956131835703125, 0.7291979166666667, 0.3643843095613183)\", \"rgba(0.9453125, 0.49451208361346985703125, 0.7291979166666667, 0.4945120836134698)\", \"rgba(0.9453125, 0.27246799249127745703125, 0.673875, 0.2724679924912774)\", \"rgba(0.9453125, 0.35229081847151365703125, 0.673875, 0.3522908184715136)\", \"rgba(0.9453125, 0.255803629165303475703125, 0.673875, 0.25580362916530347)\", \"rgba(0.9453125, 0.445014961469150545703125, 0.673875, 0.44501496146915054)\", \"rgba(0.9453125, 0.44930599384544045703125, 0.6185520833333333, 0.4493059938454404)\", \"rgba(0.9453125, 0.334441719971443955703125, 0.5632291666666667, 0.33444171997144395)\", \"rgba(0.9453125, 0.281316903687804435703125, 0.5632291666666667, 0.28131690368780443)\", \"rgba(0.9453125, 0.436920211842214975703125, 0.5632291666666667, 0.43692021184221497)\", \"rgba(0.9453125, 0.27969811959805715703125, 0.50790625, 0.2796981195980571)\", \"rgba(0.9453125, 0.306766948253298035703125, 0.50790625, 0.30676694825329803)\", \"rgba(0.9453125, 0.428039836080223675703125, 0.50790625, 0.42803983608022367)\", \"rgba(0.9453125, 0.27398047164137195703125, 0.50790625, 0.2739804716413719)\", \"rgba(0.9453125, 0.26449249367033695703125, 0.50790625, 0.2644924936703369)\", \"rgba(0.9453125, 0.258839557680965565703125, 0.258839557680965565258333333333334, 0.25883955768096556)\", \"rgba(0.9453125, 0.48835357116567285703125, 0.48835357116567285258333333333334, 0.4883535711656728)\", \"rgba(0.9453125, 0.412063037127165975703125, 0.39726041666666667, 0.41206303712716597)\", \"rgba(0.9453125, 0.40529780389189815703125, 0.3419375, 0.4052978038918981)\", \"rgba(0.9453125, 0.33765913158684315703125, 0.3419375, 0.3376591315868431)\", \"rgba(0.9453125, 0.4785438554355325703125, 0.28661458333333334, 0.478543855435532)\", \"rgba(0.9453125, 0.29395207455303375703125, 0.28661458333333334, 0.2939520745530337)\", \"rgba(0.9453125, 0.419617514918964045703125, 0.23129166666666667, 0.41961751491896404)\", \"rgba(0.9453125, 0.326175414235537035703125, 0.23129166666666667, 0.32617541423553703)\", \"rgba(0.9453125, 0.377151208668119245703125, 0.23129166666666667, 0.37715120866811924)\", \"rgba(0.9453125, 0.367327809501305175703125, 0.17596875, 0.36732780950130517)\", \"rgba(0.9453125, 0.48659175366160445703125, 0.17596875, 0.4865917536616044)\", \"rgba(0.9453125, 0.45238137029676015703125, 0.12064583333333334, 0.4523813702967601)\", \"rgba(0.9453125, 0.366887349080458675703125, 0.12064583333333334, 0.36688734908045867)\", \"rgba(0.9453125, 0.37661706842069195703125, 0.06532291666666667, 0.3766170684206919)\", \"rgba(0.9453125, 0.47200403014550565703125, 0.010000000000000009, 0.4720040301455056)\"], \"source\": [0, 0, 1, 1, 2, 2, 3, 3, 3, 3, 4, 4, 5, 5, 6, 6, 7, 7, 8, 0, 0, 1, 1, 2, 2, 3, 3, 3, 3, 4, 4, 5, 5, 6, 6, 7, 7, 7, 8, 9, 9, 10, 10, 11, 11, 12, 12, 13, 13, 14, 14, 14, 15, 15, 15, 16, 16, 16, 17, 18, 18, 9, 9, 10, 10, 11, 11, 11, 11, 12, 12, 12, 13, 14, 14, 15, 15, 15, 15, 16, 16, 17, 17, 18, 19, 19, 19, 20, 20, 21, 21, 21, 21, 22, 23, 24, 24, 24, 25, 26, 26, 27, 27, 28, 28, 28, 29, 29, 19, 19, 19, 20, 20, 21, 21, 21, 22, 22, 23, 24, 25, 25, 26, 26, 27, 27, 28, 28, 28, 28, 29, 29, 30, 30, 30, 31, 31, 31, 31, 32, 32, 33, 33, 34, 35, 35, 36, 36, 37, 37, 38, 39, 39, 40, 40, 41, 41, 41, 42, 42, 43, 43, 30, 30, 30, 30, 31, 31, 31, 32, 33, 33, 34, 35, 35, 36, 36, 36, 37, 37, 38, 38, 40, 40, 40, 41, 41, 41, 42, 42, 43, 43, 43, 44, 44, 44, 45, 45, 45, 46, 46, 46, 46, 47, 48, 48, 48, 49, 49, 49, 49, 49, 50, 50, 51, 52, 52, 53, 53, 54, 54, 54, 55, 55, 56, 56, 57, 58], \"target\": [9, 16, 9, 17, 9, 16, 9, 10, 16, 17, 14, 16, 12, 16, 9, 16, 9, 16, 16, 24, 27, 21, 24, 24, 27, 20, 21, 24, 27, 24, 27, 24, 27, 24, 27, 21, 24, 27, 24, 21, 24, 20, 21, 19, 28, 19, 26, 28, 29, 19, 26, 27, 20, 21, 25, 24, 26, 27, 23, 22, 28, 34, 42, 30, 40, 31, 36, 41, 43, 36, 37, 41, 31, 33, 37, 30, 39, 40, 42, 33, 41, 38, 42, 32, 36, 37, 41, 30, 40, 30, 35, 40, 42, 32, 38, 33, 34, 42, 39, 33, 37, 33, 37, 31, 32, 43, 31, 34, 44, 46, 55, 45, 53, 45, 47, 49, 48, 56, 50, 52, 47, 51, 46, 55, 52, 55, 44, 48, 54, 57, 51, 54, 45, 49, 53, 44, 48, 54, 57, 48, 56, 52, 55, 47, 47, 49, 44, 46, 46, 55, 50, 51, 53, 45, 53, 44, 46, 58, 47, 49, 48, 58, 59, 60, 65, 68, 61, 63, 66, 62, 64, 65, 59, 67, 72, 63, 64, 73, 64, 71, 65, 70, 59, 60, 68, 63, 64, 69, 59, 60, 63, 66, 69, 63, 69, 73, 60, 65, 68, 63, 64, 71, 73, 59, 62, 63, 66, 59, 60, 67, 68, 72, 65, 70, 61, 64, 65, 60, 68, 61, 63, 66, 64, 71, 62, 72, 66, 69], \"value\": [0.6318438377014204, 0.7447792588921315, 0.8923458508606452, 0.5038417593503798, 0.7165772242695504, 0.6292010800731768, 0.5716153996551951, 0.7183910115231291, 0.5423871238452458, 0.5133378125463938, 0.5045019481084082, 0.6993777988483765, 0.5293960794162245, 0.759944743198145, 0.537343192753296, 0.8481426472015025, 0.8430566295516996, 0.5340263213077887, 0.5496154400638832, 0.7994253374813263, 0.673461121074706, 0.5655334316974127, 0.6916173091662641, 0.7377037008853361, 0.5470723828225, 0.6369649682316618, 0.5008951956043612, 0.6277756168425978, 0.6043246143355081, 0.5783480449475721, 0.6436229840528288, 0.6898938019840555, 0.7320906438973446, 0.7981320513874495, 0.8130289099195454, 0.5301357653852113, 0.7630458256076946, 0.5057511585326028, 0.5581218531841309, 0.7862009305391892, 0.6109339809653976, 0.8690334901859236, 0.6711855731936514, 0.6905308303769216, 0.6485579364498455, 0.9570959419173074, 0.6638222996604662, 0.7362851873588948, 0.8623764863008816, 0.5928918018598623, 0.9974942862109104, 0.6634838218402734, 0.7746419214336193, 0.632843187215469, 0.6046709330982156, 0.7619463931389859, 0.5688475353149562, 0.9642303434465522, 0.9149114997022288, 0.9911342012700886, 0.5606328516217366, 0.6751140959780062, 0.9509659979672572, 0.9804098449184624, 0.5761733540607665, 0.5626484759691941, 0.5713157595545062, 0.8288347279981859, 0.8418848977331768, 0.9441184994023016, 0.6172188214552533, 0.6050973122509471, 0.9007294523827458, 0.6011055947052839, 0.9835699936108552, 0.6159463030514719, 0.5076477690765041, 0.9131669383055491, 0.5653325292426697, 0.9715591547372812, 0.5447521648103655, 0.9210658205528784, 0.5813322317220071, 0.9818918575149502, 0.9543135967055698, 0.5403081014922028, 0.7646381985841698, 0.9064425291259054, 0.8158930611315096, 0.6467811432092078, 0.7946289053259119, 0.5800705481943835, 0.8624671107986992, 0.9936746534795888, 0.9736078954933636, 0.6950737822371483, 0.5387820383808938, 0.5260088027464583, 0.5188550092803738, 0.5818301155442928, 0.98724053654396, 0.9876662393545568, 0.5476291934053811, 0.8881007516311337, 0.5278828133032496, 0.6997267913122482, 0.7668764270488725, 0.5206745580712396, 0.8051090584554457, 0.941462892029352, 0.5919960534470086, 0.9433693696099208, 0.7952179151348567, 0.5967669510078325, 0.7609318358483735, 0.8937039750863182, 0.7195554810446564, 0.8499894465651061, 0.9507442309060647, 0.8069472914049179, 0.5659128526918357, 0.6397898515259074, 0.58557466388851, 0.9903332688552199, 0.9506954895845848, 0.5877856598489757, 0.5082206235168321, 0.9227502501157432, 0.6992695178776578, 0.6408434989273191, 0.5699004339584457, 0.908983628686379, 0.9860535859086248, 0.5286469493121414, 0.5578619203496884, 0.6125825471543269, 0.7353282255340947, 0.9247636111947032, 0.682958337393166, 0.7003238998121187, 0.886395190118081, 0.9672021388550628, 0.5199475788375222, 0.6758293848611563, 0.5276291299667353, 0.9521649563127856, 0.7174832365774061, 0.954729608143386, 0.5213239584316721, 0.9943327684251576, 0.9807903828057608, 0.5050568857935511, 0.5151821826683481, 0.6627873393866741, 0.9773137331406394, 0.9106728946443, 0.5619678182955419, 0.5992971004741148, 0.9278769951918048, 0.6428742123371923, 0.7061451289053633, 0.8868937918729471, 0.5258282099019214, 0.6157762554975336, 0.7519995057622161, 0.9654424417281758, 0.6640925088274396, 0.7587652467616268, 0.9250411262899072, 0.9926719278939006, 0.9055903091114548, 0.5998582301370835, 0.53307220285049, 0.904551777757264, 0.5856644007795978, 0.7070710934960371, 0.5386346637544446, 0.927849497429236, 0.6896989662630818, 0.972452446491749, 0.5534008960508321, 0.973918480940298, 0.5303417373717517, 0.9479763457183168, 0.6312736694661202, 0.7922424196642351, 0.5550194392877237, 0.7529679769509569, 0.9679494177726, 0.5355064167181661, 0.5534484902132826, 0.5726979924053165, 0.7803298680175849, 0.9550338708293492, 0.6174681012325098, 0.6155515381911097, 0.6573562830118039, 0.7287686191226366, 0.9890241672269396, 0.5449359849825548, 0.7045816369430272, 0.5116072583306069, 0.8900299229383011, 0.8986119876908808, 0.6688834399428879, 0.5626338073756089, 0.8738404236844299, 0.5593962391961143, 0.6135338965065961, 0.8560796721604473, 0.5479609432827438, 0.5289849873406738, 0.5176791153619311, 0.9767071423313456, 0.8241260742543319, 0.8105956077837962, 0.6753182631736862, 0.957087710871064, 0.5879041491060674, 0.8392350298379281, 0.6523508284710741, 0.7543024173362385, 0.7346556190026103, 0.9731835073232088, 0.9047627405935202, 0.7337746981609173, 0.7532341368413839, 0.9440080602910113]}, \"node\": {\"color\": [\"rgba(0.34765625, 0.73828125, 0.5809722222222222, 0.8)\", \"rgba(0.34765625, 0.73828125, 0.5096006944444444, 0.8)\", \"rgba(0.34765625, 0.73828125, 0.43822916666666667, 0.8)\", \"rgba(0.34765625, 0.73828125, 0.3668576388888889, 0.8)\", \"rgba(0.34765625, 0.73828125, 0.2954861111111111, 0.8)\", \"rgba(0.34765625, 0.73828125, 0.22411458333333334, 0.8)\", \"rgba(0.34765625, 0.73828125, 0.15274305555555556, 0.8)\", \"rgba(0.34765625, 0.73828125, 0.08137152777777779, 0.8)\", \"rgba(0.34765625, 0.73828125, 0.010000000000000009, 0.8)\", \"rgba(0.796875, 0.29296875, 0.4650625, 0.8)\", \"rgba(0.796875, 0.29296875, 0.4145, 0.8)\", \"rgba(0.796875, 0.29296875, 0.3639375, 0.8)\", \"rgba(0.796875, 0.29296875, 0.313375, 0.8)\", \"rgba(0.796875, 0.29296875, 0.2628125, 0.8)\", \"rgba(0.796875, 0.29296875, 0.21225000000000005, 0.8)\", \"rgba(0.796875, 0.29296875, 0.16168750000000004, 0.8)\", \"rgba(0.796875, 0.29296875, 0.11112500000000003, 0.8)\", \"rgba(0.796875, 0.29296875, 0.06056250000000002, 0.8)\", \"rgba(0.796875, 0.29296875, 0.010000000000000009, 0.8)\", \"rgba(0.3828125, 0.50390625, 0.7715056818181818, 0.8)\", \"rgba(0.3828125, 0.50390625, 0.6953551136363636, 0.8)\", \"rgba(0.3828125, 0.50390625, 0.6192045454545454, 0.8)\", \"rgba(0.3828125, 0.50390625, 0.5430539772727272, 0.8)\", \"rgba(0.3828125, 0.50390625, 0.46690340909090905, 0.8)\", \"rgba(0.3828125, 0.50390625, 0.3907528409090909, 0.8)\", \"rgba(0.3828125, 0.50390625, 0.3146022727272727, 0.8)\", \"rgba(0.3828125, 0.50390625, 0.2384517045454545, 0.8)\", \"rgba(0.3828125, 0.50390625, 0.1623011363636363, 0.8)\", \"rgba(0.3828125, 0.50390625, 0.0861505681818181, 0.8)\", \"rgba(0.3828125, 0.50390625, 0.009999999999999898, 0.8)\", \"rgba(0.09375, 0.98828125, 0.36814732142857143, 0.8)\", \"rgba(0.09375, 0.98828125, 0.41598214285714286, 0.8)\", \"rgba(0.09375, 0.98828125, 0.4638169642857143, 0.8)\", \"rgba(0.09375, 0.98828125, 0.5116517857142857, 0.8)\", \"rgba(0.09375, 0.98828125, 0.5594866071428571, 0.8)\", \"rgba(0.09375, 0.98828125, 0.6073214285714286, 0.8)\", \"rgba(0.09375, 0.98828125, 0.65515625, 0.8)\", \"rgba(0.09375, 0.98828125, 0.7029910714285714, 0.8)\", \"rgba(0.09375, 0.98828125, 0.7508258928571429, 0.8)\", \"rgba(0.09375, 0.98828125, 0.7986607142857143, 0.8)\", \"rgba(0.09375, 0.98828125, 0.8464955357142857, 0.8)\", \"rgba(0.09375, 0.98828125, 0.8943303571428571, 0.8)\", \"rgba(0.09375, 0.98828125, 0.9421651785714286, 0.8)\", \"rgba(0.09375, 0.98828125, 0.99, 0.8)\", \"rgba(0.9453125, 0.45703125, 0.7845208333333333, 0.8)\", \"rgba(0.9453125, 0.45703125, 0.7291979166666667, 0.8)\", \"rgba(0.9453125, 0.45703125, 0.673875, 0.8)\", \"rgba(0.9453125, 0.45703125, 0.6185520833333333, 0.8)\", \"rgba(0.9453125, 0.45703125, 0.5632291666666667, 0.8)\", \"rgba(0.9453125, 0.45703125, 0.50790625, 0.8)\", \"rgba(0.9453125, 0.45703125, 0.45258333333333334, 0.8)\", \"rgba(0.9453125, 0.45703125, 0.39726041666666667, 0.8)\", \"rgba(0.9453125, 0.45703125, 0.3419375, 0.8)\", \"rgba(0.9453125, 0.45703125, 0.28661458333333334, 0.8)\", \"rgba(0.9453125, 0.45703125, 0.23129166666666667, 0.8)\", \"rgba(0.9453125, 0.45703125, 0.17596875, 0.8)\", \"rgba(0.9453125, 0.45703125, 0.12064583333333334, 0.8)\", \"rgba(0.9453125, 0.45703125, 0.06532291666666667, 0.8)\", \"rgba(0.9453125, 0.45703125, 0.010000000000000009, 0.8)\", \"rgba(0.32421875, 0.625, 0.7735833333333333, 0.8)\", \"rgba(0.32421875, 0.625, 0.7190416666666667, 0.8)\", \"rgba(0.32421875, 0.625, 0.6645, 0.8)\", \"rgba(0.32421875, 0.625, 0.6099583333333334, 0.8)\", \"rgba(0.32421875, 0.625, 0.5554166666666667, 0.8)\", \"rgba(0.32421875, 0.625, 0.500875, 0.8)\", \"rgba(0.32421875, 0.625, 0.4463333333333333, 0.8)\", \"rgba(0.32421875, 0.625, 0.39179166666666665, 0.8)\", \"rgba(0.32421875, 0.625, 0.33725, 0.8)\", \"rgba(0.32421875, 0.625, 0.28270833333333334, 0.8)\", \"rgba(0.32421875, 0.625, 0.22816666666666663, 0.8)\", \"rgba(0.32421875, 0.625, 0.17362499999999992, 0.8)\", \"rgba(0.32421875, 0.625, 0.11908333333333332, 0.8)\", \"rgba(0.32421875, 0.625, 0.06454166666666661, 0.8)\", \"rgba(0.32421875, 0.625, 0.010000000000000009, 0.8)\"], \"label\": [\"04 - computer science\", \"04 - engineering, computer science\", \"04 - engineering, computer science\", \"04 - computer science, chemistry, engineering, B&MB\", \"04 - computer science, engineering\", \"04 - computer science\", \"04 - computer science, engineering\", \"04 - computer science, engineering\", \"04 - computer science\", \"07 - computer science, engineering\", \"07 - computer science\", \"07 - computer science, engineering\", \"07 - computer science, engineering\", \"07 - engineering, computer science\", \"07 - computer science\", \"07 - computer science\", \"07 - computer science\", \"07 - computer science\", \"07 - computer science, engineering, chemistry, B&MB\", \"10 - computer science, engineering\", \"10 - computer science\", \"10 - computer science, engineering\", \"10 - computer science, engineering\", \"10 - computer science\", \"10 - computer science, engineering\", \"10 - computer science, engineering\", \"10 - computer science\", \"10 - computer science\", \"10 - engineering, computer science\", \"10 - engineering, computer science\", \"13 - computer science\", \"13 - engineering, computer science\", \"13 - computer science, engineering\", \"13 - computer science\", \"13 - computer science, engineering\", \"13 - computer science, engineering\", \"13 - computer science, engineering\", \"13 - computer science, engineering\", \"13 - computer science\", \"13 - computer science, engineering\", \"13 - computer science\", \"13 - computer science, engineering\", \"13 - computer science, engineering\", \"13 - engineering, computer science\", \"16 - computer science, engineering\", \"16 - computer science\", \"16 - computer science, engineering\", \"16 - computer science, engineering\", \"16 - engineering, computer science\", \"16 - computer science, engineering\", \"16 - computer science\", \"16 - computer science, engineering\", \"16 - computer science\", \"16 - computer science\", \"16 - engineering, computer science\", \"16 - computer science, engineering\", \"16 - computer science, engineering\", \"16 - engineering, computer science\", \"16 - computer science, engineering\", \"18 - computer science, engineering\", \"18 - computer science, engineering\", \"18 - engineering, computer science\", \"18 - computer science, engineering\", \"18 - engineering, computer science\", \"18 - computer science\", \"18 - computer science\", \"18 - engineering\", \"18 - computer science, engineering\", \"18 - computer science\", \"18 - computer science, engineering\", \"18 - computer science\", \"18 - computer science, engineering\", \"18 - computer science, engineering\", \"18 - computer science, engineering\"], \"line\": {\"color\": \"black\", \"width\": 0}, \"pad\": 15, \"thickness\": 10}, \"type\": \"sankey\"}],\n",
       "                        {\"autosize\": false, \"font\": {\"size\": 11}, \"height\": 900, \"template\": {\"data\": {\"bar\": [{\"error_x\": {\"color\": \"#2a3f5f\"}, \"error_y\": {\"color\": \"#2a3f5f\"}, \"marker\": {\"line\": {\"color\": \"#E5ECF6\", \"width\": 0.5}}, \"type\": \"bar\"}], \"barpolar\": [{\"marker\": {\"line\": {\"color\": \"#E5ECF6\", \"width\": 0.5}}, \"type\": \"barpolar\"}], \"carpet\": [{\"aaxis\": {\"endlinecolor\": \"#2a3f5f\", \"gridcolor\": \"white\", \"linecolor\": \"white\", \"minorgridcolor\": \"white\", \"startlinecolor\": \"#2a3f5f\"}, \"baxis\": {\"endlinecolor\": \"#2a3f5f\", \"gridcolor\": \"white\", \"linecolor\": \"white\", \"minorgridcolor\": \"white\", \"startlinecolor\": \"#2a3f5f\"}, \"type\": \"carpet\"}], \"choropleth\": [{\"colorbar\": {\"outlinewidth\": 0, \"ticks\": \"\"}, \"type\": \"choropleth\"}], \"contour\": [{\"colorbar\": {\"outlinewidth\": 0, \"ticks\": \"\"}, \"colorscale\": [[0.0, \"#0d0887\"], [0.1111111111111111, \"#46039f\"], [0.2222222222222222, \"#7201a8\"], [0.3333333333333333, \"#9c179e\"], [0.4444444444444444, \"#bd3786\"], [0.5555555555555556, \"#d8576b\"], [0.6666666666666666, \"#ed7953\"], [0.7777777777777778, \"#fb9f3a\"], [0.8888888888888888, \"#fdca26\"], [1.0, \"#f0f921\"]], \"type\": \"contour\"}], \"contourcarpet\": [{\"colorbar\": {\"outlinewidth\": 0, \"ticks\": \"\"}, \"type\": \"contourcarpet\"}], \"heatmap\": [{\"colorbar\": {\"outlinewidth\": 0, \"ticks\": \"\"}, \"colorscale\": [[0.0, \"#0d0887\"], [0.1111111111111111, \"#46039f\"], [0.2222222222222222, \"#7201a8\"], [0.3333333333333333, \"#9c179e\"], [0.4444444444444444, \"#bd3786\"], [0.5555555555555556, \"#d8576b\"], [0.6666666666666666, \"#ed7953\"], [0.7777777777777778, \"#fb9f3a\"], [0.8888888888888888, \"#fdca26\"], [1.0, \"#f0f921\"]], \"type\": \"heatmap\"}], \"heatmapgl\": [{\"colorbar\": {\"outlinewidth\": 0, \"ticks\": \"\"}, \"colorscale\": [[0.0, \"#0d0887\"], [0.1111111111111111, \"#46039f\"], [0.2222222222222222, \"#7201a8\"], [0.3333333333333333, \"#9c179e\"], [0.4444444444444444, \"#bd3786\"], [0.5555555555555556, \"#d8576b\"], [0.6666666666666666, \"#ed7953\"], [0.7777777777777778, \"#fb9f3a\"], [0.8888888888888888, \"#fdca26\"], [1.0, \"#f0f921\"]], \"type\": \"heatmapgl\"}], \"histogram\": [{\"marker\": {\"colorbar\": {\"outlinewidth\": 0, \"ticks\": \"\"}}, \"type\": \"histogram\"}], \"histogram2d\": [{\"colorbar\": {\"outlinewidth\": 0, \"ticks\": \"\"}, \"colorscale\": [[0.0, \"#0d0887\"], [0.1111111111111111, \"#46039f\"], [0.2222222222222222, \"#7201a8\"], [0.3333333333333333, \"#9c179e\"], [0.4444444444444444, \"#bd3786\"], [0.5555555555555556, \"#d8576b\"], [0.6666666666666666, \"#ed7953\"], [0.7777777777777778, \"#fb9f3a\"], [0.8888888888888888, \"#fdca26\"], [1.0, \"#f0f921\"]], \"type\": \"histogram2d\"}], \"histogram2dcontour\": [{\"colorbar\": {\"outlinewidth\": 0, \"ticks\": \"\"}, \"colorscale\": [[0.0, \"#0d0887\"], [0.1111111111111111, \"#46039f\"], [0.2222222222222222, \"#7201a8\"], [0.3333333333333333, \"#9c179e\"], [0.4444444444444444, \"#bd3786\"], [0.5555555555555556, \"#d8576b\"], [0.6666666666666666, \"#ed7953\"], [0.7777777777777778, \"#fb9f3a\"], [0.8888888888888888, \"#fdca26\"], [1.0, \"#f0f921\"]], \"type\": \"histogram2dcontour\"}], \"mesh3d\": [{\"colorbar\": {\"outlinewidth\": 0, \"ticks\": \"\"}, \"type\": \"mesh3d\"}], \"parcoords\": [{\"line\": {\"colorbar\": {\"outlinewidth\": 0, \"ticks\": \"\"}}, \"type\": \"parcoords\"}], \"scatter\": [{\"marker\": {\"colorbar\": {\"outlinewidth\": 0, \"ticks\": \"\"}}, \"type\": \"scatter\"}], \"scatter3d\": [{\"line\": {\"colorbar\": {\"outlinewidth\": 0, \"ticks\": \"\"}}, \"marker\": {\"colorbar\": {\"outlinewidth\": 0, \"ticks\": \"\"}}, \"type\": \"scatter3d\"}], \"scattercarpet\": [{\"marker\": {\"colorbar\": {\"outlinewidth\": 0, \"ticks\": \"\"}}, \"type\": \"scattercarpet\"}], \"scattergeo\": [{\"marker\": {\"colorbar\": {\"outlinewidth\": 0, \"ticks\": \"\"}}, \"type\": \"scattergeo\"}], \"scattergl\": [{\"marker\": {\"colorbar\": {\"outlinewidth\": 0, \"ticks\": \"\"}}, \"type\": \"scattergl\"}], \"scattermapbox\": [{\"marker\": {\"colorbar\": {\"outlinewidth\": 0, \"ticks\": \"\"}}, \"type\": \"scattermapbox\"}], \"scatterpolar\": [{\"marker\": {\"colorbar\": {\"outlinewidth\": 0, \"ticks\": \"\"}}, \"type\": \"scatterpolar\"}], \"scatterpolargl\": [{\"marker\": {\"colorbar\": {\"outlinewidth\": 0, \"ticks\": \"\"}}, \"type\": \"scatterpolargl\"}], \"scatterternary\": [{\"marker\": {\"colorbar\": {\"outlinewidth\": 0, \"ticks\": \"\"}}, \"type\": \"scatterternary\"}], \"surface\": [{\"colorbar\": {\"outlinewidth\": 0, \"ticks\": \"\"}, \"colorscale\": [[0.0, \"#0d0887\"], [0.1111111111111111, \"#46039f\"], [0.2222222222222222, \"#7201a8\"], [0.3333333333333333, \"#9c179e\"], [0.4444444444444444, \"#bd3786\"], [0.5555555555555556, \"#d8576b\"], [0.6666666666666666, \"#ed7953\"], [0.7777777777777778, \"#fb9f3a\"], [0.8888888888888888, \"#fdca26\"], [1.0, \"#f0f921\"]], \"type\": \"surface\"}], \"table\": [{\"cells\": {\"fill\": {\"color\": \"#EBF0F8\"}, \"line\": {\"color\": \"white\"}}, \"header\": {\"fill\": {\"color\": \"#C8D4E3\"}, \"line\": {\"color\": \"white\"}}, \"type\": \"table\"}]}, \"layout\": {\"annotationdefaults\": {\"arrowcolor\": \"#2a3f5f\", \"arrowhead\": 0, \"arrowwidth\": 1}, \"colorscale\": {\"diverging\": [[0, \"#8e0152\"], [0.1, \"#c51b7d\"], [0.2, \"#de77ae\"], [0.3, \"#f1b6da\"], [0.4, \"#fde0ef\"], [0.5, \"#f7f7f7\"], [0.6, \"#e6f5d0\"], [0.7, \"#b8e186\"], [0.8, \"#7fbc41\"], [0.9, \"#4d9221\"], [1, \"#276419\"]], \"sequential\": [[0.0, \"#0d0887\"], [0.1111111111111111, \"#46039f\"], [0.2222222222222222, \"#7201a8\"], [0.3333333333333333, \"#9c179e\"], [0.4444444444444444, \"#bd3786\"], [0.5555555555555556, \"#d8576b\"], [0.6666666666666666, \"#ed7953\"], [0.7777777777777778, \"#fb9f3a\"], [0.8888888888888888, \"#fdca26\"], [1.0, \"#f0f921\"]], \"sequentialminus\": [[0.0, \"#0d0887\"], [0.1111111111111111, \"#46039f\"], [0.2222222222222222, \"#7201a8\"], [0.3333333333333333, \"#9c179e\"], [0.4444444444444444, \"#bd3786\"], [0.5555555555555556, \"#d8576b\"], [0.6666666666666666, \"#ed7953\"], [0.7777777777777778, \"#fb9f3a\"], [0.8888888888888888, \"#fdca26\"], [1.0, \"#f0f921\"]]}, \"colorway\": [\"#636efa\", \"#EF553B\", \"#00cc96\", \"#ab63fa\", \"#FFA15A\", \"#19d3f3\", \"#FF6692\", \"#B6E880\", \"#FF97FF\", \"#FECB52\"], \"font\": {\"color\": \"#2a3f5f\"}, \"geo\": {\"bgcolor\": \"white\", \"lakecolor\": \"white\", \"landcolor\": \"#E5ECF6\", \"showlakes\": true, \"showland\": true, \"subunitcolor\": \"white\"}, \"hoverlabel\": {\"align\": \"left\"}, \"hovermode\": \"closest\", \"mapbox\": {\"style\": \"light\"}, \"paper_bgcolor\": \"white\", \"plot_bgcolor\": \"#E5ECF6\", \"polar\": {\"angularaxis\": {\"gridcolor\": \"white\", \"linecolor\": \"white\", \"ticks\": \"\"}, \"bgcolor\": \"#E5ECF6\", \"radialaxis\": {\"gridcolor\": \"white\", \"linecolor\": \"white\", \"ticks\": \"\"}}, \"scene\": {\"xaxis\": {\"backgroundcolor\": \"#E5ECF6\", \"gridcolor\": \"white\", \"gridwidth\": 2, \"linecolor\": \"white\", \"showbackground\": true, \"ticks\": \"\", \"zerolinecolor\": \"white\"}, \"yaxis\": {\"backgroundcolor\": \"#E5ECF6\", \"gridcolor\": \"white\", \"gridwidth\": 2, \"linecolor\": \"white\", \"showbackground\": true, \"ticks\": \"\", \"zerolinecolor\": \"white\"}, \"zaxis\": {\"backgroundcolor\": \"#E5ECF6\", \"gridcolor\": \"white\", \"gridwidth\": 2, \"linecolor\": \"white\", \"showbackground\": true, \"ticks\": \"\", \"zerolinecolor\": \"white\"}}, \"shapedefaults\": {\"line\": {\"color\": \"#2a3f5f\"}}, \"ternary\": {\"aaxis\": {\"gridcolor\": \"white\", \"linecolor\": \"white\", \"ticks\": \"\"}, \"baxis\": {\"gridcolor\": \"white\", \"linecolor\": \"white\", \"ticks\": \"\"}, \"bgcolor\": \"#E5ECF6\", \"caxis\": {\"gridcolor\": \"white\", \"linecolor\": \"white\", \"ticks\": \"\"}}, \"title\": {\"x\": 0.05}, \"xaxis\": {\"automargin\": true, \"gridcolor\": \"white\", \"linecolor\": \"white\", \"ticks\": \"\", \"zerolinecolor\": \"white\", \"zerolinewidth\": 2}, \"yaxis\": {\"automargin\": true, \"gridcolor\": \"white\", \"linecolor\": \"white\", \"ticks\": \"\", \"zerolinecolor\": \"white\", \"zerolinewidth\": 2}}}, \"title\": {\"text\": \"H-Clustering -Abstracts+Titles - Cumulative Development of fields: Docs 1990-2004 to 1990-2018 : Enhanced number of clusters  - pow 1 - thresh 0.5\"}, \"width\": 1500},\n",
       "                        {\"responsive\": true}\n",
       "                    ).then(function(){\n",
       "                            \n",
       "var gd = document.getElementById('dac82ca6-d44b-4717-a147-68d2c6b95be8');\n",
       "var x = new MutationObserver(function (mutations, observer) {{\n",
       "        var display = window.getComputedStyle(gd).display;\n",
       "        if (!display || display === 'none') {{\n",
       "            console.log([gd, 'removed!']);\n",
       "            Plotly.purge(gd);\n",
       "            observer.disconnect();\n",
       "        }}\n",
       "}});\n",
       "\n",
       "// Listen for the removal of the full notebook cells\n",
       "var notebookContainer = gd.closest('#notebook-container');\n",
       "if (notebookContainer) {{\n",
       "    x.observe(notebookContainer, {childList: true});\n",
       "}}\n",
       "\n",
       "// Listen for the clearing of the current output cell\n",
       "var outputEl = gd.closest('.output');\n",
       "if (outputEl) {{\n",
       "    x.observe(outputEl, {childList: true});\n",
       "}}\n",
       "\n",
       "                        })\n",
       "                };\n",
       "                });\n",
       "            </script>\n",
       "        </div>"
      ]
     },
     "metadata": {},
     "output_type": "display_data"
    }
   ],
   "source": [
    "fig = go.Figure(data=[go.Sankey(\n",
    "    node = dict(\n",
    "      pad = 15,\n",
    "      thickness = 10,\n",
    "      line = dict(color = \"black\", width = 0),\n",
    "      label = labels_all_new,\n",
    "      color = colors_all #\"blue\"\n",
    "    ),\n",
    "    link = dict(\n",
    "      source = similarity_source,# 1, 0, 2, 3, 3], # indices correspond to labels, eg A1, A2, A2, B1, ...\n",
    "      target = similarity_target,# 3, 3, 4, 4, 5],\n",
    "      value = similarity_value,# 4, 2, 8, 4, 2],\n",
    "      color = final_colors_links #\"grey\"\n",
    "  ))])\n",
    "\n",
    "fig.update_layout(title_text=\"H-Clustering -\"+data_type+\" Development of fields: Docs 1990-2004 to \"+last_period_start+\"-2018 : Enhanced number of clusters  - pow \"+str(power)+\" - thresh \"+str(link_strength_threshold), font_size=11)\n",
    "fig.update_layout(\n",
    "    autosize=False,\n",
    "    width=1500,\n",
    "    height=900)\n",
    "fig.show()"
   ]
  },
  {
   "cell_type": "code",
   "execution_count": null,
   "metadata": {},
   "outputs": [],
   "source": []
  },
  {
   "cell_type": "code",
   "execution_count": null,
   "metadata": {},
   "outputs": [],
   "source": []
  }
 ],
 "metadata": {
  "kernelspec": {
   "display_name": "Python 3",
   "language": "python",
   "name": "python3"
  },
  "language_info": {
   "codemirror_mode": {
    "name": "ipython",
    "version": 3
   },
   "file_extension": ".py",
   "mimetype": "text/x-python",
   "name": "python",
   "nbconvert_exporter": "python",
   "pygments_lexer": "ipython3",
   "version": "3.7.4"
  }
 },
 "nbformat": 4,
 "nbformat_minor": 2
}
