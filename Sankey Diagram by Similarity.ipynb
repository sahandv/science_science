{
 "cells": [
  {
   "cell_type": "markdown",
   "metadata": {},
   "source": [
    "# Sankey Diagram by Similarity Scores\n"
   ]
  },
  {
   "cell_type": "markdown",
   "metadata": {},
   "source": [
    "### Import Libs"
   ]
  },
  {
   "cell_type": "code",
   "execution_count": 1,
   "metadata": {},
   "outputs": [
    {
     "name": "stdout",
     "output_type": "stream",
     "text": [
      "env name: sciosci\n"
     ]
    }
   ],
   "source": [
    "import os\n",
    "print('env name:',os.environ['CONDA_DEFAULT_ENV'])\n",
    "\n",
    "import plotly.graph_objects as go\n",
    "from skimage import io\n",
    "import urllib, json\n",
    "import pandas as pd\n",
    "import numpy as np\n",
    "from sciosci.assets import advanced_assets as aa\n",
    "from tqdm import tqdm\n",
    "import re"
   ]
  },
  {
   "cell_type": "markdown",
   "metadata": {},
   "source": [
    "### Initialize"
   ]
  },
  {
   "cell_type": "code",
   "execution_count": 53,
   "metadata": {},
   "outputs": [],
   "source": [
    "random_link_colors = False\n",
    "multi_year_similarity = True\n",
    "wiki_labels = None #'application'#None\n",
    "manual_labels = False\n",
    "num_as_label = False\n",
    "comment = ''\n",
    "clustering_method = 'agglomerative ward '\n",
    "link_strength_threshold = 0.975\n",
    "link_strength_threshold_2 = 0.99999\n",
    "power = 1 # value power for increasing the differences "
   ]
  },
  {
   "cell_type": "markdown",
   "metadata": {},
   "source": [
    "#### Separated years"
   ]
  },
  {
   "cell_type": "code",
   "execution_count": null,
   "metadata": {},
   "outputs": [],
   "source": [
    "last_period_start = \"2017\"\n",
    "data_type = \"Author Keywords - Abstract Words \"\n",
    "label_source = ''\n",
    "year_periods_topics = [\"8\",\"8\",\"12\",\"12\",\"16\",\"16\"]  #[\"7\",\"7\",\"9\",\"13\",\"13\",\"17\"]  \n",
    "# Sorted periods' topic numbers from new to old from left to right\n",
    "year_periods = [\"1990-2004\",\"2005-2007\",\"2008-2010\",\"2011-2013\",\"2014-2016\",\"2017-2018\"] \n",
    "# Sorted year periods from new to old from left to right\n",
    "data_directory = '/home/sahand/GoogleDrive/Data/Word Clustering/50D/'"
   ]
  },
  {
   "cell_type": "markdown",
   "metadata": {},
   "source": [
    "#### cumulative years"
   ]
  },
  {
   "cell_type": "code",
   "execution_count": null,
   "metadata": {},
   "outputs": [],
   "source": [
    "last_period_start = \"1990\"\n",
    "data_type = \"Author Keywords - Cumulative\"\n",
    "year_periods_topics = [\"7\",\"8\",\"10\",\"10\",\"10\",\"11\"]  \n",
    "# Sorted periods' topic numbers from new to old from left to right\n",
    "year_periods = [\"1990-2004\",\"1990-2007\",\"1990-2010\",\"1990-2013\",\"1990-2016\",\"1990-2018\"] \n",
    "# Sorted year periods from new to old from left to right\n",
    "data_directory = 'data/clusters/FastText/15D/10 dim/'"
   ]
  },
  {
   "cell_type": "markdown",
   "metadata": {},
   "source": [
    "#### cumulative documents"
   ]
  },
  {
   "cell_type": "code",
   "execution_count": null,
   "metadata": {},
   "outputs": [],
   "source": [
    "last_period_start = \"1990\"\n",
    "label_source = 'topics/'#authkeyword/'\n",
    "data_type = \"Abstracts+Titles - Cumulative\"\n",
    "year_periods_topics = [\"9\",\"10\",\"11\",\"14\",\"15\",\"15\"]\n",
    "# Sorted periods' topic numbers from new to old from left to right\n",
    "year_periods = [\"1990-2004\",\"1990-2007\",\"1990-2010\",\"1990-2013\",\"1990-2016\",\"1990-2018\"] \n",
    "# Sorted year periods from new to old from left to right\n",
    "data_directory = '/home/sahand/GoogleDrive/Data/FastText doc clusters - SIP/50D/'\n",
    "#'data/clusters/FastText/50D/'"
   ]
  },
  {
   "cell_type": "markdown",
   "metadata": {},
   "source": [
    "#### Separated documents"
   ]
  },
  {
   "cell_type": "code",
   "execution_count": 37,
   "metadata": {},
   "outputs": [],
   "source": [
    "last_period_start = \"2017\"\n",
    "label_source = ''#authkeyword/'\n",
    "data_type = \"Abstracts+Titles - Separated\"\n",
    "year_periods_topics = [\"7\",\"8\",\"7\",\"7\",\"8\",\"9\",\"11\",\"11\",\"11\"]\n",
    "# Sorted periods' topic numbers from new to old from left to right\n",
    "year_periods = [\"1900-1989\",\"1990-1994\",\"1995-1999\",\"2000-2004\",\"2005-2007\",\"2008-2010\",\"2011-2013\",\"2014-2016\",\"2017-2019\"] \n",
    "# Sorted year periods from new to old from left to right\n",
    "data_directory = '/home/sahand/GoogleDrive/Data/Document Clustering/50D 4k/'\n",
    "#'data/clusters/FastText/50D/'"
   ]
  },
  {
   "cell_type": "code",
   "execution_count": 60,
   "metadata": {},
   "outputs": [],
   "source": [
    "last_period_start = \"2017\"\n",
    "label_source = ''#authkeyword/'\n",
    "data_type = \"Abstracts+Titles - Separated\"\n",
    "year_periods_topics = [\"10\",\"10\",\"10\",\"9\",\"10\",\"11\"]\n",
    "# Sorted periods' topic numbers from new to old from left to right\n",
    "year_periods = [\"1990-2004\",\"2005-2007\",\"2008-2010\",\"2011-2013\",\"2014-2016\",\"2017-2018\"] \n",
    "# Sorted year periods from new to old from left to right\n",
    "data_directory = '/home/sahand/GoogleDrive/Data/Document Clustering/50D May 23/'\n",
    "#'data/clusters/FastText/50D/'"
   ]
  },
  {
   "cell_type": "markdown",
   "metadata": {},
   "source": [
    "### Read & Prepare Data"
   ]
  },
  {
   "cell_type": "markdown",
   "metadata": {},
   "source": [
    "Generate nodes and links"
   ]
  },
  {
   "cell_type": "code",
   "execution_count": 10,
   "metadata": {},
   "outputs": [
    {
     "name": "stdout",
     "output_type": "stream",
     "text": [
      "Node colors are:\n"
     ]
    },
    {
     "data": {
      "image/png": "[encoded data removed]",
      "text/plain": [
       "<Figure size 432x288 with 1 Axes>"
      ]
     },
     "metadata": {
      "needs_background": "light"
     },
     "output_type": "display_data"
    }
   ],
   "source": [
    "node_colors_palette = aa.color_palette_maker(len(year_periods_topics),alpha=0.8)\n",
    "node_colors = ['rgba('+str(x).replace('[','').replace(']','')+')' for x in node_colors_palette]\n",
    "link_colors = [x[:-4]+'0.4)' for x in node_colors]\n",
    "node_colors_palette = np.array([node_colors_palette])\n",
    "print(\"Node colors are:\")\n",
    "io.imshow(node_colors_palette)\n",
    "labels_numeric_dict = {per:[] for per in year_periods}\n"
   ]
  },
  {
   "cell_type": "code",
   "execution_count": 61,
   "metadata": {},
   "outputs": [],
   "source": [
    "def color_alternator(rgba_colors,up_thresh = 0.8, down_thresh = 0.2, color_part = 2):\n",
    "    new_colors = []\n",
    "    color_s = rgba_colors[0].split(', ')\n",
    "    cell = float(rgba_colors[0].split(', ')[color_part])\n",
    "    if cell > 0.5:\n",
    "        portion = (cell-down_thresh)/len(rgba_colors)\n",
    "    else:\n",
    "        portion = (up_thresh-cell)/len(rgba_colors)\n",
    "\n",
    "    for idx,color in enumerate(topic_colors):\n",
    "        if cell > 0.5:\n",
    "            new_cell = cell-(idx+1)*portion\n",
    "        else:\n",
    "            new_cell = cell+(idx+1)*portion\n",
    "\n",
    "        color_s[color_part] = str(new_cell)\n",
    "        new_colors.append(', '.join(color_s))\n",
    "    return new_colors"
   ]
  },
  {
   "cell_type": "markdown",
   "metadata": {},
   "source": [
    "### Process"
   ]
  },
  {
   "cell_type": "markdown",
   "metadata": {},
   "source": [
    "#### Multi year similarity"
   ]
  },
  {
   "cell_type": "code",
   "execution_count": 62,
   "metadata": {},
   "outputs": [
    {
     "data": {
      "text/plain": [
       "[[0, 1, 2, 3, 4, 5, 6, 7, 8, 9],\n",
       " [10, 11, 12, 13, 14, 15, 16, 17, 18, 19],\n",
       " [20, 21, 22, 23, 24, 25, 26, 27, 28, 29],\n",
       " [30, 31, 32, 33, 34, 35, 36, 37, 38],\n",
       " [39, 40, 41, 42, 43, 44, 45, 46, 47, 48],\n",
       " [49, 50, 51, 52, 53, 54, 55, 56, 57, 58, 59]]"
      ]
     },
     "execution_count": 62,
     "metadata": {},
     "output_type": "execute_result"
    }
   ],
   "source": [
    "# Give unique ID to all clusters\n",
    "total = 0\n",
    "cluster_ids = []\n",
    "for period_index, period in enumerate(year_periods):\n",
    "    cluster_ids.append(list(range(total,int(year_periods_topics[period_index])+total)))\n",
    "    total = total + int(year_periods_topics[period_index])\n",
    "cluster_ids"
   ]
  },
  {
   "cell_type": "code",
   "execution_count": 63,
   "metadata": {},
   "outputs": [
    {
     "name": "stderr",
     "output_type": "stream",
     "text": [
      "100%|██████████| 10/10 [00:00<00:00, 1526.42it/s]\n",
      "100%|██████████| 10/10 [00:00<00:00, 2342.53it/s]\n",
      "100%|██████████| 10/10 [00:00<00:00, 610.01it/s]\n",
      "100%|██████████| 9/9 [00:00<00:00, 1814.06it/s]\n",
      "100%|██████████| 10/10 [00:00<00:00, 1765.95it/s]\n",
      "100%|██████████| 11/11 [00:00<00:00, 1362.55it/s]"
     ]
    },
    {
     "name": "stdout",
     "output_type": "stream",
     "text": [
      "1990-2004 10 0\n",
      "2005-2007 10 10\n",
      "2008-2010 10 20\n",
      "2011-2013 9 30\n",
      "2014-2016 10 39\n",
      "2017-2018 11 49\n"
     ]
    },
    {
     "name": "stderr",
     "output_type": "stream",
     "text": [
      "\n"
     ]
    }
   ],
   "source": [
    "labels_all = []\n",
    "labels_all_numeric = []\n",
    "labels_all_numeric_sequential = []\n",
    "colors_all = []\n",
    "colors_all_links = []\n",
    "\n",
    "similarity_source = []\n",
    "similarity_target = []\n",
    "similarity_value = []\n",
    "\n",
    "if multi_year_similarity is True:\n",
    "    for period_index, period in enumerate(year_periods):\n",
    "        print(period,year_periods_topics[period_index],cluster_ids[period_index][0])\n",
    "\n",
    "        terms = pd.read_csv(data_directory+'term_cluster-tables/'+label_source+period+\" \"+year_periods_topics[period_index]+\" - term_cluster.csv\").fillna('')\n",
    "        scores = pd.read_csv(data_directory+'term_cluster-tables/'+label_source+period+\" \"+year_periods_topics[period_index]+\" - term_score.csv\").fillna(0)\n",
    "\n",
    "        \n",
    "        labels_this_period = aa.topic_label_maker(terms,scores,ratio=10, prefix=period.split('-')[1][-2:]+' - ',limit=5)\n",
    "        \n",
    "        if num_as_label==True:\n",
    "            labels_this_period = list(range(int(year_periods_topics[period_index])))\n",
    "            labels_this_period = [period+' - '+str(x) for x in labels_this_period]\n",
    "        \n",
    "        if wiki_labels==True:\n",
    "            wiki_file_name = data_directory+wiki_labels+' estimation/'+'top2 '+period+'_'+year_periods_topics[period_index]+'- AI Wiki Classifications.csv'\n",
    "            wiki_labels_df = pd.read_csv(wiki_file_name)\n",
    "            labels_this_period = wiki_labels_df.label.values.tolist()\n",
    "            labels_this_period = [period[-2:]+' - '+str(x) for x in labels_this_period]\n",
    "\n",
    "        if manual_labels==True:\n",
    "            wiki_file_name = data_directory+'labels/manual/top2 '+period+'_'+year_periods_topics[period_index]+'- AI Wiki Classifications.csv'\n",
    "            wiki_labels_df = pd.read_csv(wiki_file_name)\n",
    "            labels_this_period = wiki_labels_df.label.values.tolist()\n",
    "            labels_this_period = [period[-2:]+' - '+str(x) for x in labels_this_period]\n",
    "            \n",
    "        labels_all = labels_all + labels_this_period\n",
    "        labels_all_numeric = labels_all_numeric + [str(x) for x in list(range(0,len(labels_this_period)))]\n",
    "        \n",
    "        topic_colors = [node_colors[period_index]] * len(labels_this_period)\n",
    "        topic_colors = color_alternator(topic_colors,up_thresh = 0.99, down_thresh = 0.01, color_part = 2)\n",
    "        colors_all = colors_all + topic_colors\n",
    "        \n",
    "        topic_link_colors = [link_colors[period_index]] * len(labels_this_period)\n",
    "        topic_link_colors = color_alternator(topic_link_colors,up_thresh = 0.99, down_thresh = 0.01, color_part = 2)\n",
    "        colors_all_links = colors_all_links + topic_link_colors\n",
    "        \n",
    "    #    similarity_scores = None\n",
    "        if period_index < len(year_periods) - 1:\n",
    "            similarity_scores = pd.read_csv(data_directory+'similarity/'+clustering_method+year_periods[period_index]+\"_\"+year_periods_topics[period_index]+\"-\"+year_periods[period_index+1]+\"_\"+year_periods_topics[period_index+1]+\".csv\")\n",
    "    #        terms_previous_period = pd.read_csv(data_directory+\"cumulative/\"+year_periods[period_index+1]+\"_\"+year_periods_topics[period_index+1]+\"/top_99-percentile_keywords_terms-spaced.csv\")\n",
    "\n",
    "            # flatten the similarity scores\n",
    "            for period_cluster_no,row in similarity_scores.iterrows(): # repeat to n_clusters of A\n",
    "\n",
    "                elem_num = len(row.values.tolist()) # number of columns in similarity file\n",
    "                for idx in range(1,elem_num,2):     # repeat to n_clusters of B\n",
    "                    if row.values.tolist()[idx+1]**power > link_strength_threshold:\n",
    "                        similarity_source.append(int(row.values.tolist()[0]) + cluster_ids[period_index][0])\n",
    "                        similarity_target.append(int(row.values.tolist()[idx]) + cluster_ids[period_index+1][0])\n",
    "                        similarity_value.append(row.values.tolist()[idx+1]**power)\n",
    "                \n",
    "        if period_index < len(year_periods) - 2:\n",
    "            try:\n",
    "                similarity_scores = pd.read_csv(data_directory+'similarity/'+clustering_method+year_periods[period_index]+\"_\"+year_periods_topics[period_index]+\"-\"+year_periods[period_index+2]+\"_\"+year_periods_topics[period_index+2]+\".csv\")\n",
    "    #        terms_previous_period = pd.read_csv(data_directory+\"cumulative/\"+year_periods[period_index+1]+\"_\"+year_periods_topics[period_index+1]+\"/top_99-percentile_keywords_terms-spaced.csv\")\n",
    "            except:\n",
    "                print(\"\\nThere is no similarity record at \",data_directory+'similarity/'+clustering_method+year_periods[period_index]+\"_\"+year_periods_topics[period_index]+\"-\"+year_periods[period_index+2]+\"_\"+year_periods_topics[period_index+2]+\".csv\")\n",
    "                similarity_scores = None\n",
    "                continue\n",
    "                \n",
    "            for period_cluster_no,row in similarity_scores.iterrows(): # repeat to n_clusters of A\n",
    "\n",
    "                elem_num = len(row.values.tolist()) # number of columns in similarity file\n",
    "                for idx in range(1,elem_num,2):     # repeat to n_clusters of B\n",
    "                    if row.values.tolist()[idx+1]**power > link_strength_threshold_2:\n",
    "                        similarity_source.append(int(row.values.tolist()[0]) + cluster_ids[period_index][0])\n",
    "                        similarity_target.append(int(row.values.tolist()[idx]) + cluster_ids[period_index+2][0])\n",
    "                        similarity_value.append(row.values.tolist()[idx+1]**power)\n",
    "                \n",
    "                \n",
    "    labels_all_numeric_sequential = [str(x) for x in list(range(0,len(labels_all_numeric)))]"
   ]
  },
  {
   "cell_type": "markdown",
   "metadata": {},
   "source": [
    "### Draw"
   ]
  },
  {
   "cell_type": "markdown",
   "metadata": {},
   "source": [
    "#### Prepare links"
   ]
  },
  {
   "cell_type": "markdown",
   "metadata": {},
   "source": [
    "* For clustered colors:"
   ]
  },
  {
   "cell_type": "code",
   "execution_count": 64,
   "metadata": {},
   "outputs": [
    {
     "name": "stderr",
     "output_type": "stream",
     "text": [
      "100%|██████████| 93/93 [00:00<00:00, 43461.87it/s]\n"
     ]
    }
   ],
   "source": [
    "if random_link_colors is False:\n",
    "    final_colors_links = [colors_all_links[x] for x in similarity_source] # in similarity_source]\n",
    "    final_color_links_varied = []\n",
    "    for i,value in tqdm(enumerate(similarity_value),total=len(similarity_value)):\n",
    "        final_color_links_varied.append(final_colors_links[i].replace(', 0.4',', '+str(value/2)))\n",
    "#         print(final_color_links_varied[i])\n",
    "    final_colors_links = final_color_links_varied"
   ]
  },
  {
   "cell_type": "markdown",
   "metadata": {},
   "source": [
    "* For random colors:"
   ]
  },
  {
   "cell_type": "code",
   "execution_count": 65,
   "metadata": {},
   "outputs": [],
   "source": [
    "if random_link_colors is True:\n",
    "    final_colors_links = ['rgba('+str(x).replace('[','').replace(']','')+')' for x in aa.color_palette_maker(len(similarity_target),alpha=0.3)]"
   ]
  },
  {
   "cell_type": "markdown",
   "metadata": {},
   "source": [
    "#### Prepare labels"
   ]
  },
  {
   "cell_type": "code",
   "execution_count": 66,
   "metadata": {},
   "outputs": [
    {
     "name": "stderr",
     "output_type": "stream",
     "text": [
      "100%|██████████| 60/60 [00:00<00:00, 50778.50it/s]\n"
     ]
    }
   ],
   "source": [
    "labels_all_new = []\n",
    "for label in tqdm(labels_all):\n",
    "    label_to_split = label.split('- ')\n",
    "    label_split = label_to_split[1].split(', ')\n",
    "    label_split_new = []\n",
    "    for split in label_split:\n",
    "        if len(split)>20:\n",
    "            label_split_new.append(aa.abbreviator(split))\n",
    "        else:\n",
    "            label_split_new.append(split)\n",
    "    labels_all_new.append(label_to_split[0]+'- '+', '.join(label_split_new))\n",
    "labels_all_new = [label.replace('computer science','cs').replace('engineering','en') for label in labels_all_new]"
   ]
  },
  {
   "cell_type": "markdown",
   "metadata": {},
   "source": [
    "#### Draw"
   ]
  },
  {
   "cell_type": "code",
   "execution_count": 68,
   "metadata": {},
   "outputs": [
    {
     "data": {
      "application/vnd.plotly.v1+json": {
       "config": {
        "plotlyServerURL": "https://plot.ly"
       },
       "data": [
        {
         "link": {
          "color": [
           "rgba(0.0078125, 0.6875, 0.813109375, 0.4903275925579798)",
           "rgba(0.0078125, 0.6875, 0.813109375, 0.4878968220752496)",
           "rgba(0.0078125, 0.6875, 0.813109375, 0.4985255219244504)",
           "rgba(0.0078125, 0.6875, 0.813109375, 0.4886106870692178)",
           "rgba(0.0078125, 0.6875, 0.723875, 0.4894440968987093)",
           "rgba(0.0078125, 0.6875, 0.723875, 0.4971390100012276)",
           "rgba(0.0078125, 0.6875, 0.723875, 0.4893778190672658)",
           "rgba(0.0078125, 0.6875, 0.634640625, 0.4975106783650098)",
           "rgba(0.0078125, 0.6875, 0.634640625, 0.4902691216344954)",
           "rgba(0.0078125, 0.6875, 0.498138277760546756171875, 0.4981382777605467)",
           "rgba(0.0078125, 0.6875, 0.489307408923489856171875, 0.4893074089234898)",
           "rgba(0.0078125, 0.6875, 0.494691810258760656171875, 0.4946918102587606)",
           "rgba(0.0078125, 0.6875, 0.3669374999999999, 0.4964424173036282)",
           "rgba(0.0078125, 0.6875, 0.3669374999999999, 0.4905497080767636)",
           "rgba(0.0078125, 0.6875, 0.27770312499999994, 0.4937916577111812)",
           "rgba(0.0078125, 0.6875, 0.27770312499999994, 0.4962781605501468)",
           "rgba(0.0078125, 0.6875, 0.27770312499999994, 0.4876296322249818)",
           "rgba(0.0078125, 0.6875, 0.18846874999999996, 0.4973424837867225)",
           "rgba(0.0078125, 0.6875, 0.09923437499999999, 0.493083202784601)",
           "rgba(0.0078125, 0.6875, 0.010000000000000009, 0.4940549485101717)",
           "rgba(0.0078125, 0.6875, 0.010000000000000009, 0.490567736793447)",
           "rgba(0.0078125, 0.6875, 0.010000000000000009, 0.4940993195924117)",
           "rgba(0.6640625, 0.5703125, 0.38728125, 0.4956815781993622)",
           "rgba(0.6640625, 0.5703125, 0.38728125, 0.4968613432199385)",
           "rgba(0.6640625, 0.5703125, 0.4882170751864925425, 0.488217075186492)",
           "rgba(0.6640625, 0.5703125, 0.48796266526291965425, 0.4879626652629196)",
           "rgba(0.6640625, 0.5703125, 0.48891011807650225425, 0.4889101180765022)",
           "rgba(0.6640625, 0.5703125, 0.49260406914506825425, 0.4926040691450682)",
           "rgba(0.6640625, 0.5703125, 0.52121875, 0.4902836297764673)",
           "rgba(0.6640625, 0.5703125, 0.52121875, 0.4930407793529219)",
           "rgba(0.6640625, 0.5703125, 0.52121875, 0.4948278288447998)",
           "rgba(0.6640625, 0.5703125, 0.5881875, 0.4955758875023731)",
           "rgba(0.6640625, 0.5703125, 0.65515625, 0.4887574862332572)",
           "rgba(0.6640625, 0.5703125, 0.65515625, 0.4973295423092168)",
           "rgba(0.6640625, 0.5703125, 0.65515625, 0.48957901236516)",
           "rgba(0.6640625, 0.5703125, 0.65515625, 0.4899724969907177)",
           "rgba(0.6640625, 0.5703125, 0.7221249999999999, 0.4977016390452654)",
           "rgba(0.6640625, 0.5703125, 0.7221249999999999, 0.487624245786983)",
           "rgba(0.6640625, 0.5703125, 0.7890937499999999, 0.4960838307723889)",
           "rgba(0.6640625, 0.5703125, 0.8560625, 0.4927194125788509)",
           "rgba(0.6640625, 0.5703125, 0.92303125, 0.49358069424448753)",
           "rgba(0.6640625, 0.5703125, 0.99, 0.4936575150638648)",
           "rgba(0.07421875, 0.23046875, 0.493441105037418982203125, 0.4934411050374189)",
           "rgba(0.07421875, 0.23046875, 0.495949015851263482203125, 0.4959490158512634)",
           "rgba(0.07421875, 0.23046875, 0.538625, 0.49547289583491294)",
           "rgba(0.07421875, 0.23046875, 0.538625, 0.492820551080352)",
           "rgba(0.07421875, 0.23046875, 0.595046875, 0.4894156070243489)",
           "rgba(0.07421875, 0.23046875, 0.65146875, 0.4970292877281315)",
           "rgba(0.07421875, 0.23046875, 0.707890625, 0.4944984628004488)",
           "rgba(0.07421875, 0.23046875, 0.707890625, 0.4876844945695524)",
           "rgba(0.07421875, 0.23046875, 0.7643125, 0.4947496560174204)",
           "rgba(0.07421875, 0.23046875, 0.7643125, 0.494646949694361)",
           "rgba(0.07421875, 0.23046875, 0.87715625, 0.4932702688744115)",
           "rgba(0.07421875, 0.23046875, 0.9335781249999999, 0.4980378649281462)",
           "rgba(0.07421875, 0.23046875, 0.99, 0.4956406525519028)",
           "rgba(0.6796875, 0.4987536217104796609375, 0.13430555555555557, 0.4987536217104796)",
           "rgba(0.6796875, 0.4915956257928763609375, 0.2412673611111111, 0.4915956257928763)",
           "rgba(0.6796875, 0.4891139404545757609375, 0.2412673611111111, 0.4891139404545757)",
           "rgba(0.6796875, 0.4970555804703788609375, 0.2412673611111111, 0.4970555804703788)",
           "rgba(0.6796875, 0.4929316177481254609375, 0.34822916666666665, 0.4929316177481254)",
           "rgba(0.6796875, 0.499373301218978609375, 0.34822916666666665, 0.499373301218978)",
           "rgba(0.6796875, 0.4890525703968386609375, 0.4890525703968386551909722222222, 0.4890525703968386)",
           "rgba(0.6796875, 0.491831903746838609375, 0.491831903746838551909722222222, 0.491831903746838)",
           "rgba(0.6796875, 0.4961836184110106609375, 0.5621527777777777, 0.4961836184110106)",
           "rgba(0.6796875, 0.4941722736990038609375, 0.6691145833333333, 0.4941722736990038)",
           "rgba(0.6796875, 0.4983097785351784609375, 0.6691145833333333, 0.4983097785351784)",
           "rgba(0.6796875, 0.4877214302817612609375, 0.6691145833333333, 0.4877214302817612)",
           "rgba(0.6796875, 0.4954018872003434609375, 0.7760763888888889, 0.4954018872003434)",
           "rgba(0.6796875, 0.4961484137131508609375, 0.7760763888888889, 0.4961484137131508)",
           "rgba(0.6796875, 0.4889116922183228609375, 0.8830381944444444, 0.4889116922183228)",
           "rgba(0.6796875, 0.4928943240301389609375, 0.8830381944444444, 0.4928943240301389)",
           "rgba(0.6796875, 0.4880816919341653609375, 0.8830381944444444, 0.4880816919341653)",
           "rgba(0.6796875, 0.4952636977397358609375, 0.99, 0.4952636977397358)",
           "rgba(0.64453125, 0.02734375, 0.510765625, 0.4890813956401546)",
           "rgba(0.64453125, 0.02734375, 0.510765625, 0.4986432126391761)",
           "rgba(0.64453125, 0.02734375, 0.49145555794509655125, 0.491455557945096)",
           "rgba(0.64453125, 0.02734375, 0.49052002947079555125, 0.490520029470795)",
           "rgba(0.64453125, 0.02734375, 0.496060261472574855125, 0.4960602614725748)",
           "rgba(0.64453125, 0.02734375, 0.399484375, 0.4933604469554932)",
           "rgba(0.64453125, 0.02734375, 0.399484375, 0.4967437211507026)",
           "rgba(0.64453125, 0.02734375, 0.34384375, 0.495658970929818)",
           "rgba(0.64453125, 0.02734375, 0.34384375, 0.4898688297821606)",
           "rgba(0.64453125, 0.02734375, 0.34384375, 0.4940310719268498)",
           "rgba(0.64453125, 0.02734375, 0.288203125, 0.4949656972651636)",
           "rgba(0.64453125, 0.02734375, 0.288203125, 0.49013602847505)",
           "rgba(0.64453125, 0.02734375, 0.288203125, 0.4876000953072221)",
           "rgba(0.64453125, 0.02734375, 0.2325625, 0.4971997906435596)",
           "rgba(0.64453125, 0.02734375, 0.176921875, 0.4880693693304826)",
           "rgba(0.64453125, 0.02734375, 0.176921875, 0.4946707840547268)",
           "rgba(0.64453125, 0.02734375, 0.12128125000000001, 0.4946650541345362)",
           "rgba(0.64453125, 0.02734375, 0.06564062500000001, 0.4974504739601818)",
           "rgba(0.64453125, 0.02734375, 0.06564062500000001, 0.4976453011054288)",
           "rgba(0.64453125, 0.02734375, 0.010000000000000009, 0.4878327439334438)"
          ],
          "source": [
           0,
           0,
           0,
           0,
           1,
           1,
           1,
           2,
           2,
           4,
           4,
           4,
           5,
           5,
           6,
           6,
           6,
           7,
           8,
           9,
           9,
           9,
           10,
           10,
           11,
           11,
           11,
           11,
           12,
           12,
           12,
           13,
           14,
           14,
           14,
           14,
           15,
           15,
           16,
           17,
           18,
           19,
           20,
           20,
           21,
           21,
           22,
           23,
           24,
           24,
           25,
           25,
           27,
           28,
           29,
           30,
           31,
           31,
           31,
           32,
           32,
           33,
           33,
           34,
           35,
           35,
           35,
           36,
           36,
           37,
           37,
           37,
           38,
           39,
           39,
           40,
           40,
           40,
           41,
           41,
           42,
           42,
           42,
           43,
           43,
           43,
           44,
           45,
           45,
           46,
           47,
           47,
           48
          ],
          "target": [
           10,
           11,
           12,
           14,
           11,
           14,
           15,
           13,
           15,
           10,
           12,
           17,
           11,
           15,
           10,
           12,
           14,
           16,
           18,
           14,
           15,
           19,
           25,
           28,
           20,
           23,
           24,
           29,
           22,
           23,
           25,
           21,
           21,
           23,
           24,
           27,
           20,
           21,
           27,
           28,
           26,
           24,
           31,
           36,
           37,
           38,
           35,
           35,
           33,
           36,
           32,
           35,
           30,
           32,
           31,
           45,
           39,
           40,
           43,
           42,
           47,
           40,
           41,
           46,
           41,
           42,
           47,
           39,
           40,
           40,
           44,
           48,
           48,
           52,
           54,
           53,
           54,
           57,
           50,
           53,
           49,
           51,
           53,
           50,
           53,
           54,
           59,
           51,
           58,
           55,
           49,
           56,
           57
          ],
          "value": [
           0.9806551851159596,
           0.9757936441504992,
           0.9970510438489008,
           0.9772213741384356,
           0.9788881937974186,
           0.9942780200024552,
           0.9787556381345316,
           0.9950213567300196,
           0.9805382432689908,
           0.9962765555210934,
           0.9786148178469796,
           0.9893836205175212,
           0.9928848346072564,
           0.9810994161535272,
           0.9875833154223624,
           0.9925563211002936,
           0.9752592644499636,
           0.994684967573445,
           0.986166405569202,
           0.9881098970203434,
           0.981135473586894,
           0.9881986391848234,
           0.9913631563987244,
           0.993722686439877,
           0.976434150372984,
           0.9759253305258392,
           0.9778202361530044,
           0.9852081382901364,
           0.9805672595529346,
           0.9860815587058438,
           0.9896556576895996,
           0.9911517750047462,
           0.9775149724665144,
           0.9946590846184336,
           0.97915802473032,
           0.9799449939814354,
           0.9954032780905308,
           0.975248491573966,
           0.9921676615447778,
           0.9854388251577018,
           0.9871613884889751,
           0.9873150301277296,
           0.9868822100748378,
           0.9918980317025268,
           0.9909457916698259,
           0.985641102160704,
           0.9788312140486978,
           0.994058575456263,
           0.9889969256008976,
           0.9753689891391047,
           0.9894993120348408,
           0.989293899388722,
           0.986540537748823,
           0.9960757298562924,
           0.9912813051038056,
           0.9975072434209592,
           0.9831912515857526,
           0.9782278809091514,
           0.9941111609407576,
           0.9858632354962508,
           0.998746602437956,
           0.9781051407936772,
           0.983663807493676,
           0.9923672368220212,
           0.9883445473980076,
           0.9966195570703568,
           0.9754428605635224,
           0.9908037744006868,
           0.9922968274263017,
           0.9778233844366456,
           0.9857886480602778,
           0.9761633838683306,
           0.9905273954794716,
           0.9781627912803093,
           0.9972864252783522,
           0.982911115890192,
           0.98104005894159,
           0.9921205229451496,
           0.9867208939109864,
           0.9934874423014052,
           0.991317941859636,
           0.9797376595643212,
           0.9880621438536996,
           0.9899313945303272,
           0.9802720569501,
           0.9752001906144442,
           0.9943995812871192,
           0.9761387386609652,
           0.9893415681094536,
           0.9893301082690724,
           0.9949009479203637,
           0.9952906022108576,
           0.9756654878668876
          ]
         },
         "node": {
          "color": [
           "rgba(0.0078125, 0.6875, 0.813109375, 0.8)",
           "rgba(0.0078125, 0.6875, 0.723875, 0.8)",
           "rgba(0.0078125, 0.6875, 0.634640625, 0.8)",
           "rgba(0.0078125, 0.6875, 0.54540625, 0.8)",
           "rgba(0.0078125, 0.6875, 0.456171875, 0.8)",
           "rgba(0.0078125, 0.6875, 0.3669374999999999, 0.8)",
           "rgba(0.0078125, 0.6875, 0.27770312499999994, 0.8)",
           "rgba(0.0078125, 0.6875, 0.18846874999999996, 0.8)",
           "rgba(0.0078125, 0.6875, 0.09923437499999999, 0.8)",
           "rgba(0.0078125, 0.6875, 0.010000000000000009, 0.8)",
           "rgba(0.6640625, 0.5703125, 0.38728125, 0.8)",
           "rgba(0.6640625, 0.5703125, 0.45425, 0.8)",
           "rgba(0.6640625, 0.5703125, 0.52121875, 0.8)",
           "rgba(0.6640625, 0.5703125, 0.5881875, 0.8)",
           "rgba(0.6640625, 0.5703125, 0.65515625, 0.8)",
           "rgba(0.6640625, 0.5703125, 0.7221249999999999, 0.8)",
           "rgba(0.6640625, 0.5703125, 0.7890937499999999, 0.8)",
           "rgba(0.6640625, 0.5703125, 0.8560625, 0.8)",
           "rgba(0.6640625, 0.5703125, 0.92303125, 0.8)",
           "rgba(0.6640625, 0.5703125, 0.99, 0.8)",
           "rgba(0.07421875, 0.23046875, 0.482203125, 0.8)",
           "rgba(0.07421875, 0.23046875, 0.538625, 0.8)",
           "rgba(0.07421875, 0.23046875, 0.595046875, 0.8)",
           "rgba(0.07421875, 0.23046875, 0.65146875, 0.8)",
           "rgba(0.07421875, 0.23046875, 0.707890625, 0.8)",
           "rgba(0.07421875, 0.23046875, 0.7643125, 0.8)",
           "rgba(0.07421875, 0.23046875, 0.820734375, 0.8)",
           "rgba(0.07421875, 0.23046875, 0.87715625, 0.8)",
           "rgba(0.07421875, 0.23046875, 0.9335781249999999, 0.8)",
           "rgba(0.07421875, 0.23046875, 0.99, 0.8)",
           "rgba(0.6796875, 0.4609375, 0.13430555555555557, 0.8)",
           "rgba(0.6796875, 0.4609375, 0.2412673611111111, 0.8)",
           "rgba(0.6796875, 0.4609375, 0.34822916666666665, 0.8)",
           "rgba(0.6796875, 0.4609375, 0.4551909722222222, 0.8)",
           "rgba(0.6796875, 0.4609375, 0.5621527777777777, 0.8)",
           "rgba(0.6796875, 0.4609375, 0.6691145833333333, 0.8)",
           "rgba(0.6796875, 0.4609375, 0.7760763888888889, 0.8)",
           "rgba(0.6796875, 0.4609375, 0.8830381944444444, 0.8)",
           "rgba(0.6796875, 0.4609375, 0.99, 0.8)",
           "rgba(0.64453125, 0.02734375, 0.510765625, 0.8)",
           "rgba(0.64453125, 0.02734375, 0.455125, 0.8)",
           "rgba(0.64453125, 0.02734375, 0.399484375, 0.8)",
           "rgba(0.64453125, 0.02734375, 0.34384375, 0.8)",
           "rgba(0.64453125, 0.02734375, 0.288203125, 0.8)",
           "rgba(0.64453125, 0.02734375, 0.2325625, 0.8)",
           "rgba(0.64453125, 0.02734375, 0.176921875, 0.8)",
           "rgba(0.64453125, 0.02734375, 0.12128125000000001, 0.8)",
           "rgba(0.64453125, 0.02734375, 0.06564062500000001, 0.8)",
           "rgba(0.64453125, 0.02734375, 0.010000000000000009, 0.8)",
           "rgba(0.42578125, 0.86328125, 0.4980681818181818, 0.8)",
           "rgba(0.42578125, 0.86328125, 0.44926136363636365, 0.8)",
           "rgba(0.42578125, 0.86328125, 0.40045454545454545, 0.8)",
           "rgba(0.42578125, 0.86328125, 0.3516477272727273, 0.8)",
           "rgba(0.42578125, 0.86328125, 0.3028409090909091, 0.8)",
           "rgba(0.42578125, 0.86328125, 0.2540340909090909, 0.8)",
           "rgba(0.42578125, 0.86328125, 0.20522727272727276, 0.8)",
           "rgba(0.42578125, 0.86328125, 0.15642045454545456, 0.8)",
           "rgba(0.42578125, 0.86328125, 0.10761363636363636, 0.8)",
           "rgba(0.42578125, 0.86328125, 0.05880681818181821, 0.8)",
           "rgba(0.42578125, 0.86328125, 0.010000000000000009, 0.8)"
          ],
          "label": [
           "04 - web, ds, module, internet, market",
           "04 - module, fault_diagnosis, case_based_reasoning, verb, controller",
           "04 - clinical, lesion, disease, nuclear_magnetic_resonance, sensitivity",
           "04 - alpha, pth, omega, residue, bsa",
           "04 - student, game, cognitive, social, cognitive_science",
           "04 - controller, soil, temperature, power_system, voltage",
           "04 - case_based_reasoning, student, ds, industry, intelligent_agent",
           "04 - semantics, belief, conceptual_graph, semantic, nonmonotonic",
           "04 - csp, polynomial, horn, satisfiability_problem, valued",
           "04 - tabu_search, fm, simulated_annealing, petri_net, optimization_problem",
           "07 - game, robot, student, emotion, player",
           "07 - gps, robot, load, plant, vehicle",
           "07 - ontology, service, web, enterprise, case_based_reasoning",
           "07 - patient, tcm, protein, artificial_neural_network, prediction",
           "07 - artificial_neural_network, case_based_reasoning, support_vector_machine, prospect_theory, intrusion_detection_system",
           "07 - artificial_neural_network, image, surface, shear, support_vector_machine",
           "07 - temporal, predicate, semantics, knowledge_representation, interval",
           "07 - robot, aaai, curriculum, vitalism, robotics",
           "07 - tilde, satisfiability_problem, dictionary, satisfiability, rcc",
           "07 - ant, satisfiability_problem_solver, satisfiability_problem, game, tsp",
           "10 - temperature, svr, rainfall, forecasting, pressure",
           "10 - clinical, emotion, gene, disease, cell",
           "10 - ontology, e_learning, student, semantic, e_learning_system",
           "10 - student, fault, multi_agent_system, id, computer_aided_design",
           "10 - aco, traffic, ant_colony_optimization, particle_swarm_optimization, vehicle",
           "10 - game, player, student, team, multi_agent_system",
           "10 - neighbor, bangla, nearest, alpha, handwritten",
           "10 - formula, propositional, belief, logical, preference",
           "10 - mind, brain, turing_test, psychology, cognitive_informatics",
           "10 - forecasting, market, stock, power_system, stock_market",
           "13 - web, document, semantic, semantic_similarity, sentence",
           "13 - soil, temperature, vehicle, pressure, forecasting",
           "13 - student, creativity, teaching, emotion, educational",
           "13 - player, poker, opponent, monte_carlo_tree_search, bot",
           "13 - concentration, hydrogel, corrosion, temperature, rmse",
           "13 - ontology, case_based_reasoning, platform, student, multi_agent_system",
           "13 - adaptive_neuro_fuzzy_inference_system, fault, forecasting, gps, power_system",
           "13 - cancer, clinical, breast_cancer, tissue, biopsy",
           "13 - angle, movement, emotion, walking, actuator",
           "16 - temperature, forecasting, soil, svr, reservoir",
           "16 - forecasting, power_system, fault_diagnosis, heuristic, dga",
           "16 - player, monte_carlo_tree_search, computer_game, multi_agent_system, cognitive_radio",
           "16 - ontology, case_based_reasoning, semantic, argumentation, business",
           "16 - electricity_market, vehicle, forecasting, pv, photovoltaic",
           "16 - cancer, gene, breast_cancer, zakat, care",
           "16 - sentence, arabic, semantic, ontology, semantics",
           "16 - audiovisual, ion, biosorption, gep, crt",
           "16 - emotion, cognitive, ethical, course, education",
           "16 - electrocardiogram, electroencephalogram, induction_motor, segmentation, color",
           "18 - teaching, business, ontology, thing, workshop",
           "18 - accident, unmanned_aerial_vehicle, dg, road, mobile_robot",
           "18 - emotion, music, sentence, semantic, arabic",
           "18 - tracker, memristor, voltage, pv, tidal",
           "18 - price, stock, plan, video_game, serious_game",
           "18 - adaptive_neuro_fuzzy_inference_system, fault, soil, river, rmse",
           "18 - adsorption, mg, adsorbent, radiologist, ph",
           "18 - business, ethical, economy, moral, ethic",
           "18 - particle_swarm_optimization, fault, auc, adaptive_neuro_fuzzy_inference_system, segmentation",
           "18 - argument, semantics, valued, argumentation, answer_set",
           "18 - cancer, tumor, lesion, therapy, diabetic_retinopathy"
          ],
          "line": {
           "color": "black",
           "width": 0
          },
          "pad": 15,
          "thickness": 10
         },
         "type": "sankey"
        }
       ],
       "layout": {
        "autosize": false,
        "font": {
         "size": 11
        },
        "height": 900,
        "template": {
         "data": {
          "bar": [
           {
            "error_x": {
             "color": "#2a3f5f"
            },
            "error_y": {
             "color": "#2a3f5f"
            },
            "marker": {
             "line": {
              "color": "#E5ECF6",
              "width": 0.5
             }
            },
            "type": "bar"
           }
          ],
          "barpolar": [
           {
            "marker": {
             "line": {
              "color": "#E5ECF6",
              "width": 0.5
             }
            },
            "type": "barpolar"
           }
          ],
          "carpet": [
           {
            "aaxis": {
             "endlinecolor": "#2a3f5f",
             "gridcolor": "white",
             "linecolor": "white",
             "minorgridcolor": "white",
             "startlinecolor": "#2a3f5f"
            },
            "baxis": {
             "endlinecolor": "#2a3f5f",
             "gridcolor": "white",
             "linecolor": "white",
             "minorgridcolor": "white",
             "startlinecolor": "#2a3f5f"
            },
            "type": "carpet"
           }
          ],
          "choropleth": [
           {
            "colorbar": {
             "outlinewidth": 0,
             "ticks": ""
            },
            "type": "choropleth"
           }
          ],
          "contour": [
           {
            "colorbar": {
             "outlinewidth": 0,
             "ticks": ""
            },
            "colorscale": [
             [
              0,
              "#0d0887"
             ],
             [
              0.1111111111111111,
              "#46039f"
             ],
             [
              0.2222222222222222,
              "#7201a8"
             ],
             [
              0.3333333333333333,
              "#9c179e"
             ],
             [
              0.4444444444444444,
              "#bd3786"
             ],
             [
              0.5555555555555556,
              "#d8576b"
             ],
             [
              0.6666666666666666,
              "#ed7953"
             ],
             [
              0.7777777777777778,
              "#fb9f3a"
             ],
             [
              0.8888888888888888,
              "#fdca26"
             ],
             [
              1,
              "#f0f921"
             ]
            ],
            "type": "contour"
           }
          ],
          "contourcarpet": [
           {
            "colorbar": {
             "outlinewidth": 0,
             "ticks": ""
            },
            "type": "contourcarpet"
           }
          ],
          "heatmap": [
           {
            "colorbar": {
             "outlinewidth": 0,
             "ticks": ""
            },
            "colorscale": [
             [
              0,
              "#0d0887"
             ],
             [
              0.1111111111111111,
              "#46039f"
             ],
             [
              0.2222222222222222,
              "#7201a8"
             ],
             [
              0.3333333333333333,
              "#9c179e"
             ],
             [
              0.4444444444444444,
              "#bd3786"
             ],
             [
              0.5555555555555556,
              "#d8576b"
             ],
             [
              0.6666666666666666,
              "#ed7953"
             ],
             [
              0.7777777777777778,
              "#fb9f3a"
             ],
             [
              0.8888888888888888,
              "#fdca26"
             ],
             [
              1,
              "#f0f921"
             ]
            ],
            "type": "heatmap"
           }
          ],
          "heatmapgl": [
           {
            "colorbar": {
             "outlinewidth": 0,
             "ticks": ""
            },
            "colorscale": [
             [
              0,
              "#0d0887"
             ],
             [
              0.1111111111111111,
              "#46039f"
             ],
             [
              0.2222222222222222,
              "#7201a8"
             ],
             [
              0.3333333333333333,
              "#9c179e"
             ],
             [
              0.4444444444444444,
              "#bd3786"
             ],
             [
              0.5555555555555556,
              "#d8576b"
             ],
             [
              0.6666666666666666,
              "#ed7953"
             ],
             [
              0.7777777777777778,
              "#fb9f3a"
             ],
             [
              0.8888888888888888,
              "#fdca26"
             ],
             [
              1,
              "#f0f921"
             ]
            ],
            "type": "heatmapgl"
           }
          ],
          "histogram": [
           {
            "marker": {
             "colorbar": {
              "outlinewidth": 0,
              "ticks": ""
             }
            },
            "type": "histogram"
           }
          ],
          "histogram2d": [
           {
            "colorbar": {
             "outlinewidth": 0,
             "ticks": ""
            },
            "colorscale": [
             [
              0,
              "#0d0887"
             ],
             [
              0.1111111111111111,
              "#46039f"
             ],
             [
              0.2222222222222222,
              "#7201a8"
             ],
             [
              0.3333333333333333,
              "#9c179e"
             ],
             [
              0.4444444444444444,
              "#bd3786"
             ],
             [
              0.5555555555555556,
              "#d8576b"
             ],
             [
              0.6666666666666666,
              "#ed7953"
             ],
             [
              0.7777777777777778,
              "#fb9f3a"
             ],
             [
              0.8888888888888888,
              "#fdca26"
             ],
             [
              1,
              "#f0f921"
             ]
            ],
            "type": "histogram2d"
           }
          ],
          "histogram2dcontour": [
           {
            "colorbar": {
             "outlinewidth": 0,
             "ticks": ""
            },
            "colorscale": [
             [
              0,
              "#0d0887"
             ],
             [
              0.1111111111111111,
              "#46039f"
             ],
             [
              0.2222222222222222,
              "#7201a8"
             ],
             [
              0.3333333333333333,
              "#9c179e"
             ],
             [
              0.4444444444444444,
              "#bd3786"
             ],
             [
              0.5555555555555556,
              "#d8576b"
             ],
             [
              0.6666666666666666,
              "#ed7953"
             ],
             [
              0.7777777777777778,
              "#fb9f3a"
             ],
             [
              0.8888888888888888,
              "#fdca26"
             ],
             [
              1,
              "#f0f921"
             ]
            ],
            "type": "histogram2dcontour"
           }
          ],
          "mesh3d": [
           {
            "colorbar": {
             "outlinewidth": 0,
             "ticks": ""
            },
            "type": "mesh3d"
           }
          ],
          "parcoords": [
           {
            "line": {
             "colorbar": {
              "outlinewidth": 0,
              "ticks": ""
             }
            },
            "type": "parcoords"
           }
          ],
          "pie": [
           {
            "automargin": true,
            "type": "pie"
           }
          ],
          "scatter": [
           {
            "marker": {
             "colorbar": {
              "outlinewidth": 0,
              "ticks": ""
             }
            },
            "type": "scatter"
           }
          ],
          "scatter3d": [
           {
            "line": {
             "colorbar": {
              "outlinewidth": 0,
              "ticks": ""
             }
            },
            "marker": {
             "colorbar": {
              "outlinewidth": 0,
              "ticks": ""
             }
            },
            "type": "scatter3d"
           }
          ],
          "scattercarpet": [
           {
            "marker": {
             "colorbar": {
              "outlinewidth": 0,
              "ticks": ""
             }
            },
            "type": "scattercarpet"
           }
          ],
          "scattergeo": [
           {
            "marker": {
             "colorbar": {
              "outlinewidth": 0,
              "ticks": ""
             }
            },
            "type": "scattergeo"
           }
          ],
          "scattergl": [
           {
            "marker": {
             "colorbar": {
              "outlinewidth": 0,
              "ticks": ""
             }
            },
            "type": "scattergl"
           }
          ],
          "scattermapbox": [
           {
            "marker": {
             "colorbar": {
              "outlinewidth": 0,
              "ticks": ""
             }
            },
            "type": "scattermapbox"
           }
          ],
          "scatterpolar": [
           {
            "marker": {
             "colorbar": {
              "outlinewidth": 0,
              "ticks": ""
             }
            },
            "type": "scatterpolar"
           }
          ],
          "scatterpolargl": [
           {
            "marker": {
             "colorbar": {
              "outlinewidth": 0,
              "ticks": ""
             }
            },
            "type": "scatterpolargl"
           }
          ],
          "scatterternary": [
           {
            "marker": {
             "colorbar": {
              "outlinewidth": 0,
              "ticks": ""
             }
            },
            "type": "scatterternary"
           }
          ],
          "surface": [
           {
            "colorbar": {
             "outlinewidth": 0,
             "ticks": ""
            },
            "colorscale": [
             [
              0,
              "#0d0887"
             ],
             [
              0.1111111111111111,
              "#46039f"
             ],
             [
              0.2222222222222222,
              "#7201a8"
             ],
             [
              0.3333333333333333,
              "#9c179e"
             ],
             [
              0.4444444444444444,
              "#bd3786"
             ],
             [
              0.5555555555555556,
              "#d8576b"
             ],
             [
              0.6666666666666666,
              "#ed7953"
             ],
             [
              0.7777777777777778,
              "#fb9f3a"
             ],
             [
              0.8888888888888888,
              "#fdca26"
             ],
             [
              1,
              "#f0f921"
             ]
            ],
            "type": "surface"
           }
          ],
          "table": [
           {
            "cells": {
             "fill": {
              "color": "#EBF0F8"
             },
             "line": {
              "color": "white"
             }
            },
            "header": {
             "fill": {
              "color": "#C8D4E3"
             },
             "line": {
              "color": "white"
             }
            },
            "type": "table"
           }
          ]
         },
         "layout": {
          "annotationdefaults": {
           "arrowcolor": "#2a3f5f",
           "arrowhead": 0,
           "arrowwidth": 1
          },
          "coloraxis": {
           "colorbar": {
            "outlinewidth": 0,
            "ticks": ""
           }
          },
          "colorscale": {
           "diverging": [
            [
             0,
             "#8e0152"
            ],
            [
             0.1,
             "#c51b7d"
            ],
            [
             0.2,
             "#de77ae"
            ],
            [
             0.3,
             "#f1b6da"
            ],
            [
             0.4,
             "#fde0ef"
            ],
            [
             0.5,
             "#f7f7f7"
            ],
            [
             0.6,
             "#e6f5d0"
            ],
            [
             0.7,
             "#b8e186"
            ],
            [
             0.8,
             "#7fbc41"
            ],
            [
             0.9,
             "#4d9221"
            ],
            [
             1,
             "#276419"
            ]
           ],
           "sequential": [
            [
             0,
             "#0d0887"
            ],
            [
             0.1111111111111111,
             "#46039f"
            ],
            [
             0.2222222222222222,
             "#7201a8"
            ],
            [
             0.3333333333333333,
             "#9c179e"
            ],
            [
             0.4444444444444444,
             "#bd3786"
            ],
            [
             0.5555555555555556,
             "#d8576b"
            ],
            [
             0.6666666666666666,
             "#ed7953"
            ],
            [
             0.7777777777777778,
             "#fb9f3a"
            ],
            [
             0.8888888888888888,
             "#fdca26"
            ],
            [
             1,
             "#f0f921"
            ]
           ],
           "sequentialminus": [
            [
             0,
             "#0d0887"
            ],
            [
             0.1111111111111111,
             "#46039f"
            ],
            [
             0.2222222222222222,
             "#7201a8"
            ],
            [
             0.3333333333333333,
             "#9c179e"
            ],
            [
             0.4444444444444444,
             "#bd3786"
            ],
            [
             0.5555555555555556,
             "#d8576b"
            ],
            [
             0.6666666666666666,
             "#ed7953"
            ],
            [
             0.7777777777777778,
             "#fb9f3a"
            ],
            [
             0.8888888888888888,
             "#fdca26"
            ],
            [
             1,
             "#f0f921"
            ]
           ]
          },
          "colorway": [
           "#636efa",
           "#EF553B",
           "#00cc96",
           "#ab63fa",
           "#FFA15A",
           "#19d3f3",
           "#FF6692",
           "#B6E880",
           "#FF97FF",
           "#FECB52"
          ],
          "font": {
           "color": "#2a3f5f"
          },
          "geo": {
           "bgcolor": "white",
           "lakecolor": "white",
           "landcolor": "#E5ECF6",
           "showlakes": true,
           "showland": true,
           "subunitcolor": "white"
          },
          "hoverlabel": {
           "align": "left"
          },
          "hovermode": "closest",
          "mapbox": {
           "style": "light"
          },
          "paper_bgcolor": "white",
          "plot_bgcolor": "#E5ECF6",
          "polar": {
           "angularaxis": {
            "gridcolor": "white",
            "linecolor": "white",
            "ticks": ""
           },
           "bgcolor": "#E5ECF6",
           "radialaxis": {
            "gridcolor": "white",
            "linecolor": "white",
            "ticks": ""
           }
          },
          "scene": {
           "xaxis": {
            "backgroundcolor": "#E5ECF6",
            "gridcolor": "white",
            "gridwidth": 2,
            "linecolor": "white",
            "showbackground": true,
            "ticks": "",
            "zerolinecolor": "white"
           },
           "yaxis": {
            "backgroundcolor": "#E5ECF6",
            "gridcolor": "white",
            "gridwidth": 2,
            "linecolor": "white",
            "showbackground": true,
            "ticks": "",
            "zerolinecolor": "white"
           },
           "zaxis": {
            "backgroundcolor": "#E5ECF6",
            "gridcolor": "white",
            "gridwidth": 2,
            "linecolor": "white",
            "showbackground": true,
            "ticks": "",
            "zerolinecolor": "white"
           }
          },
          "shapedefaults": {
           "line": {
            "color": "#2a3f5f"
           }
          },
          "ternary": {
           "aaxis": {
            "gridcolor": "white",
            "linecolor": "white",
            "ticks": ""
           },
           "baxis": {
            "gridcolor": "white",
            "linecolor": "white",
            "ticks": ""
           },
           "bgcolor": "#E5ECF6",
           "caxis": {
            "gridcolor": "white",
            "linecolor": "white",
            "ticks": ""
           }
          },
          "title": {
           "x": 0.05
          },
          "xaxis": {
           "automargin": true,
           "gridcolor": "white",
           "linecolor": "white",
           "ticks": "",
           "title": {
            "standoff": 15
           },
           "zerolinecolor": "white",
           "zerolinewidth": 2
          },
          "yaxis": {
           "automargin": true,
           "gridcolor": "white",
           "linecolor": "white",
           "ticks": "",
           "title": {
            "standoff": 15
           },
           "zerolinecolor": "white",
           "zerolinewidth": 2
          }
         }
        },
        "title": {
         "text": "H-Clustering -Abstracts+Titles - Separated Development of fields: Docs 1990 to 2017-2018 with Enhanced number of clusters  - pow 1 - thresh 0.975"
        },
        "width": 1500
       }
      },
      "text/html": [
       "<div>\n",
       "        \n",
       "        \n",
       "            <div id=\"82a44e62-02e1-4fa5-8027-37e7b5dc955a\" class=\"plotly-graph-div\" style=\"height:900px; width:1500px;\"></div>\n",
       "            <script type=\"text/javascript\">\n",
       "                require([\"plotly\"], function(Plotly) {\n",
       "                    window.PLOTLYENV=window.PLOTLYENV || {};\n",
       "                    \n",
       "                if (document.getElementById(\"82a44e62-02e1-4fa5-8027-37e7b5dc955a\")) {\n",
       "                    Plotly.newPlot(\n",
       "                        '82a44e62-02e1-4fa5-8027-37e7b5dc955a',\n",
       "                        [{\"link\": {\"color\": [\"rgba(0.0078125, 0.6875, 0.813109375, 0.4903275925579798)\", \"rgba(0.0078125, 0.6875, 0.813109375, 0.4878968220752496)\", \"rgba(0.0078125, 0.6875, 0.813109375, 0.4985255219244504)\", \"rgba(0.0078125, 0.6875, 0.813109375, 0.4886106870692178)\", \"rgba(0.0078125, 0.6875, 0.723875, 0.4894440968987093)\", \"rgba(0.0078125, 0.6875, 0.723875, 0.4971390100012276)\", \"rgba(0.0078125, 0.6875, 0.723875, 0.4893778190672658)\", \"rgba(0.0078125, 0.6875, 0.634640625, 0.4975106783650098)\", \"rgba(0.0078125, 0.6875, 0.634640625, 0.4902691216344954)\", \"rgba(0.0078125, 0.6875, 0.498138277760546756171875, 0.4981382777605467)\", \"rgba(0.0078125, 0.6875, 0.489307408923489856171875, 0.4893074089234898)\", \"rgba(0.0078125, 0.6875, 0.494691810258760656171875, 0.4946918102587606)\", \"rgba(0.0078125, 0.6875, 0.3669374999999999, 0.4964424173036282)\", \"rgba(0.0078125, 0.6875, 0.3669374999999999, 0.4905497080767636)\", \"rgba(0.0078125, 0.6875, 0.27770312499999994, 0.4937916577111812)\", \"rgba(0.0078125, 0.6875, 0.27770312499999994, 0.4962781605501468)\", \"rgba(0.0078125, 0.6875, 0.27770312499999994, 0.4876296322249818)\", \"rgba(0.0078125, 0.6875, 0.18846874999999996, 0.4973424837867225)\", \"rgba(0.0078125, 0.6875, 0.09923437499999999, 0.493083202784601)\", \"rgba(0.0078125, 0.6875, 0.010000000000000009, 0.4940549485101717)\", \"rgba(0.0078125, 0.6875, 0.010000000000000009, 0.490567736793447)\", \"rgba(0.0078125, 0.6875, 0.010000000000000009, 0.4940993195924117)\", \"rgba(0.6640625, 0.5703125, 0.38728125, 0.4956815781993622)\", \"rgba(0.6640625, 0.5703125, 0.38728125, 0.4968613432199385)\", \"rgba(0.6640625, 0.5703125, 0.4882170751864925425, 0.488217075186492)\", \"rgba(0.6640625, 0.5703125, 0.48796266526291965425, 0.4879626652629196)\", \"rgba(0.6640625, 0.5703125, 0.48891011807650225425, 0.4889101180765022)\", \"rgba(0.6640625, 0.5703125, 0.49260406914506825425, 0.4926040691450682)\", \"rgba(0.6640625, 0.5703125, 0.52121875, 0.4902836297764673)\", \"rgba(0.6640625, 0.5703125, 0.52121875, 0.4930407793529219)\", \"rgba(0.6640625, 0.5703125, 0.52121875, 0.4948278288447998)\", \"rgba(0.6640625, 0.5703125, 0.5881875, 0.4955758875023731)\", \"rgba(0.6640625, 0.5703125, 0.65515625, 0.4887574862332572)\", \"rgba(0.6640625, 0.5703125, 0.65515625, 0.4973295423092168)\", \"rgba(0.6640625, 0.5703125, 0.65515625, 0.48957901236516)\", \"rgba(0.6640625, 0.5703125, 0.65515625, 0.4899724969907177)\", \"rgba(0.6640625, 0.5703125, 0.7221249999999999, 0.4977016390452654)\", \"rgba(0.6640625, 0.5703125, 0.7221249999999999, 0.487624245786983)\", \"rgba(0.6640625, 0.5703125, 0.7890937499999999, 0.4960838307723889)\", \"rgba(0.6640625, 0.5703125, 0.8560625, 0.4927194125788509)\", \"rgba(0.6640625, 0.5703125, 0.92303125, 0.49358069424448753)\", \"rgba(0.6640625, 0.5703125, 0.99, 0.4936575150638648)\", \"rgba(0.07421875, 0.23046875, 0.493441105037418982203125, 0.4934411050374189)\", \"rgba(0.07421875, 0.23046875, 0.495949015851263482203125, 0.4959490158512634)\", \"rgba(0.07421875, 0.23046875, 0.538625, 0.49547289583491294)\", \"rgba(0.07421875, 0.23046875, 0.538625, 0.492820551080352)\", \"rgba(0.07421875, 0.23046875, 0.595046875, 0.4894156070243489)\", \"rgba(0.07421875, 0.23046875, 0.65146875, 0.4970292877281315)\", \"rgba(0.07421875, 0.23046875, 0.707890625, 0.4944984628004488)\", \"rgba(0.07421875, 0.23046875, 0.707890625, 0.4876844945695524)\", \"rgba(0.07421875, 0.23046875, 0.7643125, 0.4947496560174204)\", \"rgba(0.07421875, 0.23046875, 0.7643125, 0.494646949694361)\", \"rgba(0.07421875, 0.23046875, 0.87715625, 0.4932702688744115)\", \"rgba(0.07421875, 0.23046875, 0.9335781249999999, 0.4980378649281462)\", \"rgba(0.07421875, 0.23046875, 0.99, 0.4956406525519028)\", \"rgba(0.6796875, 0.4987536217104796609375, 0.13430555555555557, 0.4987536217104796)\", \"rgba(0.6796875, 0.4915956257928763609375, 0.2412673611111111, 0.4915956257928763)\", \"rgba(0.6796875, 0.4891139404545757609375, 0.2412673611111111, 0.4891139404545757)\", \"rgba(0.6796875, 0.4970555804703788609375, 0.2412673611111111, 0.4970555804703788)\", \"rgba(0.6796875, 0.4929316177481254609375, 0.34822916666666665, 0.4929316177481254)\", \"rgba(0.6796875, 0.499373301218978609375, 0.34822916666666665, 0.499373301218978)\", \"rgba(0.6796875, 0.4890525703968386609375, 0.4890525703968386551909722222222, 0.4890525703968386)\", \"rgba(0.6796875, 0.491831903746838609375, 0.491831903746838551909722222222, 0.491831903746838)\", \"rgba(0.6796875, 0.4961836184110106609375, 0.5621527777777777, 0.4961836184110106)\", \"rgba(0.6796875, 0.4941722736990038609375, 0.6691145833333333, 0.4941722736990038)\", \"rgba(0.6796875, 0.4983097785351784609375, 0.6691145833333333, 0.4983097785351784)\", \"rgba(0.6796875, 0.4877214302817612609375, 0.6691145833333333, 0.4877214302817612)\", \"rgba(0.6796875, 0.4954018872003434609375, 0.7760763888888889, 0.4954018872003434)\", \"rgba(0.6796875, 0.4961484137131508609375, 0.7760763888888889, 0.4961484137131508)\", \"rgba(0.6796875, 0.4889116922183228609375, 0.8830381944444444, 0.4889116922183228)\", \"rgba(0.6796875, 0.4928943240301389609375, 0.8830381944444444, 0.4928943240301389)\", \"rgba(0.6796875, 0.4880816919341653609375, 0.8830381944444444, 0.4880816919341653)\", \"rgba(0.6796875, 0.4952636977397358609375, 0.99, 0.4952636977397358)\", \"rgba(0.64453125, 0.02734375, 0.510765625, 0.4890813956401546)\", \"rgba(0.64453125, 0.02734375, 0.510765625, 0.4986432126391761)\", \"rgba(0.64453125, 0.02734375, 0.49145555794509655125, 0.491455557945096)\", \"rgba(0.64453125, 0.02734375, 0.49052002947079555125, 0.490520029470795)\", \"rgba(0.64453125, 0.02734375, 0.496060261472574855125, 0.4960602614725748)\", \"rgba(0.64453125, 0.02734375, 0.399484375, 0.4933604469554932)\", \"rgba(0.64453125, 0.02734375, 0.399484375, 0.4967437211507026)\", \"rgba(0.64453125, 0.02734375, 0.34384375, 0.495658970929818)\", \"rgba(0.64453125, 0.02734375, 0.34384375, 0.4898688297821606)\", \"rgba(0.64453125, 0.02734375, 0.34384375, 0.4940310719268498)\", \"rgba(0.64453125, 0.02734375, 0.288203125, 0.4949656972651636)\", \"rgba(0.64453125, 0.02734375, 0.288203125, 0.49013602847505)\", \"rgba(0.64453125, 0.02734375, 0.288203125, 0.4876000953072221)\", \"rgba(0.64453125, 0.02734375, 0.2325625, 0.4971997906435596)\", \"rgba(0.64453125, 0.02734375, 0.176921875, 0.4880693693304826)\", \"rgba(0.64453125, 0.02734375, 0.176921875, 0.4946707840547268)\", \"rgba(0.64453125, 0.02734375, 0.12128125000000001, 0.4946650541345362)\", \"rgba(0.64453125, 0.02734375, 0.06564062500000001, 0.4974504739601818)\", \"rgba(0.64453125, 0.02734375, 0.06564062500000001, 0.4976453011054288)\", \"rgba(0.64453125, 0.02734375, 0.010000000000000009, 0.4878327439334438)\"], \"source\": [0, 0, 0, 0, 1, 1, 1, 2, 2, 4, 4, 4, 5, 5, 6, 6, 6, 7, 8, 9, 9, 9, 10, 10, 11, 11, 11, 11, 12, 12, 12, 13, 14, 14, 14, 14, 15, 15, 16, 17, 18, 19, 20, 20, 21, 21, 22, 23, 24, 24, 25, 25, 27, 28, 29, 30, 31, 31, 31, 32, 32, 33, 33, 34, 35, 35, 35, 36, 36, 37, 37, 37, 38, 39, 39, 40, 40, 40, 41, 41, 42, 42, 42, 43, 43, 43, 44, 45, 45, 46, 47, 47, 48], \"target\": [10, 11, 12, 14, 11, 14, 15, 13, 15, 10, 12, 17, 11, 15, 10, 12, 14, 16, 18, 14, 15, 19, 25, 28, 20, 23, 24, 29, 22, 23, 25, 21, 21, 23, 24, 27, 20, 21, 27, 28, 26, 24, 31, 36, 37, 38, 35, 35, 33, 36, 32, 35, 30, 32, 31, 45, 39, 40, 43, 42, 47, 40, 41, 46, 41, 42, 47, 39, 40, 40, 44, 48, 48, 52, 54, 53, 54, 57, 50, 53, 49, 51, 53, 50, 53, 54, 59, 51, 58, 55, 49, 56, 57], \"value\": [0.9806551851159596, 0.9757936441504992, 0.9970510438489008, 0.9772213741384356, 0.9788881937974186, 0.9942780200024552, 0.9787556381345316, 0.9950213567300196, 0.9805382432689908, 0.9962765555210934, 0.9786148178469796, 0.9893836205175212, 0.9928848346072564, 0.9810994161535272, 0.9875833154223624, 0.9925563211002936, 0.9752592644499636, 0.994684967573445, 0.986166405569202, 0.9881098970203434, 0.981135473586894, 0.9881986391848234, 0.9913631563987244, 0.993722686439877, 0.976434150372984, 0.9759253305258392, 0.9778202361530044, 0.9852081382901364, 0.9805672595529346, 0.9860815587058438, 0.9896556576895996, 0.9911517750047462, 0.9775149724665144, 0.9946590846184336, 0.97915802473032, 0.9799449939814354, 0.9954032780905308, 0.975248491573966, 0.9921676615447778, 0.9854388251577018, 0.9871613884889751, 0.9873150301277296, 0.9868822100748378, 0.9918980317025268, 0.9909457916698259, 0.985641102160704, 0.9788312140486978, 0.994058575456263, 0.9889969256008976, 0.9753689891391047, 0.9894993120348408, 0.989293899388722, 0.986540537748823, 0.9960757298562924, 0.9912813051038056, 0.9975072434209592, 0.9831912515857526, 0.9782278809091514, 0.9941111609407576, 0.9858632354962508, 0.998746602437956, 0.9781051407936772, 0.983663807493676, 0.9923672368220212, 0.9883445473980076, 0.9966195570703568, 0.9754428605635224, 0.9908037744006868, 0.9922968274263017, 0.9778233844366456, 0.9857886480602778, 0.9761633838683306, 0.9905273954794716, 0.9781627912803093, 0.9972864252783522, 0.982911115890192, 0.98104005894159, 0.9921205229451496, 0.9867208939109864, 0.9934874423014052, 0.991317941859636, 0.9797376595643212, 0.9880621438536996, 0.9899313945303272, 0.9802720569501, 0.9752001906144442, 0.9943995812871192, 0.9761387386609652, 0.9893415681094536, 0.9893301082690724, 0.9949009479203637, 0.9952906022108576, 0.9756654878668876]}, \"node\": {\"color\": [\"rgba(0.0078125, 0.6875, 0.813109375, 0.8)\", \"rgba(0.0078125, 0.6875, 0.723875, 0.8)\", \"rgba(0.0078125, 0.6875, 0.634640625, 0.8)\", \"rgba(0.0078125, 0.6875, 0.54540625, 0.8)\", \"rgba(0.0078125, 0.6875, 0.456171875, 0.8)\", \"rgba(0.0078125, 0.6875, 0.3669374999999999, 0.8)\", \"rgba(0.0078125, 0.6875, 0.27770312499999994, 0.8)\", \"rgba(0.0078125, 0.6875, 0.18846874999999996, 0.8)\", \"rgba(0.0078125, 0.6875, 0.09923437499999999, 0.8)\", \"rgba(0.0078125, 0.6875, 0.010000000000000009, 0.8)\", \"rgba(0.6640625, 0.5703125, 0.38728125, 0.8)\", \"rgba(0.6640625, 0.5703125, 0.45425, 0.8)\", \"rgba(0.6640625, 0.5703125, 0.52121875, 0.8)\", \"rgba(0.6640625, 0.5703125, 0.5881875, 0.8)\", \"rgba(0.6640625, 0.5703125, 0.65515625, 0.8)\", \"rgba(0.6640625, 0.5703125, 0.7221249999999999, 0.8)\", \"rgba(0.6640625, 0.5703125, 0.7890937499999999, 0.8)\", \"rgba(0.6640625, 0.5703125, 0.8560625, 0.8)\", \"rgba(0.6640625, 0.5703125, 0.92303125, 0.8)\", \"rgba(0.6640625, 0.5703125, 0.99, 0.8)\", \"rgba(0.07421875, 0.23046875, 0.482203125, 0.8)\", \"rgba(0.07421875, 0.23046875, 0.538625, 0.8)\", \"rgba(0.07421875, 0.23046875, 0.595046875, 0.8)\", \"rgba(0.07421875, 0.23046875, 0.65146875, 0.8)\", \"rgba(0.07421875, 0.23046875, 0.707890625, 0.8)\", \"rgba(0.07421875, 0.23046875, 0.7643125, 0.8)\", \"rgba(0.07421875, 0.23046875, 0.820734375, 0.8)\", \"rgba(0.07421875, 0.23046875, 0.87715625, 0.8)\", \"rgba(0.07421875, 0.23046875, 0.9335781249999999, 0.8)\", \"rgba(0.07421875, 0.23046875, 0.99, 0.8)\", \"rgba(0.6796875, 0.4609375, 0.13430555555555557, 0.8)\", \"rgba(0.6796875, 0.4609375, 0.2412673611111111, 0.8)\", \"rgba(0.6796875, 0.4609375, 0.34822916666666665, 0.8)\", \"rgba(0.6796875, 0.4609375, 0.4551909722222222, 0.8)\", \"rgba(0.6796875, 0.4609375, 0.5621527777777777, 0.8)\", \"rgba(0.6796875, 0.4609375, 0.6691145833333333, 0.8)\", \"rgba(0.6796875, 0.4609375, 0.7760763888888889, 0.8)\", \"rgba(0.6796875, 0.4609375, 0.8830381944444444, 0.8)\", \"rgba(0.6796875, 0.4609375, 0.99, 0.8)\", \"rgba(0.64453125, 0.02734375, 0.510765625, 0.8)\", \"rgba(0.64453125, 0.02734375, 0.455125, 0.8)\", \"rgba(0.64453125, 0.02734375, 0.399484375, 0.8)\", \"rgba(0.64453125, 0.02734375, 0.34384375, 0.8)\", \"rgba(0.64453125, 0.02734375, 0.288203125, 0.8)\", \"rgba(0.64453125, 0.02734375, 0.2325625, 0.8)\", \"rgba(0.64453125, 0.02734375, 0.176921875, 0.8)\", \"rgba(0.64453125, 0.02734375, 0.12128125000000001, 0.8)\", \"rgba(0.64453125, 0.02734375, 0.06564062500000001, 0.8)\", \"rgba(0.64453125, 0.02734375, 0.010000000000000009, 0.8)\", \"rgba(0.42578125, 0.86328125, 0.4980681818181818, 0.8)\", \"rgba(0.42578125, 0.86328125, 0.44926136363636365, 0.8)\", \"rgba(0.42578125, 0.86328125, 0.40045454545454545, 0.8)\", \"rgba(0.42578125, 0.86328125, 0.3516477272727273, 0.8)\", \"rgba(0.42578125, 0.86328125, 0.3028409090909091, 0.8)\", \"rgba(0.42578125, 0.86328125, 0.2540340909090909, 0.8)\", \"rgba(0.42578125, 0.86328125, 0.20522727272727276, 0.8)\", \"rgba(0.42578125, 0.86328125, 0.15642045454545456, 0.8)\", \"rgba(0.42578125, 0.86328125, 0.10761363636363636, 0.8)\", \"rgba(0.42578125, 0.86328125, 0.05880681818181821, 0.8)\", \"rgba(0.42578125, 0.86328125, 0.010000000000000009, 0.8)\"], \"label\": [\"04 - web, ds, module, internet, market\", \"04 - module, fault_diagnosis, case_based_reasoning, verb, controller\", \"04 - clinical, lesion, disease, nuclear_magnetic_resonance, sensitivity\", \"04 - alpha, pth, omega, residue, bsa\", \"04 - student, game, cognitive, social, cognitive_science\", \"04 - controller, soil, temperature, power_system, voltage\", \"04 - case_based_reasoning, student, ds, industry, intelligent_agent\", \"04 - semantics, belief, conceptual_graph, semantic, nonmonotonic\", \"04 - csp, polynomial, horn, satisfiability_problem, valued\", \"04 - tabu_search, fm, simulated_annealing, petri_net, optimization_problem\", \"07 - game, robot, student, emotion, player\", \"07 - gps, robot, load, plant, vehicle\", \"07 - ontology, service, web, enterprise, case_based_reasoning\", \"07 - patient, tcm, protein, artificial_neural_network, prediction\", \"07 - artificial_neural_network, case_based_reasoning, support_vector_machine, prospect_theory, intrusion_detection_system\", \"07 - artificial_neural_network, image, surface, shear, support_vector_machine\", \"07 - temporal, predicate, semantics, knowledge_representation, interval\", \"07 - robot, aaai, curriculum, vitalism, robotics\", \"07 - tilde, satisfiability_problem, dictionary, satisfiability, rcc\", \"07 - ant, satisfiability_problem_solver, satisfiability_problem, game, tsp\", \"10 - temperature, svr, rainfall, forecasting, pressure\", \"10 - clinical, emotion, gene, disease, cell\", \"10 - ontology, e_learning, student, semantic, e_learning_system\", \"10 - student, fault, multi_agent_system, id, computer_aided_design\", \"10 - aco, traffic, ant_colony_optimization, particle_swarm_optimization, vehicle\", \"10 - game, player, student, team, multi_agent_system\", \"10 - neighbor, bangla, nearest, alpha, handwritten\", \"10 - formula, propositional, belief, logical, preference\", \"10 - mind, brain, turing_test, psychology, cognitive_informatics\", \"10 - forecasting, market, stock, power_system, stock_market\", \"13 - web, document, semantic, semantic_similarity, sentence\", \"13 - soil, temperature, vehicle, pressure, forecasting\", \"13 - student, creativity, teaching, emotion, educational\", \"13 - player, poker, opponent, monte_carlo_tree_search, bot\", \"13 - concentration, hydrogel, corrosion, temperature, rmse\", \"13 - ontology, case_based_reasoning, platform, student, multi_agent_system\", \"13 - adaptive_neuro_fuzzy_inference_system, fault, forecasting, gps, power_system\", \"13 - cancer, clinical, breast_cancer, tissue, biopsy\", \"13 - angle, movement, emotion, walking, actuator\", \"16 - temperature, forecasting, soil, svr, reservoir\", \"16 - forecasting, power_system, fault_diagnosis, heuristic, dga\", \"16 - player, monte_carlo_tree_search, computer_game, multi_agent_system, cognitive_radio\", \"16 - ontology, case_based_reasoning, semantic, argumentation, business\", \"16 - electricity_market, vehicle, forecasting, pv, photovoltaic\", \"16 - cancer, gene, breast_cancer, zakat, care\", \"16 - sentence, arabic, semantic, ontology, semantics\", \"16 - audiovisual, ion, biosorption, gep, crt\", \"16 - emotion, cognitive, ethical, course, education\", \"16 - electrocardiogram, electroencephalogram, induction_motor, segmentation, color\", \"18 - teaching, business, ontology, thing, workshop\", \"18 - accident, unmanned_aerial_vehicle, dg, road, mobile_robot\", \"18 - emotion, music, sentence, semantic, arabic\", \"18 - tracker, memristor, voltage, pv, tidal\", \"18 - price, stock, plan, video_game, serious_game\", \"18 - adaptive_neuro_fuzzy_inference_system, fault, soil, river, rmse\", \"18 - adsorption, mg, adsorbent, radiologist, ph\", \"18 - business, ethical, economy, moral, ethic\", \"18 - particle_swarm_optimization, fault, auc, adaptive_neuro_fuzzy_inference_system, segmentation\", \"18 - argument, semantics, valued, argumentation, answer_set\", \"18 - cancer, tumor, lesion, therapy, diabetic_retinopathy\"], \"line\": {\"color\": \"black\", \"width\": 0}, \"pad\": 15, \"thickness\": 10}, \"type\": \"sankey\"}],\n",
       "                        {\"autosize\": false, \"font\": {\"size\": 11}, \"height\": 900, \"template\": {\"data\": {\"bar\": [{\"error_x\": {\"color\": \"#2a3f5f\"}, \"error_y\": {\"color\": \"#2a3f5f\"}, \"marker\": {\"line\": {\"color\": \"#E5ECF6\", \"width\": 0.5}}, \"type\": \"bar\"}], \"barpolar\": [{\"marker\": {\"line\": {\"color\": \"#E5ECF6\", \"width\": 0.5}}, \"type\": \"barpolar\"}], \"carpet\": [{\"aaxis\": {\"endlinecolor\": \"#2a3f5f\", \"gridcolor\": \"white\", \"linecolor\": \"white\", \"minorgridcolor\": \"white\", \"startlinecolor\": \"#2a3f5f\"}, \"baxis\": {\"endlinecolor\": \"#2a3f5f\", \"gridcolor\": \"white\", \"linecolor\": \"white\", \"minorgridcolor\": \"white\", \"startlinecolor\": \"#2a3f5f\"}, \"type\": \"carpet\"}], \"choropleth\": [{\"colorbar\": {\"outlinewidth\": 0, \"ticks\": \"\"}, \"type\": \"choropleth\"}], \"contour\": [{\"colorbar\": {\"outlinewidth\": 0, \"ticks\": \"\"}, \"colorscale\": [[0.0, \"#0d0887\"], [0.1111111111111111, \"#46039f\"], [0.2222222222222222, \"#7201a8\"], [0.3333333333333333, \"#9c179e\"], [0.4444444444444444, \"#bd3786\"], [0.5555555555555556, \"#d8576b\"], [0.6666666666666666, \"#ed7953\"], [0.7777777777777778, \"#fb9f3a\"], [0.8888888888888888, \"#fdca26\"], [1.0, \"#f0f921\"]], \"type\": \"contour\"}], \"contourcarpet\": [{\"colorbar\": {\"outlinewidth\": 0, \"ticks\": \"\"}, \"type\": \"contourcarpet\"}], \"heatmap\": [{\"colorbar\": {\"outlinewidth\": 0, \"ticks\": \"\"}, \"colorscale\": [[0.0, \"#0d0887\"], [0.1111111111111111, \"#46039f\"], [0.2222222222222222, \"#7201a8\"], [0.3333333333333333, \"#9c179e\"], [0.4444444444444444, \"#bd3786\"], [0.5555555555555556, \"#d8576b\"], [0.6666666666666666, \"#ed7953\"], [0.7777777777777778, \"#fb9f3a\"], [0.8888888888888888, \"#fdca26\"], [1.0, \"#f0f921\"]], \"type\": \"heatmap\"}], \"heatmapgl\": [{\"colorbar\": {\"outlinewidth\": 0, \"ticks\": \"\"}, \"colorscale\": [[0.0, \"#0d0887\"], [0.1111111111111111, \"#46039f\"], [0.2222222222222222, \"#7201a8\"], [0.3333333333333333, \"#9c179e\"], [0.4444444444444444, \"#bd3786\"], [0.5555555555555556, \"#d8576b\"], [0.6666666666666666, \"#ed7953\"], [0.7777777777777778, \"#fb9f3a\"], [0.8888888888888888, \"#fdca26\"], [1.0, \"#f0f921\"]], \"type\": \"heatmapgl\"}], \"histogram\": [{\"marker\": {\"colorbar\": {\"outlinewidth\": 0, \"ticks\": \"\"}}, \"type\": \"histogram\"}], \"histogram2d\": [{\"colorbar\": {\"outlinewidth\": 0, \"ticks\": \"\"}, \"colorscale\": [[0.0, \"#0d0887\"], [0.1111111111111111, \"#46039f\"], [0.2222222222222222, \"#7201a8\"], [0.3333333333333333, \"#9c179e\"], [0.4444444444444444, \"#bd3786\"], [0.5555555555555556, \"#d8576b\"], [0.6666666666666666, \"#ed7953\"], [0.7777777777777778, \"#fb9f3a\"], [0.8888888888888888, \"#fdca26\"], [1.0, \"#f0f921\"]], \"type\": \"histogram2d\"}], \"histogram2dcontour\": [{\"colorbar\": {\"outlinewidth\": 0, \"ticks\": \"\"}, \"colorscale\": [[0.0, \"#0d0887\"], [0.1111111111111111, \"#46039f\"], [0.2222222222222222, \"#7201a8\"], [0.3333333333333333, \"#9c179e\"], [0.4444444444444444, \"#bd3786\"], [0.5555555555555556, \"#d8576b\"], [0.6666666666666666, \"#ed7953\"], [0.7777777777777778, \"#fb9f3a\"], [0.8888888888888888, \"#fdca26\"], [1.0, \"#f0f921\"]], \"type\": \"histogram2dcontour\"}], \"mesh3d\": [{\"colorbar\": {\"outlinewidth\": 0, \"ticks\": \"\"}, \"type\": \"mesh3d\"}], \"parcoords\": [{\"line\": {\"colorbar\": {\"outlinewidth\": 0, \"ticks\": \"\"}}, \"type\": \"parcoords\"}], \"pie\": [{\"automargin\": true, \"type\": \"pie\"}], \"scatter\": [{\"marker\": {\"colorbar\": {\"outlinewidth\": 0, \"ticks\": \"\"}}, \"type\": \"scatter\"}], \"scatter3d\": [{\"line\": {\"colorbar\": {\"outlinewidth\": 0, \"ticks\": \"\"}}, \"marker\": {\"colorbar\": {\"outlinewidth\": 0, \"ticks\": \"\"}}, \"type\": \"scatter3d\"}], \"scattercarpet\": [{\"marker\": {\"colorbar\": {\"outlinewidth\": 0, \"ticks\": \"\"}}, \"type\": \"scattercarpet\"}], \"scattergeo\": [{\"marker\": {\"colorbar\": {\"outlinewidth\": 0, \"ticks\": \"\"}}, \"type\": \"scattergeo\"}], \"scattergl\": [{\"marker\": {\"colorbar\": {\"outlinewidth\": 0, \"ticks\": \"\"}}, \"type\": \"scattergl\"}], \"scattermapbox\": [{\"marker\": {\"colorbar\": {\"outlinewidth\": 0, \"ticks\": \"\"}}, \"type\": \"scattermapbox\"}], \"scatterpolar\": [{\"marker\": {\"colorbar\": {\"outlinewidth\": 0, \"ticks\": \"\"}}, \"type\": \"scatterpolar\"}], \"scatterpolargl\": [{\"marker\": {\"colorbar\": {\"outlinewidth\": 0, \"ticks\": \"\"}}, \"type\": \"scatterpolargl\"}], \"scatterternary\": [{\"marker\": {\"colorbar\": {\"outlinewidth\": 0, \"ticks\": \"\"}}, \"type\": \"scatterternary\"}], \"surface\": [{\"colorbar\": {\"outlinewidth\": 0, \"ticks\": \"\"}, \"colorscale\": [[0.0, \"#0d0887\"], [0.1111111111111111, \"#46039f\"], [0.2222222222222222, \"#7201a8\"], [0.3333333333333333, \"#9c179e\"], [0.4444444444444444, \"#bd3786\"], [0.5555555555555556, \"#d8576b\"], [0.6666666666666666, \"#ed7953\"], [0.7777777777777778, \"#fb9f3a\"], [0.8888888888888888, \"#fdca26\"], [1.0, \"#f0f921\"]], \"type\": \"surface\"}], \"table\": [{\"cells\": {\"fill\": {\"color\": \"#EBF0F8\"}, \"line\": {\"color\": \"white\"}}, \"header\": {\"fill\": {\"color\": \"#C8D4E3\"}, \"line\": {\"color\": \"white\"}}, \"type\": \"table\"}]}, \"layout\": {\"annotationdefaults\": {\"arrowcolor\": \"#2a3f5f\", \"arrowhead\": 0, \"arrowwidth\": 1}, \"coloraxis\": {\"colorbar\": {\"outlinewidth\": 0, \"ticks\": \"\"}}, \"colorscale\": {\"diverging\": [[0, \"#8e0152\"], [0.1, \"#c51b7d\"], [0.2, \"#de77ae\"], [0.3, \"#f1b6da\"], [0.4, \"#fde0ef\"], [0.5, \"#f7f7f7\"], [0.6, \"#e6f5d0\"], [0.7, \"#b8e186\"], [0.8, \"#7fbc41\"], [0.9, \"#4d9221\"], [1, \"#276419\"]], \"sequential\": [[0.0, \"#0d0887\"], [0.1111111111111111, \"#46039f\"], [0.2222222222222222, \"#7201a8\"], [0.3333333333333333, \"#9c179e\"], [0.4444444444444444, \"#bd3786\"], [0.5555555555555556, \"#d8576b\"], [0.6666666666666666, \"#ed7953\"], [0.7777777777777778, \"#fb9f3a\"], [0.8888888888888888, \"#fdca26\"], [1.0, \"#f0f921\"]], \"sequentialminus\": [[0.0, \"#0d0887\"], [0.1111111111111111, \"#46039f\"], [0.2222222222222222, \"#7201a8\"], [0.3333333333333333, \"#9c179e\"], [0.4444444444444444, \"#bd3786\"], [0.5555555555555556, \"#d8576b\"], [0.6666666666666666, \"#ed7953\"], [0.7777777777777778, \"#fb9f3a\"], [0.8888888888888888, \"#fdca26\"], [1.0, \"#f0f921\"]]}, \"colorway\": [\"#636efa\", \"#EF553B\", \"#00cc96\", \"#ab63fa\", \"#FFA15A\", \"#19d3f3\", \"#FF6692\", \"#B6E880\", \"#FF97FF\", \"#FECB52\"], \"font\": {\"color\": \"#2a3f5f\"}, \"geo\": {\"bgcolor\": \"white\", \"lakecolor\": \"white\", \"landcolor\": \"#E5ECF6\", \"showlakes\": true, \"showland\": true, \"subunitcolor\": \"white\"}, \"hoverlabel\": {\"align\": \"left\"}, \"hovermode\": \"closest\", \"mapbox\": {\"style\": \"light\"}, \"paper_bgcolor\": \"white\", \"plot_bgcolor\": \"#E5ECF6\", \"polar\": {\"angularaxis\": {\"gridcolor\": \"white\", \"linecolor\": \"white\", \"ticks\": \"\"}, \"bgcolor\": \"#E5ECF6\", \"radialaxis\": {\"gridcolor\": \"white\", \"linecolor\": \"white\", \"ticks\": \"\"}}, \"scene\": {\"xaxis\": {\"backgroundcolor\": \"#E5ECF6\", \"gridcolor\": \"white\", \"gridwidth\": 2, \"linecolor\": \"white\", \"showbackground\": true, \"ticks\": \"\", \"zerolinecolor\": \"white\"}, \"yaxis\": {\"backgroundcolor\": \"#E5ECF6\", \"gridcolor\": \"white\", \"gridwidth\": 2, \"linecolor\": \"white\", \"showbackground\": true, \"ticks\": \"\", \"zerolinecolor\": \"white\"}, \"zaxis\": {\"backgroundcolor\": \"#E5ECF6\", \"gridcolor\": \"white\", \"gridwidth\": 2, \"linecolor\": \"white\", \"showbackground\": true, \"ticks\": \"\", \"zerolinecolor\": \"white\"}}, \"shapedefaults\": {\"line\": {\"color\": \"#2a3f5f\"}}, \"ternary\": {\"aaxis\": {\"gridcolor\": \"white\", \"linecolor\": \"white\", \"ticks\": \"\"}, \"baxis\": {\"gridcolor\": \"white\", \"linecolor\": \"white\", \"ticks\": \"\"}, \"bgcolor\": \"#E5ECF6\", \"caxis\": {\"gridcolor\": \"white\", \"linecolor\": \"white\", \"ticks\": \"\"}}, \"title\": {\"x\": 0.05}, \"xaxis\": {\"automargin\": true, \"gridcolor\": \"white\", \"linecolor\": \"white\", \"ticks\": \"\", \"title\": {\"standoff\": 15}, \"zerolinecolor\": \"white\", \"zerolinewidth\": 2}, \"yaxis\": {\"automargin\": true, \"gridcolor\": \"white\", \"linecolor\": \"white\", \"ticks\": \"\", \"title\": {\"standoff\": 15}, \"zerolinecolor\": \"white\", \"zerolinewidth\": 2}}}, \"title\": {\"text\": \"H-Clustering -Abstracts+Titles - Separated Development of fields: Docs 1990 to 2017-2018 with Enhanced number of clusters  - pow 1 - thresh 0.975\"}, \"width\": 1500},\n",
       "                        {\"responsive\": true}\n",
       "                    ).then(function(){\n",
       "                            \n",
       "var gd = document.getElementById('82a44e62-02e1-4fa5-8027-37e7b5dc955a');\n",
       "var x = new MutationObserver(function (mutations, observer) {{\n",
       "        var display = window.getComputedStyle(gd).display;\n",
       "        if (!display || display === 'none') {{\n",
       "            console.log([gd, 'removed!']);\n",
       "            Plotly.purge(gd);\n",
       "            observer.disconnect();\n",
       "        }}\n",
       "}});\n",
       "\n",
       "// Listen for the removal of the full notebook cells\n",
       "var notebookContainer = gd.closest('#notebook-container');\n",
       "if (notebookContainer) {{\n",
       "    x.observe(notebookContainer, {childList: true});\n",
       "}}\n",
       "\n",
       "// Listen for the clearing of the current output cell\n",
       "var outputEl = gd.closest('.output');\n",
       "if (outputEl) {{\n",
       "    x.observe(outputEl, {childList: true});\n",
       "}}\n",
       "\n",
       "                        })\n",
       "                };\n",
       "                });\n",
       "            </script>\n",
       "        </div>"
      ]
     },
     "metadata": {},
     "output_type": "display_data"
    }
   ],
   "source": [
    "fig = go.Figure(data=[go.Sankey(\n",
    "    node = dict(\n",
    "      pad = 15,\n",
    "      thickness = 10,\n",
    "      line = dict(color = \"black\", width = 0),\n",
    "      label = labels_all,\n",
    "      color = colors_all #\"blue\"\n",
    "    ),\n",
    "    link = dict(\n",
    "      source = similarity_source,# 1, 0, 2, 3, 3], # indices correspond to labels, eg A1, A2, A2, B1, ...\n",
    "      target = similarity_target,# 3, 3, 4, 4, 5],\n",
    "      value = similarity_value,# 4, 2, 8, 4, 2],\n",
    "      color = final_colors_links #\"grey\"\n",
    "  ))])\n",
    "\n",
    "fig.update_layout(title_text=\"H-Clustering -\"+data_type+\" Development of fields: Docs 1990 to \"+last_period_start+\"-2018 with Enhanced number of clusters  - pow \"+str(power)+\" - thresh \"+str(link_strength_threshold), font_size=11)\n",
    "fig.update_layout(\n",
    "    autosize=False,\n",
    "    width=1500,\n",
    "    height=900)\n",
    "fig.show()"
   ]
  },
  {
   "cell_type": "code",
   "execution_count": null,
   "metadata": {},
   "outputs": [],
   "source": []
  },
  {
   "cell_type": "code",
   "execution_count": null,
   "metadata": {},
   "outputs": [],
   "source": []
  }
 ],
 "metadata": {
  "kernelspec": {
   "display_name": "Python 3",
   "language": "python",
   "name": "python3"
  },
  "language_info": {
   "codemirror_mode": {
    "name": "ipython",
    "version": 3
   },
   "file_extension": ".py",
   "mimetype": "text/x-python",
   "name": "python",
   "nbconvert_exporter": "python",
   "pygments_lexer": "ipython3",
   "version": "3.7.7"
  }
 },
 "nbformat": 4,
 "nbformat_minor": 2
}
