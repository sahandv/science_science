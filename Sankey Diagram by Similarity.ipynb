{
 "cells": [
  {
   "cell_type": "markdown",
   "metadata": {},
   "source": [
    "# Sankey Diagram by Similarity Scores\n"
   ]
  },
  {
   "cell_type": "markdown",
   "metadata": {},
   "source": [
    "### Import Libs"
   ]
  },
  {
   "cell_type": "code",
   "execution_count": 1,
   "metadata": {},
   "outputs": [],
   "source": [
    "import plotly.graph_objects as go\n",
    "from skimage import io\n",
    "import urllib, json\n",
    "import pandas as pd\n",
    "import numpy as np\n",
    "from sciosci.assets import advanced_assets as aa\n",
    "from tqdm import tqdm\n",
    "import re"
   ]
  },
  {
   "cell_type": "markdown",
   "metadata": {},
   "source": [
    "### Initialize"
   ]
  },
  {
   "cell_type": "code",
   "execution_count": 38,
   "metadata": {},
   "outputs": [],
   "source": [
    "random_link_colors = False\n",
    "multi_year_similarity = True\n",
    "\n",
    "comment = ''\n",
    "clustering_method = 'agglomerative ward '\n",
    "link_strength_threshold = 0.750\n",
    "link_strength_threshold_2 = 0.750\n",
    "power = 1 # value power for increasing the differences "
   ]
  },
  {
   "cell_type": "markdown",
   "metadata": {},
   "source": [
    "#### Separated years\n",
    "\n",
    "Data N/A"
   ]
  },
  {
   "cell_type": "code",
   "execution_count": null,
   "metadata": {},
   "outputs": [],
   "source": [
    "last_period_start = \"2017\"\n",
    "data_type = \"Author Keywords - Separated\"\n",
    "year_periods_topics = [\"7\",\"9\",\"9\",\"9\",\"9\",\"9\"]  \n",
    "# Sorted periods' topic numbers from new to old from left to right\n",
    "year_periods = [\"1990-2004\",\"2005-2007\",\"2008-2010\",\"2011-2013\",\"2014-2016\",\"2017-2018\"] \n",
    "# Sorted year periods from new to old from left to right\n",
    "data_directory = 'data/clusters/FastText/15D/10 dim/'"
   ]
  },
  {
   "cell_type": "markdown",
   "metadata": {},
   "source": [
    "#### cumulative years"
   ]
  },
  {
   "cell_type": "code",
   "execution_count": 3,
   "metadata": {},
   "outputs": [],
   "source": [
    "last_period_start = \"1990\"\n",
    "data_type = \"Author Keywords - Cumulative\"\n",
    "year_periods_topics = [\"7\",\"8\",\"10\",\"10\",\"10\",\"11\"]  \n",
    "# Sorted periods' topic numbers from new to old from left to right\n",
    "year_periods = [\"1990-2004\",\"1990-2007\",\"1990-2010\",\"1990-2013\",\"1990-2016\",\"1990-2018\"] \n",
    "# Sorted year periods from new to old from left to right\n",
    "data_directory = 'data/clusters/FastText/15D/10 dim/'"
   ]
  },
  {
   "cell_type": "markdown",
   "metadata": {},
   "source": [
    "#### cumulative documents"
   ]
  },
  {
   "cell_type": "code",
   "execution_count": 3,
   "metadata": {},
   "outputs": [],
   "source": [
    "last_period_start = \"1990\"\n",
    "label_source = 'topics/'#authkeyword/'\n",
    "data_type = \"Abstracts+Titles - Cumulative\"\n",
    "year_periods_topics = [\"9\",\"10\",\"11\",\"14\",\"15\",\"15\"]\n",
    "# Sorted periods' topic numbers from new to old from left to right\n",
    "year_periods = [\"1990-2004\",\"1990-2007\",\"1990-2010\",\"1990-2013\",\"1990-2016\",\"1990-2018\"] \n",
    "# Sorted year periods from new to old from left to right\n",
    "data_directory = '/home/sahand/GoogleDrive/Data/FastText doc clusters - SIP/50D/'\n",
    "#'data/clusters/FastText/50D/'"
   ]
  },
  {
   "cell_type": "markdown",
   "metadata": {},
   "source": [
    "### Read & Prepare Data"
   ]
  },
  {
   "cell_type": "markdown",
   "metadata": {},
   "source": [
    "Generate nodes and links"
   ]
  },
  {
   "cell_type": "code",
   "execution_count": 14,
   "metadata": {},
   "outputs": [
    {
     "name": "stdout",
     "output_type": "stream",
     "text": [
      "Node colors are:\n"
     ]
    },
    {
     "data": {
      "image/png": "[encoded data removed]",
      "text/plain": [
       "<Figure size 432x288 with 1 Axes>"
      ]
     },
     "metadata": {
      "needs_background": "light"
     },
     "output_type": "display_data"
    }
   ],
   "source": [
    "node_colors_palette = aa.color_palette_maker(len(year_periods_topics),alpha=0.8)\n",
    "node_colors = ['rgba('+str(x).replace('[','').replace(']','')+')' for x in node_colors_palette]\n",
    "link_colors = [x[:-4]+'0.4)' for x in node_colors]\n",
    "node_colors_palette = np.array([node_colors_palette])\n",
    "print(\"Node colors are:\")\n",
    "io.imshow(np.delete(node_colors_palette,3,1))\n",
    "labels_numeric_dict = {per:[] for per in year_periods}\n"
   ]
  },
  {
   "cell_type": "code",
   "execution_count": 15,
   "metadata": {},
   "outputs": [],
   "source": [
    "def color_alternator(rgba_colors,up_thresh = 0.8, down_thresh = 0.2, color_part = 2):\n",
    "    new_colors = []\n",
    "    color_s = rgba_colors[0].split(', ')\n",
    "    cell = float(rgba_colors[0].split(', ')[color_part])\n",
    "    if cell > 0.5:\n",
    "        portion = (cell-down_thresh)/len(rgba_colors)\n",
    "    else:\n",
    "        portion = (up_thresh-cell)/len(rgba_colors)\n",
    "\n",
    "    for idx,color in enumerate(topic_colors):\n",
    "        if cell > 0.5:\n",
    "            new_cell = cell-(idx+1)*portion\n",
    "        else:\n",
    "            new_cell = cell+(idx+1)*portion\n",
    "\n",
    "        color_s[color_part] = str(new_cell)\n",
    "        new_colors.append(', '.join(color_s))\n",
    "    return new_colors"
   ]
  },
  {
   "cell_type": "markdown",
   "metadata": {},
   "source": [
    "### Process"
   ]
  },
  {
   "cell_type": "markdown",
   "metadata": {},
   "source": [
    "#### Multi year similarity"
   ]
  },
  {
   "cell_type": "code",
   "execution_count": 16,
   "metadata": {},
   "outputs": [
    {
     "data": {
      "text/plain": [
       "[[0, 1, 2, 3, 4, 5, 6, 7, 8],\n",
       " [9, 10, 11, 12, 13, 14, 15, 16, 17, 18],\n",
       " [19, 20, 21, 22, 23, 24, 25, 26, 27, 28, 29],\n",
       " [30, 31, 32, 33, 34, 35, 36, 37, 38, 39, 40, 41, 42, 43],\n",
       " [44, 45, 46, 47, 48, 49, 50, 51, 52, 53, 54, 55, 56, 57, 58],\n",
       " [59, 60, 61, 62, 63, 64, 65, 66, 67, 68, 69, 70, 71, 72, 73]]"
      ]
     },
     "execution_count": 16,
     "metadata": {},
     "output_type": "execute_result"
    }
   ],
   "source": [
    "# Give unique ID to all clusters\n",
    "total = 0\n",
    "cluster_ids = []\n",
    "for period_index, period in enumerate(year_periods):\n",
    "    cluster_ids.append(list(range(total,int(year_periods_topics[period_index])+total)))\n",
    "    total = total + int(year_periods_topics[period_index])\n",
    "cluster_ids"
   ]
  },
  {
   "cell_type": "code",
   "execution_count": 39,
   "metadata": {},
   "outputs": [
    {
     "name": "stderr",
     "output_type": "stream",
     "text": [
      "100%|██████████| 9/9 [00:00<00:00, 1799.79it/s]\n",
      "100%|██████████| 10/10 [00:00<00:00, 1467.62it/s]\n",
      "100%|██████████| 11/11 [00:00<00:00, 1204.28it/s]\n",
      "100%|██████████| 14/14 [00:00<00:00, 1736.87it/s]"
     ]
    },
    {
     "name": "stdout",
     "output_type": "stream",
     "text": [
      "1990-2004 9 0\n",
      "1990-2007 10 9\n",
      "1990-2010 11 19\n",
      "1990-2013 14 30\n"
     ]
    },
    {
     "name": "stderr",
     "output_type": "stream",
     "text": [
      "\n",
      "100%|██████████| 15/15 [00:00<00:00, 1048.37it/s]\n",
      "100%|██████████| 15/15 [00:00<00:00, 1674.33it/s]"
     ]
    },
    {
     "name": "stdout",
     "output_type": "stream",
     "text": [
      "1990-2016 15 44\n",
      "1990-2018 15 59\n"
     ]
    },
    {
     "name": "stderr",
     "output_type": "stream",
     "text": [
      "\n"
     ]
    }
   ],
   "source": [
    "labels_all = []\n",
    "labels_all_numeric = []\n",
    "labels_all_numeric_sequential = []\n",
    "colors_all = []\n",
    "colors_all_links = []\n",
    "\n",
    "similarity_source = []\n",
    "similarity_target = []\n",
    "similarity_value = []\n",
    "\n",
    "if multi_year_similarity is True:\n",
    "    for period_index, period in enumerate(year_periods):\n",
    "        print(period,year_periods_topics[period_index],cluster_ids[period_index][0])\n",
    "\n",
    "        terms = pd.read_csv(data_directory+'term_cluster-tables/'+label_source+clustering_method+period+\" \"+year_periods_topics[period_index]+\" - term_cluster.csv\").fillna('')\n",
    "        scores = pd.read_csv(data_directory+'term_cluster-tables/'+label_source+clustering_method+period+\" \"+year_periods_topics[period_index]+\" - term_score.csv\").fillna(0)\n",
    "    \n",
    "        \n",
    "        labels_this_period = aa.topic_label_maker(terms,scores,ratio=10,\n",
    "                                                  prefix=period.split('-')[1][-2:]+' - ',limit=5)\n",
    "        labels_all = labels_all + labels_this_period\n",
    "        labels_all_numeric = labels_all_numeric + [str(x) for x in list(range(0,len(labels_this_period)))]\n",
    "        \n",
    "        topic_colors = [node_colors[period_index]] * len(labels_this_period)\n",
    "        topic_colors = color_alternator(topic_colors,up_thresh = 0.99, down_thresh = 0.01, color_part = 2)\n",
    "        colors_all = colors_all + topic_colors\n",
    "        \n",
    "        topic_link_colors = [link_colors[period_index]] * len(labels_this_period)\n",
    "        topic_link_colors = color_alternator(topic_link_colors,up_thresh = 0.99, down_thresh = 0.01, color_part = 2)\n",
    "        colors_all_links = colors_all_links + topic_link_colors\n",
    "        \n",
    "    #    similarity_scores = None\n",
    "        if period_index < len(year_periods) - 1:\n",
    "            similarity_scores = pd.read_csv(data_directory+'similarity/'+clustering_method+year_periods[period_index]+\"_\"+year_periods_topics[period_index]+\"-\"+year_periods[period_index+1]+\"_\"+year_periods_topics[period_index+1]+\".csv\")\n",
    "    #        terms_previous_period = pd.read_csv(data_directory+\"cumulative/\"+year_periods[period_index+1]+\"_\"+year_periods_topics[period_index+1]+\"/top_99-percentile_keywords_terms-spaced.csv\")\n",
    "\n",
    "            # flatten the similarity scores\n",
    "            for period_cluster_no,row in similarity_scores.iterrows(): # repeat to n_clusters of A\n",
    "\n",
    "                elem_num = len(row.values.tolist()) # number of columns in similarity file\n",
    "                for idx in range(1,elem_num,2):     # repeat to n_clusters of B\n",
    "                    if row.values.tolist()[idx+1]**power > link_strength_threshold:\n",
    "                        similarity_source.append(int(row.values.tolist()[0]) + cluster_ids[period_index][0])\n",
    "                        similarity_target.append(int(row.values.tolist()[idx]) + cluster_ids[period_index+1][0])\n",
    "                        similarity_value.append(row.values.tolist()[idx+1]**power)\n",
    "                \n",
    "        if period_index < len(year_periods) - 2:\n",
    "            try:\n",
    "                similarity_scores = pd.read_csv(data_directory+'similarity/'+clustering_method+year_periods[period_index]+\"_\"+year_periods_topics[period_index]+\"-\"+year_periods[period_index+2]+\"_\"+year_periods_topics[period_index+2]+\".csv\")\n",
    "    #        terms_previous_period = pd.read_csv(data_directory+\"cumulative/\"+year_periods[period_index+1]+\"_\"+year_periods_topics[period_index+1]+\"/top_99-percentile_keywords_terms-spaced.csv\")\n",
    "            except:\n",
    "                print(\"\\nThere is no similarity record at \",data_directory+'similarity/'+clustering_method+year_periods[period_index]+\"_\"+year_periods_topics[period_index]+\"-\"+year_periods[period_index+2]+\"_\"+year_periods_topics[period_index+2]+\".csv\")\n",
    "                similarity_scores = None\n",
    "                continue\n",
    "                \n",
    "            for period_cluster_no,row in similarity_scores.iterrows(): # repeat to n_clusters of A\n",
    "\n",
    "                elem_num = len(row.values.tolist()) # number of columns in similarity file\n",
    "                for idx in range(1,elem_num,2):     # repeat to n_clusters of B\n",
    "                    if row.values.tolist()[idx+1]**power > link_strength_threshold_2:\n",
    "                        similarity_source.append(int(row.values.tolist()[0]) + cluster_ids[period_index][0])\n",
    "                        similarity_target.append(int(row.values.tolist()[idx]) + cluster_ids[period_index+2][0])\n",
    "                        similarity_value.append(row.values.tolist()[idx+1]**power)\n",
    "                \n",
    "                \n",
    "    labels_all_numeric_sequential = [str(x) for x in list(range(0,len(labels_all_numeric)))]"
   ]
  },
  {
   "cell_type": "markdown",
   "metadata": {},
   "source": [
    "### Draw"
   ]
  },
  {
   "cell_type": "markdown",
   "metadata": {},
   "source": [
    "#### Prepare links"
   ]
  },
  {
   "cell_type": "markdown",
   "metadata": {},
   "source": [
    "* For clustered colors:"
   ]
  },
  {
   "cell_type": "code",
   "execution_count": 40,
   "metadata": {},
   "outputs": [
    {
     "name": "stderr",
     "output_type": "stream",
     "text": [
      "100%|██████████| 97/97 [00:00<00:00, 55091.06it/s]\n"
     ]
    }
   ],
   "source": [
    "if random_link_colors is False:\n",
    "    final_colors_links = [colors_all_links[x] for x in similarity_source] # in similarity_source]\n",
    "    final_color_links_varied = []\n",
    "    for i,value in tqdm(enumerate(similarity_value),total=len(similarity_value)):\n",
    "        final_color_links_varied.append(final_colors_links[i].replace(', 0.4',', '+str(value/2)))\n",
    "#         print(final_color_links_varied[i])\n",
    "    final_colors_links = final_color_links_varied"
   ]
  },
  {
   "cell_type": "markdown",
   "metadata": {},
   "source": [
    "* For random colors:"
   ]
  },
  {
   "cell_type": "code",
   "execution_count": 41,
   "metadata": {},
   "outputs": [],
   "source": [
    "if random_link_colors is True:\n",
    "    final_colors_links = ['rgba('+str(x).replace('[','').replace(']','')+')' for x in aa.color_palette_maker(len(similarity_target),alpha=0.3)]"
   ]
  },
  {
   "cell_type": "markdown",
   "metadata": {},
   "source": [
    "#### Prepare labels"
   ]
  },
  {
   "cell_type": "code",
   "execution_count": 42,
   "metadata": {},
   "outputs": [
    {
     "name": "stderr",
     "output_type": "stream",
     "text": [
      "100%|██████████| 74/74 [00:00<00:00, 17879.98it/s]\n"
     ]
    }
   ],
   "source": [
    "labels_all_new = []\n",
    "for label in tqdm(labels_all):\n",
    "    label_to_split = label.split('- ')\n",
    "    label_split = label_to_split[1].split(', ')\n",
    "    label_split_new = []\n",
    "    for split in label_split:\n",
    "        if len(split)>20:\n",
    "            label_split_new.append(aa.abbreviator(split))\n",
    "        else:\n",
    "            label_split_new.append(split)\n",
    "    labels_all_new.append(label_to_split[0]+'- '+', '.join(label_split_new))\n",
    "labels_all_new = [label.replace('computer science','cs').replace('engineering','en') for label in labels_all_new]"
   ]
  },
  {
   "cell_type": "markdown",
   "metadata": {},
   "source": [
    "#### Draw"
   ]
  },
  {
   "cell_type": "code",
   "execution_count": 43,
   "metadata": {},
   "outputs": [
    {
     "data": {
      "application/vnd.plotly.v1+json": {
       "config": {
        "plotlyServerURL": "https://plot.ly"
       },
       "data": [
        {
         "link": {
          "color": [
           "rgba(0.046875, 0.56640625, 0.44617292543032268432291666666666, 0.4461729254303226)",
           "rgba(0.046875, 0.56640625, 0.7732812499999999, 0.3799723715990725)",
           "rgba(0.046875, 0.56640625, 0.8455208333333333, 0.4240713236007512)",
           "rgba(0.046875, 0.56640625, 0.9177604166666666, 0.4215283147758498)",
           "rgba(0.046875, 0.56640625, 0.399712668740663141208333333333336, 0.39971266874066314)",
           "rgba(0.046875, 0.56640625, 0.8455208333333333, 0.39906602569372474)",
           "rgba(0.046875, 0.56640625, 0.8455208333333333, 0.4065144549597727)",
           "rgba(0.046875, 0.56640625, 0.9177604166666666, 0.3815229128038473)",
           "rgba(0.140625, 0.75, 0.393100465269594675609375, 0.3931004652695946)",
           "rgba(0.140625, 0.75, 0.434516745092961823875, 0.4345167450929618)",
           "rgba(0.140625, 0.75, 0.32040625, 0.4785479709586537)",
           "rgba(0.140625, 0.75, 0.268671875, 0.4311882431504408)",
           "rgba(0.140625, 0.75, 0.2169375, 0.4987471431054552)",
           "rgba(0.140625, 0.75, 0.165203125, 0.38732096071680966)",
           "rgba(0.140625, 0.75, 0.11346875000000001, 0.38097319656949297)",
           "rgba(0.140625, 0.75, 0.11346875000000001, 0.4821151717232761)",
           "rgba(0.140625, 0.75, 0.06173437500000001, 0.4574557498511144)",
           "rgba(0.140625, 0.75, 0.010000000000000009, 0.4955671006350443)",
           "rgba(0.140625, 0.75, 0.475482998983628675609375, 0.4754829989836286)",
           "rgba(0.140625, 0.75, 0.490204922459231223875, 0.4902049224592312)",
           "rgba(0.140625, 0.75, 0.372140625, 0.41441736399909296)",
           "rgba(0.140625, 0.75, 0.372140625, 0.4209424488665884)",
           "rgba(0.140625, 0.75, 0.32040625, 0.4720592497011508)",
           "rgba(0.140625, 0.75, 0.268671875, 0.4503647261913729)",
           "rgba(0.140625, 0.75, 0.2169375, 0.4917849968054276)",
           "rgba(0.140625, 0.75, 0.165203125, 0.45658346915277453)",
           "rgba(0.140625, 0.75, 0.11346875000000001, 0.4857795773686406)",
           "rgba(0.140625, 0.75, 0.06173437500000001, 0.4605329102764392)",
           "rgba(0.140625, 0.75, 0.010000000000000009, 0.4909459287574751)",
           "rgba(0.8828125, 0.98046875, 0.6720738636363637, 0.4771567983527849)",
           "rgba(0.8828125, 0.98046875, 0.6720738636363637, 0.3823190992920849)",
           "rgba(0.8828125, 0.98046875, 0.6058664772727272, 0.4532212645629527)",
           "rgba(0.8828125, 0.98046875, 0.6058664772727272, 0.4079465305657548)",
           "rgba(0.8828125, 0.98046875, 0.5396590909090909, 0.39731445266295595)",
           "rgba(0.8828125, 0.98046875, 0.5396590909090909, 0.4312335553993496)",
           "rgba(0.8828125, 0.98046875, 0.49683732673979447345170454545454, 0.4968373267397944)",
           "rgba(0.8828125, 0.98046875, 0.48680394774668180724431818181817, 0.4868039477466818)",
           "rgba(0.8828125, 0.98046875, 0.2086221590909091, 0.49362026827198)",
           "rgba(0.8828125, 0.98046875, 0.14241477272727276, 0.4938331196772784)",
           "rgba(0.8828125, 0.98046875, 0.07620738636363633, 0.44405037581556683)",
           "rgba(0.8828125, 0.98046875, 0.010000000000000009, 0.38343821352443624)",
           "rgba(0.8828125, 0.98046875, 0.6720738636363637, 0.40255452922772283)",
           "rgba(0.8828125, 0.98046875, 0.6720738636363637, 0.470731446014676)",
           "rgba(0.8828125, 0.98046875, 0.6058664772727272, 0.4716846848049604)",
           "rgba(0.8828125, 0.98046875, 0.6058664772727272, 0.39760895756742837)",
           "rgba(0.8828125, 0.98046875, 0.5396590909090909, 0.38046591792418677)",
           "rgba(0.8828125, 0.98046875, 0.5396590909090909, 0.4468519875431591)",
           "rgba(0.8828125, 0.98046875, 0.424994723282553067345170454545454, 0.42499472328255306)",
           "rgba(0.8828125, 0.98046875, 0.47537211545303240724431818181817, 0.4753721154530324)",
           "rgba(0.8828125, 0.98046875, 0.34103693181818184, 0.40347364570245897)",
           "rgba(0.8828125, 0.98046875, 0.2086221590909091, 0.49516663442760994)",
           "rgba(0.8828125, 0.98046875, 0.14241477272727276, 0.4753477447922924)",
           "rgba(0.8828125, 0.98046875, 0.07620738636363633, 0.4613751250578716)",
           "rgba(0.8828125, 0.98046875, 0.010000000000000009, 0.4544918143431895)",
           "rgba(0.17578125, 0.71484375, 0.13600446428571428, 0.4930267929543124)",
           "rgba(0.17578125, 0.71484375, 0.20169642857142858, 0.4623818055973516)",
           "rgba(0.17578125, 0.71484375, 0.2673883928571429, 0.4431975950590405)",
           "rgba(0.17578125, 0.71484375, 0.33308035714285716, 0.4836010694275314)",
           "rgba(0.17578125, 0.71484375, 0.4760824781563928644642857142858, 0.4760824781563928)",
           "rgba(0.17578125, 0.71484375, 0.5301562500000001, 0.477364804071693)",
           "rgba(0.17578125, 0.71484375, 0.5958482142857143, 0.4971663842125788)",
           "rgba(0.17578125, 0.71484375, 0.6615401785714287, 0.4903951914028804)",
           "rgba(0.17578125, 0.71484375, 0.7929241071428572, 0.4886568665703197)",
           "rgba(0.17578125, 0.71484375, 0.8586160714285715, 0.45533644732215)",
           "rgba(0.17578125, 0.71484375, 0.9243080357142858, 0.4639384975959024)",
           "rgba(0.17578125, 0.71484375, 0.9900000000000001, 0.4434468959364736)",
           "rgba(0.17578125, 0.71484375, 0.13600446428571428, 0.37599975288110804)",
           "rgba(0.17578125, 0.71484375, 0.13600446428571428, 0.4827212208640879)",
           "rgba(0.17578125, 0.71484375, 0.20169642857142858, 0.3793826233808134)",
           "rgba(0.17578125, 0.71484375, 0.20169642857142858, 0.4625205631449536)",
           "rgba(0.17578125, 0.71484375, 0.2673883928571429, 0.4963359639469503)",
           "rgba(0.17578125, 0.71484375, 0.33308035714285716, 0.4527951545557274)",
           "rgba(0.17578125, 0.71484375, 0.452275888878632644642857142858, 0.452275888878632)",
           "rgba(0.17578125, 0.71484375, 0.5301562500000001, 0.463924748714618)",
           "rgba(0.17578125, 0.71484375, 0.5958482142857143, 0.4862262232458745)",
           "rgba(0.17578125, 0.71484375, 0.6615401785714287, 0.486959240470149)",
           "rgba(0.17578125, 0.71484375, 0.7929241071428572, 0.4739881728591584)",
           "rgba(0.17578125, 0.71484375, 0.8586160714285715, 0.39612120983211757)",
           "rgba(0.17578125, 0.71484375, 0.8586160714285715, 0.3764839884754784)",
           "rgba(0.17578125, 0.71484375, 0.9243080357142858, 0.4839747088863)",
           "rgba(0.17578125, 0.71484375, 0.9900000000000001, 0.39016493400879243)",
           "rgba(0.88671875, 0.375, 0.8938958333333333, 0.4775169354146746)",
           "rgba(0.88671875, 0.375, 0.8307604166666667, 0.4945120836134698)",
           "rgba(0.88671875, 0.375, 0.767625, 0.44501496146915054)",
           "rgba(0.88671875, 0.375, 0.7044895833333333, 0.4493059938454404)",
           "rgba(0.88671875, 0.375, 0.6413541666666667, 0.43692021184221497)",
           "rgba(0.88671875, 0.375, 0.57821875, 0.42803983608022367)",
           "rgba(0.88671875, 0.375, 0.5150833333333333, 0.4883535711656728)",
           "rgba(0.88671875, 0.375, 0.412063037127165975194791666666667, 0.41206303712716597)",
           "rgba(0.88671875, 0.375, 0.3888125, 0.4052978038918981)",
           "rgba(0.88671875, 0.375, 0.32567708333333334, 0.478543855435532)",
           "rgba(0.88671875, 0.375, 0.2625416666666667, 0.41961751491896404)",
           "rgba(0.88671875, 0.375, 0.2625416666666667, 0.37715120866811924)",
           "rgba(0.88671875, 0.375, 0.19940625, 0.4865917536616044)",
           "rgba(0.88671875, 0.375, 0.13627083333333334, 0.4523813702967601)",
           "rgba(0.88671875, 0.375, 0.07313541666666667, 0.3766170684206919)",
           "rgba(0.88671875, 0.375, 0.010000000000000009, 0.4720040301455056)"
          ],
          "source": [
           1,
           5,
           6,
           7,
           0,
           6,
           6,
           7,
           9,
           10,
           12,
           13,
           14,
           15,
           16,
           16,
           17,
           18,
           9,
           10,
           11,
           11,
           12,
           13,
           14,
           15,
           16,
           17,
           18,
           19,
           19,
           20,
           20,
           21,
           21,
           22,
           23,
           26,
           27,
           28,
           29,
           19,
           19,
           20,
           20,
           21,
           21,
           22,
           23,
           24,
           26,
           27,
           28,
           29,
           30,
           31,
           32,
           33,
           35,
           36,
           37,
           38,
           40,
           41,
           42,
           43,
           30,
           30,
           31,
           31,
           32,
           33,
           35,
           36,
           37,
           38,
           40,
           41,
           41,
           42,
           43,
           44,
           45,
           46,
           47,
           48,
           49,
           50,
           51,
           52,
           53,
           54,
           54,
           55,
           56,
           57,
           58
          ],
          "target": [
           9,
           16,
           16,
           9,
           24,
           24,
           27,
           24,
           21,
           20,
           19,
           29,
           26,
           20,
           24,
           27,
           23,
           22,
           42,
           30,
           41,
           43,
           36,
           31,
           37,
           40,
           33,
           38,
           32,
           36,
           41,
           30,
           40,
           35,
           42,
           32,
           38,
           37,
           33,
           31,
           31,
           44,
           46,
           45,
           53,
           47,
           49,
           56,
           50,
           52,
           55,
           52,
           48,
           54,
           45,
           54,
           56,
           52,
           49,
           46,
           55,
           50,
           53,
           44,
           47,
           58,
           65,
           68,
           63,
           66,
           62,
           64,
           67,
           73,
           71,
           70,
           60,
           63,
           69,
           59,
           69,
           63,
           68,
           73,
           59,
           66,
           67,
           70,
           61,
           64,
           60,
           61,
           66,
           71,
           62,
           66,
           69
          ],
          "value": [
           0.8923458508606452,
           0.759944743198145,
           0.8481426472015025,
           0.8430566295516996,
           0.7994253374813263,
           0.7981320513874495,
           0.8130289099195454,
           0.7630458256076946,
           0.7862009305391892,
           0.8690334901859236,
           0.9570959419173074,
           0.8623764863008816,
           0.9974942862109104,
           0.7746419214336193,
           0.7619463931389859,
           0.9642303434465522,
           0.9149114997022288,
           0.9911342012700886,
           0.9509659979672572,
           0.9804098449184624,
           0.8288347279981859,
           0.8418848977331768,
           0.9441184994023016,
           0.9007294523827458,
           0.9835699936108552,
           0.9131669383055491,
           0.9715591547372812,
           0.9210658205528784,
           0.9818918575149502,
           0.9543135967055698,
           0.7646381985841698,
           0.9064425291259054,
           0.8158930611315096,
           0.7946289053259119,
           0.8624671107986992,
           0.9936746534795888,
           0.9736078954933636,
           0.98724053654396,
           0.9876662393545568,
           0.8881007516311337,
           0.7668764270488725,
           0.8051090584554457,
           0.941462892029352,
           0.9433693696099208,
           0.7952179151348567,
           0.7609318358483735,
           0.8937039750863182,
           0.8499894465651061,
           0.9507442309060647,
           0.8069472914049179,
           0.9903332688552199,
           0.9506954895845848,
           0.9227502501157432,
           0.908983628686379,
           0.9860535859086248,
           0.9247636111947032,
           0.886395190118081,
           0.9672021388550628,
           0.9521649563127856,
           0.954729608143386,
           0.9943327684251576,
           0.9807903828057608,
           0.9773137331406394,
           0.9106728946443,
           0.9278769951918048,
           0.8868937918729471,
           0.7519995057622161,
           0.9654424417281758,
           0.7587652467616268,
           0.9250411262899072,
           0.9926719278939006,
           0.9055903091114548,
           0.904551777757264,
           0.927849497429236,
           0.972452446491749,
           0.973918480940298,
           0.9479763457183168,
           0.7922424196642351,
           0.7529679769509569,
           0.9679494177726,
           0.7803298680175849,
           0.9550338708293492,
           0.9890241672269396,
           0.8900299229383011,
           0.8986119876908808,
           0.8738404236844299,
           0.8560796721604473,
           0.9767071423313456,
           0.8241260742543319,
           0.8105956077837962,
           0.957087710871064,
           0.8392350298379281,
           0.7543024173362385,
           0.9731835073232088,
           0.9047627405935202,
           0.7532341368413839,
           0.9440080602910113
          ]
         },
         "node": {
          "color": [
           "rgba(0.046875, 0.56640625, 0.41208333333333336, 0.8)",
           "rgba(0.046875, 0.56640625, 0.48432291666666666, 0.8)",
           "rgba(0.046875, 0.56640625, 0.5565625, 0.8)",
           "rgba(0.046875, 0.56640625, 0.6288020833333333, 0.8)",
           "rgba(0.046875, 0.56640625, 0.7010416666666667, 0.8)",
           "rgba(0.046875, 0.56640625, 0.7732812499999999, 0.8)",
           "rgba(0.046875, 0.56640625, 0.8455208333333333, 0.8)",
           "rgba(0.046875, 0.56640625, 0.9177604166666666, 0.8)",
           "rgba(0.046875, 0.56640625, 0.99, 0.8)",
           "rgba(0.140625, 0.75, 0.475609375, 0.8)",
           "rgba(0.140625, 0.75, 0.423875, 0.8)",
           "rgba(0.140625, 0.75, 0.372140625, 0.8)",
           "rgba(0.140625, 0.75, 0.32040625, 0.8)",
           "rgba(0.140625, 0.75, 0.268671875, 0.8)",
           "rgba(0.140625, 0.75, 0.2169375, 0.8)",
           "rgba(0.140625, 0.75, 0.165203125, 0.8)",
           "rgba(0.140625, 0.75, 0.11346875000000001, 0.8)",
           "rgba(0.140625, 0.75, 0.06173437500000001, 0.8)",
           "rgba(0.140625, 0.75, 0.010000000000000009, 0.8)",
           "rgba(0.8828125, 0.98046875, 0.6720738636363637, 0.8)",
           "rgba(0.8828125, 0.98046875, 0.6058664772727272, 0.8)",
           "rgba(0.8828125, 0.98046875, 0.5396590909090909, 0.8)",
           "rgba(0.8828125, 0.98046875, 0.47345170454545454, 0.8)",
           "rgba(0.8828125, 0.98046875, 0.40724431818181817, 0.8)",
           "rgba(0.8828125, 0.98046875, 0.34103693181818184, 0.8)",
           "rgba(0.8828125, 0.98046875, 0.27482954545454547, 0.8)",
           "rgba(0.8828125, 0.98046875, 0.2086221590909091, 0.8)",
           "rgba(0.8828125, 0.98046875, 0.14241477272727276, 0.8)",
           "rgba(0.8828125, 0.98046875, 0.07620738636363633, 0.8)",
           "rgba(0.8828125, 0.98046875, 0.010000000000000009, 0.8)",
           "rgba(0.17578125, 0.71484375, 0.13600446428571428, 0.8)",
           "rgba(0.17578125, 0.71484375, 0.20169642857142858, 0.8)",
           "rgba(0.17578125, 0.71484375, 0.2673883928571429, 0.8)",
           "rgba(0.17578125, 0.71484375, 0.33308035714285716, 0.8)",
           "rgba(0.17578125, 0.71484375, 0.39877232142857144, 0.8)",
           "rgba(0.17578125, 0.71484375, 0.4644642857142858, 0.8)",
           "rgba(0.17578125, 0.71484375, 0.5301562500000001, 0.8)",
           "rgba(0.17578125, 0.71484375, 0.5958482142857143, 0.8)",
           "rgba(0.17578125, 0.71484375, 0.6615401785714287, 0.8)",
           "rgba(0.17578125, 0.71484375, 0.7272321428571429, 0.8)",
           "rgba(0.17578125, 0.71484375, 0.7929241071428572, 0.8)",
           "rgba(0.17578125, 0.71484375, 0.8586160714285715, 0.8)",
           "rgba(0.17578125, 0.71484375, 0.9243080357142858, 0.8)",
           "rgba(0.17578125, 0.71484375, 0.9900000000000001, 0.8)",
           "rgba(0.88671875, 0.375, 0.8938958333333333, 0.8)",
           "rgba(0.88671875, 0.375, 0.8307604166666667, 0.8)",
           "rgba(0.88671875, 0.375, 0.767625, 0.8)",
           "rgba(0.88671875, 0.375, 0.7044895833333333, 0.8)",
           "rgba(0.88671875, 0.375, 0.6413541666666667, 0.8)",
           "rgba(0.88671875, 0.375, 0.57821875, 0.8)",
           "rgba(0.88671875, 0.375, 0.5150833333333333, 0.8)",
           "rgba(0.88671875, 0.375, 0.45194791666666667, 0.8)",
           "rgba(0.88671875, 0.375, 0.3888125, 0.8)",
           "rgba(0.88671875, 0.375, 0.32567708333333334, 0.8)",
           "rgba(0.88671875, 0.375, 0.2625416666666667, 0.8)",
           "rgba(0.88671875, 0.375, 0.19940625, 0.8)",
           "rgba(0.88671875, 0.375, 0.13627083333333334, 0.8)",
           "rgba(0.88671875, 0.375, 0.07313541666666667, 0.8)",
           "rgba(0.88671875, 0.375, 0.010000000000000009, 0.8)",
           "rgba(0.0703125, 0.9765625, 0.71525, 0.8)",
           "rgba(0.0703125, 0.9765625, 0.664875, 0.8)",
           "rgba(0.0703125, 0.9765625, 0.6145, 0.8)",
           "rgba(0.0703125, 0.9765625, 0.564125, 0.8)",
           "rgba(0.0703125, 0.9765625, 0.51375, 0.8)",
           "rgba(0.0703125, 0.9765625, 0.46337500000000004, 0.8)",
           "rgba(0.0703125, 0.9765625, 0.41300000000000003, 0.8)",
           "rgba(0.0703125, 0.9765625, 0.36262500000000003, 0.8)",
           "rgba(0.0703125, 0.9765625, 0.31225, 0.8)",
           "rgba(0.0703125, 0.9765625, 0.2618750000000001, 0.8)",
           "rgba(0.0703125, 0.9765625, 0.21150000000000002, 0.8)",
           "rgba(0.0703125, 0.9765625, 0.16112500000000007, 0.8)",
           "rgba(0.0703125, 0.9765625, 0.11075000000000002, 0.8)",
           "rgba(0.0703125, 0.9765625, 0.06037500000000007, 0.8)",
           "rgba(0.0703125, 0.9765625, 0.010000000000000009, 0.8)"
          ],
          "label": [
           "04 - cs, en, psychology",
           "04 - en, cs, A&CS, materials science, chemistry",
           "04 - en, cs, A&CS, OR&MS",
           "04 - cs, chemistry, en, B&MB, radiology, NM&MI",
           "04 - cs, en, OR&MS, A&CS",
           "04 - cs, en, mathematics, OR&MS, A&CS",
           "04 - cs, en, OR&MS, mathematics, A&CS",
           "04 - cs, en, OR&MS, business & economics, A&CS",
           "04 - cs, en, mathematics",
           "07 - cs, en, A&CS, OR&MS",
           "07 - cs, en",
           "07 - cs, en, A&CS, OR&MS, mathematics",
           "07 - cs, en, OR&MS, A&CS, mathematics",
           "07 - en, cs, A&CS, materials science, OR&MS",
           "07 - cs, mathematics, en",
           "07 - cs, en, A&CS, robotics",
           "07 - cs, en, mathematics",
           "07 - cs, en",
           "07 - cs, en, chemistry, B&MB, medical informatics",
           "10 - cs, en, OR&MS, A&CS, mathematics",
           "10 - cs, en, psychology",
           "10 - cs, en, OR&MS, A&CS, business & economics",
           "10 - cs, en, B&MB, chemistry, medical informatics",
           "10 - cs, en",
           "10 - cs, en, OR&MS, A&CS",
           "10 - cs, en, A&CS, robotics",
           "10 - cs, mathematics, en",
           "10 - cs, en, mathematics",
           "10 - en, cs, materials science, physics, chemistry",
           "10 - en, cs, A&CS, I&I",
           "13 - cs, en, psychology",
           "13 - en, cs, A&CS, materials science, energy & fuels",
           "13 - cs, en, B&MB, chemistry, medical informatics",
           "13 - cs, en, mathematics",
           "13 - cs, en, A&CS, OR&MS",
           "13 - cs, en, A&CS, OR&MS, business & economics",
           "13 - cs, en, OR&MS, A&CS, mathematics",
           "13 - cs, en, mathematics, OR&MS, A&CS",
           "13 - cs, en",
           "13 - cs, en, A&CS, robotics",
           "13 - cs, en, E&ER",
           "13 - cs, en, OR&MS, mathematics, A&CS",
           "13 - cs, en, OR&MS, A&CS",
           "13 - en, cs, physics, A&CS, optics",
           "16 - cs, en, A&CS, OR&MS, mathematics",
           "16 - cs, en, E&ER, psychology",
           "16 - cs, en, OR&MS, mathematics",
           "16 - cs, en, A&CS, OR&MS",
           "16 - en, cs, chemistry, materials science, B&MB",
           "16 - cs, en, business & economics, A&CS, OR&MS",
           "16 - cs, en",
           "16 - cs, en, telecommunications, A&CS, robotics",
           "16 - cs, en, mathematics",
           "16 - cs, en, E&ER, robotics",
           "16 - en, cs, A&CS, energy & fuels, materials science",
           "16 - cs, en, mathematics, OR&MS, A&CS",
           "16 - cs, en, medical informatics, radiology, NM&MI, HCS&S",
           "16 - en, cs, ES&E, business & economics, water resources",
           "16 - cs, en, A&CS, IS&PT",
           "18 - cs, en, A&CS, OR&MS",
           "18 - cs, en, E&ER, robotics, A&CS",
           "18 - en, cs, A&CS, telecommunications, energy & fuels",
           "18 - cs, en, medical informatics, B&MB, chemistry",
           "18 - en, cs, A&CS, energy & fuels",
           "18 - cs, en, mathematics",
           "18 - cs, en",
           "18 - en, cs, materials science, energy & fuels, ES&E",
           "18 - cs, en, business & economics, OR&MS, A&CS",
           "18 - cs, en, psychology, social sciences ",
           "18 - cs, en, telecommunications, IS&PT",
           "18 - cs, en",
           "18 - cs, en, mathematics, chemistry, physics",
           "18 - cs, en, medical informatics, radiology, NM&MI, HCS&S",
           "18 - cs, en, OR&MS, A&CS"
          ],
          "line": {
           "color": "black",
           "width": 0
          },
          "pad": 15,
          "thickness": 10
         },
         "type": "sankey"
        }
       ],
       "layout": {
        "autosize": false,
        "font": {
         "size": 11
        },
        "height": 900,
        "template": {
         "data": {
          "bar": [
           {
            "error_x": {
             "color": "#2a3f5f"
            },
            "error_y": {
             "color": "#2a3f5f"
            },
            "marker": {
             "line": {
              "color": "#E5ECF6",
              "width": 0.5
             }
            },
            "type": "bar"
           }
          ],
          "barpolar": [
           {
            "marker": {
             "line": {
              "color": "#E5ECF6",
              "width": 0.5
             }
            },
            "type": "barpolar"
           }
          ],
          "carpet": [
           {
            "aaxis": {
             "endlinecolor": "#2a3f5f",
             "gridcolor": "white",
             "linecolor": "white",
             "minorgridcolor": "white",
             "startlinecolor": "#2a3f5f"
            },
            "baxis": {
             "endlinecolor": "#2a3f5f",
             "gridcolor": "white",
             "linecolor": "white",
             "minorgridcolor": "white",
             "startlinecolor": "#2a3f5f"
            },
            "type": "carpet"
           }
          ],
          "choropleth": [
           {
            "colorbar": {
             "outlinewidth": 0,
             "ticks": ""
            },
            "type": "choropleth"
           }
          ],
          "contour": [
           {
            "colorbar": {
             "outlinewidth": 0,
             "ticks": ""
            },
            "colorscale": [
             [
              0,
              "#0d0887"
             ],
             [
              0.1111111111111111,
              "#46039f"
             ],
             [
              0.2222222222222222,
              "#7201a8"
             ],
             [
              0.3333333333333333,
              "#9c179e"
             ],
             [
              0.4444444444444444,
              "#bd3786"
             ],
             [
              0.5555555555555556,
              "#d8576b"
             ],
             [
              0.6666666666666666,
              "#ed7953"
             ],
             [
              0.7777777777777778,
              "#fb9f3a"
             ],
             [
              0.8888888888888888,
              "#fdca26"
             ],
             [
              1,
              "#f0f921"
             ]
            ],
            "type": "contour"
           }
          ],
          "contourcarpet": [
           {
            "colorbar": {
             "outlinewidth": 0,
             "ticks": ""
            },
            "type": "contourcarpet"
           }
          ],
          "heatmap": [
           {
            "colorbar": {
             "outlinewidth": 0,
             "ticks": ""
            },
            "colorscale": [
             [
              0,
              "#0d0887"
             ],
             [
              0.1111111111111111,
              "#46039f"
             ],
             [
              0.2222222222222222,
              "#7201a8"
             ],
             [
              0.3333333333333333,
              "#9c179e"
             ],
             [
              0.4444444444444444,
              "#bd3786"
             ],
             [
              0.5555555555555556,
              "#d8576b"
             ],
             [
              0.6666666666666666,
              "#ed7953"
             ],
             [
              0.7777777777777778,
              "#fb9f3a"
             ],
             [
              0.8888888888888888,
              "#fdca26"
             ],
             [
              1,
              "#f0f921"
             ]
            ],
            "type": "heatmap"
           }
          ],
          "heatmapgl": [
           {
            "colorbar": {
             "outlinewidth": 0,
             "ticks": ""
            },
            "colorscale": [
             [
              0,
              "#0d0887"
             ],
             [
              0.1111111111111111,
              "#46039f"
             ],
             [
              0.2222222222222222,
              "#7201a8"
             ],
             [
              0.3333333333333333,
              "#9c179e"
             ],
             [
              0.4444444444444444,
              "#bd3786"
             ],
             [
              0.5555555555555556,
              "#d8576b"
             ],
             [
              0.6666666666666666,
              "#ed7953"
             ],
             [
              0.7777777777777778,
              "#fb9f3a"
             ],
             [
              0.8888888888888888,
              "#fdca26"
             ],
             [
              1,
              "#f0f921"
             ]
            ],
            "type": "heatmapgl"
           }
          ],
          "histogram": [
           {
            "marker": {
             "colorbar": {
              "outlinewidth": 0,
              "ticks": ""
             }
            },
            "type": "histogram"
           }
          ],
          "histogram2d": [
           {
            "colorbar": {
             "outlinewidth": 0,
             "ticks": ""
            },
            "colorscale": [
             [
              0,
              "#0d0887"
             ],
             [
              0.1111111111111111,
              "#46039f"
             ],
             [
              0.2222222222222222,
              "#7201a8"
             ],
             [
              0.3333333333333333,
              "#9c179e"
             ],
             [
              0.4444444444444444,
              "#bd3786"
             ],
             [
              0.5555555555555556,
              "#d8576b"
             ],
             [
              0.6666666666666666,
              "#ed7953"
             ],
             [
              0.7777777777777778,
              "#fb9f3a"
             ],
             [
              0.8888888888888888,
              "#fdca26"
             ],
             [
              1,
              "#f0f921"
             ]
            ],
            "type": "histogram2d"
           }
          ],
          "histogram2dcontour": [
           {
            "colorbar": {
             "outlinewidth": 0,
             "ticks": ""
            },
            "colorscale": [
             [
              0,
              "#0d0887"
             ],
             [
              0.1111111111111111,
              "#46039f"
             ],
             [
              0.2222222222222222,
              "#7201a8"
             ],
             [
              0.3333333333333333,
              "#9c179e"
             ],
             [
              0.4444444444444444,
              "#bd3786"
             ],
             [
              0.5555555555555556,
              "#d8576b"
             ],
             [
              0.6666666666666666,
              "#ed7953"
             ],
             [
              0.7777777777777778,
              "#fb9f3a"
             ],
             [
              0.8888888888888888,
              "#fdca26"
             ],
             [
              1,
              "#f0f921"
             ]
            ],
            "type": "histogram2dcontour"
           }
          ],
          "mesh3d": [
           {
            "colorbar": {
             "outlinewidth": 0,
             "ticks": ""
            },
            "type": "mesh3d"
           }
          ],
          "parcoords": [
           {
            "line": {
             "colorbar": {
              "outlinewidth": 0,
              "ticks": ""
             }
            },
            "type": "parcoords"
           }
          ],
          "pie": [
           {
            "automargin": true,
            "type": "pie"
           }
          ],
          "scatter": [
           {
            "marker": {
             "colorbar": {
              "outlinewidth": 0,
              "ticks": ""
             }
            },
            "type": "scatter"
           }
          ],
          "scatter3d": [
           {
            "line": {
             "colorbar": {
              "outlinewidth": 0,
              "ticks": ""
             }
            },
            "marker": {
             "colorbar": {
              "outlinewidth": 0,
              "ticks": ""
             }
            },
            "type": "scatter3d"
           }
          ],
          "scattercarpet": [
           {
            "marker": {
             "colorbar": {
              "outlinewidth": 0,
              "ticks": ""
             }
            },
            "type": "scattercarpet"
           }
          ],
          "scattergeo": [
           {
            "marker": {
             "colorbar": {
              "outlinewidth": 0,
              "ticks": ""
             }
            },
            "type": "scattergeo"
           }
          ],
          "scattergl": [
           {
            "marker": {
             "colorbar": {
              "outlinewidth": 0,
              "ticks": ""
             }
            },
            "type": "scattergl"
           }
          ],
          "scattermapbox": [
           {
            "marker": {
             "colorbar": {
              "outlinewidth": 0,
              "ticks": ""
             }
            },
            "type": "scattermapbox"
           }
          ],
          "scatterpolar": [
           {
            "marker": {
             "colorbar": {
              "outlinewidth": 0,
              "ticks": ""
             }
            },
            "type": "scatterpolar"
           }
          ],
          "scatterpolargl": [
           {
            "marker": {
             "colorbar": {
              "outlinewidth": 0,
              "ticks": ""
             }
            },
            "type": "scatterpolargl"
           }
          ],
          "scatterternary": [
           {
            "marker": {
             "colorbar": {
              "outlinewidth": 0,
              "ticks": ""
             }
            },
            "type": "scatterternary"
           }
          ],
          "surface": [
           {
            "colorbar": {
             "outlinewidth": 0,
             "ticks": ""
            },
            "colorscale": [
             [
              0,
              "#0d0887"
             ],
             [
              0.1111111111111111,
              "#46039f"
             ],
             [
              0.2222222222222222,
              "#7201a8"
             ],
             [
              0.3333333333333333,
              "#9c179e"
             ],
             [
              0.4444444444444444,
              "#bd3786"
             ],
             [
              0.5555555555555556,
              "#d8576b"
             ],
             [
              0.6666666666666666,
              "#ed7953"
             ],
             [
              0.7777777777777778,
              "#fb9f3a"
             ],
             [
              0.8888888888888888,
              "#fdca26"
             ],
             [
              1,
              "#f0f921"
             ]
            ],
            "type": "surface"
           }
          ],
          "table": [
           {
            "cells": {
             "fill": {
              "color": "#EBF0F8"
             },
             "line": {
              "color": "white"
             }
            },
            "header": {
             "fill": {
              "color": "#C8D4E3"
             },
             "line": {
              "color": "white"
             }
            },
            "type": "table"
           }
          ]
         },
         "layout": {
          "annotationdefaults": {
           "arrowcolor": "#2a3f5f",
           "arrowhead": 0,
           "arrowwidth": 1
          },
          "coloraxis": {
           "colorbar": {
            "outlinewidth": 0,
            "ticks": ""
           }
          },
          "colorscale": {
           "diverging": [
            [
             0,
             "#8e0152"
            ],
            [
             0.1,
             "#c51b7d"
            ],
            [
             0.2,
             "#de77ae"
            ],
            [
             0.3,
             "#f1b6da"
            ],
            [
             0.4,
             "#fde0ef"
            ],
            [
             0.5,
             "#f7f7f7"
            ],
            [
             0.6,
             "#e6f5d0"
            ],
            [
             0.7,
             "#b8e186"
            ],
            [
             0.8,
             "#7fbc41"
            ],
            [
             0.9,
             "#4d9221"
            ],
            [
             1,
             "#276419"
            ]
           ],
           "sequential": [
            [
             0,
             "#0d0887"
            ],
            [
             0.1111111111111111,
             "#46039f"
            ],
            [
             0.2222222222222222,
             "#7201a8"
            ],
            [
             0.3333333333333333,
             "#9c179e"
            ],
            [
             0.4444444444444444,
             "#bd3786"
            ],
            [
             0.5555555555555556,
             "#d8576b"
            ],
            [
             0.6666666666666666,
             "#ed7953"
            ],
            [
             0.7777777777777778,
             "#fb9f3a"
            ],
            [
             0.8888888888888888,
             "#fdca26"
            ],
            [
             1,
             "#f0f921"
            ]
           ],
           "sequentialminus": [
            [
             0,
             "#0d0887"
            ],
            [
             0.1111111111111111,
             "#46039f"
            ],
            [
             0.2222222222222222,
             "#7201a8"
            ],
            [
             0.3333333333333333,
             "#9c179e"
            ],
            [
             0.4444444444444444,
             "#bd3786"
            ],
            [
             0.5555555555555556,
             "#d8576b"
            ],
            [
             0.6666666666666666,
             "#ed7953"
            ],
            [
             0.7777777777777778,
             "#fb9f3a"
            ],
            [
             0.8888888888888888,
             "#fdca26"
            ],
            [
             1,
             "#f0f921"
            ]
           ]
          },
          "colorway": [
           "#636efa",
           "#EF553B",
           "#00cc96",
           "#ab63fa",
           "#FFA15A",
           "#19d3f3",
           "#FF6692",
           "#B6E880",
           "#FF97FF",
           "#FECB52"
          ],
          "font": {
           "color": "#2a3f5f"
          },
          "geo": {
           "bgcolor": "white",
           "lakecolor": "white",
           "landcolor": "#E5ECF6",
           "showlakes": true,
           "showland": true,
           "subunitcolor": "white"
          },
          "hoverlabel": {
           "align": "left"
          },
          "hovermode": "closest",
          "mapbox": {
           "style": "light"
          },
          "paper_bgcolor": "white",
          "plot_bgcolor": "#E5ECF6",
          "polar": {
           "angularaxis": {
            "gridcolor": "white",
            "linecolor": "white",
            "ticks": ""
           },
           "bgcolor": "#E5ECF6",
           "radialaxis": {
            "gridcolor": "white",
            "linecolor": "white",
            "ticks": ""
           }
          },
          "scene": {
           "xaxis": {
            "backgroundcolor": "#E5ECF6",
            "gridcolor": "white",
            "gridwidth": 2,
            "linecolor": "white",
            "showbackground": true,
            "ticks": "",
            "zerolinecolor": "white"
           },
           "yaxis": {
            "backgroundcolor": "#E5ECF6",
            "gridcolor": "white",
            "gridwidth": 2,
            "linecolor": "white",
            "showbackground": true,
            "ticks": "",
            "zerolinecolor": "white"
           },
           "zaxis": {
            "backgroundcolor": "#E5ECF6",
            "gridcolor": "white",
            "gridwidth": 2,
            "linecolor": "white",
            "showbackground": true,
            "ticks": "",
            "zerolinecolor": "white"
           }
          },
          "shapedefaults": {
           "line": {
            "color": "#2a3f5f"
           }
          },
          "ternary": {
           "aaxis": {
            "gridcolor": "white",
            "linecolor": "white",
            "ticks": ""
           },
           "baxis": {
            "gridcolor": "white",
            "linecolor": "white",
            "ticks": ""
           },
           "bgcolor": "#E5ECF6",
           "caxis": {
            "gridcolor": "white",
            "linecolor": "white",
            "ticks": ""
           }
          },
          "title": {
           "x": 0.05
          },
          "xaxis": {
           "automargin": true,
           "gridcolor": "white",
           "linecolor": "white",
           "ticks": "",
           "title": {
            "standoff": 15
           },
           "zerolinecolor": "white",
           "zerolinewidth": 2
          },
          "yaxis": {
           "automargin": true,
           "gridcolor": "white",
           "linecolor": "white",
           "ticks": "",
           "title": {
            "standoff": 15
           },
           "zerolinecolor": "white",
           "zerolinewidth": 2
          }
         }
        },
        "title": {
         "text": "H-Clustering -Abstracts+Titles - Cumulative Development of fields: Docs 1990-2004 to 1990-2018 : Enhanced number of clusters  - pow 1 - thresh 0.75"
        },
        "width": 1500
       }
      },
      "text/html": [
       "<div>\n",
       "        \n",
       "        \n",
       "            <div id=\"61b015f6-2de3-4956-bd69-df0dad8ba1ce\" class=\"plotly-graph-div\" style=\"height:900px; width:1500px;\"></div>\n",
       "            <script type=\"text/javascript\">\n",
       "                require([\"plotly\"], function(Plotly) {\n",
       "                    window.PLOTLYENV=window.PLOTLYENV || {};\n",
       "                    \n",
       "                if (document.getElementById(\"61b015f6-2de3-4956-bd69-df0dad8ba1ce\")) {\n",
       "                    Plotly.newPlot(\n",
       "                        '61b015f6-2de3-4956-bd69-df0dad8ba1ce',\n",
       "                        [{\"link\": {\"color\": [\"rgba(0.046875, 0.56640625, 0.44617292543032268432291666666666, 0.4461729254303226)\", \"rgba(0.046875, 0.56640625, 0.7732812499999999, 0.3799723715990725)\", \"rgba(0.046875, 0.56640625, 0.8455208333333333, 0.4240713236007512)\", \"rgba(0.046875, 0.56640625, 0.9177604166666666, 0.4215283147758498)\", \"rgba(0.046875, 0.56640625, 0.399712668740663141208333333333336, 0.39971266874066314)\", \"rgba(0.046875, 0.56640625, 0.8455208333333333, 0.39906602569372474)\", \"rgba(0.046875, 0.56640625, 0.8455208333333333, 0.4065144549597727)\", \"rgba(0.046875, 0.56640625, 0.9177604166666666, 0.3815229128038473)\", \"rgba(0.140625, 0.75, 0.393100465269594675609375, 0.3931004652695946)\", \"rgba(0.140625, 0.75, 0.434516745092961823875, 0.4345167450929618)\", \"rgba(0.140625, 0.75, 0.32040625, 0.4785479709586537)\", \"rgba(0.140625, 0.75, 0.268671875, 0.4311882431504408)\", \"rgba(0.140625, 0.75, 0.2169375, 0.4987471431054552)\", \"rgba(0.140625, 0.75, 0.165203125, 0.38732096071680966)\", \"rgba(0.140625, 0.75, 0.11346875000000001, 0.38097319656949297)\", \"rgba(0.140625, 0.75, 0.11346875000000001, 0.4821151717232761)\", \"rgba(0.140625, 0.75, 0.06173437500000001, 0.4574557498511144)\", \"rgba(0.140625, 0.75, 0.010000000000000009, 0.4955671006350443)\", \"rgba(0.140625, 0.75, 0.475482998983628675609375, 0.4754829989836286)\", \"rgba(0.140625, 0.75, 0.490204922459231223875, 0.4902049224592312)\", \"rgba(0.140625, 0.75, 0.372140625, 0.41441736399909296)\", \"rgba(0.140625, 0.75, 0.372140625, 0.4209424488665884)\", \"rgba(0.140625, 0.75, 0.32040625, 0.4720592497011508)\", \"rgba(0.140625, 0.75, 0.268671875, 0.4503647261913729)\", \"rgba(0.140625, 0.75, 0.2169375, 0.4917849968054276)\", \"rgba(0.140625, 0.75, 0.165203125, 0.45658346915277453)\", \"rgba(0.140625, 0.75, 0.11346875000000001, 0.4857795773686406)\", \"rgba(0.140625, 0.75, 0.06173437500000001, 0.4605329102764392)\", \"rgba(0.140625, 0.75, 0.010000000000000009, 0.4909459287574751)\", \"rgba(0.8828125, 0.98046875, 0.6720738636363637, 0.4771567983527849)\", \"rgba(0.8828125, 0.98046875, 0.6720738636363637, 0.3823190992920849)\", \"rgba(0.8828125, 0.98046875, 0.6058664772727272, 0.4532212645629527)\", \"rgba(0.8828125, 0.98046875, 0.6058664772727272, 0.4079465305657548)\", \"rgba(0.8828125, 0.98046875, 0.5396590909090909, 0.39731445266295595)\", \"rgba(0.8828125, 0.98046875, 0.5396590909090909, 0.4312335553993496)\", \"rgba(0.8828125, 0.98046875, 0.49683732673979447345170454545454, 0.4968373267397944)\", \"rgba(0.8828125, 0.98046875, 0.48680394774668180724431818181817, 0.4868039477466818)\", \"rgba(0.8828125, 0.98046875, 0.2086221590909091, 0.49362026827198)\", \"rgba(0.8828125, 0.98046875, 0.14241477272727276, 0.4938331196772784)\", \"rgba(0.8828125, 0.98046875, 0.07620738636363633, 0.44405037581556683)\", \"rgba(0.8828125, 0.98046875, 0.010000000000000009, 0.38343821352443624)\", \"rgba(0.8828125, 0.98046875, 0.6720738636363637, 0.40255452922772283)\", \"rgba(0.8828125, 0.98046875, 0.6720738636363637, 0.470731446014676)\", \"rgba(0.8828125, 0.98046875, 0.6058664772727272, 0.4716846848049604)\", \"rgba(0.8828125, 0.98046875, 0.6058664772727272, 0.39760895756742837)\", \"rgba(0.8828125, 0.98046875, 0.5396590909090909, 0.38046591792418677)\", \"rgba(0.8828125, 0.98046875, 0.5396590909090909, 0.4468519875431591)\", \"rgba(0.8828125, 0.98046875, 0.424994723282553067345170454545454, 0.42499472328255306)\", \"rgba(0.8828125, 0.98046875, 0.47537211545303240724431818181817, 0.4753721154530324)\", \"rgba(0.8828125, 0.98046875, 0.34103693181818184, 0.40347364570245897)\", \"rgba(0.8828125, 0.98046875, 0.2086221590909091, 0.49516663442760994)\", \"rgba(0.8828125, 0.98046875, 0.14241477272727276, 0.4753477447922924)\", \"rgba(0.8828125, 0.98046875, 0.07620738636363633, 0.4613751250578716)\", \"rgba(0.8828125, 0.98046875, 0.010000000000000009, 0.4544918143431895)\", \"rgba(0.17578125, 0.71484375, 0.13600446428571428, 0.4930267929543124)\", \"rgba(0.17578125, 0.71484375, 0.20169642857142858, 0.4623818055973516)\", \"rgba(0.17578125, 0.71484375, 0.2673883928571429, 0.4431975950590405)\", \"rgba(0.17578125, 0.71484375, 0.33308035714285716, 0.4836010694275314)\", \"rgba(0.17578125, 0.71484375, 0.4760824781563928644642857142858, 0.4760824781563928)\", \"rgba(0.17578125, 0.71484375, 0.5301562500000001, 0.477364804071693)\", \"rgba(0.17578125, 0.71484375, 0.5958482142857143, 0.4971663842125788)\", \"rgba(0.17578125, 0.71484375, 0.6615401785714287, 0.4903951914028804)\", \"rgba(0.17578125, 0.71484375, 0.7929241071428572, 0.4886568665703197)\", \"rgba(0.17578125, 0.71484375, 0.8586160714285715, 0.45533644732215)\", \"rgba(0.17578125, 0.71484375, 0.9243080357142858, 0.4639384975959024)\", \"rgba(0.17578125, 0.71484375, 0.9900000000000001, 0.4434468959364736)\", \"rgba(0.17578125, 0.71484375, 0.13600446428571428, 0.37599975288110804)\", \"rgba(0.17578125, 0.71484375, 0.13600446428571428, 0.4827212208640879)\", \"rgba(0.17578125, 0.71484375, 0.20169642857142858, 0.3793826233808134)\", \"rgba(0.17578125, 0.71484375, 0.20169642857142858, 0.4625205631449536)\", \"rgba(0.17578125, 0.71484375, 0.2673883928571429, 0.4963359639469503)\", \"rgba(0.17578125, 0.71484375, 0.33308035714285716, 0.4527951545557274)\", \"rgba(0.17578125, 0.71484375, 0.452275888878632644642857142858, 0.452275888878632)\", \"rgba(0.17578125, 0.71484375, 0.5301562500000001, 0.463924748714618)\", \"rgba(0.17578125, 0.71484375, 0.5958482142857143, 0.4862262232458745)\", \"rgba(0.17578125, 0.71484375, 0.6615401785714287, 0.486959240470149)\", \"rgba(0.17578125, 0.71484375, 0.7929241071428572, 0.4739881728591584)\", \"rgba(0.17578125, 0.71484375, 0.8586160714285715, 0.39612120983211757)\", \"rgba(0.17578125, 0.71484375, 0.8586160714285715, 0.3764839884754784)\", \"rgba(0.17578125, 0.71484375, 0.9243080357142858, 0.4839747088863)\", \"rgba(0.17578125, 0.71484375, 0.9900000000000001, 0.39016493400879243)\", \"rgba(0.88671875, 0.375, 0.8938958333333333, 0.4775169354146746)\", \"rgba(0.88671875, 0.375, 0.8307604166666667, 0.4945120836134698)\", \"rgba(0.88671875, 0.375, 0.767625, 0.44501496146915054)\", \"rgba(0.88671875, 0.375, 0.7044895833333333, 0.4493059938454404)\", \"rgba(0.88671875, 0.375, 0.6413541666666667, 0.43692021184221497)\", \"rgba(0.88671875, 0.375, 0.57821875, 0.42803983608022367)\", \"rgba(0.88671875, 0.375, 0.5150833333333333, 0.4883535711656728)\", \"rgba(0.88671875, 0.375, 0.412063037127165975194791666666667, 0.41206303712716597)\", \"rgba(0.88671875, 0.375, 0.3888125, 0.4052978038918981)\", \"rgba(0.88671875, 0.375, 0.32567708333333334, 0.478543855435532)\", \"rgba(0.88671875, 0.375, 0.2625416666666667, 0.41961751491896404)\", \"rgba(0.88671875, 0.375, 0.2625416666666667, 0.37715120866811924)\", \"rgba(0.88671875, 0.375, 0.19940625, 0.4865917536616044)\", \"rgba(0.88671875, 0.375, 0.13627083333333334, 0.4523813702967601)\", \"rgba(0.88671875, 0.375, 0.07313541666666667, 0.3766170684206919)\", \"rgba(0.88671875, 0.375, 0.010000000000000009, 0.4720040301455056)\"], \"source\": [1, 5, 6, 7, 0, 6, 6, 7, 9, 10, 12, 13, 14, 15, 16, 16, 17, 18, 9, 10, 11, 11, 12, 13, 14, 15, 16, 17, 18, 19, 19, 20, 20, 21, 21, 22, 23, 26, 27, 28, 29, 19, 19, 20, 20, 21, 21, 22, 23, 24, 26, 27, 28, 29, 30, 31, 32, 33, 35, 36, 37, 38, 40, 41, 42, 43, 30, 30, 31, 31, 32, 33, 35, 36, 37, 38, 40, 41, 41, 42, 43, 44, 45, 46, 47, 48, 49, 50, 51, 52, 53, 54, 54, 55, 56, 57, 58], \"target\": [9, 16, 16, 9, 24, 24, 27, 24, 21, 20, 19, 29, 26, 20, 24, 27, 23, 22, 42, 30, 41, 43, 36, 31, 37, 40, 33, 38, 32, 36, 41, 30, 40, 35, 42, 32, 38, 37, 33, 31, 31, 44, 46, 45, 53, 47, 49, 56, 50, 52, 55, 52, 48, 54, 45, 54, 56, 52, 49, 46, 55, 50, 53, 44, 47, 58, 65, 68, 63, 66, 62, 64, 67, 73, 71, 70, 60, 63, 69, 59, 69, 63, 68, 73, 59, 66, 67, 70, 61, 64, 60, 61, 66, 71, 62, 66, 69], \"value\": [0.8923458508606452, 0.759944743198145, 0.8481426472015025, 0.8430566295516996, 0.7994253374813263, 0.7981320513874495, 0.8130289099195454, 0.7630458256076946, 0.7862009305391892, 0.8690334901859236, 0.9570959419173074, 0.8623764863008816, 0.9974942862109104, 0.7746419214336193, 0.7619463931389859, 0.9642303434465522, 0.9149114997022288, 0.9911342012700886, 0.9509659979672572, 0.9804098449184624, 0.8288347279981859, 0.8418848977331768, 0.9441184994023016, 0.9007294523827458, 0.9835699936108552, 0.9131669383055491, 0.9715591547372812, 0.9210658205528784, 0.9818918575149502, 0.9543135967055698, 0.7646381985841698, 0.9064425291259054, 0.8158930611315096, 0.7946289053259119, 0.8624671107986992, 0.9936746534795888, 0.9736078954933636, 0.98724053654396, 0.9876662393545568, 0.8881007516311337, 0.7668764270488725, 0.8051090584554457, 0.941462892029352, 0.9433693696099208, 0.7952179151348567, 0.7609318358483735, 0.8937039750863182, 0.8499894465651061, 0.9507442309060647, 0.8069472914049179, 0.9903332688552199, 0.9506954895845848, 0.9227502501157432, 0.908983628686379, 0.9860535859086248, 0.9247636111947032, 0.886395190118081, 0.9672021388550628, 0.9521649563127856, 0.954729608143386, 0.9943327684251576, 0.9807903828057608, 0.9773137331406394, 0.9106728946443, 0.9278769951918048, 0.8868937918729471, 0.7519995057622161, 0.9654424417281758, 0.7587652467616268, 0.9250411262899072, 0.9926719278939006, 0.9055903091114548, 0.904551777757264, 0.927849497429236, 0.972452446491749, 0.973918480940298, 0.9479763457183168, 0.7922424196642351, 0.7529679769509569, 0.9679494177726, 0.7803298680175849, 0.9550338708293492, 0.9890241672269396, 0.8900299229383011, 0.8986119876908808, 0.8738404236844299, 0.8560796721604473, 0.9767071423313456, 0.8241260742543319, 0.8105956077837962, 0.957087710871064, 0.8392350298379281, 0.7543024173362385, 0.9731835073232088, 0.9047627405935202, 0.7532341368413839, 0.9440080602910113]}, \"node\": {\"color\": [\"rgba(0.046875, 0.56640625, 0.41208333333333336, 0.8)\", \"rgba(0.046875, 0.56640625, 0.48432291666666666, 0.8)\", \"rgba(0.046875, 0.56640625, 0.5565625, 0.8)\", \"rgba(0.046875, 0.56640625, 0.6288020833333333, 0.8)\", \"rgba(0.046875, 0.56640625, 0.7010416666666667, 0.8)\", \"rgba(0.046875, 0.56640625, 0.7732812499999999, 0.8)\", \"rgba(0.046875, 0.56640625, 0.8455208333333333, 0.8)\", \"rgba(0.046875, 0.56640625, 0.9177604166666666, 0.8)\", \"rgba(0.046875, 0.56640625, 0.99, 0.8)\", \"rgba(0.140625, 0.75, 0.475609375, 0.8)\", \"rgba(0.140625, 0.75, 0.423875, 0.8)\", \"rgba(0.140625, 0.75, 0.372140625, 0.8)\", \"rgba(0.140625, 0.75, 0.32040625, 0.8)\", \"rgba(0.140625, 0.75, 0.268671875, 0.8)\", \"rgba(0.140625, 0.75, 0.2169375, 0.8)\", \"rgba(0.140625, 0.75, 0.165203125, 0.8)\", \"rgba(0.140625, 0.75, 0.11346875000000001, 0.8)\", \"rgba(0.140625, 0.75, 0.06173437500000001, 0.8)\", \"rgba(0.140625, 0.75, 0.010000000000000009, 0.8)\", \"rgba(0.8828125, 0.98046875, 0.6720738636363637, 0.8)\", \"rgba(0.8828125, 0.98046875, 0.6058664772727272, 0.8)\", \"rgba(0.8828125, 0.98046875, 0.5396590909090909, 0.8)\", \"rgba(0.8828125, 0.98046875, 0.47345170454545454, 0.8)\", \"rgba(0.8828125, 0.98046875, 0.40724431818181817, 0.8)\", \"rgba(0.8828125, 0.98046875, 0.34103693181818184, 0.8)\", \"rgba(0.8828125, 0.98046875, 0.27482954545454547, 0.8)\", \"rgba(0.8828125, 0.98046875, 0.2086221590909091, 0.8)\", \"rgba(0.8828125, 0.98046875, 0.14241477272727276, 0.8)\", \"rgba(0.8828125, 0.98046875, 0.07620738636363633, 0.8)\", \"rgba(0.8828125, 0.98046875, 0.010000000000000009, 0.8)\", \"rgba(0.17578125, 0.71484375, 0.13600446428571428, 0.8)\", \"rgba(0.17578125, 0.71484375, 0.20169642857142858, 0.8)\", \"rgba(0.17578125, 0.71484375, 0.2673883928571429, 0.8)\", \"rgba(0.17578125, 0.71484375, 0.33308035714285716, 0.8)\", \"rgba(0.17578125, 0.71484375, 0.39877232142857144, 0.8)\", \"rgba(0.17578125, 0.71484375, 0.4644642857142858, 0.8)\", \"rgba(0.17578125, 0.71484375, 0.5301562500000001, 0.8)\", \"rgba(0.17578125, 0.71484375, 0.5958482142857143, 0.8)\", \"rgba(0.17578125, 0.71484375, 0.6615401785714287, 0.8)\", \"rgba(0.17578125, 0.71484375, 0.7272321428571429, 0.8)\", \"rgba(0.17578125, 0.71484375, 0.7929241071428572, 0.8)\", \"rgba(0.17578125, 0.71484375, 0.8586160714285715, 0.8)\", \"rgba(0.17578125, 0.71484375, 0.9243080357142858, 0.8)\", \"rgba(0.17578125, 0.71484375, 0.9900000000000001, 0.8)\", \"rgba(0.88671875, 0.375, 0.8938958333333333, 0.8)\", \"rgba(0.88671875, 0.375, 0.8307604166666667, 0.8)\", \"rgba(0.88671875, 0.375, 0.767625, 0.8)\", \"rgba(0.88671875, 0.375, 0.7044895833333333, 0.8)\", \"rgba(0.88671875, 0.375, 0.6413541666666667, 0.8)\", \"rgba(0.88671875, 0.375, 0.57821875, 0.8)\", \"rgba(0.88671875, 0.375, 0.5150833333333333, 0.8)\", \"rgba(0.88671875, 0.375, 0.45194791666666667, 0.8)\", \"rgba(0.88671875, 0.375, 0.3888125, 0.8)\", \"rgba(0.88671875, 0.375, 0.32567708333333334, 0.8)\", \"rgba(0.88671875, 0.375, 0.2625416666666667, 0.8)\", \"rgba(0.88671875, 0.375, 0.19940625, 0.8)\", \"rgba(0.88671875, 0.375, 0.13627083333333334, 0.8)\", \"rgba(0.88671875, 0.375, 0.07313541666666667, 0.8)\", \"rgba(0.88671875, 0.375, 0.010000000000000009, 0.8)\", \"rgba(0.0703125, 0.9765625, 0.71525, 0.8)\", \"rgba(0.0703125, 0.9765625, 0.664875, 0.8)\", \"rgba(0.0703125, 0.9765625, 0.6145, 0.8)\", \"rgba(0.0703125, 0.9765625, 0.564125, 0.8)\", \"rgba(0.0703125, 0.9765625, 0.51375, 0.8)\", \"rgba(0.0703125, 0.9765625, 0.46337500000000004, 0.8)\", \"rgba(0.0703125, 0.9765625, 0.41300000000000003, 0.8)\", \"rgba(0.0703125, 0.9765625, 0.36262500000000003, 0.8)\", \"rgba(0.0703125, 0.9765625, 0.31225, 0.8)\", \"rgba(0.0703125, 0.9765625, 0.2618750000000001, 0.8)\", \"rgba(0.0703125, 0.9765625, 0.21150000000000002, 0.8)\", \"rgba(0.0703125, 0.9765625, 0.16112500000000007, 0.8)\", \"rgba(0.0703125, 0.9765625, 0.11075000000000002, 0.8)\", \"rgba(0.0703125, 0.9765625, 0.06037500000000007, 0.8)\", \"rgba(0.0703125, 0.9765625, 0.010000000000000009, 0.8)\"], \"label\": [\"04 - cs, en, psychology\", \"04 - en, cs, A&CS, materials science, chemistry\", \"04 - en, cs, A&CS, OR&MS\", \"04 - cs, chemistry, en, B&MB, radiology, NM&MI\", \"04 - cs, en, OR&MS, A&CS\", \"04 - cs, en, mathematics, OR&MS, A&CS\", \"04 - cs, en, OR&MS, mathematics, A&CS\", \"04 - cs, en, OR&MS, business & economics, A&CS\", \"04 - cs, en, mathematics\", \"07 - cs, en, A&CS, OR&MS\", \"07 - cs, en\", \"07 - cs, en, A&CS, OR&MS, mathematics\", \"07 - cs, en, OR&MS, A&CS, mathematics\", \"07 - en, cs, A&CS, materials science, OR&MS\", \"07 - cs, mathematics, en\", \"07 - cs, en, A&CS, robotics\", \"07 - cs, en, mathematics\", \"07 - cs, en\", \"07 - cs, en, chemistry, B&MB, medical informatics\", \"10 - cs, en, OR&MS, A&CS, mathematics\", \"10 - cs, en, psychology\", \"10 - cs, en, OR&MS, A&CS, business & economics\", \"10 - cs, en, B&MB, chemistry, medical informatics\", \"10 - cs, en\", \"10 - cs, en, OR&MS, A&CS\", \"10 - cs, en, A&CS, robotics\", \"10 - cs, mathematics, en\", \"10 - cs, en, mathematics\", \"10 - en, cs, materials science, physics, chemistry\", \"10 - en, cs, A&CS, I&I\", \"13 - cs, en, psychology\", \"13 - en, cs, A&CS, materials science, energy & fuels\", \"13 - cs, en, B&MB, chemistry, medical informatics\", \"13 - cs, en, mathematics\", \"13 - cs, en, A&CS, OR&MS\", \"13 - cs, en, A&CS, OR&MS, business & economics\", \"13 - cs, en, OR&MS, A&CS, mathematics\", \"13 - cs, en, mathematics, OR&MS, A&CS\", \"13 - cs, en\", \"13 - cs, en, A&CS, robotics\", \"13 - cs, en, E&ER\", \"13 - cs, en, OR&MS, mathematics, A&CS\", \"13 - cs, en, OR&MS, A&CS\", \"13 - en, cs, physics, A&CS, optics\", \"16 - cs, en, A&CS, OR&MS, mathematics\", \"16 - cs, en, E&ER, psychology\", \"16 - cs, en, OR&MS, mathematics\", \"16 - cs, en, A&CS, OR&MS\", \"16 - en, cs, chemistry, materials science, B&MB\", \"16 - cs, en, business & economics, A&CS, OR&MS\", \"16 - cs, en\", \"16 - cs, en, telecommunications, A&CS, robotics\", \"16 - cs, en, mathematics\", \"16 - cs, en, E&ER, robotics\", \"16 - en, cs, A&CS, energy & fuels, materials science\", \"16 - cs, en, mathematics, OR&MS, A&CS\", \"16 - cs, en, medical informatics, radiology, NM&MI, HCS&S\", \"16 - en, cs, ES&E, business & economics, water resources\", \"16 - cs, en, A&CS, IS&PT\", \"18 - cs, en, A&CS, OR&MS\", \"18 - cs, en, E&ER, robotics, A&CS\", \"18 - en, cs, A&CS, telecommunications, energy & fuels\", \"18 - cs, en, medical informatics, B&MB, chemistry\", \"18 - en, cs, A&CS, energy & fuels\", \"18 - cs, en, mathematics\", \"18 - cs, en\", \"18 - en, cs, materials science, energy & fuels, ES&E\", \"18 - cs, en, business & economics, OR&MS, A&CS\", \"18 - cs, en, psychology, social sciences \", \"18 - cs, en, telecommunications, IS&PT\", \"18 - cs, en\", \"18 - cs, en, mathematics, chemistry, physics\", \"18 - cs, en, medical informatics, radiology, NM&MI, HCS&S\", \"18 - cs, en, OR&MS, A&CS\"], \"line\": {\"color\": \"black\", \"width\": 0}, \"pad\": 15, \"thickness\": 10}, \"type\": \"sankey\"}],\n",
       "                        {\"autosize\": false, \"font\": {\"size\": 11}, \"height\": 900, \"template\": {\"data\": {\"bar\": [{\"error_x\": {\"color\": \"#2a3f5f\"}, \"error_y\": {\"color\": \"#2a3f5f\"}, \"marker\": {\"line\": {\"color\": \"#E5ECF6\", \"width\": 0.5}}, \"type\": \"bar\"}], \"barpolar\": [{\"marker\": {\"line\": {\"color\": \"#E5ECF6\", \"width\": 0.5}}, \"type\": \"barpolar\"}], \"carpet\": [{\"aaxis\": {\"endlinecolor\": \"#2a3f5f\", \"gridcolor\": \"white\", \"linecolor\": \"white\", \"minorgridcolor\": \"white\", \"startlinecolor\": \"#2a3f5f\"}, \"baxis\": {\"endlinecolor\": \"#2a3f5f\", \"gridcolor\": \"white\", \"linecolor\": \"white\", \"minorgridcolor\": \"white\", \"startlinecolor\": \"#2a3f5f\"}, \"type\": \"carpet\"}], \"choropleth\": [{\"colorbar\": {\"outlinewidth\": 0, \"ticks\": \"\"}, \"type\": \"choropleth\"}], \"contour\": [{\"colorbar\": {\"outlinewidth\": 0, \"ticks\": \"\"}, \"colorscale\": [[0.0, \"#0d0887\"], [0.1111111111111111, \"#46039f\"], [0.2222222222222222, \"#7201a8\"], [0.3333333333333333, \"#9c179e\"], [0.4444444444444444, \"#bd3786\"], [0.5555555555555556, \"#d8576b\"], [0.6666666666666666, \"#ed7953\"], [0.7777777777777778, \"#fb9f3a\"], [0.8888888888888888, \"#fdca26\"], [1.0, \"#f0f921\"]], \"type\": \"contour\"}], \"contourcarpet\": [{\"colorbar\": {\"outlinewidth\": 0, \"ticks\": \"\"}, \"type\": \"contourcarpet\"}], \"heatmap\": [{\"colorbar\": {\"outlinewidth\": 0, \"ticks\": \"\"}, \"colorscale\": [[0.0, \"#0d0887\"], [0.1111111111111111, \"#46039f\"], [0.2222222222222222, \"#7201a8\"], [0.3333333333333333, \"#9c179e\"], [0.4444444444444444, \"#bd3786\"], [0.5555555555555556, \"#d8576b\"], [0.6666666666666666, \"#ed7953\"], [0.7777777777777778, \"#fb9f3a\"], [0.8888888888888888, \"#fdca26\"], [1.0, \"#f0f921\"]], \"type\": \"heatmap\"}], \"heatmapgl\": [{\"colorbar\": {\"outlinewidth\": 0, \"ticks\": \"\"}, \"colorscale\": [[0.0, \"#0d0887\"], [0.1111111111111111, \"#46039f\"], [0.2222222222222222, \"#7201a8\"], [0.3333333333333333, \"#9c179e\"], [0.4444444444444444, \"#bd3786\"], [0.5555555555555556, \"#d8576b\"], [0.6666666666666666, \"#ed7953\"], [0.7777777777777778, \"#fb9f3a\"], [0.8888888888888888, \"#fdca26\"], [1.0, \"#f0f921\"]], \"type\": \"heatmapgl\"}], \"histogram\": [{\"marker\": {\"colorbar\": {\"outlinewidth\": 0, \"ticks\": \"\"}}, \"type\": \"histogram\"}], \"histogram2d\": [{\"colorbar\": {\"outlinewidth\": 0, \"ticks\": \"\"}, \"colorscale\": [[0.0, \"#0d0887\"], [0.1111111111111111, \"#46039f\"], [0.2222222222222222, \"#7201a8\"], [0.3333333333333333, \"#9c179e\"], [0.4444444444444444, \"#bd3786\"], [0.5555555555555556, \"#d8576b\"], [0.6666666666666666, \"#ed7953\"], [0.7777777777777778, \"#fb9f3a\"], [0.8888888888888888, \"#fdca26\"], [1.0, \"#f0f921\"]], \"type\": \"histogram2d\"}], \"histogram2dcontour\": [{\"colorbar\": {\"outlinewidth\": 0, \"ticks\": \"\"}, \"colorscale\": [[0.0, \"#0d0887\"], [0.1111111111111111, \"#46039f\"], [0.2222222222222222, \"#7201a8\"], [0.3333333333333333, \"#9c179e\"], [0.4444444444444444, \"#bd3786\"], [0.5555555555555556, \"#d8576b\"], [0.6666666666666666, \"#ed7953\"], [0.7777777777777778, \"#fb9f3a\"], [0.8888888888888888, \"#fdca26\"], [1.0, \"#f0f921\"]], \"type\": \"histogram2dcontour\"}], \"mesh3d\": [{\"colorbar\": {\"outlinewidth\": 0, \"ticks\": \"\"}, \"type\": \"mesh3d\"}], \"parcoords\": [{\"line\": {\"colorbar\": {\"outlinewidth\": 0, \"ticks\": \"\"}}, \"type\": \"parcoords\"}], \"pie\": [{\"automargin\": true, \"type\": \"pie\"}], \"scatter\": [{\"marker\": {\"colorbar\": {\"outlinewidth\": 0, \"ticks\": \"\"}}, \"type\": \"scatter\"}], \"scatter3d\": [{\"line\": {\"colorbar\": {\"outlinewidth\": 0, \"ticks\": \"\"}}, \"marker\": {\"colorbar\": {\"outlinewidth\": 0, \"ticks\": \"\"}}, \"type\": \"scatter3d\"}], \"scattercarpet\": [{\"marker\": {\"colorbar\": {\"outlinewidth\": 0, \"ticks\": \"\"}}, \"type\": \"scattercarpet\"}], \"scattergeo\": [{\"marker\": {\"colorbar\": {\"outlinewidth\": 0, \"ticks\": \"\"}}, \"type\": \"scattergeo\"}], \"scattergl\": [{\"marker\": {\"colorbar\": {\"outlinewidth\": 0, \"ticks\": \"\"}}, \"type\": \"scattergl\"}], \"scattermapbox\": [{\"marker\": {\"colorbar\": {\"outlinewidth\": 0, \"ticks\": \"\"}}, \"type\": \"scattermapbox\"}], \"scatterpolar\": [{\"marker\": {\"colorbar\": {\"outlinewidth\": 0, \"ticks\": \"\"}}, \"type\": \"scatterpolar\"}], \"scatterpolargl\": [{\"marker\": {\"colorbar\": {\"outlinewidth\": 0, \"ticks\": \"\"}}, \"type\": \"scatterpolargl\"}], \"scatterternary\": [{\"marker\": {\"colorbar\": {\"outlinewidth\": 0, \"ticks\": \"\"}}, \"type\": \"scatterternary\"}], \"surface\": [{\"colorbar\": {\"outlinewidth\": 0, \"ticks\": \"\"}, \"colorscale\": [[0.0, \"#0d0887\"], [0.1111111111111111, \"#46039f\"], [0.2222222222222222, \"#7201a8\"], [0.3333333333333333, \"#9c179e\"], [0.4444444444444444, \"#bd3786\"], [0.5555555555555556, \"#d8576b\"], [0.6666666666666666, \"#ed7953\"], [0.7777777777777778, \"#fb9f3a\"], [0.8888888888888888, \"#fdca26\"], [1.0, \"#f0f921\"]], \"type\": \"surface\"}], \"table\": [{\"cells\": {\"fill\": {\"color\": \"#EBF0F8\"}, \"line\": {\"color\": \"white\"}}, \"header\": {\"fill\": {\"color\": \"#C8D4E3\"}, \"line\": {\"color\": \"white\"}}, \"type\": \"table\"}]}, \"layout\": {\"annotationdefaults\": {\"arrowcolor\": \"#2a3f5f\", \"arrowhead\": 0, \"arrowwidth\": 1}, \"coloraxis\": {\"colorbar\": {\"outlinewidth\": 0, \"ticks\": \"\"}}, \"colorscale\": {\"diverging\": [[0, \"#8e0152\"], [0.1, \"#c51b7d\"], [0.2, \"#de77ae\"], [0.3, \"#f1b6da\"], [0.4, \"#fde0ef\"], [0.5, \"#f7f7f7\"], [0.6, \"#e6f5d0\"], [0.7, \"#b8e186\"], [0.8, \"#7fbc41\"], [0.9, \"#4d9221\"], [1, \"#276419\"]], \"sequential\": [[0.0, \"#0d0887\"], [0.1111111111111111, \"#46039f\"], [0.2222222222222222, \"#7201a8\"], [0.3333333333333333, \"#9c179e\"], [0.4444444444444444, \"#bd3786\"], [0.5555555555555556, \"#d8576b\"], [0.6666666666666666, \"#ed7953\"], [0.7777777777777778, \"#fb9f3a\"], [0.8888888888888888, \"#fdca26\"], [1.0, \"#f0f921\"]], \"sequentialminus\": [[0.0, \"#0d0887\"], [0.1111111111111111, \"#46039f\"], [0.2222222222222222, \"#7201a8\"], [0.3333333333333333, \"#9c179e\"], [0.4444444444444444, \"#bd3786\"], [0.5555555555555556, \"#d8576b\"], [0.6666666666666666, \"#ed7953\"], [0.7777777777777778, \"#fb9f3a\"], [0.8888888888888888, \"#fdca26\"], [1.0, \"#f0f921\"]]}, \"colorway\": [\"#636efa\", \"#EF553B\", \"#00cc96\", \"#ab63fa\", \"#FFA15A\", \"#19d3f3\", \"#FF6692\", \"#B6E880\", \"#FF97FF\", \"#FECB52\"], \"font\": {\"color\": \"#2a3f5f\"}, \"geo\": {\"bgcolor\": \"white\", \"lakecolor\": \"white\", \"landcolor\": \"#E5ECF6\", \"showlakes\": true, \"showland\": true, \"subunitcolor\": \"white\"}, \"hoverlabel\": {\"align\": \"left\"}, \"hovermode\": \"closest\", \"mapbox\": {\"style\": \"light\"}, \"paper_bgcolor\": \"white\", \"plot_bgcolor\": \"#E5ECF6\", \"polar\": {\"angularaxis\": {\"gridcolor\": \"white\", \"linecolor\": \"white\", \"ticks\": \"\"}, \"bgcolor\": \"#E5ECF6\", \"radialaxis\": {\"gridcolor\": \"white\", \"linecolor\": \"white\", \"ticks\": \"\"}}, \"scene\": {\"xaxis\": {\"backgroundcolor\": \"#E5ECF6\", \"gridcolor\": \"white\", \"gridwidth\": 2, \"linecolor\": \"white\", \"showbackground\": true, \"ticks\": \"\", \"zerolinecolor\": \"white\"}, \"yaxis\": {\"backgroundcolor\": \"#E5ECF6\", \"gridcolor\": \"white\", \"gridwidth\": 2, \"linecolor\": \"white\", \"showbackground\": true, \"ticks\": \"\", \"zerolinecolor\": \"white\"}, \"zaxis\": {\"backgroundcolor\": \"#E5ECF6\", \"gridcolor\": \"white\", \"gridwidth\": 2, \"linecolor\": \"white\", \"showbackground\": true, \"ticks\": \"\", \"zerolinecolor\": \"white\"}}, \"shapedefaults\": {\"line\": {\"color\": \"#2a3f5f\"}}, \"ternary\": {\"aaxis\": {\"gridcolor\": \"white\", \"linecolor\": \"white\", \"ticks\": \"\"}, \"baxis\": {\"gridcolor\": \"white\", \"linecolor\": \"white\", \"ticks\": \"\"}, \"bgcolor\": \"#E5ECF6\", \"caxis\": {\"gridcolor\": \"white\", \"linecolor\": \"white\", \"ticks\": \"\"}}, \"title\": {\"x\": 0.05}, \"xaxis\": {\"automargin\": true, \"gridcolor\": \"white\", \"linecolor\": \"white\", \"ticks\": \"\", \"title\": {\"standoff\": 15}, \"zerolinecolor\": \"white\", \"zerolinewidth\": 2}, \"yaxis\": {\"automargin\": true, \"gridcolor\": \"white\", \"linecolor\": \"white\", \"ticks\": \"\", \"title\": {\"standoff\": 15}, \"zerolinecolor\": \"white\", \"zerolinewidth\": 2}}}, \"title\": {\"text\": \"H-Clustering -Abstracts+Titles - Cumulative Development of fields: Docs 1990-2004 to 1990-2018 : Enhanced number of clusters  - pow 1 - thresh 0.75\"}, \"width\": 1500},\n",
       "                        {\"responsive\": true}\n",
       "                    ).then(function(){\n",
       "                            \n",
       "var gd = document.getElementById('61b015f6-2de3-4956-bd69-df0dad8ba1ce');\n",
       "var x = new MutationObserver(function (mutations, observer) {{\n",
       "        var display = window.getComputedStyle(gd).display;\n",
       "        if (!display || display === 'none') {{\n",
       "            console.log([gd, 'removed!']);\n",
       "            Plotly.purge(gd);\n",
       "            observer.disconnect();\n",
       "        }}\n",
       "}});\n",
       "\n",
       "// Listen for the removal of the full notebook cells\n",
       "var notebookContainer = gd.closest('#notebook-container');\n",
       "if (notebookContainer) {{\n",
       "    x.observe(notebookContainer, {childList: true});\n",
       "}}\n",
       "\n",
       "// Listen for the clearing of the current output cell\n",
       "var outputEl = gd.closest('.output');\n",
       "if (outputEl) {{\n",
       "    x.observe(outputEl, {childList: true});\n",
       "}}\n",
       "\n",
       "                        })\n",
       "                };\n",
       "                });\n",
       "            </script>\n",
       "        </div>"
      ]
     },
     "metadata": {},
     "output_type": "display_data"
    }
   ],
   "source": [
    "fig = go.Figure(data=[go.Sankey(\n",
    "    node = dict(\n",
    "      pad = 15,\n",
    "      thickness = 10,\n",
    "      line = dict(color = \"black\", width = 0),\n",
    "      label = labels_all_new,\n",
    "      color = colors_all #\"blue\"\n",
    "    ),\n",
    "    link = dict(\n",
    "      source = similarity_source,# 1, 0, 2, 3, 3], # indices correspond to labels, eg A1, A2, A2, B1, ...\n",
    "      target = similarity_target,# 3, 3, 4, 4, 5],\n",
    "      value = similarity_value,# 4, 2, 8, 4, 2],\n",
    "      color = final_colors_links #\"grey\"\n",
    "  ))])\n",
    "\n",
    "fig.update_layout(title_text=\"H-Clustering -\"+data_type+\" Development of fields: Docs 1990-2004 to \"+last_period_start+\"-2018 : Enhanced number of clusters  - pow \"+str(power)+\" - thresh \"+str(link_strength_threshold), font_size=11)\n",
    "fig.update_layout(\n",
    "    autosize=False,\n",
    "    width=1500,\n",
    "    height=900)\n",
    "fig.show()"
   ]
  },
  {
   "cell_type": "code",
   "execution_count": null,
   "metadata": {},
   "outputs": [],
   "source": []
  },
  {
   "cell_type": "code",
   "execution_count": null,
   "metadata": {},
   "outputs": [],
   "source": []
  }
 ],
 "metadata": {
  "kernelspec": {
   "display_name": "Python 3",
   "language": "python",
   "name": "python3"
  },
  "language_info": {
   "codemirror_mode": {
    "name": "ipython",
    "version": 3
   },
   "file_extension": ".py",
   "mimetype": "text/x-python",
   "name": "python",
   "nbconvert_exporter": "python",
   "pygments_lexer": "ipython3",
   "version": "3.7.4"
  }
 },
 "nbformat": 4,
 "nbformat_minor": 2
}
