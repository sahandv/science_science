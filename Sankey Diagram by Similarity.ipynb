{
 "cells": [
  {
   "cell_type": "markdown",
   "metadata": {},
   "source": [
    "# Sankey Diagram by Similarity Scores\n"
   ]
  },
  {
   "cell_type": "markdown",
   "metadata": {},
   "source": [
    "### Import Libs"
   ]
  },
  {
   "cell_type": "code",
   "execution_count": 1,
   "metadata": {},
   "outputs": [
    {
     "name": "stdout",
     "output_type": "stream",
     "text": [
      "env name: sciosci\n"
     ]
    }
   ],
   "source": [
    "import os\n",
    "print('env name:',os.environ['CONDA_DEFAULT_ENV'])\n",
    "\n",
    "import plotly.graph_objects as go\n",
    "from skimage import io\n",
    "import urllib, json\n",
    "import pandas as pd\n",
    "import numpy as np\n",
    "from sciosci.assets import advanced_assets as aa\n",
    "from tqdm import tqdm\n",
    "import re"
   ]
  },
  {
   "cell_type": "markdown",
   "metadata": {},
   "source": [
    "### Initialize"
   ]
  },
  {
   "cell_type": "code",
   "execution_count": 28,
   "metadata": {},
   "outputs": [],
   "source": [
    "random_link_colors = False\n",
    "multi_year_similarity = True\n",
    "\n",
    "comment = ''\n",
    "clustering_method = 'agglomerative ward '\n",
    "link_strength_threshold = 0.975\n",
    "link_strength_threshold_2 = 0.985\n",
    "power = 1 # value power for increasing the differences "
   ]
  },
  {
   "cell_type": "markdown",
   "metadata": {},
   "source": [
    "#### Separated years"
   ]
  },
  {
   "cell_type": "code",
   "execution_count": 17,
   "metadata": {},
   "outputs": [],
   "source": [
    "last_period_start = \"2017\"\n",
    "data_type = \"Author Keywords - Abstract Words \"\n",
    "label_source = ''\n",
    "year_periods_topics = [\"8\",\"8\",\"12\",\"12\",\"16\",\"16\"]  #[\"7\",\"7\",\"9\",\"13\",\"13\",\"17\"]  \n",
    "# Sorted periods' topic numbers from new to old from left to right\n",
    "year_periods = [\"1990-2004\",\"2005-2007\",\"2008-2010\",\"2011-2013\",\"2014-2016\",\"2017-2018\"] \n",
    "# Sorted year periods from new to old from left to right\n",
    "data_directory = '/home/sahand/GoogleDrive/Data/Word Clustering/50D/'"
   ]
  },
  {
   "cell_type": "markdown",
   "metadata": {},
   "source": [
    "#### cumulative years"
   ]
  },
  {
   "cell_type": "code",
   "execution_count": null,
   "metadata": {},
   "outputs": [],
   "source": [
    "last_period_start = \"1990\"\n",
    "data_type = \"Author Keywords - Cumulative\"\n",
    "year_periods_topics = [\"7\",\"8\",\"10\",\"10\",\"10\",\"11\"]  \n",
    "# Sorted periods' topic numbers from new to old from left to right\n",
    "year_periods = [\"1990-2004\",\"1990-2007\",\"1990-2010\",\"1990-2013\",\"1990-2016\",\"1990-2018\"] \n",
    "# Sorted year periods from new to old from left to right\n",
    "data_directory = 'data/clusters/FastText/15D/10 dim/'"
   ]
  },
  {
   "cell_type": "markdown",
   "metadata": {},
   "source": [
    "#### cumulative documents"
   ]
  },
  {
   "cell_type": "code",
   "execution_count": null,
   "metadata": {},
   "outputs": [],
   "source": [
    "last_period_start = \"1990\"\n",
    "label_source = 'topics/'#authkeyword/'\n",
    "data_type = \"Abstracts+Titles - Cumulative\"\n",
    "year_periods_topics = [\"9\",\"10\",\"11\",\"14\",\"15\",\"15\"]\n",
    "# Sorted periods' topic numbers from new to old from left to right\n",
    "year_periods = [\"1990-2004\",\"1990-2007\",\"1990-2010\",\"1990-2013\",\"1990-2016\",\"1990-2018\"] \n",
    "# Sorted year periods from new to old from left to right\n",
    "data_directory = '/home/sahand/GoogleDrive/Data/FastText doc clusters - SIP/50D/'\n",
    "#'data/clusters/FastText/50D/'"
   ]
  },
  {
   "cell_type": "markdown",
   "metadata": {},
   "source": [
    "#### Separated documents"
   ]
  },
  {
   "cell_type": "code",
   "execution_count": 4,
   "metadata": {},
   "outputs": [],
   "source": [
    "last_period_start = \"2017\"\n",
    "label_source = ''#authkeyword/'\n",
    "data_type = \"Abstracts+Titles - Separated\"\n",
    "year_periods_topics = [\"10\",\"8\",\"9\",\"11\",\"11\",\"11\"]\n",
    "# Sorted periods' topic numbers from new to old from left to right\n",
    "year_periods = [\"1990-2004\",\"2005-2007\",\"2008-2010\",\"2011-2013\",\"2014-2016\",\"2017-2019\"] \n",
    "# Sorted year periods from new to old from left to right\n",
    "data_directory = '/home/sahand/GoogleDrive/Data/Document Clustering/50D 4k/'\n",
    "#'data/clusters/FastText/50D/'"
   ]
  },
  {
   "cell_type": "markdown",
   "metadata": {},
   "source": [
    "### Read & Prepare Data"
   ]
  },
  {
   "cell_type": "markdown",
   "metadata": {},
   "source": [
    "Generate nodes and links"
   ]
  },
  {
   "cell_type": "code",
   "execution_count": 11,
   "metadata": {},
   "outputs": [
    {
     "name": "stdout",
     "output_type": "stream",
     "text": [
      "Node colors are:\n"
     ]
    },
    {
     "data": {
      "image/png": "[encoded data removed]",
      "text/plain": [
       "<Figure size 432x288 with 1 Axes>"
      ]
     },
     "metadata": {
      "needs_background": "light"
     },
     "output_type": "display_data"
    }
   ],
   "source": [
    "node_colors_palette = aa.color_palette_maker(len(year_periods_topics),alpha=0.8)\n",
    "node_colors = ['rgba('+str(x).replace('[','').replace(']','')+')' for x in node_colors_palette]\n",
    "link_colors = [x[:-4]+'0.4)' for x in node_colors]\n",
    "node_colors_palette = np.array([node_colors_palette])\n",
    "print(\"Node colors are:\")\n",
    "io.imshow(node_colors_palette)\n",
    "labels_numeric_dict = {per:[] for per in year_periods}\n"
   ]
  },
  {
   "cell_type": "code",
   "execution_count": 12,
   "metadata": {},
   "outputs": [],
   "source": [
    "def color_alternator(rgba_colors,up_thresh = 0.8, down_thresh = 0.2, color_part = 2):\n",
    "    new_colors = []\n",
    "    color_s = rgba_colors[0].split(', ')\n",
    "    cell = float(rgba_colors[0].split(', ')[color_part])\n",
    "    if cell > 0.5:\n",
    "        portion = (cell-down_thresh)/len(rgba_colors)\n",
    "    else:\n",
    "        portion = (up_thresh-cell)/len(rgba_colors)\n",
    "\n",
    "    for idx,color in enumerate(topic_colors):\n",
    "        if cell > 0.5:\n",
    "            new_cell = cell-(idx+1)*portion\n",
    "        else:\n",
    "            new_cell = cell+(idx+1)*portion\n",
    "\n",
    "        color_s[color_part] = str(new_cell)\n",
    "        new_colors.append(', '.join(color_s))\n",
    "    return new_colors"
   ]
  },
  {
   "cell_type": "markdown",
   "metadata": {},
   "source": [
    "### Process"
   ]
  },
  {
   "cell_type": "markdown",
   "metadata": {},
   "source": [
    "#### Multi year similarity"
   ]
  },
  {
   "cell_type": "code",
   "execution_count": 13,
   "metadata": {},
   "outputs": [
    {
     "data": {
      "text/plain": [
       "[[0, 1, 2, 3, 4, 5, 6, 7, 8, 9],\n",
       " [10, 11, 12, 13, 14, 15, 16, 17],\n",
       " [18, 19, 20, 21, 22, 23, 24, 25, 26],\n",
       " [27, 28, 29, 30, 31, 32, 33, 34, 35, 36, 37],\n",
       " [38, 39, 40, 41, 42, 43, 44, 45, 46, 47, 48],\n",
       " [49, 50, 51, 52, 53, 54, 55, 56, 57, 58, 59]]"
      ]
     },
     "execution_count": 13,
     "metadata": {},
     "output_type": "execute_result"
    }
   ],
   "source": [
    "# Give unique ID to all clusters\n",
    "total = 0\n",
    "cluster_ids = []\n",
    "for period_index, period in enumerate(year_periods):\n",
    "    cluster_ids.append(list(range(total,int(year_periods_topics[period_index])+total)))\n",
    "    total = total + int(year_periods_topics[period_index])\n",
    "cluster_ids"
   ]
  },
  {
   "cell_type": "code",
   "execution_count": 40,
   "metadata": {},
   "outputs": [
    {
     "name": "stderr",
     "output_type": "stream",
     "text": [
      "100%|██████████| 10/10 [00:00<00:00, 1496.52it/s]\n",
      "100%|██████████| 8/8 [00:00<00:00, 1278.51it/s]\n",
      "100%|██████████| 9/9 [00:00<00:00, 2571.09it/s]\n",
      "100%|██████████| 11/11 [00:00<00:00, 2283.57it/s]\n",
      "100%|██████████| 11/11 [00:00<00:00, 2408.38it/s]\n",
      "100%|██████████| 11/11 [00:00<00:00, 2719.08it/s]"
     ]
    },
    {
     "name": "stdout",
     "output_type": "stream",
     "text": [
      "1990-2004 10 0\n",
      "2005-2007 8 10\n",
      "2008-2010 9 18\n",
      "2011-2013 11 27\n",
      "2014-2016 11 38\n",
      "2017-2019 11 49\n"
     ]
    },
    {
     "name": "stderr",
     "output_type": "stream",
     "text": [
      "\n"
     ]
    }
   ],
   "source": [
    "labels_all = []\n",
    "labels_all_numeric = []\n",
    "labels_all_numeric_sequential = []\n",
    "colors_all = []\n",
    "colors_all_links = []\n",
    "\n",
    "similarity_source = []\n",
    "similarity_target = []\n",
    "similarity_value = []\n",
    "\n",
    "if multi_year_similarity is True:\n",
    "    for period_index, period in enumerate(year_periods):\n",
    "        print(period,year_periods_topics[period_index],cluster_ids[period_index][0])\n",
    "\n",
    "        terms = pd.read_csv(data_directory+'term_cluster-tables/'+label_source+period+\" \"+year_periods_topics[period_index]+\" - term_cluster.csv\").fillna('')\n",
    "        scores = pd.read_csv(data_directory+'term_cluster-tables/'+label_source+period+\" \"+year_periods_topics[period_index]+\" - term_score.csv\").fillna(0)\n",
    "\n",
    "\n",
    "        labels_this_period = aa.topic_label_maker(terms,scores,ratio=10, prefix=period.split('-')[1][-2:]+' - ',limit=5)\n",
    "#         labels_this_period = list(range(len(cluster_ids[period_index])))\n",
    "#         labels_this_period = [period+' - '+str(x) for x in labels_this_period]\n",
    "        \n",
    "        labels_all = labels_all + labels_this_period\n",
    "        labels_all_numeric = labels_all_numeric + [str(x) for x in list(range(0,len(labels_this_period)))]\n",
    "        \n",
    "        topic_colors = [node_colors[period_index]] * len(labels_this_period)\n",
    "        topic_colors = color_alternator(topic_colors,up_thresh = 0.99, down_thresh = 0.01, color_part = 2)\n",
    "        colors_all = colors_all + topic_colors\n",
    "        \n",
    "        topic_link_colors = [link_colors[period_index]] * len(labels_this_period)\n",
    "        topic_link_colors = color_alternator(topic_link_colors,up_thresh = 0.99, down_thresh = 0.01, color_part = 2)\n",
    "        colors_all_links = colors_all_links + topic_link_colors\n",
    "        \n",
    "    #    similarity_scores = None\n",
    "        if period_index < len(year_periods) - 1:\n",
    "            similarity_scores = pd.read_csv(data_directory+'similarity/'+clustering_method+year_periods[period_index]+\"_\"+year_periods_topics[period_index]+\"-\"+year_periods[period_index+1]+\"_\"+year_periods_topics[period_index+1]+\".csv\")\n",
    "    #        terms_previous_period = pd.read_csv(data_directory+\"cumulative/\"+year_periods[period_index+1]+\"_\"+year_periods_topics[period_index+1]+\"/top_99-percentile_keywords_terms-spaced.csv\")\n",
    "\n",
    "            # flatten the similarity scores\n",
    "            for period_cluster_no,row in similarity_scores.iterrows(): # repeat to n_clusters of A\n",
    "\n",
    "                elem_num = len(row.values.tolist()) # number of columns in similarity file\n",
    "                for idx in range(1,elem_num,2):     # repeat to n_clusters of B\n",
    "                    if row.values.tolist()[idx+1]**power > link_strength_threshold:\n",
    "                        similarity_source.append(int(row.values.tolist()[0]) + cluster_ids[period_index][0])\n",
    "                        similarity_target.append(int(row.values.tolist()[idx]) + cluster_ids[period_index+1][0])\n",
    "                        similarity_value.append(row.values.tolist()[idx+1]**power)\n",
    "                \n",
    "        if period_index < len(year_periods) - 2:\n",
    "            try:\n",
    "                similarity_scores = pd.read_csv(data_directory+'similarity/'+clustering_method+year_periods[period_index]+\"_\"+year_periods_topics[period_index]+\"-\"+year_periods[period_index+2]+\"_\"+year_periods_topics[period_index+2]+\".csv\")\n",
    "    #        terms_previous_period = pd.read_csv(data_directory+\"cumulative/\"+year_periods[period_index+1]+\"_\"+year_periods_topics[period_index+1]+\"/top_99-percentile_keywords_terms-spaced.csv\")\n",
    "            except:\n",
    "                print(\"\\nThere is no similarity record at \",data_directory+'similarity/'+clustering_method+year_periods[period_index]+\"_\"+year_periods_topics[period_index]+\"-\"+year_periods[period_index+2]+\"_\"+year_periods_topics[period_index+2]+\".csv\")\n",
    "                similarity_scores = None\n",
    "                continue\n",
    "                \n",
    "            for period_cluster_no,row in similarity_scores.iterrows(): # repeat to n_clusters of A\n",
    "\n",
    "                elem_num = len(row.values.tolist()) # number of columns in similarity file\n",
    "                for idx in range(1,elem_num,2):     # repeat to n_clusters of B\n",
    "                    if row.values.tolist()[idx+1]**power > link_strength_threshold_2:\n",
    "                        similarity_source.append(int(row.values.tolist()[0]) + cluster_ids[period_index][0])\n",
    "                        similarity_target.append(int(row.values.tolist()[idx]) + cluster_ids[period_index+2][0])\n",
    "                        similarity_value.append(row.values.tolist()[idx+1]**power)\n",
    "                \n",
    "                \n",
    "    labels_all_numeric_sequential = [str(x) for x in list(range(0,len(labels_all_numeric)))]"
   ]
  },
  {
   "cell_type": "markdown",
   "metadata": {},
   "source": [
    "### Draw"
   ]
  },
  {
   "cell_type": "markdown",
   "metadata": {},
   "source": [
    "#### Prepare links"
   ]
  },
  {
   "cell_type": "markdown",
   "metadata": {},
   "source": [
    "* For clustered colors:"
   ]
  },
  {
   "cell_type": "code",
   "execution_count": 41,
   "metadata": {},
   "outputs": [
    {
     "name": "stderr",
     "output_type": "stream",
     "text": [
      "100%|██████████| 86/86 [00:00<00:00, 111158.75it/s]\n"
     ]
    }
   ],
   "source": [
    "if random_link_colors is False:\n",
    "    final_colors_links = [colors_all_links[x] for x in similarity_source] # in similarity_source]\n",
    "    final_color_links_varied = []\n",
    "    for i,value in tqdm(enumerate(similarity_value),total=len(similarity_value)):\n",
    "        final_color_links_varied.append(final_colors_links[i].replace(', 0.4',', '+str(value/2)))\n",
    "#         print(final_color_links_varied[i])\n",
    "    final_colors_links = final_color_links_varied"
   ]
  },
  {
   "cell_type": "markdown",
   "metadata": {},
   "source": [
    "* For random colors:"
   ]
  },
  {
   "cell_type": "code",
   "execution_count": 42,
   "metadata": {},
   "outputs": [],
   "source": [
    "if random_link_colors is True:\n",
    "    final_colors_links = ['rgba('+str(x).replace('[','').replace(']','')+')' for x in aa.color_palette_maker(len(similarity_target),alpha=0.3)]"
   ]
  },
  {
   "cell_type": "markdown",
   "metadata": {},
   "source": [
    "#### Prepare labels"
   ]
  },
  {
   "cell_type": "code",
   "execution_count": 43,
   "metadata": {},
   "outputs": [
    {
     "name": "stderr",
     "output_type": "stream",
     "text": [
      "100%|██████████| 60/60 [00:00<00:00, 95037.10it/s]\n"
     ]
    }
   ],
   "source": [
    "labels_all_new = []\n",
    "for label in tqdm(labels_all):\n",
    "    label_to_split = label.split('- ')\n",
    "    label_split = label_to_split[1].split(', ')\n",
    "    label_split_new = []\n",
    "    for split in label_split:\n",
    "        if len(split)>20:\n",
    "            label_split_new.append(aa.abbreviator(split))\n",
    "        else:\n",
    "            label_split_new.append(split)\n",
    "    labels_all_new.append(label_to_split[0]+'- '+', '.join(label_split_new))\n",
    "labels_all_new = [label.replace('computer science','cs').replace('engineering','en') for label in labels_all_new]"
   ]
  },
  {
   "cell_type": "markdown",
   "metadata": {},
   "source": [
    "#### Draw"
   ]
  },
  {
   "cell_type": "code",
   "execution_count": 45,
   "metadata": {},
   "outputs": [
    {
     "data": {
      "application/vnd.plotly.v1+json": {
       "config": {
        "plotlyServerURL": "https://plot.ly"
       },
       "data": [
        {
         "link": {
          "color": [
           "rgba(0.90625, 0.171875, 0.352125, 0.4885330948334184)",
           "rgba(0.90625, 0.171875, 0.352125, 0.4967759972763026)",
           "rgba(0.90625, 0.171875, 0.498055173590983423, 0.4980551735909834)",
           "rgba(0.90625, 0.171875, 0.56475, 0.494922684193486)",
           "rgba(0.90625, 0.171875, 0.56475, 0.4882464324491638)",
           "rgba(0.90625, 0.171875, 0.635625, 0.4956714320769572)",
           "rgba(0.90625, 0.171875, 0.635625, 0.4898576158856169)",
           "rgba(0.90625, 0.171875, 0.635625, 0.49219318712171956)",
           "rgba(0.90625, 0.171875, 0.84825, 0.4951056855150098)",
           "rgba(0.90625, 0.171875, 0.99, 0.4888096256571278)",
           "rgba(0.90625, 0.171875, 0.99, 0.4890776495716657)",
           "rgba(0.90625, 0.171875, 0.352125, 0.499149597234452)",
           "rgba(0.90625, 0.171875, 0.492852228938188223, 0.4928522289381882)",
           "rgba(0.90625, 0.171875, 0.497235821251556323, 0.4972358212515563)",
           "rgba(0.90625, 0.171875, 0.635625, 0.4967903094352582)",
           "rgba(0.90625, 0.171875, 0.84825, 0.4926061267114858)",
           "rgba(0.109375, 0.93359375, 0.3207421875, 0.4927006925635122)",
           "rgba(0.109375, 0.93359375, 0.3207421875, 0.488189624061422)",
           "rgba(0.109375, 0.93359375, 0.3207421875, 0.4988934092419513)",
           "rgba(0.109375, 0.93359375, 0.49210005450284413228515624999997, 0.4921000545028441)",
           "rgba(0.109375, 0.93359375, 0.48868783235621463228515624999997, 0.4886878323562146)",
           "rgba(0.109375, 0.93359375, 0.543828125, 0.4952059040392004)",
           "rgba(0.109375, 0.93359375, 0.543828125, 0.49051066279568245)",
           "rgba(0.109375, 0.93359375, 0.65537109375, 0.4958825528596682)",
           "rgba(0.109375, 0.93359375, 0.65537109375, 0.487790495878776)",
           "rgba(0.109375, 0.93359375, 0.65537109375, 0.4883168801581468)",
           "rgba(0.109375, 0.93359375, 0.7669140624999999, 0.4899356818269472)",
           "rgba(0.109375, 0.93359375, 0.87845703125, 0.4914273149178252)",
           "rgba(0.109375, 0.93359375, 0.87845703125, 0.4910546106815068)",
           "rgba(0.109375, 0.93359375, 0.99, 0.49034973756892747)",
           "rgba(0.109375, 0.93359375, 0.20919921875, 0.4925402257938402)",
           "rgba(0.109375, 0.93359375, 0.3207421875, 0.49754613561884004)",
           "rgba(0.109375, 0.93359375, 0.49321559791233523228515624999997, 0.4932155979123352)",
           "rgba(0.109375, 0.93359375, 0.543828125, 0.4925662424846511)",
           "rgba(0.109375, 0.93359375, 0.543828125, 0.4936893624268591)",
           "rgba(0.109375, 0.93359375, 0.65537109375, 0.4971635153866616)",
           "rgba(0.109375, 0.93359375, 0.7669140624999999, 0.4925852141391948)",
           "rgba(0.58984375, 0.00390625, 0.6052777777777778, 0.4967195624174407)",
           "rgba(0.58984375, 0.00390625, 0.6052777777777778, 0.4898582110321363)",
           "rgba(0.58984375, 0.00390625, 0.5308680555555556, 0.4946549757377344)",
           "rgba(0.58984375, 0.00390625, 0.5308680555555556, 0.4949682710751826)",
           "rgba(0.58984375, 0.00390625, 0.3820486111111111, 0.48823233676923955)",
           "rgba(0.58984375, 0.00390625, 0.3820486111111111, 0.493698536397784)",
           "rgba(0.58984375, 0.00390625, 0.3076388888888889, 0.49897527734790503)",
           "rgba(0.58984375, 0.00390625, 0.3076388888888889, 0.4878453064704115)",
           "rgba(0.58984375, 0.00390625, 0.23322916666666665, 0.4901332919329358)",
           "rgba(0.58984375, 0.00390625, 0.1588194444444444, 0.4880283938893188)",
           "rgba(0.58984375, 0.00390625, 0.010000000000000009, 0.4977087101315687)",
           "rgba(0.58984375, 0.00390625, 0.6052777777777778, 0.4958240569245178)",
           "rgba(0.58984375, 0.00390625, 0.5308680555555556, 0.4950275508765264)",
           "rgba(0.58984375, 0.00390625, 0.3820486111111111, 0.4944222948503276)",
           "rgba(0.58984375, 0.00390625, 0.3076388888888889, 0.4983694230498778)",
           "rgba(0.58984375, 0.00390625, 0.1588194444444444, 0.4948285073131217)",
           "rgba(0.58984375, 0.00390625, 0.010000000000000009, 0.49704107840169)",
           "rgba(0.89453125, 0.671875, 0.13971590909090909, 0.4883218709158516)",
           "rgba(0.89453125, 0.671875, 0.13971590909090909, 0.4899804113164417)",
           "rgba(0.89453125, 0.671875, 0.13971590909090909, 0.4907242253156604)",
           "rgba(0.89453125, 0.671875, 0.22474431818181817, 0.4878821414098666)",
           "rgba(0.89453125, 0.671875, 0.30977272727272726, 0.4966279642104634)",
           "rgba(0.89453125, 0.671875, 0.39480113636363634, 0.4907417520853454)",
           "rgba(0.89453125, 0.671875, 0.39480113636363634, 0.4990447689579159)",
           "rgba(0.89453125, 0.671875, 0.4893872177765421798295454545454, 0.4893872177765421)",
           "rgba(0.89453125, 0.671875, 0.5648579545454545, 0.4988881249756297)",
           "rgba(0.89453125, 0.671875, 0.6498863636363637, 0.4915918227301822)",
           "rgba(0.89453125, 0.671875, 0.6498863636363637, 0.4986533758296157)",
           "rgba(0.89453125, 0.671875, 0.8199431818181817, 0.4897607651000987)",
           "rgba(0.89453125, 0.671875, 0.9049715909090909, 0.4890135485958484)",
           "rgba(0.89453125, 0.671875, 0.99, 0.4907732219594456)",
           "rgba(0.89453125, 0.671875, 0.13971590909090909, 0.4944816587676972)",
           "rgba(0.89453125, 0.671875, 0.30977272727272726, 0.4969158155084306)",
           "rgba(0.89453125, 0.671875, 0.39480113636363634, 0.4958732928346038)",
           "rgba(0.89453125, 0.671875, 0.39480113636363634, 0.4964498819345442)",
           "rgba(0.89453125, 0.671875, 0.4970102836895852798295454545454, 0.4970102836895852)",
           "rgba(0.89453125, 0.671875, 0.5648579545454545, 0.4968293144550936)",
           "rgba(0.89453125, 0.671875, 0.6498863636363637, 0.4973678771699656)",
           "rgba(0.89453125, 0.671875, 0.9049715909090909, 0.4929835287488158)",
           "rgba(0.203125, 0.75390625, 0.5374431818181818, 0.4984675437584376)",
           "rgba(0.203125, 0.75390625, 0.5826988636363637, 0.4944851998470443)",
           "rgba(0.203125, 0.75390625, 0.6279545454545454, 0.4976536050561831)",
           "rgba(0.203125, 0.75390625, 0.7184659090909091, 0.4932728217495646)",
           "rgba(0.203125, 0.75390625, 0.7184659090909091, 0.4925191217021404)",
           "rgba(0.203125, 0.75390625, 0.7637215909090909, 0.4958506925337084)",
           "rgba(0.203125, 0.75390625, 0.8089772727272727, 0.495170287809194)",
           "rgba(0.203125, 0.75390625, 0.8089772727272727, 0.4963406889655758)",
           "rgba(0.203125, 0.75390625, 0.8542329545454546, 0.4960618285650089)",
           "rgba(0.203125, 0.75390625, 0.99, 0.4973812524343628)"
          ],
          "source": [
           0,
           0,
           1,
           3,
           3,
           4,
           4,
           4,
           7,
           9,
           9,
           0,
           1,
           1,
           4,
           7,
           11,
           11,
           11,
           12,
           12,
           13,
           13,
           14,
           14,
           14,
           15,
           16,
           16,
           17,
           10,
           11,
           12,
           13,
           13,
           14,
           15,
           18,
           18,
           19,
           19,
           21,
           21,
           22,
           22,
           23,
           24,
           26,
           18,
           19,
           21,
           22,
           24,
           26,
           27,
           27,
           27,
           28,
           29,
           30,
           30,
           31,
           32,
           33,
           33,
           35,
           36,
           37,
           27,
           29,
           30,
           30,
           31,
           32,
           33,
           36,
           38,
           39,
           40,
           42,
           42,
           43,
           44,
           44,
           45,
           48
          ],
          "target": [
           13,
           14,
           11,
           12,
           13,
           13,
           15,
           16,
           10,
           12,
           13,
           22,
           21,
           26,
           19,
           24,
           21,
           24,
           26,
           18,
           19,
           19,
           22,
           22,
           24,
           26,
           19,
           19,
           21,
           18,
           35,
           33,
           32,
           27,
           29,
           30,
           27,
           32,
           36,
           27,
           29,
           31,
           33,
           30,
           33,
           37,
           28,
           33,
           43,
           38,
           42,
           44,
           39,
           48,
           38,
           45,
           48,
           39,
           38,
           39,
           44,
           42,
           43,
           42,
           48,
           46,
           40,
           40,
           59,
           55,
           51,
           58,
           57,
           56,
           54,
           49,
           55,
           51,
           49,
           54,
           57,
           56,
           51,
           58,
           59,
           54
          ],
          "value": [
           0.9770661896668368,
           0.9935519945526052,
           0.9961103471819668,
           0.989845368386972,
           0.9764928648983277,
           0.9913428641539144,
           0.9797152317712338,
           0.9843863742434391,
           0.9902113710300195,
           0.9776192513142556,
           0.9781552991433314,
           0.998299194468904,
           0.9857044578763764,
           0.9944716425031126,
           0.9935806188705164,
           0.9852122534229716,
           0.9854013851270244,
           0.976379248122844,
           0.9977868184839026,
           0.9842001090056882,
           0.9773756647124292,
           0.9904118080784008,
           0.9810213255913649,
           0.9917651057193364,
           0.975580991757552,
           0.9766337603162936,
           0.9798713636538944,
           0.9828546298356504,
           0.9821092213630136,
           0.9806994751378549,
           0.9850804515876804,
           0.9950922712376801,
           0.9864311958246704,
           0.9851324849693022,
           0.9873787248537182,
           0.9943270307733232,
           0.9851704282783896,
           0.9934391248348814,
           0.9797164220642726,
           0.9893099514754689,
           0.9899365421503652,
           0.9764646735384791,
           0.987397072795568,
           0.9979505546958101,
           0.975690612940823,
           0.9802665838658716,
           0.9760567877786376,
           0.9954174202631374,
           0.9916481138490356,
           0.9900551017530528,
           0.9888445897006553,
           0.9967388460997556,
           0.9896570146262434,
           0.99408215680338,
           0.9766437418317032,
           0.9799608226328834,
           0.9814484506313208,
           0.9757642828197332,
           0.9932559284209268,
           0.9814835041706907,
           0.9980895379158318,
           0.9787744355530842,
           0.9977762499512594,
           0.9831836454603644,
           0.9973067516592314,
           0.9795215302001974,
           0.9780270971916968,
           0.9815464439188912,
           0.9889633175353943,
           0.9938316310168612,
           0.9917465856692076,
           0.9928997638690884,
           0.9940205673791704,
           0.9936586289101872,
           0.9947357543399312,
           0.9859670574976316,
           0.9969350875168752,
           0.9889703996940886,
           0.9953072101123662,
           0.9865456434991292,
           0.9850382434042808,
           0.9917013850674168,
           0.990340575618388,
           0.9926813779311516,
           0.9921236571300178,
           0.9947625048687256
          ]
         },
         "node": {
          "color": [
           "rgba(0.90625, 0.171875, 0.352125, 0.8)",
           "rgba(0.90625, 0.171875, 0.423, 0.8)",
           "rgba(0.90625, 0.171875, 0.49387499999999995, 0.8)",
           "rgba(0.90625, 0.171875, 0.56475, 0.8)",
           "rgba(0.90625, 0.171875, 0.635625, 0.8)",
           "rgba(0.90625, 0.171875, 0.7064999999999999, 0.8)",
           "rgba(0.90625, 0.171875, 0.7773749999999999, 0.8)",
           "rgba(0.90625, 0.171875, 0.84825, 0.8)",
           "rgba(0.90625, 0.171875, 0.919125, 0.8)",
           "rgba(0.90625, 0.171875, 0.99, 0.8)",
           "rgba(0.109375, 0.93359375, 0.20919921875, 0.8)",
           "rgba(0.109375, 0.93359375, 0.3207421875, 0.8)",
           "rgba(0.109375, 0.93359375, 0.43228515624999997, 0.8)",
           "rgba(0.109375, 0.93359375, 0.543828125, 0.8)",
           "rgba(0.109375, 0.93359375, 0.65537109375, 0.8)",
           "rgba(0.109375, 0.93359375, 0.7669140624999999, 0.8)",
           "rgba(0.109375, 0.93359375, 0.87845703125, 0.8)",
           "rgba(0.109375, 0.93359375, 0.99, 0.8)",
           "rgba(0.58984375, 0.00390625, 0.6052777777777778, 0.8)",
           "rgba(0.58984375, 0.00390625, 0.5308680555555556, 0.8)",
           "rgba(0.58984375, 0.00390625, 0.4564583333333333, 0.8)",
           "rgba(0.58984375, 0.00390625, 0.3820486111111111, 0.8)",
           "rgba(0.58984375, 0.00390625, 0.3076388888888889, 0.8)",
           "rgba(0.58984375, 0.00390625, 0.23322916666666665, 0.8)",
           "rgba(0.58984375, 0.00390625, 0.1588194444444444, 0.8)",
           "rgba(0.58984375, 0.00390625, 0.0844097222222222, 0.8)",
           "rgba(0.58984375, 0.00390625, 0.010000000000000009, 0.8)",
           "rgba(0.89453125, 0.671875, 0.13971590909090909, 0.8)",
           "rgba(0.89453125, 0.671875, 0.22474431818181817, 0.8)",
           "rgba(0.89453125, 0.671875, 0.30977272727272726, 0.8)",
           "rgba(0.89453125, 0.671875, 0.39480113636363634, 0.8)",
           "rgba(0.89453125, 0.671875, 0.4798295454545454, 0.8)",
           "rgba(0.89453125, 0.671875, 0.5648579545454545, 0.8)",
           "rgba(0.89453125, 0.671875, 0.6498863636363637, 0.8)",
           "rgba(0.89453125, 0.671875, 0.7349147727272727, 0.8)",
           "rgba(0.89453125, 0.671875, 0.8199431818181817, 0.8)",
           "rgba(0.89453125, 0.671875, 0.9049715909090909, 0.8)",
           "rgba(0.89453125, 0.671875, 0.99, 0.8)",
           "rgba(0.203125, 0.75390625, 0.5374431818181818, 0.8)",
           "rgba(0.203125, 0.75390625, 0.5826988636363637, 0.8)",
           "rgba(0.203125, 0.75390625, 0.6279545454545454, 0.8)",
           "rgba(0.203125, 0.75390625, 0.6732102272727273, 0.8)",
           "rgba(0.203125, 0.75390625, 0.7184659090909091, 0.8)",
           "rgba(0.203125, 0.75390625, 0.7637215909090909, 0.8)",
           "rgba(0.203125, 0.75390625, 0.8089772727272727, 0.8)",
           "rgba(0.203125, 0.75390625, 0.8542329545454546, 0.8)",
           "rgba(0.203125, 0.75390625, 0.8994886363636364, 0.8)",
           "rgba(0.203125, 0.75390625, 0.9447443181818183, 0.8)",
           "rgba(0.203125, 0.75390625, 0.99, 0.8)",
           "rgba(0.99609375, 0.77734375, 0.5797443181818182, 0.8)",
           "rgba(0.99609375, 0.77734375, 0.5227698863636363, 0.8)",
           "rgba(0.99609375, 0.77734375, 0.46579545454545457, 0.8)",
           "rgba(0.99609375, 0.77734375, 0.4088210227272727, 0.8)",
           "rgba(0.99609375, 0.77734375, 0.3518465909090909, 0.8)",
           "rgba(0.99609375, 0.77734375, 0.2948721590909091, 0.8)",
           "rgba(0.99609375, 0.77734375, 0.2378977272727273, 0.8)",
           "rgba(0.99609375, 0.77734375, 0.18092329545454544, 0.8)",
           "rgba(0.99609375, 0.77734375, 0.1239488636363636, 0.8)",
           "rgba(0.99609375, 0.77734375, 0.06697443181818175, 0.8)",
           "rgba(0.99609375, 0.77734375, 0.010000000000000009, 0.8)"
          ],
          "label": [
           "04 - logic, semantics, default, nonmonotonic, default_logic",
           "04 - heuristic, cost, variable, plan, optimal",
           "04 - del, mt, metonymic, entity, metonymy",
           "04 - text, natural_language, sentence, natural_language_processing, word",
           "04 - plan, action, behavior, environment, control",
           "04 - image, surface, motion, line_drawing, scene",
           "04 - social, law, creativity, creative, mind",
           "04 - ac, belief_network, arc_consistency, csp, clause",
           "04 - cutset, clique, variable, satisfiability_problem, loop",
           "04 - qualitative, behavior, environment, decomposition, presented",
           "07 - entailment, tree, voting, probabilistic, procedure",
           "07 - policy, planning, planner, heuristic, plan",
           "07 - word, user, visual, linguistic, text",
           "07 - argument, theory, reasoning, revision, ipc",
           "07 - max, satisfiability_problem, reasoning, formalism, deep_learning",
           "07 - mobile, quality_service, controller, telemorph, insect",
           "07 - team, role, regret, bdi, game",
           "07 - data, labeled, case_base, unlabeled, category",
           "10 - text, word, post, reference, document",
           "10 - agent, human, robot, action, task",
           "10 - nk, query, rt, heuristic_algorithm, belief_revision",
           "10 - agent, auction, game, copeland, market",
           "10 - reasoning, deep_learning, logic, description_logic, notion",
           "10 - theta, particle_swarm_optimization, diagnosis, genetic_algorithm, path",
           "10 - tree, cp_net, clique, ia, bayesian_network",
           "10 - swarm, bee, fish, bird, ant",
           "10 - planning, plan, heuristic, abstraction, domain",
           "13 - robot, agent, action, game, battery",
           "13 - csp, constraint, tractable, random, np_hard",
           "13 - agent, social, review, data_mining, development",
           "13 - logic, program, belief, reasoning, contraction",
           "13 - game, agent, mechanism, player, charity",
           "13 - wikipedia, tag, lexical, corpus, document",
           "13 - agent, solution, planning, preference, plan",
           "13 - support_vector_machine, fam, rbf, decision_forest, rotation_forest",
           "13 - dispute, alc, derivation, cnf, reasoner",
           "13 - margin, sample, diagnosis, data_stream, kernel",
           "13 - particle_swarm_optimization, recombination, clustering, discrete, sase",
           "16 - survey, review, field, video, year",
           "16 - formula, datalog, str, matched, polynomial",
           "16 - elm, clustering, particle_swarm_optimization, support_vector_machine, group",
           "16 - string, image, red, segmentation, brain_mri",
           "16 - ip, agent, plan, ssipp, cost_function",
           "16 - word, language, translation, text, cross_lingual",
           "16 - deep_learning, semantics, logic, program, answer_set",
           "16 - agent, sa, item, norm, belief",
           "16 - rccc, selfishness, rc, discrepancy, delete",
           "16 - loss, dropout, auc, outpost, multicategory",
           "16 - portfolio, satisfiability_problem, worker, agent, game",
           "19 - cluster, clustering, ba, twsvm, support_vector_machine",
           "19 - queen, kemeny, top, bound, borda",
           "19 - logic, semantics, answer_set, formula, cp_net",
           "19 - market, sale, firm, car, customer",
           "19 - knee, face_recognition, acl, gait, gait_pattern",
           "19 - planning, heuristic, plan, abstraction, search",
           "19 - sentiment_analysis, survey, text, metadata, area",
           "19 - word, entity, sentiment, vietnamese, sentiment_analysis",
           "19 - voting, voter, cost, mirl, player",
           "19 - inconsistency, semantics, attack, belief, argument",
           "19 - robot, team, trust, teammate, belief"
          ],
          "line": {
           "color": "black",
           "width": 0
          },
          "pad": 15,
          "thickness": 10
         },
         "type": "sankey"
        }
       ],
       "layout": {
        "autosize": false,
        "font": {
         "size": 11
        },
        "height": 900,
        "template": {
         "data": {
          "bar": [
           {
            "error_x": {
             "color": "#2a3f5f"
            },
            "error_y": {
             "color": "#2a3f5f"
            },
            "marker": {
             "line": {
              "color": "#E5ECF6",
              "width": 0.5
             }
            },
            "type": "bar"
           }
          ],
          "barpolar": [
           {
            "marker": {
             "line": {
              "color": "#E5ECF6",
              "width": 0.5
             }
            },
            "type": "barpolar"
           }
          ],
          "carpet": [
           {
            "aaxis": {
             "endlinecolor": "#2a3f5f",
             "gridcolor": "white",
             "linecolor": "white",
             "minorgridcolor": "white",
             "startlinecolor": "#2a3f5f"
            },
            "baxis": {
             "endlinecolor": "#2a3f5f",
             "gridcolor": "white",
             "linecolor": "white",
             "minorgridcolor": "white",
             "startlinecolor": "#2a3f5f"
            },
            "type": "carpet"
           }
          ],
          "choropleth": [
           {
            "colorbar": {
             "outlinewidth": 0,
             "ticks": ""
            },
            "type": "choropleth"
           }
          ],
          "contour": [
           {
            "colorbar": {
             "outlinewidth": 0,
             "ticks": ""
            },
            "colorscale": [
             [
              0,
              "#0d0887"
             ],
             [
              0.1111111111111111,
              "#46039f"
             ],
             [
              0.2222222222222222,
              "#7201a8"
             ],
             [
              0.3333333333333333,
              "#9c179e"
             ],
             [
              0.4444444444444444,
              "#bd3786"
             ],
             [
              0.5555555555555556,
              "#d8576b"
             ],
             [
              0.6666666666666666,
              "#ed7953"
             ],
             [
              0.7777777777777778,
              "#fb9f3a"
             ],
             [
              0.8888888888888888,
              "#fdca26"
             ],
             [
              1,
              "#f0f921"
             ]
            ],
            "type": "contour"
           }
          ],
          "contourcarpet": [
           {
            "colorbar": {
             "outlinewidth": 0,
             "ticks": ""
            },
            "type": "contourcarpet"
           }
          ],
          "heatmap": [
           {
            "colorbar": {
             "outlinewidth": 0,
             "ticks": ""
            },
            "colorscale": [
             [
              0,
              "#0d0887"
             ],
             [
              0.1111111111111111,
              "#46039f"
             ],
             [
              0.2222222222222222,
              "#7201a8"
             ],
             [
              0.3333333333333333,
              "#9c179e"
             ],
             [
              0.4444444444444444,
              "#bd3786"
             ],
             [
              0.5555555555555556,
              "#d8576b"
             ],
             [
              0.6666666666666666,
              "#ed7953"
             ],
             [
              0.7777777777777778,
              "#fb9f3a"
             ],
             [
              0.8888888888888888,
              "#fdca26"
             ],
             [
              1,
              "#f0f921"
             ]
            ],
            "type": "heatmap"
           }
          ],
          "heatmapgl": [
           {
            "colorbar": {
             "outlinewidth": 0,
             "ticks": ""
            },
            "colorscale": [
             [
              0,
              "#0d0887"
             ],
             [
              0.1111111111111111,
              "#46039f"
             ],
             [
              0.2222222222222222,
              "#7201a8"
             ],
             [
              0.3333333333333333,
              "#9c179e"
             ],
             [
              0.4444444444444444,
              "#bd3786"
             ],
             [
              0.5555555555555556,
              "#d8576b"
             ],
             [
              0.6666666666666666,
              "#ed7953"
             ],
             [
              0.7777777777777778,
              "#fb9f3a"
             ],
             [
              0.8888888888888888,
              "#fdca26"
             ],
             [
              1,
              "#f0f921"
             ]
            ],
            "type": "heatmapgl"
           }
          ],
          "histogram": [
           {
            "marker": {
             "colorbar": {
              "outlinewidth": 0,
              "ticks": ""
             }
            },
            "type": "histogram"
           }
          ],
          "histogram2d": [
           {
            "colorbar": {
             "outlinewidth": 0,
             "ticks": ""
            },
            "colorscale": [
             [
              0,
              "#0d0887"
             ],
             [
              0.1111111111111111,
              "#46039f"
             ],
             [
              0.2222222222222222,
              "#7201a8"
             ],
             [
              0.3333333333333333,
              "#9c179e"
             ],
             [
              0.4444444444444444,
              "#bd3786"
             ],
             [
              0.5555555555555556,
              "#d8576b"
             ],
             [
              0.6666666666666666,
              "#ed7953"
             ],
             [
              0.7777777777777778,
              "#fb9f3a"
             ],
             [
              0.8888888888888888,
              "#fdca26"
             ],
             [
              1,
              "#f0f921"
             ]
            ],
            "type": "histogram2d"
           }
          ],
          "histogram2dcontour": [
           {
            "colorbar": {
             "outlinewidth": 0,
             "ticks": ""
            },
            "colorscale": [
             [
              0,
              "#0d0887"
             ],
             [
              0.1111111111111111,
              "#46039f"
             ],
             [
              0.2222222222222222,
              "#7201a8"
             ],
             [
              0.3333333333333333,
              "#9c179e"
             ],
             [
              0.4444444444444444,
              "#bd3786"
             ],
             [
              0.5555555555555556,
              "#d8576b"
             ],
             [
              0.6666666666666666,
              "#ed7953"
             ],
             [
              0.7777777777777778,
              "#fb9f3a"
             ],
             [
              0.8888888888888888,
              "#fdca26"
             ],
             [
              1,
              "#f0f921"
             ]
            ],
            "type": "histogram2dcontour"
           }
          ],
          "mesh3d": [
           {
            "colorbar": {
             "outlinewidth": 0,
             "ticks": ""
            },
            "type": "mesh3d"
           }
          ],
          "parcoords": [
           {
            "line": {
             "colorbar": {
              "outlinewidth": 0,
              "ticks": ""
             }
            },
            "type": "parcoords"
           }
          ],
          "pie": [
           {
            "automargin": true,
            "type": "pie"
           }
          ],
          "scatter": [
           {
            "marker": {
             "colorbar": {
              "outlinewidth": 0,
              "ticks": ""
             }
            },
            "type": "scatter"
           }
          ],
          "scatter3d": [
           {
            "line": {
             "colorbar": {
              "outlinewidth": 0,
              "ticks": ""
             }
            },
            "marker": {
             "colorbar": {
              "outlinewidth": 0,
              "ticks": ""
             }
            },
            "type": "scatter3d"
           }
          ],
          "scattercarpet": [
           {
            "marker": {
             "colorbar": {
              "outlinewidth": 0,
              "ticks": ""
             }
            },
            "type": "scattercarpet"
           }
          ],
          "scattergeo": [
           {
            "marker": {
             "colorbar": {
              "outlinewidth": 0,
              "ticks": ""
             }
            },
            "type": "scattergeo"
           }
          ],
          "scattergl": [
           {
            "marker": {
             "colorbar": {
              "outlinewidth": 0,
              "ticks": ""
             }
            },
            "type": "scattergl"
           }
          ],
          "scattermapbox": [
           {
            "marker": {
             "colorbar": {
              "outlinewidth": 0,
              "ticks": ""
             }
            },
            "type": "scattermapbox"
           }
          ],
          "scatterpolar": [
           {
            "marker": {
             "colorbar": {
              "outlinewidth": 0,
              "ticks": ""
             }
            },
            "type": "scatterpolar"
           }
          ],
          "scatterpolargl": [
           {
            "marker": {
             "colorbar": {
              "outlinewidth": 0,
              "ticks": ""
             }
            },
            "type": "scatterpolargl"
           }
          ],
          "scatterternary": [
           {
            "marker": {
             "colorbar": {
              "outlinewidth": 0,
              "ticks": ""
             }
            },
            "type": "scatterternary"
           }
          ],
          "surface": [
           {
            "colorbar": {
             "outlinewidth": 0,
             "ticks": ""
            },
            "colorscale": [
             [
              0,
              "#0d0887"
             ],
             [
              0.1111111111111111,
              "#46039f"
             ],
             [
              0.2222222222222222,
              "#7201a8"
             ],
             [
              0.3333333333333333,
              "#9c179e"
             ],
             [
              0.4444444444444444,
              "#bd3786"
             ],
             [
              0.5555555555555556,
              "#d8576b"
             ],
             [
              0.6666666666666666,
              "#ed7953"
             ],
             [
              0.7777777777777778,
              "#fb9f3a"
             ],
             [
              0.8888888888888888,
              "#fdca26"
             ],
             [
              1,
              "#f0f921"
             ]
            ],
            "type": "surface"
           }
          ],
          "table": [
           {
            "cells": {
             "fill": {
              "color": "#EBF0F8"
             },
             "line": {
              "color": "white"
             }
            },
            "header": {
             "fill": {
              "color": "#C8D4E3"
             },
             "line": {
              "color": "white"
             }
            },
            "type": "table"
           }
          ]
         },
         "layout": {
          "annotationdefaults": {
           "arrowcolor": "#2a3f5f",
           "arrowhead": 0,
           "arrowwidth": 1
          },
          "coloraxis": {
           "colorbar": {
            "outlinewidth": 0,
            "ticks": ""
           }
          },
          "colorscale": {
           "diverging": [
            [
             0,
             "#8e0152"
            ],
            [
             0.1,
             "#c51b7d"
            ],
            [
             0.2,
             "#de77ae"
            ],
            [
             0.3,
             "#f1b6da"
            ],
            [
             0.4,
             "#fde0ef"
            ],
            [
             0.5,
             "#f7f7f7"
            ],
            [
             0.6,
             "#e6f5d0"
            ],
            [
             0.7,
             "#b8e186"
            ],
            [
             0.8,
             "#7fbc41"
            ],
            [
             0.9,
             "#4d9221"
            ],
            [
             1,
             "#276419"
            ]
           ],
           "sequential": [
            [
             0,
             "#0d0887"
            ],
            [
             0.1111111111111111,
             "#46039f"
            ],
            [
             0.2222222222222222,
             "#7201a8"
            ],
            [
             0.3333333333333333,
             "#9c179e"
            ],
            [
             0.4444444444444444,
             "#bd3786"
            ],
            [
             0.5555555555555556,
             "#d8576b"
            ],
            [
             0.6666666666666666,
             "#ed7953"
            ],
            [
             0.7777777777777778,
             "#fb9f3a"
            ],
            [
             0.8888888888888888,
             "#fdca26"
            ],
            [
             1,
             "#f0f921"
            ]
           ],
           "sequentialminus": [
            [
             0,
             "#0d0887"
            ],
            [
             0.1111111111111111,
             "#46039f"
            ],
            [
             0.2222222222222222,
             "#7201a8"
            ],
            [
             0.3333333333333333,
             "#9c179e"
            ],
            [
             0.4444444444444444,
             "#bd3786"
            ],
            [
             0.5555555555555556,
             "#d8576b"
            ],
            [
             0.6666666666666666,
             "#ed7953"
            ],
            [
             0.7777777777777778,
             "#fb9f3a"
            ],
            [
             0.8888888888888888,
             "#fdca26"
            ],
            [
             1,
             "#f0f921"
            ]
           ]
          },
          "colorway": [
           "#636efa",
           "#EF553B",
           "#00cc96",
           "#ab63fa",
           "#FFA15A",
           "#19d3f3",
           "#FF6692",
           "#B6E880",
           "#FF97FF",
           "#FECB52"
          ],
          "font": {
           "color": "#2a3f5f"
          },
          "geo": {
           "bgcolor": "white",
           "lakecolor": "white",
           "landcolor": "#E5ECF6",
           "showlakes": true,
           "showland": true,
           "subunitcolor": "white"
          },
          "hoverlabel": {
           "align": "left"
          },
          "hovermode": "closest",
          "mapbox": {
           "style": "light"
          },
          "paper_bgcolor": "white",
          "plot_bgcolor": "#E5ECF6",
          "polar": {
           "angularaxis": {
            "gridcolor": "white",
            "linecolor": "white",
            "ticks": ""
           },
           "bgcolor": "#E5ECF6",
           "radialaxis": {
            "gridcolor": "white",
            "linecolor": "white",
            "ticks": ""
           }
          },
          "scene": {
           "xaxis": {
            "backgroundcolor": "#E5ECF6",
            "gridcolor": "white",
            "gridwidth": 2,
            "linecolor": "white",
            "showbackground": true,
            "ticks": "",
            "zerolinecolor": "white"
           },
           "yaxis": {
            "backgroundcolor": "#E5ECF6",
            "gridcolor": "white",
            "gridwidth": 2,
            "linecolor": "white",
            "showbackground": true,
            "ticks": "",
            "zerolinecolor": "white"
           },
           "zaxis": {
            "backgroundcolor": "#E5ECF6",
            "gridcolor": "white",
            "gridwidth": 2,
            "linecolor": "white",
            "showbackground": true,
            "ticks": "",
            "zerolinecolor": "white"
           }
          },
          "shapedefaults": {
           "line": {
            "color": "#2a3f5f"
           }
          },
          "ternary": {
           "aaxis": {
            "gridcolor": "white",
            "linecolor": "white",
            "ticks": ""
           },
           "baxis": {
            "gridcolor": "white",
            "linecolor": "white",
            "ticks": ""
           },
           "bgcolor": "#E5ECF6",
           "caxis": {
            "gridcolor": "white",
            "linecolor": "white",
            "ticks": ""
           }
          },
          "title": {
           "x": 0.05
          },
          "xaxis": {
           "automargin": true,
           "gridcolor": "white",
           "linecolor": "white",
           "ticks": "",
           "title": {
            "standoff": 15
           },
           "zerolinecolor": "white",
           "zerolinewidth": 2
          },
          "yaxis": {
           "automargin": true,
           "gridcolor": "white",
           "linecolor": "white",
           "ticks": "",
           "title": {
            "standoff": 15
           },
           "zerolinecolor": "white",
           "zerolinewidth": 2
          }
         }
        },
        "title": {
         "text": "H-Clustering -Abstracts+Titles - Separated Development of fields: Docs 1990-2004 to 2017-2019 : Enhanced number of clusters  - pow 1 - thresh 0.975"
        },
        "width": 1500
       }
      },
      "text/html": [
       "<div>\n",
       "        \n",
       "        \n",
       "            <div id=\"6ba87142-bb5f-4a2d-b0e2-95b1e609e5ee\" class=\"plotly-graph-div\" style=\"height:900px; width:1500px;\"></div>\n",
       "            <script type=\"text/javascript\">\n",
       "                require([\"plotly\"], function(Plotly) {\n",
       "                    window.PLOTLYENV=window.PLOTLYENV || {};\n",
       "                    \n",
       "                if (document.getElementById(\"6ba87142-bb5f-4a2d-b0e2-95b1e609e5ee\")) {\n",
       "                    Plotly.newPlot(\n",
       "                        '6ba87142-bb5f-4a2d-b0e2-95b1e609e5ee',\n",
       "                        [{\"link\": {\"color\": [\"rgba(0.90625, 0.171875, 0.352125, 0.4885330948334184)\", \"rgba(0.90625, 0.171875, 0.352125, 0.4967759972763026)\", \"rgba(0.90625, 0.171875, 0.498055173590983423, 0.4980551735909834)\", \"rgba(0.90625, 0.171875, 0.56475, 0.494922684193486)\", \"rgba(0.90625, 0.171875, 0.56475, 0.4882464324491638)\", \"rgba(0.90625, 0.171875, 0.635625, 0.4956714320769572)\", \"rgba(0.90625, 0.171875, 0.635625, 0.4898576158856169)\", \"rgba(0.90625, 0.171875, 0.635625, 0.49219318712171956)\", \"rgba(0.90625, 0.171875, 0.84825, 0.4951056855150098)\", \"rgba(0.90625, 0.171875, 0.99, 0.4888096256571278)\", \"rgba(0.90625, 0.171875, 0.99, 0.4890776495716657)\", \"rgba(0.90625, 0.171875, 0.352125, 0.499149597234452)\", \"rgba(0.90625, 0.171875, 0.492852228938188223, 0.4928522289381882)\", \"rgba(0.90625, 0.171875, 0.497235821251556323, 0.4972358212515563)\", \"rgba(0.90625, 0.171875, 0.635625, 0.4967903094352582)\", \"rgba(0.90625, 0.171875, 0.84825, 0.4926061267114858)\", \"rgba(0.109375, 0.93359375, 0.3207421875, 0.4927006925635122)\", \"rgba(0.109375, 0.93359375, 0.3207421875, 0.488189624061422)\", \"rgba(0.109375, 0.93359375, 0.3207421875, 0.4988934092419513)\", \"rgba(0.109375, 0.93359375, 0.49210005450284413228515624999997, 0.4921000545028441)\", \"rgba(0.109375, 0.93359375, 0.48868783235621463228515624999997, 0.4886878323562146)\", \"rgba(0.109375, 0.93359375, 0.543828125, 0.4952059040392004)\", \"rgba(0.109375, 0.93359375, 0.543828125, 0.49051066279568245)\", \"rgba(0.109375, 0.93359375, 0.65537109375, 0.4958825528596682)\", \"rgba(0.109375, 0.93359375, 0.65537109375, 0.487790495878776)\", \"rgba(0.109375, 0.93359375, 0.65537109375, 0.4883168801581468)\", \"rgba(0.109375, 0.93359375, 0.7669140624999999, 0.4899356818269472)\", \"rgba(0.109375, 0.93359375, 0.87845703125, 0.4914273149178252)\", \"rgba(0.109375, 0.93359375, 0.87845703125, 0.4910546106815068)\", \"rgba(0.109375, 0.93359375, 0.99, 0.49034973756892747)\", \"rgba(0.109375, 0.93359375, 0.20919921875, 0.4925402257938402)\", \"rgba(0.109375, 0.93359375, 0.3207421875, 0.49754613561884004)\", \"rgba(0.109375, 0.93359375, 0.49321559791233523228515624999997, 0.4932155979123352)\", \"rgba(0.109375, 0.93359375, 0.543828125, 0.4925662424846511)\", \"rgba(0.109375, 0.93359375, 0.543828125, 0.4936893624268591)\", \"rgba(0.109375, 0.93359375, 0.65537109375, 0.4971635153866616)\", \"rgba(0.109375, 0.93359375, 0.7669140624999999, 0.4925852141391948)\", \"rgba(0.58984375, 0.00390625, 0.6052777777777778, 0.4967195624174407)\", \"rgba(0.58984375, 0.00390625, 0.6052777777777778, 0.4898582110321363)\", \"rgba(0.58984375, 0.00390625, 0.5308680555555556, 0.4946549757377344)\", \"rgba(0.58984375, 0.00390625, 0.5308680555555556, 0.4949682710751826)\", \"rgba(0.58984375, 0.00390625, 0.3820486111111111, 0.48823233676923955)\", \"rgba(0.58984375, 0.00390625, 0.3820486111111111, 0.493698536397784)\", \"rgba(0.58984375, 0.00390625, 0.3076388888888889, 0.49897527734790503)\", \"rgba(0.58984375, 0.00390625, 0.3076388888888889, 0.4878453064704115)\", \"rgba(0.58984375, 0.00390625, 0.23322916666666665, 0.4901332919329358)\", \"rgba(0.58984375, 0.00390625, 0.1588194444444444, 0.4880283938893188)\", \"rgba(0.58984375, 0.00390625, 0.010000000000000009, 0.4977087101315687)\", \"rgba(0.58984375, 0.00390625, 0.6052777777777778, 0.4958240569245178)\", \"rgba(0.58984375, 0.00390625, 0.5308680555555556, 0.4950275508765264)\", \"rgba(0.58984375, 0.00390625, 0.3820486111111111, 0.4944222948503276)\", \"rgba(0.58984375, 0.00390625, 0.3076388888888889, 0.4983694230498778)\", \"rgba(0.58984375, 0.00390625, 0.1588194444444444, 0.4948285073131217)\", \"rgba(0.58984375, 0.00390625, 0.010000000000000009, 0.49704107840169)\", \"rgba(0.89453125, 0.671875, 0.13971590909090909, 0.4883218709158516)\", \"rgba(0.89453125, 0.671875, 0.13971590909090909, 0.4899804113164417)\", \"rgba(0.89453125, 0.671875, 0.13971590909090909, 0.4907242253156604)\", \"rgba(0.89453125, 0.671875, 0.22474431818181817, 0.4878821414098666)\", \"rgba(0.89453125, 0.671875, 0.30977272727272726, 0.4966279642104634)\", \"rgba(0.89453125, 0.671875, 0.39480113636363634, 0.4907417520853454)\", \"rgba(0.89453125, 0.671875, 0.39480113636363634, 0.4990447689579159)\", \"rgba(0.89453125, 0.671875, 0.4893872177765421798295454545454, 0.4893872177765421)\", \"rgba(0.89453125, 0.671875, 0.5648579545454545, 0.4988881249756297)\", \"rgba(0.89453125, 0.671875, 0.6498863636363637, 0.4915918227301822)\", \"rgba(0.89453125, 0.671875, 0.6498863636363637, 0.4986533758296157)\", \"rgba(0.89453125, 0.671875, 0.8199431818181817, 0.4897607651000987)\", \"rgba(0.89453125, 0.671875, 0.9049715909090909, 0.4890135485958484)\", \"rgba(0.89453125, 0.671875, 0.99, 0.4907732219594456)\", \"rgba(0.89453125, 0.671875, 0.13971590909090909, 0.4944816587676972)\", \"rgba(0.89453125, 0.671875, 0.30977272727272726, 0.4969158155084306)\", \"rgba(0.89453125, 0.671875, 0.39480113636363634, 0.4958732928346038)\", \"rgba(0.89453125, 0.671875, 0.39480113636363634, 0.4964498819345442)\", \"rgba(0.89453125, 0.671875, 0.4970102836895852798295454545454, 0.4970102836895852)\", \"rgba(0.89453125, 0.671875, 0.5648579545454545, 0.4968293144550936)\", \"rgba(0.89453125, 0.671875, 0.6498863636363637, 0.4973678771699656)\", \"rgba(0.89453125, 0.671875, 0.9049715909090909, 0.4929835287488158)\", \"rgba(0.203125, 0.75390625, 0.5374431818181818, 0.4984675437584376)\", \"rgba(0.203125, 0.75390625, 0.5826988636363637, 0.4944851998470443)\", \"rgba(0.203125, 0.75390625, 0.6279545454545454, 0.4976536050561831)\", \"rgba(0.203125, 0.75390625, 0.7184659090909091, 0.4932728217495646)\", \"rgba(0.203125, 0.75390625, 0.7184659090909091, 0.4925191217021404)\", \"rgba(0.203125, 0.75390625, 0.7637215909090909, 0.4958506925337084)\", \"rgba(0.203125, 0.75390625, 0.8089772727272727, 0.495170287809194)\", \"rgba(0.203125, 0.75390625, 0.8089772727272727, 0.4963406889655758)\", \"rgba(0.203125, 0.75390625, 0.8542329545454546, 0.4960618285650089)\", \"rgba(0.203125, 0.75390625, 0.99, 0.4973812524343628)\"], \"source\": [0, 0, 1, 3, 3, 4, 4, 4, 7, 9, 9, 0, 1, 1, 4, 7, 11, 11, 11, 12, 12, 13, 13, 14, 14, 14, 15, 16, 16, 17, 10, 11, 12, 13, 13, 14, 15, 18, 18, 19, 19, 21, 21, 22, 22, 23, 24, 26, 18, 19, 21, 22, 24, 26, 27, 27, 27, 28, 29, 30, 30, 31, 32, 33, 33, 35, 36, 37, 27, 29, 30, 30, 31, 32, 33, 36, 38, 39, 40, 42, 42, 43, 44, 44, 45, 48], \"target\": [13, 14, 11, 12, 13, 13, 15, 16, 10, 12, 13, 22, 21, 26, 19, 24, 21, 24, 26, 18, 19, 19, 22, 22, 24, 26, 19, 19, 21, 18, 35, 33, 32, 27, 29, 30, 27, 32, 36, 27, 29, 31, 33, 30, 33, 37, 28, 33, 43, 38, 42, 44, 39, 48, 38, 45, 48, 39, 38, 39, 44, 42, 43, 42, 48, 46, 40, 40, 59, 55, 51, 58, 57, 56, 54, 49, 55, 51, 49, 54, 57, 56, 51, 58, 59, 54], \"value\": [0.9770661896668368, 0.9935519945526052, 0.9961103471819668, 0.989845368386972, 0.9764928648983277, 0.9913428641539144, 0.9797152317712338, 0.9843863742434391, 0.9902113710300195, 0.9776192513142556, 0.9781552991433314, 0.998299194468904, 0.9857044578763764, 0.9944716425031126, 0.9935806188705164, 0.9852122534229716, 0.9854013851270244, 0.976379248122844, 0.9977868184839026, 0.9842001090056882, 0.9773756647124292, 0.9904118080784008, 0.9810213255913649, 0.9917651057193364, 0.975580991757552, 0.9766337603162936, 0.9798713636538944, 0.9828546298356504, 0.9821092213630136, 0.9806994751378549, 0.9850804515876804, 0.9950922712376801, 0.9864311958246704, 0.9851324849693022, 0.9873787248537182, 0.9943270307733232, 0.9851704282783896, 0.9934391248348814, 0.9797164220642726, 0.9893099514754689, 0.9899365421503652, 0.9764646735384791, 0.987397072795568, 0.9979505546958101, 0.975690612940823, 0.9802665838658716, 0.9760567877786376, 0.9954174202631374, 0.9916481138490356, 0.9900551017530528, 0.9888445897006553, 0.9967388460997556, 0.9896570146262434, 0.99408215680338, 0.9766437418317032, 0.9799608226328834, 0.9814484506313208, 0.9757642828197332, 0.9932559284209268, 0.9814835041706907, 0.9980895379158318, 0.9787744355530842, 0.9977762499512594, 0.9831836454603644, 0.9973067516592314, 0.9795215302001974, 0.9780270971916968, 0.9815464439188912, 0.9889633175353943, 0.9938316310168612, 0.9917465856692076, 0.9928997638690884, 0.9940205673791704, 0.9936586289101872, 0.9947357543399312, 0.9859670574976316, 0.9969350875168752, 0.9889703996940886, 0.9953072101123662, 0.9865456434991292, 0.9850382434042808, 0.9917013850674168, 0.990340575618388, 0.9926813779311516, 0.9921236571300178, 0.9947625048687256]}, \"node\": {\"color\": [\"rgba(0.90625, 0.171875, 0.352125, 0.8)\", \"rgba(0.90625, 0.171875, 0.423, 0.8)\", \"rgba(0.90625, 0.171875, 0.49387499999999995, 0.8)\", \"rgba(0.90625, 0.171875, 0.56475, 0.8)\", \"rgba(0.90625, 0.171875, 0.635625, 0.8)\", \"rgba(0.90625, 0.171875, 0.7064999999999999, 0.8)\", \"rgba(0.90625, 0.171875, 0.7773749999999999, 0.8)\", \"rgba(0.90625, 0.171875, 0.84825, 0.8)\", \"rgba(0.90625, 0.171875, 0.919125, 0.8)\", \"rgba(0.90625, 0.171875, 0.99, 0.8)\", \"rgba(0.109375, 0.93359375, 0.20919921875, 0.8)\", \"rgba(0.109375, 0.93359375, 0.3207421875, 0.8)\", \"rgba(0.109375, 0.93359375, 0.43228515624999997, 0.8)\", \"rgba(0.109375, 0.93359375, 0.543828125, 0.8)\", \"rgba(0.109375, 0.93359375, 0.65537109375, 0.8)\", \"rgba(0.109375, 0.93359375, 0.7669140624999999, 0.8)\", \"rgba(0.109375, 0.93359375, 0.87845703125, 0.8)\", \"rgba(0.109375, 0.93359375, 0.99, 0.8)\", \"rgba(0.58984375, 0.00390625, 0.6052777777777778, 0.8)\", \"rgba(0.58984375, 0.00390625, 0.5308680555555556, 0.8)\", \"rgba(0.58984375, 0.00390625, 0.4564583333333333, 0.8)\", \"rgba(0.58984375, 0.00390625, 0.3820486111111111, 0.8)\", \"rgba(0.58984375, 0.00390625, 0.3076388888888889, 0.8)\", \"rgba(0.58984375, 0.00390625, 0.23322916666666665, 0.8)\", \"rgba(0.58984375, 0.00390625, 0.1588194444444444, 0.8)\", \"rgba(0.58984375, 0.00390625, 0.0844097222222222, 0.8)\", \"rgba(0.58984375, 0.00390625, 0.010000000000000009, 0.8)\", \"rgba(0.89453125, 0.671875, 0.13971590909090909, 0.8)\", \"rgba(0.89453125, 0.671875, 0.22474431818181817, 0.8)\", \"rgba(0.89453125, 0.671875, 0.30977272727272726, 0.8)\", \"rgba(0.89453125, 0.671875, 0.39480113636363634, 0.8)\", \"rgba(0.89453125, 0.671875, 0.4798295454545454, 0.8)\", \"rgba(0.89453125, 0.671875, 0.5648579545454545, 0.8)\", \"rgba(0.89453125, 0.671875, 0.6498863636363637, 0.8)\", \"rgba(0.89453125, 0.671875, 0.7349147727272727, 0.8)\", \"rgba(0.89453125, 0.671875, 0.8199431818181817, 0.8)\", \"rgba(0.89453125, 0.671875, 0.9049715909090909, 0.8)\", \"rgba(0.89453125, 0.671875, 0.99, 0.8)\", \"rgba(0.203125, 0.75390625, 0.5374431818181818, 0.8)\", \"rgba(0.203125, 0.75390625, 0.5826988636363637, 0.8)\", \"rgba(0.203125, 0.75390625, 0.6279545454545454, 0.8)\", \"rgba(0.203125, 0.75390625, 0.6732102272727273, 0.8)\", \"rgba(0.203125, 0.75390625, 0.7184659090909091, 0.8)\", \"rgba(0.203125, 0.75390625, 0.7637215909090909, 0.8)\", \"rgba(0.203125, 0.75390625, 0.8089772727272727, 0.8)\", \"rgba(0.203125, 0.75390625, 0.8542329545454546, 0.8)\", \"rgba(0.203125, 0.75390625, 0.8994886363636364, 0.8)\", \"rgba(0.203125, 0.75390625, 0.9447443181818183, 0.8)\", \"rgba(0.203125, 0.75390625, 0.99, 0.8)\", \"rgba(0.99609375, 0.77734375, 0.5797443181818182, 0.8)\", \"rgba(0.99609375, 0.77734375, 0.5227698863636363, 0.8)\", \"rgba(0.99609375, 0.77734375, 0.46579545454545457, 0.8)\", \"rgba(0.99609375, 0.77734375, 0.4088210227272727, 0.8)\", \"rgba(0.99609375, 0.77734375, 0.3518465909090909, 0.8)\", \"rgba(0.99609375, 0.77734375, 0.2948721590909091, 0.8)\", \"rgba(0.99609375, 0.77734375, 0.2378977272727273, 0.8)\", \"rgba(0.99609375, 0.77734375, 0.18092329545454544, 0.8)\", \"rgba(0.99609375, 0.77734375, 0.1239488636363636, 0.8)\", \"rgba(0.99609375, 0.77734375, 0.06697443181818175, 0.8)\", \"rgba(0.99609375, 0.77734375, 0.010000000000000009, 0.8)\"], \"label\": [\"04 - logic, semantics, default, nonmonotonic, default_logic\", \"04 - heuristic, cost, variable, plan, optimal\", \"04 - del, mt, metonymic, entity, metonymy\", \"04 - text, natural_language, sentence, natural_language_processing, word\", \"04 - plan, action, behavior, environment, control\", \"04 - image, surface, motion, line_drawing, scene\", \"04 - social, law, creativity, creative, mind\", \"04 - ac, belief_network, arc_consistency, csp, clause\", \"04 - cutset, clique, variable, satisfiability_problem, loop\", \"04 - qualitative, behavior, environment, decomposition, presented\", \"07 - entailment, tree, voting, probabilistic, procedure\", \"07 - policy, planning, planner, heuristic, plan\", \"07 - word, user, visual, linguistic, text\", \"07 - argument, theory, reasoning, revision, ipc\", \"07 - max, satisfiability_problem, reasoning, formalism, deep_learning\", \"07 - mobile, quality_service, controller, telemorph, insect\", \"07 - team, role, regret, bdi, game\", \"07 - data, labeled, case_base, unlabeled, category\", \"10 - text, word, post, reference, document\", \"10 - agent, human, robot, action, task\", \"10 - nk, query, rt, heuristic_algorithm, belief_revision\", \"10 - agent, auction, game, copeland, market\", \"10 - reasoning, deep_learning, logic, description_logic, notion\", \"10 - theta, particle_swarm_optimization, diagnosis, genetic_algorithm, path\", \"10 - tree, cp_net, clique, ia, bayesian_network\", \"10 - swarm, bee, fish, bird, ant\", \"10 - planning, plan, heuristic, abstraction, domain\", \"13 - robot, agent, action, game, battery\", \"13 - csp, constraint, tractable, random, np_hard\", \"13 - agent, social, review, data_mining, development\", \"13 - logic, program, belief, reasoning, contraction\", \"13 - game, agent, mechanism, player, charity\", \"13 - wikipedia, tag, lexical, corpus, document\", \"13 - agent, solution, planning, preference, plan\", \"13 - support_vector_machine, fam, rbf, decision_forest, rotation_forest\", \"13 - dispute, alc, derivation, cnf, reasoner\", \"13 - margin, sample, diagnosis, data_stream, kernel\", \"13 - particle_swarm_optimization, recombination, clustering, discrete, sase\", \"16 - survey, review, field, video, year\", \"16 - formula, datalog, str, matched, polynomial\", \"16 - elm, clustering, particle_swarm_optimization, support_vector_machine, group\", \"16 - string, image, red, segmentation, brain_mri\", \"16 - ip, agent, plan, ssipp, cost_function\", \"16 - word, language, translation, text, cross_lingual\", \"16 - deep_learning, semantics, logic, program, answer_set\", \"16 - agent, sa, item, norm, belief\", \"16 - rccc, selfishness, rc, discrepancy, delete\", \"16 - loss, dropout, auc, outpost, multicategory\", \"16 - portfolio, satisfiability_problem, worker, agent, game\", \"19 - cluster, clustering, ba, twsvm, support_vector_machine\", \"19 - queen, kemeny, top, bound, borda\", \"19 - logic, semantics, answer_set, formula, cp_net\", \"19 - market, sale, firm, car, customer\", \"19 - knee, face_recognition, acl, gait, gait_pattern\", \"19 - planning, heuristic, plan, abstraction, search\", \"19 - sentiment_analysis, survey, text, metadata, area\", \"19 - word, entity, sentiment, vietnamese, sentiment_analysis\", \"19 - voting, voter, cost, mirl, player\", \"19 - inconsistency, semantics, attack, belief, argument\", \"19 - robot, team, trust, teammate, belief\"], \"line\": {\"color\": \"black\", \"width\": 0}, \"pad\": 15, \"thickness\": 10}, \"type\": \"sankey\"}],\n",
       "                        {\"autosize\": false, \"font\": {\"size\": 11}, \"height\": 900, \"template\": {\"data\": {\"bar\": [{\"error_x\": {\"color\": \"#2a3f5f\"}, \"error_y\": {\"color\": \"#2a3f5f\"}, \"marker\": {\"line\": {\"color\": \"#E5ECF6\", \"width\": 0.5}}, \"type\": \"bar\"}], \"barpolar\": [{\"marker\": {\"line\": {\"color\": \"#E5ECF6\", \"width\": 0.5}}, \"type\": \"barpolar\"}], \"carpet\": [{\"aaxis\": {\"endlinecolor\": \"#2a3f5f\", \"gridcolor\": \"white\", \"linecolor\": \"white\", \"minorgridcolor\": \"white\", \"startlinecolor\": \"#2a3f5f\"}, \"baxis\": {\"endlinecolor\": \"#2a3f5f\", \"gridcolor\": \"white\", \"linecolor\": \"white\", \"minorgridcolor\": \"white\", \"startlinecolor\": \"#2a3f5f\"}, \"type\": \"carpet\"}], \"choropleth\": [{\"colorbar\": {\"outlinewidth\": 0, \"ticks\": \"\"}, \"type\": \"choropleth\"}], \"contour\": [{\"colorbar\": {\"outlinewidth\": 0, \"ticks\": \"\"}, \"colorscale\": [[0.0, \"#0d0887\"], [0.1111111111111111, \"#46039f\"], [0.2222222222222222, \"#7201a8\"], [0.3333333333333333, \"#9c179e\"], [0.4444444444444444, \"#bd3786\"], [0.5555555555555556, \"#d8576b\"], [0.6666666666666666, \"#ed7953\"], [0.7777777777777778, \"#fb9f3a\"], [0.8888888888888888, \"#fdca26\"], [1.0, \"#f0f921\"]], \"type\": \"contour\"}], \"contourcarpet\": [{\"colorbar\": {\"outlinewidth\": 0, \"ticks\": \"\"}, \"type\": \"contourcarpet\"}], \"heatmap\": [{\"colorbar\": {\"outlinewidth\": 0, \"ticks\": \"\"}, \"colorscale\": [[0.0, \"#0d0887\"], [0.1111111111111111, \"#46039f\"], [0.2222222222222222, \"#7201a8\"], [0.3333333333333333, \"#9c179e\"], [0.4444444444444444, \"#bd3786\"], [0.5555555555555556, \"#d8576b\"], [0.6666666666666666, \"#ed7953\"], [0.7777777777777778, \"#fb9f3a\"], [0.8888888888888888, \"#fdca26\"], [1.0, \"#f0f921\"]], \"type\": \"heatmap\"}], \"heatmapgl\": [{\"colorbar\": {\"outlinewidth\": 0, \"ticks\": \"\"}, \"colorscale\": [[0.0, \"#0d0887\"], [0.1111111111111111, \"#46039f\"], [0.2222222222222222, \"#7201a8\"], [0.3333333333333333, \"#9c179e\"], [0.4444444444444444, \"#bd3786\"], [0.5555555555555556, \"#d8576b\"], [0.6666666666666666, \"#ed7953\"], [0.7777777777777778, \"#fb9f3a\"], [0.8888888888888888, \"#fdca26\"], [1.0, \"#f0f921\"]], \"type\": \"heatmapgl\"}], \"histogram\": [{\"marker\": {\"colorbar\": {\"outlinewidth\": 0, \"ticks\": \"\"}}, \"type\": \"histogram\"}], \"histogram2d\": [{\"colorbar\": {\"outlinewidth\": 0, \"ticks\": \"\"}, \"colorscale\": [[0.0, \"#0d0887\"], [0.1111111111111111, \"#46039f\"], [0.2222222222222222, \"#7201a8\"], [0.3333333333333333, \"#9c179e\"], [0.4444444444444444, \"#bd3786\"], [0.5555555555555556, \"#d8576b\"], [0.6666666666666666, \"#ed7953\"], [0.7777777777777778, \"#fb9f3a\"], [0.8888888888888888, \"#fdca26\"], [1.0, \"#f0f921\"]], \"type\": \"histogram2d\"}], \"histogram2dcontour\": [{\"colorbar\": {\"outlinewidth\": 0, \"ticks\": \"\"}, \"colorscale\": [[0.0, \"#0d0887\"], [0.1111111111111111, \"#46039f\"], [0.2222222222222222, \"#7201a8\"], [0.3333333333333333, \"#9c179e\"], [0.4444444444444444, \"#bd3786\"], [0.5555555555555556, \"#d8576b\"], [0.6666666666666666, \"#ed7953\"], [0.7777777777777778, \"#fb9f3a\"], [0.8888888888888888, \"#fdca26\"], [1.0, \"#f0f921\"]], \"type\": \"histogram2dcontour\"}], \"mesh3d\": [{\"colorbar\": {\"outlinewidth\": 0, \"ticks\": \"\"}, \"type\": \"mesh3d\"}], \"parcoords\": [{\"line\": {\"colorbar\": {\"outlinewidth\": 0, \"ticks\": \"\"}}, \"type\": \"parcoords\"}], \"pie\": [{\"automargin\": true, \"type\": \"pie\"}], \"scatter\": [{\"marker\": {\"colorbar\": {\"outlinewidth\": 0, \"ticks\": \"\"}}, \"type\": \"scatter\"}], \"scatter3d\": [{\"line\": {\"colorbar\": {\"outlinewidth\": 0, \"ticks\": \"\"}}, \"marker\": {\"colorbar\": {\"outlinewidth\": 0, \"ticks\": \"\"}}, \"type\": \"scatter3d\"}], \"scattercarpet\": [{\"marker\": {\"colorbar\": {\"outlinewidth\": 0, \"ticks\": \"\"}}, \"type\": \"scattercarpet\"}], \"scattergeo\": [{\"marker\": {\"colorbar\": {\"outlinewidth\": 0, \"ticks\": \"\"}}, \"type\": \"scattergeo\"}], \"scattergl\": [{\"marker\": {\"colorbar\": {\"outlinewidth\": 0, \"ticks\": \"\"}}, \"type\": \"scattergl\"}], \"scattermapbox\": [{\"marker\": {\"colorbar\": {\"outlinewidth\": 0, \"ticks\": \"\"}}, \"type\": \"scattermapbox\"}], \"scatterpolar\": [{\"marker\": {\"colorbar\": {\"outlinewidth\": 0, \"ticks\": \"\"}}, \"type\": \"scatterpolar\"}], \"scatterpolargl\": [{\"marker\": {\"colorbar\": {\"outlinewidth\": 0, \"ticks\": \"\"}}, \"type\": \"scatterpolargl\"}], \"scatterternary\": [{\"marker\": {\"colorbar\": {\"outlinewidth\": 0, \"ticks\": \"\"}}, \"type\": \"scatterternary\"}], \"surface\": [{\"colorbar\": {\"outlinewidth\": 0, \"ticks\": \"\"}, \"colorscale\": [[0.0, \"#0d0887\"], [0.1111111111111111, \"#46039f\"], [0.2222222222222222, \"#7201a8\"], [0.3333333333333333, \"#9c179e\"], [0.4444444444444444, \"#bd3786\"], [0.5555555555555556, \"#d8576b\"], [0.6666666666666666, \"#ed7953\"], [0.7777777777777778, \"#fb9f3a\"], [0.8888888888888888, \"#fdca26\"], [1.0, \"#f0f921\"]], \"type\": \"surface\"}], \"table\": [{\"cells\": {\"fill\": {\"color\": \"#EBF0F8\"}, \"line\": {\"color\": \"white\"}}, \"header\": {\"fill\": {\"color\": \"#C8D4E3\"}, \"line\": {\"color\": \"white\"}}, \"type\": \"table\"}]}, \"layout\": {\"annotationdefaults\": {\"arrowcolor\": \"#2a3f5f\", \"arrowhead\": 0, \"arrowwidth\": 1}, \"coloraxis\": {\"colorbar\": {\"outlinewidth\": 0, \"ticks\": \"\"}}, \"colorscale\": {\"diverging\": [[0, \"#8e0152\"], [0.1, \"#c51b7d\"], [0.2, \"#de77ae\"], [0.3, \"#f1b6da\"], [0.4, \"#fde0ef\"], [0.5, \"#f7f7f7\"], [0.6, \"#e6f5d0\"], [0.7, \"#b8e186\"], [0.8, \"#7fbc41\"], [0.9, \"#4d9221\"], [1, \"#276419\"]], \"sequential\": [[0.0, \"#0d0887\"], [0.1111111111111111, \"#46039f\"], [0.2222222222222222, \"#7201a8\"], [0.3333333333333333, \"#9c179e\"], [0.4444444444444444, \"#bd3786\"], [0.5555555555555556, \"#d8576b\"], [0.6666666666666666, \"#ed7953\"], [0.7777777777777778, \"#fb9f3a\"], [0.8888888888888888, \"#fdca26\"], [1.0, \"#f0f921\"]], \"sequentialminus\": [[0.0, \"#0d0887\"], [0.1111111111111111, \"#46039f\"], [0.2222222222222222, \"#7201a8\"], [0.3333333333333333, \"#9c179e\"], [0.4444444444444444, \"#bd3786\"], [0.5555555555555556, \"#d8576b\"], [0.6666666666666666, \"#ed7953\"], [0.7777777777777778, \"#fb9f3a\"], [0.8888888888888888, \"#fdca26\"], [1.0, \"#f0f921\"]]}, \"colorway\": [\"#636efa\", \"#EF553B\", \"#00cc96\", \"#ab63fa\", \"#FFA15A\", \"#19d3f3\", \"#FF6692\", \"#B6E880\", \"#FF97FF\", \"#FECB52\"], \"font\": {\"color\": \"#2a3f5f\"}, \"geo\": {\"bgcolor\": \"white\", \"lakecolor\": \"white\", \"landcolor\": \"#E5ECF6\", \"showlakes\": true, \"showland\": true, \"subunitcolor\": \"white\"}, \"hoverlabel\": {\"align\": \"left\"}, \"hovermode\": \"closest\", \"mapbox\": {\"style\": \"light\"}, \"paper_bgcolor\": \"white\", \"plot_bgcolor\": \"#E5ECF6\", \"polar\": {\"angularaxis\": {\"gridcolor\": \"white\", \"linecolor\": \"white\", \"ticks\": \"\"}, \"bgcolor\": \"#E5ECF6\", \"radialaxis\": {\"gridcolor\": \"white\", \"linecolor\": \"white\", \"ticks\": \"\"}}, \"scene\": {\"xaxis\": {\"backgroundcolor\": \"#E5ECF6\", \"gridcolor\": \"white\", \"gridwidth\": 2, \"linecolor\": \"white\", \"showbackground\": true, \"ticks\": \"\", \"zerolinecolor\": \"white\"}, \"yaxis\": {\"backgroundcolor\": \"#E5ECF6\", \"gridcolor\": \"white\", \"gridwidth\": 2, \"linecolor\": \"white\", \"showbackground\": true, \"ticks\": \"\", \"zerolinecolor\": \"white\"}, \"zaxis\": {\"backgroundcolor\": \"#E5ECF6\", \"gridcolor\": \"white\", \"gridwidth\": 2, \"linecolor\": \"white\", \"showbackground\": true, \"ticks\": \"\", \"zerolinecolor\": \"white\"}}, \"shapedefaults\": {\"line\": {\"color\": \"#2a3f5f\"}}, \"ternary\": {\"aaxis\": {\"gridcolor\": \"white\", \"linecolor\": \"white\", \"ticks\": \"\"}, \"baxis\": {\"gridcolor\": \"white\", \"linecolor\": \"white\", \"ticks\": \"\"}, \"bgcolor\": \"#E5ECF6\", \"caxis\": {\"gridcolor\": \"white\", \"linecolor\": \"white\", \"ticks\": \"\"}}, \"title\": {\"x\": 0.05}, \"xaxis\": {\"automargin\": true, \"gridcolor\": \"white\", \"linecolor\": \"white\", \"ticks\": \"\", \"title\": {\"standoff\": 15}, \"zerolinecolor\": \"white\", \"zerolinewidth\": 2}, \"yaxis\": {\"automargin\": true, \"gridcolor\": \"white\", \"linecolor\": \"white\", \"ticks\": \"\", \"title\": {\"standoff\": 15}, \"zerolinecolor\": \"white\", \"zerolinewidth\": 2}}}, \"title\": {\"text\": \"H-Clustering -Abstracts+Titles - Separated Development of fields: Docs 1990-2004 to 2017-2019 : Enhanced number of clusters  - pow 1 - thresh 0.975\"}, \"width\": 1500},\n",
       "                        {\"responsive\": true}\n",
       "                    ).then(function(){\n",
       "                            \n",
       "var gd = document.getElementById('6ba87142-bb5f-4a2d-b0e2-95b1e609e5ee');\n",
       "var x = new MutationObserver(function (mutations, observer) {{\n",
       "        var display = window.getComputedStyle(gd).display;\n",
       "        if (!display || display === 'none') {{\n",
       "            console.log([gd, 'removed!']);\n",
       "            Plotly.purge(gd);\n",
       "            observer.disconnect();\n",
       "        }}\n",
       "}});\n",
       "\n",
       "// Listen for the removal of the full notebook cells\n",
       "var notebookContainer = gd.closest('#notebook-container');\n",
       "if (notebookContainer) {{\n",
       "    x.observe(notebookContainer, {childList: true});\n",
       "}}\n",
       "\n",
       "// Listen for the clearing of the current output cell\n",
       "var outputEl = gd.closest('.output');\n",
       "if (outputEl) {{\n",
       "    x.observe(outputEl, {childList: true});\n",
       "}}\n",
       "\n",
       "                        })\n",
       "                };\n",
       "                });\n",
       "            </script>\n",
       "        </div>"
      ]
     },
     "metadata": {},
     "output_type": "display_data"
    }
   ],
   "source": [
    "fig = go.Figure(data=[go.Sankey(\n",
    "    node = dict(\n",
    "      pad = 15,\n",
    "      thickness = 10,\n",
    "      line = dict(color = \"black\", width = 0),\n",
    "      label = labels_all,\n",
    "      color = colors_all #\"blue\"\n",
    "    ),\n",
    "    link = dict(\n",
    "      source = similarity_source,# 1, 0, 2, 3, 3], # indices correspond to labels, eg A1, A2, A2, B1, ...\n",
    "      target = similarity_target,# 3, 3, 4, 4, 5],\n",
    "      value = similarity_value,# 4, 2, 8, 4, 2],\n",
    "      color = final_colors_links #\"grey\"\n",
    "  ))])\n",
    "\n",
    "fig.update_layout(title_text=\"H-Clustering -\"+data_type+\" Development of fields: Docs 1990-2004 to \"+last_period_start+\"-2019 : Enhanced number of clusters  - pow \"+str(power)+\" - thresh \"+str(link_strength_threshold), font_size=11)\n",
    "fig.update_layout(\n",
    "    autosize=False,\n",
    "    width=1500,\n",
    "    height=900)\n",
    "fig.show()"
   ]
  },
  {
   "cell_type": "code",
   "execution_count": null,
   "metadata": {},
   "outputs": [],
   "source": []
  },
  {
   "cell_type": "code",
   "execution_count": null,
   "metadata": {},
   "outputs": [],
   "source": []
  }
 ],
 "metadata": {
  "kernelspec": {
   "display_name": "Python 3",
   "language": "python",
   "name": "python3"
  },
  "language_info": {
   "codemirror_mode": {
    "name": "ipython",
    "version": 3
   },
   "file_extension": ".py",
   "mimetype": "text/x-python",
   "name": "python",
   "nbconvert_exporter": "python",
   "pygments_lexer": "ipython3",
   "version": "3.7.7"
  }
 },
 "nbformat": 4,
 "nbformat_minor": 2
}
