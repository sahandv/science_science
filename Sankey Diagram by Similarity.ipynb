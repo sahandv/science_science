{
 "cells": [
  {
   "cell_type": "markdown",
   "metadata": {},
   "source": [
    "# Sankey Diagram by Similarity Scores\n"
   ]
  },
  {
   "cell_type": "markdown",
   "metadata": {},
   "source": [
    "### Import Libs"
   ]
  },
  {
   "cell_type": "code",
   "execution_count": 3,
   "metadata": {},
   "outputs": [
    {
     "name": "stdout",
     "output_type": "stream",
     "text": [
      "env name: sciosci\n"
     ]
    }
   ],
   "source": [
    "import os\n",
    "print('env name:',os.environ['CONDA_DEFAULT_ENV'])\n",
    "\n",
    "import plotly.graph_objects as go\n",
    "from skimage import io\n",
    "import urllib, json\n",
    "import pandas as pd\n",
    "import numpy as np\n",
    "from sciosci.assets import advanced_assets as aa\n",
    "from tqdm import tqdm\n",
    "import re"
   ]
  },
  {
   "cell_type": "markdown",
   "metadata": {},
   "source": [
    "### Initialize"
   ]
  },
  {
   "cell_type": "code",
   "execution_count": 2,
   "metadata": {},
   "outputs": [],
   "source": [
    "random_link_colors = False\n",
    "multi_year_similarity = True\n",
    "\n",
    "comment = ''\n",
    "clustering_method = 'agglomerative ward '\n",
    "link_strength_threshold = 0.985\n",
    "link_strength_threshold_2 = 0.995\n",
    "power = 1 # value power for increasing the differences "
   ]
  },
  {
   "cell_type": "markdown",
   "metadata": {},
   "source": [
    "#### Separated years"
   ]
  },
  {
   "cell_type": "code",
   "execution_count": 17,
   "metadata": {},
   "outputs": [],
   "source": [
    "last_period_start = \"2017\"\n",
    "data_type = \"Author Keywords - Abstract Words \"\n",
    "label_source = ''\n",
    "year_periods_topics = [\"8\",\"8\",\"12\",\"12\",\"16\",\"16\"]  #[\"7\",\"7\",\"9\",\"13\",\"13\",\"17\"]  \n",
    "# Sorted periods' topic numbers from new to old from left to right\n",
    "year_periods = [\"1990-2004\",\"2005-2007\",\"2008-2010\",\"2011-2013\",\"2014-2016\",\"2017-2018\"] \n",
    "# Sorted year periods from new to old from left to right\n",
    "data_directory = '/home/sahand/GoogleDrive/Data/Word Clustering/50D/'"
   ]
  },
  {
   "cell_type": "markdown",
   "metadata": {},
   "source": [
    "#### cumulative years"
   ]
  },
  {
   "cell_type": "code",
   "execution_count": null,
   "metadata": {},
   "outputs": [],
   "source": [
    "last_period_start = \"1990\"\n",
    "data_type = \"Author Keywords - Cumulative\"\n",
    "year_periods_topics = [\"7\",\"8\",\"10\",\"10\",\"10\",\"11\"]  \n",
    "# Sorted periods' topic numbers from new to old from left to right\n",
    "year_periods = [\"1990-2004\",\"1990-2007\",\"1990-2010\",\"1990-2013\",\"1990-2016\",\"1990-2018\"] \n",
    "# Sorted year periods from new to old from left to right\n",
    "data_directory = 'data/clusters/FastText/15D/10 dim/'"
   ]
  },
  {
   "cell_type": "markdown",
   "metadata": {},
   "source": [
    "#### cumulative documents"
   ]
  },
  {
   "cell_type": "code",
   "execution_count": null,
   "metadata": {},
   "outputs": [],
   "source": [
    "last_period_start = \"1990\"\n",
    "label_source = 'topics/'#authkeyword/'\n",
    "data_type = \"Abstracts+Titles - Cumulative\"\n",
    "year_periods_topics = [\"9\",\"10\",\"11\",\"14\",\"15\",\"15\"]\n",
    "# Sorted periods' topic numbers from new to old from left to right\n",
    "year_periods = [\"1990-2004\",\"1990-2007\",\"1990-2010\",\"1990-2013\",\"1990-2016\",\"1990-2018\"] \n",
    "# Sorted year periods from new to old from left to right\n",
    "data_directory = '/home/sahand/GoogleDrive/Data/FastText doc clusters - SIP/50D/'\n",
    "#'data/clusters/FastText/50D/'"
   ]
  },
  {
   "cell_type": "markdown",
   "metadata": {},
   "source": [
    "#### Separated documents"
   ]
  },
  {
   "cell_type": "code",
   "execution_count": 4,
   "metadata": {},
   "outputs": [],
   "source": [
    "last_period_start = \"2017\"\n",
    "label_source = ''#authkeyword/'\n",
    "data_type = \"Abstracts+Titles - Separated\"\n",
    "year_periods_topics = [\"10\",\"9\",\"10\",\"9\",\"9\",\"11\"]\n",
    "# Sorted periods' topic numbers from new to old from left to right\n",
    "year_periods = [\"1990-2004\",\"2005-2007\",\"2008-2010\",\"2011-2013\",\"2014-2016\",\"2017-2018\"] \n",
    "# Sorted year periods from new to old from left to right\n",
    "data_directory = '/home/sahand/GoogleDrive/Data/Document Clustering/50D May 16/'\n",
    "#'data/clusters/FastText/50D/'"
   ]
  },
  {
   "cell_type": "markdown",
   "metadata": {},
   "source": [
    "### Read & Prepare Data"
   ]
  },
  {
   "cell_type": "markdown",
   "metadata": {},
   "source": [
    "Generate nodes and links"
   ]
  },
  {
   "cell_type": "code",
   "execution_count": 5,
   "metadata": {},
   "outputs": [
    {
     "name": "stdout",
     "output_type": "stream",
     "text": [
      "Node colors are:\n"
     ]
    },
    {
     "data": {
      "image/png": "[encoded data removed]",
      "text/plain": [
       "<Figure size 432x288 with 1 Axes>"
      ]
     },
     "metadata": {
      "needs_background": "light"
     },
     "output_type": "display_data"
    }
   ],
   "source": [
    "node_colors_palette = aa.color_palette_maker(len(year_periods_topics),alpha=0.8)\n",
    "node_colors = ['rgba('+str(x).replace('[','').replace(']','')+')' for x in node_colors_palette]\n",
    "link_colors = [x[:-4]+'0.4)' for x in node_colors]\n",
    "node_colors_palette = np.array([node_colors_palette])\n",
    "print(\"Node colors are:\")\n",
    "io.imshow(node_colors_palette)\n",
    "labels_numeric_dict = {per:[] for per in year_periods}\n"
   ]
  },
  {
   "cell_type": "code",
   "execution_count": 6,
   "metadata": {},
   "outputs": [],
   "source": [
    "def color_alternator(rgba_colors,up_thresh = 0.8, down_thresh = 0.2, color_part = 2):\n",
    "    new_colors = []\n",
    "    color_s = rgba_colors[0].split(', ')\n",
    "    cell = float(rgba_colors[0].split(', ')[color_part])\n",
    "    if cell > 0.5:\n",
    "        portion = (cell-down_thresh)/len(rgba_colors)\n",
    "    else:\n",
    "        portion = (up_thresh-cell)/len(rgba_colors)\n",
    "\n",
    "    for idx,color in enumerate(topic_colors):\n",
    "        if cell > 0.5:\n",
    "            new_cell = cell-(idx+1)*portion\n",
    "        else:\n",
    "            new_cell = cell+(idx+1)*portion\n",
    "\n",
    "        color_s[color_part] = str(new_cell)\n",
    "        new_colors.append(', '.join(color_s))\n",
    "    return new_colors"
   ]
  },
  {
   "cell_type": "markdown",
   "metadata": {},
   "source": [
    "### Process"
   ]
  },
  {
   "cell_type": "markdown",
   "metadata": {},
   "source": [
    "#### Multi year similarity"
   ]
  },
  {
   "cell_type": "code",
   "execution_count": 7,
   "metadata": {},
   "outputs": [
    {
     "data": {
      "text/plain": [
       "[[0, 1, 2, 3, 4, 5, 6, 7, 8, 9],\n",
       " [10, 11, 12, 13, 14, 15, 16, 17, 18],\n",
       " [19, 20, 21, 22, 23, 24, 25, 26, 27, 28],\n",
       " [29, 30, 31, 32, 33, 34, 35, 36, 37],\n",
       " [38, 39, 40, 41, 42, 43, 44, 45, 46],\n",
       " [47, 48, 49, 50, 51, 52, 53, 54, 55, 56, 57]]"
      ]
     },
     "execution_count": 7,
     "metadata": {},
     "output_type": "execute_result"
    }
   ],
   "source": [
    "# Give unique ID to all clusters\n",
    "total = 0\n",
    "cluster_ids = []\n",
    "for period_index, period in enumerate(year_periods):\n",
    "    cluster_ids.append(list(range(total,int(year_periods_topics[period_index])+total)))\n",
    "    total = total + int(year_periods_topics[period_index])\n",
    "cluster_ids"
   ]
  },
  {
   "cell_type": "code",
   "execution_count": 9,
   "metadata": {},
   "outputs": [
    {
     "name": "stderr",
     "output_type": "stream",
     "text": [
      "100%|██████████| 10/10 [00:00<00:00, 1624.38it/s]\n",
      "100%|██████████| 9/9 [00:00<00:00, 1342.75it/s]\n",
      "100%|██████████| 10/10 [00:00<00:00, 2301.91it/s]\n",
      "100%|██████████| 9/9 [00:00<00:00, 1228.52it/s]\n",
      "100%|██████████| 9/9 [00:00<00:00, 1895.49it/s]\n",
      "100%|██████████| 11/11 [00:00<00:00, 2147.72it/s]"
     ]
    },
    {
     "name": "stdout",
     "output_type": "stream",
     "text": [
      "1990-2004 10 0\n",
      "2005-2007 9 10\n",
      "\n",
      "There is no similarity record at  /home/sahand/GoogleDrive/Data/Document Clustering/50D May 16/similarity/agglomerative ward 2005-2007_9-2011-2013_9.csv\n",
      "2008-2010 10 19\n",
      "2011-2013 9 29\n",
      "2014-2016 9 38\n",
      "2017-2018 11 47\n"
     ]
    },
    {
     "name": "stderr",
     "output_type": "stream",
     "text": [
      "\n"
     ]
    }
   ],
   "source": [
    "labels_all = []\n",
    "labels_all_numeric = []\n",
    "labels_all_numeric_sequential = []\n",
    "colors_all = []\n",
    "colors_all_links = []\n",
    "\n",
    "similarity_source = []\n",
    "similarity_target = []\n",
    "similarity_value = []\n",
    "\n",
    "if multi_year_similarity is True:\n",
    "    for period_index, period in enumerate(year_periods):\n",
    "        print(period,year_periods_topics[period_index],cluster_ids[period_index][0])\n",
    "\n",
    "        terms = pd.read_csv(data_directory+'term_cluster-tables/'+label_source+period+\" \"+year_periods_topics[period_index]+\" - term_cluster.csv\").fillna('')\n",
    "        scores = pd.read_csv(data_directory+'term_cluster-tables/'+label_source+period+\" \"+year_periods_topics[period_index]+\" - term_score.csv\").fillna(0)\n",
    "    \n",
    "        \n",
    "        labels_this_period = aa.topic_label_maker(terms,scores,ratio=10,\n",
    "                                                  prefix=period.split('-')[1][-2:]+' - ',limit=5)\n",
    "        \n",
    "        labels_all = labels_all + labels_this_period\n",
    "        labels_all_numeric = labels_all_numeric + [str(x) for x in list(range(0,len(labels_this_period)))]\n",
    "        \n",
    "        topic_colors = [node_colors[period_index]] * len(labels_this_period)\n",
    "        topic_colors = color_alternator(topic_colors,up_thresh = 0.99, down_thresh = 0.01, color_part = 2)\n",
    "        colors_all = colors_all + topic_colors\n",
    "        \n",
    "        topic_link_colors = [link_colors[period_index]] * len(labels_this_period)\n",
    "        topic_link_colors = color_alternator(topic_link_colors,up_thresh = 0.99, down_thresh = 0.01, color_part = 2)\n",
    "        colors_all_links = colors_all_links + topic_link_colors\n",
    "        \n",
    "    #    similarity_scores = None\n",
    "        if period_index < len(year_periods) - 1:\n",
    "            similarity_scores = pd.read_csv(data_directory+'similarity/'+clustering_method+year_periods[period_index]+\"_\"+year_periods_topics[period_index]+\"-\"+year_periods[period_index+1]+\"_\"+year_periods_topics[period_index+1]+\".csv\")\n",
    "    #        terms_previous_period = pd.read_csv(data_directory+\"cumulative/\"+year_periods[period_index+1]+\"_\"+year_periods_topics[period_index+1]+\"/top_99-percentile_keywords_terms-spaced.csv\")\n",
    "\n",
    "            # flatten the similarity scores\n",
    "            for period_cluster_no,row in similarity_scores.iterrows(): # repeat to n_clusters of A\n",
    "\n",
    "                elem_num = len(row.values.tolist()) # number of columns in similarity file\n",
    "                for idx in range(1,elem_num,2):     # repeat to n_clusters of B\n",
    "                    if row.values.tolist()[idx+1]**power > link_strength_threshold:\n",
    "                        similarity_source.append(int(row.values.tolist()[0]) + cluster_ids[period_index][0])\n",
    "                        similarity_target.append(int(row.values.tolist()[idx]) + cluster_ids[period_index+1][0])\n",
    "                        similarity_value.append(row.values.tolist()[idx+1]**power)\n",
    "                \n",
    "        if period_index < len(year_periods) - 2:\n",
    "            try:\n",
    "                similarity_scores = pd.read_csv(data_directory+'similarity/'+clustering_method+year_periods[period_index]+\"_\"+year_periods_topics[period_index]+\"-\"+year_periods[period_index+2]+\"_\"+year_periods_topics[period_index+2]+\".csv\")\n",
    "    #        terms_previous_period = pd.read_csv(data_directory+\"cumulative/\"+year_periods[period_index+1]+\"_\"+year_periods_topics[period_index+1]+\"/top_99-percentile_keywords_terms-spaced.csv\")\n",
    "            except:\n",
    "                print(\"\\nThere is no similarity record at \",data_directory+'similarity/'+clustering_method+year_periods[period_index]+\"_\"+year_periods_topics[period_index]+\"-\"+year_periods[period_index+2]+\"_\"+year_periods_topics[period_index+2]+\".csv\")\n",
    "                similarity_scores = None\n",
    "                continue\n",
    "                \n",
    "            for period_cluster_no,row in similarity_scores.iterrows(): # repeat to n_clusters of A\n",
    "\n",
    "                elem_num = len(row.values.tolist()) # number of columns in similarity file\n",
    "                for idx in range(1,elem_num,2):     # repeat to n_clusters of B\n",
    "                    if row.values.tolist()[idx+1]**power > link_strength_threshold_2:\n",
    "                        similarity_source.append(int(row.values.tolist()[0]) + cluster_ids[period_index][0])\n",
    "                        similarity_target.append(int(row.values.tolist()[idx]) + cluster_ids[period_index+2][0])\n",
    "                        similarity_value.append(row.values.tolist()[idx+1]**power)\n",
    "                \n",
    "                \n",
    "    labels_all_numeric_sequential = [str(x) for x in list(range(0,len(labels_all_numeric)))]"
   ]
  },
  {
   "cell_type": "markdown",
   "metadata": {},
   "source": [
    "### Draw"
   ]
  },
  {
   "cell_type": "markdown",
   "metadata": {},
   "source": [
    "#### Prepare links"
   ]
  },
  {
   "cell_type": "markdown",
   "metadata": {},
   "source": [
    "* For clustered colors:"
   ]
  },
  {
   "cell_type": "code",
   "execution_count": 10,
   "metadata": {},
   "outputs": [
    {
     "name": "stderr",
     "output_type": "stream",
     "text": [
      "100%|██████████| 59/59 [00:00<00:00, 40714.70it/s]\n"
     ]
    }
   ],
   "source": [
    "if random_link_colors is False:\n",
    "    final_colors_links = [colors_all_links[x] for x in similarity_source] # in similarity_source]\n",
    "    final_color_links_varied = []\n",
    "    for i,value in tqdm(enumerate(similarity_value),total=len(similarity_value)):\n",
    "        final_color_links_varied.append(final_colors_links[i].replace(', 0.4',', '+str(value/2)))\n",
    "#         print(final_color_links_varied[i])\n",
    "    final_colors_links = final_color_links_varied"
   ]
  },
  {
   "cell_type": "markdown",
   "metadata": {},
   "source": [
    "* For random colors:"
   ]
  },
  {
   "cell_type": "code",
   "execution_count": 11,
   "metadata": {},
   "outputs": [],
   "source": [
    "if random_link_colors is True:\n",
    "    final_colors_links = ['rgba('+str(x).replace('[','').replace(']','')+')' for x in aa.color_palette_maker(len(similarity_target),alpha=0.3)]"
   ]
  },
  {
   "cell_type": "markdown",
   "metadata": {},
   "source": [
    "#### Prepare labels"
   ]
  },
  {
   "cell_type": "code",
   "execution_count": 12,
   "metadata": {},
   "outputs": [
    {
     "name": "stderr",
     "output_type": "stream",
     "text": [
      "100%|██████████| 58/58 [00:00<00:00, 46231.40it/s]\n"
     ]
    }
   ],
   "source": [
    "labels_all_new = []\n",
    "for label in tqdm(labels_all):\n",
    "    label_to_split = label.split('- ')\n",
    "    label_split = label_to_split[1].split(', ')\n",
    "    label_split_new = []\n",
    "    for split in label_split:\n",
    "        if len(split)>20:\n",
    "            label_split_new.append(aa.abbreviator(split))\n",
    "        else:\n",
    "            label_split_new.append(split)\n",
    "    labels_all_new.append(label_to_split[0]+'- '+', '.join(label_split_new))\n",
    "labels_all_new = [label.replace('computer science','cs').replace('engineering','en') for label in labels_all_new]"
   ]
  },
  {
   "cell_type": "markdown",
   "metadata": {},
   "source": [
    "#### Draw"
   ]
  },
  {
   "cell_type": "code",
   "execution_count": 14,
   "metadata": {},
   "outputs": [
    {
     "data": {
      "application/vnd.plotly.v1+json": {
       "config": {
        "plotlyServerURL": "https://plot.ly"
       },
       "data": [
        {
         "link": {
          "color": [
           "rgba(0.6640625, 0.49852552192445041015625, 0.49852552192445044353125, 0.4985255219244504)",
           "rgba(0.6640625, 0.495214375223277941015625, 0.50425, 0.49521437522327794)",
           "rgba(0.6640625, 0.49751067836500981015625, 0.56496875, 0.4975106783650098)",
           "rgba(0.6640625, 0.49813827776054671015625, 0.68640625, 0.4981382777605467)",
           "rgba(0.6640625, 0.49469181025876061015625, 0.68640625, 0.4946918102587606)",
           "rgba(0.6640625, 0.49644241730362821015625, 0.747125, 0.4964424173036282)",
           "rgba(0.6640625, 0.49379165771118121015625, 0.80784375, 0.4937916577111812)",
           "rgba(0.6640625, 0.49627816055014681015625, 0.80784375, 0.4962781605501468)",
           "rgba(0.6640625, 0.49734248378672251015625, 0.8685625, 0.4973424837867225)",
           "rgba(0.6640625, 0.4930832027846011015625, 0.9292812500000001, 0.493083202784601)",
           "rgba(0.6640625, 0.49676565799359781015625, 0.99, 0.4967656579935978)",
           "rgba(0.6640625, 0.49849563636505971015625, 0.68640625, 0.4984956363650597)",
           "rgba(0.46484375, 0.6328125, 0.24888888888888888, 0.49575290852635456)",
           "rgba(0.46484375, 0.6328125, 0.24888888888888888, 0.4931588724442906)",
           "rgba(0.46484375, 0.6328125, 0.34152777777777776, 0.4956815781993622)",
           "rgba(0.46484375, 0.6328125, 0.34152777777777776, 0.4968613432199385)",
           "rgba(0.46484375, 0.6328125, 0.49304077935292193416666666666665, 0.4930407793529219)",
           "rgba(0.46484375, 0.6328125, 0.49482782884479983416666666666665, 0.4948278288447998)",
           "rgba(0.46484375, 0.6328125, 0.5268055555555555, 0.4955758875023731)",
           "rgba(0.46484375, 0.6328125, 0.6194444444444445, 0.4926040691450682)",
           "rgba(0.46484375, 0.6328125, 0.7120833333333333, 0.4977016390452654)",
           "rgba(0.46484375, 0.6328125, 0.8047222222222221, 0.4960838307723889)",
           "rgba(0.46484375, 0.6328125, 0.897361111111111, 0.4927194125788509)",
           "rgba(0.46484375, 0.6328125, 0.99, 0.49358069424448753)",
           "rgba(0.44921875, 0.09765625, 0.109546875, 0.4934411050374189)",
           "rgba(0.44921875, 0.09765625, 0.109546875, 0.4959490158512634)",
           "rgba(0.44921875, 0.09765625, 0.207375, 0.49547289583491294)",
           "rgba(0.44921875, 0.09765625, 0.207375, 0.492820551080352)",
           "rgba(0.44921875, 0.09765625, 0.49702928772813150303125, 0.4970292877281315)",
           "rgba(0.44921875, 0.09765625, 0.500859375, 0.4944984628004488)",
           "rgba(0.44921875, 0.09765625, 0.5986875, 0.4947496560174204)",
           "rgba(0.44921875, 0.09765625, 0.5986875, 0.494646949694361)",
           "rgba(0.44921875, 0.09765625, 0.79434375, 0.4932702688744115)",
           "rgba(0.44921875, 0.09765625, 0.8921718750000001, 0.4980378649281462)",
           "rgba(0.44921875, 0.09765625, 0.99, 0.4956406525519028)",
           "rgba(0.44921875, 0.09765625, 0.109546875, 0.4994996402634581)",
           "rgba(0.06640625, 0.08984375, 0.5301388888888889, 0.4987536217104796)",
           "rgba(0.06640625, 0.08984375, 0.5876215277777778, 0.4970555804703788)",
           "rgba(0.06640625, 0.08984375, 0.6451041666666667, 0.4929316177481254)",
           "rgba(0.06640625, 0.08984375, 0.6451041666666667, 0.499373301218978)",
           "rgba(0.06640625, 0.08984375, 0.7600694444444445, 0.4961836184110106)",
           "rgba(0.06640625, 0.08984375, 0.8175520833333334, 0.4941722736990038)",
           "rgba(0.06640625, 0.08984375, 0.8175520833333334, 0.4983097785351784)",
           "rgba(0.06640625, 0.08984375, 0.8750347222222222, 0.4957884627322349)",
           "rgba(0.06640625, 0.08984375, 0.8750347222222222, 0.4954018872003434)",
           "rgba(0.06640625, 0.08984375, 0.932517361111111, 0.4928943240301389)",
           "rgba(0.06640625, 0.08984375, 0.6451041666666667, 0.4978107359024541)",
           "rgba(0.234375, 0.82421875, 0.4962315255037012976388888888889, 0.4962315255037012)",
           "rgba(0.234375, 0.82421875, 0.49864321263917613668402777777776, 0.4986432126391761)",
           "rgba(0.234375, 0.82421875, 0.37572916666666667, 0.4933604469554932)",
           "rgba(0.234375, 0.82421875, 0.37572916666666667, 0.4967437211507026)",
           "rgba(0.234375, 0.82421875, 0.3147743055555555, 0.495658970929818)",
           "rgba(0.234375, 0.82421875, 0.3147743055555555, 0.4940310719268498)",
           "rgba(0.234375, 0.82421875, 0.25381944444444443, 0.4949656972651636)",
           "rgba(0.234375, 0.82421875, 0.19286458333333334, 0.4971997906435596)",
           "rgba(0.234375, 0.82421875, 0.1319097222222222, 0.4946707840547268)",
           "rgba(0.234375, 0.82421875, 0.0709548611111111, 0.4946650541345362)",
           "rgba(0.234375, 0.82421875, 0.010000000000000009, 0.4974504739601818)",
           "rgba(0.234375, 0.82421875, 0.010000000000000009, 0.4976453011054288)"
          ],
          "source": [
           0,
           1,
           2,
           4,
           4,
           5,
           6,
           6,
           7,
           8,
           9,
           4,
           10,
           10,
           11,
           11,
           12,
           12,
           13,
           14,
           15,
           16,
           17,
           18,
           19,
           19,
           20,
           20,
           22,
           23,
           24,
           24,
           26,
           27,
           28,
           19,
           29,
           30,
           31,
           31,
           33,
           34,
           34,
           35,
           35,
           36,
           31,
           38,
           39,
           40,
           40,
           41,
           41,
           42,
           43,
           44,
           45,
           46,
           46
          ],
          "target": [
           12,
           10,
           13,
           11,
           17,
           14,
           11,
           12,
           16,
           18,
           10,
           27,
           22,
           23,
           24,
           27,
           22,
           24,
           20,
           28,
           19,
           26,
           27,
           25,
           30,
           35,
           36,
           37,
           34,
           32,
           31,
           34,
           29,
           31,
           30,
           39,
           44,
           42,
           41,
           46,
           45,
           40,
           41,
           38,
           39,
           43,
           47,
           55,
           52,
           48,
           51,
           47,
           51,
           48,
           57,
           56,
           53,
           47,
           54
          ],
          "value": [
           0.9970510438489008,
           0.9904287504465559,
           0.9950213567300196,
           0.9962765555210934,
           0.9893836205175212,
           0.9928848346072564,
           0.9875833154223624,
           0.9925563211002936,
           0.994684967573445,
           0.986166405569202,
           0.9935313159871956,
           0.9969912727301194,
           0.9915058170527091,
           0.9863177448885811,
           0.9913631563987244,
           0.993722686439877,
           0.9860815587058438,
           0.9896556576895996,
           0.9911517750047462,
           0.9852081382901364,
           0.9954032780905308,
           0.9921676615447778,
           0.9854388251577018,
           0.9871613884889751,
           0.9868822100748378,
           0.9918980317025268,
           0.9909457916698259,
           0.985641102160704,
           0.994058575456263,
           0.9889969256008976,
           0.9894993120348408,
           0.989293899388722,
           0.986540537748823,
           0.9960757298562924,
           0.9912813051038056,
           0.9989992805269162,
           0.9975072434209592,
           0.9941111609407576,
           0.9858632354962508,
           0.998746602437956,
           0.9923672368220212,
           0.9883445473980076,
           0.9966195570703568,
           0.9915769254644698,
           0.9908037744006868,
           0.9857886480602778,
           0.9956214718049082,
           0.9924630510074024,
           0.9972864252783522,
           0.9867208939109864,
           0.9934874423014052,
           0.991317941859636,
           0.9880621438536996,
           0.9899313945303272,
           0.9943995812871192,
           0.9893415681094536,
           0.9893301082690724,
           0.9949009479203637,
           0.9952906022108576
          ]
         },
         "node": {
          "color": [
           "rgba(0.6640625, 0.41015625, 0.44353125, 0.8)",
           "rgba(0.6640625, 0.41015625, 0.50425, 0.8)",
           "rgba(0.6640625, 0.41015625, 0.56496875, 0.8)",
           "rgba(0.6640625, 0.41015625, 0.6256875, 0.8)",
           "rgba(0.6640625, 0.41015625, 0.68640625, 0.8)",
           "rgba(0.6640625, 0.41015625, 0.747125, 0.8)",
           "rgba(0.6640625, 0.41015625, 0.80784375, 0.8)",
           "rgba(0.6640625, 0.41015625, 0.8685625, 0.8)",
           "rgba(0.6640625, 0.41015625, 0.9292812500000001, 0.8)",
           "rgba(0.6640625, 0.41015625, 0.99, 0.8)",
           "rgba(0.46484375, 0.6328125, 0.24888888888888888, 0.8)",
           "rgba(0.46484375, 0.6328125, 0.34152777777777776, 0.8)",
           "rgba(0.46484375, 0.6328125, 0.43416666666666665, 0.8)",
           "rgba(0.46484375, 0.6328125, 0.5268055555555555, 0.8)",
           "rgba(0.46484375, 0.6328125, 0.6194444444444445, 0.8)",
           "rgba(0.46484375, 0.6328125, 0.7120833333333333, 0.8)",
           "rgba(0.46484375, 0.6328125, 0.8047222222222221, 0.8)",
           "rgba(0.46484375, 0.6328125, 0.897361111111111, 0.8)",
           "rgba(0.46484375, 0.6328125, 0.99, 0.8)",
           "rgba(0.44921875, 0.09765625, 0.109546875, 0.8)",
           "rgba(0.44921875, 0.09765625, 0.207375, 0.8)",
           "rgba(0.44921875, 0.09765625, 0.305203125, 0.8)",
           "rgba(0.44921875, 0.09765625, 0.40303125, 0.8)",
           "rgba(0.44921875, 0.09765625, 0.500859375, 0.8)",
           "rgba(0.44921875, 0.09765625, 0.5986875, 0.8)",
           "rgba(0.44921875, 0.09765625, 0.696515625, 0.8)",
           "rgba(0.44921875, 0.09765625, 0.79434375, 0.8)",
           "rgba(0.44921875, 0.09765625, 0.8921718750000001, 0.8)",
           "rgba(0.44921875, 0.09765625, 0.99, 0.8)",
           "rgba(0.06640625, 0.08984375, 0.5301388888888889, 0.8)",
           "rgba(0.06640625, 0.08984375, 0.5876215277777778, 0.8)",
           "rgba(0.06640625, 0.08984375, 0.6451041666666667, 0.8)",
           "rgba(0.06640625, 0.08984375, 0.7025868055555555, 0.8)",
           "rgba(0.06640625, 0.08984375, 0.7600694444444445, 0.8)",
           "rgba(0.06640625, 0.08984375, 0.8175520833333334, 0.8)",
           "rgba(0.06640625, 0.08984375, 0.8750347222222222, 0.8)",
           "rgba(0.06640625, 0.08984375, 0.932517361111111, 0.8)",
           "rgba(0.06640625, 0.08984375, 0.99, 0.8)",
           "rgba(0.234375, 0.82421875, 0.4976388888888889, 0.8)",
           "rgba(0.234375, 0.82421875, 0.43668402777777776, 0.8)",
           "rgba(0.234375, 0.82421875, 0.37572916666666667, 0.8)",
           "rgba(0.234375, 0.82421875, 0.3147743055555555, 0.8)",
           "rgba(0.234375, 0.82421875, 0.25381944444444443, 0.8)",
           "rgba(0.234375, 0.82421875, 0.19286458333333334, 0.8)",
           "rgba(0.234375, 0.82421875, 0.1319097222222222, 0.8)",
           "rgba(0.234375, 0.82421875, 0.0709548611111111, 0.8)",
           "rgba(0.234375, 0.82421875, 0.010000000000000009, 0.8)",
           "rgba(0.8203125, 0.80859375, 0.4451136363636364, 0.8)",
           "rgba(0.8203125, 0.80859375, 0.49960227272727276, 0.8)",
           "rgba(0.8203125, 0.80859375, 0.5540909090909091, 0.8)",
           "rgba(0.8203125, 0.80859375, 0.6085795454545455, 0.8)",
           "rgba(0.8203125, 0.80859375, 0.6630681818181818, 0.8)",
           "rgba(0.8203125, 0.80859375, 0.7175568181818182, 0.8)",
           "rgba(0.8203125, 0.80859375, 0.7720454545454545, 0.8)",
           "rgba(0.8203125, 0.80859375, 0.8265340909090909, 0.8)",
           "rgba(0.8203125, 0.80859375, 0.8810227272727273, 0.8)",
           "rgba(0.8203125, 0.80859375, 0.9355113636363637, 0.8)",
           "rgba(0.8203125, 0.80859375, 0.99, 0.8)"
          ],
          "label": [
           "04 - ds, web, module, internet, supply_chain",
           "04 - module, fault_diagnosis, case_based_reasoning, word, equipment",
           "04 - lesion, clinical, sensitivity, disease, tumor",
           "04 - alpha, pth, omega, bsa, belief_function",
           "04 - student, cognitive_science, game, robotics, consciousness",
           "04 - soil, load, temperature, power_system, controller",
           "04 - case_based_reasoning, student, intelligent_system, knowledge_management, intelligent_agent",
           "04 - semantics, conceptual_graph, fuzzy_preference, nonmonotonic, fuzzy_set",
           "04 - S, csp, valued, unification, C",
           "04 - tabu_search, simulated_annealing, fm, optimal_solution, optimization_problem",
           "07 - case_based_reasoning, A, I, prospect_theory, S",
           "07 - robot, game, student, emotion, player",
           "07 - ontology, case_based_reasoning, product, web, service",
           "07 - patient, tcm, A, protein, herb",
           "07 - robot, gps, load, vehicle, fault",
           "07 - A, shear, A, S, concentration",
           "07 - temporal, predicate, constraint, semantics, spatial_reasoning",
           "07 - robot, aaai, vitalism, conference, isa",
           "07 - S, tilde, dictionary, q_learning, valued",
           "10 - temperature, svr, rainfall, A, forecasting",
           "10 - emotion, clinical, sensitivity, disease, gene",
           "10 - ontology, e_learning, web, student, web_directory",
           "10 - student, fault, multi_agent_system, id, vcn",
           "10 - aco, A, R, node, ant_colony",
           "10 - game, student, player, team, multi_agent_system",
           "10 - neighbor, bangla, k_nearest, alpha, nk",
           "10 - logic, reasoning, formula, S, logical",
           "10 - mind, psychology, C, cognitive_science, turing_test",
           "10 - forecasting, power_system, wind, company, stock_market",
           "13 - semantic_similarity, web, sentence, document, syntax",
           "13 - temperature, vehicle, pressure, steel, soil",
           "13 - student, creativity, emotion, argument, robotics",
           "13 - player, heuristic, poker, M, opponent",
           "13 - concentration, hydrogel, temperature, rmse, A",
           "13 - ontology, case_based_reasoning, student, multi_agent_system, platform",
           "13 - A, fault, forecasting, dga, power_system",
           "13 - breast_cancer, cancer, clinical, disease, biopsy",
           "13 - angle, movement, emotion, radar, mixed_pixel",
           "16 - P, fault_diagnosis, electroencephalogram, forecasting, power_system",
           "16 - temperature, soil, pm, svr, A",
           "16 - M, computer_game, multi_agent_system, league, cognitive_radio",
           "16 - ontology, argumentation, enterprise, xml, semantics",
           "16 - electricity_market, vehicle, wind_power, forecasting, photovoltaic",
           "16 - zakat, breast_cancer, cancer, cervical_cancer, ad",
           "16 - sentence, arabic, machine_translation, ontology, taxonomy",
           "16 - ion, biosorption, crt, k_mean, amikacin",
           "16 - emotion, education, cognitive_science, course, ethical",
           "18 - teaching, business, ontology, social, health_care",
           "18 - city, accident, U, dg, mobile_robot",
           "18 - emotion, sentence, music, ontology, news",
           "18 - tracker, memristor, voltage, synapse, fpga",
           "18 - plan, price, video_game, rts_game, serious_game",
           "18 - A, rmse, fault, wind_speed, svr",
           "18 - adsorption, removal, mg, adsorbent, aqueous",
           "18 - social, business, ethic, economy, ethical",
           "18 - fault, P, auc, A, elm",
           "18 - argument, answer_set, semantics, abduction, argumentation",
           "18 - tumor, cancer, diabetic_retinopathy, lesion, therapy"
          ],
          "line": {
           "color": "black",
           "width": 0
          },
          "pad": 15,
          "thickness": 10
         },
         "type": "sankey"
        }
       ],
       "layout": {
        "autosize": false,
        "font": {
         "size": 11
        },
        "height": 900,
        "template": {
         "data": {
          "bar": [
           {
            "error_x": {
             "color": "#2a3f5f"
            },
            "error_y": {
             "color": "#2a3f5f"
            },
            "marker": {
             "line": {
              "color": "#E5ECF6",
              "width": 0.5
             }
            },
            "type": "bar"
           }
          ],
          "barpolar": [
           {
            "marker": {
             "line": {
              "color": "#E5ECF6",
              "width": 0.5
             }
            },
            "type": "barpolar"
           }
          ],
          "carpet": [
           {
            "aaxis": {
             "endlinecolor": "#2a3f5f",
             "gridcolor": "white",
             "linecolor": "white",
             "minorgridcolor": "white",
             "startlinecolor": "#2a3f5f"
            },
            "baxis": {
             "endlinecolor": "#2a3f5f",
             "gridcolor": "white",
             "linecolor": "white",
             "minorgridcolor": "white",
             "startlinecolor": "#2a3f5f"
            },
            "type": "carpet"
           }
          ],
          "choropleth": [
           {
            "colorbar": {
             "outlinewidth": 0,
             "ticks": ""
            },
            "type": "choropleth"
           }
          ],
          "contour": [
           {
            "colorbar": {
             "outlinewidth": 0,
             "ticks": ""
            },
            "colorscale": [
             [
              0,
              "#0d0887"
             ],
             [
              0.1111111111111111,
              "#46039f"
             ],
             [
              0.2222222222222222,
              "#7201a8"
             ],
             [
              0.3333333333333333,
              "#9c179e"
             ],
             [
              0.4444444444444444,
              "#bd3786"
             ],
             [
              0.5555555555555556,
              "#d8576b"
             ],
             [
              0.6666666666666666,
              "#ed7953"
             ],
             [
              0.7777777777777778,
              "#fb9f3a"
             ],
             [
              0.8888888888888888,
              "#fdca26"
             ],
             [
              1,
              "#f0f921"
             ]
            ],
            "type": "contour"
           }
          ],
          "contourcarpet": [
           {
            "colorbar": {
             "outlinewidth": 0,
             "ticks": ""
            },
            "type": "contourcarpet"
           }
          ],
          "heatmap": [
           {
            "colorbar": {
             "outlinewidth": 0,
             "ticks": ""
            },
            "colorscale": [
             [
              0,
              "#0d0887"
             ],
             [
              0.1111111111111111,
              "#46039f"
             ],
             [
              0.2222222222222222,
              "#7201a8"
             ],
             [
              0.3333333333333333,
              "#9c179e"
             ],
             [
              0.4444444444444444,
              "#bd3786"
             ],
             [
              0.5555555555555556,
              "#d8576b"
             ],
             [
              0.6666666666666666,
              "#ed7953"
             ],
             [
              0.7777777777777778,
              "#fb9f3a"
             ],
             [
              0.8888888888888888,
              "#fdca26"
             ],
             [
              1,
              "#f0f921"
             ]
            ],
            "type": "heatmap"
           }
          ],
          "heatmapgl": [
           {
            "colorbar": {
             "outlinewidth": 0,
             "ticks": ""
            },
            "colorscale": [
             [
              0,
              "#0d0887"
             ],
             [
              0.1111111111111111,
              "#46039f"
             ],
             [
              0.2222222222222222,
              "#7201a8"
             ],
             [
              0.3333333333333333,
              "#9c179e"
             ],
             [
              0.4444444444444444,
              "#bd3786"
             ],
             [
              0.5555555555555556,
              "#d8576b"
             ],
             [
              0.6666666666666666,
              "#ed7953"
             ],
             [
              0.7777777777777778,
              "#fb9f3a"
             ],
             [
              0.8888888888888888,
              "#fdca26"
             ],
             [
              1,
              "#f0f921"
             ]
            ],
            "type": "heatmapgl"
           }
          ],
          "histogram": [
           {
            "marker": {
             "colorbar": {
              "outlinewidth": 0,
              "ticks": ""
             }
            },
            "type": "histogram"
           }
          ],
          "histogram2d": [
           {
            "colorbar": {
             "outlinewidth": 0,
             "ticks": ""
            },
            "colorscale": [
             [
              0,
              "#0d0887"
             ],
             [
              0.1111111111111111,
              "#46039f"
             ],
             [
              0.2222222222222222,
              "#7201a8"
             ],
             [
              0.3333333333333333,
              "#9c179e"
             ],
             [
              0.4444444444444444,
              "#bd3786"
             ],
             [
              0.5555555555555556,
              "#d8576b"
             ],
             [
              0.6666666666666666,
              "#ed7953"
             ],
             [
              0.7777777777777778,
              "#fb9f3a"
             ],
             [
              0.8888888888888888,
              "#fdca26"
             ],
             [
              1,
              "#f0f921"
             ]
            ],
            "type": "histogram2d"
           }
          ],
          "histogram2dcontour": [
           {
            "colorbar": {
             "outlinewidth": 0,
             "ticks": ""
            },
            "colorscale": [
             [
              0,
              "#0d0887"
             ],
             [
              0.1111111111111111,
              "#46039f"
             ],
             [
              0.2222222222222222,
              "#7201a8"
             ],
             [
              0.3333333333333333,
              "#9c179e"
             ],
             [
              0.4444444444444444,
              "#bd3786"
             ],
             [
              0.5555555555555556,
              "#d8576b"
             ],
             [
              0.6666666666666666,
              "#ed7953"
             ],
             [
              0.7777777777777778,
              "#fb9f3a"
             ],
             [
              0.8888888888888888,
              "#fdca26"
             ],
             [
              1,
              "#f0f921"
             ]
            ],
            "type": "histogram2dcontour"
           }
          ],
          "mesh3d": [
           {
            "colorbar": {
             "outlinewidth": 0,
             "ticks": ""
            },
            "type": "mesh3d"
           }
          ],
          "parcoords": [
           {
            "line": {
             "colorbar": {
              "outlinewidth": 0,
              "ticks": ""
             }
            },
            "type": "parcoords"
           }
          ],
          "pie": [
           {
            "automargin": true,
            "type": "pie"
           }
          ],
          "scatter": [
           {
            "marker": {
             "colorbar": {
              "outlinewidth": 0,
              "ticks": ""
             }
            },
            "type": "scatter"
           }
          ],
          "scatter3d": [
           {
            "line": {
             "colorbar": {
              "outlinewidth": 0,
              "ticks": ""
             }
            },
            "marker": {
             "colorbar": {
              "outlinewidth": 0,
              "ticks": ""
             }
            },
            "type": "scatter3d"
           }
          ],
          "scattercarpet": [
           {
            "marker": {
             "colorbar": {
              "outlinewidth": 0,
              "ticks": ""
             }
            },
            "type": "scattercarpet"
           }
          ],
          "scattergeo": [
           {
            "marker": {
             "colorbar": {
              "outlinewidth": 0,
              "ticks": ""
             }
            },
            "type": "scattergeo"
           }
          ],
          "scattergl": [
           {
            "marker": {
             "colorbar": {
              "outlinewidth": 0,
              "ticks": ""
             }
            },
            "type": "scattergl"
           }
          ],
          "scattermapbox": [
           {
            "marker": {
             "colorbar": {
              "outlinewidth": 0,
              "ticks": ""
             }
            },
            "type": "scattermapbox"
           }
          ],
          "scatterpolar": [
           {
            "marker": {
             "colorbar": {
              "outlinewidth": 0,
              "ticks": ""
             }
            },
            "type": "scatterpolar"
           }
          ],
          "scatterpolargl": [
           {
            "marker": {
             "colorbar": {
              "outlinewidth": 0,
              "ticks": ""
             }
            },
            "type": "scatterpolargl"
           }
          ],
          "scatterternary": [
           {
            "marker": {
             "colorbar": {
              "outlinewidth": 0,
              "ticks": ""
             }
            },
            "type": "scatterternary"
           }
          ],
          "surface": [
           {
            "colorbar": {
             "outlinewidth": 0,
             "ticks": ""
            },
            "colorscale": [
             [
              0,
              "#0d0887"
             ],
             [
              0.1111111111111111,
              "#46039f"
             ],
             [
              0.2222222222222222,
              "#7201a8"
             ],
             [
              0.3333333333333333,
              "#9c179e"
             ],
             [
              0.4444444444444444,
              "#bd3786"
             ],
             [
              0.5555555555555556,
              "#d8576b"
             ],
             [
              0.6666666666666666,
              "#ed7953"
             ],
             [
              0.7777777777777778,
              "#fb9f3a"
             ],
             [
              0.8888888888888888,
              "#fdca26"
             ],
             [
              1,
              "#f0f921"
             ]
            ],
            "type": "surface"
           }
          ],
          "table": [
           {
            "cells": {
             "fill": {
              "color": "#EBF0F8"
             },
             "line": {
              "color": "white"
             }
            },
            "header": {
             "fill": {
              "color": "#C8D4E3"
             },
             "line": {
              "color": "white"
             }
            },
            "type": "table"
           }
          ]
         },
         "layout": {
          "annotationdefaults": {
           "arrowcolor": "#2a3f5f",
           "arrowhead": 0,
           "arrowwidth": 1
          },
          "coloraxis": {
           "colorbar": {
            "outlinewidth": 0,
            "ticks": ""
           }
          },
          "colorscale": {
           "diverging": [
            [
             0,
             "#8e0152"
            ],
            [
             0.1,
             "#c51b7d"
            ],
            [
             0.2,
             "#de77ae"
            ],
            [
             0.3,
             "#f1b6da"
            ],
            [
             0.4,
             "#fde0ef"
            ],
            [
             0.5,
             "#f7f7f7"
            ],
            [
             0.6,
             "#e6f5d0"
            ],
            [
             0.7,
             "#b8e186"
            ],
            [
             0.8,
             "#7fbc41"
            ],
            [
             0.9,
             "#4d9221"
            ],
            [
             1,
             "#276419"
            ]
           ],
           "sequential": [
            [
             0,
             "#0d0887"
            ],
            [
             0.1111111111111111,
             "#46039f"
            ],
            [
             0.2222222222222222,
             "#7201a8"
            ],
            [
             0.3333333333333333,
             "#9c179e"
            ],
            [
             0.4444444444444444,
             "#bd3786"
            ],
            [
             0.5555555555555556,
             "#d8576b"
            ],
            [
             0.6666666666666666,
             "#ed7953"
            ],
            [
             0.7777777777777778,
             "#fb9f3a"
            ],
            [
             0.8888888888888888,
             "#fdca26"
            ],
            [
             1,
             "#f0f921"
            ]
           ],
           "sequentialminus": [
            [
             0,
             "#0d0887"
            ],
            [
             0.1111111111111111,
             "#46039f"
            ],
            [
             0.2222222222222222,
             "#7201a8"
            ],
            [
             0.3333333333333333,
             "#9c179e"
            ],
            [
             0.4444444444444444,
             "#bd3786"
            ],
            [
             0.5555555555555556,
             "#d8576b"
            ],
            [
             0.6666666666666666,
             "#ed7953"
            ],
            [
             0.7777777777777778,
             "#fb9f3a"
            ],
            [
             0.8888888888888888,
             "#fdca26"
            ],
            [
             1,
             "#f0f921"
            ]
           ]
          },
          "colorway": [
           "#636efa",
           "#EF553B",
           "#00cc96",
           "#ab63fa",
           "#FFA15A",
           "#19d3f3",
           "#FF6692",
           "#B6E880",
           "#FF97FF",
           "#FECB52"
          ],
          "font": {
           "color": "#2a3f5f"
          },
          "geo": {
           "bgcolor": "white",
           "lakecolor": "white",
           "landcolor": "#E5ECF6",
           "showlakes": true,
           "showland": true,
           "subunitcolor": "white"
          },
          "hoverlabel": {
           "align": "left"
          },
          "hovermode": "closest",
          "mapbox": {
           "style": "light"
          },
          "paper_bgcolor": "white",
          "plot_bgcolor": "#E5ECF6",
          "polar": {
           "angularaxis": {
            "gridcolor": "white",
            "linecolor": "white",
            "ticks": ""
           },
           "bgcolor": "#E5ECF6",
           "radialaxis": {
            "gridcolor": "white",
            "linecolor": "white",
            "ticks": ""
           }
          },
          "scene": {
           "xaxis": {
            "backgroundcolor": "#E5ECF6",
            "gridcolor": "white",
            "gridwidth": 2,
            "linecolor": "white",
            "showbackground": true,
            "ticks": "",
            "zerolinecolor": "white"
           },
           "yaxis": {
            "backgroundcolor": "#E5ECF6",
            "gridcolor": "white",
            "gridwidth": 2,
            "linecolor": "white",
            "showbackground": true,
            "ticks": "",
            "zerolinecolor": "white"
           },
           "zaxis": {
            "backgroundcolor": "#E5ECF6",
            "gridcolor": "white",
            "gridwidth": 2,
            "linecolor": "white",
            "showbackground": true,
            "ticks": "",
            "zerolinecolor": "white"
           }
          },
          "shapedefaults": {
           "line": {
            "color": "#2a3f5f"
           }
          },
          "ternary": {
           "aaxis": {
            "gridcolor": "white",
            "linecolor": "white",
            "ticks": ""
           },
           "baxis": {
            "gridcolor": "white",
            "linecolor": "white",
            "ticks": ""
           },
           "bgcolor": "#E5ECF6",
           "caxis": {
            "gridcolor": "white",
            "linecolor": "white",
            "ticks": ""
           }
          },
          "title": {
           "x": 0.05
          },
          "xaxis": {
           "automargin": true,
           "gridcolor": "white",
           "linecolor": "white",
           "ticks": "",
           "title": {
            "standoff": 15
           },
           "zerolinecolor": "white",
           "zerolinewidth": 2
          },
          "yaxis": {
           "automargin": true,
           "gridcolor": "white",
           "linecolor": "white",
           "ticks": "",
           "title": {
            "standoff": 15
           },
           "zerolinecolor": "white",
           "zerolinewidth": 2
          }
         }
        },
        "title": {
         "text": "H-Clustering -Abstracts+Titles - Separated Development of fields: Docs 1990-2004 to 2017-2018 : Enhanced number of clusters  - pow 1 - thresh 0.985"
        },
        "width": 1500
       }
      },
      "text/html": [
       "<div>\n",
       "        \n",
       "        \n",
       "            <div id=\"4383038b-eccf-4667-9ba3-8c87f173beff\" class=\"plotly-graph-div\" style=\"height:900px; width:1500px;\"></div>\n",
       "            <script type=\"text/javascript\">\n",
       "                require([\"plotly\"], function(Plotly) {\n",
       "                    window.PLOTLYENV=window.PLOTLYENV || {};\n",
       "                    \n",
       "                if (document.getElementById(\"4383038b-eccf-4667-9ba3-8c87f173beff\")) {\n",
       "                    Plotly.newPlot(\n",
       "                        '4383038b-eccf-4667-9ba3-8c87f173beff',\n",
       "                        [{\"link\": {\"color\": [\"rgba(0.6640625, 0.49852552192445041015625, 0.49852552192445044353125, 0.4985255219244504)\", \"rgba(0.6640625, 0.495214375223277941015625, 0.50425, 0.49521437522327794)\", \"rgba(0.6640625, 0.49751067836500981015625, 0.56496875, 0.4975106783650098)\", \"rgba(0.6640625, 0.49813827776054671015625, 0.68640625, 0.4981382777605467)\", \"rgba(0.6640625, 0.49469181025876061015625, 0.68640625, 0.4946918102587606)\", \"rgba(0.6640625, 0.49644241730362821015625, 0.747125, 0.4964424173036282)\", \"rgba(0.6640625, 0.49379165771118121015625, 0.80784375, 0.4937916577111812)\", \"rgba(0.6640625, 0.49627816055014681015625, 0.80784375, 0.4962781605501468)\", \"rgba(0.6640625, 0.49734248378672251015625, 0.8685625, 0.4973424837867225)\", \"rgba(0.6640625, 0.4930832027846011015625, 0.9292812500000001, 0.493083202784601)\", \"rgba(0.6640625, 0.49676565799359781015625, 0.99, 0.4967656579935978)\", \"rgba(0.6640625, 0.49849563636505971015625, 0.68640625, 0.4984956363650597)\", \"rgba(0.46484375, 0.6328125, 0.24888888888888888, 0.49575290852635456)\", \"rgba(0.46484375, 0.6328125, 0.24888888888888888, 0.4931588724442906)\", \"rgba(0.46484375, 0.6328125, 0.34152777777777776, 0.4956815781993622)\", \"rgba(0.46484375, 0.6328125, 0.34152777777777776, 0.4968613432199385)\", \"rgba(0.46484375, 0.6328125, 0.49304077935292193416666666666665, 0.4930407793529219)\", \"rgba(0.46484375, 0.6328125, 0.49482782884479983416666666666665, 0.4948278288447998)\", \"rgba(0.46484375, 0.6328125, 0.5268055555555555, 0.4955758875023731)\", \"rgba(0.46484375, 0.6328125, 0.6194444444444445, 0.4926040691450682)\", \"rgba(0.46484375, 0.6328125, 0.7120833333333333, 0.4977016390452654)\", \"rgba(0.46484375, 0.6328125, 0.8047222222222221, 0.4960838307723889)\", \"rgba(0.46484375, 0.6328125, 0.897361111111111, 0.4927194125788509)\", \"rgba(0.46484375, 0.6328125, 0.99, 0.49358069424448753)\", \"rgba(0.44921875, 0.09765625, 0.109546875, 0.4934411050374189)\", \"rgba(0.44921875, 0.09765625, 0.109546875, 0.4959490158512634)\", \"rgba(0.44921875, 0.09765625, 0.207375, 0.49547289583491294)\", \"rgba(0.44921875, 0.09765625, 0.207375, 0.492820551080352)\", \"rgba(0.44921875, 0.09765625, 0.49702928772813150303125, 0.4970292877281315)\", \"rgba(0.44921875, 0.09765625, 0.500859375, 0.4944984628004488)\", \"rgba(0.44921875, 0.09765625, 0.5986875, 0.4947496560174204)\", \"rgba(0.44921875, 0.09765625, 0.5986875, 0.494646949694361)\", \"rgba(0.44921875, 0.09765625, 0.79434375, 0.4932702688744115)\", \"rgba(0.44921875, 0.09765625, 0.8921718750000001, 0.4980378649281462)\", \"rgba(0.44921875, 0.09765625, 0.99, 0.4956406525519028)\", \"rgba(0.44921875, 0.09765625, 0.109546875, 0.4994996402634581)\", \"rgba(0.06640625, 0.08984375, 0.5301388888888889, 0.4987536217104796)\", \"rgba(0.06640625, 0.08984375, 0.5876215277777778, 0.4970555804703788)\", \"rgba(0.06640625, 0.08984375, 0.6451041666666667, 0.4929316177481254)\", \"rgba(0.06640625, 0.08984375, 0.6451041666666667, 0.499373301218978)\", \"rgba(0.06640625, 0.08984375, 0.7600694444444445, 0.4961836184110106)\", \"rgba(0.06640625, 0.08984375, 0.8175520833333334, 0.4941722736990038)\", \"rgba(0.06640625, 0.08984375, 0.8175520833333334, 0.4983097785351784)\", \"rgba(0.06640625, 0.08984375, 0.8750347222222222, 0.4957884627322349)\", \"rgba(0.06640625, 0.08984375, 0.8750347222222222, 0.4954018872003434)\", \"rgba(0.06640625, 0.08984375, 0.932517361111111, 0.4928943240301389)\", \"rgba(0.06640625, 0.08984375, 0.6451041666666667, 0.4978107359024541)\", \"rgba(0.234375, 0.82421875, 0.4962315255037012976388888888889, 0.4962315255037012)\", \"rgba(0.234375, 0.82421875, 0.49864321263917613668402777777776, 0.4986432126391761)\", \"rgba(0.234375, 0.82421875, 0.37572916666666667, 0.4933604469554932)\", \"rgba(0.234375, 0.82421875, 0.37572916666666667, 0.4967437211507026)\", \"rgba(0.234375, 0.82421875, 0.3147743055555555, 0.495658970929818)\", \"rgba(0.234375, 0.82421875, 0.3147743055555555, 0.4940310719268498)\", \"rgba(0.234375, 0.82421875, 0.25381944444444443, 0.4949656972651636)\", \"rgba(0.234375, 0.82421875, 0.19286458333333334, 0.4971997906435596)\", \"rgba(0.234375, 0.82421875, 0.1319097222222222, 0.4946707840547268)\", \"rgba(0.234375, 0.82421875, 0.0709548611111111, 0.4946650541345362)\", \"rgba(0.234375, 0.82421875, 0.010000000000000009, 0.4974504739601818)\", \"rgba(0.234375, 0.82421875, 0.010000000000000009, 0.4976453011054288)\"], \"source\": [0, 1, 2, 4, 4, 5, 6, 6, 7, 8, 9, 4, 10, 10, 11, 11, 12, 12, 13, 14, 15, 16, 17, 18, 19, 19, 20, 20, 22, 23, 24, 24, 26, 27, 28, 19, 29, 30, 31, 31, 33, 34, 34, 35, 35, 36, 31, 38, 39, 40, 40, 41, 41, 42, 43, 44, 45, 46, 46], \"target\": [12, 10, 13, 11, 17, 14, 11, 12, 16, 18, 10, 27, 22, 23, 24, 27, 22, 24, 20, 28, 19, 26, 27, 25, 30, 35, 36, 37, 34, 32, 31, 34, 29, 31, 30, 39, 44, 42, 41, 46, 45, 40, 41, 38, 39, 43, 47, 55, 52, 48, 51, 47, 51, 48, 57, 56, 53, 47, 54], \"value\": [0.9970510438489008, 0.9904287504465559, 0.9950213567300196, 0.9962765555210934, 0.9893836205175212, 0.9928848346072564, 0.9875833154223624, 0.9925563211002936, 0.994684967573445, 0.986166405569202, 0.9935313159871956, 0.9969912727301194, 0.9915058170527091, 0.9863177448885811, 0.9913631563987244, 0.993722686439877, 0.9860815587058438, 0.9896556576895996, 0.9911517750047462, 0.9852081382901364, 0.9954032780905308, 0.9921676615447778, 0.9854388251577018, 0.9871613884889751, 0.9868822100748378, 0.9918980317025268, 0.9909457916698259, 0.985641102160704, 0.994058575456263, 0.9889969256008976, 0.9894993120348408, 0.989293899388722, 0.986540537748823, 0.9960757298562924, 0.9912813051038056, 0.9989992805269162, 0.9975072434209592, 0.9941111609407576, 0.9858632354962508, 0.998746602437956, 0.9923672368220212, 0.9883445473980076, 0.9966195570703568, 0.9915769254644698, 0.9908037744006868, 0.9857886480602778, 0.9956214718049082, 0.9924630510074024, 0.9972864252783522, 0.9867208939109864, 0.9934874423014052, 0.991317941859636, 0.9880621438536996, 0.9899313945303272, 0.9943995812871192, 0.9893415681094536, 0.9893301082690724, 0.9949009479203637, 0.9952906022108576]}, \"node\": {\"color\": [\"rgba(0.6640625, 0.41015625, 0.44353125, 0.8)\", \"rgba(0.6640625, 0.41015625, 0.50425, 0.8)\", \"rgba(0.6640625, 0.41015625, 0.56496875, 0.8)\", \"rgba(0.6640625, 0.41015625, 0.6256875, 0.8)\", \"rgba(0.6640625, 0.41015625, 0.68640625, 0.8)\", \"rgba(0.6640625, 0.41015625, 0.747125, 0.8)\", \"rgba(0.6640625, 0.41015625, 0.80784375, 0.8)\", \"rgba(0.6640625, 0.41015625, 0.8685625, 0.8)\", \"rgba(0.6640625, 0.41015625, 0.9292812500000001, 0.8)\", \"rgba(0.6640625, 0.41015625, 0.99, 0.8)\", \"rgba(0.46484375, 0.6328125, 0.24888888888888888, 0.8)\", \"rgba(0.46484375, 0.6328125, 0.34152777777777776, 0.8)\", \"rgba(0.46484375, 0.6328125, 0.43416666666666665, 0.8)\", \"rgba(0.46484375, 0.6328125, 0.5268055555555555, 0.8)\", \"rgba(0.46484375, 0.6328125, 0.6194444444444445, 0.8)\", \"rgba(0.46484375, 0.6328125, 0.7120833333333333, 0.8)\", \"rgba(0.46484375, 0.6328125, 0.8047222222222221, 0.8)\", \"rgba(0.46484375, 0.6328125, 0.897361111111111, 0.8)\", \"rgba(0.46484375, 0.6328125, 0.99, 0.8)\", \"rgba(0.44921875, 0.09765625, 0.109546875, 0.8)\", \"rgba(0.44921875, 0.09765625, 0.207375, 0.8)\", \"rgba(0.44921875, 0.09765625, 0.305203125, 0.8)\", \"rgba(0.44921875, 0.09765625, 0.40303125, 0.8)\", \"rgba(0.44921875, 0.09765625, 0.500859375, 0.8)\", \"rgba(0.44921875, 0.09765625, 0.5986875, 0.8)\", \"rgba(0.44921875, 0.09765625, 0.696515625, 0.8)\", \"rgba(0.44921875, 0.09765625, 0.79434375, 0.8)\", \"rgba(0.44921875, 0.09765625, 0.8921718750000001, 0.8)\", \"rgba(0.44921875, 0.09765625, 0.99, 0.8)\", \"rgba(0.06640625, 0.08984375, 0.5301388888888889, 0.8)\", \"rgba(0.06640625, 0.08984375, 0.5876215277777778, 0.8)\", \"rgba(0.06640625, 0.08984375, 0.6451041666666667, 0.8)\", \"rgba(0.06640625, 0.08984375, 0.7025868055555555, 0.8)\", \"rgba(0.06640625, 0.08984375, 0.7600694444444445, 0.8)\", \"rgba(0.06640625, 0.08984375, 0.8175520833333334, 0.8)\", \"rgba(0.06640625, 0.08984375, 0.8750347222222222, 0.8)\", \"rgba(0.06640625, 0.08984375, 0.932517361111111, 0.8)\", \"rgba(0.06640625, 0.08984375, 0.99, 0.8)\", \"rgba(0.234375, 0.82421875, 0.4976388888888889, 0.8)\", \"rgba(0.234375, 0.82421875, 0.43668402777777776, 0.8)\", \"rgba(0.234375, 0.82421875, 0.37572916666666667, 0.8)\", \"rgba(0.234375, 0.82421875, 0.3147743055555555, 0.8)\", \"rgba(0.234375, 0.82421875, 0.25381944444444443, 0.8)\", \"rgba(0.234375, 0.82421875, 0.19286458333333334, 0.8)\", \"rgba(0.234375, 0.82421875, 0.1319097222222222, 0.8)\", \"rgba(0.234375, 0.82421875, 0.0709548611111111, 0.8)\", \"rgba(0.234375, 0.82421875, 0.010000000000000009, 0.8)\", \"rgba(0.8203125, 0.80859375, 0.4451136363636364, 0.8)\", \"rgba(0.8203125, 0.80859375, 0.49960227272727276, 0.8)\", \"rgba(0.8203125, 0.80859375, 0.5540909090909091, 0.8)\", \"rgba(0.8203125, 0.80859375, 0.6085795454545455, 0.8)\", \"rgba(0.8203125, 0.80859375, 0.6630681818181818, 0.8)\", \"rgba(0.8203125, 0.80859375, 0.7175568181818182, 0.8)\", \"rgba(0.8203125, 0.80859375, 0.7720454545454545, 0.8)\", \"rgba(0.8203125, 0.80859375, 0.8265340909090909, 0.8)\", \"rgba(0.8203125, 0.80859375, 0.8810227272727273, 0.8)\", \"rgba(0.8203125, 0.80859375, 0.9355113636363637, 0.8)\", \"rgba(0.8203125, 0.80859375, 0.99, 0.8)\"], \"label\": [\"04 - ds, web, module, internet, supply_chain\", \"04 - module, fault_diagnosis, case_based_reasoning, word, equipment\", \"04 - lesion, clinical, sensitivity, disease, tumor\", \"04 - alpha, pth, omega, bsa, belief_function\", \"04 - student, cognitive_science, game, robotics, consciousness\", \"04 - soil, load, temperature, power_system, controller\", \"04 - case_based_reasoning, student, intelligent_system, knowledge_management, intelligent_agent\", \"04 - semantics, conceptual_graph, fuzzy_preference, nonmonotonic, fuzzy_set\", \"04 - S, csp, valued, unification, C\", \"04 - tabu_search, simulated_annealing, fm, optimal_solution, optimization_problem\", \"07 - case_based_reasoning, A, I, prospect_theory, S\", \"07 - robot, game, student, emotion, player\", \"07 - ontology, case_based_reasoning, product, web, service\", \"07 - patient, tcm, A, protein, herb\", \"07 - robot, gps, load, vehicle, fault\", \"07 - A, shear, A, S, concentration\", \"07 - temporal, predicate, constraint, semantics, spatial_reasoning\", \"07 - robot, aaai, vitalism, conference, isa\", \"07 - S, tilde, dictionary, q_learning, valued\", \"10 - temperature, svr, rainfall, A, forecasting\", \"10 - emotion, clinical, sensitivity, disease, gene\", \"10 - ontology, e_learning, web, student, web_directory\", \"10 - student, fault, multi_agent_system, id, vcn\", \"10 - aco, A, R, node, ant_colony\", \"10 - game, student, player, team, multi_agent_system\", \"10 - neighbor, bangla, k_nearest, alpha, nk\", \"10 - logic, reasoning, formula, S, logical\", \"10 - mind, psychology, C, cognitive_science, turing_test\", \"10 - forecasting, power_system, wind, company, stock_market\", \"13 - semantic_similarity, web, sentence, document, syntax\", \"13 - temperature, vehicle, pressure, steel, soil\", \"13 - student, creativity, emotion, argument, robotics\", \"13 - player, heuristic, poker, M, opponent\", \"13 - concentration, hydrogel, temperature, rmse, A\", \"13 - ontology, case_based_reasoning, student, multi_agent_system, platform\", \"13 - A, fault, forecasting, dga, power_system\", \"13 - breast_cancer, cancer, clinical, disease, biopsy\", \"13 - angle, movement, emotion, radar, mixed_pixel\", \"16 - P, fault_diagnosis, electroencephalogram, forecasting, power_system\", \"16 - temperature, soil, pm, svr, A\", \"16 - M, computer_game, multi_agent_system, league, cognitive_radio\", \"16 - ontology, argumentation, enterprise, xml, semantics\", \"16 - electricity_market, vehicle, wind_power, forecasting, photovoltaic\", \"16 - zakat, breast_cancer, cancer, cervical_cancer, ad\", \"16 - sentence, arabic, machine_translation, ontology, taxonomy\", \"16 - ion, biosorption, crt, k_mean, amikacin\", \"16 - emotion, education, cognitive_science, course, ethical\", \"18 - teaching, business, ontology, social, health_care\", \"18 - city, accident, U, dg, mobile_robot\", \"18 - emotion, sentence, music, ontology, news\", \"18 - tracker, memristor, voltage, synapse, fpga\", \"18 - plan, price, video_game, rts_game, serious_game\", \"18 - A, rmse, fault, wind_speed, svr\", \"18 - adsorption, removal, mg, adsorbent, aqueous\", \"18 - social, business, ethic, economy, ethical\", \"18 - fault, P, auc, A, elm\", \"18 - argument, answer_set, semantics, abduction, argumentation\", \"18 - tumor, cancer, diabetic_retinopathy, lesion, therapy\"], \"line\": {\"color\": \"black\", \"width\": 0}, \"pad\": 15, \"thickness\": 10}, \"type\": \"sankey\"}],\n",
       "                        {\"autosize\": false, \"font\": {\"size\": 11}, \"height\": 900, \"template\": {\"data\": {\"bar\": [{\"error_x\": {\"color\": \"#2a3f5f\"}, \"error_y\": {\"color\": \"#2a3f5f\"}, \"marker\": {\"line\": {\"color\": \"#E5ECF6\", \"width\": 0.5}}, \"type\": \"bar\"}], \"barpolar\": [{\"marker\": {\"line\": {\"color\": \"#E5ECF6\", \"width\": 0.5}}, \"type\": \"barpolar\"}], \"carpet\": [{\"aaxis\": {\"endlinecolor\": \"#2a3f5f\", \"gridcolor\": \"white\", \"linecolor\": \"white\", \"minorgridcolor\": \"white\", \"startlinecolor\": \"#2a3f5f\"}, \"baxis\": {\"endlinecolor\": \"#2a3f5f\", \"gridcolor\": \"white\", \"linecolor\": \"white\", \"minorgridcolor\": \"white\", \"startlinecolor\": \"#2a3f5f\"}, \"type\": \"carpet\"}], \"choropleth\": [{\"colorbar\": {\"outlinewidth\": 0, \"ticks\": \"\"}, \"type\": \"choropleth\"}], \"contour\": [{\"colorbar\": {\"outlinewidth\": 0, \"ticks\": \"\"}, \"colorscale\": [[0.0, \"#0d0887\"], [0.1111111111111111, \"#46039f\"], [0.2222222222222222, \"#7201a8\"], [0.3333333333333333, \"#9c179e\"], [0.4444444444444444, \"#bd3786\"], [0.5555555555555556, \"#d8576b\"], [0.6666666666666666, \"#ed7953\"], [0.7777777777777778, \"#fb9f3a\"], [0.8888888888888888, \"#fdca26\"], [1.0, \"#f0f921\"]], \"type\": \"contour\"}], \"contourcarpet\": [{\"colorbar\": {\"outlinewidth\": 0, \"ticks\": \"\"}, \"type\": \"contourcarpet\"}], \"heatmap\": [{\"colorbar\": {\"outlinewidth\": 0, \"ticks\": \"\"}, \"colorscale\": [[0.0, \"#0d0887\"], [0.1111111111111111, \"#46039f\"], [0.2222222222222222, \"#7201a8\"], [0.3333333333333333, \"#9c179e\"], [0.4444444444444444, \"#bd3786\"], [0.5555555555555556, \"#d8576b\"], [0.6666666666666666, \"#ed7953\"], [0.7777777777777778, \"#fb9f3a\"], [0.8888888888888888, \"#fdca26\"], [1.0, \"#f0f921\"]], \"type\": \"heatmap\"}], \"heatmapgl\": [{\"colorbar\": {\"outlinewidth\": 0, \"ticks\": \"\"}, \"colorscale\": [[0.0, \"#0d0887\"], [0.1111111111111111, \"#46039f\"], [0.2222222222222222, \"#7201a8\"], [0.3333333333333333, \"#9c179e\"], [0.4444444444444444, \"#bd3786\"], [0.5555555555555556, \"#d8576b\"], [0.6666666666666666, \"#ed7953\"], [0.7777777777777778, \"#fb9f3a\"], [0.8888888888888888, \"#fdca26\"], [1.0, \"#f0f921\"]], \"type\": \"heatmapgl\"}], \"histogram\": [{\"marker\": {\"colorbar\": {\"outlinewidth\": 0, \"ticks\": \"\"}}, \"type\": \"histogram\"}], \"histogram2d\": [{\"colorbar\": {\"outlinewidth\": 0, \"ticks\": \"\"}, \"colorscale\": [[0.0, \"#0d0887\"], [0.1111111111111111, \"#46039f\"], [0.2222222222222222, \"#7201a8\"], [0.3333333333333333, \"#9c179e\"], [0.4444444444444444, \"#bd3786\"], [0.5555555555555556, \"#d8576b\"], [0.6666666666666666, \"#ed7953\"], [0.7777777777777778, \"#fb9f3a\"], [0.8888888888888888, \"#fdca26\"], [1.0, \"#f0f921\"]], \"type\": \"histogram2d\"}], \"histogram2dcontour\": [{\"colorbar\": {\"outlinewidth\": 0, \"ticks\": \"\"}, \"colorscale\": [[0.0, \"#0d0887\"], [0.1111111111111111, \"#46039f\"], [0.2222222222222222, \"#7201a8\"], [0.3333333333333333, \"#9c179e\"], [0.4444444444444444, \"#bd3786\"], [0.5555555555555556, \"#d8576b\"], [0.6666666666666666, \"#ed7953\"], [0.7777777777777778, \"#fb9f3a\"], [0.8888888888888888, \"#fdca26\"], [1.0, \"#f0f921\"]], \"type\": \"histogram2dcontour\"}], \"mesh3d\": [{\"colorbar\": {\"outlinewidth\": 0, \"ticks\": \"\"}, \"type\": \"mesh3d\"}], \"parcoords\": [{\"line\": {\"colorbar\": {\"outlinewidth\": 0, \"ticks\": \"\"}}, \"type\": \"parcoords\"}], \"pie\": [{\"automargin\": true, \"type\": \"pie\"}], \"scatter\": [{\"marker\": {\"colorbar\": {\"outlinewidth\": 0, \"ticks\": \"\"}}, \"type\": \"scatter\"}], \"scatter3d\": [{\"line\": {\"colorbar\": {\"outlinewidth\": 0, \"ticks\": \"\"}}, \"marker\": {\"colorbar\": {\"outlinewidth\": 0, \"ticks\": \"\"}}, \"type\": \"scatter3d\"}], \"scattercarpet\": [{\"marker\": {\"colorbar\": {\"outlinewidth\": 0, \"ticks\": \"\"}}, \"type\": \"scattercarpet\"}], \"scattergeo\": [{\"marker\": {\"colorbar\": {\"outlinewidth\": 0, \"ticks\": \"\"}}, \"type\": \"scattergeo\"}], \"scattergl\": [{\"marker\": {\"colorbar\": {\"outlinewidth\": 0, \"ticks\": \"\"}}, \"type\": \"scattergl\"}], \"scattermapbox\": [{\"marker\": {\"colorbar\": {\"outlinewidth\": 0, \"ticks\": \"\"}}, \"type\": \"scattermapbox\"}], \"scatterpolar\": [{\"marker\": {\"colorbar\": {\"outlinewidth\": 0, \"ticks\": \"\"}}, \"type\": \"scatterpolar\"}], \"scatterpolargl\": [{\"marker\": {\"colorbar\": {\"outlinewidth\": 0, \"ticks\": \"\"}}, \"type\": \"scatterpolargl\"}], \"scatterternary\": [{\"marker\": {\"colorbar\": {\"outlinewidth\": 0, \"ticks\": \"\"}}, \"type\": \"scatterternary\"}], \"surface\": [{\"colorbar\": {\"outlinewidth\": 0, \"ticks\": \"\"}, \"colorscale\": [[0.0, \"#0d0887\"], [0.1111111111111111, \"#46039f\"], [0.2222222222222222, \"#7201a8\"], [0.3333333333333333, \"#9c179e\"], [0.4444444444444444, \"#bd3786\"], [0.5555555555555556, \"#d8576b\"], [0.6666666666666666, \"#ed7953\"], [0.7777777777777778, \"#fb9f3a\"], [0.8888888888888888, \"#fdca26\"], [1.0, \"#f0f921\"]], \"type\": \"surface\"}], \"table\": [{\"cells\": {\"fill\": {\"color\": \"#EBF0F8\"}, \"line\": {\"color\": \"white\"}}, \"header\": {\"fill\": {\"color\": \"#C8D4E3\"}, \"line\": {\"color\": \"white\"}}, \"type\": \"table\"}]}, \"layout\": {\"annotationdefaults\": {\"arrowcolor\": \"#2a3f5f\", \"arrowhead\": 0, \"arrowwidth\": 1}, \"coloraxis\": {\"colorbar\": {\"outlinewidth\": 0, \"ticks\": \"\"}}, \"colorscale\": {\"diverging\": [[0, \"#8e0152\"], [0.1, \"#c51b7d\"], [0.2, \"#de77ae\"], [0.3, \"#f1b6da\"], [0.4, \"#fde0ef\"], [0.5, \"#f7f7f7\"], [0.6, \"#e6f5d0\"], [0.7, \"#b8e186\"], [0.8, \"#7fbc41\"], [0.9, \"#4d9221\"], [1, \"#276419\"]], \"sequential\": [[0.0, \"#0d0887\"], [0.1111111111111111, \"#46039f\"], [0.2222222222222222, \"#7201a8\"], [0.3333333333333333, \"#9c179e\"], [0.4444444444444444, \"#bd3786\"], [0.5555555555555556, \"#d8576b\"], [0.6666666666666666, \"#ed7953\"], [0.7777777777777778, \"#fb9f3a\"], [0.8888888888888888, \"#fdca26\"], [1.0, \"#f0f921\"]], \"sequentialminus\": [[0.0, \"#0d0887\"], [0.1111111111111111, \"#46039f\"], [0.2222222222222222, \"#7201a8\"], [0.3333333333333333, \"#9c179e\"], [0.4444444444444444, \"#bd3786\"], [0.5555555555555556, \"#d8576b\"], [0.6666666666666666, \"#ed7953\"], [0.7777777777777778, \"#fb9f3a\"], [0.8888888888888888, \"#fdca26\"], [1.0, \"#f0f921\"]]}, \"colorway\": [\"#636efa\", \"#EF553B\", \"#00cc96\", \"#ab63fa\", \"#FFA15A\", \"#19d3f3\", \"#FF6692\", \"#B6E880\", \"#FF97FF\", \"#FECB52\"], \"font\": {\"color\": \"#2a3f5f\"}, \"geo\": {\"bgcolor\": \"white\", \"lakecolor\": \"white\", \"landcolor\": \"#E5ECF6\", \"showlakes\": true, \"showland\": true, \"subunitcolor\": \"white\"}, \"hoverlabel\": {\"align\": \"left\"}, \"hovermode\": \"closest\", \"mapbox\": {\"style\": \"light\"}, \"paper_bgcolor\": \"white\", \"plot_bgcolor\": \"#E5ECF6\", \"polar\": {\"angularaxis\": {\"gridcolor\": \"white\", \"linecolor\": \"white\", \"ticks\": \"\"}, \"bgcolor\": \"#E5ECF6\", \"radialaxis\": {\"gridcolor\": \"white\", \"linecolor\": \"white\", \"ticks\": \"\"}}, \"scene\": {\"xaxis\": {\"backgroundcolor\": \"#E5ECF6\", \"gridcolor\": \"white\", \"gridwidth\": 2, \"linecolor\": \"white\", \"showbackground\": true, \"ticks\": \"\", \"zerolinecolor\": \"white\"}, \"yaxis\": {\"backgroundcolor\": \"#E5ECF6\", \"gridcolor\": \"white\", \"gridwidth\": 2, \"linecolor\": \"white\", \"showbackground\": true, \"ticks\": \"\", \"zerolinecolor\": \"white\"}, \"zaxis\": {\"backgroundcolor\": \"#E5ECF6\", \"gridcolor\": \"white\", \"gridwidth\": 2, \"linecolor\": \"white\", \"showbackground\": true, \"ticks\": \"\", \"zerolinecolor\": \"white\"}}, \"shapedefaults\": {\"line\": {\"color\": \"#2a3f5f\"}}, \"ternary\": {\"aaxis\": {\"gridcolor\": \"white\", \"linecolor\": \"white\", \"ticks\": \"\"}, \"baxis\": {\"gridcolor\": \"white\", \"linecolor\": \"white\", \"ticks\": \"\"}, \"bgcolor\": \"#E5ECF6\", \"caxis\": {\"gridcolor\": \"white\", \"linecolor\": \"white\", \"ticks\": \"\"}}, \"title\": {\"x\": 0.05}, \"xaxis\": {\"automargin\": true, \"gridcolor\": \"white\", \"linecolor\": \"white\", \"ticks\": \"\", \"title\": {\"standoff\": 15}, \"zerolinecolor\": \"white\", \"zerolinewidth\": 2}, \"yaxis\": {\"automargin\": true, \"gridcolor\": \"white\", \"linecolor\": \"white\", \"ticks\": \"\", \"title\": {\"standoff\": 15}, \"zerolinecolor\": \"white\", \"zerolinewidth\": 2}}}, \"title\": {\"text\": \"H-Clustering -Abstracts+Titles - Separated Development of fields: Docs 1990-2004 to 2017-2018 : Enhanced number of clusters  - pow 1 - thresh 0.985\"}, \"width\": 1500},\n",
       "                        {\"responsive\": true}\n",
       "                    ).then(function(){\n",
       "                            \n",
       "var gd = document.getElementById('4383038b-eccf-4667-9ba3-8c87f173beff');\n",
       "var x = new MutationObserver(function (mutations, observer) {{\n",
       "        var display = window.getComputedStyle(gd).display;\n",
       "        if (!display || display === 'none') {{\n",
       "            console.log([gd, 'removed!']);\n",
       "            Plotly.purge(gd);\n",
       "            observer.disconnect();\n",
       "        }}\n",
       "}});\n",
       "\n",
       "// Listen for the removal of the full notebook cells\n",
       "var notebookContainer = gd.closest('#notebook-container');\n",
       "if (notebookContainer) {{\n",
       "    x.observe(notebookContainer, {childList: true});\n",
       "}}\n",
       "\n",
       "// Listen for the clearing of the current output cell\n",
       "var outputEl = gd.closest('.output');\n",
       "if (outputEl) {{\n",
       "    x.observe(outputEl, {childList: true});\n",
       "}}\n",
       "\n",
       "                        })\n",
       "                };\n",
       "                });\n",
       "            </script>\n",
       "        </div>"
      ]
     },
     "metadata": {},
     "output_type": "display_data"
    }
   ],
   "source": [
    "fig = go.Figure(data=[go.Sankey(\n",
    "    node = dict(\n",
    "      pad = 15,\n",
    "      thickness = 10,\n",
    "      line = dict(color = \"black\", width = 0),\n",
    "      label = labels_all_new,\n",
    "      color = colors_all #\"blue\"\n",
    "    ),\n",
    "    link = dict(\n",
    "      source = similarity_source,# 1, 0, 2, 3, 3], # indices correspond to labels, eg A1, A2, A2, B1, ...\n",
    "      target = similarity_target,# 3, 3, 4, 4, 5],\n",
    "      value = similarity_value,# 4, 2, 8, 4, 2],\n",
    "      color = final_colors_links #\"grey\"\n",
    "  ))])\n",
    "\n",
    "fig.update_layout(title_text=\"H-Clustering -\"+data_type+\" Development of fields: Docs 1990-2004 to \"+last_period_start+\"-2018 : Enhanced number of clusters  - pow \"+str(power)+\" - thresh \"+str(link_strength_threshold), font_size=11)\n",
    "fig.update_layout(\n",
    "    autosize=False,\n",
    "    width=1500,\n",
    "    height=900)\n",
    "fig.show()"
   ]
  },
  {
   "cell_type": "code",
   "execution_count": null,
   "metadata": {},
   "outputs": [],
   "source": []
  },
  {
   "cell_type": "code",
   "execution_count": null,
   "metadata": {},
   "outputs": [],
   "source": []
  }
 ],
 "metadata": {
  "kernelspec": {
   "display_name": "Python 3",
   "language": "python",
   "name": "python3"
  },
  "language_info": {
   "codemirror_mode": {
    "name": "ipython",
    "version": 3
   },
   "file_extension": ".py",
   "mimetype": "text/x-python",
   "name": "python",
   "nbconvert_exporter": "python",
   "pygments_lexer": "ipython3",
   "version": "3.7.7"
  }
 },
 "nbformat": 4,
 "nbformat_minor": 2
}
