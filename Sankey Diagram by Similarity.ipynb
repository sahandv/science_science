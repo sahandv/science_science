{
 "cells": [
  {
   "cell_type": "markdown",
   "metadata": {},
   "source": [
    "# Sankey Diagram by Similarity Scores\n"
   ]
  },
  {
   "cell_type": "markdown",
   "metadata": {},
   "source": [
    "### Import Libs"
   ]
  },
  {
   "cell_type": "code",
   "execution_count": 1,
   "metadata": {},
   "outputs": [],
   "source": [
    "import plotly.graph_objects as go\n",
    "from skimage import io\n",
    "import urllib, json\n",
    "import pandas as pd\n",
    "import numpy as np\n",
    "from sciosci.assets import advanced_assets as aa\n",
    "from tqdm import tqdm\n",
    "import re"
   ]
  },
  {
   "cell_type": "markdown",
   "metadata": {},
   "source": [
    "### Initialize"
   ]
  },
  {
   "cell_type": "code",
   "execution_count": 37,
   "metadata": {},
   "outputs": [],
   "source": [
    "random_link_colors = False\n",
    "multi_year_similarity = True\n",
    "\n",
    "comment = ''\n",
    "clustering_method = 'agglomerative ward '\n",
    "link_strength_threshold = 0.41\n",
    "link_strength_threshold_2 = 0.45\n",
    "power = 16 # value power for increasing the differences "
   ]
  },
  {
   "cell_type": "markdown",
   "metadata": {},
   "source": [
    "#### Separated years\n",
    "\n",
    "Data N/A"
   ]
  },
  {
   "cell_type": "code",
   "execution_count": null,
   "metadata": {},
   "outputs": [],
   "source": [
    "last_period_start = \"2017\"\n",
    "data_type = \"Author Keywords - Separated\"\n",
    "year_periods_topics = [\"7\",\"9\",\"9\",\"9\",\"9\",\"9\"]  \n",
    "# Sorted periods' topic numbers from new to old from left to right\n",
    "year_periods = [\"1990-2004\",\"2005-2007\",\"2008-2010\",\"2011-2013\",\"2014-2016\",\"2017-2018\"] \n",
    "# Sorted year periods from new to old from left to right\n",
    "data_directory = 'data/clusters/FastText/15D/10 dim/'"
   ]
  },
  {
   "cell_type": "markdown",
   "metadata": {},
   "source": [
    "#### cumulative years"
   ]
  },
  {
   "cell_type": "code",
   "execution_count": 3,
   "metadata": {},
   "outputs": [],
   "source": [
    "last_period_start = \"1990\"\n",
    "data_type = \"Author Keywords - Cumulative\"\n",
    "year_periods_topics = [\"7\",\"8\",\"10\",\"10\",\"10\",\"11\"]  \n",
    "# Sorted periods' topic numbers from new to old from left to right\n",
    "year_periods = [\"1990-2004\",\"1990-2007\",\"1990-2010\",\"1990-2013\",\"1990-2016\",\"1990-2018\"] \n",
    "# Sorted year periods from new to old from left to right\n",
    "data_directory = 'data/clusters/FastText/15D/10 dim/'"
   ]
  },
  {
   "cell_type": "markdown",
   "metadata": {},
   "source": [
    "#### cumulative documents\n",
    "\n",
    "Data N/A "
   ]
  },
  {
   "cell_type": "code",
   "execution_count": null,
   "metadata": {},
   "outputs": [],
   "source": [
    "last_period_start = \"1990\"\n",
    "data_type = \"Abstracts+Titles - Cumulative\"\n",
    "year_periods_topics = [\"9\",\"10\",\"11\",\"14\",\"15\",\"15\"]  \n",
    "# Sorted periods' topic numbers from new to old from left to right\n",
    "year_periods = [\"1990-2004\",\"1990-2007\",\"1990-2010\",\"1990-2013\",\"1990-2016\",\"1990-2018\"] \n",
    "# Sorted year periods from new to old from left to right\n",
    "data_directory = 'data/clusters/FastText/50D/'"
   ]
  },
  {
   "cell_type": "markdown",
   "metadata": {},
   "source": [
    "### Read & Prepare Data"
   ]
  },
  {
   "cell_type": "markdown",
   "metadata": {},
   "source": [
    "Generate nodes and links"
   ]
  },
  {
   "cell_type": "code",
   "execution_count": 28,
   "metadata": {},
   "outputs": [
    {
     "name": "stdout",
     "output_type": "stream",
     "text": [
      "Node colors are:\n"
     ]
    },
    {
     "data": {
      "image/png": "[encoded data removed]",
      "text/plain": [
       "<Figure size 432x288 with 1 Axes>"
      ]
     },
     "metadata": {
      "needs_background": "light"
     },
     "output_type": "display_data"
    }
   ],
   "source": [
    "node_colors_palette = aa.color_palette_maker(len(year_periods_topics),alpha=0.8)\n",
    "node_colors = ['rgba('+str(x).replace('[','').replace(']','')+')' for x in node_colors_palette]\n",
    "link_colors = [x[:-4]+'0.4)' for x in node_colors]\n",
    "node_colors_palette = np.array([node_colors_palette])\n",
    "print(\"Node colors are:\")\n",
    "io.imshow(np.delete(node_colors_palette,3,1))\n",
    "labels_numeric_dict = {per:[] for per in year_periods}\n"
   ]
  },
  {
   "cell_type": "code",
   "execution_count": 29,
   "metadata": {},
   "outputs": [],
   "source": [
    "def color_alternator(rgba_colors,up_thresh = 0.8, down_thresh = 0.2, color_part = 2):\n",
    "    new_colors = []\n",
    "    color_s = rgba_colors[0].split(', ')\n",
    "    cell = float(rgba_colors[0].split(', ')[color_part])\n",
    "    if cell > 0.5:\n",
    "        portion = (cell-down_thresh)/len(rgba_colors)\n",
    "    else:\n",
    "        portion = (up_thresh-cell)/len(rgba_colors)\n",
    "\n",
    "    for idx,color in enumerate(topic_colors):\n",
    "        if cell > 0.5:\n",
    "            new_cell = cell-(idx+1)*portion\n",
    "        else:\n",
    "            new_cell = cell+(idx+1)*portion\n",
    "\n",
    "        color_s[color_part] = str(new_cell)\n",
    "        new_colors.append(', '.join(color_s))\n",
    "    return new_colors"
   ]
  },
  {
   "cell_type": "markdown",
   "metadata": {},
   "source": [
    "### Process"
   ]
  },
  {
   "cell_type": "markdown",
   "metadata": {},
   "source": [
    "#### Multi year similarity"
   ]
  },
  {
   "cell_type": "code",
   "execution_count": 31,
   "metadata": {},
   "outputs": [
    {
     "data": {
      "text/plain": [
       "[[0, 1, 2, 3, 4, 5, 6],\n",
       " [7, 8, 9, 10, 11, 12, 13, 14],\n",
       " [15, 16, 17, 18, 19, 20, 21, 22, 23, 24],\n",
       " [25, 26, 27, 28, 29, 30, 31, 32, 33, 34],\n",
       " [35, 36, 37, 38, 39, 40, 41, 42, 43, 44],\n",
       " [45, 46, 47, 48, 49, 50, 51, 52, 53, 54, 55]]"
      ]
     },
     "execution_count": 31,
     "metadata": {},
     "output_type": "execute_result"
    }
   ],
   "source": [
    "# Give unique ID to all clusters\n",
    "total = 0\n",
    "cluster_ids = []\n",
    "for period_index, period in enumerate(year_periods):\n",
    "    cluster_ids.append(list(range(total,int(year_periods_topics[period_index])+total)))\n",
    "    total = total + int(year_periods_topics[period_index])\n",
    "cluster_ids"
   ]
  },
  {
   "cell_type": "code",
   "execution_count": 38,
   "metadata": {},
   "outputs": [
    {
     "name": "stderr",
     "output_type": "stream",
     "text": [
      "100%|██████████| 7/7 [00:00<00:00, 3448.45it/s]\n",
      "100%|██████████| 8/8 [00:00<00:00, 2968.11it/s]\n",
      "100%|██████████| 10/10 [00:00<00:00, 2259.86it/s]\n",
      "100%|██████████| 10/10 [00:00<00:00, 5114.38it/s]\n",
      "100%|██████████| 10/10 [00:00<00:00, 4947.28it/s]\n",
      "100%|██████████| 11/11 [00:00<00:00, 4251.11it/s]"
     ]
    },
    {
     "name": "stdout",
     "output_type": "stream",
     "text": [
      "1990-2004 7 0\n",
      "1990-2007 8 7\n",
      "1990-2010 10 15\n",
      "1990-2013 10 25\n",
      "1990-2016 10 35\n",
      "1990-2018 11 45\n"
     ]
    },
    {
     "name": "stderr",
     "output_type": "stream",
     "text": [
      "\n"
     ]
    }
   ],
   "source": [
    "labels_all = []\n",
    "labels_all_numeric = []\n",
    "labels_all_numeric_sequential = []\n",
    "colors_all = []\n",
    "colors_all_links = []\n",
    "\n",
    "similarity_source = []\n",
    "similarity_target = []\n",
    "similarity_value = []\n",
    "\n",
    "if multi_year_similarity is True:\n",
    "    for period_index, period in enumerate(year_periods):\n",
    "        print(period,year_periods_topics[period_index],cluster_ids[period_index][0])\n",
    "\n",
    "        terms = pd.read_csv(data_directory+'term_cluster-tables/'+clustering_method+period+\" \"+year_periods_topics[period_index]+\" - term_cluster.csv\").fillna('')\n",
    "        scores = pd.read_csv(data_directory+'term_cluster-tables/'+clustering_method+period+\" \"+year_periods_topics[period_index]+\" - term_score.csv\").fillna(0)\n",
    "    \n",
    "        \n",
    "        labels_this_period = aa.topic_label_maker(terms,scores,ratio=2.5,\n",
    "                                                  prefix=period.split('-')[1][-2:]+' - ',limit=5)\n",
    "        labels_all = labels_all + labels_this_period\n",
    "        labels_all_numeric = labels_all_numeric + [str(x) for x in list(range(0,len(labels_this_period)))]\n",
    "        \n",
    "        topic_colors = [node_colors[period_index]] * len(labels_this_period)\n",
    "        topic_colors = color_alternator(topic_colors,up_thresh = 0.99, down_thresh = 0.01, color_part = 2)\n",
    "        colors_all = colors_all + topic_colors\n",
    "        \n",
    "        topic_link_colors = [link_colors[period_index]] * len(labels_this_period)\n",
    "        topic_link_colors = color_alternator(topic_link_colors,up_thresh = 0.99, down_thresh = 0.01, color_part = 2)\n",
    "        colors_all_links = colors_all_links + topic_link_colors\n",
    "        \n",
    "    #    similarity_scores = None\n",
    "        if period_index < len(year_periods) - 1:\n",
    "            similarity_scores = pd.read_csv(data_directory+'similarity/'+clustering_method+year_periods[period_index]+\"_\"+year_periods_topics[period_index]+\"-\"+year_periods[period_index+1]+\"_\"+year_periods_topics[period_index+1]+\".csv\")\n",
    "    #        terms_previous_period = pd.read_csv(data_directory+\"cumulative/\"+year_periods[period_index+1]+\"_\"+year_periods_topics[period_index+1]+\"/top_99-percentile_keywords_terms-spaced.csv\")\n",
    "\n",
    "            # flatten the similarity scores\n",
    "            for period_cluster_no,row in similarity_scores.iterrows(): # repeat to n_clusters of A\n",
    "\n",
    "                elem_num = len(row.values.tolist()) # number of columns in similarity file\n",
    "                for idx in range(1,elem_num,2):     # repeat to n_clusters of B\n",
    "                    if row.values.tolist()[idx+1]**power > link_strength_threshold:\n",
    "                        similarity_source.append(int(row.values.tolist()[0]) + cluster_ids[period_index][0])\n",
    "                        similarity_target.append(int(row.values.tolist()[idx]) + cluster_ids[period_index+1][0])\n",
    "                        similarity_value.append(row.values.tolist()[idx+1]**power)\n",
    "                \n",
    "        if period_index < len(year_periods) - 2:\n",
    "            try:\n",
    "                similarity_scores = pd.read_csv(data_directory+'similarity/'+clustering_method+year_periods[period_index]+\"_\"+year_periods_topics[period_index]+\"-\"+year_periods[period_index+2]+\"_\"+year_periods_topics[period_index+2]+\".csv\")\n",
    "    #        terms_previous_period = pd.read_csv(data_directory+\"cumulative/\"+year_periods[period_index+1]+\"_\"+year_periods_topics[period_index+1]+\"/top_99-percentile_keywords_terms-spaced.csv\")\n",
    "            except:\n",
    "                print(\"\\nThere is no similarity record at \",data_directory+'similarity/'+clustering_method+year_periods[period_index]+\"_\"+year_periods_topics[period_index]+\"-\"+year_periods[period_index+2]+\"_\"+year_periods_topics[period_index+2]+\".csv\")\n",
    "                similarity_scores = None\n",
    "                continue\n",
    "                \n",
    "            for period_cluster_no,row in similarity_scores.iterrows(): # repeat to n_clusters of A\n",
    "\n",
    "                elem_num = len(row.values.tolist()) # number of columns in similarity file\n",
    "                for idx in range(1,elem_num,2):     # repeat to n_clusters of B\n",
    "                    if row.values.tolist()[idx+1]**power > link_strength_threshold_2:\n",
    "                        similarity_source.append(int(row.values.tolist()[0]) + cluster_ids[period_index][0])\n",
    "                        similarity_target.append(int(row.values.tolist()[idx]) + cluster_ids[period_index+2][0])\n",
    "                        similarity_value.append(row.values.tolist()[idx+1]**power)\n",
    "                \n",
    "                \n",
    "    labels_all_numeric_sequential = [str(x) for x in list(range(0,len(labels_all_numeric)))]"
   ]
  },
  {
   "cell_type": "markdown",
   "metadata": {},
   "source": [
    "### Draw"
   ]
  },
  {
   "cell_type": "markdown",
   "metadata": {},
   "source": [
    "#### Prepare links"
   ]
  },
  {
   "cell_type": "markdown",
   "metadata": {},
   "source": [
    "* For clustered colors:"
   ]
  },
  {
   "cell_type": "code",
   "execution_count": 39,
   "metadata": {},
   "outputs": [
    {
     "name": "stderr",
     "output_type": "stream",
     "text": [
      "100%|██████████| 151/151 [00:00<00:00, 75397.61it/s]\n"
     ]
    }
   ],
   "source": [
    "if random_link_colors is False:\n",
    "    final_colors_links = [colors_all_links[x] for x in similarity_source] # in similarity_source]\n",
    "    final_color_links_varied = []\n",
    "    for i,value in tqdm(enumerate(similarity_value),total=len(similarity_value)):\n",
    "        final_color_links_varied.append(final_colors_links[i].replace(', 0.4',', '+str(value/2)))\n",
    "#         print(final_color_links_varied[i])\n",
    "    final_colors_links = final_color_links_varied"
   ]
  },
  {
   "cell_type": "markdown",
   "metadata": {},
   "source": [
    "* For random colors:"
   ]
  },
  {
   "cell_type": "code",
   "execution_count": 34,
   "metadata": {},
   "outputs": [],
   "source": [
    "if random_link_colors is True:\n",
    "    final_colors_links = ['rgba('+str(x).replace('[','').replace(']','')+')' for x in aa.color_palette_maker(len(similarity_target),alpha=0.3)]"
   ]
  },
  {
   "cell_type": "markdown",
   "metadata": {},
   "source": [
    "#### Prepare labels"
   ]
  },
  {
   "cell_type": "code",
   "execution_count": 40,
   "metadata": {},
   "outputs": [
    {
     "name": "stderr",
     "output_type": "stream",
     "text": [
      "100%|██████████| 56/56 [00:00<00:00, 74731.47it/s]\n"
     ]
    }
   ],
   "source": [
    "labels_all_new = []\n",
    "for label in tqdm(labels_all):\n",
    "    label_to_split = label.split('- ')\n",
    "    label_split = label_to_split[1].split(', ')\n",
    "    label_split_new = []\n",
    "    for split in label_split:\n",
    "        if len(split)>20:\n",
    "            label_split_new.append(aa.abbreviator(split))\n",
    "        else:\n",
    "            label_split_new.append(split)\n",
    "    labels_all_new.append(label_to_split[0]+'- '+', '.join(label_split_new))"
   ]
  },
  {
   "cell_type": "markdown",
   "metadata": {},
   "source": [
    "#### Draw"
   ]
  },
  {
   "cell_type": "code",
   "execution_count": 41,
   "metadata": {},
   "outputs": [
    {
     "data": {
      "application/vnd.plotly.v1+json": {
       "config": {
        "plotlyServerURL": "https://plot.ly"
       },
       "data": [
        {
         "link": {
          "color": [
           "rgba(0.05078125, 0.86328125, 0.2854017857142857, 0.43565954775010557)",
           "rgba(0.05078125, 0.86328125, 0.33385456219796145028348214285714, 0.33385456219796145)",
           "rgba(0.05078125, 0.86328125, 0.3694817368208146028348214285714, 0.3694817368208146)",
           "rgba(0.05078125, 0.86328125, 0.5202678571428572, 0.2641209360131893)",
           "rgba(0.05078125, 0.86328125, 0.5202678571428572, 0.34169623705955937)",
           "rgba(0.05078125, 0.86328125, 0.6377008928571428, 0.3691110665793034)",
           "rgba(0.05078125, 0.86328125, 0.6377008928571428, 0.20604661312148032)",
           "rgba(0.05078125, 0.86328125, 0.6377008928571428, 0.2695613966234613)",
           "rgba(0.05078125, 0.86328125, 0.7551339285714286, 0.2500156249396045)",
           "rgba(0.05078125, 0.86328125, 0.7551339285714286, 0.4773207966788722)",
           "rgba(0.05078125, 0.86328125, 0.8725669642857143, 0.4062120891254074)",
           "rgba(0.05078125, 0.86328125, 0.8725669642857143, 0.24748549433191094)",
           "rgba(0.05078125, 0.86328125, 0.99, 0.26844061912308004)",
           "rgba(0.05078125, 0.86328125, 0.2854017857142857, 0.4120479416373715)",
           "rgba(0.05078125, 0.86328125, 0.2854017857142857, 0.3753209561796367)",
           "rgba(0.05078125, 0.86328125, 0.2854017857142857, 0.2339523757126105)",
           "rgba(0.05078125, 0.86328125, 0.34763741108345936028348214285714, 0.34763741108345936)",
           "rgba(0.05078125, 0.86328125, 0.40503912116746427028348214285714, 0.40503912116746427)",
           "rgba(0.05078125, 0.86328125, 0.23146633734005823028348214285714, 0.23146633734005823)",
           "rgba(0.05078125, 0.86328125, 0.5202678571428572, 0.36106682433127024)",
           "rgba(0.05078125, 0.86328125, 0.5202678571428572, 0.4206981874673008)",
           "rgba(0.05078125, 0.86328125, 0.6377008928571428, 0.3336755664189079)",
           "rgba(0.05078125, 0.86328125, 0.6377008928571428, 0.2644974340290203)",
           "rgba(0.05078125, 0.86328125, 0.6377008928571428, 0.28852900957679434)",
           "rgba(0.05078125, 0.86328125, 0.7551339285714286, 0.3413108834940826)",
           "rgba(0.05078125, 0.86328125, 0.7551339285714286, 0.3200502887741015)",
           "rgba(0.05078125, 0.86328125, 0.8725669642857143, 0.450159699693632)",
           "rgba(0.05078125, 0.86328125, 0.99, 0.2972476004056681)",
           "rgba(0.9140625, 0.7109375, 0.59255859375, 0.3098194528140358)",
           "rgba(0.9140625, 0.7109375, 0.59255859375, 0.26826355633946813)",
           "rgba(0.9140625, 0.7109375, 0.59255859375, 0.34282330121925625)",
           "rgba(0.9140625, 0.7109375, 0.5093359375, 0.2965627216970826)",
           "rgba(0.9140625, 0.7109375, 0.5093359375, 0.3814862783285615)",
           "rgba(0.9140625, 0.7109375, 0.28848139460579192611328125000003, 0.2884813946057919)",
           "rgba(0.9140625, 0.7109375, 0.440488193626843162611328125000003, 0.44048819362684316)",
           "rgba(0.9140625, 0.7109375, 0.30261255834748622611328125000003, 0.3026125583474862)",
           "rgba(0.9140625, 0.7109375, 0.342890625, 0.38604722739321157)",
           "rgba(0.9140625, 0.7109375, 0.25966796875, 0.27589682201828636)",
           "rgba(0.9140625, 0.7109375, 0.25966796875, 0.4486184931836528)",
           "rgba(0.9140625, 0.7109375, 0.1764453125, 0.3899823268037739)",
           "rgba(0.9140625, 0.7109375, 0.010000000000000009, 0.46710171272352125)",
           "rgba(0.9140625, 0.7109375, 0.010000000000000009, 0.3144137364288287)",
           "rgba(0.9140625, 0.7109375, 0.59255859375, 0.25675295377030305)",
           "rgba(0.9140625, 0.7109375, 0.59255859375, 0.24385929622625266)",
           "rgba(0.9140625, 0.7109375, 0.59255859375, 0.39625228682777364)",
           "rgba(0.9140625, 0.7109375, 0.5093359375, 0.25489343524964647)",
           "rgba(0.9140625, 0.7109375, 0.5093359375, 0.39728407767979135)",
           "rgba(0.9140625, 0.7109375, 0.31706219443106822611328125000003, 0.3170621944310682)",
           "rgba(0.9140625, 0.7109375, 0.23605000671916612611328125000003, 0.2360500067191661)",
           "rgba(0.9140625, 0.7109375, 0.344452843431321932611328125000003, 0.34445284343132193)",
           "rgba(0.9140625, 0.7109375, 0.244421558131167452611328125000003, 0.24442155813116745)",
           "rgba(0.9140625, 0.7109375, 0.342890625, 0.4281665664992058)",
           "rgba(0.9140625, 0.7109375, 0.25966796875, 0.45490043184677526)",
           "rgba(0.9140625, 0.7109375, 0.25966796875, 0.23184000764756052)",
           "rgba(0.9140625, 0.7109375, 0.1764453125, 0.3625425999000461)",
           "rgba(0.9140625, 0.7109375, 0.010000000000000009, 0.43826388652627574)",
           "rgba(0.9140625, 0.7109375, 0.010000000000000009, 0.3555706712819043)",
           "rgba(0.9140625, 0.7109375, 0.010000000000000009, 0.2752178035671677)",
           "rgba(0.203125, 0.5859375, 0.7885, 0.47105364978870146)",
           "rgba(0.203125, 0.5859375, 0.702, 0.457496568624068)",
           "rgba(0.203125, 0.5859375, 0.6155, 0.46670711973744833)",
           "rgba(0.203125, 0.5859375, 0.6155, 0.22642743448578914)",
           "rgba(0.203125, 0.5859375, 0.6155, 0.205051329632896)",
           "rgba(0.203125, 0.5859375, 0.529, 0.21801690021667708)",
           "rgba(0.203125, 0.5859375, 0.529, 0.30378016542744335)",
           "rgba(0.203125, 0.5859375, 0.529, 0.4358422510420025)",
           "rgba(0.203125, 0.5859375, 0.2315949936809628425, 0.2315949936809628)",
           "rgba(0.203125, 0.5859375, 0.3613428933547801425, 0.3613428933547801)",
           "rgba(0.203125, 0.5859375, 0.34036464113777926425, 0.34036464113777926)",
           "rgba(0.203125, 0.5859375, 0.3560000000000001, 0.39480160010972376)",
           "rgba(0.203125, 0.5859375, 0.3560000000000001, 0.26112054353151914)",
           "rgba(0.203125, 0.5859375, 0.3560000000000001, 0.4161859349478953)",
           "rgba(0.203125, 0.5859375, 0.3560000000000001, 0.24165004230749182)",
           "rgba(0.203125, 0.5859375, 0.2695000000000001, 0.42671333526463845)",
           "rgba(0.203125, 0.5859375, 0.18300000000000005, 0.3126316104522133)",
           "rgba(0.203125, 0.5859375, 0.18300000000000005, 0.4755741569794221)",
           "rgba(0.203125, 0.5859375, 0.09650000000000003, 0.4630731668309803)",
           "rgba(0.203125, 0.5859375, 0.010000000000000009, 0.41188371841049337)",
           "rgba(0.203125, 0.5859375, 0.7885, 0.4415597524570013)",
           "rgba(0.203125, 0.5859375, 0.702, 0.46506346897717293)",
           "rgba(0.203125, 0.5859375, 0.6155, 0.35921639458454746)",
           "rgba(0.203125, 0.5859375, 0.6155, 0.311682913444178)",
           "rgba(0.203125, 0.5859375, 0.529, 0.22792079987059413)",
           "rgba(0.203125, 0.5859375, 0.529, 0.24409876992159718)",
           "rgba(0.203125, 0.5859375, 0.529, 0.3460977606182463)",
           "rgba(0.203125, 0.5859375, 0.434115080582696425, 0.434115080582696)",
           "rgba(0.203125, 0.5859375, 0.3560000000000001, 0.23347750975869488)",
           "rgba(0.203125, 0.5859375, 0.3560000000000001, 0.4064449971593741)",
           "rgba(0.203125, 0.5859375, 0.3560000000000001, 0.3238906659808919)",
           "rgba(0.203125, 0.5859375, 0.3560000000000001, 0.23170977497019715)",
           "rgba(0.203125, 0.5859375, 0.2695000000000001, 0.26238287820620976)",
           "rgba(0.203125, 0.5859375, 0.18300000000000005, 0.330235097316189)",
           "rgba(0.203125, 0.5859375, 0.18300000000000005, 0.3274287463385235)",
           "rgba(0.203125, 0.5859375, 0.09650000000000003, 0.2527772466341525)",
           "rgba(0.203125, 0.5859375, 0.09650000000000003, 0.45067400624482684)",
           "rgba(0.203125, 0.5859375, 0.010000000000000009, 0.4666744162602798)",
           "rgba(0.95703125, 0.32421875, 0.446311434030219304859375, 0.4463114340302193)",
           "rgba(0.95703125, 0.32421875, 0.3469848728305172769875, 0.34698487283051727)",
           "rgba(0.95703125, 0.32421875, 0.3730633742965460769875, 0.37306337429654607)",
           "rgba(0.95703125, 0.32421875, 0.534890625, 0.20881332040497141)",
           "rgba(0.95703125, 0.32421875, 0.534890625, 0.41819098329460636)",
           "rgba(0.95703125, 0.32421875, 0.534890625, 0.2945196495612942)",
           "rgba(0.95703125, 0.32421875, 0.59990625, 0.2705681106828092)",
           "rgba(0.95703125, 0.32421875, 0.664921875, 0.46011851364839906)",
           "rgba(0.95703125, 0.32421875, 0.7299374999999999, 0.48993945667028377)",
           "rgba(0.95703125, 0.32421875, 0.7949531249999999, 0.48876633400454195)",
           "rgba(0.95703125, 0.32421875, 0.85996875, 0.2872228161886794)",
           "rgba(0.95703125, 0.32421875, 0.85996875, 0.24521762797424235)",
           "rgba(0.95703125, 0.32421875, 0.85996875, 0.2566918410057441)",
           "rgba(0.95703125, 0.32421875, 0.924984375, 0.24144215547207493)",
           "rgba(0.95703125, 0.32421875, 0.924984375, 0.25398368762295176)",
           "rgba(0.95703125, 0.32421875, 0.924984375, 0.4505073508400924)",
           "rgba(0.95703125, 0.32421875, 0.924984375, 0.24264765275877553)",
           "rgba(0.95703125, 0.32421875, 0.99, 0.3774096412005083)",
           "rgba(0.95703125, 0.32421875, 0.99, 0.26289209559938315)",
           "rgba(0.95703125, 0.32421875, 0.319967763651862704859375, 0.3199677636518627)",
           "rgba(0.95703125, 0.32421875, 0.3446790984304019504859375, 0.34467909843040195)",
           "rgba(0.95703125, 0.32421875, 0.31131270643217769875, 0.311312706432177)",
           "rgba(0.95703125, 0.32421875, 0.2916039468187330369875, 0.29160394681873303)",
           "rgba(0.95703125, 0.32421875, 0.534890625, 0.4620550287016794)",
           "rgba(0.95703125, 0.32421875, 0.59990625, 0.2920305326915099)",
           "rgba(0.95703125, 0.32421875, 0.664921875, 0.4160625088565382)",
           "rgba(0.95703125, 0.32421875, 0.7299374999999999, 0.32179547853499724)",
           "rgba(0.95703125, 0.32421875, 0.7299374999999999, 0.35546752358915806)",
           "rgba(0.95703125, 0.32421875, 0.7949531249999999, 0.30711380970200824)",
           "rgba(0.95703125, 0.32421875, 0.7949531249999999, 0.45683739486337893)",
           "rgba(0.95703125, 0.32421875, 0.85996875, 0.3922315020639382)",
           "rgba(0.95703125, 0.32421875, 0.85996875, 0.2729684579915395)",
           "rgba(0.95703125, 0.32421875, 0.924984375, 0.2789536483736464)",
           "rgba(0.95703125, 0.32421875, 0.924984375, 0.4497634126156987)",
           "rgba(0.95703125, 0.32421875, 0.99, 0.3997518503717474)",
           "rgba(0.66796875, 0.36967327687148483359375, 0.27478125, 0.3696732768714848)",
           "rgba(0.66796875, 0.27153056219674283359375, 0.27478125, 0.2715305621967428)",
           "rgba(0.66796875, 0.470955635084467753359375, 0.35425, 0.47095563508446775)",
           "rgba(0.66796875, 0.26902127445484883359375, 0.35425, 0.2690212744548488)",
           "rgba(0.66796875, 0.463908806240181773359375, 0.463908806240181773371875000000004, 0.46390880624018177)",
           "rgba(0.66796875, 0.206028325499927783359375, 0.206028325499927783371875000000004, 0.20602832549992778)",
           "rgba(0.66796875, 0.329136441116774263359375, 0.5131875, 0.32913644111677426)",
           "rgba(0.66796875, 0.2607707161273593359375, 0.5131875, 0.260770716127359)",
           "rgba(0.66796875, 0.340262876206158363359375, 0.59265625, 0.34026287620615836)",
           "rgba(0.66796875, 0.3892286364696673359375, 0.59265625, 0.389228636469667)",
           "rgba(0.66796875, 0.38150075167860913359375, 0.6721250000000001, 0.3815007516786091)",
           "rgba(0.66796875, 0.227821750566266753359375, 0.6721250000000001, 0.22782175056626675)",
           "rgba(0.66796875, 0.37132220173703063359375, 0.6721250000000001, 0.3713222017370306)",
           "rgba(0.66796875, 0.36845305854087093359375, 0.7515937500000001, 0.3684530585408709)",
           "rgba(0.66796875, 0.37522878687546223359375, 0.7515937500000001, 0.3752287868754622)",
           "rgba(0.66796875, 0.240621054447505233359375, 0.8310625, 0.24062105444750523)",
           "rgba(0.66796875, 0.28720874095125553359375, 0.8310625, 0.2872087409512555)",
           "rgba(0.66796875, 0.47971819988016833359375, 0.8310625, 0.4797181998801683)",
           "rgba(0.66796875, 0.30916982040062763359375, 0.91053125, 0.3091698204006276)",
           "rgba(0.66796875, 0.45947947303812923359375, 0.99, 0.4594794730381292)"
          ],
          "source": [
           0,
           1,
           1,
           2,
           2,
           3,
           3,
           3,
           4,
           4,
           5,
           5,
           6,
           0,
           0,
           0,
           1,
           1,
           1,
           2,
           2,
           3,
           3,
           3,
           4,
           4,
           5,
           6,
           7,
           7,
           7,
           8,
           8,
           9,
           9,
           9,
           10,
           11,
           11,
           12,
           14,
           14,
           7,
           7,
           7,
           8,
           8,
           9,
           9,
           9,
           9,
           10,
           11,
           11,
           12,
           14,
           14,
           14,
           15,
           16,
           17,
           17,
           17,
           18,
           18,
           18,
           19,
           19,
           19,
           20,
           20,
           20,
           20,
           21,
           22,
           22,
           23,
           24,
           15,
           16,
           17,
           17,
           18,
           18,
           18,
           19,
           20,
           20,
           20,
           20,
           21,
           22,
           22,
           23,
           23,
           24,
           25,
           26,
           26,
           27,
           27,
           27,
           28,
           29,
           30,
           31,
           32,
           32,
           32,
           33,
           33,
           33,
           33,
           34,
           34,
           25,
           25,
           26,
           26,
           27,
           28,
           29,
           30,
           30,
           31,
           31,
           32,
           32,
           33,
           33,
           34,
           35,
           35,
           36,
           36,
           37,
           37,
           38,
           38,
           39,
           39,
           40,
           40,
           40,
           41,
           41,
           42,
           42,
           42,
           43,
           44
          ],
          "target": [
           9,
           7,
           14,
           9,
           11,
           11,
           12,
           14,
           7,
           8,
           7,
           14,
           10,
           15,
           18,
           19,
           19,
           20,
           22,
           18,
           23,
           16,
           20,
           23,
           17,
           24,
           22,
           21,
           17,
           20,
           22,
           17,
           24,
           15,
           18,
           19,
           21,
           20,
           23,
           16,
           20,
           22,
           26,
           33,
           34,
           26,
           27,
           25,
           31,
           32,
           33,
           28,
           31,
           33,
           29,
           30,
           33,
           34,
           25,
           29,
           26,
           27,
           34,
           25,
           31,
           32,
           25,
           27,
           33,
           30,
           31,
           33,
           34,
           28,
           30,
           34,
           31,
           27,
           41,
           37,
           36,
           43,
           35,
           41,
           42,
           40,
           36,
           39,
           40,
           42,
           35,
           36,
           39,
           35,
           42,
           38,
           41,
           36,
           43,
           36,
           38,
           40,
           35,
           37,
           39,
           42,
           35,
           41,
           42,
           36,
           39,
           40,
           42,
           36,
           39,
           46,
           50,
           45,
           51,
           48,
           47,
           49,
           52,
           54,
           52,
           53,
           50,
           53,
           48,
           52,
           45,
           47,
           53,
           45,
           48,
           49,
           54,
           48,
           51,
           52,
           54,
           48,
           50,
           52,
           46,
           50,
           50,
           52,
           53,
           51,
           55
          ],
          "value": [
           0.8713190955002111,
           0.6677091243959229,
           0.7389634736416292,
           0.5282418720263786,
           0.6833924741191187,
           0.7382221331586069,
           0.41209322624296063,
           0.5391227932469226,
           0.500031249879209,
           0.9546415933577443,
           0.8124241782508148,
           0.4949709886638219,
           0.5368812382461601,
           0.824095883274743,
           0.7506419123592734,
           0.467904751425221,
           0.6952748221669187,
           0.8100782423349285,
           0.46293267468011645,
           0.7221336486625405,
           0.8413963749346016,
           0.6673511328378158,
           0.5289948680580406,
           0.5770580191535887,
           0.6826217669881652,
           0.640100577548203,
           0.900319399387264,
           0.5944952008113362,
           0.6196389056280716,
           0.5365271126789363,
           0.6856466024385125,
           0.5931254433941652,
           0.762972556657123,
           0.5769627892115838,
           0.8809763872536863,
           0.6052251166949724,
           0.7720944547864231,
           0.5517936440365727,
           0.8972369863673056,
           0.7799646536075479,
           0.9342034254470425,
           0.6288274728576574,
           0.5135059075406061,
           0.4877185924525053,
           0.7925045736555473,
           0.5097868704992929,
           0.7945681553595827,
           0.6341243888621364,
           0.4721000134383322,
           0.6889056868626439,
           0.4888431162623349,
           0.8563331329984116,
           0.9098008636935505,
           0.46368001529512104,
           0.7250851998000922,
           0.8765277730525515,
           0.7111413425638086,
           0.5504356071343354,
           0.9421072995774029,
           0.914993137248136,
           0.9334142394748967,
           0.4528548689715783,
           0.410102659265792,
           0.43603380043335416,
           0.6075603308548867,
           0.871684502084005,
           0.4631899873619256,
           0.7226857867095602,
           0.6807292822755585,
           0.7896032002194475,
           0.5222410870630383,
           0.8323718698957906,
           0.48330008461498364,
           0.8534266705292769,
           0.6252632209044267,
           0.9511483139588442,
           0.9261463336619606,
           0.8237674368209867,
           0.8831195049140026,
           0.9301269379543459,
           0.7184327891690949,
           0.623365826888356,
           0.45584159974118826,
           0.48819753984319436,
           0.6921955212364926,
           0.868230161165392,
           0.46695501951738977,
           0.8128899943187482,
           0.6477813319617838,
           0.4634195499403943,
           0.5247657564124195,
           0.660470194632378,
           0.654857492677047,
           0.505554493268305,
           0.9013480124896537,
           0.9333488325205596,
           0.8926228680604386,
           0.6939697456610345,
           0.7461267485930921,
           0.41762664080994283,
           0.8363819665892127,
           0.5890392991225883,
           0.5411362213656185,
           0.9202370272967981,
           0.9798789133405675,
           0.9775326680090839,
           0.5744456323773588,
           0.4904352559484847,
           0.5133836820114882,
           0.48288431094414985,
           0.5079673752459035,
           0.9010147016801848,
           0.48529530551755107,
           0.7548192824010166,
           0.5257841911987663,
           0.6399355273037254,
           0.6893581968608039,
           0.622625412864354,
           0.5832078936374661,
           0.9241100574033588,
           0.5840610653830198,
           0.8321250177130765,
           0.6435909570699945,
           0.7109350471783161,
           0.6142276194040165,
           0.9136747897267579,
           0.7844630041278764,
           0.545936915983079,
           0.5579072967472928,
           0.8995268252313974,
           0.7995037007434947,
           0.7393465537429696,
           0.5430611243934856,
           0.9419112701689355,
           0.5380425489096976,
           0.9278176124803635,
           0.41205665099985556,
           0.6582728822335485,
           0.521541432254718,
           0.6805257524123167,
           0.778457272939334,
           0.7630015033572182,
           0.4556435011325335,
           0.7426444034740612,
           0.7369061170817418,
           0.7504575737509244,
           0.48124210889501046,
           0.574417481902511,
           0.9594363997603366,
           0.6183396408012553,
           0.9189589460762584
          ]
         },
         "node": {
          "color": [
           "rgba(0.05078125, 0.86328125, 0.2854017857142857, 0.8)",
           "rgba(0.05078125, 0.86328125, 0.4028348214285714, 0.8)",
           "rgba(0.05078125, 0.86328125, 0.5202678571428572, 0.8)",
           "rgba(0.05078125, 0.86328125, 0.6377008928571428, 0.8)",
           "rgba(0.05078125, 0.86328125, 0.7551339285714286, 0.8)",
           "rgba(0.05078125, 0.86328125, 0.8725669642857143, 0.8)",
           "rgba(0.05078125, 0.86328125, 0.99, 0.8)",
           "rgba(0.9140625, 0.7109375, 0.59255859375, 0.8)",
           "rgba(0.9140625, 0.7109375, 0.5093359375, 0.8)",
           "rgba(0.9140625, 0.7109375, 0.42611328125000003, 0.8)",
           "rgba(0.9140625, 0.7109375, 0.342890625, 0.8)",
           "rgba(0.9140625, 0.7109375, 0.25966796875, 0.8)",
           "rgba(0.9140625, 0.7109375, 0.1764453125, 0.8)",
           "rgba(0.9140625, 0.7109375, 0.09322265625000004, 0.8)",
           "rgba(0.9140625, 0.7109375, 0.010000000000000009, 0.8)",
           "rgba(0.203125, 0.5859375, 0.7885, 0.8)",
           "rgba(0.203125, 0.5859375, 0.702, 0.8)",
           "rgba(0.203125, 0.5859375, 0.6155, 0.8)",
           "rgba(0.203125, 0.5859375, 0.529, 0.8)",
           "rgba(0.203125, 0.5859375, 0.4425, 0.8)",
           "rgba(0.203125, 0.5859375, 0.3560000000000001, 0.8)",
           "rgba(0.203125, 0.5859375, 0.2695000000000001, 0.8)",
           "rgba(0.203125, 0.5859375, 0.18300000000000005, 0.8)",
           "rgba(0.203125, 0.5859375, 0.09650000000000003, 0.8)",
           "rgba(0.203125, 0.5859375, 0.010000000000000009, 0.8)",
           "rgba(0.95703125, 0.32421875, 0.404859375, 0.8)",
           "rgba(0.95703125, 0.32421875, 0.469875, 0.8)",
           "rgba(0.95703125, 0.32421875, 0.534890625, 0.8)",
           "rgba(0.95703125, 0.32421875, 0.59990625, 0.8)",
           "rgba(0.95703125, 0.32421875, 0.664921875, 0.8)",
           "rgba(0.95703125, 0.32421875, 0.7299374999999999, 0.8)",
           "rgba(0.95703125, 0.32421875, 0.7949531249999999, 0.8)",
           "rgba(0.95703125, 0.32421875, 0.85996875, 0.8)",
           "rgba(0.95703125, 0.32421875, 0.924984375, 0.8)",
           "rgba(0.95703125, 0.32421875, 0.99, 0.8)",
           "rgba(0.66796875, 0.43359375, 0.27478125, 0.8)",
           "rgba(0.66796875, 0.43359375, 0.35425, 0.8)",
           "rgba(0.66796875, 0.43359375, 0.43371875000000004, 0.8)",
           "rgba(0.66796875, 0.43359375, 0.5131875, 0.8)",
           "rgba(0.66796875, 0.43359375, 0.59265625, 0.8)",
           "rgba(0.66796875, 0.43359375, 0.6721250000000001, 0.8)",
           "rgba(0.66796875, 0.43359375, 0.7515937500000001, 0.8)",
           "rgba(0.66796875, 0.43359375, 0.8310625, 0.8)",
           "rgba(0.66796875, 0.43359375, 0.91053125, 0.8)",
           "rgba(0.66796875, 0.43359375, 0.99, 0.8)",
           "rgba(0.87109375, 0.3828125, 0.5761931818181818, 0.8)",
           "rgba(0.87109375, 0.3828125, 0.5195738636363636, 0.8)",
           "rgba(0.87109375, 0.3828125, 0.46295454545454545, 0.8)",
           "rgba(0.87109375, 0.3828125, 0.4063352272727273, 0.8)",
           "rgba(0.87109375, 0.3828125, 0.3497159090909091, 0.8)",
           "rgba(0.87109375, 0.3828125, 0.2930965909090909, 0.8)",
           "rgba(0.87109375, 0.3828125, 0.23647727272727276, 0.8)",
           "rgba(0.87109375, 0.3828125, 0.17985795454545456, 0.8)",
           "rgba(0.87109375, 0.3828125, 0.12323863636363641, 0.8)",
           "rgba(0.87109375, 0.3828125, 0.06661931818181821, 0.8)",
           "rgba(0.87109375, 0.3828125, 0.010000000000000009, 0.8)"
          ],
          "label": [
           "04 - DSS, scheduling, planning, automation, control",
           "04 - DAI, KR, simulation, pattern recognition, decision support",
           "04 - expert system",
           "04 - ANN",
           "04 - genetic algorithm",
           "04 - fuzzy logic, machine learning, reasoning, learning",
           "04 - agent, robotics, internet, robot",
           "07 - fuzzy logic, machine learning, reasoning, simulation, data mining",
           "07 - genetic algorithm",
           "07 - DSS, decision support, multi agent, planning, decision making",
           "07 - agent, robotics, computer",
           "07 - expert system, expert",
           "07 - ontology, cybernetics, cognitive science, cognition",
           "07 - power, time, routing",
           "07 - ANN",
           "10 - planning, scheduling, control, process control",
           "10 - expert, knowledge, ontology",
           "10 - genetic algorithm, simulation",
           "10 - DSS, multi agent system",
           "10 - multi agent, decision support, decision making, fault diagnosis, CS",
           "10 - ANN",
           "10 - agent, robotics",
           "10 - fuzzy logic, machine learning, reasoning, pattern recognition, learning",
           "10 - expert system",
           "10 - optimization, decision tree, heuristic, algorithm",
           "13 - multi agent, planning, scheduling, control",
           "13 - genetic algorithm",
           "13 - simulation, optimization, decision tree",
           "13 - agent, robotics",
           "13 - ontology, cybernetics, cognitive science",
           "13 - reasoning, KR, pattern recognition",
           "13 - expert system, expert",
           "13 - automation, sensor, monitoring, autonomous agent, management",
           "13 - ANN",
           "13 - fuzzy logic, machine learning, learning",
           "16 - robotics, agent, game, robot",
           "16 - machine learning, fuzzy logic, data mining, SVM, learning",
           "16 - ontology, knowledge, HCI, cybernetics",
           "16 - genetic algorithm",
           "16 - expert, reasoning, KR, pattern recognition, NLP",
           "16 - ANN",
           "16 - planning, scheduling, control, sensor",
           "16 - expert system, multi agent system",
           "16 - anfis, fuzzy set, clustering, wavelet transform, fuzzy",
           "16 - power, fpga, routing, energy, sat",
           "18 - machine learning, fuzzy logic, data mining, learning",
           "18 - planning, control, scheduling",
           "18 - robotics, agent, internet thing, robot, game",
           "18 - SVM, simulation, multi agent, decision support, CNN",
           "18 - ontology, knowledge, HCI, KE",
           "18 - decision making, multi agent system, DSS, automation",
           "18 - genetic algorithm",
           "18 - ANN",
           "18 - expert system",
           "18 - expert, reasoning, KR, NLP, pattern recognition",
           "18 - power, fpga, energy, routing, mppt"
          ],
          "line": {
           "color": "black",
           "width": 0
          },
          "pad": 15,
          "thickness": 10
         },
         "type": "sankey"
        }
       ],
       "layout": {
        "autosize": false,
        "font": {
         "size": 11
        },
        "height": 900,
        "template": {
         "data": {
          "bar": [
           {
            "error_x": {
             "color": "#2a3f5f"
            },
            "error_y": {
             "color": "#2a3f5f"
            },
            "marker": {
             "line": {
              "color": "#E5ECF6",
              "width": 0.5
             }
            },
            "type": "bar"
           }
          ],
          "barpolar": [
           {
            "marker": {
             "line": {
              "color": "#E5ECF6",
              "width": 0.5
             }
            },
            "type": "barpolar"
           }
          ],
          "carpet": [
           {
            "aaxis": {
             "endlinecolor": "#2a3f5f",
             "gridcolor": "white",
             "linecolor": "white",
             "minorgridcolor": "white",
             "startlinecolor": "#2a3f5f"
            },
            "baxis": {
             "endlinecolor": "#2a3f5f",
             "gridcolor": "white",
             "linecolor": "white",
             "minorgridcolor": "white",
             "startlinecolor": "#2a3f5f"
            },
            "type": "carpet"
           }
          ],
          "choropleth": [
           {
            "colorbar": {
             "outlinewidth": 0,
             "ticks": ""
            },
            "type": "choropleth"
           }
          ],
          "contour": [
           {
            "colorbar": {
             "outlinewidth": 0,
             "ticks": ""
            },
            "colorscale": [
             [
              0,
              "#0d0887"
             ],
             [
              0.1111111111111111,
              "#46039f"
             ],
             [
              0.2222222222222222,
              "#7201a8"
             ],
             [
              0.3333333333333333,
              "#9c179e"
             ],
             [
              0.4444444444444444,
              "#bd3786"
             ],
             [
              0.5555555555555556,
              "#d8576b"
             ],
             [
              0.6666666666666666,
              "#ed7953"
             ],
             [
              0.7777777777777778,
              "#fb9f3a"
             ],
             [
              0.8888888888888888,
              "#fdca26"
             ],
             [
              1,
              "#f0f921"
             ]
            ],
            "type": "contour"
           }
          ],
          "contourcarpet": [
           {
            "colorbar": {
             "outlinewidth": 0,
             "ticks": ""
            },
            "type": "contourcarpet"
           }
          ],
          "heatmap": [
           {
            "colorbar": {
             "outlinewidth": 0,
             "ticks": ""
            },
            "colorscale": [
             [
              0,
              "#0d0887"
             ],
             [
              0.1111111111111111,
              "#46039f"
             ],
             [
              0.2222222222222222,
              "#7201a8"
             ],
             [
              0.3333333333333333,
              "#9c179e"
             ],
             [
              0.4444444444444444,
              "#bd3786"
             ],
             [
              0.5555555555555556,
              "#d8576b"
             ],
             [
              0.6666666666666666,
              "#ed7953"
             ],
             [
              0.7777777777777778,
              "#fb9f3a"
             ],
             [
              0.8888888888888888,
              "#fdca26"
             ],
             [
              1,
              "#f0f921"
             ]
            ],
            "type": "heatmap"
           }
          ],
          "heatmapgl": [
           {
            "colorbar": {
             "outlinewidth": 0,
             "ticks": ""
            },
            "colorscale": [
             [
              0,
              "#0d0887"
             ],
             [
              0.1111111111111111,
              "#46039f"
             ],
             [
              0.2222222222222222,
              "#7201a8"
             ],
             [
              0.3333333333333333,
              "#9c179e"
             ],
             [
              0.4444444444444444,
              "#bd3786"
             ],
             [
              0.5555555555555556,
              "#d8576b"
             ],
             [
              0.6666666666666666,
              "#ed7953"
             ],
             [
              0.7777777777777778,
              "#fb9f3a"
             ],
             [
              0.8888888888888888,
              "#fdca26"
             ],
             [
              1,
              "#f0f921"
             ]
            ],
            "type": "heatmapgl"
           }
          ],
          "histogram": [
           {
            "marker": {
             "colorbar": {
              "outlinewidth": 0,
              "ticks": ""
             }
            },
            "type": "histogram"
           }
          ],
          "histogram2d": [
           {
            "colorbar": {
             "outlinewidth": 0,
             "ticks": ""
            },
            "colorscale": [
             [
              0,
              "#0d0887"
             ],
             [
              0.1111111111111111,
              "#46039f"
             ],
             [
              0.2222222222222222,
              "#7201a8"
             ],
             [
              0.3333333333333333,
              "#9c179e"
             ],
             [
              0.4444444444444444,
              "#bd3786"
             ],
             [
              0.5555555555555556,
              "#d8576b"
             ],
             [
              0.6666666666666666,
              "#ed7953"
             ],
             [
              0.7777777777777778,
              "#fb9f3a"
             ],
             [
              0.8888888888888888,
              "#fdca26"
             ],
             [
              1,
              "#f0f921"
             ]
            ],
            "type": "histogram2d"
           }
          ],
          "histogram2dcontour": [
           {
            "colorbar": {
             "outlinewidth": 0,
             "ticks": ""
            },
            "colorscale": [
             [
              0,
              "#0d0887"
             ],
             [
              0.1111111111111111,
              "#46039f"
             ],
             [
              0.2222222222222222,
              "#7201a8"
             ],
             [
              0.3333333333333333,
              "#9c179e"
             ],
             [
              0.4444444444444444,
              "#bd3786"
             ],
             [
              0.5555555555555556,
              "#d8576b"
             ],
             [
              0.6666666666666666,
              "#ed7953"
             ],
             [
              0.7777777777777778,
              "#fb9f3a"
             ],
             [
              0.8888888888888888,
              "#fdca26"
             ],
             [
              1,
              "#f0f921"
             ]
            ],
            "type": "histogram2dcontour"
           }
          ],
          "mesh3d": [
           {
            "colorbar": {
             "outlinewidth": 0,
             "ticks": ""
            },
            "type": "mesh3d"
           }
          ],
          "parcoords": [
           {
            "line": {
             "colorbar": {
              "outlinewidth": 0,
              "ticks": ""
             }
            },
            "type": "parcoords"
           }
          ],
          "scatter": [
           {
            "marker": {
             "colorbar": {
              "outlinewidth": 0,
              "ticks": ""
             }
            },
            "type": "scatter"
           }
          ],
          "scatter3d": [
           {
            "line": {
             "colorbar": {
              "outlinewidth": 0,
              "ticks": ""
             }
            },
            "marker": {
             "colorbar": {
              "outlinewidth": 0,
              "ticks": ""
             }
            },
            "type": "scatter3d"
           }
          ],
          "scattercarpet": [
           {
            "marker": {
             "colorbar": {
              "outlinewidth": 0,
              "ticks": ""
             }
            },
            "type": "scattercarpet"
           }
          ],
          "scattergeo": [
           {
            "marker": {
             "colorbar": {
              "outlinewidth": 0,
              "ticks": ""
             }
            },
            "type": "scattergeo"
           }
          ],
          "scattergl": [
           {
            "marker": {
             "colorbar": {
              "outlinewidth": 0,
              "ticks": ""
             }
            },
            "type": "scattergl"
           }
          ],
          "scattermapbox": [
           {
            "marker": {
             "colorbar": {
              "outlinewidth": 0,
              "ticks": ""
             }
            },
            "type": "scattermapbox"
           }
          ],
          "scatterpolar": [
           {
            "marker": {
             "colorbar": {
              "outlinewidth": 0,
              "ticks": ""
             }
            },
            "type": "scatterpolar"
           }
          ],
          "scatterpolargl": [
           {
            "marker": {
             "colorbar": {
              "outlinewidth": 0,
              "ticks": ""
             }
            },
            "type": "scatterpolargl"
           }
          ],
          "scatterternary": [
           {
            "marker": {
             "colorbar": {
              "outlinewidth": 0,
              "ticks": ""
             }
            },
            "type": "scatterternary"
           }
          ],
          "surface": [
           {
            "colorbar": {
             "outlinewidth": 0,
             "ticks": ""
            },
            "colorscale": [
             [
              0,
              "#0d0887"
             ],
             [
              0.1111111111111111,
              "#46039f"
             ],
             [
              0.2222222222222222,
              "#7201a8"
             ],
             [
              0.3333333333333333,
              "#9c179e"
             ],
             [
              0.4444444444444444,
              "#bd3786"
             ],
             [
              0.5555555555555556,
              "#d8576b"
             ],
             [
              0.6666666666666666,
              "#ed7953"
             ],
             [
              0.7777777777777778,
              "#fb9f3a"
             ],
             [
              0.8888888888888888,
              "#fdca26"
             ],
             [
              1,
              "#f0f921"
             ]
            ],
            "type": "surface"
           }
          ],
          "table": [
           {
            "cells": {
             "fill": {
              "color": "#EBF0F8"
             },
             "line": {
              "color": "white"
             }
            },
            "header": {
             "fill": {
              "color": "#C8D4E3"
             },
             "line": {
              "color": "white"
             }
            },
            "type": "table"
           }
          ]
         },
         "layout": {
          "annotationdefaults": {
           "arrowcolor": "#2a3f5f",
           "arrowhead": 0,
           "arrowwidth": 1
          },
          "colorscale": {
           "diverging": [
            [
             0,
             "#8e0152"
            ],
            [
             0.1,
             "#c51b7d"
            ],
            [
             0.2,
             "#de77ae"
            ],
            [
             0.3,
             "#f1b6da"
            ],
            [
             0.4,
             "#fde0ef"
            ],
            [
             0.5,
             "#f7f7f7"
            ],
            [
             0.6,
             "#e6f5d0"
            ],
            [
             0.7,
             "#b8e186"
            ],
            [
             0.8,
             "#7fbc41"
            ],
            [
             0.9,
             "#4d9221"
            ],
            [
             1,
             "#276419"
            ]
           ],
           "sequential": [
            [
             0,
             "#0d0887"
            ],
            [
             0.1111111111111111,
             "#46039f"
            ],
            [
             0.2222222222222222,
             "#7201a8"
            ],
            [
             0.3333333333333333,
             "#9c179e"
            ],
            [
             0.4444444444444444,
             "#bd3786"
            ],
            [
             0.5555555555555556,
             "#d8576b"
            ],
            [
             0.6666666666666666,
             "#ed7953"
            ],
            [
             0.7777777777777778,
             "#fb9f3a"
            ],
            [
             0.8888888888888888,
             "#fdca26"
            ],
            [
             1,
             "#f0f921"
            ]
           ],
           "sequentialminus": [
            [
             0,
             "#0d0887"
            ],
            [
             0.1111111111111111,
             "#46039f"
            ],
            [
             0.2222222222222222,
             "#7201a8"
            ],
            [
             0.3333333333333333,
             "#9c179e"
            ],
            [
             0.4444444444444444,
             "#bd3786"
            ],
            [
             0.5555555555555556,
             "#d8576b"
            ],
            [
             0.6666666666666666,
             "#ed7953"
            ],
            [
             0.7777777777777778,
             "#fb9f3a"
            ],
            [
             0.8888888888888888,
             "#fdca26"
            ],
            [
             1,
             "#f0f921"
            ]
           ]
          },
          "colorway": [
           "#636efa",
           "#EF553B",
           "#00cc96",
           "#ab63fa",
           "#FFA15A",
           "#19d3f3",
           "#FF6692",
           "#B6E880",
           "#FF97FF",
           "#FECB52"
          ],
          "font": {
           "color": "#2a3f5f"
          },
          "geo": {
           "bgcolor": "white",
           "lakecolor": "white",
           "landcolor": "#E5ECF6",
           "showlakes": true,
           "showland": true,
           "subunitcolor": "white"
          },
          "hoverlabel": {
           "align": "left"
          },
          "hovermode": "closest",
          "mapbox": {
           "style": "light"
          },
          "paper_bgcolor": "white",
          "plot_bgcolor": "#E5ECF6",
          "polar": {
           "angularaxis": {
            "gridcolor": "white",
            "linecolor": "white",
            "ticks": ""
           },
           "bgcolor": "#E5ECF6",
           "radialaxis": {
            "gridcolor": "white",
            "linecolor": "white",
            "ticks": ""
           }
          },
          "scene": {
           "xaxis": {
            "backgroundcolor": "#E5ECF6",
            "gridcolor": "white",
            "gridwidth": 2,
            "linecolor": "white",
            "showbackground": true,
            "ticks": "",
            "zerolinecolor": "white"
           },
           "yaxis": {
            "backgroundcolor": "#E5ECF6",
            "gridcolor": "white",
            "gridwidth": 2,
            "linecolor": "white",
            "showbackground": true,
            "ticks": "",
            "zerolinecolor": "white"
           },
           "zaxis": {
            "backgroundcolor": "#E5ECF6",
            "gridcolor": "white",
            "gridwidth": 2,
            "linecolor": "white",
            "showbackground": true,
            "ticks": "",
            "zerolinecolor": "white"
           }
          },
          "shapedefaults": {
           "line": {
            "color": "#2a3f5f"
           }
          },
          "ternary": {
           "aaxis": {
            "gridcolor": "white",
            "linecolor": "white",
            "ticks": ""
           },
           "baxis": {
            "gridcolor": "white",
            "linecolor": "white",
            "ticks": ""
           },
           "bgcolor": "#E5ECF6",
           "caxis": {
            "gridcolor": "white",
            "linecolor": "white",
            "ticks": ""
           }
          },
          "title": {
           "x": 0.05
          },
          "xaxis": {
           "automargin": true,
           "gridcolor": "white",
           "linecolor": "white",
           "ticks": "",
           "zerolinecolor": "white",
           "zerolinewidth": 2
          },
          "yaxis": {
           "automargin": true,
           "gridcolor": "white",
           "linecolor": "white",
           "ticks": "",
           "zerolinecolor": "white",
           "zerolinewidth": 2
          }
         }
        },
        "title": {
         "text": "H-Clustering -Author Keywords - Cumulative Development of fields: Docs 1990-2004 to 1990-2018 : Enhanced number of clusters  - pow 16 - thresh 0.41"
        },
        "width": 1500
       }
      },
      "text/html": [
       "<div>\n",
       "        \n",
       "        \n",
       "            <div id=\"bca43fa2-bf21-4708-8250-052c5bd915d6\" class=\"plotly-graph-div\" style=\"height:900px; width:1500px;\"></div>\n",
       "            <script type=\"text/javascript\">\n",
       "                require([\"plotly\"], function(Plotly) {\n",
       "                    window.PLOTLYENV=window.PLOTLYENV || {};\n",
       "                    \n",
       "                if (document.getElementById(\"bca43fa2-bf21-4708-8250-052c5bd915d6\")) {\n",
       "                    Plotly.newPlot(\n",
       "                        'bca43fa2-bf21-4708-8250-052c5bd915d6',\n",
       "                        [{\"link\": {\"color\": [\"rgba(0.05078125, 0.86328125, 0.2854017857142857, 0.43565954775010557)\", \"rgba(0.05078125, 0.86328125, 0.33385456219796145028348214285714, 0.33385456219796145)\", \"rgba(0.05078125, 0.86328125, 0.3694817368208146028348214285714, 0.3694817368208146)\", \"rgba(0.05078125, 0.86328125, 0.5202678571428572, 0.2641209360131893)\", \"rgba(0.05078125, 0.86328125, 0.5202678571428572, 0.34169623705955937)\", \"rgba(0.05078125, 0.86328125, 0.6377008928571428, 0.3691110665793034)\", \"rgba(0.05078125, 0.86328125, 0.6377008928571428, 0.20604661312148032)\", \"rgba(0.05078125, 0.86328125, 0.6377008928571428, 0.2695613966234613)\", \"rgba(0.05078125, 0.86328125, 0.7551339285714286, 0.2500156249396045)\", \"rgba(0.05078125, 0.86328125, 0.7551339285714286, 0.4773207966788722)\", \"rgba(0.05078125, 0.86328125, 0.8725669642857143, 0.4062120891254074)\", \"rgba(0.05078125, 0.86328125, 0.8725669642857143, 0.24748549433191094)\", \"rgba(0.05078125, 0.86328125, 0.99, 0.26844061912308004)\", \"rgba(0.05078125, 0.86328125, 0.2854017857142857, 0.4120479416373715)\", \"rgba(0.05078125, 0.86328125, 0.2854017857142857, 0.3753209561796367)\", \"rgba(0.05078125, 0.86328125, 0.2854017857142857, 0.2339523757126105)\", \"rgba(0.05078125, 0.86328125, 0.34763741108345936028348214285714, 0.34763741108345936)\", \"rgba(0.05078125, 0.86328125, 0.40503912116746427028348214285714, 0.40503912116746427)\", \"rgba(0.05078125, 0.86328125, 0.23146633734005823028348214285714, 0.23146633734005823)\", \"rgba(0.05078125, 0.86328125, 0.5202678571428572, 0.36106682433127024)\", \"rgba(0.05078125, 0.86328125, 0.5202678571428572, 0.4206981874673008)\", \"rgba(0.05078125, 0.86328125, 0.6377008928571428, 0.3336755664189079)\", \"rgba(0.05078125, 0.86328125, 0.6377008928571428, 0.2644974340290203)\", \"rgba(0.05078125, 0.86328125, 0.6377008928571428, 0.28852900957679434)\", \"rgba(0.05078125, 0.86328125, 0.7551339285714286, 0.3413108834940826)\", \"rgba(0.05078125, 0.86328125, 0.7551339285714286, 0.3200502887741015)\", \"rgba(0.05078125, 0.86328125, 0.8725669642857143, 0.450159699693632)\", \"rgba(0.05078125, 0.86328125, 0.99, 0.2972476004056681)\", \"rgba(0.9140625, 0.7109375, 0.59255859375, 0.3098194528140358)\", \"rgba(0.9140625, 0.7109375, 0.59255859375, 0.26826355633946813)\", \"rgba(0.9140625, 0.7109375, 0.59255859375, 0.34282330121925625)\", \"rgba(0.9140625, 0.7109375, 0.5093359375, 0.2965627216970826)\", \"rgba(0.9140625, 0.7109375, 0.5093359375, 0.3814862783285615)\", \"rgba(0.9140625, 0.7109375, 0.28848139460579192611328125000003, 0.2884813946057919)\", \"rgba(0.9140625, 0.7109375, 0.440488193626843162611328125000003, 0.44048819362684316)\", \"rgba(0.9140625, 0.7109375, 0.30261255834748622611328125000003, 0.3026125583474862)\", \"rgba(0.9140625, 0.7109375, 0.342890625, 0.38604722739321157)\", \"rgba(0.9140625, 0.7109375, 0.25966796875, 0.27589682201828636)\", \"rgba(0.9140625, 0.7109375, 0.25966796875, 0.4486184931836528)\", \"rgba(0.9140625, 0.7109375, 0.1764453125, 0.3899823268037739)\", \"rgba(0.9140625, 0.7109375, 0.010000000000000009, 0.46710171272352125)\", \"rgba(0.9140625, 0.7109375, 0.010000000000000009, 0.3144137364288287)\", \"rgba(0.9140625, 0.7109375, 0.59255859375, 0.25675295377030305)\", \"rgba(0.9140625, 0.7109375, 0.59255859375, 0.24385929622625266)\", \"rgba(0.9140625, 0.7109375, 0.59255859375, 0.39625228682777364)\", \"rgba(0.9140625, 0.7109375, 0.5093359375, 0.25489343524964647)\", \"rgba(0.9140625, 0.7109375, 0.5093359375, 0.39728407767979135)\", \"rgba(0.9140625, 0.7109375, 0.31706219443106822611328125000003, 0.3170621944310682)\", \"rgba(0.9140625, 0.7109375, 0.23605000671916612611328125000003, 0.2360500067191661)\", \"rgba(0.9140625, 0.7109375, 0.344452843431321932611328125000003, 0.34445284343132193)\", \"rgba(0.9140625, 0.7109375, 0.244421558131167452611328125000003, 0.24442155813116745)\", \"rgba(0.9140625, 0.7109375, 0.342890625, 0.4281665664992058)\", \"rgba(0.9140625, 0.7109375, 0.25966796875, 0.45490043184677526)\", \"rgba(0.9140625, 0.7109375, 0.25966796875, 0.23184000764756052)\", \"rgba(0.9140625, 0.7109375, 0.1764453125, 0.3625425999000461)\", \"rgba(0.9140625, 0.7109375, 0.010000000000000009, 0.43826388652627574)\", \"rgba(0.9140625, 0.7109375, 0.010000000000000009, 0.3555706712819043)\", \"rgba(0.9140625, 0.7109375, 0.010000000000000009, 0.2752178035671677)\", \"rgba(0.203125, 0.5859375, 0.7885, 0.47105364978870146)\", \"rgba(0.203125, 0.5859375, 0.702, 0.457496568624068)\", \"rgba(0.203125, 0.5859375, 0.6155, 0.46670711973744833)\", \"rgba(0.203125, 0.5859375, 0.6155, 0.22642743448578914)\", \"rgba(0.203125, 0.5859375, 0.6155, 0.205051329632896)\", \"rgba(0.203125, 0.5859375, 0.529, 0.21801690021667708)\", \"rgba(0.203125, 0.5859375, 0.529, 0.30378016542744335)\", \"rgba(0.203125, 0.5859375, 0.529, 0.4358422510420025)\", \"rgba(0.203125, 0.5859375, 0.2315949936809628425, 0.2315949936809628)\", \"rgba(0.203125, 0.5859375, 0.3613428933547801425, 0.3613428933547801)\", \"rgba(0.203125, 0.5859375, 0.34036464113777926425, 0.34036464113777926)\", \"rgba(0.203125, 0.5859375, 0.3560000000000001, 0.39480160010972376)\", \"rgba(0.203125, 0.5859375, 0.3560000000000001, 0.26112054353151914)\", \"rgba(0.203125, 0.5859375, 0.3560000000000001, 0.4161859349478953)\", \"rgba(0.203125, 0.5859375, 0.3560000000000001, 0.24165004230749182)\", \"rgba(0.203125, 0.5859375, 0.2695000000000001, 0.42671333526463845)\", \"rgba(0.203125, 0.5859375, 0.18300000000000005, 0.3126316104522133)\", \"rgba(0.203125, 0.5859375, 0.18300000000000005, 0.4755741569794221)\", \"rgba(0.203125, 0.5859375, 0.09650000000000003, 0.4630731668309803)\", \"rgba(0.203125, 0.5859375, 0.010000000000000009, 0.41188371841049337)\", \"rgba(0.203125, 0.5859375, 0.7885, 0.4415597524570013)\", \"rgba(0.203125, 0.5859375, 0.702, 0.46506346897717293)\", \"rgba(0.203125, 0.5859375, 0.6155, 0.35921639458454746)\", \"rgba(0.203125, 0.5859375, 0.6155, 0.311682913444178)\", \"rgba(0.203125, 0.5859375, 0.529, 0.22792079987059413)\", \"rgba(0.203125, 0.5859375, 0.529, 0.24409876992159718)\", \"rgba(0.203125, 0.5859375, 0.529, 0.3460977606182463)\", \"rgba(0.203125, 0.5859375, 0.434115080582696425, 0.434115080582696)\", \"rgba(0.203125, 0.5859375, 0.3560000000000001, 0.23347750975869488)\", \"rgba(0.203125, 0.5859375, 0.3560000000000001, 0.4064449971593741)\", \"rgba(0.203125, 0.5859375, 0.3560000000000001, 0.3238906659808919)\", \"rgba(0.203125, 0.5859375, 0.3560000000000001, 0.23170977497019715)\", \"rgba(0.203125, 0.5859375, 0.2695000000000001, 0.26238287820620976)\", \"rgba(0.203125, 0.5859375, 0.18300000000000005, 0.330235097316189)\", \"rgba(0.203125, 0.5859375, 0.18300000000000005, 0.3274287463385235)\", \"rgba(0.203125, 0.5859375, 0.09650000000000003, 0.2527772466341525)\", \"rgba(0.203125, 0.5859375, 0.09650000000000003, 0.45067400624482684)\", \"rgba(0.203125, 0.5859375, 0.010000000000000009, 0.4666744162602798)\", \"rgba(0.95703125, 0.32421875, 0.446311434030219304859375, 0.4463114340302193)\", \"rgba(0.95703125, 0.32421875, 0.3469848728305172769875, 0.34698487283051727)\", \"rgba(0.95703125, 0.32421875, 0.3730633742965460769875, 0.37306337429654607)\", \"rgba(0.95703125, 0.32421875, 0.534890625, 0.20881332040497141)\", \"rgba(0.95703125, 0.32421875, 0.534890625, 0.41819098329460636)\", \"rgba(0.95703125, 0.32421875, 0.534890625, 0.2945196495612942)\", \"rgba(0.95703125, 0.32421875, 0.59990625, 0.2705681106828092)\", \"rgba(0.95703125, 0.32421875, 0.664921875, 0.46011851364839906)\", \"rgba(0.95703125, 0.32421875, 0.7299374999999999, 0.48993945667028377)\", \"rgba(0.95703125, 0.32421875, 0.7949531249999999, 0.48876633400454195)\", \"rgba(0.95703125, 0.32421875, 0.85996875, 0.2872228161886794)\", \"rgba(0.95703125, 0.32421875, 0.85996875, 0.24521762797424235)\", \"rgba(0.95703125, 0.32421875, 0.85996875, 0.2566918410057441)\", \"rgba(0.95703125, 0.32421875, 0.924984375, 0.24144215547207493)\", \"rgba(0.95703125, 0.32421875, 0.924984375, 0.25398368762295176)\", \"rgba(0.95703125, 0.32421875, 0.924984375, 0.4505073508400924)\", \"rgba(0.95703125, 0.32421875, 0.924984375, 0.24264765275877553)\", \"rgba(0.95703125, 0.32421875, 0.99, 0.3774096412005083)\", \"rgba(0.95703125, 0.32421875, 0.99, 0.26289209559938315)\", \"rgba(0.95703125, 0.32421875, 0.319967763651862704859375, 0.3199677636518627)\", \"rgba(0.95703125, 0.32421875, 0.3446790984304019504859375, 0.34467909843040195)\", \"rgba(0.95703125, 0.32421875, 0.31131270643217769875, 0.311312706432177)\", \"rgba(0.95703125, 0.32421875, 0.2916039468187330369875, 0.29160394681873303)\", \"rgba(0.95703125, 0.32421875, 0.534890625, 0.4620550287016794)\", \"rgba(0.95703125, 0.32421875, 0.59990625, 0.2920305326915099)\", \"rgba(0.95703125, 0.32421875, 0.664921875, 0.4160625088565382)\", \"rgba(0.95703125, 0.32421875, 0.7299374999999999, 0.32179547853499724)\", \"rgba(0.95703125, 0.32421875, 0.7299374999999999, 0.35546752358915806)\", \"rgba(0.95703125, 0.32421875, 0.7949531249999999, 0.30711380970200824)\", \"rgba(0.95703125, 0.32421875, 0.7949531249999999, 0.45683739486337893)\", \"rgba(0.95703125, 0.32421875, 0.85996875, 0.3922315020639382)\", \"rgba(0.95703125, 0.32421875, 0.85996875, 0.2729684579915395)\", \"rgba(0.95703125, 0.32421875, 0.924984375, 0.2789536483736464)\", \"rgba(0.95703125, 0.32421875, 0.924984375, 0.4497634126156987)\", \"rgba(0.95703125, 0.32421875, 0.99, 0.3997518503717474)\", \"rgba(0.66796875, 0.36967327687148483359375, 0.27478125, 0.3696732768714848)\", \"rgba(0.66796875, 0.27153056219674283359375, 0.27478125, 0.2715305621967428)\", \"rgba(0.66796875, 0.470955635084467753359375, 0.35425, 0.47095563508446775)\", \"rgba(0.66796875, 0.26902127445484883359375, 0.35425, 0.2690212744548488)\", \"rgba(0.66796875, 0.463908806240181773359375, 0.463908806240181773371875000000004, 0.46390880624018177)\", \"rgba(0.66796875, 0.206028325499927783359375, 0.206028325499927783371875000000004, 0.20602832549992778)\", \"rgba(0.66796875, 0.329136441116774263359375, 0.5131875, 0.32913644111677426)\", \"rgba(0.66796875, 0.2607707161273593359375, 0.5131875, 0.260770716127359)\", \"rgba(0.66796875, 0.340262876206158363359375, 0.59265625, 0.34026287620615836)\", \"rgba(0.66796875, 0.3892286364696673359375, 0.59265625, 0.389228636469667)\", \"rgba(0.66796875, 0.38150075167860913359375, 0.6721250000000001, 0.3815007516786091)\", \"rgba(0.66796875, 0.227821750566266753359375, 0.6721250000000001, 0.22782175056626675)\", \"rgba(0.66796875, 0.37132220173703063359375, 0.6721250000000001, 0.3713222017370306)\", \"rgba(0.66796875, 0.36845305854087093359375, 0.7515937500000001, 0.3684530585408709)\", \"rgba(0.66796875, 0.37522878687546223359375, 0.7515937500000001, 0.3752287868754622)\", \"rgba(0.66796875, 0.240621054447505233359375, 0.8310625, 0.24062105444750523)\", \"rgba(0.66796875, 0.28720874095125553359375, 0.8310625, 0.2872087409512555)\", \"rgba(0.66796875, 0.47971819988016833359375, 0.8310625, 0.4797181998801683)\", \"rgba(0.66796875, 0.30916982040062763359375, 0.91053125, 0.3091698204006276)\", \"rgba(0.66796875, 0.45947947303812923359375, 0.99, 0.4594794730381292)\"], \"source\": [0, 1, 1, 2, 2, 3, 3, 3, 4, 4, 5, 5, 6, 0, 0, 0, 1, 1, 1, 2, 2, 3, 3, 3, 4, 4, 5, 6, 7, 7, 7, 8, 8, 9, 9, 9, 10, 11, 11, 12, 14, 14, 7, 7, 7, 8, 8, 9, 9, 9, 9, 10, 11, 11, 12, 14, 14, 14, 15, 16, 17, 17, 17, 18, 18, 18, 19, 19, 19, 20, 20, 20, 20, 21, 22, 22, 23, 24, 15, 16, 17, 17, 18, 18, 18, 19, 20, 20, 20, 20, 21, 22, 22, 23, 23, 24, 25, 26, 26, 27, 27, 27, 28, 29, 30, 31, 32, 32, 32, 33, 33, 33, 33, 34, 34, 25, 25, 26, 26, 27, 28, 29, 30, 30, 31, 31, 32, 32, 33, 33, 34, 35, 35, 36, 36, 37, 37, 38, 38, 39, 39, 40, 40, 40, 41, 41, 42, 42, 42, 43, 44], \"target\": [9, 7, 14, 9, 11, 11, 12, 14, 7, 8, 7, 14, 10, 15, 18, 19, 19, 20, 22, 18, 23, 16, 20, 23, 17, 24, 22, 21, 17, 20, 22, 17, 24, 15, 18, 19, 21, 20, 23, 16, 20, 22, 26, 33, 34, 26, 27, 25, 31, 32, 33, 28, 31, 33, 29, 30, 33, 34, 25, 29, 26, 27, 34, 25, 31, 32, 25, 27, 33, 30, 31, 33, 34, 28, 30, 34, 31, 27, 41, 37, 36, 43, 35, 41, 42, 40, 36, 39, 40, 42, 35, 36, 39, 35, 42, 38, 41, 36, 43, 36, 38, 40, 35, 37, 39, 42, 35, 41, 42, 36, 39, 40, 42, 36, 39, 46, 50, 45, 51, 48, 47, 49, 52, 54, 52, 53, 50, 53, 48, 52, 45, 47, 53, 45, 48, 49, 54, 48, 51, 52, 54, 48, 50, 52, 46, 50, 50, 52, 53, 51, 55], \"value\": [0.8713190955002111, 0.6677091243959229, 0.7389634736416292, 0.5282418720263786, 0.6833924741191187, 0.7382221331586069, 0.41209322624296063, 0.5391227932469226, 0.500031249879209, 0.9546415933577443, 0.8124241782508148, 0.4949709886638219, 0.5368812382461601, 0.824095883274743, 0.7506419123592734, 0.467904751425221, 0.6952748221669187, 0.8100782423349285, 0.46293267468011645, 0.7221336486625405, 0.8413963749346016, 0.6673511328378158, 0.5289948680580406, 0.5770580191535887, 0.6826217669881652, 0.640100577548203, 0.900319399387264, 0.5944952008113362, 0.6196389056280716, 0.5365271126789363, 0.6856466024385125, 0.5931254433941652, 0.762972556657123, 0.5769627892115838, 0.8809763872536863, 0.6052251166949724, 0.7720944547864231, 0.5517936440365727, 0.8972369863673056, 0.7799646536075479, 0.9342034254470425, 0.6288274728576574, 0.5135059075406061, 0.4877185924525053, 0.7925045736555473, 0.5097868704992929, 0.7945681553595827, 0.6341243888621364, 0.4721000134383322, 0.6889056868626439, 0.4888431162623349, 0.8563331329984116, 0.9098008636935505, 0.46368001529512104, 0.7250851998000922, 0.8765277730525515, 0.7111413425638086, 0.5504356071343354, 0.9421072995774029, 0.914993137248136, 0.9334142394748967, 0.4528548689715783, 0.410102659265792, 0.43603380043335416, 0.6075603308548867, 0.871684502084005, 0.4631899873619256, 0.7226857867095602, 0.6807292822755585, 0.7896032002194475, 0.5222410870630383, 0.8323718698957906, 0.48330008461498364, 0.8534266705292769, 0.6252632209044267, 0.9511483139588442, 0.9261463336619606, 0.8237674368209867, 0.8831195049140026, 0.9301269379543459, 0.7184327891690949, 0.623365826888356, 0.45584159974118826, 0.48819753984319436, 0.6921955212364926, 0.868230161165392, 0.46695501951738977, 0.8128899943187482, 0.6477813319617838, 0.4634195499403943, 0.5247657564124195, 0.660470194632378, 0.654857492677047, 0.505554493268305, 0.9013480124896537, 0.9333488325205596, 0.8926228680604386, 0.6939697456610345, 0.7461267485930921, 0.41762664080994283, 0.8363819665892127, 0.5890392991225883, 0.5411362213656185, 0.9202370272967981, 0.9798789133405675, 0.9775326680090839, 0.5744456323773588, 0.4904352559484847, 0.5133836820114882, 0.48288431094414985, 0.5079673752459035, 0.9010147016801848, 0.48529530551755107, 0.7548192824010166, 0.5257841911987663, 0.6399355273037254, 0.6893581968608039, 0.622625412864354, 0.5832078936374661, 0.9241100574033588, 0.5840610653830198, 0.8321250177130765, 0.6435909570699945, 0.7109350471783161, 0.6142276194040165, 0.9136747897267579, 0.7844630041278764, 0.545936915983079, 0.5579072967472928, 0.8995268252313974, 0.7995037007434947, 0.7393465537429696, 0.5430611243934856, 0.9419112701689355, 0.5380425489096976, 0.9278176124803635, 0.41205665099985556, 0.6582728822335485, 0.521541432254718, 0.6805257524123167, 0.778457272939334, 0.7630015033572182, 0.4556435011325335, 0.7426444034740612, 0.7369061170817418, 0.7504575737509244, 0.48124210889501046, 0.574417481902511, 0.9594363997603366, 0.6183396408012553, 0.9189589460762584]}, \"node\": {\"color\": [\"rgba(0.05078125, 0.86328125, 0.2854017857142857, 0.8)\", \"rgba(0.05078125, 0.86328125, 0.4028348214285714, 0.8)\", \"rgba(0.05078125, 0.86328125, 0.5202678571428572, 0.8)\", \"rgba(0.05078125, 0.86328125, 0.6377008928571428, 0.8)\", \"rgba(0.05078125, 0.86328125, 0.7551339285714286, 0.8)\", \"rgba(0.05078125, 0.86328125, 0.8725669642857143, 0.8)\", \"rgba(0.05078125, 0.86328125, 0.99, 0.8)\", \"rgba(0.9140625, 0.7109375, 0.59255859375, 0.8)\", \"rgba(0.9140625, 0.7109375, 0.5093359375, 0.8)\", \"rgba(0.9140625, 0.7109375, 0.42611328125000003, 0.8)\", \"rgba(0.9140625, 0.7109375, 0.342890625, 0.8)\", \"rgba(0.9140625, 0.7109375, 0.25966796875, 0.8)\", \"rgba(0.9140625, 0.7109375, 0.1764453125, 0.8)\", \"rgba(0.9140625, 0.7109375, 0.09322265625000004, 0.8)\", \"rgba(0.9140625, 0.7109375, 0.010000000000000009, 0.8)\", \"rgba(0.203125, 0.5859375, 0.7885, 0.8)\", \"rgba(0.203125, 0.5859375, 0.702, 0.8)\", \"rgba(0.203125, 0.5859375, 0.6155, 0.8)\", \"rgba(0.203125, 0.5859375, 0.529, 0.8)\", \"rgba(0.203125, 0.5859375, 0.4425, 0.8)\", \"rgba(0.203125, 0.5859375, 0.3560000000000001, 0.8)\", \"rgba(0.203125, 0.5859375, 0.2695000000000001, 0.8)\", \"rgba(0.203125, 0.5859375, 0.18300000000000005, 0.8)\", \"rgba(0.203125, 0.5859375, 0.09650000000000003, 0.8)\", \"rgba(0.203125, 0.5859375, 0.010000000000000009, 0.8)\", \"rgba(0.95703125, 0.32421875, 0.404859375, 0.8)\", \"rgba(0.95703125, 0.32421875, 0.469875, 0.8)\", \"rgba(0.95703125, 0.32421875, 0.534890625, 0.8)\", \"rgba(0.95703125, 0.32421875, 0.59990625, 0.8)\", \"rgba(0.95703125, 0.32421875, 0.664921875, 0.8)\", \"rgba(0.95703125, 0.32421875, 0.7299374999999999, 0.8)\", \"rgba(0.95703125, 0.32421875, 0.7949531249999999, 0.8)\", \"rgba(0.95703125, 0.32421875, 0.85996875, 0.8)\", \"rgba(0.95703125, 0.32421875, 0.924984375, 0.8)\", \"rgba(0.95703125, 0.32421875, 0.99, 0.8)\", \"rgba(0.66796875, 0.43359375, 0.27478125, 0.8)\", \"rgba(0.66796875, 0.43359375, 0.35425, 0.8)\", \"rgba(0.66796875, 0.43359375, 0.43371875000000004, 0.8)\", \"rgba(0.66796875, 0.43359375, 0.5131875, 0.8)\", \"rgba(0.66796875, 0.43359375, 0.59265625, 0.8)\", \"rgba(0.66796875, 0.43359375, 0.6721250000000001, 0.8)\", \"rgba(0.66796875, 0.43359375, 0.7515937500000001, 0.8)\", \"rgba(0.66796875, 0.43359375, 0.8310625, 0.8)\", \"rgba(0.66796875, 0.43359375, 0.91053125, 0.8)\", \"rgba(0.66796875, 0.43359375, 0.99, 0.8)\", \"rgba(0.87109375, 0.3828125, 0.5761931818181818, 0.8)\", \"rgba(0.87109375, 0.3828125, 0.5195738636363636, 0.8)\", \"rgba(0.87109375, 0.3828125, 0.46295454545454545, 0.8)\", \"rgba(0.87109375, 0.3828125, 0.4063352272727273, 0.8)\", \"rgba(0.87109375, 0.3828125, 0.3497159090909091, 0.8)\", \"rgba(0.87109375, 0.3828125, 0.2930965909090909, 0.8)\", \"rgba(0.87109375, 0.3828125, 0.23647727272727276, 0.8)\", \"rgba(0.87109375, 0.3828125, 0.17985795454545456, 0.8)\", \"rgba(0.87109375, 0.3828125, 0.12323863636363641, 0.8)\", \"rgba(0.87109375, 0.3828125, 0.06661931818181821, 0.8)\", \"rgba(0.87109375, 0.3828125, 0.010000000000000009, 0.8)\"], \"label\": [\"04 - DSS, scheduling, planning, automation, control\", \"04 - DAI, KR, simulation, pattern recognition, decision support\", \"04 - expert system\", \"04 - ANN\", \"04 - genetic algorithm\", \"04 - fuzzy logic, machine learning, reasoning, learning\", \"04 - agent, robotics, internet, robot\", \"07 - fuzzy logic, machine learning, reasoning, simulation, data mining\", \"07 - genetic algorithm\", \"07 - DSS, decision support, multi agent, planning, decision making\", \"07 - agent, robotics, computer\", \"07 - expert system, expert\", \"07 - ontology, cybernetics, cognitive science, cognition\", \"07 - power, time, routing\", \"07 - ANN\", \"10 - planning, scheduling, control, process control\", \"10 - expert, knowledge, ontology\", \"10 - genetic algorithm, simulation\", \"10 - DSS, multi agent system\", \"10 - multi agent, decision support, decision making, fault diagnosis, CS\", \"10 - ANN\", \"10 - agent, robotics\", \"10 - fuzzy logic, machine learning, reasoning, pattern recognition, learning\", \"10 - expert system\", \"10 - optimization, decision tree, heuristic, algorithm\", \"13 - multi agent, planning, scheduling, control\", \"13 - genetic algorithm\", \"13 - simulation, optimization, decision tree\", \"13 - agent, robotics\", \"13 - ontology, cybernetics, cognitive science\", \"13 - reasoning, KR, pattern recognition\", \"13 - expert system, expert\", \"13 - automation, sensor, monitoring, autonomous agent, management\", \"13 - ANN\", \"13 - fuzzy logic, machine learning, learning\", \"16 - robotics, agent, game, robot\", \"16 - machine learning, fuzzy logic, data mining, SVM, learning\", \"16 - ontology, knowledge, HCI, cybernetics\", \"16 - genetic algorithm\", \"16 - expert, reasoning, KR, pattern recognition, NLP\", \"16 - ANN\", \"16 - planning, scheduling, control, sensor\", \"16 - expert system, multi agent system\", \"16 - anfis, fuzzy set, clustering, wavelet transform, fuzzy\", \"16 - power, fpga, routing, energy, sat\", \"18 - machine learning, fuzzy logic, data mining, learning\", \"18 - planning, control, scheduling\", \"18 - robotics, agent, internet thing, robot, game\", \"18 - SVM, simulation, multi agent, decision support, CNN\", \"18 - ontology, knowledge, HCI, KE\", \"18 - decision making, multi agent system, DSS, automation\", \"18 - genetic algorithm\", \"18 - ANN\", \"18 - expert system\", \"18 - expert, reasoning, KR, NLP, pattern recognition\", \"18 - power, fpga, energy, routing, mppt\"], \"line\": {\"color\": \"black\", \"width\": 0}, \"pad\": 15, \"thickness\": 10}, \"type\": \"sankey\"}],\n",
       "                        {\"autosize\": false, \"font\": {\"size\": 11}, \"height\": 900, \"template\": {\"data\": {\"bar\": [{\"error_x\": {\"color\": \"#2a3f5f\"}, \"error_y\": {\"color\": \"#2a3f5f\"}, \"marker\": {\"line\": {\"color\": \"#E5ECF6\", \"width\": 0.5}}, \"type\": \"bar\"}], \"barpolar\": [{\"marker\": {\"line\": {\"color\": \"#E5ECF6\", \"width\": 0.5}}, \"type\": \"barpolar\"}], \"carpet\": [{\"aaxis\": {\"endlinecolor\": \"#2a3f5f\", \"gridcolor\": \"white\", \"linecolor\": \"white\", \"minorgridcolor\": \"white\", \"startlinecolor\": \"#2a3f5f\"}, \"baxis\": {\"endlinecolor\": \"#2a3f5f\", \"gridcolor\": \"white\", \"linecolor\": \"white\", \"minorgridcolor\": \"white\", \"startlinecolor\": \"#2a3f5f\"}, \"type\": \"carpet\"}], \"choropleth\": [{\"colorbar\": {\"outlinewidth\": 0, \"ticks\": \"\"}, \"type\": \"choropleth\"}], \"contour\": [{\"colorbar\": {\"outlinewidth\": 0, \"ticks\": \"\"}, \"colorscale\": [[0.0, \"#0d0887\"], [0.1111111111111111, \"#46039f\"], [0.2222222222222222, \"#7201a8\"], [0.3333333333333333, \"#9c179e\"], [0.4444444444444444, \"#bd3786\"], [0.5555555555555556, \"#d8576b\"], [0.6666666666666666, \"#ed7953\"], [0.7777777777777778, \"#fb9f3a\"], [0.8888888888888888, \"#fdca26\"], [1.0, \"#f0f921\"]], \"type\": \"contour\"}], \"contourcarpet\": [{\"colorbar\": {\"outlinewidth\": 0, \"ticks\": \"\"}, \"type\": \"contourcarpet\"}], \"heatmap\": [{\"colorbar\": {\"outlinewidth\": 0, \"ticks\": \"\"}, \"colorscale\": [[0.0, \"#0d0887\"], [0.1111111111111111, \"#46039f\"], [0.2222222222222222, \"#7201a8\"], [0.3333333333333333, \"#9c179e\"], [0.4444444444444444, \"#bd3786\"], [0.5555555555555556, \"#d8576b\"], [0.6666666666666666, \"#ed7953\"], [0.7777777777777778, \"#fb9f3a\"], [0.8888888888888888, \"#fdca26\"], [1.0, \"#f0f921\"]], \"type\": \"heatmap\"}], \"heatmapgl\": [{\"colorbar\": {\"outlinewidth\": 0, \"ticks\": \"\"}, \"colorscale\": [[0.0, \"#0d0887\"], [0.1111111111111111, \"#46039f\"], [0.2222222222222222, \"#7201a8\"], [0.3333333333333333, \"#9c179e\"], [0.4444444444444444, \"#bd3786\"], [0.5555555555555556, \"#d8576b\"], [0.6666666666666666, \"#ed7953\"], [0.7777777777777778, \"#fb9f3a\"], [0.8888888888888888, \"#fdca26\"], [1.0, \"#f0f921\"]], \"type\": \"heatmapgl\"}], \"histogram\": [{\"marker\": {\"colorbar\": {\"outlinewidth\": 0, \"ticks\": \"\"}}, \"type\": \"histogram\"}], \"histogram2d\": [{\"colorbar\": {\"outlinewidth\": 0, \"ticks\": \"\"}, \"colorscale\": [[0.0, \"#0d0887\"], [0.1111111111111111, \"#46039f\"], [0.2222222222222222, \"#7201a8\"], [0.3333333333333333, \"#9c179e\"], [0.4444444444444444, \"#bd3786\"], [0.5555555555555556, \"#d8576b\"], [0.6666666666666666, \"#ed7953\"], [0.7777777777777778, \"#fb9f3a\"], [0.8888888888888888, \"#fdca26\"], [1.0, \"#f0f921\"]], \"type\": \"histogram2d\"}], \"histogram2dcontour\": [{\"colorbar\": {\"outlinewidth\": 0, \"ticks\": \"\"}, \"colorscale\": [[0.0, \"#0d0887\"], [0.1111111111111111, \"#46039f\"], [0.2222222222222222, \"#7201a8\"], [0.3333333333333333, \"#9c179e\"], [0.4444444444444444, \"#bd3786\"], [0.5555555555555556, \"#d8576b\"], [0.6666666666666666, \"#ed7953\"], [0.7777777777777778, \"#fb9f3a\"], [0.8888888888888888, \"#fdca26\"], [1.0, \"#f0f921\"]], \"type\": \"histogram2dcontour\"}], \"mesh3d\": [{\"colorbar\": {\"outlinewidth\": 0, \"ticks\": \"\"}, \"type\": \"mesh3d\"}], \"parcoords\": [{\"line\": {\"colorbar\": {\"outlinewidth\": 0, \"ticks\": \"\"}}, \"type\": \"parcoords\"}], \"scatter\": [{\"marker\": {\"colorbar\": {\"outlinewidth\": 0, \"ticks\": \"\"}}, \"type\": \"scatter\"}], \"scatter3d\": [{\"line\": {\"colorbar\": {\"outlinewidth\": 0, \"ticks\": \"\"}}, \"marker\": {\"colorbar\": {\"outlinewidth\": 0, \"ticks\": \"\"}}, \"type\": \"scatter3d\"}], \"scattercarpet\": [{\"marker\": {\"colorbar\": {\"outlinewidth\": 0, \"ticks\": \"\"}}, \"type\": \"scattercarpet\"}], \"scattergeo\": [{\"marker\": {\"colorbar\": {\"outlinewidth\": 0, \"ticks\": \"\"}}, \"type\": \"scattergeo\"}], \"scattergl\": [{\"marker\": {\"colorbar\": {\"outlinewidth\": 0, \"ticks\": \"\"}}, \"type\": \"scattergl\"}], \"scattermapbox\": [{\"marker\": {\"colorbar\": {\"outlinewidth\": 0, \"ticks\": \"\"}}, \"type\": \"scattermapbox\"}], \"scatterpolar\": [{\"marker\": {\"colorbar\": {\"outlinewidth\": 0, \"ticks\": \"\"}}, \"type\": \"scatterpolar\"}], \"scatterpolargl\": [{\"marker\": {\"colorbar\": {\"outlinewidth\": 0, \"ticks\": \"\"}}, \"type\": \"scatterpolargl\"}], \"scatterternary\": [{\"marker\": {\"colorbar\": {\"outlinewidth\": 0, \"ticks\": \"\"}}, \"type\": \"scatterternary\"}], \"surface\": [{\"colorbar\": {\"outlinewidth\": 0, \"ticks\": \"\"}, \"colorscale\": [[0.0, \"#0d0887\"], [0.1111111111111111, \"#46039f\"], [0.2222222222222222, \"#7201a8\"], [0.3333333333333333, \"#9c179e\"], [0.4444444444444444, \"#bd3786\"], [0.5555555555555556, \"#d8576b\"], [0.6666666666666666, \"#ed7953\"], [0.7777777777777778, \"#fb9f3a\"], [0.8888888888888888, \"#fdca26\"], [1.0, \"#f0f921\"]], \"type\": \"surface\"}], \"table\": [{\"cells\": {\"fill\": {\"color\": \"#EBF0F8\"}, \"line\": {\"color\": \"white\"}}, \"header\": {\"fill\": {\"color\": \"#C8D4E3\"}, \"line\": {\"color\": \"white\"}}, \"type\": \"table\"}]}, \"layout\": {\"annotationdefaults\": {\"arrowcolor\": \"#2a3f5f\", \"arrowhead\": 0, \"arrowwidth\": 1}, \"colorscale\": {\"diverging\": [[0, \"#8e0152\"], [0.1, \"#c51b7d\"], [0.2, \"#de77ae\"], [0.3, \"#f1b6da\"], [0.4, \"#fde0ef\"], [0.5, \"#f7f7f7\"], [0.6, \"#e6f5d0\"], [0.7, \"#b8e186\"], [0.8, \"#7fbc41\"], [0.9, \"#4d9221\"], [1, \"#276419\"]], \"sequential\": [[0.0, \"#0d0887\"], [0.1111111111111111, \"#46039f\"], [0.2222222222222222, \"#7201a8\"], [0.3333333333333333, \"#9c179e\"], [0.4444444444444444, \"#bd3786\"], [0.5555555555555556, \"#d8576b\"], [0.6666666666666666, \"#ed7953\"], [0.7777777777777778, \"#fb9f3a\"], [0.8888888888888888, \"#fdca26\"], [1.0, \"#f0f921\"]], \"sequentialminus\": [[0.0, \"#0d0887\"], [0.1111111111111111, \"#46039f\"], [0.2222222222222222, \"#7201a8\"], [0.3333333333333333, \"#9c179e\"], [0.4444444444444444, \"#bd3786\"], [0.5555555555555556, \"#d8576b\"], [0.6666666666666666, \"#ed7953\"], [0.7777777777777778, \"#fb9f3a\"], [0.8888888888888888, \"#fdca26\"], [1.0, \"#f0f921\"]]}, \"colorway\": [\"#636efa\", \"#EF553B\", \"#00cc96\", \"#ab63fa\", \"#FFA15A\", \"#19d3f3\", \"#FF6692\", \"#B6E880\", \"#FF97FF\", \"#FECB52\"], \"font\": {\"color\": \"#2a3f5f\"}, \"geo\": {\"bgcolor\": \"white\", \"lakecolor\": \"white\", \"landcolor\": \"#E5ECF6\", \"showlakes\": true, \"showland\": true, \"subunitcolor\": \"white\"}, \"hoverlabel\": {\"align\": \"left\"}, \"hovermode\": \"closest\", \"mapbox\": {\"style\": \"light\"}, \"paper_bgcolor\": \"white\", \"plot_bgcolor\": \"#E5ECF6\", \"polar\": {\"angularaxis\": {\"gridcolor\": \"white\", \"linecolor\": \"white\", \"ticks\": \"\"}, \"bgcolor\": \"#E5ECF6\", \"radialaxis\": {\"gridcolor\": \"white\", \"linecolor\": \"white\", \"ticks\": \"\"}}, \"scene\": {\"xaxis\": {\"backgroundcolor\": \"#E5ECF6\", \"gridcolor\": \"white\", \"gridwidth\": 2, \"linecolor\": \"white\", \"showbackground\": true, \"ticks\": \"\", \"zerolinecolor\": \"white\"}, \"yaxis\": {\"backgroundcolor\": \"#E5ECF6\", \"gridcolor\": \"white\", \"gridwidth\": 2, \"linecolor\": \"white\", \"showbackground\": true, \"ticks\": \"\", \"zerolinecolor\": \"white\"}, \"zaxis\": {\"backgroundcolor\": \"#E5ECF6\", \"gridcolor\": \"white\", \"gridwidth\": 2, \"linecolor\": \"white\", \"showbackground\": true, \"ticks\": \"\", \"zerolinecolor\": \"white\"}}, \"shapedefaults\": {\"line\": {\"color\": \"#2a3f5f\"}}, \"ternary\": {\"aaxis\": {\"gridcolor\": \"white\", \"linecolor\": \"white\", \"ticks\": \"\"}, \"baxis\": {\"gridcolor\": \"white\", \"linecolor\": \"white\", \"ticks\": \"\"}, \"bgcolor\": \"#E5ECF6\", \"caxis\": {\"gridcolor\": \"white\", \"linecolor\": \"white\", \"ticks\": \"\"}}, \"title\": {\"x\": 0.05}, \"xaxis\": {\"automargin\": true, \"gridcolor\": \"white\", \"linecolor\": \"white\", \"ticks\": \"\", \"zerolinecolor\": \"white\", \"zerolinewidth\": 2}, \"yaxis\": {\"automargin\": true, \"gridcolor\": \"white\", \"linecolor\": \"white\", \"ticks\": \"\", \"zerolinecolor\": \"white\", \"zerolinewidth\": 2}}}, \"title\": {\"text\": \"H-Clustering -Author Keywords - Cumulative Development of fields: Docs 1990-2004 to 1990-2018 : Enhanced number of clusters  - pow 16 - thresh 0.41\"}, \"width\": 1500},\n",
       "                        {\"responsive\": true}\n",
       "                    ).then(function(){\n",
       "                            \n",
       "var gd = document.getElementById('bca43fa2-bf21-4708-8250-052c5bd915d6');\n",
       "var x = new MutationObserver(function (mutations, observer) {{\n",
       "        var display = window.getComputedStyle(gd).display;\n",
       "        if (!display || display === 'none') {{\n",
       "            console.log([gd, 'removed!']);\n",
       "            Plotly.purge(gd);\n",
       "            observer.disconnect();\n",
       "        }}\n",
       "}});\n",
       "\n",
       "// Listen for the removal of the full notebook cells\n",
       "var notebookContainer = gd.closest('#notebook-container');\n",
       "if (notebookContainer) {{\n",
       "    x.observe(notebookContainer, {childList: true});\n",
       "}}\n",
       "\n",
       "// Listen for the clearing of the current output cell\n",
       "var outputEl = gd.closest('.output');\n",
       "if (outputEl) {{\n",
       "    x.observe(outputEl, {childList: true});\n",
       "}}\n",
       "\n",
       "                        })\n",
       "                };\n",
       "                });\n",
       "            </script>\n",
       "        </div>"
      ]
     },
     "metadata": {},
     "output_type": "display_data"
    }
   ],
   "source": [
    "fig = go.Figure(data=[go.Sankey(\n",
    "    node = dict(\n",
    "      pad = 15,\n",
    "      thickness = 10,\n",
    "      line = dict(color = \"black\", width = 0),\n",
    "      label = labels_all_new,\n",
    "      color = colors_all #\"blue\"\n",
    "    ),\n",
    "    link = dict(\n",
    "      source = similarity_source,# 1, 0, 2, 3, 3], # indices correspond to labels, eg A1, A2, A2, B1, ...\n",
    "      target = similarity_target,# 3, 3, 4, 4, 5],\n",
    "      value = similarity_value,# 4, 2, 8, 4, 2],\n",
    "      color = final_colors_links #\"grey\"\n",
    "  ))])\n",
    "\n",
    "fig.update_layout(title_text=\"H-Clustering -\"+data_type+\" Development of fields: Docs 1990-2004 to \"+last_period_start+\"-2018 : Enhanced number of clusters  - pow \"+str(power)+\" - thresh \"+str(link_strength_threshold), font_size=11)\n",
    "fig.update_layout(\n",
    "    autosize=False,\n",
    "    width=1500,\n",
    "    height=900)\n",
    "fig.show()"
   ]
  },
  {
   "cell_type": "code",
   "execution_count": null,
   "metadata": {},
   "outputs": [],
   "source": []
  },
  {
   "cell_type": "code",
   "execution_count": null,
   "metadata": {},
   "outputs": [],
   "source": []
  }
 ],
 "metadata": {
  "kernelspec": {
   "display_name": "Python 3",
   "language": "python",
   "name": "python3"
  },
  "language_info": {
   "codemirror_mode": {
    "name": "ipython",
    "version": 3
   },
   "file_extension": ".py",
   "mimetype": "text/x-python",
   "name": "python",
   "nbconvert_exporter": "python",
   "pygments_lexer": "ipython3",
   "version": "3.7.3"
  }
 },
 "nbformat": 4,
 "nbformat_minor": 2
}
