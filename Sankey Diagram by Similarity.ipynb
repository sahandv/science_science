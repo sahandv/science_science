{
 "cells": [
  {
   "cell_type": "markdown",
   "metadata": {},
   "source": [
    "# Sankey Diagram by Similarity Scores\n"
   ]
  },
  {
   "cell_type": "markdown",
   "metadata": {},
   "source": [
    "### Import Libs"
   ]
  },
  {
   "cell_type": "code",
   "execution_count": 1,
   "metadata": {},
   "outputs": [],
   "source": [
    "import plotly.graph_objects as go\n",
    "from skimage import io\n",
    "import urllib, json\n",
    "import pandas as pd\n",
    "import numpy as np\n",
    "from sciosci.assets import advanced_assets as aa\n",
    "from tqdm import tqdm\n",
    "import re"
   ]
  },
  {
   "cell_type": "markdown",
   "metadata": {},
   "source": [
    "### Initialize"
   ]
  },
  {
   "cell_type": "code",
   "execution_count": 25,
   "metadata": {},
   "outputs": [],
   "source": [
    "random_link_colors = False\n",
    "multi_year_similarity = True\n",
    "\n",
    "comment = ''\n",
    "clustering_method = 'agglomerative ward '\n",
    "link_strength_threshold = 0.90\n",
    "link_strength_threshold_2 = 0.95\n",
    "power = 3 # value power for increasing the differences "
   ]
  },
  {
   "cell_type": "markdown",
   "metadata": {},
   "source": [
    "#### Separated years"
   ]
  },
  {
   "cell_type": "code",
   "execution_count": null,
   "metadata": {},
   "outputs": [],
   "source": [
    "last_period_start = \"2017\"\n",
    "data_type = \"Author Keywords - Abstract Words \"\n",
    "label_source = ''\n",
    "year_periods_topics = [\"8\",\"8\",\"12\",\"12\",\"16\",\"16\"]  #[\"7\",\"7\",\"9\",\"13\",\"13\",\"17\"]  \n",
    "# Sorted periods' topic numbers from new to old from left to right\n",
    "year_periods = [\"1990-2004\",\"2005-2007\",\"2008-2010\",\"2011-2013\",\"2014-2016\",\"2017-2018\"] \n",
    "# Sorted year periods from new to old from left to right\n",
    "data_directory = '/home/sahand/GoogleDrive/Data/Word Clustering/50D/'"
   ]
  },
  {
   "cell_type": "markdown",
   "metadata": {},
   "source": [
    "#### cumulative years"
   ]
  },
  {
   "cell_type": "code",
   "execution_count": null,
   "metadata": {},
   "outputs": [],
   "source": [
    "last_period_start = \"1990\"\n",
    "data_type = \"Author Keywords - Cumulative\"\n",
    "year_periods_topics = [\"7\",\"8\",\"10\",\"10\",\"10\",\"11\"]  \n",
    "# Sorted periods' topic numbers from new to old from left to right\n",
    "year_periods = [\"1990-2004\",\"1990-2007\",\"1990-2010\",\"1990-2013\",\"1990-2016\",\"1990-2018\"] \n",
    "# Sorted year periods from new to old from left to right\n",
    "data_directory = 'data/clusters/FastText/15D/10 dim/'"
   ]
  },
  {
   "cell_type": "markdown",
   "metadata": {},
   "source": [
    "#### cumulative documents"
   ]
  },
  {
   "cell_type": "code",
   "execution_count": null,
   "metadata": {},
   "outputs": [],
   "source": [
    "last_period_start = \"1990\"\n",
    "label_source = 'topics/'#authkeyword/'\n",
    "data_type = \"Abstracts+Titles - Cumulative\"\n",
    "year_periods_topics = [\"9\",\"10\",\"11\",\"14\",\"15\",\"15\"]\n",
    "# Sorted periods' topic numbers from new to old from left to right\n",
    "year_periods = [\"1990-2004\",\"1990-2007\",\"1990-2010\",\"1990-2013\",\"1990-2016\",\"1990-2018\"] \n",
    "# Sorted year periods from new to old from left to right\n",
    "data_directory = '/home/sahand/GoogleDrive/Data/FastText doc clusters - SIP/50D/'\n",
    "#'data/clusters/FastText/50D/'"
   ]
  },
  {
   "cell_type": "markdown",
   "metadata": {},
   "source": [
    "#### Separated documents"
   ]
  },
  {
   "cell_type": "code",
   "execution_count": 13,
   "metadata": {},
   "outputs": [],
   "source": [
    "last_period_start = \"2017\"\n",
    "label_source = ''#authkeyword/'\n",
    "data_type = \"Abstracts+Titles - Separated\"\n",
    "year_periods_topics = [\"6\",\"6\",\"7\",\"9\",\"9\",\"12\"]\n",
    "# Sorted periods' topic numbers from new to old from left to right\n",
    "year_periods = [\"1990-2004\",\"2005-2007\",\"2008-2010\",\"2011-2013\",\"2014-2016\",\"2017-2018\"] \n",
    "# Sorted year periods from new to old from left to right\n",
    "data_directory = '/home/sahand/GoogleDrive/Data/Document Clustering/50D w1/'\n",
    "#'data/clusters/FastText/50D/'"
   ]
  },
  {
   "cell_type": "markdown",
   "metadata": {},
   "source": [
    "### Read & Prepare Data"
   ]
  },
  {
   "cell_type": "markdown",
   "metadata": {},
   "source": [
    "Generate nodes and links"
   ]
  },
  {
   "cell_type": "code",
   "execution_count": 4,
   "metadata": {},
   "outputs": [
    {
     "name": "stdout",
     "output_type": "stream",
     "text": [
      "Node colors are:\n"
     ]
    },
    {
     "data": {
      "image/png": "[encoded data removed]",
      "text/plain": [
       "<Figure size 432x288 with 1 Axes>"
      ]
     },
     "metadata": {
      "needs_background": "light"
     },
     "output_type": "display_data"
    }
   ],
   "source": [
    "node_colors_palette = aa.color_palette_maker(len(year_periods_topics),alpha=0.8)\n",
    "node_colors = ['rgba('+str(x).replace('[','').replace(']','')+')' for x in node_colors_palette]\n",
    "link_colors = [x[:-4]+'0.4)' for x in node_colors]\n",
    "node_colors_palette = np.array([node_colors_palette])\n",
    "print(\"Node colors are:\")\n",
    "io.imshow(np.delete(node_colors_palette,3,1))\n",
    "labels_numeric_dict = {per:[] for per in year_periods}\n"
   ]
  },
  {
   "cell_type": "code",
   "execution_count": 14,
   "metadata": {},
   "outputs": [],
   "source": [
    "def color_alternator(rgba_colors,up_thresh = 0.8, down_thresh = 0.2, color_part = 2):\n",
    "    new_colors = []\n",
    "    color_s = rgba_colors[0].split(', ')\n",
    "    cell = float(rgba_colors[0].split(', ')[color_part])\n",
    "    if cell > 0.5:\n",
    "        portion = (cell-down_thresh)/len(rgba_colors)\n",
    "    else:\n",
    "        portion = (up_thresh-cell)/len(rgba_colors)\n",
    "\n",
    "    for idx,color in enumerate(topic_colors):\n",
    "        if cell > 0.5:\n",
    "            new_cell = cell-(idx+1)*portion\n",
    "        else:\n",
    "            new_cell = cell+(idx+1)*portion\n",
    "\n",
    "        color_s[color_part] = str(new_cell)\n",
    "        new_colors.append(', '.join(color_s))\n",
    "    return new_colors"
   ]
  },
  {
   "cell_type": "markdown",
   "metadata": {},
   "source": [
    "### Process"
   ]
  },
  {
   "cell_type": "markdown",
   "metadata": {},
   "source": [
    "#### Multi year similarity"
   ]
  },
  {
   "cell_type": "code",
   "execution_count": 15,
   "metadata": {},
   "outputs": [
    {
     "data": {
      "text/plain": [
       "[[0, 1, 2, 3, 4, 5],\n",
       " [6, 7, 8, 9, 10, 11],\n",
       " [12, 13, 14, 15, 16, 17, 18],\n",
       " [19, 20, 21, 22, 23, 24, 25, 26, 27],\n",
       " [28, 29, 30, 31, 32, 33, 34, 35, 36],\n",
       " [37, 38, 39, 40, 41, 42, 43, 44, 45, 46, 47, 48]]"
      ]
     },
     "execution_count": 15,
     "metadata": {},
     "output_type": "execute_result"
    }
   ],
   "source": [
    "# Give unique ID to all clusters\n",
    "total = 0\n",
    "cluster_ids = []\n",
    "for period_index, period in enumerate(year_periods):\n",
    "    cluster_ids.append(list(range(total,int(year_periods_topics[period_index])+total)))\n",
    "    total = total + int(year_periods_topics[period_index])\n",
    "cluster_ids"
   ]
  },
  {
   "cell_type": "code",
   "execution_count": 26,
   "metadata": {},
   "outputs": [
    {
     "name": "stderr",
     "output_type": "stream",
     "text": [
      "100%|██████████| 6/6 [00:00<00:00, 2375.70it/s]\n",
      "100%|██████████| 6/6 [00:00<00:00, 2264.74it/s]\n",
      "100%|██████████| 7/7 [00:00<00:00, 2663.77it/s]\n",
      "100%|██████████| 9/9 [00:00<00:00, 2556.29it/s]\n",
      "100%|██████████| 9/9 [00:00<00:00, 2894.84it/s]\n",
      "100%|██████████| 12/12 [00:00<00:00, 2010.77it/s]"
     ]
    },
    {
     "name": "stdout",
     "output_type": "stream",
     "text": [
      "1990-2004 6 0\n",
      "2005-2007 6 6\n",
      "2008-2010 7 12\n",
      "2011-2013 9 19\n",
      "2014-2016 9 28\n",
      "2017-2018 12 37\n"
     ]
    },
    {
     "name": "stderr",
     "output_type": "stream",
     "text": [
      "\n"
     ]
    }
   ],
   "source": [
    "labels_all = []\n",
    "labels_all_numeric = []\n",
    "labels_all_numeric_sequential = []\n",
    "colors_all = []\n",
    "colors_all_links = []\n",
    "\n",
    "similarity_source = []\n",
    "similarity_target = []\n",
    "similarity_value = []\n",
    "\n",
    "if multi_year_similarity is True:\n",
    "    for period_index, period in enumerate(year_periods):\n",
    "        print(period,year_periods_topics[period_index],cluster_ids[period_index][0])\n",
    "\n",
    "        terms = pd.read_csv(data_directory+'term_cluster-tables/'+label_source+period+\" \"+year_periods_topics[period_index]+\" - term_cluster.csv\").fillna('')\n",
    "        scores = pd.read_csv(data_directory+'term_cluster-tables/'+label_source+period+\" \"+year_periods_topics[period_index]+\" - term_score.csv\").fillna(0)\n",
    "    \n",
    "        \n",
    "        labels_this_period = aa.topic_label_maker(terms,scores,ratio=10,\n",
    "                                                  prefix=period.split('-')[1][-2:]+' - ',limit=5)\n",
    "        \n",
    "        labels_all = labels_all + labels_this_period\n",
    "        labels_all_numeric = labels_all_numeric + [str(x) for x in list(range(0,len(labels_this_period)))]\n",
    "        \n",
    "        topic_colors = [node_colors[period_index]] * len(labels_this_period)\n",
    "        topic_colors = color_alternator(topic_colors,up_thresh = 0.99, down_thresh = 0.01, color_part = 2)\n",
    "        colors_all = colors_all + topic_colors\n",
    "        \n",
    "        topic_link_colors = [link_colors[period_index]] * len(labels_this_period)\n",
    "        topic_link_colors = color_alternator(topic_link_colors,up_thresh = 0.99, down_thresh = 0.01, color_part = 2)\n",
    "        colors_all_links = colors_all_links + topic_link_colors\n",
    "        \n",
    "    #    similarity_scores = None\n",
    "        if period_index < len(year_periods) - 1:\n",
    "            similarity_scores = pd.read_csv(data_directory+'similarity/'+clustering_method+year_periods[period_index]+\"_\"+year_periods_topics[period_index]+\"-\"+year_periods[period_index+1]+\"_\"+year_periods_topics[period_index+1]+\".csv\")\n",
    "    #        terms_previous_period = pd.read_csv(data_directory+\"cumulative/\"+year_periods[period_index+1]+\"_\"+year_periods_topics[period_index+1]+\"/top_99-percentile_keywords_terms-spaced.csv\")\n",
    "\n",
    "            # flatten the similarity scores\n",
    "            for period_cluster_no,row in similarity_scores.iterrows(): # repeat to n_clusters of A\n",
    "\n",
    "                elem_num = len(row.values.tolist()) # number of columns in similarity file\n",
    "                for idx in range(1,elem_num,2):     # repeat to n_clusters of B\n",
    "                    if row.values.tolist()[idx+1]**power > link_strength_threshold:\n",
    "                        similarity_source.append(int(row.values.tolist()[0]) + cluster_ids[period_index][0])\n",
    "                        similarity_target.append(int(row.values.tolist()[idx]) + cluster_ids[period_index+1][0])\n",
    "                        similarity_value.append(row.values.tolist()[idx+1]**power)\n",
    "                \n",
    "        if period_index < len(year_periods) - 2:\n",
    "            try:\n",
    "                similarity_scores = pd.read_csv(data_directory+'similarity/'+clustering_method+year_periods[period_index]+\"_\"+year_periods_topics[period_index]+\"-\"+year_periods[period_index+2]+\"_\"+year_periods_topics[period_index+2]+\".csv\")\n",
    "    #        terms_previous_period = pd.read_csv(data_directory+\"cumulative/\"+year_periods[period_index+1]+\"_\"+year_periods_topics[period_index+1]+\"/top_99-percentile_keywords_terms-spaced.csv\")\n",
    "            except:\n",
    "                print(\"\\nThere is no similarity record at \",data_directory+'similarity/'+clustering_method+year_periods[period_index]+\"_\"+year_periods_topics[period_index]+\"-\"+year_periods[period_index+2]+\"_\"+year_periods_topics[period_index+2]+\".csv\")\n",
    "                similarity_scores = None\n",
    "                continue\n",
    "                \n",
    "            for period_cluster_no,row in similarity_scores.iterrows(): # repeat to n_clusters of A\n",
    "\n",
    "                elem_num = len(row.values.tolist()) # number of columns in similarity file\n",
    "                for idx in range(1,elem_num,2):     # repeat to n_clusters of B\n",
    "                    if row.values.tolist()[idx+1]**power > link_strength_threshold_2:\n",
    "                        similarity_source.append(int(row.values.tolist()[0]) + cluster_ids[period_index][0])\n",
    "                        similarity_target.append(int(row.values.tolist()[idx]) + cluster_ids[period_index+2][0])\n",
    "                        similarity_value.append(row.values.tolist()[idx+1]**power)\n",
    "                \n",
    "                \n",
    "    labels_all_numeric_sequential = [str(x) for x in list(range(0,len(labels_all_numeric)))]"
   ]
  },
  {
   "cell_type": "markdown",
   "metadata": {},
   "source": [
    "### Draw"
   ]
  },
  {
   "cell_type": "markdown",
   "metadata": {},
   "source": [
    "#### Prepare links"
   ]
  },
  {
   "cell_type": "markdown",
   "metadata": {},
   "source": [
    "* For clustered colors:"
   ]
  },
  {
   "cell_type": "code",
   "execution_count": 27,
   "metadata": {},
   "outputs": [
    {
     "name": "stderr",
     "output_type": "stream",
     "text": [
      "100%|██████████| 156/156 [00:00<00:00, 141503.34it/s]\n"
     ]
    }
   ],
   "source": [
    "if random_link_colors is False:\n",
    "    final_colors_links = [colors_all_links[x] for x in similarity_source] # in similarity_source]\n",
    "    final_color_links_varied = []\n",
    "    for i,value in tqdm(enumerate(similarity_value),total=len(similarity_value)):\n",
    "        final_color_links_varied.append(final_colors_links[i].replace(', 0.4',', '+str(value/2)))\n",
    "#         print(final_color_links_varied[i])\n",
    "    final_colors_links = final_color_links_varied"
   ]
  },
  {
   "cell_type": "markdown",
   "metadata": {},
   "source": [
    "* For random colors:"
   ]
  },
  {
   "cell_type": "code",
   "execution_count": 28,
   "metadata": {},
   "outputs": [],
   "source": [
    "if random_link_colors is True:\n",
    "    final_colors_links = ['rgba('+str(x).replace('[','').replace(']','')+')' for x in aa.color_palette_maker(len(similarity_target),alpha=0.3)]"
   ]
  },
  {
   "cell_type": "markdown",
   "metadata": {},
   "source": [
    "#### Prepare labels"
   ]
  },
  {
   "cell_type": "code",
   "execution_count": 29,
   "metadata": {},
   "outputs": [
    {
     "name": "stderr",
     "output_type": "stream",
     "text": [
      "100%|██████████| 49/49 [00:00<00:00, 36530.55it/s]\n"
     ]
    }
   ],
   "source": [
    "labels_all_new = []\n",
    "for label in tqdm(labels_all):\n",
    "    label_to_split = label.split('- ')\n",
    "    label_split = label_to_split[1].split(', ')\n",
    "    label_split_new = []\n",
    "    for split in label_split:\n",
    "        if len(split)>20:\n",
    "            label_split_new.append(aa.abbreviator(split))\n",
    "        else:\n",
    "            label_split_new.append(split)\n",
    "    labels_all_new.append(label_to_split[0]+'- '+', '.join(label_split_new))\n",
    "labels_all_new = [label.replace('computer science','cs').replace('engineering','en') for label in labels_all_new]"
   ]
  },
  {
   "cell_type": "markdown",
   "metadata": {},
   "source": [
    "#### Draw"
   ]
  },
  {
   "cell_type": "code",
   "execution_count": 30,
   "metadata": {},
   "outputs": [
    {
     "data": {
      "application/vnd.plotly.v1+json": {
       "config": {
        "plotlyServerURL": "https://plot.ly"
       },
       "data": [
        {
         "link": {
          "color": [
           "rgba(0.46484375, 0.7265625, 0.370078125, 0.4888714321535597)",
           "rgba(0.46484375, 0.7265625, 0.370078125, 0.4716036931617263)",
           "rgba(0.46484375, 0.7265625, 0.370078125, 0.46141060188228844)",
           "rgba(0.46484375, 0.7265625, 0.370078125, 0.45320962865840936)",
           "rgba(0.46484375, 0.7265625, 0.370078125, 0.4820412878901984)",
           "rgba(0.46484375, 0.7265625, 0.487972997014431869406249999999996, 0.48797299701443186)",
           "rgba(0.46484375, 0.7265625, 0.46812713465009529406249999999996, 0.4681271346500952)",
           "rgba(0.46484375, 0.7265625, 0.46339419127882559406249999999996, 0.4633941912788255)",
           "rgba(0.46484375, 0.7265625, 0.45204468274572649406249999999996, 0.4520446827457264)",
           "rgba(0.46484375, 0.7265625, 0.48341434771619929406249999999996, 0.4834143477161992)",
           "rgba(0.46484375, 0.7265625, 0.618046875, 0.4815775097018558)",
           "rgba(0.46484375, 0.7265625, 0.618046875, 0.4680919310652873)",
           "rgba(0.46484375, 0.7265625, 0.618046875, 0.46177290794642145)",
           "rgba(0.46484375, 0.7265625, 0.618046875, 0.45070085538777716)",
           "rgba(0.46484375, 0.7265625, 0.618046875, 0.4840412934588342)",
           "rgba(0.46484375, 0.7265625, 0.7420312499999999, 0.48772342051239725)",
           "rgba(0.46484375, 0.7265625, 0.7420312499999999, 0.47155534861963017)",
           "rgba(0.46484375, 0.7265625, 0.7420312499999999, 0.46180484849605463)",
           "rgba(0.46484375, 0.7265625, 0.7420312499999999, 0.45632674857980127)",
           "rgba(0.46484375, 0.7265625, 0.7420312499999999, 0.48144782263965236)",
           "rgba(0.46484375, 0.7265625, 0.866015625, 0.4804618753429488)",
           "rgba(0.46484375, 0.7265625, 0.866015625, 0.46225812243722314)",
           "rgba(0.46484375, 0.7265625, 0.866015625, 0.464967219536455)",
           "rgba(0.46484375, 0.7265625, 0.866015625, 0.48657533950730064)",
           "rgba(0.46484375, 0.7265625, 0.99, 0.4854857458953202)",
           "rgba(0.46484375, 0.7265625, 0.99, 0.4691242628754723)",
           "rgba(0.46484375, 0.7265625, 0.99, 0.4642445999201782)",
           "rgba(0.46484375, 0.7265625, 0.99, 0.453206022877321)",
           "rgba(0.46484375, 0.7265625, 0.99, 0.4825114437768258)",
           "rgba(0.46484375, 0.7265625, 0.370078125, 0.4832110629284024)",
           "rgba(0.46484375, 0.7265625, 0.370078125, 0.48444072605845256)",
           "rgba(0.46484375, 0.7265625, 0.48457893397966539406249999999996, 0.4845789339796653)",
           "rgba(0.46484375, 0.7265625, 0.4829330080918529406249999999996, 0.482933008091852)",
           "rgba(0.46484375, 0.7265625, 0.618046875, 0.48207317521493676)",
           "rgba(0.46484375, 0.7265625, 0.618046875, 0.4854024749250355)",
           "rgba(0.46484375, 0.7265625, 0.7420312499999999, 0.48231679652351234)",
           "rgba(0.46484375, 0.7265625, 0.7420312499999999, 0.48394520957364856)",
           "rgba(0.46484375, 0.7265625, 0.866015625, 0.48474649387738533)",
           "rgba(0.46484375, 0.7265625, 0.866015625, 0.48276401419152054)",
           "rgba(0.46484375, 0.7265625, 0.99, 0.4830458746273816)",
           "rgba(0.46484375, 0.7265625, 0.99, 0.4830787038313382)",
           "rgba(0.60546875, 0.5546875, 0.5094791666666667, 0.47396425217615595)",
           "rgba(0.60546875, 0.5546875, 0.5094791666666667, 0.46224532102890753)",
           "rgba(0.60546875, 0.5546875, 0.5094791666666667, 0.47346363081090376)",
           "rgba(0.60546875, 0.5546875, 0.5094791666666667, 0.46319606386392387)",
           "rgba(0.60546875, 0.5546875, 0.4583642848271678095833333333333, 0.4583642848271678)",
           "rgba(0.60546875, 0.5546875, 0.49253076670215135095833333333333, 0.49253076670215135)",
           "rgba(0.60546875, 0.5546875, 0.4608540948133516095833333333333, 0.4608540948133516)",
           "rgba(0.60546875, 0.5546875, 0.4791694820922147095833333333333, 0.4791694820922147)",
           "rgba(0.60546875, 0.5546875, 0.3096875, 0.48339465458388003)",
           "rgba(0.60546875, 0.5546875, 0.3096875, 0.49764382296291415)",
           "rgba(0.60546875, 0.5546875, 0.20979166666666665, 0.48418063122530847)",
           "rgba(0.60546875, 0.5546875, 0.20979166666666665, 0.45785580993383074)",
           "rgba(0.60546875, 0.5546875, 0.20979166666666665, 0.4731414177741182)",
           "rgba(0.60546875, 0.5546875, 0.1098958333333333, 0.49337547739174126)",
           "rgba(0.60546875, 0.5546875, 0.1098958333333333, 0.46930176984940913)",
           "rgba(0.60546875, 0.5546875, 0.1098958333333333, 0.4718520243575471)",
           "rgba(0.60546875, 0.5546875, 0.010000000000000009, 0.48524780450969307)",
           "rgba(0.60546875, 0.5546875, 0.010000000000000009, 0.4527519461306127)",
           "rgba(0.60546875, 0.5546875, 0.5094791666666667, 0.4832916648720097)",
           "rgba(0.60546875, 0.5546875, 0.48805180322393915095833333333333, 0.48805180322393915)",
           "rgba(0.60546875, 0.5546875, 0.3096875, 0.49823349709201403)",
           "rgba(0.60546875, 0.5546875, 0.20979166666666665, 0.4759056516836478)",
           "rgba(0.60546875, 0.5546875, 0.20979166666666665, 0.4758804253846534)",
           "rgba(0.60546875, 0.5546875, 0.20979166666666665, 0.48093653178958146)",
           "rgba(0.60546875, 0.5546875, 0.1098958333333333, 0.48057990379993076)",
           "rgba(0.60546875, 0.5546875, 0.1098958333333333, 0.4785800097263665)",
           "rgba(0.60546875, 0.5546875, 0.1098958333333333, 0.4836506783639031)",
           "rgba(0.60546875, 0.5546875, 0.010000000000000009, 0.48972149724497316)",
           "rgba(0.87109375, 0.4844499062673937621875, 0.25861607142857146, 0.48444990626739376)",
           "rgba(0.87109375, 0.460512508063174521875, 0.25861607142857146, 0.4605125080631745)",
           "rgba(0.87109375, 0.4926901385406496421875, 0.25861607142857146, 0.49269013854064964)",
           "rgba(0.87109375, 0.4819746740945306521875, 0.25861607142857146, 0.48197467409453065)",
           "rgba(0.87109375, 0.485176025087525721875, 0.38051339285714286, 0.4851760250875257)",
           "rgba(0.87109375, 0.4843263707641179421875, 0.38051339285714286, 0.48432637076411794)",
           "rgba(0.87109375, 0.4896877009565281421875, 0.5024107142857143, 0.48968770095652814)",
           "rgba(0.87109375, 0.4798835077687771421875, 0.5024107142857143, 0.47988350776877714)",
           "rgba(0.87109375, 0.463891295031532321875, 0.5024107142857143, 0.4638912950315323)",
           "rgba(0.87109375, 0.457435199867774121875, 0.5024107142857143, 0.4574351998677741)",
           "rgba(0.87109375, 0.491583914112597921875, 0.6243080357142857, 0.4915839141125979)",
           "rgba(0.87109375, 0.496935995097291621875, 0.7462053571428572, 0.4969359950972916)",
           "rgba(0.87109375, 0.462777605943938421875, 0.7462053571428572, 0.4627776059439384)",
           "rgba(0.87109375, 0.479483017963106121875, 0.8681026785714285, 0.4794830179631061)",
           "rgba(0.87109375, 0.464191378869885521875, 0.99, 0.4641913788698855)",
           "rgba(0.87109375, 0.4519489282886120521875, 0.99, 0.45194892828861205)",
           "rgba(0.87109375, 0.454031327961634521875, 0.99, 0.4540313279616345)",
           "rgba(0.87109375, 0.483860240729964121875, 0.99, 0.4838602407299641)",
           "rgba(0.87109375, 0.4834190028067321721875, 0.25861607142857146, 0.48341900280673217)",
           "rgba(0.87109375, 0.4989103796784170621875, 0.25861607142857146, 0.49891037967841706)",
           "rgba(0.87109375, 0.47764462424222321875, 0.38051339285714286, 0.477644624242223)",
           "rgba(0.87109375, 0.489784008945510721875, 0.38051339285714286, 0.4897840089455107)",
           "rgba(0.87109375, 0.4886376056432037421875, 0.5024107142857143, 0.48863760564320374)",
           "rgba(0.87109375, 0.480603633313556421875, 0.5024107142857143, 0.4806036333135564)",
           "rgba(0.87109375, 0.485980723939485221875, 0.6243080357142857, 0.4859807239394852)",
           "rgba(0.87109375, 0.497612404009799621875, 0.7462053571428572, 0.4976124040097996)",
           "rgba(0.87109375, 0.477638741823744721875, 0.7462053571428572, 0.4776387418237447)",
           "rgba(0.87109375, 0.477294708694741621875, 0.99, 0.4772947086947416)",
           "rgba(0.7578125, 0.9375, 0.26625, 0.47692458693238454)",
           "rgba(0.7578125, 0.9375, 0.26625, 0.493645100796307)",
           "rgba(0.7578125, 0.9375, 0.26625, 0.482382559022488)",
           "rgba(0.7578125, 0.9375, 0.26625, 0.45657843479071303)",
           "rgba(0.7578125, 0.9375, 0.35671875, 0.4980566238533127)",
           "rgba(0.7578125, 0.9375, 0.35671875, 0.4862319918850633)",
           "rgba(0.7578125, 0.9375, 0.4565162804381103471875, 0.4565162804381103)",
           "rgba(0.7578125, 0.9375, 0.4570553439363619471875, 0.4570553439363619)",
           "rgba(0.7578125, 0.9375, 0.53765625, 0.4721226074645195)",
           "rgba(0.7578125, 0.9375, 0.53765625, 0.4902241099239138)",
           "rgba(0.7578125, 0.9375, 0.53765625, 0.4776149490107813)",
           "rgba(0.7578125, 0.9375, 0.628125, 0.4626209255007501)",
           "rgba(0.7578125, 0.9375, 0.628125, 0.4661813162260351)",
           "rgba(0.7578125, 0.9375, 0.71859375, 0.4510647083198556)",
           "rgba(0.7578125, 0.9375, 0.71859375, 0.4976224059266813)",
           "rgba(0.7578125, 0.9375, 0.8090625, 0.45868267045500594)",
           "rgba(0.7578125, 0.9375, 0.8090625, 0.49371979500932095)",
           "rgba(0.7578125, 0.9375, 0.89953125, 0.4809578132768638)",
           "rgba(0.7578125, 0.9375, 0.99, 0.45789740185020344)",
           "rgba(0.7578125, 0.9375, 0.99, 0.4839805610255398)",
           "rgba(0.7578125, 0.9375, 0.99, 0.45809062841944215)",
           "rgba(0.7578125, 0.9375, 0.26625, 0.48636192934607786)",
           "rgba(0.7578125, 0.9375, 0.26625, 0.48487807407390804)",
           "rgba(0.7578125, 0.9375, 0.35671875, 0.4843824821239096)",
           "rgba(0.7578125, 0.9375, 0.35671875, 0.4869344637638248)",
           "rgba(0.7578125, 0.9375, 0.4896547994879931471875, 0.4896547994879931)",
           "rgba(0.7578125, 0.9375, 0.53765625, 0.4838129390402735)",
           "rgba(0.7578125, 0.9375, 0.53765625, 0.48215074444803885)",
           "rgba(0.7578125, 0.9375, 0.71859375, 0.4935703954200293)",
           "rgba(0.7578125, 0.9375, 0.8090625, 0.4925296473342037)",
           "rgba(0.7578125, 0.9375, 0.89953125, 0.4975801434806809)",
           "rgba(0.7578125, 0.9375, 0.99, 0.4877821451201976)",
           "rgba(0.4609375, 0.08203125, 0.480142153538835778375, 0.48014215353883577)",
           "rgba(0.4609375, 0.08203125, 0.46352073239926628375, 0.4635207323992662)",
           "rgba(0.4609375, 0.08203125, 0.49272263042641188375, 0.4927226304264118)",
           "rgba(0.4609375, 0.08203125, 0.469387892376002878375, 0.46938789237600287)",
           "rgba(0.4609375, 0.08203125, 0.494061936723328932453125, 0.49406193672332893)",
           "rgba(0.4609375, 0.08203125, 0.45078237032265742453125, 0.4507823703226574)",
           "rgba(0.4609375, 0.08203125, 0.3653125, 0.45815630366560545)",
           "rgba(0.4609375, 0.08203125, 0.3653125, 0.4819639571725038)",
           "rgba(0.4609375, 0.08203125, 0.30609375, 0.47137501327415643)",
           "rgba(0.4609375, 0.08203125, 0.30609375, 0.46741647119933066)",
           "rgba(0.4609375, 0.08203125, 0.30609375, 0.4573678316837227)",
           "rgba(0.4609375, 0.08203125, 0.30609375, 0.4758401557968168)",
           "rgba(0.4609375, 0.08203125, 0.246875, 0.48407626415889676)",
           "rgba(0.4609375, 0.08203125, 0.18765624999999997, 0.49583050565176123)",
           "rgba(0.4609375, 0.08203125, 0.18765624999999997, 0.47102964967328054)",
           "rgba(0.4609375, 0.08203125, 0.18765624999999997, 0.46805088264566863)",
           "rgba(0.4609375, 0.08203125, 0.18765624999999997, 0.45417723147547423)",
           "rgba(0.4609375, 0.08203125, 0.18765624999999997, 0.4727240774892125)",
           "rgba(0.4609375, 0.08203125, 0.12843749999999998, 0.4618894669655295)",
           "rgba(0.4609375, 0.08203125, 0.12843749999999998, 0.49231441771647766)",
           "rgba(0.4609375, 0.08203125, 0.12843749999999998, 0.4809577202808352)",
           "rgba(0.4609375, 0.08203125, 0.06921875, 0.4604043589039798)",
           "rgba(0.4609375, 0.08203125, 0.06921875, 0.45065361994664654)",
           "rgba(0.4609375, 0.08203125, 0.06921875, 0.47794247520287814)",
           "rgba(0.4609375, 0.08203125, 0.06921875, 0.48242807783921166)",
           "rgba(0.4609375, 0.08203125, 0.06921875, 0.4526289160106295)",
           "rgba(0.4609375, 0.08203125, 0.010000000000000009, 0.4912042675040563)"
          ],
          "source": [
           0,
           0,
           0,
           0,
           0,
           1,
           1,
           1,
           1,
           1,
           2,
           2,
           2,
           2,
           2,
           3,
           3,
           3,
           3,
           3,
           4,
           4,
           4,
           4,
           5,
           5,
           5,
           5,
           5,
           0,
           0,
           1,
           1,
           2,
           2,
           3,
           3,
           4,
           4,
           5,
           5,
           6,
           6,
           6,
           6,
           7,
           7,
           7,
           7,
           8,
           8,
           9,
           9,
           9,
           10,
           10,
           10,
           11,
           11,
           6,
           7,
           8,
           9,
           9,
           9,
           10,
           10,
           10,
           11,
           12,
           12,
           12,
           12,
           13,
           13,
           14,
           14,
           14,
           14,
           15,
           16,
           16,
           17,
           18,
           18,
           18,
           18,
           12,
           12,
           13,
           13,
           14,
           14,
           15,
           16,
           16,
           18,
           19,
           19,
           19,
           19,
           20,
           20,
           21,
           21,
           22,
           22,
           22,
           23,
           23,
           24,
           24,
           25,
           25,
           26,
           27,
           27,
           27,
           19,
           19,
           20,
           20,
           21,
           22,
           22,
           24,
           25,
           26,
           27,
           28,
           28,
           28,
           28,
           29,
           29,
           30,
           30,
           31,
           31,
           31,
           31,
           32,
           33,
           33,
           33,
           33,
           33,
           34,
           34,
           34,
           35,
           35,
           35,
           35,
           35,
           36
          ],
          "target": [
           6,
           7,
           8,
           9,
           10,
           6,
           7,
           8,
           9,
           10,
           6,
           7,
           8,
           9,
           10,
           6,
           7,
           8,
           9,
           10,
           6,
           7,
           8,
           10,
           6,
           7,
           8,
           9,
           10,
           12,
           18,
           12,
           18,
           12,
           18,
           12,
           18,
           12,
           18,
           12,
           18,
           12,
           13,
           14,
           18,
           13,
           14,
           15,
           18,
           12,
           16,
           13,
           14,
           17,
           12,
           16,
           18,
           15,
           18,
           22,
           19,
           20,
           19,
           24,
           25,
           20,
           22,
           27,
           26,
           20,
           21,
           22,
           27,
           19,
           25,
           19,
           23,
           25,
           27,
           26,
           20,
           22,
           24,
           19,
           22,
           23,
           27,
           28,
           33,
           31,
           34,
           29,
           31,
           30,
           28,
           33,
           31,
           29,
           31,
           34,
           35,
           28,
           33,
           30,
           33,
           28,
           33,
           35,
           29,
           35,
           31,
           36,
           31,
           34,
           30,
           31,
           33,
           35,
           38,
           47,
           39,
           41,
           45,
           39,
           48,
           37,
           44,
           46,
           39,
           39,
           40,
           41,
           48,
           38,
           47,
           45,
           46,
           38,
           43,
           44,
           47,
           43,
           39,
           40,
           41,
           45,
           48,
           38,
           44,
           47,
           38,
           39,
           40,
           42,
           48,
           37
          ],
          "value": [
           0.9777428643071194,
           0.9432073863234526,
           0.9228212037645769,
           0.9064192573168187,
           0.9640825757803968,
           0.9759459940288637,
           0.9362542693001904,
           0.926788382557651,
           0.9040893654914528,
           0.9668286954323984,
           0.9631550194037116,
           0.9361838621305746,
           0.9235458158928429,
           0.9014017107755543,
           0.9680825869176684,
           0.9754468410247945,
           0.9431106972392603,
           0.9236096969921093,
           0.9126534971596025,
           0.9628956452793047,
           0.9609237506858976,
           0.9245162448744463,
           0.92993443907291,
           0.9731506790146013,
           0.9709714917906404,
           0.9382485257509446,
           0.9284891998403564,
           0.906412045754642,
           0.9650228875536516,
           0.9664221258568048,
           0.9688814521169051,
           0.9691578679593306,
           0.965866016183704,
           0.9641463504298735,
           0.970804949850071,
           0.9646335930470247,
           0.9678904191472971,
           0.9694929877547707,
           0.9655280283830411,
           0.9660917492547632,
           0.9661574076626764,
           0.9479285043523119,
           0.9244906420578151,
           0.9469272616218075,
           0.9263921277278477,
           0.9167285696543356,
           0.9850615334043027,
           0.9217081896267032,
           0.9583389641844294,
           0.9667893091677601,
           0.9952876459258283,
           0.9683612624506169,
           0.9157116198676615,
           0.9462828355482364,
           0.9867509547834825,
           0.9386035396988183,
           0.9437040487150942,
           0.9704956090193861,
           0.9055038922612254,
           0.9665833297440194,
           0.9761036064478783,
           0.9964669941840281,
           0.9518113033672956,
           0.9517608507693068,
           0.9618730635791629,
           0.9611598075998615,
           0.957160019452733,
           0.9673013567278061,
           0.9794429944899463,
           0.9688998125347875,
           0.921025016126349,
           0.9853802770812993,
           0.9639493481890613,
           0.9703520501750514,
           0.9686527415282359,
           0.9793754019130563,
           0.9597670155375543,
           0.9277825900630646,
           0.9148703997355482,
           0.9831678282251958,
           0.9938719901945832,
           0.9255552118878768,
           0.9589660359262122,
           0.928382757739771,
           0.9038978565772241,
           0.908062655923269,
           0.9677204814599282,
           0.9668380056134643,
           0.9978207593568341,
           0.955289248484446,
           0.9795680178910214,
           0.9772752112864075,
           0.9612072666271128,
           0.9719614478789704,
           0.9952248080195992,
           0.9552774836474894,
           0.9545894173894832,
           0.9538491738647691,
           0.987290201592614,
           0.964765118044976,
           0.9131568695814261,
           0.9961132477066253,
           0.9724639837701265,
           0.9130325608762206,
           0.9141106878727238,
           0.944245214929039,
           0.9804482198478276,
           0.9552298980215626,
           0.9252418510015002,
           0.9323626324520702,
           0.9021294166397112,
           0.9952448118533626,
           0.9173653409100119,
           0.9874395900186419,
           0.9619156265537276,
           0.9157948037004069,
           0.9679611220510796,
           0.9161812568388843,
           0.9727238586921557,
           0.9697561481478161,
           0.9687649642478192,
           0.9738689275276496,
           0.9793095989759862,
           0.967625878080547,
           0.9643014888960777,
           0.9871407908400586,
           0.9850592946684074,
           0.9951602869613618,
           0.9755642902403951,
           0.9602843070776715,
           0.9270414647985324,
           0.9854452608528236,
           0.9387757847520057,
           0.9881238734466579,
           0.9015647406453148,
           0.9163126073312109,
           0.9639279143450076,
           0.9427500265483129,
           0.9348329423986613,
           0.9147356633674454,
           0.9516803115936336,
           0.9681525283177935,
           0.9916610113035225,
           0.9420592993465611,
           0.9361017652913373,
           0.9083544629509485,
           0.945448154978425,
           0.923778933931059,
           0.9846288354329553,
           0.9619154405616704,
           0.9208087178079596,
           0.9013072398932931,
           0.9558849504057563,
           0.9648561556784233,
           0.905257832021259,
           0.9824085350081126
          ]
         },
         "node": {
          "color": [
           "rgba(0.46484375, 0.7265625, 0.370078125, 0.8)",
           "rgba(0.46484375, 0.7265625, 0.49406249999999996, 0.8)",
           "rgba(0.46484375, 0.7265625, 0.618046875, 0.8)",
           "rgba(0.46484375, 0.7265625, 0.7420312499999999, 0.8)",
           "rgba(0.46484375, 0.7265625, 0.866015625, 0.8)",
           "rgba(0.46484375, 0.7265625, 0.99, 0.8)",
           "rgba(0.60546875, 0.5546875, 0.5094791666666667, 0.8)",
           "rgba(0.60546875, 0.5546875, 0.4095833333333333, 0.8)",
           "rgba(0.60546875, 0.5546875, 0.3096875, 0.8)",
           "rgba(0.60546875, 0.5546875, 0.20979166666666665, 0.8)",
           "rgba(0.60546875, 0.5546875, 0.1098958333333333, 0.8)",
           "rgba(0.60546875, 0.5546875, 0.010000000000000009, 0.8)",
           "rgba(0.87109375, 0.421875, 0.25861607142857146, 0.8)",
           "rgba(0.87109375, 0.421875, 0.38051339285714286, 0.8)",
           "rgba(0.87109375, 0.421875, 0.5024107142857143, 0.8)",
           "rgba(0.87109375, 0.421875, 0.6243080357142857, 0.8)",
           "rgba(0.87109375, 0.421875, 0.7462053571428572, 0.8)",
           "rgba(0.87109375, 0.421875, 0.8681026785714285, 0.8)",
           "rgba(0.87109375, 0.421875, 0.99, 0.8)",
           "rgba(0.7578125, 0.9375, 0.26625, 0.8)",
           "rgba(0.7578125, 0.9375, 0.35671875, 0.8)",
           "rgba(0.7578125, 0.9375, 0.4471875, 0.8)",
           "rgba(0.7578125, 0.9375, 0.53765625, 0.8)",
           "rgba(0.7578125, 0.9375, 0.628125, 0.8)",
           "rgba(0.7578125, 0.9375, 0.71859375, 0.8)",
           "rgba(0.7578125, 0.9375, 0.8090625, 0.8)",
           "rgba(0.7578125, 0.9375, 0.89953125, 0.8)",
           "rgba(0.7578125, 0.9375, 0.99, 0.8)",
           "rgba(0.4609375, 0.08203125, 0.48375, 0.8)",
           "rgba(0.4609375, 0.08203125, 0.42453125, 0.8)",
           "rgba(0.4609375, 0.08203125, 0.3653125, 0.8)",
           "rgba(0.4609375, 0.08203125, 0.30609375, 0.8)",
           "rgba(0.4609375, 0.08203125, 0.246875, 0.8)",
           "rgba(0.4609375, 0.08203125, 0.18765624999999997, 0.8)",
           "rgba(0.4609375, 0.08203125, 0.12843749999999998, 0.8)",
           "rgba(0.4609375, 0.08203125, 0.06921875, 0.8)",
           "rgba(0.4609375, 0.08203125, 0.010000000000000009, 0.8)",
           "rgba(0.34375, 0.296875, 0.4155078125, 0.8)",
           "rgba(0.34375, 0.296875, 0.467734375, 0.8)",
           "rgba(0.34375, 0.296875, 0.5199609375, 0.8)",
           "rgba(0.34375, 0.296875, 0.5721875, 0.8)",
           "rgba(0.34375, 0.296875, 0.6244140625, 0.8)",
           "rgba(0.34375, 0.296875, 0.676640625, 0.8)",
           "rgba(0.34375, 0.296875, 0.7288671874999999, 0.8)",
           "rgba(0.34375, 0.296875, 0.7810937499999999, 0.8)",
           "rgba(0.34375, 0.296875, 0.8333203124999999, 0.8)",
           "rgba(0.34375, 0.296875, 0.885546875, 0.8)",
           "rgba(0.34375, 0.296875, 0.9377734375, 0.8)",
           "rgba(0.34375, 0.296875, 0.99, 0.8)"
          ],
          "label": [
           "04 - artery, java, e_commerce, occlusion, basalt",
           "04 - kc, telemedicine, immune_network, data_fusion, foreground",
           "04 - froth, urn, subsumption, pth, hypergraph",
           "04 - S, web_service, creep, computer_game, java",
           "04 - ois, pharmacy, brave, occam, carotenoid",
           "04 - seam_pucker, neutron, robocup, league, C",
           "07 - gps, I, traffic, intrusion_detection, rout_protocol",
           "07 - sat, classifier, reinforcement_learn, controller, solver",
           "07 - emotion, philosophy, teach, aaai, story",
           "07 - tcm, soil, air, shear, progression",
           "07 - dm, teach, agent_base, semantic_web, organization",
           "07 - predicate, spatial_reason, equivalence, owl, dl",
           "10 - multi_agent_system, player, teach, enterprise, web_service",
           "10 - temperature, forecast, coal, carcass, soil",
           "10 - fault, svr, temperature, motor, vehicle",
           "10 - propositional, quantifier, A, belief, boolean",
           "10 - emotion, moral, teach, cognition, personality",
           "10 - protein, emotion, speech, tissue, bone",
           "10 - cbr, petri_net, S, case_base_reason_cbr, fuzzy_program",
           "13 - P, temperature, controller, water, A",
           "13 - robot, emotion, creativity, cognition, education",
           "13 - web, ontology, text, music, page",
           "13 - company, trust, smart_grid, ontology, robot",
           "13 - player, robot, P, vehicle, reinforcement_learn",
           "13 - breast_cancer, disease, cancer, malignant, tumor",
           "13 - temperature, water, gps, steel, pressure",
           "13 - csps, argument, solver, datalog, semantics",
           "13 - cbr, power_system, C, neat, P",
           "16 - agent, game, internet_thing, teach, education",
           "16 - voltage, pid_controller, mppt, power_system, torque",
           "16 - ontology, text, argumentation, semantics, sentence",
           "16 - forecasting, forecast, anfis, fault_diagnosis, svr",
           "16 - facial, camera, emotion_recognition, face_recognition, video",
           "16 - game, agent, player, ontology, computer_game",
           "16 - temperature, soil, oil, concentration, gas",
           "16 - agent, schedule, traffic, electricity_market, grid",
           "16 - disease, breast_cancer, cell, breast, cancer",
           "18 - clinical, drug, specificity, therapy, auc",
           "18 - controller, mppt, P, voltage, power_system",
           "18 - ontology, education, educational, dl, think",
           "18 - opponent, video_game, wheelchair, bot, autonomy",
           "18 - legal, ethical, social_medium, music, moral",
           "18 - bit, packet, accelerator, energy_consumption, data_center",
           "18 - segmentation, sparse, emotion, electroencephalogram, F",
           "18 - weld, memristor, skin, adsorption, stretchable",
           "18 - sentence, emotion, arabic, music, N",
           "18 - argument, I, argumentation, semantics, chatter",
           "18 - rmse, A, anfis, river, R",
           "18 - enterprise, I, education, F, smart_city"
          ],
          "line": {
           "color": "black",
           "width": 0
          },
          "pad": 15,
          "thickness": 10
         },
         "type": "sankey"
        }
       ],
       "layout": {
        "autosize": false,
        "font": {
         "size": 11
        },
        "height": 900,
        "template": {
         "data": {
          "bar": [
           {
            "error_x": {
             "color": "#2a3f5f"
            },
            "error_y": {
             "color": "#2a3f5f"
            },
            "marker": {
             "line": {
              "color": "#E5ECF6",
              "width": 0.5
             }
            },
            "type": "bar"
           }
          ],
          "barpolar": [
           {
            "marker": {
             "line": {
              "color": "#E5ECF6",
              "width": 0.5
             }
            },
            "type": "barpolar"
           }
          ],
          "carpet": [
           {
            "aaxis": {
             "endlinecolor": "#2a3f5f",
             "gridcolor": "white",
             "linecolor": "white",
             "minorgridcolor": "white",
             "startlinecolor": "#2a3f5f"
            },
            "baxis": {
             "endlinecolor": "#2a3f5f",
             "gridcolor": "white",
             "linecolor": "white",
             "minorgridcolor": "white",
             "startlinecolor": "#2a3f5f"
            },
            "type": "carpet"
           }
          ],
          "choropleth": [
           {
            "colorbar": {
             "outlinewidth": 0,
             "ticks": ""
            },
            "type": "choropleth"
           }
          ],
          "contour": [
           {
            "colorbar": {
             "outlinewidth": 0,
             "ticks": ""
            },
            "colorscale": [
             [
              0,
              "#0d0887"
             ],
             [
              0.1111111111111111,
              "#46039f"
             ],
             [
              0.2222222222222222,
              "#7201a8"
             ],
             [
              0.3333333333333333,
              "#9c179e"
             ],
             [
              0.4444444444444444,
              "#bd3786"
             ],
             [
              0.5555555555555556,
              "#d8576b"
             ],
             [
              0.6666666666666666,
              "#ed7953"
             ],
             [
              0.7777777777777778,
              "#fb9f3a"
             ],
             [
              0.8888888888888888,
              "#fdca26"
             ],
             [
              1,
              "#f0f921"
             ]
            ],
            "type": "contour"
           }
          ],
          "contourcarpet": [
           {
            "colorbar": {
             "outlinewidth": 0,
             "ticks": ""
            },
            "type": "contourcarpet"
           }
          ],
          "heatmap": [
           {
            "colorbar": {
             "outlinewidth": 0,
             "ticks": ""
            },
            "colorscale": [
             [
              0,
              "#0d0887"
             ],
             [
              0.1111111111111111,
              "#46039f"
             ],
             [
              0.2222222222222222,
              "#7201a8"
             ],
             [
              0.3333333333333333,
              "#9c179e"
             ],
             [
              0.4444444444444444,
              "#bd3786"
             ],
             [
              0.5555555555555556,
              "#d8576b"
             ],
             [
              0.6666666666666666,
              "#ed7953"
             ],
             [
              0.7777777777777778,
              "#fb9f3a"
             ],
             [
              0.8888888888888888,
              "#fdca26"
             ],
             [
              1,
              "#f0f921"
             ]
            ],
            "type": "heatmap"
           }
          ],
          "heatmapgl": [
           {
            "colorbar": {
             "outlinewidth": 0,
             "ticks": ""
            },
            "colorscale": [
             [
              0,
              "#0d0887"
             ],
             [
              0.1111111111111111,
              "#46039f"
             ],
             [
              0.2222222222222222,
              "#7201a8"
             ],
             [
              0.3333333333333333,
              "#9c179e"
             ],
             [
              0.4444444444444444,
              "#bd3786"
             ],
             [
              0.5555555555555556,
              "#d8576b"
             ],
             [
              0.6666666666666666,
              "#ed7953"
             ],
             [
              0.7777777777777778,
              "#fb9f3a"
             ],
             [
              0.8888888888888888,
              "#fdca26"
             ],
             [
              1,
              "#f0f921"
             ]
            ],
            "type": "heatmapgl"
           }
          ],
          "histogram": [
           {
            "marker": {
             "colorbar": {
              "outlinewidth": 0,
              "ticks": ""
             }
            },
            "type": "histogram"
           }
          ],
          "histogram2d": [
           {
            "colorbar": {
             "outlinewidth": 0,
             "ticks": ""
            },
            "colorscale": [
             [
              0,
              "#0d0887"
             ],
             [
              0.1111111111111111,
              "#46039f"
             ],
             [
              0.2222222222222222,
              "#7201a8"
             ],
             [
              0.3333333333333333,
              "#9c179e"
             ],
             [
              0.4444444444444444,
              "#bd3786"
             ],
             [
              0.5555555555555556,
              "#d8576b"
             ],
             [
              0.6666666666666666,
              "#ed7953"
             ],
             [
              0.7777777777777778,
              "#fb9f3a"
             ],
             [
              0.8888888888888888,
              "#fdca26"
             ],
             [
              1,
              "#f0f921"
             ]
            ],
            "type": "histogram2d"
           }
          ],
          "histogram2dcontour": [
           {
            "colorbar": {
             "outlinewidth": 0,
             "ticks": ""
            },
            "colorscale": [
             [
              0,
              "#0d0887"
             ],
             [
              0.1111111111111111,
              "#46039f"
             ],
             [
              0.2222222222222222,
              "#7201a8"
             ],
             [
              0.3333333333333333,
              "#9c179e"
             ],
             [
              0.4444444444444444,
              "#bd3786"
             ],
             [
              0.5555555555555556,
              "#d8576b"
             ],
             [
              0.6666666666666666,
              "#ed7953"
             ],
             [
              0.7777777777777778,
              "#fb9f3a"
             ],
             [
              0.8888888888888888,
              "#fdca26"
             ],
             [
              1,
              "#f0f921"
             ]
            ],
            "type": "histogram2dcontour"
           }
          ],
          "mesh3d": [
           {
            "colorbar": {
             "outlinewidth": 0,
             "ticks": ""
            },
            "type": "mesh3d"
           }
          ],
          "parcoords": [
           {
            "line": {
             "colorbar": {
              "outlinewidth": 0,
              "ticks": ""
             }
            },
            "type": "parcoords"
           }
          ],
          "pie": [
           {
            "automargin": true,
            "type": "pie"
           }
          ],
          "scatter": [
           {
            "marker": {
             "colorbar": {
              "outlinewidth": 0,
              "ticks": ""
             }
            },
            "type": "scatter"
           }
          ],
          "scatter3d": [
           {
            "line": {
             "colorbar": {
              "outlinewidth": 0,
              "ticks": ""
             }
            },
            "marker": {
             "colorbar": {
              "outlinewidth": 0,
              "ticks": ""
             }
            },
            "type": "scatter3d"
           }
          ],
          "scattercarpet": [
           {
            "marker": {
             "colorbar": {
              "outlinewidth": 0,
              "ticks": ""
             }
            },
            "type": "scattercarpet"
           }
          ],
          "scattergeo": [
           {
            "marker": {
             "colorbar": {
              "outlinewidth": 0,
              "ticks": ""
             }
            },
            "type": "scattergeo"
           }
          ],
          "scattergl": [
           {
            "marker": {
             "colorbar": {
              "outlinewidth": 0,
              "ticks": ""
             }
            },
            "type": "scattergl"
           }
          ],
          "scattermapbox": [
           {
            "marker": {
             "colorbar": {
              "outlinewidth": 0,
              "ticks": ""
             }
            },
            "type": "scattermapbox"
           }
          ],
          "scatterpolar": [
           {
            "marker": {
             "colorbar": {
              "outlinewidth": 0,
              "ticks": ""
             }
            },
            "type": "scatterpolar"
           }
          ],
          "scatterpolargl": [
           {
            "marker": {
             "colorbar": {
              "outlinewidth": 0,
              "ticks": ""
             }
            },
            "type": "scatterpolargl"
           }
          ],
          "scatterternary": [
           {
            "marker": {
             "colorbar": {
              "outlinewidth": 0,
              "ticks": ""
             }
            },
            "type": "scatterternary"
           }
          ],
          "surface": [
           {
            "colorbar": {
             "outlinewidth": 0,
             "ticks": ""
            },
            "colorscale": [
             [
              0,
              "#0d0887"
             ],
             [
              0.1111111111111111,
              "#46039f"
             ],
             [
              0.2222222222222222,
              "#7201a8"
             ],
             [
              0.3333333333333333,
              "#9c179e"
             ],
             [
              0.4444444444444444,
              "#bd3786"
             ],
             [
              0.5555555555555556,
              "#d8576b"
             ],
             [
              0.6666666666666666,
              "#ed7953"
             ],
             [
              0.7777777777777778,
              "#fb9f3a"
             ],
             [
              0.8888888888888888,
              "#fdca26"
             ],
             [
              1,
              "#f0f921"
             ]
            ],
            "type": "surface"
           }
          ],
          "table": [
           {
            "cells": {
             "fill": {
              "color": "#EBF0F8"
             },
             "line": {
              "color": "white"
             }
            },
            "header": {
             "fill": {
              "color": "#C8D4E3"
             },
             "line": {
              "color": "white"
             }
            },
            "type": "table"
           }
          ]
         },
         "layout": {
          "annotationdefaults": {
           "arrowcolor": "#2a3f5f",
           "arrowhead": 0,
           "arrowwidth": 1
          },
          "coloraxis": {
           "colorbar": {
            "outlinewidth": 0,
            "ticks": ""
           }
          },
          "colorscale": {
           "diverging": [
            [
             0,
             "#8e0152"
            ],
            [
             0.1,
             "#c51b7d"
            ],
            [
             0.2,
             "#de77ae"
            ],
            [
             0.3,
             "#f1b6da"
            ],
            [
             0.4,
             "#fde0ef"
            ],
            [
             0.5,
             "#f7f7f7"
            ],
            [
             0.6,
             "#e6f5d0"
            ],
            [
             0.7,
             "#b8e186"
            ],
            [
             0.8,
             "#7fbc41"
            ],
            [
             0.9,
             "#4d9221"
            ],
            [
             1,
             "#276419"
            ]
           ],
           "sequential": [
            [
             0,
             "#0d0887"
            ],
            [
             0.1111111111111111,
             "#46039f"
            ],
            [
             0.2222222222222222,
             "#7201a8"
            ],
            [
             0.3333333333333333,
             "#9c179e"
            ],
            [
             0.4444444444444444,
             "#bd3786"
            ],
            [
             0.5555555555555556,
             "#d8576b"
            ],
            [
             0.6666666666666666,
             "#ed7953"
            ],
            [
             0.7777777777777778,
             "#fb9f3a"
            ],
            [
             0.8888888888888888,
             "#fdca26"
            ],
            [
             1,
             "#f0f921"
            ]
           ],
           "sequentialminus": [
            [
             0,
             "#0d0887"
            ],
            [
             0.1111111111111111,
             "#46039f"
            ],
            [
             0.2222222222222222,
             "#7201a8"
            ],
            [
             0.3333333333333333,
             "#9c179e"
            ],
            [
             0.4444444444444444,
             "#bd3786"
            ],
            [
             0.5555555555555556,
             "#d8576b"
            ],
            [
             0.6666666666666666,
             "#ed7953"
            ],
            [
             0.7777777777777778,
             "#fb9f3a"
            ],
            [
             0.8888888888888888,
             "#fdca26"
            ],
            [
             1,
             "#f0f921"
            ]
           ]
          },
          "colorway": [
           "#636efa",
           "#EF553B",
           "#00cc96",
           "#ab63fa",
           "#FFA15A",
           "#19d3f3",
           "#FF6692",
           "#B6E880",
           "#FF97FF",
           "#FECB52"
          ],
          "font": {
           "color": "#2a3f5f"
          },
          "geo": {
           "bgcolor": "white",
           "lakecolor": "white",
           "landcolor": "#E5ECF6",
           "showlakes": true,
           "showland": true,
           "subunitcolor": "white"
          },
          "hoverlabel": {
           "align": "left"
          },
          "hovermode": "closest",
          "mapbox": {
           "style": "light"
          },
          "paper_bgcolor": "white",
          "plot_bgcolor": "#E5ECF6",
          "polar": {
           "angularaxis": {
            "gridcolor": "white",
            "linecolor": "white",
            "ticks": ""
           },
           "bgcolor": "#E5ECF6",
           "radialaxis": {
            "gridcolor": "white",
            "linecolor": "white",
            "ticks": ""
           }
          },
          "scene": {
           "xaxis": {
            "backgroundcolor": "#E5ECF6",
            "gridcolor": "white",
            "gridwidth": 2,
            "linecolor": "white",
            "showbackground": true,
            "ticks": "",
            "zerolinecolor": "white"
           },
           "yaxis": {
            "backgroundcolor": "#E5ECF6",
            "gridcolor": "white",
            "gridwidth": 2,
            "linecolor": "white",
            "showbackground": true,
            "ticks": "",
            "zerolinecolor": "white"
           },
           "zaxis": {
            "backgroundcolor": "#E5ECF6",
            "gridcolor": "white",
            "gridwidth": 2,
            "linecolor": "white",
            "showbackground": true,
            "ticks": "",
            "zerolinecolor": "white"
           }
          },
          "shapedefaults": {
           "line": {
            "color": "#2a3f5f"
           }
          },
          "ternary": {
           "aaxis": {
            "gridcolor": "white",
            "linecolor": "white",
            "ticks": ""
           },
           "baxis": {
            "gridcolor": "white",
            "linecolor": "white",
            "ticks": ""
           },
           "bgcolor": "#E5ECF6",
           "caxis": {
            "gridcolor": "white",
            "linecolor": "white",
            "ticks": ""
           }
          },
          "title": {
           "x": 0.05
          },
          "xaxis": {
           "automargin": true,
           "gridcolor": "white",
           "linecolor": "white",
           "ticks": "",
           "title": {
            "standoff": 15
           },
           "zerolinecolor": "white",
           "zerolinewidth": 2
          },
          "yaxis": {
           "automargin": true,
           "gridcolor": "white",
           "linecolor": "white",
           "ticks": "",
           "title": {
            "standoff": 15
           },
           "zerolinecolor": "white",
           "zerolinewidth": 2
          }
         }
        },
        "title": {
         "text": "H-Clustering -Abstracts+Titles - Separated Development of fields: Docs 1990-2004 to 2017-2018 : Enhanced number of clusters  - pow 3 - thresh 0.9"
        },
        "width": 1500
       }
      },
      "text/html": [
       "<div>\n",
       "        \n",
       "        \n",
       "            <div id=\"5c4c4536-6b0b-45f4-aa03-cdab57234878\" class=\"plotly-graph-div\" style=\"height:900px; width:1500px;\"></div>\n",
       "            <script type=\"text/javascript\">\n",
       "                require([\"plotly\"], function(Plotly) {\n",
       "                    window.PLOTLYENV=window.PLOTLYENV || {};\n",
       "                    \n",
       "                if (document.getElementById(\"5c4c4536-6b0b-45f4-aa03-cdab57234878\")) {\n",
       "                    Plotly.newPlot(\n",
       "                        '5c4c4536-6b0b-45f4-aa03-cdab57234878',\n",
       "                        [{\"link\": {\"color\": [\"rgba(0.46484375, 0.7265625, 0.370078125, 0.4888714321535597)\", \"rgba(0.46484375, 0.7265625, 0.370078125, 0.4716036931617263)\", \"rgba(0.46484375, 0.7265625, 0.370078125, 0.46141060188228844)\", \"rgba(0.46484375, 0.7265625, 0.370078125, 0.45320962865840936)\", \"rgba(0.46484375, 0.7265625, 0.370078125, 0.4820412878901984)\", \"rgba(0.46484375, 0.7265625, 0.487972997014431869406249999999996, 0.48797299701443186)\", \"rgba(0.46484375, 0.7265625, 0.46812713465009529406249999999996, 0.4681271346500952)\", \"rgba(0.46484375, 0.7265625, 0.46339419127882559406249999999996, 0.4633941912788255)\", \"rgba(0.46484375, 0.7265625, 0.45204468274572649406249999999996, 0.4520446827457264)\", \"rgba(0.46484375, 0.7265625, 0.48341434771619929406249999999996, 0.4834143477161992)\", \"rgba(0.46484375, 0.7265625, 0.618046875, 0.4815775097018558)\", \"rgba(0.46484375, 0.7265625, 0.618046875, 0.4680919310652873)\", \"rgba(0.46484375, 0.7265625, 0.618046875, 0.46177290794642145)\", \"rgba(0.46484375, 0.7265625, 0.618046875, 0.45070085538777716)\", \"rgba(0.46484375, 0.7265625, 0.618046875, 0.4840412934588342)\", \"rgba(0.46484375, 0.7265625, 0.7420312499999999, 0.48772342051239725)\", \"rgba(0.46484375, 0.7265625, 0.7420312499999999, 0.47155534861963017)\", \"rgba(0.46484375, 0.7265625, 0.7420312499999999, 0.46180484849605463)\", \"rgba(0.46484375, 0.7265625, 0.7420312499999999, 0.45632674857980127)\", \"rgba(0.46484375, 0.7265625, 0.7420312499999999, 0.48144782263965236)\", \"rgba(0.46484375, 0.7265625, 0.866015625, 0.4804618753429488)\", \"rgba(0.46484375, 0.7265625, 0.866015625, 0.46225812243722314)\", \"rgba(0.46484375, 0.7265625, 0.866015625, 0.464967219536455)\", \"rgba(0.46484375, 0.7265625, 0.866015625, 0.48657533950730064)\", \"rgba(0.46484375, 0.7265625, 0.99, 0.4854857458953202)\", \"rgba(0.46484375, 0.7265625, 0.99, 0.4691242628754723)\", \"rgba(0.46484375, 0.7265625, 0.99, 0.4642445999201782)\", \"rgba(0.46484375, 0.7265625, 0.99, 0.453206022877321)\", \"rgba(0.46484375, 0.7265625, 0.99, 0.4825114437768258)\", \"rgba(0.46484375, 0.7265625, 0.370078125, 0.4832110629284024)\", \"rgba(0.46484375, 0.7265625, 0.370078125, 0.48444072605845256)\", \"rgba(0.46484375, 0.7265625, 0.48457893397966539406249999999996, 0.4845789339796653)\", \"rgba(0.46484375, 0.7265625, 0.4829330080918529406249999999996, 0.482933008091852)\", \"rgba(0.46484375, 0.7265625, 0.618046875, 0.48207317521493676)\", \"rgba(0.46484375, 0.7265625, 0.618046875, 0.4854024749250355)\", \"rgba(0.46484375, 0.7265625, 0.7420312499999999, 0.48231679652351234)\", \"rgba(0.46484375, 0.7265625, 0.7420312499999999, 0.48394520957364856)\", \"rgba(0.46484375, 0.7265625, 0.866015625, 0.48474649387738533)\", \"rgba(0.46484375, 0.7265625, 0.866015625, 0.48276401419152054)\", \"rgba(0.46484375, 0.7265625, 0.99, 0.4830458746273816)\", \"rgba(0.46484375, 0.7265625, 0.99, 0.4830787038313382)\", \"rgba(0.60546875, 0.5546875, 0.5094791666666667, 0.47396425217615595)\", \"rgba(0.60546875, 0.5546875, 0.5094791666666667, 0.46224532102890753)\", \"rgba(0.60546875, 0.5546875, 0.5094791666666667, 0.47346363081090376)\", \"rgba(0.60546875, 0.5546875, 0.5094791666666667, 0.46319606386392387)\", \"rgba(0.60546875, 0.5546875, 0.4583642848271678095833333333333, 0.4583642848271678)\", \"rgba(0.60546875, 0.5546875, 0.49253076670215135095833333333333, 0.49253076670215135)\", \"rgba(0.60546875, 0.5546875, 0.4608540948133516095833333333333, 0.4608540948133516)\", \"rgba(0.60546875, 0.5546875, 0.4791694820922147095833333333333, 0.4791694820922147)\", \"rgba(0.60546875, 0.5546875, 0.3096875, 0.48339465458388003)\", \"rgba(0.60546875, 0.5546875, 0.3096875, 0.49764382296291415)\", \"rgba(0.60546875, 0.5546875, 0.20979166666666665, 0.48418063122530847)\", \"rgba(0.60546875, 0.5546875, 0.20979166666666665, 0.45785580993383074)\", \"rgba(0.60546875, 0.5546875, 0.20979166666666665, 0.4731414177741182)\", \"rgba(0.60546875, 0.5546875, 0.1098958333333333, 0.49337547739174126)\", \"rgba(0.60546875, 0.5546875, 0.1098958333333333, 0.46930176984940913)\", \"rgba(0.60546875, 0.5546875, 0.1098958333333333, 0.4718520243575471)\", \"rgba(0.60546875, 0.5546875, 0.010000000000000009, 0.48524780450969307)\", \"rgba(0.60546875, 0.5546875, 0.010000000000000009, 0.4527519461306127)\", \"rgba(0.60546875, 0.5546875, 0.5094791666666667, 0.4832916648720097)\", \"rgba(0.60546875, 0.5546875, 0.48805180322393915095833333333333, 0.48805180322393915)\", \"rgba(0.60546875, 0.5546875, 0.3096875, 0.49823349709201403)\", \"rgba(0.60546875, 0.5546875, 0.20979166666666665, 0.4759056516836478)\", \"rgba(0.60546875, 0.5546875, 0.20979166666666665, 0.4758804253846534)\", \"rgba(0.60546875, 0.5546875, 0.20979166666666665, 0.48093653178958146)\", \"rgba(0.60546875, 0.5546875, 0.1098958333333333, 0.48057990379993076)\", \"rgba(0.60546875, 0.5546875, 0.1098958333333333, 0.4785800097263665)\", \"rgba(0.60546875, 0.5546875, 0.1098958333333333, 0.4836506783639031)\", \"rgba(0.60546875, 0.5546875, 0.010000000000000009, 0.48972149724497316)\", \"rgba(0.87109375, 0.4844499062673937621875, 0.25861607142857146, 0.48444990626739376)\", \"rgba(0.87109375, 0.460512508063174521875, 0.25861607142857146, 0.4605125080631745)\", \"rgba(0.87109375, 0.4926901385406496421875, 0.25861607142857146, 0.49269013854064964)\", \"rgba(0.87109375, 0.4819746740945306521875, 0.25861607142857146, 0.48197467409453065)\", \"rgba(0.87109375, 0.485176025087525721875, 0.38051339285714286, 0.4851760250875257)\", \"rgba(0.87109375, 0.4843263707641179421875, 0.38051339285714286, 0.48432637076411794)\", \"rgba(0.87109375, 0.4896877009565281421875, 0.5024107142857143, 0.48968770095652814)\", \"rgba(0.87109375, 0.4798835077687771421875, 0.5024107142857143, 0.47988350776877714)\", \"rgba(0.87109375, 0.463891295031532321875, 0.5024107142857143, 0.4638912950315323)\", \"rgba(0.87109375, 0.457435199867774121875, 0.5024107142857143, 0.4574351998677741)\", \"rgba(0.87109375, 0.491583914112597921875, 0.6243080357142857, 0.4915839141125979)\", \"rgba(0.87109375, 0.496935995097291621875, 0.7462053571428572, 0.4969359950972916)\", \"rgba(0.87109375, 0.462777605943938421875, 0.7462053571428572, 0.4627776059439384)\", \"rgba(0.87109375, 0.479483017963106121875, 0.8681026785714285, 0.4794830179631061)\", \"rgba(0.87109375, 0.464191378869885521875, 0.99, 0.4641913788698855)\", \"rgba(0.87109375, 0.4519489282886120521875, 0.99, 0.45194892828861205)\", \"rgba(0.87109375, 0.454031327961634521875, 0.99, 0.4540313279616345)\", \"rgba(0.87109375, 0.483860240729964121875, 0.99, 0.4838602407299641)\", \"rgba(0.87109375, 0.4834190028067321721875, 0.25861607142857146, 0.48341900280673217)\", \"rgba(0.87109375, 0.4989103796784170621875, 0.25861607142857146, 0.49891037967841706)\", \"rgba(0.87109375, 0.47764462424222321875, 0.38051339285714286, 0.477644624242223)\", \"rgba(0.87109375, 0.489784008945510721875, 0.38051339285714286, 0.4897840089455107)\", \"rgba(0.87109375, 0.4886376056432037421875, 0.5024107142857143, 0.48863760564320374)\", \"rgba(0.87109375, 0.480603633313556421875, 0.5024107142857143, 0.4806036333135564)\", \"rgba(0.87109375, 0.485980723939485221875, 0.6243080357142857, 0.4859807239394852)\", \"rgba(0.87109375, 0.497612404009799621875, 0.7462053571428572, 0.4976124040097996)\", \"rgba(0.87109375, 0.477638741823744721875, 0.7462053571428572, 0.4776387418237447)\", \"rgba(0.87109375, 0.477294708694741621875, 0.99, 0.4772947086947416)\", \"rgba(0.7578125, 0.9375, 0.26625, 0.47692458693238454)\", \"rgba(0.7578125, 0.9375, 0.26625, 0.493645100796307)\", \"rgba(0.7578125, 0.9375, 0.26625, 0.482382559022488)\", \"rgba(0.7578125, 0.9375, 0.26625, 0.45657843479071303)\", \"rgba(0.7578125, 0.9375, 0.35671875, 0.4980566238533127)\", \"rgba(0.7578125, 0.9375, 0.35671875, 0.4862319918850633)\", \"rgba(0.7578125, 0.9375, 0.4565162804381103471875, 0.4565162804381103)\", \"rgba(0.7578125, 0.9375, 0.4570553439363619471875, 0.4570553439363619)\", \"rgba(0.7578125, 0.9375, 0.53765625, 0.4721226074645195)\", \"rgba(0.7578125, 0.9375, 0.53765625, 0.4902241099239138)\", \"rgba(0.7578125, 0.9375, 0.53765625, 0.4776149490107813)\", \"rgba(0.7578125, 0.9375, 0.628125, 0.4626209255007501)\", \"rgba(0.7578125, 0.9375, 0.628125, 0.4661813162260351)\", \"rgba(0.7578125, 0.9375, 0.71859375, 0.4510647083198556)\", \"rgba(0.7578125, 0.9375, 0.71859375, 0.4976224059266813)\", \"rgba(0.7578125, 0.9375, 0.8090625, 0.45868267045500594)\", \"rgba(0.7578125, 0.9375, 0.8090625, 0.49371979500932095)\", \"rgba(0.7578125, 0.9375, 0.89953125, 0.4809578132768638)\", \"rgba(0.7578125, 0.9375, 0.99, 0.45789740185020344)\", \"rgba(0.7578125, 0.9375, 0.99, 0.4839805610255398)\", \"rgba(0.7578125, 0.9375, 0.99, 0.45809062841944215)\", \"rgba(0.7578125, 0.9375, 0.26625, 0.48636192934607786)\", \"rgba(0.7578125, 0.9375, 0.26625, 0.48487807407390804)\", \"rgba(0.7578125, 0.9375, 0.35671875, 0.4843824821239096)\", \"rgba(0.7578125, 0.9375, 0.35671875, 0.4869344637638248)\", \"rgba(0.7578125, 0.9375, 0.4896547994879931471875, 0.4896547994879931)\", \"rgba(0.7578125, 0.9375, 0.53765625, 0.4838129390402735)\", \"rgba(0.7578125, 0.9375, 0.53765625, 0.48215074444803885)\", \"rgba(0.7578125, 0.9375, 0.71859375, 0.4935703954200293)\", \"rgba(0.7578125, 0.9375, 0.8090625, 0.4925296473342037)\", \"rgba(0.7578125, 0.9375, 0.89953125, 0.4975801434806809)\", \"rgba(0.7578125, 0.9375, 0.99, 0.4877821451201976)\", \"rgba(0.4609375, 0.08203125, 0.480142153538835778375, 0.48014215353883577)\", \"rgba(0.4609375, 0.08203125, 0.46352073239926628375, 0.4635207323992662)\", \"rgba(0.4609375, 0.08203125, 0.49272263042641188375, 0.4927226304264118)\", \"rgba(0.4609375, 0.08203125, 0.469387892376002878375, 0.46938789237600287)\", \"rgba(0.4609375, 0.08203125, 0.494061936723328932453125, 0.49406193672332893)\", \"rgba(0.4609375, 0.08203125, 0.45078237032265742453125, 0.4507823703226574)\", \"rgba(0.4609375, 0.08203125, 0.3653125, 0.45815630366560545)\", \"rgba(0.4609375, 0.08203125, 0.3653125, 0.4819639571725038)\", \"rgba(0.4609375, 0.08203125, 0.30609375, 0.47137501327415643)\", \"rgba(0.4609375, 0.08203125, 0.30609375, 0.46741647119933066)\", \"rgba(0.4609375, 0.08203125, 0.30609375, 0.4573678316837227)\", \"rgba(0.4609375, 0.08203125, 0.30609375, 0.4758401557968168)\", \"rgba(0.4609375, 0.08203125, 0.246875, 0.48407626415889676)\", \"rgba(0.4609375, 0.08203125, 0.18765624999999997, 0.49583050565176123)\", \"rgba(0.4609375, 0.08203125, 0.18765624999999997, 0.47102964967328054)\", \"rgba(0.4609375, 0.08203125, 0.18765624999999997, 0.46805088264566863)\", \"rgba(0.4609375, 0.08203125, 0.18765624999999997, 0.45417723147547423)\", \"rgba(0.4609375, 0.08203125, 0.18765624999999997, 0.4727240774892125)\", \"rgba(0.4609375, 0.08203125, 0.12843749999999998, 0.4618894669655295)\", \"rgba(0.4609375, 0.08203125, 0.12843749999999998, 0.49231441771647766)\", \"rgba(0.4609375, 0.08203125, 0.12843749999999998, 0.4809577202808352)\", \"rgba(0.4609375, 0.08203125, 0.06921875, 0.4604043589039798)\", \"rgba(0.4609375, 0.08203125, 0.06921875, 0.45065361994664654)\", \"rgba(0.4609375, 0.08203125, 0.06921875, 0.47794247520287814)\", \"rgba(0.4609375, 0.08203125, 0.06921875, 0.48242807783921166)\", \"rgba(0.4609375, 0.08203125, 0.06921875, 0.4526289160106295)\", \"rgba(0.4609375, 0.08203125, 0.010000000000000009, 0.4912042675040563)\"], \"source\": [0, 0, 0, 0, 0, 1, 1, 1, 1, 1, 2, 2, 2, 2, 2, 3, 3, 3, 3, 3, 4, 4, 4, 4, 5, 5, 5, 5, 5, 0, 0, 1, 1, 2, 2, 3, 3, 4, 4, 5, 5, 6, 6, 6, 6, 7, 7, 7, 7, 8, 8, 9, 9, 9, 10, 10, 10, 11, 11, 6, 7, 8, 9, 9, 9, 10, 10, 10, 11, 12, 12, 12, 12, 13, 13, 14, 14, 14, 14, 15, 16, 16, 17, 18, 18, 18, 18, 12, 12, 13, 13, 14, 14, 15, 16, 16, 18, 19, 19, 19, 19, 20, 20, 21, 21, 22, 22, 22, 23, 23, 24, 24, 25, 25, 26, 27, 27, 27, 19, 19, 20, 20, 21, 22, 22, 24, 25, 26, 27, 28, 28, 28, 28, 29, 29, 30, 30, 31, 31, 31, 31, 32, 33, 33, 33, 33, 33, 34, 34, 34, 35, 35, 35, 35, 35, 36], \"target\": [6, 7, 8, 9, 10, 6, 7, 8, 9, 10, 6, 7, 8, 9, 10, 6, 7, 8, 9, 10, 6, 7, 8, 10, 6, 7, 8, 9, 10, 12, 18, 12, 18, 12, 18, 12, 18, 12, 18, 12, 18, 12, 13, 14, 18, 13, 14, 15, 18, 12, 16, 13, 14, 17, 12, 16, 18, 15, 18, 22, 19, 20, 19, 24, 25, 20, 22, 27, 26, 20, 21, 22, 27, 19, 25, 19, 23, 25, 27, 26, 20, 22, 24, 19, 22, 23, 27, 28, 33, 31, 34, 29, 31, 30, 28, 33, 31, 29, 31, 34, 35, 28, 33, 30, 33, 28, 33, 35, 29, 35, 31, 36, 31, 34, 30, 31, 33, 35, 38, 47, 39, 41, 45, 39, 48, 37, 44, 46, 39, 39, 40, 41, 48, 38, 47, 45, 46, 38, 43, 44, 47, 43, 39, 40, 41, 45, 48, 38, 44, 47, 38, 39, 40, 42, 48, 37], \"value\": [0.9777428643071194, 0.9432073863234526, 0.9228212037645769, 0.9064192573168187, 0.9640825757803968, 0.9759459940288637, 0.9362542693001904, 0.926788382557651, 0.9040893654914528, 0.9668286954323984, 0.9631550194037116, 0.9361838621305746, 0.9235458158928429, 0.9014017107755543, 0.9680825869176684, 0.9754468410247945, 0.9431106972392603, 0.9236096969921093, 0.9126534971596025, 0.9628956452793047, 0.9609237506858976, 0.9245162448744463, 0.92993443907291, 0.9731506790146013, 0.9709714917906404, 0.9382485257509446, 0.9284891998403564, 0.906412045754642, 0.9650228875536516, 0.9664221258568048, 0.9688814521169051, 0.9691578679593306, 0.965866016183704, 0.9641463504298735, 0.970804949850071, 0.9646335930470247, 0.9678904191472971, 0.9694929877547707, 0.9655280283830411, 0.9660917492547632, 0.9661574076626764, 0.9479285043523119, 0.9244906420578151, 0.9469272616218075, 0.9263921277278477, 0.9167285696543356, 0.9850615334043027, 0.9217081896267032, 0.9583389641844294, 0.9667893091677601, 0.9952876459258283, 0.9683612624506169, 0.9157116198676615, 0.9462828355482364, 0.9867509547834825, 0.9386035396988183, 0.9437040487150942, 0.9704956090193861, 0.9055038922612254, 0.9665833297440194, 0.9761036064478783, 0.9964669941840281, 0.9518113033672956, 0.9517608507693068, 0.9618730635791629, 0.9611598075998615, 0.957160019452733, 0.9673013567278061, 0.9794429944899463, 0.9688998125347875, 0.921025016126349, 0.9853802770812993, 0.9639493481890613, 0.9703520501750514, 0.9686527415282359, 0.9793754019130563, 0.9597670155375543, 0.9277825900630646, 0.9148703997355482, 0.9831678282251958, 0.9938719901945832, 0.9255552118878768, 0.9589660359262122, 0.928382757739771, 0.9038978565772241, 0.908062655923269, 0.9677204814599282, 0.9668380056134643, 0.9978207593568341, 0.955289248484446, 0.9795680178910214, 0.9772752112864075, 0.9612072666271128, 0.9719614478789704, 0.9952248080195992, 0.9552774836474894, 0.9545894173894832, 0.9538491738647691, 0.987290201592614, 0.964765118044976, 0.9131568695814261, 0.9961132477066253, 0.9724639837701265, 0.9130325608762206, 0.9141106878727238, 0.944245214929039, 0.9804482198478276, 0.9552298980215626, 0.9252418510015002, 0.9323626324520702, 0.9021294166397112, 0.9952448118533626, 0.9173653409100119, 0.9874395900186419, 0.9619156265537276, 0.9157948037004069, 0.9679611220510796, 0.9161812568388843, 0.9727238586921557, 0.9697561481478161, 0.9687649642478192, 0.9738689275276496, 0.9793095989759862, 0.967625878080547, 0.9643014888960777, 0.9871407908400586, 0.9850592946684074, 0.9951602869613618, 0.9755642902403951, 0.9602843070776715, 0.9270414647985324, 0.9854452608528236, 0.9387757847520057, 0.9881238734466579, 0.9015647406453148, 0.9163126073312109, 0.9639279143450076, 0.9427500265483129, 0.9348329423986613, 0.9147356633674454, 0.9516803115936336, 0.9681525283177935, 0.9916610113035225, 0.9420592993465611, 0.9361017652913373, 0.9083544629509485, 0.945448154978425, 0.923778933931059, 0.9846288354329553, 0.9619154405616704, 0.9208087178079596, 0.9013072398932931, 0.9558849504057563, 0.9648561556784233, 0.905257832021259, 0.9824085350081126]}, \"node\": {\"color\": [\"rgba(0.46484375, 0.7265625, 0.370078125, 0.8)\", \"rgba(0.46484375, 0.7265625, 0.49406249999999996, 0.8)\", \"rgba(0.46484375, 0.7265625, 0.618046875, 0.8)\", \"rgba(0.46484375, 0.7265625, 0.7420312499999999, 0.8)\", \"rgba(0.46484375, 0.7265625, 0.866015625, 0.8)\", \"rgba(0.46484375, 0.7265625, 0.99, 0.8)\", \"rgba(0.60546875, 0.5546875, 0.5094791666666667, 0.8)\", \"rgba(0.60546875, 0.5546875, 0.4095833333333333, 0.8)\", \"rgba(0.60546875, 0.5546875, 0.3096875, 0.8)\", \"rgba(0.60546875, 0.5546875, 0.20979166666666665, 0.8)\", \"rgba(0.60546875, 0.5546875, 0.1098958333333333, 0.8)\", \"rgba(0.60546875, 0.5546875, 0.010000000000000009, 0.8)\", \"rgba(0.87109375, 0.421875, 0.25861607142857146, 0.8)\", \"rgba(0.87109375, 0.421875, 0.38051339285714286, 0.8)\", \"rgba(0.87109375, 0.421875, 0.5024107142857143, 0.8)\", \"rgba(0.87109375, 0.421875, 0.6243080357142857, 0.8)\", \"rgba(0.87109375, 0.421875, 0.7462053571428572, 0.8)\", \"rgba(0.87109375, 0.421875, 0.8681026785714285, 0.8)\", \"rgba(0.87109375, 0.421875, 0.99, 0.8)\", \"rgba(0.7578125, 0.9375, 0.26625, 0.8)\", \"rgba(0.7578125, 0.9375, 0.35671875, 0.8)\", \"rgba(0.7578125, 0.9375, 0.4471875, 0.8)\", \"rgba(0.7578125, 0.9375, 0.53765625, 0.8)\", \"rgba(0.7578125, 0.9375, 0.628125, 0.8)\", \"rgba(0.7578125, 0.9375, 0.71859375, 0.8)\", \"rgba(0.7578125, 0.9375, 0.8090625, 0.8)\", \"rgba(0.7578125, 0.9375, 0.89953125, 0.8)\", \"rgba(0.7578125, 0.9375, 0.99, 0.8)\", \"rgba(0.4609375, 0.08203125, 0.48375, 0.8)\", \"rgba(0.4609375, 0.08203125, 0.42453125, 0.8)\", \"rgba(0.4609375, 0.08203125, 0.3653125, 0.8)\", \"rgba(0.4609375, 0.08203125, 0.30609375, 0.8)\", \"rgba(0.4609375, 0.08203125, 0.246875, 0.8)\", \"rgba(0.4609375, 0.08203125, 0.18765624999999997, 0.8)\", \"rgba(0.4609375, 0.08203125, 0.12843749999999998, 0.8)\", \"rgba(0.4609375, 0.08203125, 0.06921875, 0.8)\", \"rgba(0.4609375, 0.08203125, 0.010000000000000009, 0.8)\", \"rgba(0.34375, 0.296875, 0.4155078125, 0.8)\", \"rgba(0.34375, 0.296875, 0.467734375, 0.8)\", \"rgba(0.34375, 0.296875, 0.5199609375, 0.8)\", \"rgba(0.34375, 0.296875, 0.5721875, 0.8)\", \"rgba(0.34375, 0.296875, 0.6244140625, 0.8)\", \"rgba(0.34375, 0.296875, 0.676640625, 0.8)\", \"rgba(0.34375, 0.296875, 0.7288671874999999, 0.8)\", \"rgba(0.34375, 0.296875, 0.7810937499999999, 0.8)\", \"rgba(0.34375, 0.296875, 0.8333203124999999, 0.8)\", \"rgba(0.34375, 0.296875, 0.885546875, 0.8)\", \"rgba(0.34375, 0.296875, 0.9377734375, 0.8)\", \"rgba(0.34375, 0.296875, 0.99, 0.8)\"], \"label\": [\"04 - artery, java, e_commerce, occlusion, basalt\", \"04 - kc, telemedicine, immune_network, data_fusion, foreground\", \"04 - froth, urn, subsumption, pth, hypergraph\", \"04 - S, web_service, creep, computer_game, java\", \"04 - ois, pharmacy, brave, occam, carotenoid\", \"04 - seam_pucker, neutron, robocup, league, C\", \"07 - gps, I, traffic, intrusion_detection, rout_protocol\", \"07 - sat, classifier, reinforcement_learn, controller, solver\", \"07 - emotion, philosophy, teach, aaai, story\", \"07 - tcm, soil, air, shear, progression\", \"07 - dm, teach, agent_base, semantic_web, organization\", \"07 - predicate, spatial_reason, equivalence, owl, dl\", \"10 - multi_agent_system, player, teach, enterprise, web_service\", \"10 - temperature, forecast, coal, carcass, soil\", \"10 - fault, svr, temperature, motor, vehicle\", \"10 - propositional, quantifier, A, belief, boolean\", \"10 - emotion, moral, teach, cognition, personality\", \"10 - protein, emotion, speech, tissue, bone\", \"10 - cbr, petri_net, S, case_base_reason_cbr, fuzzy_program\", \"13 - P, temperature, controller, water, A\", \"13 - robot, emotion, creativity, cognition, education\", \"13 - web, ontology, text, music, page\", \"13 - company, trust, smart_grid, ontology, robot\", \"13 - player, robot, P, vehicle, reinforcement_learn\", \"13 - breast_cancer, disease, cancer, malignant, tumor\", \"13 - temperature, water, gps, steel, pressure\", \"13 - csps, argument, solver, datalog, semantics\", \"13 - cbr, power_system, C, neat, P\", \"16 - agent, game, internet_thing, teach, education\", \"16 - voltage, pid_controller, mppt, power_system, torque\", \"16 - ontology, text, argumentation, semantics, sentence\", \"16 - forecasting, forecast, anfis, fault_diagnosis, svr\", \"16 - facial, camera, emotion_recognition, face_recognition, video\", \"16 - game, agent, player, ontology, computer_game\", \"16 - temperature, soil, oil, concentration, gas\", \"16 - agent, schedule, traffic, electricity_market, grid\", \"16 - disease, breast_cancer, cell, breast, cancer\", \"18 - clinical, drug, specificity, therapy, auc\", \"18 - controller, mppt, P, voltage, power_system\", \"18 - ontology, education, educational, dl, think\", \"18 - opponent, video_game, wheelchair, bot, autonomy\", \"18 - legal, ethical, social_medium, music, moral\", \"18 - bit, packet, accelerator, energy_consumption, data_center\", \"18 - segmentation, sparse, emotion, electroencephalogram, F\", \"18 - weld, memristor, skin, adsorption, stretchable\", \"18 - sentence, emotion, arabic, music, N\", \"18 - argument, I, argumentation, semantics, chatter\", \"18 - rmse, A, anfis, river, R\", \"18 - enterprise, I, education, F, smart_city\"], \"line\": {\"color\": \"black\", \"width\": 0}, \"pad\": 15, \"thickness\": 10}, \"type\": \"sankey\"}],\n",
       "                        {\"autosize\": false, \"font\": {\"size\": 11}, \"height\": 900, \"template\": {\"data\": {\"bar\": [{\"error_x\": {\"color\": \"#2a3f5f\"}, \"error_y\": {\"color\": \"#2a3f5f\"}, \"marker\": {\"line\": {\"color\": \"#E5ECF6\", \"width\": 0.5}}, \"type\": \"bar\"}], \"barpolar\": [{\"marker\": {\"line\": {\"color\": \"#E5ECF6\", \"width\": 0.5}}, \"type\": \"barpolar\"}], \"carpet\": [{\"aaxis\": {\"endlinecolor\": \"#2a3f5f\", \"gridcolor\": \"white\", \"linecolor\": \"white\", \"minorgridcolor\": \"white\", \"startlinecolor\": \"#2a3f5f\"}, \"baxis\": {\"endlinecolor\": \"#2a3f5f\", \"gridcolor\": \"white\", \"linecolor\": \"white\", \"minorgridcolor\": \"white\", \"startlinecolor\": \"#2a3f5f\"}, \"type\": \"carpet\"}], \"choropleth\": [{\"colorbar\": {\"outlinewidth\": 0, \"ticks\": \"\"}, \"type\": \"choropleth\"}], \"contour\": [{\"colorbar\": {\"outlinewidth\": 0, \"ticks\": \"\"}, \"colorscale\": [[0.0, \"#0d0887\"], [0.1111111111111111, \"#46039f\"], [0.2222222222222222, \"#7201a8\"], [0.3333333333333333, \"#9c179e\"], [0.4444444444444444, \"#bd3786\"], [0.5555555555555556, \"#d8576b\"], [0.6666666666666666, \"#ed7953\"], [0.7777777777777778, \"#fb9f3a\"], [0.8888888888888888, \"#fdca26\"], [1.0, \"#f0f921\"]], \"type\": \"contour\"}], \"contourcarpet\": [{\"colorbar\": {\"outlinewidth\": 0, \"ticks\": \"\"}, \"type\": \"contourcarpet\"}], \"heatmap\": [{\"colorbar\": {\"outlinewidth\": 0, \"ticks\": \"\"}, \"colorscale\": [[0.0, \"#0d0887\"], [0.1111111111111111, \"#46039f\"], [0.2222222222222222, \"#7201a8\"], [0.3333333333333333, \"#9c179e\"], [0.4444444444444444, \"#bd3786\"], [0.5555555555555556, \"#d8576b\"], [0.6666666666666666, \"#ed7953\"], [0.7777777777777778, \"#fb9f3a\"], [0.8888888888888888, \"#fdca26\"], [1.0, \"#f0f921\"]], \"type\": \"heatmap\"}], \"heatmapgl\": [{\"colorbar\": {\"outlinewidth\": 0, \"ticks\": \"\"}, \"colorscale\": [[0.0, \"#0d0887\"], [0.1111111111111111, \"#46039f\"], [0.2222222222222222, \"#7201a8\"], [0.3333333333333333, \"#9c179e\"], [0.4444444444444444, \"#bd3786\"], [0.5555555555555556, \"#d8576b\"], [0.6666666666666666, \"#ed7953\"], [0.7777777777777778, \"#fb9f3a\"], [0.8888888888888888, \"#fdca26\"], [1.0, \"#f0f921\"]], \"type\": \"heatmapgl\"}], \"histogram\": [{\"marker\": {\"colorbar\": {\"outlinewidth\": 0, \"ticks\": \"\"}}, \"type\": \"histogram\"}], \"histogram2d\": [{\"colorbar\": {\"outlinewidth\": 0, \"ticks\": \"\"}, \"colorscale\": [[0.0, \"#0d0887\"], [0.1111111111111111, \"#46039f\"], [0.2222222222222222, \"#7201a8\"], [0.3333333333333333, \"#9c179e\"], [0.4444444444444444, \"#bd3786\"], [0.5555555555555556, \"#d8576b\"], [0.6666666666666666, \"#ed7953\"], [0.7777777777777778, \"#fb9f3a\"], [0.8888888888888888, \"#fdca26\"], [1.0, \"#f0f921\"]], \"type\": \"histogram2d\"}], \"histogram2dcontour\": [{\"colorbar\": {\"outlinewidth\": 0, \"ticks\": \"\"}, \"colorscale\": [[0.0, \"#0d0887\"], [0.1111111111111111, \"#46039f\"], [0.2222222222222222, \"#7201a8\"], [0.3333333333333333, \"#9c179e\"], [0.4444444444444444, \"#bd3786\"], [0.5555555555555556, \"#d8576b\"], [0.6666666666666666, \"#ed7953\"], [0.7777777777777778, \"#fb9f3a\"], [0.8888888888888888, \"#fdca26\"], [1.0, \"#f0f921\"]], \"type\": \"histogram2dcontour\"}], \"mesh3d\": [{\"colorbar\": {\"outlinewidth\": 0, \"ticks\": \"\"}, \"type\": \"mesh3d\"}], \"parcoords\": [{\"line\": {\"colorbar\": {\"outlinewidth\": 0, \"ticks\": \"\"}}, \"type\": \"parcoords\"}], \"pie\": [{\"automargin\": true, \"type\": \"pie\"}], \"scatter\": [{\"marker\": {\"colorbar\": {\"outlinewidth\": 0, \"ticks\": \"\"}}, \"type\": \"scatter\"}], \"scatter3d\": [{\"line\": {\"colorbar\": {\"outlinewidth\": 0, \"ticks\": \"\"}}, \"marker\": {\"colorbar\": {\"outlinewidth\": 0, \"ticks\": \"\"}}, \"type\": \"scatter3d\"}], \"scattercarpet\": [{\"marker\": {\"colorbar\": {\"outlinewidth\": 0, \"ticks\": \"\"}}, \"type\": \"scattercarpet\"}], \"scattergeo\": [{\"marker\": {\"colorbar\": {\"outlinewidth\": 0, \"ticks\": \"\"}}, \"type\": \"scattergeo\"}], \"scattergl\": [{\"marker\": {\"colorbar\": {\"outlinewidth\": 0, \"ticks\": \"\"}}, \"type\": \"scattergl\"}], \"scattermapbox\": [{\"marker\": {\"colorbar\": {\"outlinewidth\": 0, \"ticks\": \"\"}}, \"type\": \"scattermapbox\"}], \"scatterpolar\": [{\"marker\": {\"colorbar\": {\"outlinewidth\": 0, \"ticks\": \"\"}}, \"type\": \"scatterpolar\"}], \"scatterpolargl\": [{\"marker\": {\"colorbar\": {\"outlinewidth\": 0, \"ticks\": \"\"}}, \"type\": \"scatterpolargl\"}], \"scatterternary\": [{\"marker\": {\"colorbar\": {\"outlinewidth\": 0, \"ticks\": \"\"}}, \"type\": \"scatterternary\"}], \"surface\": [{\"colorbar\": {\"outlinewidth\": 0, \"ticks\": \"\"}, \"colorscale\": [[0.0, \"#0d0887\"], [0.1111111111111111, \"#46039f\"], [0.2222222222222222, \"#7201a8\"], [0.3333333333333333, \"#9c179e\"], [0.4444444444444444, \"#bd3786\"], [0.5555555555555556, \"#d8576b\"], [0.6666666666666666, \"#ed7953\"], [0.7777777777777778, \"#fb9f3a\"], [0.8888888888888888, \"#fdca26\"], [1.0, \"#f0f921\"]], \"type\": \"surface\"}], \"table\": [{\"cells\": {\"fill\": {\"color\": \"#EBF0F8\"}, \"line\": {\"color\": \"white\"}}, \"header\": {\"fill\": {\"color\": \"#C8D4E3\"}, \"line\": {\"color\": \"white\"}}, \"type\": \"table\"}]}, \"layout\": {\"annotationdefaults\": {\"arrowcolor\": \"#2a3f5f\", \"arrowhead\": 0, \"arrowwidth\": 1}, \"coloraxis\": {\"colorbar\": {\"outlinewidth\": 0, \"ticks\": \"\"}}, \"colorscale\": {\"diverging\": [[0, \"#8e0152\"], [0.1, \"#c51b7d\"], [0.2, \"#de77ae\"], [0.3, \"#f1b6da\"], [0.4, \"#fde0ef\"], [0.5, \"#f7f7f7\"], [0.6, \"#e6f5d0\"], [0.7, \"#b8e186\"], [0.8, \"#7fbc41\"], [0.9, \"#4d9221\"], [1, \"#276419\"]], \"sequential\": [[0.0, \"#0d0887\"], [0.1111111111111111, \"#46039f\"], [0.2222222222222222, \"#7201a8\"], [0.3333333333333333, \"#9c179e\"], [0.4444444444444444, \"#bd3786\"], [0.5555555555555556, \"#d8576b\"], [0.6666666666666666, \"#ed7953\"], [0.7777777777777778, \"#fb9f3a\"], [0.8888888888888888, \"#fdca26\"], [1.0, \"#f0f921\"]], \"sequentialminus\": [[0.0, \"#0d0887\"], [0.1111111111111111, \"#46039f\"], [0.2222222222222222, \"#7201a8\"], [0.3333333333333333, \"#9c179e\"], [0.4444444444444444, \"#bd3786\"], [0.5555555555555556, \"#d8576b\"], [0.6666666666666666, \"#ed7953\"], [0.7777777777777778, \"#fb9f3a\"], [0.8888888888888888, \"#fdca26\"], [1.0, \"#f0f921\"]]}, \"colorway\": [\"#636efa\", \"#EF553B\", \"#00cc96\", \"#ab63fa\", \"#FFA15A\", \"#19d3f3\", \"#FF6692\", \"#B6E880\", \"#FF97FF\", \"#FECB52\"], \"font\": {\"color\": \"#2a3f5f\"}, \"geo\": {\"bgcolor\": \"white\", \"lakecolor\": \"white\", \"landcolor\": \"#E5ECF6\", \"showlakes\": true, \"showland\": true, \"subunitcolor\": \"white\"}, \"hoverlabel\": {\"align\": \"left\"}, \"hovermode\": \"closest\", \"mapbox\": {\"style\": \"light\"}, \"paper_bgcolor\": \"white\", \"plot_bgcolor\": \"#E5ECF6\", \"polar\": {\"angularaxis\": {\"gridcolor\": \"white\", \"linecolor\": \"white\", \"ticks\": \"\"}, \"bgcolor\": \"#E5ECF6\", \"radialaxis\": {\"gridcolor\": \"white\", \"linecolor\": \"white\", \"ticks\": \"\"}}, \"scene\": {\"xaxis\": {\"backgroundcolor\": \"#E5ECF6\", \"gridcolor\": \"white\", \"gridwidth\": 2, \"linecolor\": \"white\", \"showbackground\": true, \"ticks\": \"\", \"zerolinecolor\": \"white\"}, \"yaxis\": {\"backgroundcolor\": \"#E5ECF6\", \"gridcolor\": \"white\", \"gridwidth\": 2, \"linecolor\": \"white\", \"showbackground\": true, \"ticks\": \"\", \"zerolinecolor\": \"white\"}, \"zaxis\": {\"backgroundcolor\": \"#E5ECF6\", \"gridcolor\": \"white\", \"gridwidth\": 2, \"linecolor\": \"white\", \"showbackground\": true, \"ticks\": \"\", \"zerolinecolor\": \"white\"}}, \"shapedefaults\": {\"line\": {\"color\": \"#2a3f5f\"}}, \"ternary\": {\"aaxis\": {\"gridcolor\": \"white\", \"linecolor\": \"white\", \"ticks\": \"\"}, \"baxis\": {\"gridcolor\": \"white\", \"linecolor\": \"white\", \"ticks\": \"\"}, \"bgcolor\": \"#E5ECF6\", \"caxis\": {\"gridcolor\": \"white\", \"linecolor\": \"white\", \"ticks\": \"\"}}, \"title\": {\"x\": 0.05}, \"xaxis\": {\"automargin\": true, \"gridcolor\": \"white\", \"linecolor\": \"white\", \"ticks\": \"\", \"title\": {\"standoff\": 15}, \"zerolinecolor\": \"white\", \"zerolinewidth\": 2}, \"yaxis\": {\"automargin\": true, \"gridcolor\": \"white\", \"linecolor\": \"white\", \"ticks\": \"\", \"title\": {\"standoff\": 15}, \"zerolinecolor\": \"white\", \"zerolinewidth\": 2}}}, \"title\": {\"text\": \"H-Clustering -Abstracts+Titles - Separated Development of fields: Docs 1990-2004 to 2017-2018 : Enhanced number of clusters  - pow 3 - thresh 0.9\"}, \"width\": 1500},\n",
       "                        {\"responsive\": true}\n",
       "                    ).then(function(){\n",
       "                            \n",
       "var gd = document.getElementById('5c4c4536-6b0b-45f4-aa03-cdab57234878');\n",
       "var x = new MutationObserver(function (mutations, observer) {{\n",
       "        var display = window.getComputedStyle(gd).display;\n",
       "        if (!display || display === 'none') {{\n",
       "            console.log([gd, 'removed!']);\n",
       "            Plotly.purge(gd);\n",
       "            observer.disconnect();\n",
       "        }}\n",
       "}});\n",
       "\n",
       "// Listen for the removal of the full notebook cells\n",
       "var notebookContainer = gd.closest('#notebook-container');\n",
       "if (notebookContainer) {{\n",
       "    x.observe(notebookContainer, {childList: true});\n",
       "}}\n",
       "\n",
       "// Listen for the clearing of the current output cell\n",
       "var outputEl = gd.closest('.output');\n",
       "if (outputEl) {{\n",
       "    x.observe(outputEl, {childList: true});\n",
       "}}\n",
       "\n",
       "                        })\n",
       "                };\n",
       "                });\n",
       "            </script>\n",
       "        </div>"
      ]
     },
     "metadata": {},
     "output_type": "display_data"
    }
   ],
   "source": [
    "fig = go.Figure(data=[go.Sankey(\n",
    "    node = dict(\n",
    "      pad = 15,\n",
    "      thickness = 10,\n",
    "      line = dict(color = \"black\", width = 0),\n",
    "      label = labels_all_new,\n",
    "      color = colors_all #\"blue\"\n",
    "    ),\n",
    "    link = dict(\n",
    "      source = similarity_source,# 1, 0, 2, 3, 3], # indices correspond to labels, eg A1, A2, A2, B1, ...\n",
    "      target = similarity_target,# 3, 3, 4, 4, 5],\n",
    "      value = similarity_value,# 4, 2, 8, 4, 2],\n",
    "      color = final_colors_links #\"grey\"\n",
    "  ))])\n",
    "\n",
    "fig.update_layout(title_text=\"H-Clustering -\"+data_type+\" Development of fields: Docs 1990-2004 to \"+last_period_start+\"-2018 : Enhanced number of clusters  - pow \"+str(power)+\" - thresh \"+str(link_strength_threshold), font_size=11)\n",
    "fig.update_layout(\n",
    "    autosize=False,\n",
    "    width=1500,\n",
    "    height=900)\n",
    "fig.show()"
   ]
  },
  {
   "cell_type": "code",
   "execution_count": null,
   "metadata": {},
   "outputs": [],
   "source": []
  },
  {
   "cell_type": "code",
   "execution_count": null,
   "metadata": {},
   "outputs": [],
   "source": []
  }
 ],
 "metadata": {
  "kernelspec": {
   "display_name": "Python 3",
   "language": "python",
   "name": "python3"
  },
  "language_info": {
   "codemirror_mode": {
    "name": "ipython",
    "version": 3
   },
   "file_extension": ".py",
   "mimetype": "text/x-python",
   "name": "python",
   "nbconvert_exporter": "python",
   "pygments_lexer": "ipython3",
   "version": "3.7.6"
  }
 },
 "nbformat": 4,
 "nbformat_minor": 2
}
