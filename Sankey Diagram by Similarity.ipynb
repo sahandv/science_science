{
 "cells": [
  {
   "cell_type": "markdown",
   "metadata": {},
   "source": [
    "# Sankey Diagram by Similarity Scores\n"
   ]
  },
  {
   "cell_type": "markdown",
   "metadata": {},
   "source": [
    "### Import Libs"
   ]
  },
  {
   "cell_type": "code",
   "execution_count": 1,
   "metadata": {},
   "outputs": [
    {
     "name": "stdout",
     "output_type": "stream",
     "text": [
      "env name: sciosci\n"
     ]
    }
   ],
   "source": [
    "import os\n",
    "print('env name:',os.environ['CONDA_DEFAULT_ENV'])\n",
    "\n",
    "import plotly.graph_objects as go\n",
    "from skimage import io\n",
    "import urllib, json\n",
    "import pandas as pd\n",
    "import numpy as np\n",
    "from sciosci.assets import advanced_assets as aa\n",
    "from tqdm import tqdm\n",
    "import re"
   ]
  },
  {
   "cell_type": "markdown",
   "metadata": {},
   "source": [
    "### Initialize"
   ]
  },
  {
   "cell_type": "code",
   "execution_count": 44,
   "metadata": {},
   "outputs": [],
   "source": [
    "random_link_colors = False\n",
    "multi_year_similarity = True\n",
    "\n",
    "comment = ''\n",
    "clustering_method = 'agglomerative ward '\n",
    "link_strength_threshold = 0.45\n",
    "link_strength_threshold_2 = 0.50\n",
    "power = 2 # value power for increasing the differences "
   ]
  },
  {
   "cell_type": "markdown",
   "metadata": {},
   "source": [
    "#### Separated years"
   ]
  },
  {
   "cell_type": "code",
   "execution_count": 17,
   "metadata": {},
   "outputs": [],
   "source": [
    "last_period_start = \"2017\"\n",
    "data_type = \"Author Keywords - Abstract Words \"\n",
    "label_source = ''\n",
    "year_periods_topics = [\"8\",\"8\",\"12\",\"12\",\"16\",\"16\"]  #[\"7\",\"7\",\"9\",\"13\",\"13\",\"17\"]  \n",
    "# Sorted periods' topic numbers from new to old from left to right\n",
    "year_periods = [\"1990-2004\",\"2005-2007\",\"2008-2010\",\"2011-2013\",\"2014-2016\",\"2017-2018\"] \n",
    "# Sorted year periods from new to old from left to right\n",
    "data_directory = '/home/sahand/GoogleDrive/Data/Word Clustering/50D/'"
   ]
  },
  {
   "cell_type": "markdown",
   "metadata": {},
   "source": [
    "#### cumulative years"
   ]
  },
  {
   "cell_type": "code",
   "execution_count": null,
   "metadata": {},
   "outputs": [],
   "source": [
    "last_period_start = \"1990\"\n",
    "data_type = \"Author Keywords - Cumulative\"\n",
    "year_periods_topics = [\"7\",\"8\",\"10\",\"10\",\"10\",\"11\"]  \n",
    "# Sorted periods' topic numbers from new to old from left to right\n",
    "year_periods = [\"1990-2004\",\"1990-2007\",\"1990-2010\",\"1990-2013\",\"1990-2016\",\"1990-2018\"] \n",
    "# Sorted year periods from new to old from left to right\n",
    "data_directory = 'data/clusters/FastText/15D/10 dim/'"
   ]
  },
  {
   "cell_type": "markdown",
   "metadata": {},
   "source": [
    "#### cumulative documents"
   ]
  },
  {
   "cell_type": "code",
   "execution_count": null,
   "metadata": {},
   "outputs": [],
   "source": [
    "last_period_start = \"1990\"\n",
    "label_source = 'topics/'#authkeyword/'\n",
    "data_type = \"Abstracts+Titles - Cumulative\"\n",
    "year_periods_topics = [\"9\",\"10\",\"11\",\"14\",\"15\",\"15\"]\n",
    "# Sorted periods' topic numbers from new to old from left to right\n",
    "year_periods = [\"1990-2004\",\"1990-2007\",\"1990-2010\",\"1990-2013\",\"1990-2016\",\"1990-2018\"] \n",
    "# Sorted year periods from new to old from left to right\n",
    "data_directory = '/home/sahand/GoogleDrive/Data/FastText doc clusters - SIP/50D/'\n",
    "#'data/clusters/FastText/50D/'"
   ]
  },
  {
   "cell_type": "markdown",
   "metadata": {},
   "source": [
    "#### Separated documents"
   ]
  },
  {
   "cell_type": "code",
   "execution_count": 45,
   "metadata": {},
   "outputs": [],
   "source": [
    "last_period_start = \"2017\"\n",
    "label_source = ''#authkeyword/'\n",
    "data_type = \"Abstracts+Titles - Separated\"\n",
    "year_periods_topics = [\"7\",\"7\",\"8\",\"8\",\"11\",\"12\"]\n",
    "# Sorted periods' topic numbers from new to old from left to right\n",
    "year_periods = [\"1990-2004\",\"2005-2007\",\"2008-2010\",\"2011-2013\",\"2014-2016\",\"2017-2018\"] \n",
    "# Sorted year periods from new to old from left to right\n",
    "data_directory = '/home/sahand/GoogleDrive/Data/Document Clustering/50D w2/lemmatized/'\n",
    "#'data/clusters/FastText/50D/'"
   ]
  },
  {
   "cell_type": "markdown",
   "metadata": {},
   "source": [
    "### Read & Prepare Data"
   ]
  },
  {
   "cell_type": "markdown",
   "metadata": {},
   "source": [
    "Generate nodes and links"
   ]
  },
  {
   "cell_type": "code",
   "execution_count": 30,
   "metadata": {},
   "outputs": [
    {
     "name": "stdout",
     "output_type": "stream",
     "text": [
      "Node colors are:\n"
     ]
    },
    {
     "data": {
      "image/png": "[encoded data removed]",
      "text/plain": [
       "<Figure size 432x288 with 1 Axes>"
      ]
     },
     "metadata": {
      "needs_background": "light"
     },
     "output_type": "display_data"
    }
   ],
   "source": [
    "node_colors_palette = aa.color_palette_maker(len(year_periods_topics),alpha=0.8)\n",
    "node_colors = ['rgba('+str(x).replace('[','').replace(']','')+')' for x in node_colors_palette]\n",
    "link_colors = [x[:-4]+'0.4)' for x in node_colors]\n",
    "node_colors_palette = np.array([node_colors_palette])\n",
    "print(\"Node colors are:\")\n",
    "io.imshow(np.delete(node_colors_palette,3,1))\n",
    "labels_numeric_dict = {per:[] for per in year_periods}\n"
   ]
  },
  {
   "cell_type": "code",
   "execution_count": 31,
   "metadata": {},
   "outputs": [],
   "source": [
    "def color_alternator(rgba_colors,up_thresh = 0.8, down_thresh = 0.2, color_part = 2):\n",
    "    new_colors = []\n",
    "    color_s = rgba_colors[0].split(', ')\n",
    "    cell = float(rgba_colors[0].split(', ')[color_part])\n",
    "    if cell > 0.5:\n",
    "        portion = (cell-down_thresh)/len(rgba_colors)\n",
    "    else:\n",
    "        portion = (up_thresh-cell)/len(rgba_colors)\n",
    "\n",
    "    for idx,color in enumerate(topic_colors):\n",
    "        if cell > 0.5:\n",
    "            new_cell = cell-(idx+1)*portion\n",
    "        else:\n",
    "            new_cell = cell+(idx+1)*portion\n",
    "\n",
    "        color_s[color_part] = str(new_cell)\n",
    "        new_colors.append(', '.join(color_s))\n",
    "    return new_colors"
   ]
  },
  {
   "cell_type": "markdown",
   "metadata": {},
   "source": [
    "### Process"
   ]
  },
  {
   "cell_type": "markdown",
   "metadata": {},
   "source": [
    "#### Multi year similarity"
   ]
  },
  {
   "cell_type": "code",
   "execution_count": 32,
   "metadata": {},
   "outputs": [
    {
     "data": {
      "text/plain": [
       "[[0, 1, 2, 3, 4, 5, 6],\n",
       " [7, 8, 9, 10, 11, 12, 13],\n",
       " [14, 15, 16, 17, 18, 19, 20, 21],\n",
       " [22, 23, 24, 25, 26, 27, 28, 29],\n",
       " [30, 31, 32, 33, 34, 35, 36, 37, 38, 39, 40],\n",
       " [41, 42, 43, 44, 45, 46, 47, 48, 49, 50, 51, 52]]"
      ]
     },
     "execution_count": 32,
     "metadata": {},
     "output_type": "execute_result"
    }
   ],
   "source": [
    "# Give unique ID to all clusters\n",
    "total = 0\n",
    "cluster_ids = []\n",
    "for period_index, period in enumerate(year_periods):\n",
    "    cluster_ids.append(list(range(total,int(year_periods_topics[period_index])+total)))\n",
    "    total = total + int(year_periods_topics[period_index])\n",
    "cluster_ids"
   ]
  },
  {
   "cell_type": "code",
   "execution_count": 46,
   "metadata": {},
   "outputs": [
    {
     "name": "stderr",
     "output_type": "stream",
     "text": [
      "100%|██████████| 7/7 [00:00<00:00, 1834.43it/s]\n",
      "100%|██████████| 7/7 [00:00<00:00, 1646.30it/s]\n",
      "100%|██████████| 8/8 [00:00<00:00, 1362.84it/s]\n",
      "100%|██████████| 8/8 [00:00<00:00, 1412.46it/s]\n",
      "100%|██████████| 11/11 [00:00<00:00, 1794.04it/s]\n",
      "100%|██████████| 12/12 [00:00<00:00, 1355.88it/s]"
     ]
    },
    {
     "name": "stdout",
     "output_type": "stream",
     "text": [
      "1990-2004 7 0\n",
      "2005-2007 7 7\n",
      "2008-2010 8 14\n",
      "2011-2013 8 22\n",
      "2014-2016 11 30\n",
      "2017-2018 12 41\n"
     ]
    },
    {
     "name": "stderr",
     "output_type": "stream",
     "text": [
      "\n"
     ]
    }
   ],
   "source": [
    "labels_all = []\n",
    "labels_all_numeric = []\n",
    "labels_all_numeric_sequential = []\n",
    "colors_all = []\n",
    "colors_all_links = []\n",
    "\n",
    "similarity_source = []\n",
    "similarity_target = []\n",
    "similarity_value = []\n",
    "\n",
    "if multi_year_similarity is True:\n",
    "    for period_index, period in enumerate(year_periods):\n",
    "        print(period,year_periods_topics[period_index],cluster_ids[period_index][0])\n",
    "\n",
    "        terms = pd.read_csv(data_directory+'term_cluster-tables/'+label_source+period+\" \"+year_periods_topics[period_index]+\" - term_cluster.csv\").fillna('')\n",
    "        scores = pd.read_csv(data_directory+'term_cluster-tables/'+label_source+period+\" \"+year_periods_topics[period_index]+\" - term_score.csv\").fillna(0)\n",
    "    \n",
    "        \n",
    "        labels_this_period = aa.topic_label_maker(terms,scores,ratio=10,\n",
    "                                                  prefix=period.split('-')[1][-2:]+' - ',limit=5)\n",
    "        \n",
    "        labels_all = labels_all + labels_this_period\n",
    "        labels_all_numeric = labels_all_numeric + [str(x) for x in list(range(0,len(labels_this_period)))]\n",
    "        \n",
    "        topic_colors = [node_colors[period_index]] * len(labels_this_period)\n",
    "        topic_colors = color_alternator(topic_colors,up_thresh = 0.99, down_thresh = 0.01, color_part = 2)\n",
    "        colors_all = colors_all + topic_colors\n",
    "        \n",
    "        topic_link_colors = [link_colors[period_index]] * len(labels_this_period)\n",
    "        topic_link_colors = color_alternator(topic_link_colors,up_thresh = 0.99, down_thresh = 0.01, color_part = 2)\n",
    "        colors_all_links = colors_all_links + topic_link_colors\n",
    "        \n",
    "    #    similarity_scores = None\n",
    "        if period_index < len(year_periods) - 1:\n",
    "            similarity_scores = pd.read_csv(data_directory+'similarity/'+clustering_method+year_periods[period_index]+\"_\"+year_periods_topics[period_index]+\"-\"+year_periods[period_index+1]+\"_\"+year_periods_topics[period_index+1]+\".csv\")\n",
    "    #        terms_previous_period = pd.read_csv(data_directory+\"cumulative/\"+year_periods[period_index+1]+\"_\"+year_periods_topics[period_index+1]+\"/top_99-percentile_keywords_terms-spaced.csv\")\n",
    "\n",
    "            # flatten the similarity scores\n",
    "            for period_cluster_no,row in similarity_scores.iterrows(): # repeat to n_clusters of A\n",
    "\n",
    "                elem_num = len(row.values.tolist()) # number of columns in similarity file\n",
    "                for idx in range(1,elem_num,2):     # repeat to n_clusters of B\n",
    "                    if row.values.tolist()[idx+1]**power > link_strength_threshold:\n",
    "                        similarity_source.append(int(row.values.tolist()[0]) + cluster_ids[period_index][0])\n",
    "                        similarity_target.append(int(row.values.tolist()[idx]) + cluster_ids[period_index+1][0])\n",
    "                        similarity_value.append(row.values.tolist()[idx+1]**power)\n",
    "                \n",
    "        if period_index < len(year_periods) - 2:\n",
    "            try:\n",
    "                similarity_scores = pd.read_csv(data_directory+'similarity/'+clustering_method+year_periods[period_index]+\"_\"+year_periods_topics[period_index]+\"-\"+year_periods[period_index+2]+\"_\"+year_periods_topics[period_index+2]+\".csv\")\n",
    "    #        terms_previous_period = pd.read_csv(data_directory+\"cumulative/\"+year_periods[period_index+1]+\"_\"+year_periods_topics[period_index+1]+\"/top_99-percentile_keywords_terms-spaced.csv\")\n",
    "            except:\n",
    "                print(\"\\nThere is no similarity record at \",data_directory+'similarity/'+clustering_method+year_periods[period_index]+\"_\"+year_periods_topics[period_index]+\"-\"+year_periods[period_index+2]+\"_\"+year_periods_topics[period_index+2]+\".csv\")\n",
    "                similarity_scores = None\n",
    "                continue\n",
    "                \n",
    "            for period_cluster_no,row in similarity_scores.iterrows(): # repeat to n_clusters of A\n",
    "\n",
    "                elem_num = len(row.values.tolist()) # number of columns in similarity file\n",
    "                for idx in range(1,elem_num,2):     # repeat to n_clusters of B\n",
    "                    if row.values.tolist()[idx+1]**power > link_strength_threshold_2:\n",
    "                        similarity_source.append(int(row.values.tolist()[0]) + cluster_ids[period_index][0])\n",
    "                        similarity_target.append(int(row.values.tolist()[idx]) + cluster_ids[period_index+2][0])\n",
    "                        similarity_value.append(row.values.tolist()[idx+1]**power)\n",
    "                \n",
    "                \n",
    "    labels_all_numeric_sequential = [str(x) for x in list(range(0,len(labels_all_numeric)))]"
   ]
  },
  {
   "cell_type": "markdown",
   "metadata": {},
   "source": [
    "### Draw"
   ]
  },
  {
   "cell_type": "markdown",
   "metadata": {},
   "source": [
    "#### Prepare links"
   ]
  },
  {
   "cell_type": "markdown",
   "metadata": {},
   "source": [
    "* For clustered colors:"
   ]
  },
  {
   "cell_type": "code",
   "execution_count": 47,
   "metadata": {},
   "outputs": [
    {
     "name": "stderr",
     "output_type": "stream",
     "text": [
      "100%|██████████| 102/102 [00:00<00:00, 78054.92it/s]\n"
     ]
    }
   ],
   "source": [
    "if random_link_colors is False:\n",
    "    final_colors_links = [colors_all_links[x] for x in similarity_source] # in similarity_source]\n",
    "    final_color_links_varied = []\n",
    "    for i,value in tqdm(enumerate(similarity_value),total=len(similarity_value)):\n",
    "        final_color_links_varied.append(final_colors_links[i].replace(', 0.4',', '+str(value/2)))\n",
    "#         print(final_color_links_varied[i])\n",
    "    final_colors_links = final_color_links_varied"
   ]
  },
  {
   "cell_type": "markdown",
   "metadata": {},
   "source": [
    "* For random colors:"
   ]
  },
  {
   "cell_type": "code",
   "execution_count": 48,
   "metadata": {},
   "outputs": [],
   "source": [
    "if random_link_colors is True:\n",
    "    final_colors_links = ['rgba('+str(x).replace('[','').replace(']','')+')' for x in aa.color_palette_maker(len(similarity_target),alpha=0.3)]"
   ]
  },
  {
   "cell_type": "markdown",
   "metadata": {},
   "source": [
    "#### Prepare labels"
   ]
  },
  {
   "cell_type": "code",
   "execution_count": 49,
   "metadata": {},
   "outputs": [
    {
     "name": "stderr",
     "output_type": "stream",
     "text": [
      "100%|██████████| 53/53 [00:00<00:00, 51553.37it/s]\n"
     ]
    }
   ],
   "source": [
    "labels_all_new = []\n",
    "for label in tqdm(labels_all):\n",
    "    label_to_split = label.split('- ')\n",
    "    label_split = label_to_split[1].split(', ')\n",
    "    label_split_new = []\n",
    "    for split in label_split:\n",
    "        if len(split)>20:\n",
    "            label_split_new.append(aa.abbreviator(split))\n",
    "        else:\n",
    "            label_split_new.append(split)\n",
    "    labels_all_new.append(label_to_split[0]+'- '+', '.join(label_split_new))\n",
    "labels_all_new = [label.replace('computer science','cs').replace('engineering','en') for label in labels_all_new]"
   ]
  },
  {
   "cell_type": "markdown",
   "metadata": {},
   "source": [
    "#### Draw"
   ]
  },
  {
   "cell_type": "code",
   "execution_count": 50,
   "metadata": {},
   "outputs": [
    {
     "data": {
      "application/vnd.plotly.v1+json": {
       "config": {
        "plotlyServerURL": "https://plot.ly"
       },
       "data": [
        {
         "link": {
          "color": [
           "rgba(0.13671875, 0.9296875, 0.32223214285714286, 0.47336066479424455)",
           "rgba(0.13671875, 0.9296875, 0.49953307125698976335267857142857, 0.49953307125698976)",
           "rgba(0.13671875, 0.9296875, 0.5448214285714286, 0.484455421313046)",
           "rgba(0.13671875, 0.9296875, 0.5448214285714286, 0.2493009587532154)",
           "rgba(0.13671875, 0.9296875, 0.6561160714285714, 0.4965921391158997)",
           "rgba(0.13671875, 0.9296875, 0.8787053571428571, 0.45570280595853757)",
           "rgba(0.13671875, 0.9296875, 0.8787053571428571, 0.2651031327302088)",
           "rgba(0.13671875, 0.9296875, 0.99, 0.38890611233279193)",
           "rgba(0.13671875, 0.9296875, 0.32223214285714286, 0.32029869654795773)",
           "rgba(0.13671875, 0.9296875, 0.32223214285714286, 0.2956510122277346)",
           "rgba(0.13671875, 0.9296875, 0.49908784396424877335267857142857, 0.49908784396424877)",
           "rgba(0.13671875, 0.9296875, 0.5448214285714286, 0.2781115217544459)",
           "rgba(0.13671875, 0.9296875, 0.5448214285714286, 0.489717109311779)",
           "rgba(0.13671875, 0.9296875, 0.6561160714285714, 0.47886055066189254)",
           "rgba(0.13671875, 0.9296875, 0.6561160714285714, 0.4969368048601591)",
           "rgba(0.13671875, 0.9296875, 0.7674107142857143, 0.2619168122375453)",
           "rgba(0.13671875, 0.9296875, 0.8787053571428571, 0.4971456181174288)",
           "rgba(0.13671875, 0.9296875, 0.99, 0.29290395398312996)",
           "rgba(0.13671875, 0.9296875, 0.99, 0.38173010446974864)",
           "rgba(0.7890625, 0.59765625, 0.17491071428571428, 0.2313623414455977)",
           "rgba(0.7890625, 0.59765625, 0.17491071428571428, 0.48874302341109743)",
           "rgba(0.7890625, 0.59765625, 0.31075892857142856, 0.4707566148667335)",
           "rgba(0.7890625, 0.59765625, 0.31075892857142856, 0.49932843353880624)",
           "rgba(0.7890625, 0.59765625, 0.315385885874443554660714285714287, 0.31538588587444355)",
           "rgba(0.7890625, 0.59765625, 0.25333058072525534660714285714287, 0.2533305807252553)",
           "rgba(0.7890625, 0.59765625, 0.27524331474857694660714285714287, 0.2752433147485769)",
           "rgba(0.7890625, 0.59765625, 0.5824553571428571, 0.4636215087895814)",
           "rgba(0.7890625, 0.59765625, 0.7183035714285714, 0.23274788597122292)",
           "rgba(0.7890625, 0.59765625, 0.7183035714285714, 0.37168850754334487)",
           "rgba(0.7890625, 0.59765625, 0.8541517857142857, 0.4990796704005787)",
           "rgba(0.7890625, 0.59765625, 0.17491071428571428, 0.48518585157113964)",
           "rgba(0.7890625, 0.59765625, 0.31075892857142856, 0.49871766672138884)",
           "rgba(0.7890625, 0.59765625, 0.4557260965511214660714285714287, 0.455726096551121)",
           "rgba(0.7890625, 0.59765625, 0.275775095773997674660714285714287, 0.27577509577399767)",
           "rgba(0.7890625, 0.59765625, 0.5824553571428571, 0.4946701833487761)",
           "rgba(0.7890625, 0.59765625, 0.8541517857142857, 0.49931065795201146)",
           "rgba(0.7890625, 0.59765625, 0.99, 0.4672468153715579)",
           "rgba(0.94921875, 0.265625, 0.81814453125, 0.2868397147476488)",
           "rgba(0.94921875, 0.265625, 0.7026953125, 0.47742599864042595)",
           "rgba(0.94921875, 0.265625, 0.7026953125, 0.2912795132984631)",
           "rgba(0.94921875, 0.265625, 0.58724609375, 0.47368981098365354)",
           "rgba(0.94921875, 0.265625, 0.49899566252747171796875, 0.498995662527471)",
           "rgba(0.94921875, 0.265625, 0.35634765625, 0.4990639789976917)",
           "rgba(0.94921875, 0.265625, 0.010000000000000009, 0.25375721828759285)",
           "rgba(0.94921875, 0.265625, 0.010000000000000009, 0.48955440798934846)",
           "rgba(0.94921875, 0.265625, 0.81814453125, 0.27176856932460186)",
           "rgba(0.94921875, 0.265625, 0.81814453125, 0.27079135182637654)",
           "rgba(0.94921875, 0.265625, 0.7026953125, 0.479978796130453)",
           "rgba(0.94921875, 0.265625, 0.7026953125, 0.47276488305633846)",
           "rgba(0.94921875, 0.265625, 0.58724609375, 0.493082702940354)",
           "rgba(0.94921875, 0.265625, 0.4972531520181584571796875, 0.49725315201815845)",
           "rgba(0.94921875, 0.265625, 0.35634765625, 0.49806369623513624)",
           "rgba(0.94921875, 0.265625, 0.35634765625, 0.49927678846206514)",
           "rgba(0.94921875, 0.265625, 0.010000000000000009, 0.3648096306783076)",
           "rgba(0.94921875, 0.265625, 0.010000000000000009, 0.2923795823863814)",
           "rgba(0.94921875, 0.265625, 0.010000000000000009, 0.2897882422608255)",
           "rgba(0.94921875, 0.265625, 0.010000000000000009, 0.44085711674895767)",
           "rgba(0.78515625, 0.95703125, 0.4989341038828617579765625, 0.49893410388286175)",
           "rgba(0.78515625, 0.95703125, 0.4991480884332911779765625, 0.49914808843329117)",
           "rgba(0.78515625, 0.95703125, 0.23852039962580831265625, 0.2385203996258083)",
           "rgba(0.78515625, 0.95703125, 0.36384378150474191265625, 0.3638437815047419)",
           "rgba(0.78515625, 0.95703125, 0.281540344889175561265625, 0.28154034488917556)",
           "rgba(0.78515625, 0.95703125, 0.34554687500000003, 0.4948821003925523)",
           "rgba(0.78515625, 0.95703125, 0.2784375, 0.3321536234755236)",
           "rgba(0.78515625, 0.95703125, 0.2784375, 0.28589334523047005)",
           "rgba(0.78515625, 0.95703125, 0.2784375, 0.32573286382358096)",
           "rgba(0.78515625, 0.95703125, 0.2784375, 0.4245528830073508)",
           "rgba(0.78515625, 0.95703125, 0.21132812499999998, 0.48802337257355705)",
           "rgba(0.78515625, 0.95703125, 0.14421875, 0.49860486129484227)",
           "rgba(0.78515625, 0.95703125, 0.07710937500000004, 0.2556497883581098)",
           "rgba(0.78515625, 0.95703125, 0.010000000000000009, 0.4859043705445141)",
           "rgba(0.78515625, 0.95703125, 0.4971239382851865379765625, 0.49712393828518653)",
           "rgba(0.78515625, 0.95703125, 0.4991165701190159579765625, 0.49911657011901595)",
           "rgba(0.78515625, 0.95703125, 0.498993337446817579765625, 0.4989933374468175)",
           "rgba(0.78515625, 0.95703125, 0.42618800544016981265625, 0.4261880054401698)",
           "rgba(0.78515625, 0.95703125, 0.34554687500000003, 0.4926846562579181)",
           "rgba(0.78515625, 0.95703125, 0.2784375, 0.4296169182462656)",
           "rgba(0.78515625, 0.95703125, 0.2784375, 0.30273113495271603)",
           "rgba(0.78515625, 0.95703125, 0.2784375, 0.29858449238544316)",
           "rgba(0.78515625, 0.95703125, 0.21132812499999998, 0.4958121576874356)",
           "rgba(0.78515625, 0.95703125, 0.14421875, 0.49669565645451796)",
           "rgba(0.78515625, 0.95703125, 0.14421875, 0.49925893249730574)",
           "rgba(0.78515625, 0.95703125, 0.010000000000000009, 0.489120714715074)",
           "rgba(0.1875, 0.265625, 0.6472159090909091, 0.4985146464192388)",
           "rgba(0.1875, 0.265625, 0.6472159090909091, 0.49952404003930245)",
           "rgba(0.1875, 0.265625, 0.6472159090909091, 0.49863874935046976)",
           "rgba(0.1875, 0.265625, 0.5834943181818182, 0.3638698472708598)",
           "rgba(0.1875, 0.265625, 0.5834943181818182, 0.4440441992302426)",
           "rgba(0.1875, 0.265625, 0.5197727272727273, 0.4948941748215008)",
           "rgba(0.1875, 0.265625, 0.5197727272727273, 0.4981500163157852)",
           "rgba(0.1875, 0.265625, 0.5197727272727273, 0.49867295409141654)",
           "rgba(0.1875, 0.265625, 0.49465923314294165605113636363637, 0.4946592331429416)",
           "rgba(0.1875, 0.265625, 0.364420786380778745605113636363637, 0.36442078638077874)",
           "rgba(0.1875, 0.265625, 0.39232954545454546, 0.496321310761431)",
           "rgba(0.1875, 0.265625, 0.39232954545454546, 0.49891400748230413)",
           "rgba(0.1875, 0.265625, 0.32860795454545455, 0.22825648901307305)",
           "rgba(0.1875, 0.265625, 0.26488636363636364, 0.4913919649043006)",
           "rgba(0.1875, 0.265625, 0.20116477272727273, 0.49367272285576935)",
           "rgba(0.1875, 0.265625, 0.13744318181818183, 0.34475640497649424)",
           "rgba(0.1875, 0.265625, 0.07372159090909092, 0.4808248734710635)",
           "rgba(0.1875, 0.265625, 0.010000000000000009, 0.4701752019713241)",
           "rgba(0.1875, 0.265625, 0.010000000000000009, 0.37062468092516426)"
          ],
          "source": [
           0,
           1,
           2,
           2,
           3,
           5,
           5,
           6,
           0,
           0,
           1,
           2,
           2,
           3,
           3,
           4,
           5,
           6,
           6,
           7,
           7,
           8,
           8,
           9,
           9,
           9,
           10,
           11,
           11,
           12,
           7,
           8,
           9,
           9,
           10,
           12,
           13,
           14,
           15,
           15,
           16,
           17,
           18,
           21,
           21,
           14,
           14,
           15,
           15,
           16,
           17,
           18,
           18,
           21,
           21,
           21,
           21,
           22,
           22,
           23,
           23,
           23,
           24,
           25,
           25,
           25,
           25,
           26,
           27,
           28,
           29,
           22,
           22,
           22,
           23,
           24,
           25,
           25,
           25,
           26,
           27,
           27,
           29,
           30,
           30,
           30,
           31,
           31,
           32,
           32,
           32,
           33,
           33,
           34,
           34,
           35,
           36,
           37,
           38,
           39,
           40,
           40
          ],
          "target": [
           9,
           12,
           7,
           9,
           8,
           10,
           11,
           7,
           14,
           15,
           17,
           14,
           21,
           15,
           18,
           14,
           16,
           14,
           21,
           14,
           21,
           15,
           18,
           14,
           15,
           21,
           16,
           16,
           20,
           17,
           25,
           22,
           23,
           25,
           29,
           27,
           28,
           25,
           22,
           23,
           29,
           27,
           22,
           23,
           25,
           38,
           40,
           30,
           32,
           37,
           34,
           30,
           32,
           31,
           33,
           38,
           40,
           30,
           32,
           30,
           31,
           40,
           36,
           31,
           33,
           38,
           40,
           39,
           34,
           35,
           37,
           45,
           47,
           50,
           42,
           48,
           41,
           42,
           43,
           46,
           44,
           51,
           52,
           45,
           47,
           50,
           41,
           42,
           45,
           47,
           50,
           43,
           49,
           44,
           51,
           41,
           48,
           52,
           41,
           46,
           41,
           42
          ],
          "value": [
           0.9467213295884891,
           0.9990661425139795,
           0.968910842626092,
           0.4986019175064308,
           0.9931842782317994,
           0.9114056119170751,
           0.5302062654604176,
           0.7778122246655839,
           0.6405973930959155,
           0.5913020244554692,
           0.9981756879284975,
           0.5562230435088918,
           0.979434218623558,
           0.9577211013237851,
           0.9938736097203182,
           0.5238336244750906,
           0.9942912362348576,
           0.5858079079662599,
           0.7634602089394973,
           0.4627246828911954,
           0.9774860468221949,
           0.941513229733467,
           0.9986568670776125,
           0.6307717717488871,
           0.5066611614505107,
           0.5504866294971538,
           0.9272430175791628,
           0.46549577194244585,
           0.7433770150866897,
           0.9981593408011574,
           0.9703717031422793,
           0.9974353334427777,
           0.911452193102242,
           0.5515501915479953,
           0.9893403666975522,
           0.9986213159040229,
           0.9344936307431158,
           0.5736794294952976,
           0.9548519972808519,
           0.5825590265969262,
           0.9473796219673071,
           0.997991325054942,
           0.9981279579953835,
           0.5075144365751857,
           0.9791088159786969,
           0.5435371386492037,
           0.5415827036527531,
           0.959957592260906,
           0.9455297661126769,
           0.986165405880708,
           0.9945063040363169,
           0.9961273924702725,
           0.9985535769241303,
           0.7296192613566151,
           0.5847591647727628,
           0.579576484521651,
           0.8817142334979153,
           0.9978682077657235,
           0.9982961768665823,
           0.4770407992516166,
           0.7276875630094838,
           0.5630806897783511,
           0.9897642007851046,
           0.6643072469510471,
           0.5717866904609401,
           0.6514657276471619,
           0.8491057660147016,
           0.9760467451471141,
           0.9972097225896845,
           0.5112995767162196,
           0.9718087410890281,
           0.9942478765703731,
           0.9982331402380319,
           0.997986674893635,
           0.8523760108803397,
           0.9853693125158361,
           0.8592338364925312,
           0.6054622699054321,
           0.5971689847708863,
           0.9916243153748712,
           0.9933913129090359,
           0.9985178649946115,
           0.978241429430148,
           0.9970292928384776,
           0.9990480800786049,
           0.9972774987009395,
           0.7277396945417196,
           0.8880883984604852,
           0.9897883496430016,
           0.9963000326315704,
           0.9973459081828331,
           0.9893184662858832,
           0.7288415727615575,
           0.992642621522862,
           0.9978280149646083,
           0.4565129780261461,
           0.9827839298086012,
           0.9873454457115387,
           0.6895128099529885,
           0.961649746942127,
           0.9403504039426482,
           0.7412493618503285
          ]
         },
         "node": {
          "color": [
           "rgba(0.13671875, 0.9296875, 0.32223214285714286, 0.8)",
           "rgba(0.13671875, 0.9296875, 0.4335267857142857, 0.8)",
           "rgba(0.13671875, 0.9296875, 0.5448214285714286, 0.8)",
           "rgba(0.13671875, 0.9296875, 0.6561160714285714, 0.8)",
           "rgba(0.13671875, 0.9296875, 0.7674107142857143, 0.8)",
           "rgba(0.13671875, 0.9296875, 0.8787053571428571, 0.8)",
           "rgba(0.13671875, 0.9296875, 0.99, 0.8)",
           "rgba(0.7890625, 0.59765625, 0.17491071428571428, 0.8)",
           "rgba(0.7890625, 0.59765625, 0.31075892857142856, 0.8)",
           "rgba(0.7890625, 0.59765625, 0.44660714285714287, 0.8)",
           "rgba(0.7890625, 0.59765625, 0.5824553571428571, 0.8)",
           "rgba(0.7890625, 0.59765625, 0.7183035714285714, 0.8)",
           "rgba(0.7890625, 0.59765625, 0.8541517857142857, 0.8)",
           "rgba(0.7890625, 0.59765625, 0.99, 0.8)",
           "rgba(0.94921875, 0.265625, 0.81814453125, 0.8)",
           "rgba(0.94921875, 0.265625, 0.7026953125, 0.8)",
           "rgba(0.94921875, 0.265625, 0.58724609375, 0.8)",
           "rgba(0.94921875, 0.265625, 0.471796875, 0.8)",
           "rgba(0.94921875, 0.265625, 0.35634765625, 0.8)",
           "rgba(0.94921875, 0.265625, 0.24089843750000006, 0.8)",
           "rgba(0.94921875, 0.265625, 0.12544921875000004, 0.8)",
           "rgba(0.94921875, 0.265625, 0.010000000000000009, 0.8)",
           "rgba(0.78515625, 0.95703125, 0.479765625, 0.8)",
           "rgba(0.78515625, 0.95703125, 0.41265625, 0.8)",
           "rgba(0.78515625, 0.95703125, 0.34554687500000003, 0.8)",
           "rgba(0.78515625, 0.95703125, 0.2784375, 0.8)",
           "rgba(0.78515625, 0.95703125, 0.21132812499999998, 0.8)",
           "rgba(0.78515625, 0.95703125, 0.14421875, 0.8)",
           "rgba(0.78515625, 0.95703125, 0.07710937500000004, 0.8)",
           "rgba(0.78515625, 0.95703125, 0.010000000000000009, 0.8)",
           "rgba(0.1875, 0.265625, 0.6472159090909091, 0.8)",
           "rgba(0.1875, 0.265625, 0.5834943181818182, 0.8)",
           "rgba(0.1875, 0.265625, 0.5197727272727273, 0.8)",
           "rgba(0.1875, 0.265625, 0.45605113636363637, 0.8)",
           "rgba(0.1875, 0.265625, 0.39232954545454546, 0.8)",
           "rgba(0.1875, 0.265625, 0.32860795454545455, 0.8)",
           "rgba(0.1875, 0.265625, 0.26488636363636364, 0.8)",
           "rgba(0.1875, 0.265625, 0.20116477272727273, 0.8)",
           "rgba(0.1875, 0.265625, 0.13744318181818183, 0.8)",
           "rgba(0.1875, 0.265625, 0.07372159090909092, 0.8)",
           "rgba(0.1875, 0.265625, 0.010000000000000009, 0.8)",
           "rgba(0.66015625, 0.44921875, 0.4155078125, 0.8)",
           "rgba(0.66015625, 0.44921875, 0.467734375, 0.8)",
           "rgba(0.66015625, 0.44921875, 0.5199609375, 0.8)",
           "rgba(0.66015625, 0.44921875, 0.5721875, 0.8)",
           "rgba(0.66015625, 0.44921875, 0.6244140625, 0.8)",
           "rgba(0.66015625, 0.44921875, 0.676640625, 0.8)",
           "rgba(0.66015625, 0.44921875, 0.7288671874999999, 0.8)",
           "rgba(0.66015625, 0.44921875, 0.7810937499999999, 0.8)",
           "rgba(0.66015625, 0.44921875, 0.8333203124999999, 0.8)",
           "rgba(0.66015625, 0.44921875, 0.885546875, 0.8)",
           "rgba(0.66015625, 0.44921875, 0.9377734375, 0.8)",
           "rgba(0.66015625, 0.44921875, 0.99, 0.8)"
          ],
          "label": [
           "04 - system, approach, method, set, data",
           "04 - q_learn, set, mdp, storage, explanation",
           "04 - system, data, method, design, approach",
           "04 - knowledge_base, alpha, insulate, class, psi",
           "04 - graph, width, linkage, vertex, bound",
           "04 - system, approach, design, method, present",
           "04 - tableau, leant, unify, sound, append",
           "07 - data, A, study, research, level",
           "07 - data, neighborhood, ncm, microaggregation, cbr",
           "07 - algorithm, network, A, ef, work",
           "07 - research, data, design, study, work",
           "07 - tilde, answerscripts, vague_set, student, grade",
           "07 - q_learn, agent, effectiveness, setting, T",
           "07 - trie, dictionary, lp, string, prune",
           "10 - use, data, carcass, system, approach",
           "10 - use, method, data, system, A",
           "10 - use, system, method, approach, present",
           "10 - q_learn, reinforcement_learn, action, extension, state",
           "10 - alpha, k_nearest_neighbor, shape, A, sec",
           "10 - nk, phase_transition, random, insoluble, culberson",
           "10 - subspace, resp, definable, cover, approximation",
           "10 - use, system, method, approach, data",
           "13 - cluster, S, classifier, area, cd",
           "13 - classification, hydrogel, high, set, S",
           "13 - creativity, lg, creative, primary_language, tactic",
           "13 - high, prediction, agent, set, analysis",
           "13 - flush, autogenous, class, shrinkage, cognitive_science",
           "13 - q_learn, arrester, theta, traffic_flow, drought",
           "13 - semantic_similarity, teo, vibration, digital_forensics, dfassv",
           "13 - technology, control, high, agent, analysis",
           "16 - k_near_neighbor, cluster, S, detection, k_nearest_neighbor",
           "16 - D, concentration, ii, biosorption, sic",
           "16 - k_mean_cluster, btp, class, tractable, k_mean",
           "16 - concept, task, e_learn, form, service",
           "16 - q_learn, reinforcement_learn, guidance, scheme, agent",
           "16 - bar, recursive, binary, outer, pset",
           "16 - lg, discovery, soul, component, hiv",
           "16 - task, environment, concept, robot, game",
           "16 - elsevier, environment, nd, nc, genetic_algorithm",
           "16 - prospectivity, tube, wtg, pitch, propp",
           "16 - image, estimate, S, task, sample",
           "18 - patient, prediction, image, human, obtain",
           "18 - patient, input, obtain, treatment, train",
           "18 - human, control, prediction, big_data, domain",
           "18 - q_learn, marker, tcm, emitter, labyrinth",
           "18 - k_nearest_neighbor, E, kernel_k_mean, gc, stochastic",
           "18 - grout, estimation, tbab, khz, input",
           "18 - cluster, k_near_neighbor, S, classification, prediction",
           "18 - stovl, aircraft, fighter, firm, licklider",
           "18 - cellular_network, schizophrenia, protein, mobile, wireless",
           "18 - k_near_neighbor, k_mean, k_nearest_neighbor, gram, methodology",
           "18 - reinforcement_learn, q_learn, dr, agent, D",
           "18 - human, control, image, review, various"
          ],
          "line": {
           "color": "black",
           "width": 0
          },
          "pad": 15,
          "thickness": 10
         },
         "type": "sankey"
        }
       ],
       "layout": {
        "autosize": false,
        "font": {
         "size": 11
        },
        "height": 900,
        "template": {
         "data": {
          "bar": [
           {
            "error_x": {
             "color": "#2a3f5f"
            },
            "error_y": {
             "color": "#2a3f5f"
            },
            "marker": {
             "line": {
              "color": "#E5ECF6",
              "width": 0.5
             }
            },
            "type": "bar"
           }
          ],
          "barpolar": [
           {
            "marker": {
             "line": {
              "color": "#E5ECF6",
              "width": 0.5
             }
            },
            "type": "barpolar"
           }
          ],
          "carpet": [
           {
            "aaxis": {
             "endlinecolor": "#2a3f5f",
             "gridcolor": "white",
             "linecolor": "white",
             "minorgridcolor": "white",
             "startlinecolor": "#2a3f5f"
            },
            "baxis": {
             "endlinecolor": "#2a3f5f",
             "gridcolor": "white",
             "linecolor": "white",
             "minorgridcolor": "white",
             "startlinecolor": "#2a3f5f"
            },
            "type": "carpet"
           }
          ],
          "choropleth": [
           {
            "colorbar": {
             "outlinewidth": 0,
             "ticks": ""
            },
            "type": "choropleth"
           }
          ],
          "contour": [
           {
            "colorbar": {
             "outlinewidth": 0,
             "ticks": ""
            },
            "colorscale": [
             [
              0,
              "#0d0887"
             ],
             [
              0.1111111111111111,
              "#46039f"
             ],
             [
              0.2222222222222222,
              "#7201a8"
             ],
             [
              0.3333333333333333,
              "#9c179e"
             ],
             [
              0.4444444444444444,
              "#bd3786"
             ],
             [
              0.5555555555555556,
              "#d8576b"
             ],
             [
              0.6666666666666666,
              "#ed7953"
             ],
             [
              0.7777777777777778,
              "#fb9f3a"
             ],
             [
              0.8888888888888888,
              "#fdca26"
             ],
             [
              1,
              "#f0f921"
             ]
            ],
            "type": "contour"
           }
          ],
          "contourcarpet": [
           {
            "colorbar": {
             "outlinewidth": 0,
             "ticks": ""
            },
            "type": "contourcarpet"
           }
          ],
          "heatmap": [
           {
            "colorbar": {
             "outlinewidth": 0,
             "ticks": ""
            },
            "colorscale": [
             [
              0,
              "#0d0887"
             ],
             [
              0.1111111111111111,
              "#46039f"
             ],
             [
              0.2222222222222222,
              "#7201a8"
             ],
             [
              0.3333333333333333,
              "#9c179e"
             ],
             [
              0.4444444444444444,
              "#bd3786"
             ],
             [
              0.5555555555555556,
              "#d8576b"
             ],
             [
              0.6666666666666666,
              "#ed7953"
             ],
             [
              0.7777777777777778,
              "#fb9f3a"
             ],
             [
              0.8888888888888888,
              "#fdca26"
             ],
             [
              1,
              "#f0f921"
             ]
            ],
            "type": "heatmap"
           }
          ],
          "heatmapgl": [
           {
            "colorbar": {
             "outlinewidth": 0,
             "ticks": ""
            },
            "colorscale": [
             [
              0,
              "#0d0887"
             ],
             [
              0.1111111111111111,
              "#46039f"
             ],
             [
              0.2222222222222222,
              "#7201a8"
             ],
             [
              0.3333333333333333,
              "#9c179e"
             ],
             [
              0.4444444444444444,
              "#bd3786"
             ],
             [
              0.5555555555555556,
              "#d8576b"
             ],
             [
              0.6666666666666666,
              "#ed7953"
             ],
             [
              0.7777777777777778,
              "#fb9f3a"
             ],
             [
              0.8888888888888888,
              "#fdca26"
             ],
             [
              1,
              "#f0f921"
             ]
            ],
            "type": "heatmapgl"
           }
          ],
          "histogram": [
           {
            "marker": {
             "colorbar": {
              "outlinewidth": 0,
              "ticks": ""
             }
            },
            "type": "histogram"
           }
          ],
          "histogram2d": [
           {
            "colorbar": {
             "outlinewidth": 0,
             "ticks": ""
            },
            "colorscale": [
             [
              0,
              "#0d0887"
             ],
             [
              0.1111111111111111,
              "#46039f"
             ],
             [
              0.2222222222222222,
              "#7201a8"
             ],
             [
              0.3333333333333333,
              "#9c179e"
             ],
             [
              0.4444444444444444,
              "#bd3786"
             ],
             [
              0.5555555555555556,
              "#d8576b"
             ],
             [
              0.6666666666666666,
              "#ed7953"
             ],
             [
              0.7777777777777778,
              "#fb9f3a"
             ],
             [
              0.8888888888888888,
              "#fdca26"
             ],
             [
              1,
              "#f0f921"
             ]
            ],
            "type": "histogram2d"
           }
          ],
          "histogram2dcontour": [
           {
            "colorbar": {
             "outlinewidth": 0,
             "ticks": ""
            },
            "colorscale": [
             [
              0,
              "#0d0887"
             ],
             [
              0.1111111111111111,
              "#46039f"
             ],
             [
              0.2222222222222222,
              "#7201a8"
             ],
             [
              0.3333333333333333,
              "#9c179e"
             ],
             [
              0.4444444444444444,
              "#bd3786"
             ],
             [
              0.5555555555555556,
              "#d8576b"
             ],
             [
              0.6666666666666666,
              "#ed7953"
             ],
             [
              0.7777777777777778,
              "#fb9f3a"
             ],
             [
              0.8888888888888888,
              "#fdca26"
             ],
             [
              1,
              "#f0f921"
             ]
            ],
            "type": "histogram2dcontour"
           }
          ],
          "mesh3d": [
           {
            "colorbar": {
             "outlinewidth": 0,
             "ticks": ""
            },
            "type": "mesh3d"
           }
          ],
          "parcoords": [
           {
            "line": {
             "colorbar": {
              "outlinewidth": 0,
              "ticks": ""
             }
            },
            "type": "parcoords"
           }
          ],
          "pie": [
           {
            "automargin": true,
            "type": "pie"
           }
          ],
          "scatter": [
           {
            "marker": {
             "colorbar": {
              "outlinewidth": 0,
              "ticks": ""
             }
            },
            "type": "scatter"
           }
          ],
          "scatter3d": [
           {
            "line": {
             "colorbar": {
              "outlinewidth": 0,
              "ticks": ""
             }
            },
            "marker": {
             "colorbar": {
              "outlinewidth": 0,
              "ticks": ""
             }
            },
            "type": "scatter3d"
           }
          ],
          "scattercarpet": [
           {
            "marker": {
             "colorbar": {
              "outlinewidth": 0,
              "ticks": ""
             }
            },
            "type": "scattercarpet"
           }
          ],
          "scattergeo": [
           {
            "marker": {
             "colorbar": {
              "outlinewidth": 0,
              "ticks": ""
             }
            },
            "type": "scattergeo"
           }
          ],
          "scattergl": [
           {
            "marker": {
             "colorbar": {
              "outlinewidth": 0,
              "ticks": ""
             }
            },
            "type": "scattergl"
           }
          ],
          "scattermapbox": [
           {
            "marker": {
             "colorbar": {
              "outlinewidth": 0,
              "ticks": ""
             }
            },
            "type": "scattermapbox"
           }
          ],
          "scatterpolar": [
           {
            "marker": {
             "colorbar": {
              "outlinewidth": 0,
              "ticks": ""
             }
            },
            "type": "scatterpolar"
           }
          ],
          "scatterpolargl": [
           {
            "marker": {
             "colorbar": {
              "outlinewidth": 0,
              "ticks": ""
             }
            },
            "type": "scatterpolargl"
           }
          ],
          "scatterternary": [
           {
            "marker": {
             "colorbar": {
              "outlinewidth": 0,
              "ticks": ""
             }
            },
            "type": "scatterternary"
           }
          ],
          "surface": [
           {
            "colorbar": {
             "outlinewidth": 0,
             "ticks": ""
            },
            "colorscale": [
             [
              0,
              "#0d0887"
             ],
             [
              0.1111111111111111,
              "#46039f"
             ],
             [
              0.2222222222222222,
              "#7201a8"
             ],
             [
              0.3333333333333333,
              "#9c179e"
             ],
             [
              0.4444444444444444,
              "#bd3786"
             ],
             [
              0.5555555555555556,
              "#d8576b"
             ],
             [
              0.6666666666666666,
              "#ed7953"
             ],
             [
              0.7777777777777778,
              "#fb9f3a"
             ],
             [
              0.8888888888888888,
              "#fdca26"
             ],
             [
              1,
              "#f0f921"
             ]
            ],
            "type": "surface"
           }
          ],
          "table": [
           {
            "cells": {
             "fill": {
              "color": "#EBF0F8"
             },
             "line": {
              "color": "white"
             }
            },
            "header": {
             "fill": {
              "color": "#C8D4E3"
             },
             "line": {
              "color": "white"
             }
            },
            "type": "table"
           }
          ]
         },
         "layout": {
          "annotationdefaults": {
           "arrowcolor": "#2a3f5f",
           "arrowhead": 0,
           "arrowwidth": 1
          },
          "coloraxis": {
           "colorbar": {
            "outlinewidth": 0,
            "ticks": ""
           }
          },
          "colorscale": {
           "diverging": [
            [
             0,
             "#8e0152"
            ],
            [
             0.1,
             "#c51b7d"
            ],
            [
             0.2,
             "#de77ae"
            ],
            [
             0.3,
             "#f1b6da"
            ],
            [
             0.4,
             "#fde0ef"
            ],
            [
             0.5,
             "#f7f7f7"
            ],
            [
             0.6,
             "#e6f5d0"
            ],
            [
             0.7,
             "#b8e186"
            ],
            [
             0.8,
             "#7fbc41"
            ],
            [
             0.9,
             "#4d9221"
            ],
            [
             1,
             "#276419"
            ]
           ],
           "sequential": [
            [
             0,
             "#0d0887"
            ],
            [
             0.1111111111111111,
             "#46039f"
            ],
            [
             0.2222222222222222,
             "#7201a8"
            ],
            [
             0.3333333333333333,
             "#9c179e"
            ],
            [
             0.4444444444444444,
             "#bd3786"
            ],
            [
             0.5555555555555556,
             "#d8576b"
            ],
            [
             0.6666666666666666,
             "#ed7953"
            ],
            [
             0.7777777777777778,
             "#fb9f3a"
            ],
            [
             0.8888888888888888,
             "#fdca26"
            ],
            [
             1,
             "#f0f921"
            ]
           ],
           "sequentialminus": [
            [
             0,
             "#0d0887"
            ],
            [
             0.1111111111111111,
             "#46039f"
            ],
            [
             0.2222222222222222,
             "#7201a8"
            ],
            [
             0.3333333333333333,
             "#9c179e"
            ],
            [
             0.4444444444444444,
             "#bd3786"
            ],
            [
             0.5555555555555556,
             "#d8576b"
            ],
            [
             0.6666666666666666,
             "#ed7953"
            ],
            [
             0.7777777777777778,
             "#fb9f3a"
            ],
            [
             0.8888888888888888,
             "#fdca26"
            ],
            [
             1,
             "#f0f921"
            ]
           ]
          },
          "colorway": [
           "#636efa",
           "#EF553B",
           "#00cc96",
           "#ab63fa",
           "#FFA15A",
           "#19d3f3",
           "#FF6692",
           "#B6E880",
           "#FF97FF",
           "#FECB52"
          ],
          "font": {
           "color": "#2a3f5f"
          },
          "geo": {
           "bgcolor": "white",
           "lakecolor": "white",
           "landcolor": "#E5ECF6",
           "showlakes": true,
           "showland": true,
           "subunitcolor": "white"
          },
          "hoverlabel": {
           "align": "left"
          },
          "hovermode": "closest",
          "mapbox": {
           "style": "light"
          },
          "paper_bgcolor": "white",
          "plot_bgcolor": "#E5ECF6",
          "polar": {
           "angularaxis": {
            "gridcolor": "white",
            "linecolor": "white",
            "ticks": ""
           },
           "bgcolor": "#E5ECF6",
           "radialaxis": {
            "gridcolor": "white",
            "linecolor": "white",
            "ticks": ""
           }
          },
          "scene": {
           "xaxis": {
            "backgroundcolor": "#E5ECF6",
            "gridcolor": "white",
            "gridwidth": 2,
            "linecolor": "white",
            "showbackground": true,
            "ticks": "",
            "zerolinecolor": "white"
           },
           "yaxis": {
            "backgroundcolor": "#E5ECF6",
            "gridcolor": "white",
            "gridwidth": 2,
            "linecolor": "white",
            "showbackground": true,
            "ticks": "",
            "zerolinecolor": "white"
           },
           "zaxis": {
            "backgroundcolor": "#E5ECF6",
            "gridcolor": "white",
            "gridwidth": 2,
            "linecolor": "white",
            "showbackground": true,
            "ticks": "",
            "zerolinecolor": "white"
           }
          },
          "shapedefaults": {
           "line": {
            "color": "#2a3f5f"
           }
          },
          "ternary": {
           "aaxis": {
            "gridcolor": "white",
            "linecolor": "white",
            "ticks": ""
           },
           "baxis": {
            "gridcolor": "white",
            "linecolor": "white",
            "ticks": ""
           },
           "bgcolor": "#E5ECF6",
           "caxis": {
            "gridcolor": "white",
            "linecolor": "white",
            "ticks": ""
           }
          },
          "title": {
           "x": 0.05
          },
          "xaxis": {
           "automargin": true,
           "gridcolor": "white",
           "linecolor": "white",
           "ticks": "",
           "title": {
            "standoff": 15
           },
           "zerolinecolor": "white",
           "zerolinewidth": 2
          },
          "yaxis": {
           "automargin": true,
           "gridcolor": "white",
           "linecolor": "white",
           "ticks": "",
           "title": {
            "standoff": 15
           },
           "zerolinecolor": "white",
           "zerolinewidth": 2
          }
         }
        },
        "title": {
         "text": "H-Clustering -Abstracts+Titles - Separated Development of fields: Docs 1990-2004 to 2017-2018 : Enhanced number of clusters  - pow 2 - thresh 0.45"
        },
        "width": 1500
       }
      },
      "text/html": [
       "<div>\n",
       "        \n",
       "        \n",
       "            <div id=\"efa506ef-9ffc-477f-a846-cdf70a375f7b\" class=\"plotly-graph-div\" style=\"height:900px; width:1500px;\"></div>\n",
       "            <script type=\"text/javascript\">\n",
       "                require([\"plotly\"], function(Plotly) {\n",
       "                    window.PLOTLYENV=window.PLOTLYENV || {};\n",
       "                    \n",
       "                if (document.getElementById(\"efa506ef-9ffc-477f-a846-cdf70a375f7b\")) {\n",
       "                    Plotly.newPlot(\n",
       "                        'efa506ef-9ffc-477f-a846-cdf70a375f7b',\n",
       "                        [{\"link\": {\"color\": [\"rgba(0.13671875, 0.9296875, 0.32223214285714286, 0.47336066479424455)\", \"rgba(0.13671875, 0.9296875, 0.49953307125698976335267857142857, 0.49953307125698976)\", \"rgba(0.13671875, 0.9296875, 0.5448214285714286, 0.484455421313046)\", \"rgba(0.13671875, 0.9296875, 0.5448214285714286, 0.2493009587532154)\", \"rgba(0.13671875, 0.9296875, 0.6561160714285714, 0.4965921391158997)\", \"rgba(0.13671875, 0.9296875, 0.8787053571428571, 0.45570280595853757)\", \"rgba(0.13671875, 0.9296875, 0.8787053571428571, 0.2651031327302088)\", \"rgba(0.13671875, 0.9296875, 0.99, 0.38890611233279193)\", \"rgba(0.13671875, 0.9296875, 0.32223214285714286, 0.32029869654795773)\", \"rgba(0.13671875, 0.9296875, 0.32223214285714286, 0.2956510122277346)\", \"rgba(0.13671875, 0.9296875, 0.49908784396424877335267857142857, 0.49908784396424877)\", \"rgba(0.13671875, 0.9296875, 0.5448214285714286, 0.2781115217544459)\", \"rgba(0.13671875, 0.9296875, 0.5448214285714286, 0.489717109311779)\", \"rgba(0.13671875, 0.9296875, 0.6561160714285714, 0.47886055066189254)\", \"rgba(0.13671875, 0.9296875, 0.6561160714285714, 0.4969368048601591)\", \"rgba(0.13671875, 0.9296875, 0.7674107142857143, 0.2619168122375453)\", \"rgba(0.13671875, 0.9296875, 0.8787053571428571, 0.4971456181174288)\", \"rgba(0.13671875, 0.9296875, 0.99, 0.29290395398312996)\", \"rgba(0.13671875, 0.9296875, 0.99, 0.38173010446974864)\", \"rgba(0.7890625, 0.59765625, 0.17491071428571428, 0.2313623414455977)\", \"rgba(0.7890625, 0.59765625, 0.17491071428571428, 0.48874302341109743)\", \"rgba(0.7890625, 0.59765625, 0.31075892857142856, 0.4707566148667335)\", \"rgba(0.7890625, 0.59765625, 0.31075892857142856, 0.49932843353880624)\", \"rgba(0.7890625, 0.59765625, 0.315385885874443554660714285714287, 0.31538588587444355)\", \"rgba(0.7890625, 0.59765625, 0.25333058072525534660714285714287, 0.2533305807252553)\", \"rgba(0.7890625, 0.59765625, 0.27524331474857694660714285714287, 0.2752433147485769)\", \"rgba(0.7890625, 0.59765625, 0.5824553571428571, 0.4636215087895814)\", \"rgba(0.7890625, 0.59765625, 0.7183035714285714, 0.23274788597122292)\", \"rgba(0.7890625, 0.59765625, 0.7183035714285714, 0.37168850754334487)\", \"rgba(0.7890625, 0.59765625, 0.8541517857142857, 0.4990796704005787)\", \"rgba(0.7890625, 0.59765625, 0.17491071428571428, 0.48518585157113964)\", \"rgba(0.7890625, 0.59765625, 0.31075892857142856, 0.49871766672138884)\", \"rgba(0.7890625, 0.59765625, 0.4557260965511214660714285714287, 0.455726096551121)\", \"rgba(0.7890625, 0.59765625, 0.275775095773997674660714285714287, 0.27577509577399767)\", \"rgba(0.7890625, 0.59765625, 0.5824553571428571, 0.4946701833487761)\", \"rgba(0.7890625, 0.59765625, 0.8541517857142857, 0.49931065795201146)\", \"rgba(0.7890625, 0.59765625, 0.99, 0.4672468153715579)\", \"rgba(0.94921875, 0.265625, 0.81814453125, 0.2868397147476488)\", \"rgba(0.94921875, 0.265625, 0.7026953125, 0.47742599864042595)\", \"rgba(0.94921875, 0.265625, 0.7026953125, 0.2912795132984631)\", \"rgba(0.94921875, 0.265625, 0.58724609375, 0.47368981098365354)\", \"rgba(0.94921875, 0.265625, 0.49899566252747171796875, 0.498995662527471)\", \"rgba(0.94921875, 0.265625, 0.35634765625, 0.4990639789976917)\", \"rgba(0.94921875, 0.265625, 0.010000000000000009, 0.25375721828759285)\", \"rgba(0.94921875, 0.265625, 0.010000000000000009, 0.48955440798934846)\", \"rgba(0.94921875, 0.265625, 0.81814453125, 0.27176856932460186)\", \"rgba(0.94921875, 0.265625, 0.81814453125, 0.27079135182637654)\", \"rgba(0.94921875, 0.265625, 0.7026953125, 0.479978796130453)\", \"rgba(0.94921875, 0.265625, 0.7026953125, 0.47276488305633846)\", \"rgba(0.94921875, 0.265625, 0.58724609375, 0.493082702940354)\", \"rgba(0.94921875, 0.265625, 0.4972531520181584571796875, 0.49725315201815845)\", \"rgba(0.94921875, 0.265625, 0.35634765625, 0.49806369623513624)\", \"rgba(0.94921875, 0.265625, 0.35634765625, 0.49927678846206514)\", \"rgba(0.94921875, 0.265625, 0.010000000000000009, 0.3648096306783076)\", \"rgba(0.94921875, 0.265625, 0.010000000000000009, 0.2923795823863814)\", \"rgba(0.94921875, 0.265625, 0.010000000000000009, 0.2897882422608255)\", \"rgba(0.94921875, 0.265625, 0.010000000000000009, 0.44085711674895767)\", \"rgba(0.78515625, 0.95703125, 0.4989341038828617579765625, 0.49893410388286175)\", \"rgba(0.78515625, 0.95703125, 0.4991480884332911779765625, 0.49914808843329117)\", \"rgba(0.78515625, 0.95703125, 0.23852039962580831265625, 0.2385203996258083)\", \"rgba(0.78515625, 0.95703125, 0.36384378150474191265625, 0.3638437815047419)\", \"rgba(0.78515625, 0.95703125, 0.281540344889175561265625, 0.28154034488917556)\", \"rgba(0.78515625, 0.95703125, 0.34554687500000003, 0.4948821003925523)\", \"rgba(0.78515625, 0.95703125, 0.2784375, 0.3321536234755236)\", \"rgba(0.78515625, 0.95703125, 0.2784375, 0.28589334523047005)\", \"rgba(0.78515625, 0.95703125, 0.2784375, 0.32573286382358096)\", \"rgba(0.78515625, 0.95703125, 0.2784375, 0.4245528830073508)\", \"rgba(0.78515625, 0.95703125, 0.21132812499999998, 0.48802337257355705)\", \"rgba(0.78515625, 0.95703125, 0.14421875, 0.49860486129484227)\", \"rgba(0.78515625, 0.95703125, 0.07710937500000004, 0.2556497883581098)\", \"rgba(0.78515625, 0.95703125, 0.010000000000000009, 0.4859043705445141)\", \"rgba(0.78515625, 0.95703125, 0.4971239382851865379765625, 0.49712393828518653)\", \"rgba(0.78515625, 0.95703125, 0.4991165701190159579765625, 0.49911657011901595)\", \"rgba(0.78515625, 0.95703125, 0.498993337446817579765625, 0.4989933374468175)\", \"rgba(0.78515625, 0.95703125, 0.42618800544016981265625, 0.4261880054401698)\", \"rgba(0.78515625, 0.95703125, 0.34554687500000003, 0.4926846562579181)\", \"rgba(0.78515625, 0.95703125, 0.2784375, 0.4296169182462656)\", \"rgba(0.78515625, 0.95703125, 0.2784375, 0.30273113495271603)\", \"rgba(0.78515625, 0.95703125, 0.2784375, 0.29858449238544316)\", \"rgba(0.78515625, 0.95703125, 0.21132812499999998, 0.4958121576874356)\", \"rgba(0.78515625, 0.95703125, 0.14421875, 0.49669565645451796)\", \"rgba(0.78515625, 0.95703125, 0.14421875, 0.49925893249730574)\", \"rgba(0.78515625, 0.95703125, 0.010000000000000009, 0.489120714715074)\", \"rgba(0.1875, 0.265625, 0.6472159090909091, 0.4985146464192388)\", \"rgba(0.1875, 0.265625, 0.6472159090909091, 0.49952404003930245)\", \"rgba(0.1875, 0.265625, 0.6472159090909091, 0.49863874935046976)\", \"rgba(0.1875, 0.265625, 0.5834943181818182, 0.3638698472708598)\", \"rgba(0.1875, 0.265625, 0.5834943181818182, 0.4440441992302426)\", \"rgba(0.1875, 0.265625, 0.5197727272727273, 0.4948941748215008)\", \"rgba(0.1875, 0.265625, 0.5197727272727273, 0.4981500163157852)\", \"rgba(0.1875, 0.265625, 0.5197727272727273, 0.49867295409141654)\", \"rgba(0.1875, 0.265625, 0.49465923314294165605113636363637, 0.4946592331429416)\", \"rgba(0.1875, 0.265625, 0.364420786380778745605113636363637, 0.36442078638077874)\", \"rgba(0.1875, 0.265625, 0.39232954545454546, 0.496321310761431)\", \"rgba(0.1875, 0.265625, 0.39232954545454546, 0.49891400748230413)\", \"rgba(0.1875, 0.265625, 0.32860795454545455, 0.22825648901307305)\", \"rgba(0.1875, 0.265625, 0.26488636363636364, 0.4913919649043006)\", \"rgba(0.1875, 0.265625, 0.20116477272727273, 0.49367272285576935)\", \"rgba(0.1875, 0.265625, 0.13744318181818183, 0.34475640497649424)\", \"rgba(0.1875, 0.265625, 0.07372159090909092, 0.4808248734710635)\", \"rgba(0.1875, 0.265625, 0.010000000000000009, 0.4701752019713241)\", \"rgba(0.1875, 0.265625, 0.010000000000000009, 0.37062468092516426)\"], \"source\": [0, 1, 2, 2, 3, 5, 5, 6, 0, 0, 1, 2, 2, 3, 3, 4, 5, 6, 6, 7, 7, 8, 8, 9, 9, 9, 10, 11, 11, 12, 7, 8, 9, 9, 10, 12, 13, 14, 15, 15, 16, 17, 18, 21, 21, 14, 14, 15, 15, 16, 17, 18, 18, 21, 21, 21, 21, 22, 22, 23, 23, 23, 24, 25, 25, 25, 25, 26, 27, 28, 29, 22, 22, 22, 23, 24, 25, 25, 25, 26, 27, 27, 29, 30, 30, 30, 31, 31, 32, 32, 32, 33, 33, 34, 34, 35, 36, 37, 38, 39, 40, 40], \"target\": [9, 12, 7, 9, 8, 10, 11, 7, 14, 15, 17, 14, 21, 15, 18, 14, 16, 14, 21, 14, 21, 15, 18, 14, 15, 21, 16, 16, 20, 17, 25, 22, 23, 25, 29, 27, 28, 25, 22, 23, 29, 27, 22, 23, 25, 38, 40, 30, 32, 37, 34, 30, 32, 31, 33, 38, 40, 30, 32, 30, 31, 40, 36, 31, 33, 38, 40, 39, 34, 35, 37, 45, 47, 50, 42, 48, 41, 42, 43, 46, 44, 51, 52, 45, 47, 50, 41, 42, 45, 47, 50, 43, 49, 44, 51, 41, 48, 52, 41, 46, 41, 42], \"value\": [0.9467213295884891, 0.9990661425139795, 0.968910842626092, 0.4986019175064308, 0.9931842782317994, 0.9114056119170751, 0.5302062654604176, 0.7778122246655839, 0.6405973930959155, 0.5913020244554692, 0.9981756879284975, 0.5562230435088918, 0.979434218623558, 0.9577211013237851, 0.9938736097203182, 0.5238336244750906, 0.9942912362348576, 0.5858079079662599, 0.7634602089394973, 0.4627246828911954, 0.9774860468221949, 0.941513229733467, 0.9986568670776125, 0.6307717717488871, 0.5066611614505107, 0.5504866294971538, 0.9272430175791628, 0.46549577194244585, 0.7433770150866897, 0.9981593408011574, 0.9703717031422793, 0.9974353334427777, 0.911452193102242, 0.5515501915479953, 0.9893403666975522, 0.9986213159040229, 0.9344936307431158, 0.5736794294952976, 0.9548519972808519, 0.5825590265969262, 0.9473796219673071, 0.997991325054942, 0.9981279579953835, 0.5075144365751857, 0.9791088159786969, 0.5435371386492037, 0.5415827036527531, 0.959957592260906, 0.9455297661126769, 0.986165405880708, 0.9945063040363169, 0.9961273924702725, 0.9985535769241303, 0.7296192613566151, 0.5847591647727628, 0.579576484521651, 0.8817142334979153, 0.9978682077657235, 0.9982961768665823, 0.4770407992516166, 0.7276875630094838, 0.5630806897783511, 0.9897642007851046, 0.6643072469510471, 0.5717866904609401, 0.6514657276471619, 0.8491057660147016, 0.9760467451471141, 0.9972097225896845, 0.5112995767162196, 0.9718087410890281, 0.9942478765703731, 0.9982331402380319, 0.997986674893635, 0.8523760108803397, 0.9853693125158361, 0.8592338364925312, 0.6054622699054321, 0.5971689847708863, 0.9916243153748712, 0.9933913129090359, 0.9985178649946115, 0.978241429430148, 0.9970292928384776, 0.9990480800786049, 0.9972774987009395, 0.7277396945417196, 0.8880883984604852, 0.9897883496430016, 0.9963000326315704, 0.9973459081828331, 0.9893184662858832, 0.7288415727615575, 0.992642621522862, 0.9978280149646083, 0.4565129780261461, 0.9827839298086012, 0.9873454457115387, 0.6895128099529885, 0.961649746942127, 0.9403504039426482, 0.7412493618503285]}, \"node\": {\"color\": [\"rgba(0.13671875, 0.9296875, 0.32223214285714286, 0.8)\", \"rgba(0.13671875, 0.9296875, 0.4335267857142857, 0.8)\", \"rgba(0.13671875, 0.9296875, 0.5448214285714286, 0.8)\", \"rgba(0.13671875, 0.9296875, 0.6561160714285714, 0.8)\", \"rgba(0.13671875, 0.9296875, 0.7674107142857143, 0.8)\", \"rgba(0.13671875, 0.9296875, 0.8787053571428571, 0.8)\", \"rgba(0.13671875, 0.9296875, 0.99, 0.8)\", \"rgba(0.7890625, 0.59765625, 0.17491071428571428, 0.8)\", \"rgba(0.7890625, 0.59765625, 0.31075892857142856, 0.8)\", \"rgba(0.7890625, 0.59765625, 0.44660714285714287, 0.8)\", \"rgba(0.7890625, 0.59765625, 0.5824553571428571, 0.8)\", \"rgba(0.7890625, 0.59765625, 0.7183035714285714, 0.8)\", \"rgba(0.7890625, 0.59765625, 0.8541517857142857, 0.8)\", \"rgba(0.7890625, 0.59765625, 0.99, 0.8)\", \"rgba(0.94921875, 0.265625, 0.81814453125, 0.8)\", \"rgba(0.94921875, 0.265625, 0.7026953125, 0.8)\", \"rgba(0.94921875, 0.265625, 0.58724609375, 0.8)\", \"rgba(0.94921875, 0.265625, 0.471796875, 0.8)\", \"rgba(0.94921875, 0.265625, 0.35634765625, 0.8)\", \"rgba(0.94921875, 0.265625, 0.24089843750000006, 0.8)\", \"rgba(0.94921875, 0.265625, 0.12544921875000004, 0.8)\", \"rgba(0.94921875, 0.265625, 0.010000000000000009, 0.8)\", \"rgba(0.78515625, 0.95703125, 0.479765625, 0.8)\", \"rgba(0.78515625, 0.95703125, 0.41265625, 0.8)\", \"rgba(0.78515625, 0.95703125, 0.34554687500000003, 0.8)\", \"rgba(0.78515625, 0.95703125, 0.2784375, 0.8)\", \"rgba(0.78515625, 0.95703125, 0.21132812499999998, 0.8)\", \"rgba(0.78515625, 0.95703125, 0.14421875, 0.8)\", \"rgba(0.78515625, 0.95703125, 0.07710937500000004, 0.8)\", \"rgba(0.78515625, 0.95703125, 0.010000000000000009, 0.8)\", \"rgba(0.1875, 0.265625, 0.6472159090909091, 0.8)\", \"rgba(0.1875, 0.265625, 0.5834943181818182, 0.8)\", \"rgba(0.1875, 0.265625, 0.5197727272727273, 0.8)\", \"rgba(0.1875, 0.265625, 0.45605113636363637, 0.8)\", \"rgba(0.1875, 0.265625, 0.39232954545454546, 0.8)\", \"rgba(0.1875, 0.265625, 0.32860795454545455, 0.8)\", \"rgba(0.1875, 0.265625, 0.26488636363636364, 0.8)\", \"rgba(0.1875, 0.265625, 0.20116477272727273, 0.8)\", \"rgba(0.1875, 0.265625, 0.13744318181818183, 0.8)\", \"rgba(0.1875, 0.265625, 0.07372159090909092, 0.8)\", \"rgba(0.1875, 0.265625, 0.010000000000000009, 0.8)\", \"rgba(0.66015625, 0.44921875, 0.4155078125, 0.8)\", \"rgba(0.66015625, 0.44921875, 0.467734375, 0.8)\", \"rgba(0.66015625, 0.44921875, 0.5199609375, 0.8)\", \"rgba(0.66015625, 0.44921875, 0.5721875, 0.8)\", \"rgba(0.66015625, 0.44921875, 0.6244140625, 0.8)\", \"rgba(0.66015625, 0.44921875, 0.676640625, 0.8)\", \"rgba(0.66015625, 0.44921875, 0.7288671874999999, 0.8)\", \"rgba(0.66015625, 0.44921875, 0.7810937499999999, 0.8)\", \"rgba(0.66015625, 0.44921875, 0.8333203124999999, 0.8)\", \"rgba(0.66015625, 0.44921875, 0.885546875, 0.8)\", \"rgba(0.66015625, 0.44921875, 0.9377734375, 0.8)\", \"rgba(0.66015625, 0.44921875, 0.99, 0.8)\"], \"label\": [\"04 - system, approach, method, set, data\", \"04 - q_learn, set, mdp, storage, explanation\", \"04 - system, data, method, design, approach\", \"04 - knowledge_base, alpha, insulate, class, psi\", \"04 - graph, width, linkage, vertex, bound\", \"04 - system, approach, design, method, present\", \"04 - tableau, leant, unify, sound, append\", \"07 - data, A, study, research, level\", \"07 - data, neighborhood, ncm, microaggregation, cbr\", \"07 - algorithm, network, A, ef, work\", \"07 - research, data, design, study, work\", \"07 - tilde, answerscripts, vague_set, student, grade\", \"07 - q_learn, agent, effectiveness, setting, T\", \"07 - trie, dictionary, lp, string, prune\", \"10 - use, data, carcass, system, approach\", \"10 - use, method, data, system, A\", \"10 - use, system, method, approach, present\", \"10 - q_learn, reinforcement_learn, action, extension, state\", \"10 - alpha, k_nearest_neighbor, shape, A, sec\", \"10 - nk, phase_transition, random, insoluble, culberson\", \"10 - subspace, resp, definable, cover, approximation\", \"10 - use, system, method, approach, data\", \"13 - cluster, S, classifier, area, cd\", \"13 - classification, hydrogel, high, set, S\", \"13 - creativity, lg, creative, primary_language, tactic\", \"13 - high, prediction, agent, set, analysis\", \"13 - flush, autogenous, class, shrinkage, cognitive_science\", \"13 - q_learn, arrester, theta, traffic_flow, drought\", \"13 - semantic_similarity, teo, vibration, digital_forensics, dfassv\", \"13 - technology, control, high, agent, analysis\", \"16 - k_near_neighbor, cluster, S, detection, k_nearest_neighbor\", \"16 - D, concentration, ii, biosorption, sic\", \"16 - k_mean_cluster, btp, class, tractable, k_mean\", \"16 - concept, task, e_learn, form, service\", \"16 - q_learn, reinforcement_learn, guidance, scheme, agent\", \"16 - bar, recursive, binary, outer, pset\", \"16 - lg, discovery, soul, component, hiv\", \"16 - task, environment, concept, robot, game\", \"16 - elsevier, environment, nd, nc, genetic_algorithm\", \"16 - prospectivity, tube, wtg, pitch, propp\", \"16 - image, estimate, S, task, sample\", \"18 - patient, prediction, image, human, obtain\", \"18 - patient, input, obtain, treatment, train\", \"18 - human, control, prediction, big_data, domain\", \"18 - q_learn, marker, tcm, emitter, labyrinth\", \"18 - k_nearest_neighbor, E, kernel_k_mean, gc, stochastic\", \"18 - grout, estimation, tbab, khz, input\", \"18 - cluster, k_near_neighbor, S, classification, prediction\", \"18 - stovl, aircraft, fighter, firm, licklider\", \"18 - cellular_network, schizophrenia, protein, mobile, wireless\", \"18 - k_near_neighbor, k_mean, k_nearest_neighbor, gram, methodology\", \"18 - reinforcement_learn, q_learn, dr, agent, D\", \"18 - human, control, image, review, various\"], \"line\": {\"color\": \"black\", \"width\": 0}, \"pad\": 15, \"thickness\": 10}, \"type\": \"sankey\"}],\n",
       "                        {\"autosize\": false, \"font\": {\"size\": 11}, \"height\": 900, \"template\": {\"data\": {\"bar\": [{\"error_x\": {\"color\": \"#2a3f5f\"}, \"error_y\": {\"color\": \"#2a3f5f\"}, \"marker\": {\"line\": {\"color\": \"#E5ECF6\", \"width\": 0.5}}, \"type\": \"bar\"}], \"barpolar\": [{\"marker\": {\"line\": {\"color\": \"#E5ECF6\", \"width\": 0.5}}, \"type\": \"barpolar\"}], \"carpet\": [{\"aaxis\": {\"endlinecolor\": \"#2a3f5f\", \"gridcolor\": \"white\", \"linecolor\": \"white\", \"minorgridcolor\": \"white\", \"startlinecolor\": \"#2a3f5f\"}, \"baxis\": {\"endlinecolor\": \"#2a3f5f\", \"gridcolor\": \"white\", \"linecolor\": \"white\", \"minorgridcolor\": \"white\", \"startlinecolor\": \"#2a3f5f\"}, \"type\": \"carpet\"}], \"choropleth\": [{\"colorbar\": {\"outlinewidth\": 0, \"ticks\": \"\"}, \"type\": \"choropleth\"}], \"contour\": [{\"colorbar\": {\"outlinewidth\": 0, \"ticks\": \"\"}, \"colorscale\": [[0.0, \"#0d0887\"], [0.1111111111111111, \"#46039f\"], [0.2222222222222222, \"#7201a8\"], [0.3333333333333333, \"#9c179e\"], [0.4444444444444444, \"#bd3786\"], [0.5555555555555556, \"#d8576b\"], [0.6666666666666666, \"#ed7953\"], [0.7777777777777778, \"#fb9f3a\"], [0.8888888888888888, \"#fdca26\"], [1.0, \"#f0f921\"]], \"type\": \"contour\"}], \"contourcarpet\": [{\"colorbar\": {\"outlinewidth\": 0, \"ticks\": \"\"}, \"type\": \"contourcarpet\"}], \"heatmap\": [{\"colorbar\": {\"outlinewidth\": 0, \"ticks\": \"\"}, \"colorscale\": [[0.0, \"#0d0887\"], [0.1111111111111111, \"#46039f\"], [0.2222222222222222, \"#7201a8\"], [0.3333333333333333, \"#9c179e\"], [0.4444444444444444, \"#bd3786\"], [0.5555555555555556, \"#d8576b\"], [0.6666666666666666, \"#ed7953\"], [0.7777777777777778, \"#fb9f3a\"], [0.8888888888888888, \"#fdca26\"], [1.0, \"#f0f921\"]], \"type\": \"heatmap\"}], \"heatmapgl\": [{\"colorbar\": {\"outlinewidth\": 0, \"ticks\": \"\"}, \"colorscale\": [[0.0, \"#0d0887\"], [0.1111111111111111, \"#46039f\"], [0.2222222222222222, \"#7201a8\"], [0.3333333333333333, \"#9c179e\"], [0.4444444444444444, \"#bd3786\"], [0.5555555555555556, \"#d8576b\"], [0.6666666666666666, \"#ed7953\"], [0.7777777777777778, \"#fb9f3a\"], [0.8888888888888888, \"#fdca26\"], [1.0, \"#f0f921\"]], \"type\": \"heatmapgl\"}], \"histogram\": [{\"marker\": {\"colorbar\": {\"outlinewidth\": 0, \"ticks\": \"\"}}, \"type\": \"histogram\"}], \"histogram2d\": [{\"colorbar\": {\"outlinewidth\": 0, \"ticks\": \"\"}, \"colorscale\": [[0.0, \"#0d0887\"], [0.1111111111111111, \"#46039f\"], [0.2222222222222222, \"#7201a8\"], [0.3333333333333333, \"#9c179e\"], [0.4444444444444444, \"#bd3786\"], [0.5555555555555556, \"#d8576b\"], [0.6666666666666666, \"#ed7953\"], [0.7777777777777778, \"#fb9f3a\"], [0.8888888888888888, \"#fdca26\"], [1.0, \"#f0f921\"]], \"type\": \"histogram2d\"}], \"histogram2dcontour\": [{\"colorbar\": {\"outlinewidth\": 0, \"ticks\": \"\"}, \"colorscale\": [[0.0, \"#0d0887\"], [0.1111111111111111, \"#46039f\"], [0.2222222222222222, \"#7201a8\"], [0.3333333333333333, \"#9c179e\"], [0.4444444444444444, \"#bd3786\"], [0.5555555555555556, \"#d8576b\"], [0.6666666666666666, \"#ed7953\"], [0.7777777777777778, \"#fb9f3a\"], [0.8888888888888888, \"#fdca26\"], [1.0, \"#f0f921\"]], \"type\": \"histogram2dcontour\"}], \"mesh3d\": [{\"colorbar\": {\"outlinewidth\": 0, \"ticks\": \"\"}, \"type\": \"mesh3d\"}], \"parcoords\": [{\"line\": {\"colorbar\": {\"outlinewidth\": 0, \"ticks\": \"\"}}, \"type\": \"parcoords\"}], \"pie\": [{\"automargin\": true, \"type\": \"pie\"}], \"scatter\": [{\"marker\": {\"colorbar\": {\"outlinewidth\": 0, \"ticks\": \"\"}}, \"type\": \"scatter\"}], \"scatter3d\": [{\"line\": {\"colorbar\": {\"outlinewidth\": 0, \"ticks\": \"\"}}, \"marker\": {\"colorbar\": {\"outlinewidth\": 0, \"ticks\": \"\"}}, \"type\": \"scatter3d\"}], \"scattercarpet\": [{\"marker\": {\"colorbar\": {\"outlinewidth\": 0, \"ticks\": \"\"}}, \"type\": \"scattercarpet\"}], \"scattergeo\": [{\"marker\": {\"colorbar\": {\"outlinewidth\": 0, \"ticks\": \"\"}}, \"type\": \"scattergeo\"}], \"scattergl\": [{\"marker\": {\"colorbar\": {\"outlinewidth\": 0, \"ticks\": \"\"}}, \"type\": \"scattergl\"}], \"scattermapbox\": [{\"marker\": {\"colorbar\": {\"outlinewidth\": 0, \"ticks\": \"\"}}, \"type\": \"scattermapbox\"}], \"scatterpolar\": [{\"marker\": {\"colorbar\": {\"outlinewidth\": 0, \"ticks\": \"\"}}, \"type\": \"scatterpolar\"}], \"scatterpolargl\": [{\"marker\": {\"colorbar\": {\"outlinewidth\": 0, \"ticks\": \"\"}}, \"type\": \"scatterpolargl\"}], \"scatterternary\": [{\"marker\": {\"colorbar\": {\"outlinewidth\": 0, \"ticks\": \"\"}}, \"type\": \"scatterternary\"}], \"surface\": [{\"colorbar\": {\"outlinewidth\": 0, \"ticks\": \"\"}, \"colorscale\": [[0.0, \"#0d0887\"], [0.1111111111111111, \"#46039f\"], [0.2222222222222222, \"#7201a8\"], [0.3333333333333333, \"#9c179e\"], [0.4444444444444444, \"#bd3786\"], [0.5555555555555556, \"#d8576b\"], [0.6666666666666666, \"#ed7953\"], [0.7777777777777778, \"#fb9f3a\"], [0.8888888888888888, \"#fdca26\"], [1.0, \"#f0f921\"]], \"type\": \"surface\"}], \"table\": [{\"cells\": {\"fill\": {\"color\": \"#EBF0F8\"}, \"line\": {\"color\": \"white\"}}, \"header\": {\"fill\": {\"color\": \"#C8D4E3\"}, \"line\": {\"color\": \"white\"}}, \"type\": \"table\"}]}, \"layout\": {\"annotationdefaults\": {\"arrowcolor\": \"#2a3f5f\", \"arrowhead\": 0, \"arrowwidth\": 1}, \"coloraxis\": {\"colorbar\": {\"outlinewidth\": 0, \"ticks\": \"\"}}, \"colorscale\": {\"diverging\": [[0, \"#8e0152\"], [0.1, \"#c51b7d\"], [0.2, \"#de77ae\"], [0.3, \"#f1b6da\"], [0.4, \"#fde0ef\"], [0.5, \"#f7f7f7\"], [0.6, \"#e6f5d0\"], [0.7, \"#b8e186\"], [0.8, \"#7fbc41\"], [0.9, \"#4d9221\"], [1, \"#276419\"]], \"sequential\": [[0.0, \"#0d0887\"], [0.1111111111111111, \"#46039f\"], [0.2222222222222222, \"#7201a8\"], [0.3333333333333333, \"#9c179e\"], [0.4444444444444444, \"#bd3786\"], [0.5555555555555556, \"#d8576b\"], [0.6666666666666666, \"#ed7953\"], [0.7777777777777778, \"#fb9f3a\"], [0.8888888888888888, \"#fdca26\"], [1.0, \"#f0f921\"]], \"sequentialminus\": [[0.0, \"#0d0887\"], [0.1111111111111111, \"#46039f\"], [0.2222222222222222, \"#7201a8\"], [0.3333333333333333, \"#9c179e\"], [0.4444444444444444, \"#bd3786\"], [0.5555555555555556, \"#d8576b\"], [0.6666666666666666, \"#ed7953\"], [0.7777777777777778, \"#fb9f3a\"], [0.8888888888888888, \"#fdca26\"], [1.0, \"#f0f921\"]]}, \"colorway\": [\"#636efa\", \"#EF553B\", \"#00cc96\", \"#ab63fa\", \"#FFA15A\", \"#19d3f3\", \"#FF6692\", \"#B6E880\", \"#FF97FF\", \"#FECB52\"], \"font\": {\"color\": \"#2a3f5f\"}, \"geo\": {\"bgcolor\": \"white\", \"lakecolor\": \"white\", \"landcolor\": \"#E5ECF6\", \"showlakes\": true, \"showland\": true, \"subunitcolor\": \"white\"}, \"hoverlabel\": {\"align\": \"left\"}, \"hovermode\": \"closest\", \"mapbox\": {\"style\": \"light\"}, \"paper_bgcolor\": \"white\", \"plot_bgcolor\": \"#E5ECF6\", \"polar\": {\"angularaxis\": {\"gridcolor\": \"white\", \"linecolor\": \"white\", \"ticks\": \"\"}, \"bgcolor\": \"#E5ECF6\", \"radialaxis\": {\"gridcolor\": \"white\", \"linecolor\": \"white\", \"ticks\": \"\"}}, \"scene\": {\"xaxis\": {\"backgroundcolor\": \"#E5ECF6\", \"gridcolor\": \"white\", \"gridwidth\": 2, \"linecolor\": \"white\", \"showbackground\": true, \"ticks\": \"\", \"zerolinecolor\": \"white\"}, \"yaxis\": {\"backgroundcolor\": \"#E5ECF6\", \"gridcolor\": \"white\", \"gridwidth\": 2, \"linecolor\": \"white\", \"showbackground\": true, \"ticks\": \"\", \"zerolinecolor\": \"white\"}, \"zaxis\": {\"backgroundcolor\": \"#E5ECF6\", \"gridcolor\": \"white\", \"gridwidth\": 2, \"linecolor\": \"white\", \"showbackground\": true, \"ticks\": \"\", \"zerolinecolor\": \"white\"}}, \"shapedefaults\": {\"line\": {\"color\": \"#2a3f5f\"}}, \"ternary\": {\"aaxis\": {\"gridcolor\": \"white\", \"linecolor\": \"white\", \"ticks\": \"\"}, \"baxis\": {\"gridcolor\": \"white\", \"linecolor\": \"white\", \"ticks\": \"\"}, \"bgcolor\": \"#E5ECF6\", \"caxis\": {\"gridcolor\": \"white\", \"linecolor\": \"white\", \"ticks\": \"\"}}, \"title\": {\"x\": 0.05}, \"xaxis\": {\"automargin\": true, \"gridcolor\": \"white\", \"linecolor\": \"white\", \"ticks\": \"\", \"title\": {\"standoff\": 15}, \"zerolinecolor\": \"white\", \"zerolinewidth\": 2}, \"yaxis\": {\"automargin\": true, \"gridcolor\": \"white\", \"linecolor\": \"white\", \"ticks\": \"\", \"title\": {\"standoff\": 15}, \"zerolinecolor\": \"white\", \"zerolinewidth\": 2}}}, \"title\": {\"text\": \"H-Clustering -Abstracts+Titles - Separated Development of fields: Docs 1990-2004 to 2017-2018 : Enhanced number of clusters  - pow 2 - thresh 0.45\"}, \"width\": 1500},\n",
       "                        {\"responsive\": true}\n",
       "                    ).then(function(){\n",
       "                            \n",
       "var gd = document.getElementById('efa506ef-9ffc-477f-a846-cdf70a375f7b');\n",
       "var x = new MutationObserver(function (mutations, observer) {{\n",
       "        var display = window.getComputedStyle(gd).display;\n",
       "        if (!display || display === 'none') {{\n",
       "            console.log([gd, 'removed!']);\n",
       "            Plotly.purge(gd);\n",
       "            observer.disconnect();\n",
       "        }}\n",
       "}});\n",
       "\n",
       "// Listen for the removal of the full notebook cells\n",
       "var notebookContainer = gd.closest('#notebook-container');\n",
       "if (notebookContainer) {{\n",
       "    x.observe(notebookContainer, {childList: true});\n",
       "}}\n",
       "\n",
       "// Listen for the clearing of the current output cell\n",
       "var outputEl = gd.closest('.output');\n",
       "if (outputEl) {{\n",
       "    x.observe(outputEl, {childList: true});\n",
       "}}\n",
       "\n",
       "                        })\n",
       "                };\n",
       "                });\n",
       "            </script>\n",
       "        </div>"
      ]
     },
     "metadata": {},
     "output_type": "display_data"
    }
   ],
   "source": [
    "fig = go.Figure(data=[go.Sankey(\n",
    "    node = dict(\n",
    "      pad = 15,\n",
    "      thickness = 10,\n",
    "      line = dict(color = \"black\", width = 0),\n",
    "      label = labels_all_new,\n",
    "      color = colors_all #\"blue\"\n",
    "    ),\n",
    "    link = dict(\n",
    "      source = similarity_source,# 1, 0, 2, 3, 3], # indices correspond to labels, eg A1, A2, A2, B1, ...\n",
    "      target = similarity_target,# 3, 3, 4, 4, 5],\n",
    "      value = similarity_value,# 4, 2, 8, 4, 2],\n",
    "      color = final_colors_links #\"grey\"\n",
    "  ))])\n",
    "\n",
    "fig.update_layout(title_text=\"H-Clustering -\"+data_type+\" Development of fields: Docs 1990-2004 to \"+last_period_start+\"-2018 : Enhanced number of clusters  - pow \"+str(power)+\" - thresh \"+str(link_strength_threshold), font_size=11)\n",
    "fig.update_layout(\n",
    "    autosize=False,\n",
    "    width=1500,\n",
    "    height=900)\n",
    "fig.show()"
   ]
  },
  {
   "cell_type": "code",
   "execution_count": null,
   "metadata": {},
   "outputs": [],
   "source": []
  },
  {
   "cell_type": "code",
   "execution_count": null,
   "metadata": {},
   "outputs": [],
   "source": []
  }
 ],
 "metadata": {
  "kernelspec": {
   "display_name": "Python 3",
   "language": "python",
   "name": "python3"
  },
  "language_info": {
   "codemirror_mode": {
    "name": "ipython",
    "version": 3
   },
   "file_extension": ".py",
   "mimetype": "text/x-python",
   "name": "python",
   "nbconvert_exporter": "python",
   "pygments_lexer": "ipython3",
   "version": "3.7.7"
  }
 },
 "nbformat": 4,
 "nbformat_minor": 2
}
