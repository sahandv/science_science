{
 "cells": [
  {
   "cell_type": "markdown",
   "metadata": {
    "colab_type": "text",
    "id": "view-in-github"
   },
   "source": [
    "<a href=\"https://colab.research.google.com/github/sahandv/science_science/blob/master/FastText_embedding.ipynb\" target=\"_parent\"><img src=\"https://colab.research.google.com/assets/colab-badge.svg\" alt=\"Open In Colab\"/></a>"
   ]
  },
  {
   "cell_type": "markdown",
   "metadata": {
    "colab_type": "text",
    "id": "B43KQKxsZqK2"
   },
   "source": [
    "# FASTTEXT EMBEDDING\n"
   ]
  },
  {
   "cell_type": "markdown",
   "metadata": {
    "colab_type": "text",
    "id": "JyakRMAwbUq2"
   },
   "source": [
    "## Init"
   ]
  },
  {
   "cell_type": "markdown",
   "metadata": {
    "colab_type": "text",
    "id": "8klZfiWyEt98"
   },
   "source": [
    "Local OR Colab?"
   ]
  },
  {
   "cell_type": "code",
   "execution_count": 1,
   "metadata": {
    "colab": {},
    "colab_type": "code",
    "id": "bsEwsoJSEtKx"
   },
   "outputs": [],
   "source": [
    "datapath = '/mnt/16A4A9BCA4A99EAD/GoogleDrive/Data/' # Local\n",
    "# datapath = 'drive/My Drive/Data/' # Remote"
   ]
  },
  {
   "cell_type": "markdown",
   "metadata": {
    "colab_type": "text",
    "id": "fIPuXPla6BKh"
   },
   "source": [
    "### Clone Project Git Repo"
   ]
  },
  {
   "cell_type": "code",
   "execution_count": null,
   "metadata": {
    "colab": {
     "base_uri": "https://localhost:8080/",
     "height": 153
    },
    "colab_type": "code",
    "id": "j-YQSyFe6Bgv",
    "outputId": "c7858517-6510-4247-f1a7-eca29777ec91"
   },
   "outputs": [],
   "source": [
    "!rm -rf 'science_science'\n",
    "username = \"sahandv\"#@param {type:\"string\"}\n",
    "# password = \"\"#@param {type:\"string\"} \n",
    "\n",
    "!git clone https://github.com/$username/science_science.git\n",
    "!ls"
   ]
  },
  {
   "cell_type": "markdown",
   "metadata": {
    "colab_type": "text",
    "id": "g8crXh0Ek1FA"
   },
   "source": [
    "### Mount Google Drive\n"
   ]
  },
  {
   "cell_type": "code",
   "execution_count": null,
   "metadata": {
    "colab": {
     "base_uri": "https://localhost:8080/",
     "height": 122
    },
    "colab_type": "code",
    "id": "ulliMrpjkKAd",
    "outputId": "22a6805f-fcc9-4a51-8bd4-e7add7fbda80"
   },
   "outputs": [],
   "source": [
    "from google.colab import drive\n",
    "drive.mount('/content/drive/')"
   ]
  },
  {
   "cell_type": "code",
   "execution_count": null,
   "metadata": {
    "colab": {
     "base_uri": "https://localhost:8080/",
     "height": 34
    },
    "colab_type": "code",
    "id": "nhV7OflrnOhI",
    "outputId": "af404d59-fb1f-45f2-8191-8e4c9d2b0aa5"
   },
   "outputs": [],
   "source": [
    "# Check files!\n",
    "!ls 'drive/My Drive/Data-Permenant/FastText-crawl-300d-2M-subword'"
   ]
  },
  {
   "cell_type": "markdown",
   "metadata": {
    "colab_type": "text",
    "id": "FiBuMInGmypx"
   },
   "source": [
    "### Install requirements"
   ]
  },
  {
   "cell_type": "code",
   "execution_count": null,
   "metadata": {
    "colab": {
     "base_uri": "https://localhost:8080/",
     "height": 1000
    },
    "colab_type": "code",
    "id": "7OwQMHvQmy3A",
    "outputId": "253569b9-60a5-49b9-b6bf-40fa1dde2176"
   },
   "outputs": [],
   "source": [
    "!pip install fasttext\n",
    "!pip install -r 'science_science/requirements.txt'\n",
    "!pip install gensim==3.8.1"
   ]
  },
  {
   "cell_type": "markdown",
   "metadata": {
    "colab_type": "text",
    "id": "W9l5YuBnkKFB"
   },
   "source": [
    "### Import Libs"
   ]
  },
  {
   "cell_type": "code",
   "execution_count": 2,
   "metadata": {
    "colab": {},
    "colab_type": "code",
    "id": "b4sdVZl-kKI3"
   },
   "outputs": [],
   "source": [
    "from tqdm import tqdm\n",
    "import pandas as pd\n",
    "import numpy as np\n",
    "import gc\n",
    "import json\n",
    "import re\n",
    "\n",
    "# import fasttext\n",
    "import gensim\n",
    "from gensim.models import FastText as fasttext_gensim\n",
    "from gensim.test.utils import get_tmpfile\n",
    "\n",
    "import nltk\n",
    "from nltk.tokenize import word_tokenize\n",
    "from nltk.stem import WordNetLemmatizer\n",
    "from nltk.corpus import stopwords\n",
    "\n",
    "from sciosci.assets import keyword_assets as kw\n",
    "from sciosci.assets import generic_assets as sci\n",
    "from sciosci.assets import advanced_assets as aa\n",
    "\n",
    "# from science_science.sciosci.assets import keyword_assets as kw\n",
    "# from science_science.sciosci.assets import generic_assets as sci\n",
    "# from science_science.sciosci.assets import advanced_assets as aa"
   ]
  },
  {
   "cell_type": "code",
   "execution_count": 3,
   "metadata": {
    "colab": {},
    "colab_type": "code",
    "id": "Wu17lpjOg7F2"
   },
   "outputs": [],
   "source": [
    "import warnings\n",
    "warnings.filterwarnings(\"ignore\")"
   ]
  },
  {
   "cell_type": "code",
   "execution_count": 4,
   "metadata": {
    "colab": {
     "base_uri": "https://localhost:8080/",
     "height": 119
    },
    "colab_type": "code",
    "id": "draRfEpf8A5L",
    "outputId": "f74fef24-6beb-4f6c-9c7a-1cd0c9290568"
   },
   "outputs": [
    {
     "name": "stderr",
     "output_type": "stream",
     "text": [
      "[nltk_data] Downloading package stopwords to /home/sahand/nltk_data...\n",
      "[nltk_data]   Package stopwords is already up-to-date!\n",
      "[nltk_data] Downloading package punkt to /home/sahand/nltk_data...\n",
      "[nltk_data]   Package punkt is already up-to-date!\n",
      "[nltk_data] Downloading package wordnet to /home/sahand/nltk_data...\n",
      "[nltk_data]   Package wordnet is already up-to-date!\n"
     ]
    }
   ],
   "source": [
    "stops = ['a','an','we','result','however','yet','since','previously','although','propose','proposed','e_g','method',\n",
    "         'published_elsevier','b','v','problem','paper','approach','within','with','by','via','way','t','case','issue','level','area','system',\n",
    "         'work','discussed','seen','put','usually','take','make','author','versus','enables','result','research','design','based']\n",
    "punkts = [' ','','(',')','[',']','{','}','.',',','!','?','<','>','-','_',':',';','\\\\','/','|','&','%',\"'s\",\"`s\",'#','$','@']\n",
    "\n",
    "nltk.download('stopwords')\n",
    "nltk.download('punkt')\n",
    "nltk.download('wordnet')\n",
    "\n",
    "stop_words = list(set(stopwords.words(\"english\")))+stops+punkts\n",
    "np.random.seed(50)"
   ]
  },
  {
   "cell_type": "markdown",
   "metadata": {
    "colab_type": "text",
    "id": "iLK4cDhVkKbs"
   },
   "source": [
    "# Get embeddings from a pre-trained model\n"
   ]
  },
  {
   "cell_type": "markdown",
   "metadata": {
    "colab_type": "text",
    "id": "WhKPivNafWBf"
   },
   "source": [
    "### Load Corpus"
   ]
  },
  {
   "cell_type": "code",
   "execution_count": null,
   "metadata": {
    "colab": {},
    "colab_type": "code",
    "id": "uQEzlLSQ6g0E"
   },
   "outputs": [],
   "source": [
    "period = '2017-2018'\n",
    "percentile = 97"
   ]
  },
  {
   "cell_type": "markdown",
   "metadata": {
    "colab_type": "text",
    "id": "h6XYOAVzkKsR"
   },
   "source": [
    "#### Option A - Load corpus"
   ]
  },
  {
   "cell_type": "code",
   "execution_count": 5,
   "metadata": {
    "colab": {
     "base_uri": "https://localhost:8080/",
     "height": 34
    },
    "colab_type": "code",
    "id": "PkWEF6DBkKzd",
    "outputId": "7482c9f8-c3ce-47d2-d05c-4ec821a88f79"
   },
   "outputs": [
    {
     "data": {
      "text/plain": [
       "27"
      ]
     },
     "execution_count": 5,
     "metadata": {},
     "output_type": "execute_result"
    }
   ],
   "source": [
    "directory = datapath+'Corpus/KPRIS/clean/'\n",
    "file_name = 'abstract_title'#corpus abstract-title - with n-grams'\n",
    "corpus = pd.read_csv(directory+file_name,names=['abstracts'])\n",
    "corpus_tokens = [item.lower() for sublist in corpus['abstracts'].values.tolist() for item in sublist.split()]\n",
    "gc.collect()"
   ]
  },
  {
   "cell_type": "code",
   "execution_count": 6,
   "metadata": {
    "colab": {
     "base_uri": "https://localhost:8080/",
     "height": 406
    },
    "colab_type": "code",
    "id": "zFwzf5Aa34G8",
    "outputId": "fc0ac909-b5dd-47eb-fa73-cd340be7b42b"
   },
   "outputs": [
    {
     "data": {
      "text/html": [
       "<div>\n",
       "<style scoped>\n",
       "    .dataframe tbody tr th:only-of-type {\n",
       "        vertical-align: middle;\n",
       "    }\n",
       "\n",
       "    .dataframe tbody tr th {\n",
       "        vertical-align: top;\n",
       "    }\n",
       "\n",
       "    .dataframe thead th {\n",
       "        text-align: right;\n",
       "    }\n",
       "</style>\n",
       "<table border=\"1\" class=\"dataframe\">\n",
       "  <thead>\n",
       "    <tr style=\"text-align: right;\">\n",
       "      <th></th>\n",
       "      <th>abstracts</th>\n",
       "    </tr>\n",
       "  </thead>\n",
       "  <tbody>\n",
       "    <tr>\n",
       "      <th>0</th>\n",
       "      <td>light system disclos compris plural imag proje...</td>\n",
       "    </tr>\n",
       "    <tr>\n",
       "      <th>1</th>\n",
       "      <td>photograph devic elimin photometr error occur ...</td>\n",
       "    </tr>\n",
       "    <tr>\n",
       "      <th>2</th>\n",
       "      <td>print demand camera system camera unit incorpo...</td>\n",
       "    </tr>\n",
       "    <tr>\n",
       "      <th>3</th>\n",
       "      <td>simplifi camera mechan method allow oper selec...</td>\n",
       "    </tr>\n",
       "    <tr>\n",
       "      <th>4</th>\n",
       "      <td>beam splitter digit camera split light pass ph...</td>\n",
       "    </tr>\n",
       "    <tr>\n",
       "      <th>...</th>\n",
       "      <td>...</td>\n",
       "    </tr>\n",
       "    <tr>\n",
       "      <th>19705</th>\n",
       "      <td>display engin video graphic system includ proc...</td>\n",
       "    </tr>\n",
       "    <tr>\n",
       "      <th>19706</th>\n",
       "      <td>facilit interact may enabl commun protocol api...</td>\n",
       "    </tr>\n",
       "    <tr>\n",
       "      <th>19707</th>\n",
       "      <td>present invent gener direct system method tran...</td>\n",
       "    </tr>\n",
       "    <tr>\n",
       "      <th>19708</th>\n",
       "      <td>disclos system produc imag includ applic progr...</td>\n",
       "    </tr>\n",
       "    <tr>\n",
       "      <th>19709</th>\n",
       "      <td>fulli programm graphic microprocessor embodi r...</td>\n",
       "    </tr>\n",
       "  </tbody>\n",
       "</table>\n",
       "<p>19710 rows × 1 columns</p>\n",
       "</div>"
      ],
      "text/plain": [
       "                                               abstracts\n",
       "0      light system disclos compris plural imag proje...\n",
       "1      photograph devic elimin photometr error occur ...\n",
       "2      print demand camera system camera unit incorpo...\n",
       "3      simplifi camera mechan method allow oper selec...\n",
       "4      beam splitter digit camera split light pass ph...\n",
       "...                                                  ...\n",
       "19705  display engin video graphic system includ proc...\n",
       "19706  facilit interact may enabl commun protocol api...\n",
       "19707  present invent gener direct system method tran...\n",
       "19708  disclos system produc imag includ applic progr...\n",
       "19709  fulli programm graphic microprocessor embodi r...\n",
       "\n",
       "[19710 rows x 1 columns]"
      ]
     },
     "execution_count": 6,
     "metadata": {},
     "output_type": "execute_result"
    }
   ],
   "source": [
    "corpus"
   ]
  },
  {
   "cell_type": "markdown",
   "metadata": {
    "colab_type": "text",
    "id": "YG1-O4D26irL"
   },
   "source": [
    "#### Option B - Load keywords"
   ]
  },
  {
   "cell_type": "code",
   "execution_count": null,
   "metadata": {
    "colab": {
     "base_uri": "https://localhost:8080/",
     "height": 68
    },
    "colab_type": "code",
    "id": "a7qJSz6l6mVt",
    "outputId": "e65d72cb-8ee9-49ac-cab4-9ff5c0231ca4"
   },
   "outputs": [],
   "source": [
    "directory = datapath+'LDA/'\n",
    "file_name = period+' top_90-percentile_keywords_terms.csv'\n",
    "corpus = pd.read_csv(directory+file_name)\n",
    "corpus = corpus.fillna('this_is_null')\n",
    "corpus_tokens = []\n",
    "for idx,row in tqdm(corpus.iterrows(),total=corpus.shape[0]):\n",
    "    for token in row.values.tolist():\n",
    "        if token != 'this_is_null': \n",
    "            corpus_tokens.append(token) \n",
    "del corpus\n",
    "print(\"\\nNumber of unique tokens:\",len(corpus_tokens))"
   ]
  },
  {
   "cell_type": "markdown",
   "metadata": {
    "colab_type": "text",
    "id": "2YXZPTZrKjhr"
   },
   "source": [
    "#### Option C - Load author keywords"
   ]
  },
  {
   "cell_type": "code",
   "execution_count": null,
   "metadata": {
    "colab": {
     "base_uri": "https://localhost:8080/",
     "height": 68
    },
    "colab_type": "code",
    "id": "hq2HreIeKqP0",
    "outputId": "031b660b-100c-40b7-a563-b556d1df77d8"
   },
   "outputs": [],
   "source": [
    "directory = datapath+'Author keywords - 29 Oct 2019/'\n",
    "file_name = period+' keyword frequency'\n",
    "corpus = pd.read_csv(directory+file_name,names=['keyword','frequency'])\n",
    "corpus = corpus.fillna('this_is_null')\n",
    "threshold = np.percentile(corpus['frequency'].values,percentile)\n",
    "corpus = corpus[corpus['frequency']>threshold]\n",
    "\n",
    "corpus_tokens = []\n",
    "for idx,row in tqdm(corpus.iterrows(),total=corpus.shape[0]):\n",
    "    if row['keyword'] != 'this_is_null': \n",
    "        corpus_tokens.append(row['keyword']) \n",
    "print(\"\\nNumber of unique tokens:\",len(corpus_tokens))"
   ]
  },
  {
   "cell_type": "markdown",
   "metadata": {
    "colab_type": "text",
    "id": "GqlZHLo1e40r"
   },
   "source": [
    "## Facebook Model"
   ]
  },
  {
   "cell_type": "markdown",
   "metadata": {
    "colab_type": "text",
    "id": "oeC8SkXPkKjx"
   },
   "source": [
    "#### Load model"
   ]
  },
  {
   "cell_type": "code",
   "execution_count": null,
   "metadata": {
    "colab": {},
    "colab_type": "code",
    "id": "hv3ACHBtexEI"
   },
   "outputs": [],
   "source": [
    "fb_model_address = datapath+'/FastText-crawl-300d-2M-subword/crawl-300d-2M-subword.bin'"
   ]
  },
  {
   "cell_type": "code",
   "execution_count": null,
   "metadata": {
    "colab": {
     "base_uri": "https://localhost:8080/"
    },
    "colab_type": "code",
    "id": "w6K74cHMkKnn",
    "outputId": "640b9a1b-8888-4e67-b927-a1f803bcd589"
   },
   "outputs": [],
   "source": [
    "model = fasttext.load_model(fb_model_address)"
   ]
  },
  {
   "cell_type": "markdown",
   "metadata": {
    "colab_type": "text",
    "id": "2648m7e8kk0n"
   },
   "source": [
    "#### Get embeddings\n",
    "\n",
    "*   Save to dictionary and json\n",
    "*   This takes much less space on disk\n"
   ]
  },
  {
   "cell_type": "markdown",
   "metadata": {
    "colab_type": "text",
    "id": "6Mq87DiZxVvY"
   },
   "source": [
    "##### No n-gram handle"
   ]
  },
  {
   "cell_type": "code",
   "execution_count": null,
   "metadata": {
    "colab": {
     "base_uri": "https://localhost:8080/",
     "height": 34
    },
    "colab_type": "code",
    "id": "RiJcbZqHkkLl",
    "outputId": "23f58666-ecbc-4c78-f2e8-84fa11b58948"
   },
   "outputs": [],
   "source": [
    "# Save in a dict\n",
    "output_dict = {}\n",
    "comment_embedding = ''\n",
    "for token in tqdm(corpus_tokens[:],total=len(corpus_tokens[:])):\n",
    "    output_dict[token] = str(model.get_word_vector(token))"
   ]
  },
  {
   "cell_type": "markdown",
   "metadata": {
    "colab_type": "text",
    "id": "UOMUto5AxVDy"
   },
   "source": [
    "##### Manual n-gram handle"
   ]
  },
  {
   "cell_type": "code",
   "execution_count": null,
   "metadata": {
    "colab": {
     "base_uri": "https://localhost:8080/",
     "height": 34
    },
    "colab_type": "code",
    "id": "F4UJAF3exSLm",
    "outputId": "65624796-56fb-468e-b923-3ff5468369f9"
   },
   "outputs": [],
   "source": [
    "# Save in a dict\n",
    "comment_embedding = 'average_manual '\n",
    "output_dict = {}\n",
    "for token in tqdm(corpus_tokens[:],total=len(corpus_tokens[:])):\n",
    "    token_split = token.split(' ')\n",
    "    if len(token_split) > 0:\n",
    "        tmp_vector_grams = []\n",
    "        for item in token_split:\n",
    "            tmp_vector_grams.append(model.get_word_vector(item))\n",
    "        output_dict[token] = str(list(np.array(tmp_vector_grams).mean(axis=0)))\n",
    "    else:\n",
    "        output_dict[token] = str(model.get_word_vector(item))"
   ]
  },
  {
   "cell_type": "markdown",
   "metadata": {
    "colab_type": "text",
    "id": "V8nMUTU0xXo8"
   },
   "source": [
    "##### Save to disk"
   ]
  },
  {
   "cell_type": "code",
   "execution_count": null,
   "metadata": {
    "colab": {},
    "colab_type": "code",
    "id": "fJk-lqjemSky"
   },
   "outputs": [],
   "source": [
    "# Save embeddings to disk\n",
    "with open(directory+'vectors/100D/FastText vector '+comment_embedding+period+'.json', 'w') as json_file:\n",
    "    json.dump(output_dict, json_file)"
   ]
  },
  {
   "cell_type": "markdown",
   "metadata": {
    "colab_type": "text",
    "id": "IXkwEnj4lnJi"
   },
   "source": [
    "#### Get embeddings (alternative) : \n",
    "\n",
    "*   save to a list instead of a dicktionary and csv\n",
    "*   Will have many redundant words in it and will take lots of disk space\n",
    "\n",
    "\n"
   ]
  },
  {
   "cell_type": "code",
   "execution_count": null,
   "metadata": {
    "colab": {},
    "colab_type": "code",
    "id": "GndJ3Q1OlnSy"
   },
   "outputs": [],
   "source": [
    "# Save in a list\n",
    "batches = 1000\n",
    "batch_size = len(corpus_tokens)/batches\n",
    "\n",
    "for step in tqdm(range(batches),total=batches):\n",
    "    batch_tokens = corpus_tokens[int(step*batch_size):int((step+1)*batch_size)]\n",
    "    corpus_vectors = [model.get_word_vector(x) for x in batch_tokens]\n",
    "    corpus_vectors = pd.DataFrame(corpus_vectors)\n",
    "    corpus_vectors['tokens'] = batch_tokens\n",
    "\n",
    "    # Save embeddings to disk\n",
    "    with open(directory+'vector '+period,'a') as f:\n",
    "        corpus_vectors.to_csv(f,index=False,header=False)"
   ]
  },
  {
   "cell_type": "markdown",
   "metadata": {
    "colab_type": "text",
    "id": "38Xcww-Mfdaj"
   },
   "source": [
    "## Gensim Model"
   ]
  },
  {
   "cell_type": "markdown",
   "metadata": {
    "colab_type": "text",
    "id": "lPd9g4E4fgTi"
   },
   "source": [
    "#### Load model"
   ]
  },
  {
   "cell_type": "markdown",
   "metadata": {
    "colab_type": "text",
    "id": "06depR4llpmB"
   },
   "source": [
    "Load gensim model"
   ]
  },
  {
   "cell_type": "code",
   "execution_count": null,
   "metadata": {
    "colab": {},
    "colab_type": "code",
    "id": "j_UYlrcCfgxw"
   },
   "outputs": [],
   "source": [
    "gensim_model_address = datapath+'FastText Models/50D w1/fasttext-scopus-2.2-million_docs-gensim 50D-w1.model'\n",
    "model = fasttext_gensim.load(gensim_model_address)"
   ]
  },
  {
   "cell_type": "code",
   "execution_count": 7,
   "metadata": {
    "colab": {},
    "colab_type": "code",
    "id": "Gx1x_twuQCbQ"
   },
   "outputs": [],
   "source": [
    "gensim_model_address = datapath+\"FastText Models/100D Oct2020/large corpus.model\"\n",
    "model = fasttext_gensim.load(gensim_model_address)"
   ]
  },
  {
   "cell_type": "code",
   "execution_count": null,
   "metadata": {
    "colab": {},
    "colab_type": "code",
    "id": "q18gRbrW3mvO"
   },
   "outputs": [],
   "source": [
    "gensim_model_address = 'drive/My Drive/Data-Permenant/FastText-crawl-300d-2M-subword/crawl-300d-2M-subword.bin'\n",
    "model = gensim.models.fasttext.load_facebook_model(gensim_model_address)"
   ]
  },
  {
   "cell_type": "markdown",
   "metadata": {
    "colab_type": "text",
    "id": "XhKlmoX6gPE-"
   },
   "source": [
    "Simple Tests"
   ]
  },
  {
   "cell_type": "code",
   "execution_count": null,
   "metadata": {
    "colab": {},
    "colab_type": "code",
    "id": "n7oeEkj_gNLg"
   },
   "outputs": [],
   "source": [
    "print('intelligence' in model.wv.vocab)\n",
    "print(model.similarity(\"anns\", \"ann\"))\n",
    "print(model.most_similar(['eye','vision','processing'], ['computer']))\n",
    "print(model.wmdistance(['stop', 'word', 'removed', 'tokens', 'of', 'sentence 1'], ['stop word removed tokens of sentence 2']))"
   ]
  },
  {
   "cell_type": "code",
   "execution_count": null,
   "metadata": {
    "colab": {
     "base_uri": "https://localhost:8080/",
     "height": 34
    },
    "colab_type": "code",
    "id": "rCuEFwIMbND_",
    "outputId": "038b21bb-96b1-45fc-d513-1939d1671df4"
   },
   "outputs": [],
   "source": [
    "# get distance of two words\n",
    "from scipy import spatial,sparse,sign\n",
    "vec_a = model.wv['']\n",
    "vec_b = model.wv['fpga']\n",
    "distance_tmp = spatial.distance.cosine(vec_a, vec_b)\n",
    "similarity_tmp = 1 - distance_tmp\n",
    "similarity_tmp"
   ]
  },
  {
   "cell_type": "code",
   "execution_count": null,
   "metadata": {
    "colab": {
     "base_uri": "https://localhost:8080/",
     "height": 204
    },
    "colab_type": "code",
    "id": "iPioY7Lj7BOP",
    "outputId": "8f170cbd-4949-4325-cb12-26ecd7164c64"
   },
   "outputs": [],
   "source": [
    "model.wv['artificial intelligence']"
   ]
  },
  {
   "cell_type": "code",
   "execution_count": null,
   "metadata": {
    "colab": {},
    "colab_type": "code",
    "id": "KqUSjLRy_isH"
   },
   "outputs": [],
   "source": [
    "(model.wv['artificial']+model.wv['intelligence'])/2"
   ]
  },
  {
   "cell_type": "code",
   "execution_count": null,
   "metadata": {
    "colab": {},
    "colab_type": "code",
    "id": "j0gnOxud_m4H"
   },
   "outputs": [],
   "source": [
    "model.wv['artificial_intelligence']"
   ]
  },
  {
   "cell_type": "markdown",
   "metadata": {
    "colab_type": "text",
    "id": "5516KiWbelyF"
   },
   "source": [
    "#### Compare vectors to ACM categories"
   ]
  },
  {
   "cell_type": "code",
   "execution_count": null,
   "metadata": {
    "colab": {},
    "colab_type": "code",
    "id": "6AxNRKUidrCk"
   },
   "outputs": [],
   "source": [
    "AI_categories = [\n",
    "              'Artificial Intelligence Applications - Expert Systems',\n",
    "              'Automatic Programming',\n",
    "              'Deduction - Theorem Proving',\n",
    "              'Knowledge Representation Formalisms - Knowledge Representation Methods',\n",
    "              'Programming Languages - Software',\n",
    "              'Learning',\n",
    "              'Natural Language Processing',\n",
    "              'Problem Solving - Control Methods - Search',\n",
    "              'Robotics',\n",
    "              'Vision - Scene Understanding',\n",
    "              'Distributed Artificial Intelligence',\n",
    "              'ARTIFICIAL INTELLIGENCE'\n",
    "]"
   ]
  },
  {
   "cell_type": "code",
   "execution_count": null,
   "metadata": {
    "colab": {},
    "colab_type": "code",
    "id": "-QeWKP-k1qpy"
   },
   "outputs": [],
   "source": [
    "categories = [\n",
    "              'Natural language processing - Information extraction - Machine translation - Discourse, dialogue  pragmatics - Natural language generation - Speech recognition - Lexical semantics - Phonology / morphology',\n",
    "              'Knowledge representation reasoning - Description logics - Semantic networks Nonmonotonic default reasoning  belief revision - Probabilistic reasoning - Vagueness fuzzy logic - Causal reasoning  diagnostics - Temporal reasoning - Cognitive robotics - Ontology engineering - Logic programming answer set programming - Spatial  physical reasoning - Reasoning about belief  knowledge',\n",
    "              'Planning  scheduling - Planning for deterministic actions - Planning under uncertainty - Multi-agent planning - Planning  abstraction  generalization - Robotic planning - Evolutionary robotics',\n",
    "              'Search methodologies - Heuristic function construction - Discrete space search - Continuous space search - Randomized search - Game tree search - Abstraction  micro-operators - Search with partial observations - ',\n",
    "              'Control methods - Robotic planning - Evolutionary robotics - Computational control theory - Motion path planning',\n",
    "              'Philosophical theoretical foundations artificial intelligence - Cognitive science - Theory mind',\n",
    "              'Distributed artificial intelligence - Multi agent systems - Intelligent agents - Mobile agents - Cooperation  coordination',\n",
    "              'Computer vision - Biometrics - Scene understanding - Activity recognition  understanding - Video summarization - Visual content based indexing  retrieval - Visual inspection - Vision for robotics - Scene anomaly detection - Image  video acquisition - Camera calibration - Epipolar geometry - Computational photography - Hyperspectral imaging - Motion capture - 3D imaging - Active vision - Image representations - Shape representations - Appearance  texture - Hierarchical representations - Computer vision problems - Interest point  salient region detections - Image segmentation  - Video segmentation - Shape inference - Object detection - Object recognition - Object identification - Tracking - Reconstruction - Matching',\n",
    "              \n",
    "              'Learning paradigms - Supervised learning - Ranking - Learning to rank - Supervised learning  classification - Supervised learning  regression - Structured outputs - Cost sensitive learning - Unsupervised learning - Cluster analysis - Anomaly detection - Mixture modeling - Topic modeling - Source separation - Motif discovery - Dimensionality reduction  manifold learning - Reinforcement learning - Sequential decision making - Inverse reinforcement learning - Apprenticeship learning - Multi-agent reinforcement learning - Adversarial learning - Multi-task learning - Transfer learning - Lifelong machine learning - Learning under covariate shift',\n",
    "              'Learning settings - Batch learning - Online learning settings - Learning from demonstrations - Learning from critiques - Learning from implicit feedback - Active learning settings - Semi supervised learning settings',\n",
    "              'Machine learning approaches - Classification  regression trees - Kernel methods - Support vector machines - Gaussian processes - Neural networks - Logical  relational learning - Inductive logic learning - Statistical relational learning - Learning in probabilistic graphical models - Maximum likelihood modeling - Maximum entropy modeling - Maximum a posteriori modeling - Mixture models - Latent variable models - Bayesian network models - Learning linear models - Perceptron algorithm - Factorization methods - Non-negative matrix factorization - Factor analysis - Principal component analysis - Canonical correlation analysis - Latent Dirichlet allocation - Rule learning - Instance-based learning - Markov decision processes -  Markov decision processes - Stochastic games - Learning latent representations - Deep belief networks - Bio inspired approaches - Artificial life - Evolvable hardware - Genetic algorithms - Genetic programming - Evolutionary robotics - Generative  developmental approaches',\n",
    "              'Machine learning algorithms - Dynamic programming Markov decision processes - Value iteration - Q learning - Policy iteration - Temporal difference learning - Approximate dynamic programming methods - Ensemble methods - Boosting - Bagging - Spectral methods - Feature selection - Regularization',\n",
    "]"
   ]
  },
  {
   "cell_type": "code",
   "execution_count": null,
   "metadata": {
    "colab": {
     "base_uri": "https://localhost:8080/",
     "height": 54
    },
    "colab_type": "code",
    "id": "-rtaQ7KbfQ_y",
    "outputId": "cd8e2034-6f91-44a3-f38d-1073e8cd6bda"
   },
   "outputs": [],
   "source": [
    "AI_vectors = []\n",
    "labels = []\n",
    "for item in categories:\n",
    "    vector_tmp = []\n",
    "    label = item.split('-')[0]\n",
    "    for phrase in item.split('-'):\n",
    "        phrase = phrase.lower().strip()\n",
    "        # print(phrase)\n",
    "        vector_tmp.append(model.wv[phrase])\n",
    "    # print('---')\n",
    "    AI_vectors.append(list(np.array(vector_tmp).mean(axis=0)))\n",
    "    labels.append(label)\n",
    "print(AI_vectors)"
   ]
  },
  {
   "cell_type": "code",
   "execution_count": null,
   "metadata": {
    "colab": {},
    "colab_type": "code",
    "id": "brCodssfgEgt"
   },
   "outputs": [],
   "source": [
    "pd.DataFrame(AI_vectors).to_csv(datapath+'FastText doc clusters - SIP/50D/classification/ACM_classifications_vectors')\n",
    "pd.DataFrame(labels,columns=['label']).to_csv(datapath+'FastText doc clusters - SIP/50D/classification/ACM_classifications_labels')"
   ]
  },
  {
   "cell_type": "markdown",
   "metadata": {
    "colab_type": "text",
    "id": "tMAHWCgX6kEz"
   },
   "source": [
    "### Get Word Embeddings"
   ]
  },
  {
   "cell_type": "markdown",
   "metadata": {
    "colab_type": "text",
    "id": "8LPLO5z4cER3"
   },
   "source": [
    "##### No n-gram handle"
   ]
  },
  {
   "cell_type": "code",
   "execution_count": null,
   "metadata": {
    "colab": {
     "base_uri": "https://localhost:8080/",
     "height": 34
    },
    "colab_type": "code",
    "id": "lP8pYSjf6kiR",
    "outputId": "3293d0e4-ff19-437d-def6-b56259717fbb"
   },
   "outputs": [],
   "source": [
    "# Save in a dict\n",
    "comment_embedding = ''\n",
    "output_dict = {}\n",
    "for token in tqdm(corpus_tokens[:],total=len(corpus_tokens[:])):\n",
    "    output_dict[token] = str(model.wv[token])"
   ]
  },
  {
   "cell_type": "markdown",
   "metadata": {
    "colab_type": "text",
    "id": "AGLF7jepcI83"
   },
   "source": [
    "##### Manual n-gram handle"
   ]
  },
  {
   "cell_type": "code",
   "execution_count": null,
   "metadata": {
    "colab": {
     "base_uri": "https://localhost:8080/",
     "height": 34
    },
    "colab_type": "code",
    "id": "w9cb-KpAcPWJ",
    "outputId": "4f2e771b-0fb9-487f-c7db-b11e3da36156"
   },
   "outputs": [],
   "source": [
    "# Save in a dict\n",
    "comment_embedding = 'average_manual '\n",
    "output_dict = {}\n",
    "for token in tqdm(corpus_tokens[:],total=len(corpus_tokens[:])):\n",
    "    token_split = token.split(' ')\n",
    "    if len(token_split) > 0:\n",
    "        tmp_vector_grams = []\n",
    "        for item in token_split:\n",
    "            tmp_vector_grams.append(model.wv[item])\n",
    "        output_dict[token] = str(list(np.array(tmp_vector_grams).mean(axis=0)))\n",
    "    else:\n",
    "        output_dict[token] = str(model.wv[token])"
   ]
  },
  {
   "cell_type": "markdown",
   "metadata": {
    "colab_type": "text",
    "id": "wk6CJa6pcQC-"
   },
   "source": [
    "##### Save to disk"
   ]
  },
  {
   "cell_type": "code",
   "execution_count": null,
   "metadata": {
    "colab": {},
    "colab_type": "code",
    "id": "K4wRDXMX6tBH"
   },
   "outputs": [],
   "source": [
    "# Save embeddings to disk\n",
    "with open(directory+'/FastText vector with n-grams '+comment_embedding+period+'.json', 'w') as json_file:\n",
    "    json.dump(output_dict, json_file)"
   ]
  },
  {
   "cell_type": "code",
   "execution_count": null,
   "metadata": {
    "colab": {
     "base_uri": "https://localhost:8080/",
     "height": 34
    },
    "colab_type": "code",
    "id": "ohPXzf8mKUxQ",
    "outputId": "4588f6a5-d865-48bb-fb40-d90033bc007a"
   },
   "outputs": [],
   "source": [
    "print(directory)"
   ]
  },
  {
   "cell_type": "markdown",
   "metadata": {
    "colab_type": "text",
    "id": "1yYjO-JQBLE3"
   },
   "source": [
    "### Get Doc Embeddings (SIF)\n",
    "\n",
    "It is not recommended to perform this on cloud, as it is not process intesive, yet takes too long depending on the doc-count. It might take over 30 hours."
   ]
  },
  {
   "cell_type": "markdown",
   "metadata": {
    "colab_type": "text",
    "id": "Hp1fP9z4xUGX"
   },
   "source": [
    "Make a probability dictionary"
   ]
  },
  {
   "cell_type": "code",
   "execution_count": null,
   "metadata": {
    "colab": {},
    "colab_type": "code",
    "id": "buSIQtoWVnOz"
   },
   "outputs": [],
   "source": [
    "corpus_tokens_s = pd.Series(corpus_tokens)\n",
    "corpus_tokens_probabilities = (corpus_tokens_s.groupby(corpus_tokens_s).transform('count') / len(corpus_tokens_s)).values\n",
    "corpus_tokens_probabilities = pd.DataFrame(corpus_tokens_probabilities)\n",
    "corpus_tokens_probabilities['tokens'] = corpus_tokens_s\n",
    "corpus_tokens_probabilities.columns = ['probability','token']\n",
    "corpus_tokens_probabilities = corpus_tokens_probabilities.groupby('token').mean()\n",
    "corpus_tokens_probabilities = corpus_tokens_probabilities.reset_index()\n",
    "corpus_tokens_probabilities.columns = ['token','probability']"
   ]
  },
  {
   "cell_type": "markdown",
   "metadata": {
    "colab_type": "text",
    "id": "qu51jQbo9QE6"
   },
   "source": [
    "Get vectors"
   ]
  },
  {
   "cell_type": "code",
   "execution_count": null,
   "metadata": {
    "colab": {},
    "colab_type": "code",
    "id": "72BAU9Jm9PwE"
   },
   "outputs": [],
   "source": [
    "vectors = []\n",
    "for token in tqdm(corpus_tokens_probabilities['token'],total=corpus_tokens_probabilities.shape[0]):\n",
    "    vectors.append(model.wv[token])\n",
    "corpus_tokens_probabilities['vector'] = vectors"
   ]
  },
  {
   "cell_type": "markdown",
   "metadata": {
    "colab_type": "text",
    "id": "7Y9rI72IxZal"
   },
   "source": [
    "Calculate weighted average vectors"
   ]
  },
  {
   "cell_type": "code",
   "execution_count": null,
   "metadata": {
    "colab": {},
    "colab_type": "code",
    "id": "4WwJtQqABN8w"
   },
   "outputs": [],
   "source": [
    "a = 1e-3\n",
    "embedding_size = 100\n",
    "\n",
    "doc_set = []\n",
    "for doc in tqdm(corpus['abstracts'].values.tolist(),total=len(corpus['abstracts'].values.tolist())):\n",
    "    vs = np.zeros(embedding_size)  # add all word2vec values into one vector for the sentence\n",
    "    doc_length = len(doc.split())\n",
    "#     print(doc.split())\n",
    "    for word in doc.lower().split():\n",
    "        a_value = a / (a + corpus_tokens_probabilities[corpus_tokens_probabilities['token']==word]['probability'].values.tolist()[0])  # smooth inverse frequency, SIF\n",
    "        vs = np.add(vs, np.multiply(a_value, corpus_tokens_probabilities[corpus_tokens_probabilities['token']==word]['vector'].values.tolist()[0]))  # vs += sif * word_vector\n",
    "\n",
    "    vs = np.divide(vs, doc_length)  # weighted average\n",
    "    doc_set.append(vs)  # add to our existing re-calculated set of sentences\n"
   ]
  },
  {
   "cell_type": "code",
   "execution_count": null,
   "metadata": {},
   "outputs": [],
   "source": [
    "pd.DataFrame(doc_set).to_csv(datapath+'Corpus/KPRIS/embeddings/large corpus',index=False)"
   ]
  },
  {
   "cell_type": "markdown",
   "metadata": {
    "colab_type": "text",
    "id": "p3C8IQiLgBJJ"
   },
   "source": [
    "##### Wikipedia embedding"
   ]
  },
  {
   "cell_type": "code",
   "execution_count": null,
   "metadata": {
    "colab": {
     "base_uri": "https://localhost:8080/",
     "height": 544
    },
    "colab_type": "code",
    "id": "IKLjavgtgBeJ",
    "outputId": "df78f51b-71c7-4ae7-dba0-92f8f26e6daa"
   },
   "outputs": [],
   "source": [
    "import os\n",
    "import time\n",
    "from stat import S_ISREG, ST_CTIME, ST_MODE\n",
    "\n",
    "print(\"\\nSearching for Wiki texts...\\n\")\n",
    "dir_path = datapath+'Corpus/AI Wiki Classifications/applications/clean/'\n",
    "data = (os.path.join(dir_path, fn) for fn in os.listdir(dir_path))\n",
    "data = ((os.stat(path), path) for path in data)\n",
    "data = ((stat[ST_CTIME], path) for stat, path in data if S_ISREG(stat[ST_MODE]))\n",
    "\n",
    "names = []\n",
    "files = []\n",
    "for cdate, path in sorted(data):\n",
    "    print('   - ', time.ctime(cdate), os.path.basename(path),int(os.path.getsize(path)/1000000),'MB')\n",
    "    files.append(path)\n",
    "    names.append(os.path.basename(path))"
   ]
  },
  {
   "cell_type": "code",
   "execution_count": null,
   "metadata": {
    "colab": {
     "base_uri": "https://localhost:8080/",
     "height": 1000
    },
    "colab_type": "code",
    "id": "gFMUH3SfgF2h",
    "outputId": "47bd56ce-840b-45de-df8e-997dbea20f8d"
   },
   "outputs": [],
   "source": [
    "embedding_size = 50\n",
    "all = []\n",
    "for file_index,file in enumerate(files):\n",
    "    print('\\n',file,'\\n')\n",
    "    corpus = pd.read_csv(file)\n",
    "    corpus_tokens = [item.lower() for sublist in corpus['sentence'].values.tolist() if pd.notnull(sublist) for item in sublist.split()]\n",
    "    gc.collect()\n",
    "    \n",
    "    corpus_tokens_s = pd.Series(corpus_tokens)\n",
    "    corpus_tokens_probabilities = (corpus_tokens_s.groupby(corpus_tokens_s).transform('count') / len(corpus_tokens_s)).values\n",
    "    corpus_tokens_probabilities = pd.DataFrame(corpus_tokens_probabilities)\n",
    "    corpus_tokens_probabilities['tokens'] = corpus_tokens_s\n",
    "    corpus_tokens_probabilities.columns = ['probability','token']\n",
    "    corpus_tokens_probabilities = corpus_tokens_probabilities.groupby('token').mean()\n",
    "    corpus_tokens_probabilities = corpus_tokens_probabilities.reset_index()\n",
    "    corpus_tokens_probabilities.columns = ['token','probability']\n",
    "\n",
    "    vectors = []\n",
    "    for token in tqdm(corpus_tokens_probabilities['token'],total=corpus_tokens_probabilities.shape[0]):\n",
    "        vectors.append(model.wv[token])\n",
    "    corpus_tokens_probabilities['vector'] = vectors\n",
    "\n",
    "    a = 1e-3\n",
    "\n",
    "    doc_set = []\n",
    "    for doc in tqdm(corpus['sentence'].values.tolist(),total=len(corpus['sentence'].values.tolist())):\n",
    "        vs = np.zeros(embedding_size)  # add all word2vec values into one vector for the sentence\n",
    "        if pd.notnull(doc):\n",
    "            doc_length = len(doc.split())\n",
    "        #     print(doc.split())\n",
    "            for word in doc.lower().split():\n",
    "                a_value = a / (a + corpus_tokens_probabilities[corpus_tokens_probabilities['token']==word]['probability'].values.tolist()[0])  # smooth inverse frequency, SIF\n",
    "                vs = np.add(vs, np.multiply(a_value, corpus_tokens_probabilities[corpus_tokens_probabilities['token']==word]['vector'].values.tolist()[0]))  # vs += sif * word_vector\n",
    "\n",
    "            vs = np.divide(vs, doc_length)  # weighted average\n",
    "            doc_set.append(vs)  # add to our existing re-calculated set of sentences\n",
    "\n",
    "    pd.DataFrame(doc_set).to_csv(datapath+'Corpus/AI Wiki Classifications/applications/clean/vectors/'+names[file_index],index=False)\n",
    "\n",
    "    all.append(pd.DataFrame(doc_set).mean(axis=0))\n",
    "\n",
    "all_df = pd.DataFrame(all)\n",
    "all_df['clusters'] = names\n",
    "all_df.to_csv(datapath+'Corpus/AI Wiki Classifications/applications/clean/vectors/all',index=False)"
   ]
  },
  {
   "cell_type": "markdown",
   "metadata": {},
   "source": [
    "### Get Doc Embedding (averaging)"
   ]
  },
  {
   "cell_type": "code",
   "execution_count": 25,
   "metadata": {},
   "outputs": [
    {
     "name": "stderr",
     "output_type": "stream",
     "text": [
      "100%|██████████| 19710/19710 [00:09<00:00, 2073.87it/s]\n"
     ]
    }
   ],
   "source": [
    "doc_vectors = []\n",
    "for doc in tqdm(corpus['abstracts']):\n",
    "    tokens = doc.split()\n",
    "    doc_vectors.append(np.array([model.wv[token] for token in tokens]).mean(axis=0))\n",
    "pd.DataFrame(doc_vectors).to_csv(datapath+'Corpus/KPRIS/embeddings/FastText Avg large corpus',index=False)"
   ]
  },
  {
   "cell_type": "markdown",
   "metadata": {
    "colab_type": "text",
    "id": "r_m00tKKkKNG"
   },
   "source": [
    "# Train on a large Scopus corpus\n"
   ]
  },
  {
   "cell_type": "markdown",
   "metadata": {
    "colab_type": "text",
    "id": "nz7pfl9d6R9o"
   },
   "source": [
    "#### Load Corpus Sentences"
   ]
  },
  {
   "cell_type": "code",
   "execution_count": null,
   "metadata": {
    "colab": {},
    "colab_type": "code",
    "id": "VuO0J8oxkKWz"
   },
   "outputs": [],
   "source": [
    "sentence_corpus = pd.read_csv(datapath+'Corpus/patent_wos_training_very_large')"
   ]
  },
  {
   "cell_type": "markdown",
   "metadata": {
    "colab_type": "text",
    "id": "JYHEYxwpEgCi"
   },
   "source": [
    "#### Preprocess and prepare corpus for FastText training"
   ]
  },
  {
   "cell_type": "code",
   "execution_count": null,
   "metadata": {
    "colab": {
     "base_uri": "https://localhost:8080/",
     "height": 34
    },
    "colab_type": "code",
    "id": "tkqrGJ3cEgnX",
    "outputId": "0b5441c0-1785-4a1e-83e7-6b6c995d31b1"
   },
   "outputs": [],
   "source": [
    "sentences = []\n",
    "lemmatizer=WordNetLemmatizer()\n",
    "with open(datapath+'corpus/AI ALL/1900-2019 corpus sentences abstract-title further processed.csv', 'w') as f:\n",
    "    for index,row in tqdm(sentence_corpus.iterrows(),total=sentence_corpus.shape[0]):\n",
    "        sentence = row['sentence']\n",
    "        sentence = re.sub(\"&lt;/?.*?&gt;\",\" &lt;&gt; \",sentence)\n",
    "        sentence = word_tokenize(sentence)\n",
    "        sentence = [word for word in sentence if not word in punkts] \n",
    "        sentence = [lemmatizer.lemmatize(word) for word in sentence]\n",
    "        # sentences.append(sentence)\n",
    "        f.write(\"%s\\n\" % ' '.join(sentence))"
   ]
  },
  {
   "cell_type": "markdown",
   "metadata": {
    "colab_type": "text",
    "id": "qQHwYepMdKFc"
   },
   "source": [
    "#### Save sentences to disk for future use -- Not needed anymore"
   ]
  },
  {
   "cell_type": "code",
   "execution_count": null,
   "metadata": {
    "colab": {},
    "colab_type": "code",
    "id": "qJZ0UwdhdOlp"
   },
   "outputs": [],
   "source": [
    "pd.DataFrame([' '.join(words) for words in sentences],columns=['sentences']).to_csv(\n",
    "    datapath+'corpus/AI ALL/1900-2019 corpus sentences abstract-title further processed.csv',\n",
    "    header=True,index=False)"
   ]
  },
  {
   "cell_type": "markdown",
   "metadata": {
    "colab_type": "text",
    "id": "-j6H5hsfu8p0"
   },
   "source": [
    "#### Load pre-processed sentences"
   ]
  },
  {
   "cell_type": "code",
   "execution_count": null,
   "metadata": {
    "colab": {
     "base_uri": "https://localhost:8080/",
     "height": 34
    },
    "colab_type": "code",
    "id": "yLHxqzOPvCdV",
    "outputId": "9171ddac-0f5d-4dfe-8bc9-99e563071495"
   },
   "outputs": [],
   "source": [
    "# sentence_corpus = pd.read_csv(datapath+'Corpus/AI ALL/1900-2019 corpus sentences abstract-title further processed.csv',delimiter=\";;;\")\n",
    "# sentence_corpus.columns = [\"sentence\"]\n",
    "sentences = []\n",
    "sentence_corpus = sentence_corpus.fillna('')\n",
    "for index,row in tqdm(sentence_corpus.iterrows(),total=sentence_corpus.shape[0]):\n",
    "    sentences.append(row['sentence'].split(' '))"
   ]
  },
  {
   "cell_type": "code",
   "execution_count": null,
   "metadata": {
    "colab": {
     "base_uri": "https://localhost:8080/",
     "height": 359
    },
    "colab_type": "code",
    "id": "UA83SDYjwfrO",
    "outputId": "62a9447a-3b75-40ef-bd4a-2910968b284f"
   },
   "outputs": [],
   "source": [
    "sentence_corpus.head(10)"
   ]
  },
  {
   "cell_type": "code",
   "execution_count": null,
   "metadata": {},
   "outputs": [],
   "source": [
    "sentences[:5]"
   ]
  },
  {
   "cell_type": "markdown",
   "metadata": {
    "colab_type": "text",
    "id": "d-9A4hbD7xwV"
   },
   "source": [
    "### Train Fasttext - Gensim"
   ]
  },
  {
   "cell_type": "markdown",
   "metadata": {
    "colab_type": "text",
    "id": "MYfn-ZQfhed1"
   },
   "source": [
    "#### Load a model to continue training"
   ]
  },
  {
   "cell_type": "markdown",
   "metadata": {
    "colab_type": "text",
    "id": "_Bnu7_aMhu-A"
   },
   "source": [
    "* If want to continue training, run this section"
   ]
  },
  {
   "cell_type": "code",
   "execution_count": null,
   "metadata": {
    "colab": {},
    "colab_type": "code",
    "id": "y7eHrQg_g2ej"
   },
   "outputs": [],
   "source": [
    "model = load(gensim_model_address)"
   ]
  },
  {
   "cell_type": "code",
   "execution_count": null,
   "metadata": {
    "colab": {},
    "colab_type": "code",
    "id": "s07ymd4xhtWh"
   },
   "outputs": [],
   "source": [
    "model.build_vocab(sentences, update=True)\n",
    "model.train(sentences, total_examples=len(sentences), epochs=model.epochs)"
   ]
  },
  {
   "cell_type": "markdown",
   "metadata": {
    "colab_type": "text",
    "id": "w9LWfxerh2DI"
   },
   "source": [
    "* Otherwise run this section\n",
    "\n",
    "#### Train"
   ]
  },
  {
   "cell_type": "code",
   "execution_count": null,
   "metadata": {
    "colab": {},
    "colab_type": "code",
    "id": "BsDmFFxp7yJa"
   },
   "outputs": [],
   "source": [
    "model = fasttext_gensim(min_n=3, max_n=6, size=15, window=5, min_count=1, seed = 50)\n",
    "model.build_vocab(sentences=sentences)\n",
    "model.train(sentences=sentences, total_examples=len(sentences), epochs=10)"
   ]
  },
  {
   "cell_type": "code",
   "execution_count": null,
   "metadata": {
    "colab": {},
    "colab_type": "code",
    "id": "RqV_noKRcD4b"
   },
   "outputs": [],
   "source": [
    "fname = \"datapath+Models/fasttext-scopus-2.2-million_docs-gensim 15D.model\"\n",
    "model.save(fname)"
   ]
  },
  {
   "cell_type": "code",
   "execution_count": null,
   "metadata": {
    "colab": {},
    "colab_type": "code",
    "id": "z3vrtHdqHy-K"
   },
   "outputs": [],
   "source": [
    "model = fasttext_gensim(min_n=3, max_n=6, size=50, window=5, min_count=1, seed = 50)\n",
    "model.build_vocab(sentences=sentences)\n",
    "model.train(sentences=sentences, total_examples=len(sentences), epochs=10)\n",
    "fname = datapath+\"Models/fasttext-scopus-2.2-million_docs-gensim 50D.model\"\n",
    "model.save(fname)"
   ]
  },
  {
   "cell_type": "code",
   "execution_count": null,
   "metadata": {
    "colab": {},
    "colab_type": "code",
    "id": "g75Pt__ZH4RZ"
   },
   "outputs": [],
   "source": [
    "model = fasttext_gensim(min_n=3, max_n=12, size=100, window=5, min_count=5, seed = 50)\n",
    "model.build_vocab(sentences=sentences)\n",
    "model.train(sentences=sentences, total_examples=len(sentences), epochs=10,threads=15)\n",
    "fname = datapath+\"FastText Models/100D Oct2020/largge corpus.model\"\n",
    "model.save(fname)"
   ]
  },
  {
   "cell_type": "markdown",
   "metadata": {
    "colab_type": "text",
    "id": "mnTG0yUGiqxw"
   },
   "source": [
    "#### Test model"
   ]
  },
  {
   "cell_type": "code",
   "execution_count": null,
   "metadata": {
    "colab": {},
    "colab_type": "code",
    "id": "AVJoU_sLiw2E"
   },
   "outputs": [],
   "source": [
    "similarities = model.wv.most_similar(positive=['logic','fuzzy','expert'],negative=['deep','neural','network','cnn','ann'])\n",
    "most_similar = similarities[0]"
   ]
  },
  {
   "cell_type": "code",
   "execution_count": null,
   "metadata": {
    "colab": {
     "base_uri": "https://localhost:8080/",
     "height": 34
    },
    "colab_type": "code",
    "id": "JaKS52YSDcup",
    "outputId": "c4257bf2-6134-4a85-df40-d7696a731c57"
   },
   "outputs": [],
   "source": [
    "most_similar"
   ]
  },
  {
   "cell_type": "code",
   "execution_count": null,
   "metadata": {
    "colab": {},
    "colab_type": "code",
    "id": "OkokDJdHjEFz"
   },
   "outputs": [],
   "source": [
    "not_matching = model.wv.doesnt_match(\"human computer interface tree\".split())"
   ]
  },
  {
   "cell_type": "code",
   "execution_count": null,
   "metadata": {
    "colab": {
     "base_uri": "https://localhost:8080/",
     "height": 34
    },
    "colab_type": "code",
    "id": "7fOp26djDYk7",
    "outputId": "3fca5ff0-ac5a-464e-ddf8-4662385b6c82"
   },
   "outputs": [],
   "source": [
    "not_matching"
   ]
  },
  {
   "cell_type": "code",
   "execution_count": null,
   "metadata": {
    "colab": {},
    "colab_type": "code",
    "id": "x7RJl89QjMhl"
   },
   "outputs": [],
   "source": [
    "sim_score = model.wv.similarity('computer', 'human')"
   ]
  },
  {
   "cell_type": "code",
   "execution_count": null,
   "metadata": {
    "colab": {
     "base_uri": "https://localhost:8080/",
     "height": 34
    },
    "colab_type": "code",
    "id": "DtlAXvqWDWo4",
    "outputId": "639a0234-75f9-4fec-c4ee-09d607516050"
   },
   "outputs": [],
   "source": [
    "sim_score"
   ]
  },
  {
   "cell_type": "code",
   "execution_count": null,
   "metadata": {
    "colab": {
     "base_uri": "https://localhost:8080/",
     "height": 187
    },
    "colab_type": "code",
    "id": "xWLLBs8UBRwy",
    "outputId": "836cc23e-4ba9-4dfd-dfaa-21f5dd09f25a"
   },
   "outputs": [],
   "source": [
    "print(model.wv['artificial intelligence'])\n",
    "print(model.wv['artificial'])\n",
    "print(model.wv['intelligence'])"
   ]
  },
  {
   "cell_type": "markdown",
   "metadata": {
    "colab_type": "text",
    "id": "9sSZfjEMUyMc"
   },
   "source": [
    "### Train Fasttext - Facebook"
   ]
  },
  {
   "cell_type": "code",
   "execution_count": null,
   "metadata": {
    "colab": {},
    "colab_type": "code",
    "id": "oK4N7jUqU1CJ"
   },
   "outputs": [],
   "source": [
    "sentences_joined = ' '.join(sentences)\n",
    "model = fasttext.train_unsupervised(sentences_joined, \"cbow\", minn=2, maxn=5, dim=50, epoch=10,lr=0.05)"
   ]
  },
  {
   "cell_type": "markdown",
   "metadata": {
    "colab_type": "text",
    "id": "LLNquk0BaywP"
   },
   "source": [
    "#### Test model"
   ]
  },
  {
   "cell_type": "code",
   "execution_count": null,
   "metadata": {
    "colab": {},
    "colab_type": "code",
    "id": "9i6detxZVMUQ"
   },
   "outputs": [],
   "source": [
    "model.words"
   ]
  },
  {
   "cell_type": "code",
   "execution_count": null,
   "metadata": {
    "colab": {},
    "colab_type": "code",
    "id": "o13SRSefVFDD"
   },
   "outputs": [],
   "source": [
    "model.get_word_vector(\"the\")"
   ]
  },
  {
   "cell_type": "code",
   "execution_count": null,
   "metadata": {
    "colab": {},
    "colab_type": "code",
    "id": "1FvMFASYVNzs"
   },
   "outputs": [],
   "source": [
    "model.get_nearest_neighbors('asparagus')"
   ]
  },
  {
   "cell_type": "code",
   "execution_count": null,
   "metadata": {
    "colab": {},
    "colab_type": "code",
    "id": "TH9Wdf5WV5F8"
   },
   "outputs": [],
   "source": [
    "model.get_analogies(\"intelligence\", \"math\", \"fuzzy\")"
   ]
  },
  {
   "cell_type": "markdown",
   "metadata": {
    "colab_type": "text",
    "id": "JaDnem0pWcNw"
   },
   "source": [
    "#### Save model"
   ]
  },
  {
   "cell_type": "code",
   "execution_count": null,
   "metadata": {
    "colab": {},
    "colab_type": "code",
    "id": "8wjWeyw-Wbpi"
   },
   "outputs": [],
   "source": [
    "model.save_model(datapath+\"fasttext-scopus_wos-merged-310k_docs-facebook.ftz\")"
   ]
  }
 ],
 "metadata": {
  "colab": {
   "collapsed_sections": [
    "r_m00tKKkKNG"
   ],
   "include_colab_link": true,
   "machine_shape": "hm",
   "name": "fasttext_embedding.ipynb",
   "provenance": [],
   "toc_visible": true
  },
  "kernelspec": {
   "display_name": "Python 3",
   "language": "python",
   "name": "python3"
  },
  "language_info": {
   "codemirror_mode": {
    "name": "ipython",
    "version": 3
   },
   "file_extension": ".py",
   "mimetype": "text/x-python",
   "name": "python",
   "nbconvert_exporter": "python",
   "pygments_lexer": "ipython3",
   "version": "3.8.5"
  }
 },
 "nbformat": 4,
 "nbformat_minor": 1
}
